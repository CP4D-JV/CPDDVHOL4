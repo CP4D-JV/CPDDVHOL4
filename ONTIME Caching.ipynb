{
 "cells": [
  {
   "cell_type": "code",
   "execution_count": 1,
   "metadata": {
    "id": "cd505f1f813c42e8b7443e1886cb9689"
   },
   "outputs": [
    {
     "name": "stdout",
     "output_type": "stream",
     "text": [
      "--2021-12-03 14:19:50--  https://raw.githubusercontent.com/Db2-DTE-POC/CPDDVLAB/master/CPDDVRestClassV402.ipynb\n",
      "Resolving raw.githubusercontent.com (raw.githubusercontent.com)... 185.199.109.133, 185.199.111.133, 185.199.108.133, ...\n",
      "Connecting to raw.githubusercontent.com (raw.githubusercontent.com)|185.199.109.133|:443... connected.\n",
      "HTTP request sent, awaiting response... 200 OK\n",
      "Length: 15020 (15K) [text/plain]\n",
      "Saving to: ‘CPDDVRestClassV402.ipynb’\n",
      "\n",
      "CPDDVRestClassV402. 100%[===================>]  14.67K  --.-KB/s    in 0s      \n",
      "\n",
      "2021-12-03 14:19:50 (53.5 MB/s) - ‘CPDDVRestClassV402.ipynb’ saved [15020/15020]\n",
      "\n"
     ]
    }
   ],
   "source": [
    "!wget -O CPDDVRestClassV402.ipynb https://raw.githubusercontent.com/Db2-DTE-POC/CPDDVLAB/master/CPDDVRestClassV402.ipynb\n",
    "%run CPDDVRestClassV402.ipynb"
   ]
  },
  {
   "cell_type": "code",
   "execution_count": 2,
   "metadata": {
    "id": "88eaa71d1cf848af89758daa0cfb5ab8"
   },
   "outputs": [
    {
     "name": "stdout",
     "output_type": "stream",
     "text": [
      "Token Retrieved\n"
     ]
    }
   ],
   "source": [
    "# Set the service URL to connect from inside the ICPD Cluster\n",
    "Console  = 'https://cpd-cpd-instance.apps.demo.ibmdte.net:31192'\n",
    "\n",
    "# Connect to the Db2 Data Management Console service\n",
    "user     = 'admin'\n",
    "password = 'CP4DDataFabric'\n",
    "\n",
    "# Set up the required connection\n",
    "databaseAPI = Db2(Console)\n",
    "api = '/v1'\n",
    "databaseAPI.authenticate(api, user, password)\n",
    "database = Console"
   ]
  },
  {
   "cell_type": "code",
   "execution_count": null,
   "metadata": {
    "id": "0333fcc9f277451b8847c735bbc4a90a"
   },
   "outputs": [],
   "source": [
    "### Display Virtualized Tables and Views \n",
    "display(databaseAPI.getVirtualizedTablesDF())\n",
    "display(databaseAPI.getVirtualizedViewsDF())"
   ]
  },
  {
   "cell_type": "code",
   "execution_count": 3,
   "metadata": {
    "id": "22243e8126fa489c8d7578eef1597fcd"
   },
   "outputs": [
    {
     "data": {
      "text/html": [
       "<div>\n",
       "<style scoped>\n",
       "    .dataframe tbody tr th:only-of-type {\n",
       "        vertical-align: middle;\n",
       "    }\n",
       "\n",
       "    .dataframe tbody tr th {\n",
       "        vertical-align: top;\n",
       "    }\n",
       "\n",
       "    .dataframe thead th {\n",
       "        text-align: right;\n",
       "    }\n",
       "</style>\n",
       "<table border=\"1\" class=\"dataframe\">\n",
       "  <thead>\n",
       "    <tr style=\"text-align: right;\">\n",
       "      <th></th>\n",
       "      <th>id</th>\n",
       "      <th>name</th>\n",
       "      <th>state</th>\n",
       "      <th>size</th>\n",
       "      <th>cardinality</th>\n",
       "      <th>last_refresh_timestamp</th>\n",
       "    </tr>\n",
       "  </thead>\n",
       "  <tbody>\n",
       "    <tr>\n",
       "      <th>1</th>\n",
       "      <td>DV20211110165634403313</td>\n",
       "      <td>BOEING737</td>\n",
       "      <td>Enabled</td>\n",
       "      <td>56967</td>\n",
       "      <td>4172450</td>\n",
       "      <td>2021-11-10 18:30:21.411623</td>\n",
       "    </tr>\n",
       "    <tr>\n",
       "      <th>2</th>\n",
       "      <td>DV20211115151427714635</td>\n",
       "      <td>ONTIME737NJCA</td>\n",
       "      <td>Enabled</td>\n",
       "      <td>554</td>\n",
       "      <td>37621</td>\n",
       "      <td>2021-11-15 15:33:30.254003</td>\n",
       "    </tr>\n",
       "    <tr>\n",
       "      <th>5</th>\n",
       "      <td>DV20211110144113849337</td>\n",
       "      <td>ONTIME0910</td>\n",
       "      <td>Enabled</td>\n",
       "      <td>591398</td>\n",
       "      <td>12752436</td>\n",
       "      <td>2021-11-10 16:32:41.327378</td>\n",
       "    </tr>\n",
       "    <tr>\n",
       "      <th>7</th>\n",
       "      <td>DV20211115221309388288</td>\n",
       "      <td>AIRCRAFT</td>\n",
       "      <td>Enabled</td>\n",
       "      <td>106</td>\n",
       "      <td>13101</td>\n",
       "      <td>2021-12-02 21:59:34.515222</td>\n",
       "    </tr>\n",
       "    <tr>\n",
       "      <th>9</th>\n",
       "      <td>DV2021110817343042456</td>\n",
       "      <td>ChurnAll</td>\n",
       "      <td>Enabled</td>\n",
       "      <td>363</td>\n",
       "      <td>7043</td>\n",
       "      <td>2021-12-02 21:54:01.289865</td>\n",
       "    </tr>\n",
       "    <tr>\n",
       "      <th>10</th>\n",
       "      <td>DV20211110144049703423</td>\n",
       "      <td>ONTIME1115</td>\n",
       "      <td>Enabled</td>\n",
       "      <td>1399806</td>\n",
       "      <td>30190408</td>\n",
       "      <td>2021-11-10 15:01:13.967413</td>\n",
       "    </tr>\n",
       "  </tbody>\n",
       "</table>\n",
       "</div>"
      ],
      "text/plain": [
       "                        id           name    state     size  cardinality  \\\n",
       "1   DV20211110165634403313      BOEING737  Enabled    56967      4172450   \n",
       "2   DV20211115151427714635  ONTIME737NJCA  Enabled      554        37621   \n",
       "5   DV20211110144113849337     ONTIME0910  Enabled   591398     12752436   \n",
       "7   DV20211115221309388288       AIRCRAFT  Enabled      106        13101   \n",
       "9    DV2021110817343042456       ChurnAll  Enabled      363         7043   \n",
       "10  DV20211110144049703423     ONTIME1115  Enabled  1399806     30190408   \n",
       "\n",
       "        last_refresh_timestamp  \n",
       "1   2021-11-10 18:30:21.411623  \n",
       "2   2021-11-15 15:33:30.254003  \n",
       "5   2021-11-10 16:32:41.327378  \n",
       "7   2021-12-02 21:59:34.515222  \n",
       "9   2021-12-02 21:54:01.289865  \n",
       "10  2021-11-10 15:01:13.967413  "
      ]
     },
     "metadata": {},
     "output_type": "display_data"
    }
   ],
   "source": [
    "df = databaseAPI.getCaches('Enabled')\n",
    "display(df[['id', 'name','state','size', 'cardinality','last_refresh_timestamp']])"
   ]
  },
  {
   "cell_type": "code",
   "execution_count": null,
   "metadata": {
    "id": "510289868c874039b211905de1af3f5f"
   },
   "outputs": [],
   "source": [
    "df = databaseAPI.getCaches('Disabled')\n",
    "display(df[['id', 'name','state','size', 'cardinality','last_refresh_timestamp']])"
   ]
  },
  {
   "cell_type": "code",
   "execution_count": null,
   "metadata": {
    "id": "dfa24c442aee4c3a9fc738fb49143fa5"
   },
   "outputs": [],
   "source": [
    "# Enable ONTIME1115\n",
    "databaseAPI.enableCache('DV20211110144113849337')"
   ]
  },
  {
   "cell_type": "code",
   "execution_count": null,
   "metadata": {
    "id": "eae16e86ea114f358a0b3dabbde08681"
   },
   "outputs": [],
   "source": [
    "# Enable ONTIME0910\n",
    "databaseAPI.enableCache('DV20211110144049703423')"
   ]
  },
  {
   "cell_type": "code",
   "execution_count": null,
   "metadata": {
    "id": "f3ae06140cf348988bc95aea1105f025"
   },
   "outputs": [],
   "source": [
    "# Enable AIRCRAFT\n",
    "databaseAPI.enableCache('DV20211115221309388288')"
   ]
  },
  {
   "cell_type": "code",
   "execution_count": null,
   "metadata": {
    "id": "6d92cfeb98d943de8eeaf39bd93fff9e"
   },
   "outputs": [],
   "source": [
    "# Enable BOEING737\n",
    "databaseAPI.enableCache('DV20211110165634403313')"
   ]
  },
  {
   "cell_type": "code",
   "execution_count": null,
   "metadata": {
    "id": "409839952b594b23996947fc36397fec"
   },
   "outputs": [],
   "source": [
    "# Enable ONTIME737NJCA\n",
    "databaseAPI.enableCache('DV20211115151427714635')"
   ]
  },
  {
   "cell_type": "code",
   "execution_count": 4,
   "metadata": {
    "id": "a8727491a745408e8d2377f04d8ed2f9"
   },
   "outputs": [
    {
     "name": "stdout",
     "output_type": "stream",
     "text": [
      "--2021-12-03 14:20:04--  https://raw.githubusercontent.com/Db2-DTE-POC/Db2-Openshift-11.5.4/master/db2.ipynb\n",
      "Resolving raw.githubusercontent.com (raw.githubusercontent.com)... 185.199.109.133, 185.199.111.133, 185.199.108.133, ...\n",
      "Connecting to raw.githubusercontent.com (raw.githubusercontent.com)|185.199.109.133|:443... connected.\n",
      "HTTP request sent, awaiting response... 200 OK\n",
      "Length: 168432 (164K) [text/plain]\n",
      "Saving to: ‘db2.ipynb’\n",
      "\n",
      "db2.ipynb           100%[===================>] 164.48K  --.-KB/s    in 0.005s  \n",
      "\n",
      "2021-12-03 14:20:04 (31.2 MB/s) - ‘db2.ipynb’ saved [168432/168432]\n",
      "\n",
      "Db2 Extensions Loaded.\n",
      "db2.ipynb loaded\n"
     ]
    }
   ],
   "source": [
    "!wget -O db2.ipynb https://raw.githubusercontent.com/Db2-DTE-POC/Db2-Openshift-11.5.4/master/db2.ipynb\n",
    "%run db2.ipynb\n",
    "print('db2.ipynb loaded')"
   ]
  },
  {
   "cell_type": "code",
   "execution_count": 5,
   "metadata": {
    "id": "fe5be419170b4d6c8b295f5ca2e05800"
   },
   "outputs": [
    {
     "name": "stdout",
     "output_type": "stream",
     "text": [
      "Connection successful.\n"
     ]
    }
   ],
   "source": [
    "# Connect to the Data Virtualization Database from inside of IBM Cloud Pak for Data\n",
    "database = 'bigsql'\n",
    "user = 'admin'\n",
    "password = 'CP4DDataFabric'\n",
    "host = 'cpd-cpd-instance.apps.demo.ibmdte.net'\n",
    "port = '31193'\n",
    "\n",
    "%sql CONNECT TO {database} USER {user} USING {password} HOST {host} PORT {port}"
   ]
  },
  {
   "cell_type": "code",
   "execution_count": 6,
   "metadata": {
    "id": "78418d87b59349e9895aa9a1c3d1c667"
   },
   "outputs": [],
   "source": [
    "ontime0910count = %sql SELECT COUNT(*) FROM ONTIME.ONTIME0910;"
   ]
  },
  {
   "cell_type": "code",
   "execution_count": 7,
   "metadata": {
    "id": "ec93bd513a27437d8413893ebdf3ebfd"
   },
   "outputs": [],
   "source": [
    "ontime1115count = %sql SELECT COUNT(*) FROM ONTIME.ONTIME1115;"
   ]
  },
  {
   "cell_type": "code",
   "execution_count": 8,
   "metadata": {
    "id": "d62251bf365d4523a44b79f37a7c7d90"
   },
   "outputs": [],
   "source": [
    "ontime737count = %sql SELECT COUNT(*) FROM ONTIME.BOEING737;"
   ]
  },
  {
   "cell_type": "code",
   "execution_count": 9,
   "metadata": {
    "id": "dda7f3844afe4fd2b1a4326ee8975b8b"
   },
   "outputs": [],
   "source": [
    "ontimenjca737count = %sql SELECT COUNT(*) FROM ONTIME.ONTIME737NJCA;"
   ]
  },
  {
   "cell_type": "code",
   "execution_count": 10,
   "metadata": {
    "id": "d3862e7a158f4af788e16aed98e9bf3c"
   },
   "outputs": [],
   "source": [
    "aircraftcount = %sql SELECT COUNT(*) FROM ONTIME.AIRCRAFT;"
   ]
  },
  {
   "cell_type": "code",
   "execution_count": 11,
   "metadata": {
    "id": "23268a156ac041d7924cf392ebd69b52"
   },
   "outputs": [],
   "source": [
    "ontime0910 = ontime0910count['1'][0]\n",
    "ontime1115 = ontime1115count['1'][0]\n",
    "ontimefull = ontime0910 + ontime1115\n",
    "ontime737 = ontime737count['1'][0]\n",
    "ontimenjca737 = ontimenjca737count['1'][0]\n",
    "aircraft = aircraftcount['1'][0]"
   ]
  },
  {
   "cell_type": "code",
   "execution_count": 12,
   "metadata": {
    "id": "e7b0a70d8fb74afb916bb67c75d09cb2"
   },
   "outputs": [
    {
     "name": "stdout",
     "output_type": "stream",
     "text": [
      "Aircraft:13101.0\n",
      "Number of Domestic Flights in the US\n",
      "Years 2009 to 2010: 12752436.0\n",
      "Years 2011 to 2015: 30190408.0\n",
      "Years 2009 to 2015: 42942844.0\n",
      "Only 737 from 2009 to 2015: 4172450.0\n",
      "Only 737 from NJ to CA: 37621.0\n"
     ]
    }
   ],
   "source": [
    "print('Aircraft:' + str(aircraft))\n",
    "print('Number of Domestic Flights in the US')\n",
    "print('Years 2009 to 2010: ' + str(ontime0910))\n",
    "print('Years 2011 to 2015: ' + str(ontime1115))\n",
    "print('Years 2009 to 2015: ' + str(ontimefull))\n",
    "print('Only 737 from 2009 to 2015: ' + str(ontime737))\n",
    "print('Only 737 from NJ to CA: ' + str(ontimenjca737))"
   ]
  },
  {
   "cell_type": "code",
   "execution_count": 45,
   "metadata": {
    "id": "c2301d9b85d64cdb8ebe753c0d7a53cf"
   },
   "outputs": [
    {
     "name": "stdout",
     "output_type": "stream",
     "text": [
      "Cache: DV20211110144113849337 disabled.\n"
     ]
    }
   ],
   "source": [
    "# Disable ONTIME0910\n",
    "databaseAPI.disableCache('DV20211110144113849337')"
   ]
  },
  {
   "cell_type": "code",
   "execution_count": 46,
   "metadata": {
    "id": "f7e3fd6bea87405489fee6d854e2c1aa"
   },
   "outputs": [
    {
     "name": "stdout",
     "output_type": "stream",
     "text": [
      "Cache: DV20211110144049703423 disabled.\n"
     ]
    }
   ],
   "source": [
    "# Disable ONTIME1115\n",
    "databaseAPI.disableCache('DV20211110144049703423')"
   ]
  },
  {
   "cell_type": "code",
   "execution_count": 47,
   "metadata": {
    "id": "f367e6e9b2e546089ad4138dd0a3416a"
   },
   "outputs": [
    {
     "name": "stdout",
     "output_type": "stream",
     "text": [
      "Cache: DV20211110165634403313 disabled.\n"
     ]
    }
   ],
   "source": [
    "# Disable BOEING737\n",
    "databaseAPI.disableCache('DV20211110165634403313')"
   ]
  },
  {
   "cell_type": "code",
   "execution_count": 48,
   "metadata": {
    "id": "c5e1efc7c6c9484388deb0d9c81c95d8"
   },
   "outputs": [
    {
     "name": "stdout",
     "output_type": "stream",
     "text": [
      "Cache: DV20211115151427714635 disabled.\n"
     ]
    }
   ],
   "source": [
    "# Disable ONTIME737NJCA\n",
    "databaseAPI.disableCache('DV20211115151427714635')"
   ]
  },
  {
   "cell_type": "code",
   "execution_count": 49,
   "metadata": {
    "id": "a13ac26bdf394c468fef3c70d07734c0"
   },
   "outputs": [
    {
     "name": "stdout",
     "output_type": "stream",
     "text": [
      "Cache: DV20211115221309388288 disabled.\n"
     ]
    }
   ],
   "source": [
    "# Disable AIRCRAFT\n",
    "databaseAPI.disableCache('DV20211115221309388288')"
   ]
  },
  {
   "cell_type": "code",
   "execution_count": 18,
   "metadata": {
    "id": "c769f9eaf894442e8e38ebb741f5cbc9"
   },
   "outputs": [
    {
     "data": {
      "text/html": [
       "<div>\n",
       "<style scoped>\n",
       "    .dataframe tbody tr th:only-of-type {\n",
       "        vertical-align: middle;\n",
       "    }\n",
       "\n",
       "    .dataframe tbody tr th {\n",
       "        vertical-align: top;\n",
       "    }\n",
       "\n",
       "    .dataframe thead th {\n",
       "        text-align: right;\n",
       "    }\n",
       "</style>\n",
       "<table border=\"1\" class=\"dataframe\">\n",
       "  <thead>\n",
       "    <tr style=\"text-align: right;\">\n",
       "      <th></th>\n",
       "      <th>id</th>\n",
       "      <th>name</th>\n",
       "      <th>state</th>\n",
       "      <th>size</th>\n",
       "      <th>cardinality</th>\n",
       "      <th>last_refresh_timestamp</th>\n",
       "    </tr>\n",
       "  </thead>\n",
       "  <tbody>\n",
       "    <tr>\n",
       "      <th>9</th>\n",
       "      <td>DV2021110817343042456</td>\n",
       "      <td>ChurnAll</td>\n",
       "      <td>Enabled</td>\n",
       "      <td>363</td>\n",
       "      <td>7043</td>\n",
       "      <td>2021-12-02 21:54:01.289865</td>\n",
       "    </tr>\n",
       "  </tbody>\n",
       "</table>\n",
       "</div>"
      ],
      "text/plain": [
       "                      id      name    state  size  cardinality  \\\n",
       "9  DV2021110817343042456  ChurnAll  Enabled   363         7043   \n",
       "\n",
       "       last_refresh_timestamp  \n",
       "9  2021-12-02 21:54:01.289865  "
      ]
     },
     "metadata": {},
     "output_type": "display_data"
    }
   ],
   "source": [
    "df = databaseAPI.getCaches('Enabled')\n",
    "display(df[['id', 'name','state','size', 'cardinality','last_refresh_timestamp']])"
   ]
  },
  {
   "cell_type": "code",
   "execution_count": 19,
   "metadata": {
    "id": "a5393cf625614d138eb6e32fe21553ef"
   },
   "outputs": [
    {
     "data": {
      "text/html": [
       "<div>\n",
       "<style scoped>\n",
       "    .dataframe tbody tr th:only-of-type {\n",
       "        vertical-align: middle;\n",
       "    }\n",
       "\n",
       "    .dataframe tbody tr th {\n",
       "        vertical-align: top;\n",
       "    }\n",
       "\n",
       "    .dataframe thead th {\n",
       "        text-align: right;\n",
       "    }\n",
       "</style>\n",
       "<table border=\"1\" class=\"dataframe\">\n",
       "  <thead>\n",
       "    <tr style=\"text-align: right;\">\n",
       "      <th></th>\n",
       "      <th>DAYKEY</th>\n",
       "      <th>YEAR</th>\n",
       "      <th>QUARTERKEY</th>\n",
       "      <th>QUARTER</th>\n",
       "      <th>MONTHKEY</th>\n",
       "      <th>MONTH</th>\n",
       "      <th>DAYOFMONTH</th>\n",
       "      <th>DAYOFWEEK</th>\n",
       "      <th>FLIGHTDATE</th>\n",
       "      <th>UNIQUECARRIER</th>\n",
       "      <th>AIRLINEID</th>\n",
       "      <th>CARRIER</th>\n",
       "      <th>TAILNUM</th>\n",
       "      <th>FLIGHTNUM</th>\n",
       "      <th>ORIGINAIRPORTID</th>\n",
       "      <th>ORIGINAIRPORTSEQID</th>\n",
       "      <th>ORIGINCITYMARKETID</th>\n",
       "      <th>ORIGIN</th>\n",
       "      <th>ORIGINCITYNAME</th>\n",
       "      <th>ORIGINSTATE</th>\n",
       "      <th>ORIGINSTATEFIPS</th>\n",
       "      <th>ORIGINSTATENAME</th>\n",
       "      <th>ORIGINWAC</th>\n",
       "      <th>DESTAIRPORTID</th>\n",
       "      <th>DESTAIRPORTSEQID</th>\n",
       "      <th>DESTCITYMARKETID</th>\n",
       "      <th>DEST</th>\n",
       "      <th>DESTCITYNAME</th>\n",
       "      <th>DESTSTATE</th>\n",
       "      <th>DESTSTATEFIPS</th>\n",
       "      <th>DESTSTATENAME</th>\n",
       "      <th>DESTWAC</th>\n",
       "      <th>CRSDEPTIME</th>\n",
       "      <th>DEPTIME</th>\n",
       "      <th>DEPDELAY</th>\n",
       "      <th>DEPDELAYMINUTES</th>\n",
       "      <th>DEPDEL15</th>\n",
       "      <th>DEPARTUREDELAYGROUPS</th>\n",
       "      <th>DEPTIMEBLK</th>\n",
       "      <th>TAXIOUT</th>\n",
       "      <th>WHEELSOFF</th>\n",
       "      <th>WHEELSON</th>\n",
       "      <th>TAXIIN</th>\n",
       "      <th>CRSARRTIME</th>\n",
       "      <th>ARRTIME</th>\n",
       "      <th>ARRDELAY</th>\n",
       "      <th>ARRDELAYMINUTES</th>\n",
       "      <th>ARRDEL15</th>\n",
       "      <th>ARRIVALDELAYGROUPS</th>\n",
       "      <th>ARRTIMEBLK</th>\n",
       "      <th>CANCELLED</th>\n",
       "      <th>CANCELLATIONCODE</th>\n",
       "      <th>DIVERTED</th>\n",
       "      <th>CRSELAPSEDTIME</th>\n",
       "      <th>ACTUALELAPSEDTIME</th>\n",
       "      <th>AIRTIME</th>\n",
       "      <th>FLIGHTS</th>\n",
       "      <th>DISTANCE</th>\n",
       "      <th>DISTANCEGROUP</th>\n",
       "      <th>CARRIERDELAY</th>\n",
       "      <th>WEATHERDELAY</th>\n",
       "      <th>NASDELAY</th>\n",
       "      <th>SECURITYDELAY</th>\n",
       "      <th>LATEAIRCRAFTDELAY</th>\n",
       "      <th>FIRSTDEPTIME</th>\n",
       "      <th>TOTALADDGTIME</th>\n",
       "      <th>LONGESTADDGTIME</th>\n",
       "      <th>DIVAIRPORTLANDINGS</th>\n",
       "      <th>DIVREACHEDDEST</th>\n",
       "      <th>DIVACTUALELAPSEDTIME</th>\n",
       "      <th>DIVARRDELAY</th>\n",
       "      <th>DIVDISTANCE</th>\n",
       "      <th>DIV1AIRPORT</th>\n",
       "      <th>DIV1AIRPORTID</th>\n",
       "      <th>DIV1AIRPORTSEQID</th>\n",
       "      <th>DIV1WHEELSON</th>\n",
       "      <th>DIV1TOTALGTIME</th>\n",
       "      <th>DIV1LONGESTGTIME</th>\n",
       "      <th>DIV1WHEELSOFF</th>\n",
       "      <th>DIV1TAILNUM</th>\n",
       "      <th>DIV2AIRPORT</th>\n",
       "      <th>DIV2AIRPORTID</th>\n",
       "      <th>DIV2AIRPORTSEQID</th>\n",
       "      <th>DIV2WHEELSON</th>\n",
       "      <th>DIV2TOTALGTIME</th>\n",
       "      <th>DIV2LONGESTGTIME</th>\n",
       "      <th>DIV2WHEELSOFF</th>\n",
       "      <th>DIV2TAILNUM</th>\n",
       "      <th>DIV3AIRPORT</th>\n",
       "      <th>DIV3AIRPORTID</th>\n",
       "      <th>DIV3AIRPORTSEQID</th>\n",
       "      <th>DIV3WHEELSON</th>\n",
       "      <th>DIV3TOTALGTIME</th>\n",
       "      <th>DIV3LONGESTGTIME</th>\n",
       "      <th>DIV3WHEELSOFF</th>\n",
       "      <th>DIV3TAILNUM</th>\n",
       "      <th>DIV4AIRPORT</th>\n",
       "      <th>DIV4AIRPORTID</th>\n",
       "      <th>DIV4AIRPORTSEQID</th>\n",
       "      <th>DIV4WHEELSON</th>\n",
       "      <th>DIV4TOTALGTIME</th>\n",
       "      <th>DIV4LONGESTGTIME</th>\n",
       "      <th>DIV4WHEELSOFF</th>\n",
       "      <th>DIV4TAILNUM</th>\n",
       "      <th>DIV5AIRPORT</th>\n",
       "      <th>DIV5AIRPORTID</th>\n",
       "      <th>DIV5AIRPORTSEQID</th>\n",
       "      <th>DIV5WHEELSON</th>\n",
       "      <th>DIV5TOTALGTIME</th>\n",
       "      <th>DIV5LONGESTGTIME</th>\n",
       "      <th>DIV5WHEELSOFF</th>\n",
       "      <th>DIV5TAILNUM</th>\n",
       "      <th>UNKNOWNCOL110</th>\n",
       "      <th>NUMROWS</th>\n",
       "      <th>TAIL_NUMBER</th>\n",
       "      <th>MANUFACTURER</th>\n",
       "      <th>MODEL</th>\n",
       "    </tr>\n",
       "  </thead>\n",
       "  <tbody>\n",
       "    <tr>\n",
       "      <th>0</th>\n",
       "      <td>20091101</td>\n",
       "      <td>2009</td>\n",
       "      <td>200904</td>\n",
       "      <td>4</td>\n",
       "      <td>200911</td>\n",
       "      <td>11</td>\n",
       "      <td>1</td>\n",
       "      <td>7</td>\n",
       "      <td>2009-11-01</td>\n",
       "      <td>CO</td>\n",
       "      <td>19704</td>\n",
       "      <td>CO</td>\n",
       "      <td>N78506</td>\n",
       "      <td>787</td>\n",
       "      <td>11618</td>\n",
       "      <td>1161801</td>\n",
       "      <td>31703</td>\n",
       "      <td>EWR</td>\n",
       "      <td>Newark, NJ</td>\n",
       "      <td>NJ</td>\n",
       "      <td>34</td>\n",
       "      <td>New Jersey</td>\n",
       "      <td>21</td>\n",
       "      <td>14908</td>\n",
       "      <td>1490802</td>\n",
       "      <td>32575</td>\n",
       "      <td>SNA</td>\n",
       "      <td>Santa Ana, CA</td>\n",
       "      <td>CA</td>\n",
       "      <td>6</td>\n",
       "      <td>California</td>\n",
       "      <td>91</td>\n",
       "      <td>1730</td>\n",
       "      <td>2219</td>\n",
       "      <td>289</td>\n",
       "      <td>289</td>\n",
       "      <td>1</td>\n",
       "      <td>12</td>\n",
       "      <td>1700-1759</td>\n",
       "      <td>31</td>\n",
       "      <td>2250</td>\n",
       "      <td>NaN</td>\n",
       "      <td>NaN</td>\n",
       "      <td>2057</td>\n",
       "      <td>NaN</td>\n",
       "      <td>NaN</td>\n",
       "      <td>NaN</td>\n",
       "      <td>NaN</td>\n",
       "      <td>NaN</td>\n",
       "      <td>2000-2059</td>\n",
       "      <td>0</td>\n",
       "      <td>None</td>\n",
       "      <td>1</td>\n",
       "      <td>387</td>\n",
       "      <td>NaN</td>\n",
       "      <td>NaN</td>\n",
       "      <td>1</td>\n",
       "      <td>2433</td>\n",
       "      <td>10</td>\n",
       "      <td>NaN</td>\n",
       "      <td>NaN</td>\n",
       "      <td>NaN</td>\n",
       "      <td>NaN</td>\n",
       "      <td>NaN</td>\n",
       "      <td>None</td>\n",
       "      <td>None</td>\n",
       "      <td>None</td>\n",
       "      <td>1</td>\n",
       "      <td>0.0</td>\n",
       "      <td>None</td>\n",
       "      <td>None</td>\n",
       "      <td>36.0</td>\n",
       "      <td>LAX</td>\n",
       "      <td>12892.0</td>\n",
       "      <td>1289201.0</td>\n",
       "      <td>117.0</td>\n",
       "      <td>5.0</td>\n",
       "      <td>5.0</td>\n",
       "      <td>None</td>\n",
       "      <td>None</td>\n",
       "      <td>None</td>\n",
       "      <td>None</td>\n",
       "      <td>None</td>\n",
       "      <td>None</td>\n",
       "      <td>None</td>\n",
       "      <td>None</td>\n",
       "      <td>None</td>\n",
       "      <td>None</td>\n",
       "      <td>None</td>\n",
       "      <td>None</td>\n",
       "      <td>None</td>\n",
       "      <td>None</td>\n",
       "      <td>None</td>\n",
       "      <td>None</td>\n",
       "      <td>None</td>\n",
       "      <td>None</td>\n",
       "      <td>None</td>\n",
       "      <td>None</td>\n",
       "      <td>None</td>\n",
       "      <td>None</td>\n",
       "      <td>None</td>\n",
       "      <td>None</td>\n",
       "      <td>None</td>\n",
       "      <td>None</td>\n",
       "      <td>None</td>\n",
       "      <td>None</td>\n",
       "      <td>None</td>\n",
       "      <td>None</td>\n",
       "      <td>None</td>\n",
       "      <td>None</td>\n",
       "      <td>None</td>\n",
       "      <td>None</td>\n",
       "      <td>None</td>\n",
       "      <td>1</td>\n",
       "      <td>N78506</td>\n",
       "      <td>Boeing</td>\n",
       "      <td>B737-800PAX</td>\n",
       "    </tr>\n",
       "    <tr>\n",
       "      <th>1</th>\n",
       "      <td>20120809</td>\n",
       "      <td>2012</td>\n",
       "      <td>201203</td>\n",
       "      <td>3</td>\n",
       "      <td>201208</td>\n",
       "      <td>8</td>\n",
       "      <td>9</td>\n",
       "      <td>4</td>\n",
       "      <td>2012-08-09</td>\n",
       "      <td>UA</td>\n",
       "      <td>19977</td>\n",
       "      <td>UA</td>\n",
       "      <td>N16217</td>\n",
       "      <td>1083</td>\n",
       "      <td>11618</td>\n",
       "      <td>1161802</td>\n",
       "      <td>31703</td>\n",
       "      <td>EWR</td>\n",
       "      <td>Newark, NJ</td>\n",
       "      <td>NJ</td>\n",
       "      <td>34</td>\n",
       "      <td>New Jersey</td>\n",
       "      <td>21</td>\n",
       "      <td>14908</td>\n",
       "      <td>1490803</td>\n",
       "      <td>32575</td>\n",
       "      <td>SNA</td>\n",
       "      <td>Santa Ana, CA</td>\n",
       "      <td>CA</td>\n",
       "      <td>6</td>\n",
       "      <td>California</td>\n",
       "      <td>91</td>\n",
       "      <td>1823</td>\n",
       "      <td>2215</td>\n",
       "      <td>232</td>\n",
       "      <td>232</td>\n",
       "      <td>1</td>\n",
       "      <td>12</td>\n",
       "      <td>1800-1859</td>\n",
       "      <td>55</td>\n",
       "      <td>2310</td>\n",
       "      <td>NaN</td>\n",
       "      <td>NaN</td>\n",
       "      <td>2133</td>\n",
       "      <td>NaN</td>\n",
       "      <td>NaN</td>\n",
       "      <td>NaN</td>\n",
       "      <td>NaN</td>\n",
       "      <td>NaN</td>\n",
       "      <td>2100-2159</td>\n",
       "      <td>0</td>\n",
       "      <td>None</td>\n",
       "      <td>1</td>\n",
       "      <td>370</td>\n",
       "      <td>NaN</td>\n",
       "      <td>NaN</td>\n",
       "      <td>1</td>\n",
       "      <td>2434</td>\n",
       "      <td>10</td>\n",
       "      <td>NaN</td>\n",
       "      <td>NaN</td>\n",
       "      <td>NaN</td>\n",
       "      <td>NaN</td>\n",
       "      <td>NaN</td>\n",
       "      <td>None</td>\n",
       "      <td>None</td>\n",
       "      <td>None</td>\n",
       "      <td>1</td>\n",
       "      <td>0.0</td>\n",
       "      <td>None</td>\n",
       "      <td>None</td>\n",
       "      <td>36.0</td>\n",
       "      <td>LAX</td>\n",
       "      <td>12892.0</td>\n",
       "      <td>1289203.0</td>\n",
       "      <td>123.0</td>\n",
       "      <td>8.0</td>\n",
       "      <td>8.0</td>\n",
       "      <td>None</td>\n",
       "      <td>None</td>\n",
       "      <td>None</td>\n",
       "      <td>None</td>\n",
       "      <td>None</td>\n",
       "      <td>None</td>\n",
       "      <td>None</td>\n",
       "      <td>None</td>\n",
       "      <td>None</td>\n",
       "      <td>None</td>\n",
       "      <td>None</td>\n",
       "      <td>None</td>\n",
       "      <td>None</td>\n",
       "      <td>None</td>\n",
       "      <td>None</td>\n",
       "      <td>None</td>\n",
       "      <td>None</td>\n",
       "      <td>None</td>\n",
       "      <td>None</td>\n",
       "      <td>None</td>\n",
       "      <td>None</td>\n",
       "      <td>None</td>\n",
       "      <td>None</td>\n",
       "      <td>None</td>\n",
       "      <td>None</td>\n",
       "      <td>None</td>\n",
       "      <td>None</td>\n",
       "      <td>None</td>\n",
       "      <td>None</td>\n",
       "      <td>None</td>\n",
       "      <td>None</td>\n",
       "      <td>None</td>\n",
       "      <td>None</td>\n",
       "      <td>None</td>\n",
       "      <td>None</td>\n",
       "      <td>1</td>\n",
       "      <td>N16217</td>\n",
       "      <td>Boeing</td>\n",
       "      <td>B737-800PAX</td>\n",
       "    </tr>\n",
       "    <tr>\n",
       "      <th>2</th>\n",
       "      <td>20150531</td>\n",
       "      <td>2015</td>\n",
       "      <td>201502</td>\n",
       "      <td>2</td>\n",
       "      <td>201505</td>\n",
       "      <td>5</td>\n",
       "      <td>31</td>\n",
       "      <td>7</td>\n",
       "      <td>2015-05-31</td>\n",
       "      <td>UA</td>\n",
       "      <td>19977</td>\n",
       "      <td>UA</td>\n",
       "      <td>N37470</td>\n",
       "      <td>1670</td>\n",
       "      <td>11618</td>\n",
       "      <td>1161802</td>\n",
       "      <td>31703</td>\n",
       "      <td>EWR</td>\n",
       "      <td>Newark, NJ</td>\n",
       "      <td>NJ</td>\n",
       "      <td>34</td>\n",
       "      <td>New Jersey</td>\n",
       "      <td>21</td>\n",
       "      <td>14771</td>\n",
       "      <td>1477102</td>\n",
       "      <td>32457</td>\n",
       "      <td>SFO</td>\n",
       "      <td>San Francisco, CA</td>\n",
       "      <td>CA</td>\n",
       "      <td>6</td>\n",
       "      <td>California</td>\n",
       "      <td>91</td>\n",
       "      <td>1500</td>\n",
       "      <td>2019</td>\n",
       "      <td>319</td>\n",
       "      <td>319</td>\n",
       "      <td>1</td>\n",
       "      <td>12</td>\n",
       "      <td>1500-1559</td>\n",
       "      <td>77</td>\n",
       "      <td>2136</td>\n",
       "      <td>34.0</td>\n",
       "      <td>6.0</td>\n",
       "      <td>1815</td>\n",
       "      <td>40.0</td>\n",
       "      <td>385.0</td>\n",
       "      <td>385.0</td>\n",
       "      <td>1.0</td>\n",
       "      <td>12.0</td>\n",
       "      <td>1800-1859</td>\n",
       "      <td>0</td>\n",
       "      <td>None</td>\n",
       "      <td>0</td>\n",
       "      <td>375</td>\n",
       "      <td>441.0</td>\n",
       "      <td>358.0</td>\n",
       "      <td>1</td>\n",
       "      <td>2565</td>\n",
       "      <td>11</td>\n",
       "      <td>0.0</td>\n",
       "      <td>314.0</td>\n",
       "      <td>66.0</td>\n",
       "      <td>0.0</td>\n",
       "      <td>5.0</td>\n",
       "      <td>None</td>\n",
       "      <td>None</td>\n",
       "      <td>None</td>\n",
       "      <td>0</td>\n",
       "      <td>NaN</td>\n",
       "      <td>None</td>\n",
       "      <td>None</td>\n",
       "      <td>NaN</td>\n",
       "      <td></td>\n",
       "      <td>NaN</td>\n",
       "      <td>NaN</td>\n",
       "      <td>NaN</td>\n",
       "      <td>NaN</td>\n",
       "      <td>NaN</td>\n",
       "      <td>None</td>\n",
       "      <td></td>\n",
       "      <td></td>\n",
       "      <td>None</td>\n",
       "      <td>None</td>\n",
       "      <td>None</td>\n",
       "      <td>None</td>\n",
       "      <td>None</td>\n",
       "      <td>None</td>\n",
       "      <td></td>\n",
       "      <td></td>\n",
       "      <td>None</td>\n",
       "      <td>None</td>\n",
       "      <td>None</td>\n",
       "      <td>None</td>\n",
       "      <td>None</td>\n",
       "      <td>None</td>\n",
       "      <td></td>\n",
       "      <td></td>\n",
       "      <td>None</td>\n",
       "      <td>None</td>\n",
       "      <td>None</td>\n",
       "      <td>None</td>\n",
       "      <td>None</td>\n",
       "      <td>None</td>\n",
       "      <td></td>\n",
       "      <td></td>\n",
       "      <td>None</td>\n",
       "      <td>None</td>\n",
       "      <td>None</td>\n",
       "      <td>None</td>\n",
       "      <td>None</td>\n",
       "      <td>None</td>\n",
       "      <td></td>\n",
       "      <td>None</td>\n",
       "      <td>1</td>\n",
       "      <td>N37470</td>\n",
       "      <td>Boeing</td>\n",
       "      <td>B737-900ERPAX</td>\n",
       "    </tr>\n",
       "    <tr>\n",
       "      <th>3</th>\n",
       "      <td>20120810</td>\n",
       "      <td>2012</td>\n",
       "      <td>201203</td>\n",
       "      <td>3</td>\n",
       "      <td>201208</td>\n",
       "      <td>8</td>\n",
       "      <td>10</td>\n",
       "      <td>5</td>\n",
       "      <td>2012-08-10</td>\n",
       "      <td>UA</td>\n",
       "      <td>19977</td>\n",
       "      <td>UA</td>\n",
       "      <td>N73291</td>\n",
       "      <td>17</td>\n",
       "      <td>11618</td>\n",
       "      <td>1161802</td>\n",
       "      <td>31703</td>\n",
       "      <td>EWR</td>\n",
       "      <td>Newark, NJ</td>\n",
       "      <td>NJ</td>\n",
       "      <td>34</td>\n",
       "      <td>New Jersey</td>\n",
       "      <td>21</td>\n",
       "      <td>12892</td>\n",
       "      <td>1289203</td>\n",
       "      <td>32575</td>\n",
       "      <td>LAX</td>\n",
       "      <td>Los Angeles, CA</td>\n",
       "      <td>CA</td>\n",
       "      <td>6</td>\n",
       "      <td>California</td>\n",
       "      <td>91</td>\n",
       "      <td>1300</td>\n",
       "      <td>1847</td>\n",
       "      <td>347</td>\n",
       "      <td>347</td>\n",
       "      <td>1</td>\n",
       "      <td>12</td>\n",
       "      <td>1300-1359</td>\n",
       "      <td>39</td>\n",
       "      <td>1926</td>\n",
       "      <td>2141.0</td>\n",
       "      <td>31.0</td>\n",
       "      <td>1552</td>\n",
       "      <td>2212.0</td>\n",
       "      <td>380.0</td>\n",
       "      <td>380.0</td>\n",
       "      <td>1.0</td>\n",
       "      <td>12.0</td>\n",
       "      <td>1500-1559</td>\n",
       "      <td>0</td>\n",
       "      <td>None</td>\n",
       "      <td>0</td>\n",
       "      <td>352</td>\n",
       "      <td>385.0</td>\n",
       "      <td>315.0</td>\n",
       "      <td>1</td>\n",
       "      <td>2454</td>\n",
       "      <td>10</td>\n",
       "      <td>347.0</td>\n",
       "      <td>0.0</td>\n",
       "      <td>33.0</td>\n",
       "      <td>0.0</td>\n",
       "      <td>0.0</td>\n",
       "      <td>None</td>\n",
       "      <td>None</td>\n",
       "      <td>None</td>\n",
       "      <td>0</td>\n",
       "      <td>NaN</td>\n",
       "      <td>None</td>\n",
       "      <td>None</td>\n",
       "      <td>NaN</td>\n",
       "      <td>None</td>\n",
       "      <td>NaN</td>\n",
       "      <td>NaN</td>\n",
       "      <td>NaN</td>\n",
       "      <td>NaN</td>\n",
       "      <td>NaN</td>\n",
       "      <td>None</td>\n",
       "      <td>None</td>\n",
       "      <td>None</td>\n",
       "      <td>None</td>\n",
       "      <td>None</td>\n",
       "      <td>None</td>\n",
       "      <td>None</td>\n",
       "      <td>None</td>\n",
       "      <td>None</td>\n",
       "      <td>None</td>\n",
       "      <td>None</td>\n",
       "      <td>None</td>\n",
       "      <td>None</td>\n",
       "      <td>None</td>\n",
       "      <td>None</td>\n",
       "      <td>None</td>\n",
       "      <td>None</td>\n",
       "      <td>None</td>\n",
       "      <td>None</td>\n",
       "      <td>None</td>\n",
       "      <td>None</td>\n",
       "      <td>None</td>\n",
       "      <td>None</td>\n",
       "      <td>None</td>\n",
       "      <td>None</td>\n",
       "      <td>None</td>\n",
       "      <td>None</td>\n",
       "      <td>None</td>\n",
       "      <td>None</td>\n",
       "      <td>None</td>\n",
       "      <td>None</td>\n",
       "      <td>None</td>\n",
       "      <td>None</td>\n",
       "      <td>None</td>\n",
       "      <td>None</td>\n",
       "      <td>1</td>\n",
       "      <td>N73291</td>\n",
       "      <td>Boeing</td>\n",
       "      <td>B737-800PAX</td>\n",
       "    </tr>\n",
       "    <tr>\n",
       "      <th>4</th>\n",
       "      <td>20150615</td>\n",
       "      <td>2015</td>\n",
       "      <td>201502</td>\n",
       "      <td>2</td>\n",
       "      <td>201506</td>\n",
       "      <td>6</td>\n",
       "      <td>15</td>\n",
       "      <td>1</td>\n",
       "      <td>2015-06-15</td>\n",
       "      <td>UA</td>\n",
       "      <td>19977</td>\n",
       "      <td>UA</td>\n",
       "      <td>N78524</td>\n",
       "      <td>1289</td>\n",
       "      <td>11618</td>\n",
       "      <td>1161802</td>\n",
       "      <td>31703</td>\n",
       "      <td>EWR</td>\n",
       "      <td>Newark, NJ</td>\n",
       "      <td>NJ</td>\n",
       "      <td>34</td>\n",
       "      <td>New Jersey</td>\n",
       "      <td>21</td>\n",
       "      <td>12892</td>\n",
       "      <td>1289203</td>\n",
       "      <td>32575</td>\n",
       "      <td>LAX</td>\n",
       "      <td>Los Angeles, CA</td>\n",
       "      <td>CA</td>\n",
       "      <td>6</td>\n",
       "      <td>California</td>\n",
       "      <td>91</td>\n",
       "      <td>1610</td>\n",
       "      <td>2158</td>\n",
       "      <td>348</td>\n",
       "      <td>348</td>\n",
       "      <td>1</td>\n",
       "      <td>12</td>\n",
       "      <td>1600-1659</td>\n",
       "      <td>32</td>\n",
       "      <td>2230</td>\n",
       "      <td>52.0</td>\n",
       "      <td>30.0</td>\n",
       "      <td>1908</td>\n",
       "      <td>122.0</td>\n",
       "      <td>374.0</td>\n",
       "      <td>374.0</td>\n",
       "      <td>1.0</td>\n",
       "      <td>12.0</td>\n",
       "      <td>1900-1959</td>\n",
       "      <td>0</td>\n",
       "      <td>None</td>\n",
       "      <td>0</td>\n",
       "      <td>358</td>\n",
       "      <td>384.0</td>\n",
       "      <td>322.0</td>\n",
       "      <td>1</td>\n",
       "      <td>2454</td>\n",
       "      <td>10</td>\n",
       "      <td>0.0</td>\n",
       "      <td>12.0</td>\n",
       "      <td>26.0</td>\n",
       "      <td>0.0</td>\n",
       "      <td>336.0</td>\n",
       "      <td>None</td>\n",
       "      <td>None</td>\n",
       "      <td>None</td>\n",
       "      <td>0</td>\n",
       "      <td>NaN</td>\n",
       "      <td>None</td>\n",
       "      <td>None</td>\n",
       "      <td>NaN</td>\n",
       "      <td></td>\n",
       "      <td>NaN</td>\n",
       "      <td>NaN</td>\n",
       "      <td>NaN</td>\n",
       "      <td>NaN</td>\n",
       "      <td>NaN</td>\n",
       "      <td>None</td>\n",
       "      <td></td>\n",
       "      <td></td>\n",
       "      <td>None</td>\n",
       "      <td>None</td>\n",
       "      <td>None</td>\n",
       "      <td>None</td>\n",
       "      <td>None</td>\n",
       "      <td>None</td>\n",
       "      <td></td>\n",
       "      <td></td>\n",
       "      <td>None</td>\n",
       "      <td>None</td>\n",
       "      <td>None</td>\n",
       "      <td>None</td>\n",
       "      <td>None</td>\n",
       "      <td>None</td>\n",
       "      <td></td>\n",
       "      <td></td>\n",
       "      <td>None</td>\n",
       "      <td>None</td>\n",
       "      <td>None</td>\n",
       "      <td>None</td>\n",
       "      <td>None</td>\n",
       "      <td>None</td>\n",
       "      <td></td>\n",
       "      <td></td>\n",
       "      <td>None</td>\n",
       "      <td>None</td>\n",
       "      <td>None</td>\n",
       "      <td>None</td>\n",
       "      <td>None</td>\n",
       "      <td>None</td>\n",
       "      <td></td>\n",
       "      <td>None</td>\n",
       "      <td>1</td>\n",
       "      <td>N78524</td>\n",
       "      <td>Boeing</td>\n",
       "      <td>B737-800PAX</td>\n",
       "    </tr>\n",
       "  </tbody>\n",
       "</table>\n",
       "</div>"
      ],
      "text/plain": [
       "     DAYKEY  YEAR  QUARTERKEY  QUARTER  MONTHKEY  MONTH  DAYOFMONTH  \\\n",
       "0  20091101  2009      200904        4    200911     11           1   \n",
       "1  20120809  2012      201203        3    201208      8           9   \n",
       "2  20150531  2015      201502        2    201505      5          31   \n",
       "3  20120810  2012      201203        3    201208      8          10   \n",
       "4  20150615  2015      201502        2    201506      6          15   \n",
       "\n",
       "   DAYOFWEEK FLIGHTDATE UNIQUECARRIER  AIRLINEID CARRIER TAILNUM  FLIGHTNUM  \\\n",
       "0          7 2009-11-01            CO      19704      CO  N78506        787   \n",
       "1          4 2012-08-09            UA      19977      UA  N16217       1083   \n",
       "2          7 2015-05-31            UA      19977      UA  N37470       1670   \n",
       "3          5 2012-08-10            UA      19977      UA  N73291         17   \n",
       "4          1 2015-06-15            UA      19977      UA  N78524       1289   \n",
       "\n",
       "   ORIGINAIRPORTID  ORIGINAIRPORTSEQID  ORIGINCITYMARKETID ORIGIN  \\\n",
       "0            11618             1161801               31703    EWR   \n",
       "1            11618             1161802               31703    EWR   \n",
       "2            11618             1161802               31703    EWR   \n",
       "3            11618             1161802               31703    EWR   \n",
       "4            11618             1161802               31703    EWR   \n",
       "\n",
       "  ORIGINCITYNAME ORIGINSTATE  ORIGINSTATEFIPS ORIGINSTATENAME  ORIGINWAC  \\\n",
       "0     Newark, NJ          NJ               34      New Jersey         21   \n",
       "1     Newark, NJ          NJ               34      New Jersey         21   \n",
       "2     Newark, NJ          NJ               34      New Jersey         21   \n",
       "3     Newark, NJ          NJ               34      New Jersey         21   \n",
       "4     Newark, NJ          NJ               34      New Jersey         21   \n",
       "\n",
       "   DESTAIRPORTID  DESTAIRPORTSEQID  DESTCITYMARKETID DEST  \\\n",
       "0          14908           1490802             32575  SNA   \n",
       "1          14908           1490803             32575  SNA   \n",
       "2          14771           1477102             32457  SFO   \n",
       "3          12892           1289203             32575  LAX   \n",
       "4          12892           1289203             32575  LAX   \n",
       "\n",
       "                       DESTCITYNAME DESTSTATE  DESTSTATEFIPS DESTSTATENAME  \\\n",
       "0  Santa Ana, CA                           CA              6    California   \n",
       "1  Santa Ana, CA                           CA              6    California   \n",
       "2  San Francisco, CA                       CA              6    California   \n",
       "3  Los Angeles, CA                         CA              6    California   \n",
       "4  Los Angeles, CA                         CA              6    California   \n",
       "\n",
       "   DESTWAC  CRSDEPTIME  DEPTIME  DEPDELAY  DEPDELAYMINUTES  DEPDEL15  \\\n",
       "0       91        1730     2219       289              289         1   \n",
       "1       91        1823     2215       232              232         1   \n",
       "2       91        1500     2019       319              319         1   \n",
       "3       91        1300     1847       347              347         1   \n",
       "4       91        1610     2158       348              348         1   \n",
       "\n",
       "   DEPARTUREDELAYGROUPS DEPTIMEBLK  TAXIOUT  WHEELSOFF  WHEELSON  TAXIIN  \\\n",
       "0                    12  1700-1759       31       2250       NaN     NaN   \n",
       "1                    12  1800-1859       55       2310       NaN     NaN   \n",
       "2                    12  1500-1559       77       2136      34.0     6.0   \n",
       "3                    12  1300-1359       39       1926    2141.0    31.0   \n",
       "4                    12  1600-1659       32       2230      52.0    30.0   \n",
       "\n",
       "   CRSARRTIME  ARRTIME  ARRDELAY  ARRDELAYMINUTES  ARRDEL15  \\\n",
       "0        2057      NaN       NaN              NaN       NaN   \n",
       "1        2133      NaN       NaN              NaN       NaN   \n",
       "2        1815     40.0     385.0            385.0       1.0   \n",
       "3        1552   2212.0     380.0            380.0       1.0   \n",
       "4        1908    122.0     374.0            374.0       1.0   \n",
       "\n",
       "   ARRIVALDELAYGROUPS ARRTIMEBLK  CANCELLED CANCELLATIONCODE  DIVERTED  \\\n",
       "0                 NaN  2000-2059          0             None         1   \n",
       "1                 NaN  2100-2159          0             None         1   \n",
       "2                12.0  1800-1859          0             None         0   \n",
       "3                12.0  1500-1559          0             None         0   \n",
       "4                12.0  1900-1959          0             None         0   \n",
       "\n",
       "   CRSELAPSEDTIME  ACTUALELAPSEDTIME  AIRTIME  FLIGHTS  DISTANCE  \\\n",
       "0             387                NaN      NaN        1      2433   \n",
       "1             370                NaN      NaN        1      2434   \n",
       "2             375              441.0    358.0        1      2565   \n",
       "3             352              385.0    315.0        1      2454   \n",
       "4             358              384.0    322.0        1      2454   \n",
       "\n",
       "   DISTANCEGROUP  CARRIERDELAY  WEATHERDELAY  NASDELAY  SECURITYDELAY  \\\n",
       "0             10           NaN           NaN       NaN            NaN   \n",
       "1             10           NaN           NaN       NaN            NaN   \n",
       "2             11           0.0         314.0      66.0            0.0   \n",
       "3             10         347.0           0.0      33.0            0.0   \n",
       "4             10           0.0          12.0      26.0            0.0   \n",
       "\n",
       "   LATEAIRCRAFTDELAY FIRSTDEPTIME TOTALADDGTIME LONGESTADDGTIME  \\\n",
       "0                NaN         None          None            None   \n",
       "1                NaN         None          None            None   \n",
       "2                5.0         None          None            None   \n",
       "3                0.0         None          None            None   \n",
       "4              336.0         None          None            None   \n",
       "\n",
       "   DIVAIRPORTLANDINGS  DIVREACHEDDEST DIVACTUALELAPSEDTIME DIVARRDELAY  \\\n",
       "0                   1             0.0                 None        None   \n",
       "1                   1             0.0                 None        None   \n",
       "2                   0             NaN                 None        None   \n",
       "3                   0             NaN                 None        None   \n",
       "4                   0             NaN                 None        None   \n",
       "\n",
       "   DIVDISTANCE DIV1AIRPORT  DIV1AIRPORTID  DIV1AIRPORTSEQID  DIV1WHEELSON  \\\n",
       "0         36.0         LAX        12892.0         1289201.0         117.0   \n",
       "1         36.0         LAX        12892.0         1289203.0         123.0   \n",
       "2          NaN                        NaN               NaN           NaN   \n",
       "3          NaN        None            NaN               NaN           NaN   \n",
       "4          NaN                        NaN               NaN           NaN   \n",
       "\n",
       "   DIV1TOTALGTIME  DIV1LONGESTGTIME DIV1WHEELSOFF DIV1TAILNUM DIV2AIRPORT  \\\n",
       "0             5.0               5.0          None        None        None   \n",
       "1             8.0               8.0          None        None        None   \n",
       "2             NaN               NaN          None                           \n",
       "3             NaN               NaN          None        None        None   \n",
       "4             NaN               NaN          None                           \n",
       "\n",
       "  DIV2AIRPORTID DIV2AIRPORTSEQID DIV2WHEELSON DIV2TOTALGTIME DIV2LONGESTGTIME  \\\n",
       "0          None             None         None           None             None   \n",
       "1          None             None         None           None             None   \n",
       "2          None             None         None           None             None   \n",
       "3          None             None         None           None             None   \n",
       "4          None             None         None           None             None   \n",
       "\n",
       "  DIV2WHEELSOFF DIV2TAILNUM DIV3AIRPORT DIV3AIRPORTID DIV3AIRPORTSEQID  \\\n",
       "0          None        None        None          None             None   \n",
       "1          None        None        None          None             None   \n",
       "2          None                                  None             None   \n",
       "3          None        None        None          None             None   \n",
       "4          None                                  None             None   \n",
       "\n",
       "  DIV3WHEELSON DIV3TOTALGTIME DIV3LONGESTGTIME DIV3WHEELSOFF DIV3TAILNUM  \\\n",
       "0         None           None             None          None        None   \n",
       "1         None           None             None          None        None   \n",
       "2         None           None             None          None               \n",
       "3         None           None             None          None        None   \n",
       "4         None           None             None          None               \n",
       "\n",
       "  DIV4AIRPORT DIV4AIRPORTID DIV4AIRPORTSEQID DIV4WHEELSON DIV4TOTALGTIME  \\\n",
       "0        None          None             None         None           None   \n",
       "1        None          None             None         None           None   \n",
       "2                      None             None         None           None   \n",
       "3        None          None             None         None           None   \n",
       "4                      None             None         None           None   \n",
       "\n",
       "  DIV4LONGESTGTIME DIV4WHEELSOFF DIV4TAILNUM DIV5AIRPORT DIV5AIRPORTID  \\\n",
       "0             None          None        None        None          None   \n",
       "1             None          None        None        None          None   \n",
       "2             None          None                                  None   \n",
       "3             None          None        None        None          None   \n",
       "4             None          None                                  None   \n",
       "\n",
       "  DIV5AIRPORTSEQID DIV5WHEELSON DIV5TOTALGTIME DIV5LONGESTGTIME DIV5WHEELSOFF  \\\n",
       "0             None         None           None             None          None   \n",
       "1             None         None           None             None          None   \n",
       "2             None         None           None             None          None   \n",
       "3             None         None           None             None          None   \n",
       "4             None         None           None             None          None   \n",
       "\n",
       "  DIV5TAILNUM UNKNOWNCOL110  NUMROWS TAIL_NUMBER MANUFACTURER          MODEL  \n",
       "0        None          None        1      N78506       Boeing    B737-800PAX  \n",
       "1        None          None        1      N16217       Boeing    B737-800PAX  \n",
       "2                      None        1      N37470       Boeing  B737-900ERPAX  \n",
       "3        None          None        1      N73291       Boeing    B737-800PAX  \n",
       "4                      None        1      N78524       Boeing    B737-800PAX  "
      ]
     },
     "execution_count": 19,
     "metadata": {},
     "output_type": "execute_result"
    }
   ],
   "source": [
    "%%sql \n",
    "SELECT * FROM \"ONTIME\".\"ONTIME\" OT, \"ONTIME\".\"AIRCRAFT\" AC \n",
    "  WHERE AC.\"TAIL_NUMBER\" = OT.TAILNUM\n",
    "  AND ORIGINSTATE = 'NJ'\n",
    "  AND DESTSTATE = 'CA'\n",
    "  AND MANUFACTURER = 'Boeing' \n",
    "  AND AC.MODEL LIKE 'B737%'\n",
    "  AND OT.TAXIOUT > 30\n",
    "  AND OT.DISTANCE > 2000\n",
    "  AND OT.DEPDELAY > 200\n",
    "  ORDER BY OT.ARRDELAY DESC\n",
    "  FETCH FIRST 5 ROWS ONLY"
   ]
  },
  {
   "cell_type": "code",
   "execution_count": 20,
   "metadata": {
    "id": "0426171f745d4dbbbd8d1ffd79ef96f3"
   },
   "outputs": [],
   "source": [
    "%%capture result\n",
    "%%time\n",
    "%%sql \n",
    "SELECT * FROM \"ONTIME\".\"ONTIME\" OT, \"ONTIME\".\"AIRCRAFT\" AC \n",
    "  WHERE AC.\"TAIL_NUMBER\" = OT.TAILNUM\n",
    "  AND ORIGINSTATE = 'NJ'\n",
    "  AND DESTSTATE = 'CA'\n",
    "  AND MANUFACTURER = 'Boeing' \n",
    "  AND AC.MODEL LIKE 'B737%'\n",
    "  AND OT.TAXIOUT > 30\n",
    "  AND OT.DISTANCE > 2000\n",
    "  AND OT.DEPDELAY > 200\n",
    "  ORDER BY OT.ARRDELAY DESC\n",
    "  FETCH FIRST 5 ROWS ONLY"
   ]
  },
  {
   "cell_type": "code",
   "execution_count": 21,
   "metadata": {
    "id": "1588204b75aa41208a26e255b63d2072",
    "scrolled": true
   },
   "outputs": [
    {
     "name": "stdout",
     "output_type": "stream",
     "text": [
      "CPU times: user 15.7 ms, sys: 1.31 ms, total: 17 ms\n",
      "Wall time: 1min 23s\n",
      "\n",
      "CPU times: user 15.7 ms, sys: 1.31 ms, total: 17 ms\n",
      "Wall time: 1min 23s\n",
      "\n",
      "Time: 83 s\n",
      "Total Time: 83 s\n"
     ]
    }
   ],
   "source": [
    "print(result)\n",
    "sqldvnocachetimer = Timer()\n",
    "sqldvnocachetimer.timeTotal()"
   ]
  },
  {
   "cell_type": "code",
   "execution_count": 50,
   "metadata": {
    "id": "4f960147eb6542e19da89246f1bc0d34"
   },
   "outputs": [
    {
     "name": "stdout",
     "output_type": "stream",
     "text": [
      "Cache: DV20211110144113849337 enabled.\n"
     ]
    }
   ],
   "source": [
    "# Enable ONTIME1115\n",
    "databaseAPI.enableCache('DV20211110144113849337')"
   ]
  },
  {
   "cell_type": "code",
   "execution_count": 51,
   "metadata": {
    "id": "50e6c077ab484123aa1c1edf3363fc00"
   },
   "outputs": [
    {
     "name": "stdout",
     "output_type": "stream",
     "text": [
      "Cache: DV20211110144049703423 enabled.\n"
     ]
    }
   ],
   "source": [
    "# Enable ONTIME0910\n",
    "databaseAPI.enableCache('DV20211110144049703423')"
   ]
  },
  {
   "cell_type": "code",
   "execution_count": 52,
   "metadata": {
    "id": "d645633c92ea44bc80079c1f98c9bcb0"
   },
   "outputs": [
    {
     "name": "stdout",
     "output_type": "stream",
     "text": [
      "Cache: DV20211115221309388288 enabled.\n"
     ]
    }
   ],
   "source": [
    "# Enable AIRCRAFT\n",
    "databaseAPI.enableCache('DV20211115221309388288')"
   ]
  },
  {
   "cell_type": "code",
   "execution_count": 25,
   "metadata": {
    "id": "e89328163ab54564972508d206b44567"
   },
   "outputs": [
    {
     "data": {
      "text/html": [
       "<div>\n",
       "<style scoped>\n",
       "    .dataframe tbody tr th:only-of-type {\n",
       "        vertical-align: middle;\n",
       "    }\n",
       "\n",
       "    .dataframe tbody tr th {\n",
       "        vertical-align: top;\n",
       "    }\n",
       "\n",
       "    .dataframe thead th {\n",
       "        text-align: right;\n",
       "    }\n",
       "</style>\n",
       "<table border=\"1\" class=\"dataframe\">\n",
       "  <thead>\n",
       "    <tr style=\"text-align: right;\">\n",
       "      <th></th>\n",
       "      <th>id</th>\n",
       "      <th>name</th>\n",
       "      <th>state</th>\n",
       "      <th>size</th>\n",
       "      <th>cardinality</th>\n",
       "      <th>last_refresh_timestamp</th>\n",
       "    </tr>\n",
       "  </thead>\n",
       "  <tbody>\n",
       "    <tr>\n",
       "      <th>5</th>\n",
       "      <td>DV20211110144113849337</td>\n",
       "      <td>ONTIME0910</td>\n",
       "      <td>Enabled</td>\n",
       "      <td>591398</td>\n",
       "      <td>12752436</td>\n",
       "      <td>2021-11-10 16:32:41.327378</td>\n",
       "    </tr>\n",
       "    <tr>\n",
       "      <th>7</th>\n",
       "      <td>DV20211115221309388288</td>\n",
       "      <td>AIRCRAFT</td>\n",
       "      <td>Enabled</td>\n",
       "      <td>106</td>\n",
       "      <td>13101</td>\n",
       "      <td>2021-12-02 21:59:34.515222</td>\n",
       "    </tr>\n",
       "    <tr>\n",
       "      <th>9</th>\n",
       "      <td>DV2021110817343042456</td>\n",
       "      <td>ChurnAll</td>\n",
       "      <td>Enabled</td>\n",
       "      <td>363</td>\n",
       "      <td>7043</td>\n",
       "      <td>2021-12-02 21:54:01.289865</td>\n",
       "    </tr>\n",
       "    <tr>\n",
       "      <th>10</th>\n",
       "      <td>DV20211110144049703423</td>\n",
       "      <td>ONTIME1115</td>\n",
       "      <td>Enabled</td>\n",
       "      <td>1399806</td>\n",
       "      <td>30190408</td>\n",
       "      <td>2021-11-10 15:01:13.967413</td>\n",
       "    </tr>\n",
       "  </tbody>\n",
       "</table>\n",
       "</div>"
      ],
      "text/plain": [
       "                        id        name    state     size  cardinality  \\\n",
       "5   DV20211110144113849337  ONTIME0910  Enabled   591398     12752436   \n",
       "7   DV20211115221309388288    AIRCRAFT  Enabled      106        13101   \n",
       "9    DV2021110817343042456    ChurnAll  Enabled      363         7043   \n",
       "10  DV20211110144049703423  ONTIME1115  Enabled  1399806     30190408   \n",
       "\n",
       "        last_refresh_timestamp  \n",
       "5   2021-11-10 16:32:41.327378  \n",
       "7   2021-12-02 21:59:34.515222  \n",
       "9   2021-12-02 21:54:01.289865  \n",
       "10  2021-11-10 15:01:13.967413  "
      ]
     },
     "metadata": {},
     "output_type": "display_data"
    }
   ],
   "source": [
    "df = databaseAPI.getCaches('Enabled')\n",
    "display(df[['id', 'name','state','size', 'cardinality','last_refresh_timestamp']])"
   ]
  },
  {
   "cell_type": "code",
   "execution_count": 26,
   "metadata": {
    "id": "f5725c54c2c14a71a1d3443c6a9d2d76"
   },
   "outputs": [],
   "source": [
    "%%capture result\n",
    "%%time\n",
    "%%sql \n",
    "SELECT * FROM \"ONTIME\".\"ONTIME\" OT, \"ONTIME\".\"AIRCRAFT\" AC \n",
    "  WHERE AC.\"TAIL_NUMBER\" = OT.TAILNUM\n",
    "  AND ORIGINSTATE = 'NJ'\n",
    "  AND DESTSTATE = 'CA'\n",
    "  AND MANUFACTURER = 'Boeing' \n",
    "  AND AC.MODEL LIKE 'B737%'\n",
    "  AND OT.TAXIOUT > 30\n",
    "  AND OT.DISTANCE > 2000\n",
    "  AND OT.DEPDELAY > 200\n",
    "  ORDER BY OT.ARRDELAY DESC\n",
    "  FETCH FIRST 5 ROWS ONLY"
   ]
  },
  {
   "cell_type": "code",
   "execution_count": 27,
   "metadata": {
    "id": "2a591dc2d2574e0787e45d2a3f612d37",
    "scrolled": true
   },
   "outputs": [
    {
     "name": "stdout",
     "output_type": "stream",
     "text": [
      "CPU times: user 13.6 ms, sys: 2.74 ms, total: 16.3 ms\n",
      "Wall time: 1min 2s\n",
      "\n",
      "CPU times: user 13.6 ms, sys: 2.74 ms, total: 16.3 ms\n",
      "Wall time: 1min 2s\n",
      "\n",
      "Time: 62 s\n",
      "Total Time: 62 s\n"
     ]
    }
   ],
   "source": [
    "print(result)\n",
    "sqldvbigcachetimer = Timer()\n",
    "sqldvbigcachetimer.timeTotal()"
   ]
  },
  {
   "cell_type": "code",
   "execution_count": 53,
   "metadata": {
    "id": "157e48687ca9426b84c18d209c0decee"
   },
   "outputs": [
    {
     "name": "stdout",
     "output_type": "stream",
     "text": [
      "Cache: DV20211110165634403313 enabled.\n"
     ]
    }
   ],
   "source": [
    "# Enable BOEING737\n",
    "databaseAPI.enableCache('DV20211110165634403313')"
   ]
  },
  {
   "cell_type": "code",
   "execution_count": 54,
   "metadata": {
    "id": "441426d516724d0a8f4c24db05c85581"
   },
   "outputs": [
    {
     "name": "stdout",
     "output_type": "stream",
     "text": [
      "Cache: DV20211115151427714635 enabled.\n"
     ]
    }
   ],
   "source": [
    "# Enable ONTIME737NJCA\n",
    "databaseAPI.enableCache('DV20211115151427714635')"
   ]
  },
  {
   "cell_type": "code",
   "execution_count": 30,
   "metadata": {
    "id": "1f3a072485f1495ca643c79afabce548"
   },
   "outputs": [],
   "source": [
    "%%capture result\n",
    "%%time\n",
    "%%sql \n",
    "SELECT * FROM \"ONTIME\".\"BOEING737\" OT, \"ONTIME\".\"AIRCRAFT\" AC \n",
    "  WHERE ORIGINSTATE = 'NJ'\n",
    "  AND DESTSTATE = 'CA'\n",
    "  AND TAXIOUT > 30\n",
    "  AND DISTANCE > 2000\n",
    "  AND DEPDELAY > 200\n",
    "  ORDER BY OT.ARRDELAY DESC\n",
    "  FETCH FIRST 5 ROWS ONLY"
   ]
  },
  {
   "cell_type": "code",
   "execution_count": 31,
   "metadata": {
    "id": "f9237941a8aa489a8e9f1522d2e8b83d"
   },
   "outputs": [
    {
     "name": "stdout",
     "output_type": "stream",
     "text": [
      "CPU times: user 5.07 ms, sys: 826 us, total: 5.9 ms\n",
      "Wall time: 10.5 s\n",
      "\n",
      "Time: 10.5 s\n",
      "Total Time: 10.5 s\n"
     ]
    }
   ],
   "source": [
    "sqldvfocusedcachetimer = Timer()\n",
    "sqldvfocusedcachetimer.timeTotal()"
   ]
  },
  {
   "cell_type": "code",
   "execution_count": 32,
   "metadata": {
    "id": "d71e502221d145e09e53b9482ca2882b"
   },
   "outputs": [],
   "source": [
    "%%capture result\n",
    "%%time\n",
    "%%sql \n",
    "SELECT * FROM ONTIME.ONTIME737NJCA WHERE \n",
    "  TAXIOUT > 30\n",
    "  AND DISTANCE > 2000\n",
    "  AND DEPDELAY > 200\n",
    "  ORDER BY ARRDELAY DESC\n",
    "  FETCH FIRST 5 ROWS ONLY"
   ]
  },
  {
   "cell_type": "code",
   "execution_count": 33,
   "metadata": {
    "id": "66d0598ecd9f4377ae18e216452e52f6"
   },
   "outputs": [
    {
     "name": "stdout",
     "output_type": "stream",
     "text": [
      "CPU times: user 6.36 ms, sys: 978 us, total: 7.34 ms\n",
      "Wall time: 4.84 s\n",
      "\n",
      "Time: 4.84 s\n",
      "Total Time: 4.84 s\n"
     ]
    }
   ],
   "source": [
    "sqldvsmallcachetimer = Timer()\n",
    "sqldvsmallcachetimer.timeTotal()"
   ]
  },
  {
   "cell_type": "code",
   "execution_count": 34,
   "metadata": {
    "id": "5a44ef7f674a4893852f64b7daad5663"
   },
   "outputs": [
    {
     "data": {
      "text/html": [
       "<div>\n",
       "<style scoped>\n",
       "    .dataframe tbody tr th:only-of-type {\n",
       "        vertical-align: middle;\n",
       "    }\n",
       "\n",
       "    .dataframe tbody tr th {\n",
       "        vertical-align: top;\n",
       "    }\n",
       "\n",
       "    .dataframe thead th {\n",
       "        text-align: right;\n",
       "    }\n",
       "</style>\n",
       "<table border=\"1\" class=\"dataframe\">\n",
       "  <thead>\n",
       "    <tr style=\"text-align: right;\">\n",
       "      <th></th>\n",
       "      <th>id</th>\n",
       "      <th>name</th>\n",
       "      <th>size</th>\n",
       "      <th>cardinality</th>\n",
       "      <th>last_refresh_timestamp</th>\n",
       "    </tr>\n",
       "  </thead>\n",
       "  <tbody>\n",
       "    <tr>\n",
       "      <th>1</th>\n",
       "      <td>DV20211110165634403313</td>\n",
       "      <td>BOEING737</td>\n",
       "      <td>56967</td>\n",
       "      <td>4172450</td>\n",
       "      <td>2021-11-10 18:30:21.411623</td>\n",
       "    </tr>\n",
       "    <tr>\n",
       "      <th>2</th>\n",
       "      <td>DV20211115151427714635</td>\n",
       "      <td>ONTIME737NJCA</td>\n",
       "      <td>554</td>\n",
       "      <td>37621</td>\n",
       "      <td>2021-11-15 15:33:30.254003</td>\n",
       "    </tr>\n",
       "    <tr>\n",
       "      <th>5</th>\n",
       "      <td>DV20211110144113849337</td>\n",
       "      <td>ONTIME0910</td>\n",
       "      <td>591398</td>\n",
       "      <td>12752436</td>\n",
       "      <td>2021-11-10 16:32:41.327378</td>\n",
       "    </tr>\n",
       "    <tr>\n",
       "      <th>7</th>\n",
       "      <td>DV20211115221309388288</td>\n",
       "      <td>AIRCRAFT</td>\n",
       "      <td>106</td>\n",
       "      <td>13101</td>\n",
       "      <td>2021-12-02 21:59:34.515222</td>\n",
       "    </tr>\n",
       "    <tr>\n",
       "      <th>9</th>\n",
       "      <td>DV2021110817343042456</td>\n",
       "      <td>ChurnAll</td>\n",
       "      <td>363</td>\n",
       "      <td>7043</td>\n",
       "      <td>2021-12-02 21:54:01.289865</td>\n",
       "    </tr>\n",
       "    <tr>\n",
       "      <th>10</th>\n",
       "      <td>DV20211110144049703423</td>\n",
       "      <td>ONTIME1115</td>\n",
       "      <td>1399806</td>\n",
       "      <td>30190408</td>\n",
       "      <td>2021-11-10 15:01:13.967413</td>\n",
       "    </tr>\n",
       "  </tbody>\n",
       "</table>\n",
       "</div>"
      ],
      "text/plain": [
       "                        id           name     size  cardinality  \\\n",
       "1   DV20211110165634403313      BOEING737    56967      4172450   \n",
       "2   DV20211115151427714635  ONTIME737NJCA      554        37621   \n",
       "5   DV20211110144113849337     ONTIME0910   591398     12752436   \n",
       "7   DV20211115221309388288       AIRCRAFT      106        13101   \n",
       "9    DV2021110817343042456       ChurnAll      363         7043   \n",
       "10  DV20211110144049703423     ONTIME1115  1399806     30190408   \n",
       "\n",
       "        last_refresh_timestamp  \n",
       "1   2021-11-10 18:30:21.411623  \n",
       "2   2021-11-15 15:33:30.254003  \n",
       "5   2021-11-10 16:32:41.327378  \n",
       "7   2021-12-02 21:59:34.515222  \n",
       "9   2021-12-02 21:54:01.289865  \n",
       "10  2021-11-10 15:01:13.967413  "
      ]
     },
     "metadata": {},
     "output_type": "display_data"
    }
   ],
   "source": [
    "df = databaseAPI.getCaches('Enabled')\n",
    "display(df[['id', 'name','size', 'cardinality','last_refresh_timestamp']])"
   ]
  },
  {
   "cell_type": "code",
   "execution_count": 35,
   "metadata": {
    "id": "85eceb160fe848b4958e173e72959a55"
   },
   "outputs": [
    {
     "name": "stdout",
     "output_type": "stream",
     "text": [
      "Connection successful.\n"
     ]
    }
   ],
   "source": [
    "# Connect to the Db2 Warehouse Database from inside of IBM Cloud Pak for Data\n",
    "database = 'ONTIME'\n",
    "user = 'admin'\n",
    "password = 'CP4DDataFabric'\n",
    "host = 'cpd-cpd-instance.apps.demo.ibmdte.net'\n",
    "port = '31175'\n",
    "\n",
    "%sql CONNECT TO {database} USER {user} USING {password} HOST {host} PORT {port}"
   ]
  },
  {
   "cell_type": "code",
   "execution_count": 36,
   "metadata": {
    "id": "e99806f922cc4d7bb93e3c5bdf509d4d"
   },
   "outputs": [
    {
     "name": "stdout",
     "output_type": "stream",
     "text": [
      "CPU times: user 8.49 ms, sys: 73 µs, total: 8.56 ms\n",
      "Wall time: 95.8 ms\n"
     ]
    },
    {
     "data": {
      "text/html": [
       "<div>\n",
       "<style scoped>\n",
       "    .dataframe tbody tr th:only-of-type {\n",
       "        vertical-align: middle;\n",
       "    }\n",
       "\n",
       "    .dataframe tbody tr th {\n",
       "        vertical-align: top;\n",
       "    }\n",
       "\n",
       "    .dataframe thead th {\n",
       "        text-align: right;\n",
       "    }\n",
       "</style>\n",
       "<table border=\"1\" class=\"dataframe\">\n",
       "  <thead>\n",
       "    <tr style=\"text-align: right;\">\n",
       "      <th></th>\n",
       "      <th>TAIL_NUMBER</th>\n",
       "      <th>MANUFACTURER</th>\n",
       "      <th>MODEL</th>\n",
       "      <th>UNIQUECARRIER</th>\n",
       "      <th>AIRLINEID</th>\n",
       "      <th>CARRIER</th>\n",
       "      <th>TAILNUM</th>\n",
       "      <th>FLIGHTNUM</th>\n",
       "      <th>ORIGINAIRPORTID</th>\n",
       "      <th>ORIGINAIRPORTSEQID</th>\n",
       "      <th>ORIGINCITYNAME</th>\n",
       "      <th>ORIGINSTATE</th>\n",
       "      <th>DESTAIRPORTID</th>\n",
       "      <th>DESTCITYNAME</th>\n",
       "      <th>DESTSTATE</th>\n",
       "      <th>DEPTIME</th>\n",
       "      <th>DEPDELAY</th>\n",
       "      <th>TAXIOUT</th>\n",
       "      <th>WHEELSOFF</th>\n",
       "      <th>WHEELSON</th>\n",
       "      <th>TAXIIN</th>\n",
       "      <th>ARRTIME</th>\n",
       "      <th>ARRDELAY</th>\n",
       "      <th>ARRDELAYMINUTES</th>\n",
       "      <th>CANCELLED</th>\n",
       "      <th>AIRTIME</th>\n",
       "      <th>DISTANCE</th>\n",
       "    </tr>\n",
       "  </thead>\n",
       "  <tbody>\n",
       "    <tr>\n",
       "      <th>0</th>\n",
       "      <td>N78506</td>\n",
       "      <td>Boeing</td>\n",
       "      <td>B737-800PAX</td>\n",
       "      <td>CO</td>\n",
       "      <td>19704</td>\n",
       "      <td>CO</td>\n",
       "      <td>N78506</td>\n",
       "      <td>787</td>\n",
       "      <td>11618</td>\n",
       "      <td>1161801</td>\n",
       "      <td>Newark, NJ</td>\n",
       "      <td>NJ</td>\n",
       "      <td>14908</td>\n",
       "      <td>Santa Ana, CA</td>\n",
       "      <td>CA</td>\n",
       "      <td>2219</td>\n",
       "      <td>289</td>\n",
       "      <td>31</td>\n",
       "      <td>2250</td>\n",
       "      <td>NaN</td>\n",
       "      <td>NaN</td>\n",
       "      <td>NaN</td>\n",
       "      <td>NaN</td>\n",
       "      <td>NaN</td>\n",
       "      <td>0</td>\n",
       "      <td>NaN</td>\n",
       "      <td>2433</td>\n",
       "    </tr>\n",
       "    <tr>\n",
       "      <th>1</th>\n",
       "      <td>N16217</td>\n",
       "      <td>Boeing</td>\n",
       "      <td>B737-800PAX</td>\n",
       "      <td>UA</td>\n",
       "      <td>19977</td>\n",
       "      <td>UA</td>\n",
       "      <td>N16217</td>\n",
       "      <td>1083</td>\n",
       "      <td>11618</td>\n",
       "      <td>1161802</td>\n",
       "      <td>Newark, NJ</td>\n",
       "      <td>NJ</td>\n",
       "      <td>14908</td>\n",
       "      <td>Santa Ana, CA</td>\n",
       "      <td>CA</td>\n",
       "      <td>2215</td>\n",
       "      <td>232</td>\n",
       "      <td>55</td>\n",
       "      <td>2310</td>\n",
       "      <td>NaN</td>\n",
       "      <td>NaN</td>\n",
       "      <td>NaN</td>\n",
       "      <td>NaN</td>\n",
       "      <td>NaN</td>\n",
       "      <td>0</td>\n",
       "      <td>NaN</td>\n",
       "      <td>2434</td>\n",
       "    </tr>\n",
       "    <tr>\n",
       "      <th>2</th>\n",
       "      <td>N37470</td>\n",
       "      <td>Boeing</td>\n",
       "      <td>B737-900ERPAX</td>\n",
       "      <td>UA</td>\n",
       "      <td>19977</td>\n",
       "      <td>UA</td>\n",
       "      <td>N37470</td>\n",
       "      <td>1670</td>\n",
       "      <td>11618</td>\n",
       "      <td>1161802</td>\n",
       "      <td>Newark, NJ</td>\n",
       "      <td>NJ</td>\n",
       "      <td>14771</td>\n",
       "      <td>San Francisco, CA</td>\n",
       "      <td>CA</td>\n",
       "      <td>2019</td>\n",
       "      <td>319</td>\n",
       "      <td>77</td>\n",
       "      <td>2136</td>\n",
       "      <td>34.0</td>\n",
       "      <td>6.0</td>\n",
       "      <td>40.0</td>\n",
       "      <td>385.0</td>\n",
       "      <td>385.0</td>\n",
       "      <td>0</td>\n",
       "      <td>358.0</td>\n",
       "      <td>2565</td>\n",
       "    </tr>\n",
       "    <tr>\n",
       "      <th>3</th>\n",
       "      <td>N73291</td>\n",
       "      <td>Boeing</td>\n",
       "      <td>B737-800PAX</td>\n",
       "      <td>UA</td>\n",
       "      <td>19977</td>\n",
       "      <td>UA</td>\n",
       "      <td>N73291</td>\n",
       "      <td>17</td>\n",
       "      <td>11618</td>\n",
       "      <td>1161802</td>\n",
       "      <td>Newark, NJ</td>\n",
       "      <td>NJ</td>\n",
       "      <td>12892</td>\n",
       "      <td>Los Angeles, CA</td>\n",
       "      <td>CA</td>\n",
       "      <td>1847</td>\n",
       "      <td>347</td>\n",
       "      <td>39</td>\n",
       "      <td>1926</td>\n",
       "      <td>2141.0</td>\n",
       "      <td>31.0</td>\n",
       "      <td>2212.0</td>\n",
       "      <td>380.0</td>\n",
       "      <td>380.0</td>\n",
       "      <td>0</td>\n",
       "      <td>315.0</td>\n",
       "      <td>2454</td>\n",
       "    </tr>\n",
       "    <tr>\n",
       "      <th>4</th>\n",
       "      <td>N78524</td>\n",
       "      <td>Boeing</td>\n",
       "      <td>B737-800PAX</td>\n",
       "      <td>UA</td>\n",
       "      <td>19977</td>\n",
       "      <td>UA</td>\n",
       "      <td>N78524</td>\n",
       "      <td>1289</td>\n",
       "      <td>11618</td>\n",
       "      <td>1161802</td>\n",
       "      <td>Newark, NJ</td>\n",
       "      <td>NJ</td>\n",
       "      <td>12892</td>\n",
       "      <td>Los Angeles, CA</td>\n",
       "      <td>CA</td>\n",
       "      <td>2158</td>\n",
       "      <td>348</td>\n",
       "      <td>32</td>\n",
       "      <td>2230</td>\n",
       "      <td>52.0</td>\n",
       "      <td>30.0</td>\n",
       "      <td>122.0</td>\n",
       "      <td>374.0</td>\n",
       "      <td>374.0</td>\n",
       "      <td>0</td>\n",
       "      <td>322.0</td>\n",
       "      <td>2454</td>\n",
       "    </tr>\n",
       "  </tbody>\n",
       "</table>\n",
       "</div>"
      ],
      "text/plain": [
       "  TAIL_NUMBER MANUFACTURER          MODEL UNIQUECARRIER  AIRLINEID CARRIER  \\\n",
       "0      N78506       Boeing    B737-800PAX            CO      19704      CO   \n",
       "1      N16217       Boeing    B737-800PAX            UA      19977      UA   \n",
       "2      N37470       Boeing  B737-900ERPAX            UA      19977      UA   \n",
       "3      N73291       Boeing    B737-800PAX            UA      19977      UA   \n",
       "4      N78524       Boeing    B737-800PAX            UA      19977      UA   \n",
       "\n",
       "  TAILNUM  FLIGHTNUM  ORIGINAIRPORTID  ORIGINAIRPORTSEQID ORIGINCITYNAME  \\\n",
       "0  N78506        787            11618             1161801     Newark, NJ   \n",
       "1  N16217       1083            11618             1161802     Newark, NJ   \n",
       "2  N37470       1670            11618             1161802     Newark, NJ   \n",
       "3  N73291         17            11618             1161802     Newark, NJ   \n",
       "4  N78524       1289            11618             1161802     Newark, NJ   \n",
       "\n",
       "  ORIGINSTATE  DESTAIRPORTID                      DESTCITYNAME DESTSTATE  \\\n",
       "0          NJ          14908  Santa Ana, CA                           CA   \n",
       "1          NJ          14908  Santa Ana, CA                           CA   \n",
       "2          NJ          14771  San Francisco, CA                       CA   \n",
       "3          NJ          12892  Los Angeles, CA                         CA   \n",
       "4          NJ          12892  Los Angeles, CA                         CA   \n",
       "\n",
       "   DEPTIME  DEPDELAY  TAXIOUT  WHEELSOFF  WHEELSON  TAXIIN  ARRTIME  ARRDELAY  \\\n",
       "0     2219       289       31       2250       NaN     NaN      NaN       NaN   \n",
       "1     2215       232       55       2310       NaN     NaN      NaN       NaN   \n",
       "2     2019       319       77       2136      34.0     6.0     40.0     385.0   \n",
       "3     1847       347       39       1926    2141.0    31.0   2212.0     380.0   \n",
       "4     2158       348       32       2230      52.0    30.0    122.0     374.0   \n",
       "\n",
       "   ARRDELAYMINUTES  CANCELLED  AIRTIME  DISTANCE  \n",
       "0              NaN          0      NaN      2433  \n",
       "1              NaN          0      NaN      2434  \n",
       "2            385.0          0    358.0      2565  \n",
       "3            380.0          0    315.0      2454  \n",
       "4            374.0          0    322.0      2454  "
      ]
     },
     "execution_count": 36,
     "metadata": {},
     "output_type": "execute_result"
    }
   ],
   "source": [
    "%%time\n",
    "%%sql \n",
    "SELECT AC.\"TAIL_NUMBER\", AC.\"MANUFACTURER\", AC.\"MODEL\", OT.\"UNIQUECARRIER\", OT.\"AIRLINEID\", OT.\"CARRIER\", OT.\"TAILNUM\", OT.\"FLIGHTNUM\", OT.\"ORIGINAIRPORTID\", OT.\"ORIGINAIRPORTSEQID\", OT.\"ORIGINCITYNAME\", OT.\"ORIGINSTATE\", OT.\"DESTAIRPORTID\", OT.\"DESTCITYNAME\", OT.\"DESTSTATE\", OT.\"DEPTIME\", OT.\"DEPDELAY\", OT.\"TAXIOUT\", OT.\"WHEELSOFF\", OT.\"WHEELSON\", OT.\"TAXIIN\", OT.\"ARRTIME\", OT.\"ARRDELAY\", OT.\"ARRDELAYMINUTES\", OT.\"CANCELLED\", OT.\"AIRTIME\", OT.\"DISTANCE\"\n",
    "  FROM \"ONTIME\".\"ONTIME\" OT, \"ONTIME\".\"AIRCRAFT\" AC \n",
    "  WHERE AC.\"TAIL_NUMBER\" = OT.TAILNUM\n",
    "  AND ORIGINSTATE = 'NJ'\n",
    "  AND DESTSTATE = 'CA'\n",
    "  AND AC.MANUFACTURER = 'Boeing' \n",
    "  AND AC.MODEL LIKE 'B737%'\n",
    "  AND OT.TAXIOUT > 30\n",
    "  AND OT.DISTANCE > 1800\n",
    "  AND OT.DEPDELAY > 200\n",
    "  ORDER BY OT.ARRDELAY DESC\n",
    "  FETCH FIRST 5 ROWS ONLY"
   ]
  },
  {
   "cell_type": "code",
   "execution_count": 37,
   "metadata": {
    "id": "7cb66bfdaef748c3b7792c6d10b50f74"
   },
   "outputs": [
    {
     "name": "stdout",
     "output_type": "stream",
     "text": [
      "CPU times: user 2.85 ms, sys: 957 µs, total: 3.81 ms\n",
      "Wall time: 22.9 ms\n"
     ]
    },
    {
     "data": {
      "text/html": [
       "<div>\n",
       "<style scoped>\n",
       "    .dataframe tbody tr th:only-of-type {\n",
       "        vertical-align: middle;\n",
       "    }\n",
       "\n",
       "    .dataframe tbody tr th {\n",
       "        vertical-align: top;\n",
       "    }\n",
       "\n",
       "    .dataframe thead th {\n",
       "        text-align: right;\n",
       "    }\n",
       "</style>\n",
       "<table border=\"1\" class=\"dataframe\">\n",
       "  <thead>\n",
       "    <tr style=\"text-align: right;\">\n",
       "      <th></th>\n",
       "      <th>1</th>\n",
       "    </tr>\n",
       "  </thead>\n",
       "  <tbody>\n",
       "    <tr>\n",
       "      <th>0</th>\n",
       "      <td>42942844.0</td>\n",
       "    </tr>\n",
       "  </tbody>\n",
       "</table>\n",
       "</div>"
      ],
      "text/plain": [
       "            1\n",
       "0  42942844.0"
      ]
     },
     "execution_count": 37,
     "metadata": {},
     "output_type": "execute_result"
    }
   ],
   "source": [
    "%%time\n",
    "%%sql \n",
    "SELECT COUNT(*)\n",
    "  FROM \"ONTIME\".\"ONTIME\" "
   ]
  },
  {
   "cell_type": "code",
   "execution_count": 38,
   "metadata": {
    "id": "e53841e5901c401787eb75e0bcc8ab63"
   },
   "outputs": [
    {
     "name": "stdout",
     "output_type": "stream",
     "text": [
      "CPU times: user 2.77 ms, sys: 1.13 ms, total: 3.9 ms\n",
      "Wall time: 478 ms\n"
     ]
    },
    {
     "data": {
      "text/html": [
       "<div>\n",
       "<style scoped>\n",
       "    .dataframe tbody tr th:only-of-type {\n",
       "        vertical-align: middle;\n",
       "    }\n",
       "\n",
       "    .dataframe tbody tr th {\n",
       "        vertical-align: top;\n",
       "    }\n",
       "\n",
       "    .dataframe thead th {\n",
       "        text-align: right;\n",
       "    }\n",
       "</style>\n",
       "<table border=\"1\" class=\"dataframe\">\n",
       "  <thead>\n",
       "    <tr style=\"text-align: right;\">\n",
       "      <th></th>\n",
       "      <th>YEAR</th>\n",
       "    </tr>\n",
       "  </thead>\n",
       "  <tbody>\n",
       "    <tr>\n",
       "      <th>0</th>\n",
       "      <td>2009</td>\n",
       "    </tr>\n",
       "    <tr>\n",
       "      <th>1</th>\n",
       "      <td>2010</td>\n",
       "    </tr>\n",
       "    <tr>\n",
       "      <th>2</th>\n",
       "      <td>2011</td>\n",
       "    </tr>\n",
       "    <tr>\n",
       "      <th>3</th>\n",
       "      <td>2012</td>\n",
       "    </tr>\n",
       "    <tr>\n",
       "      <th>4</th>\n",
       "      <td>2013</td>\n",
       "    </tr>\n",
       "    <tr>\n",
       "      <th>5</th>\n",
       "      <td>2014</td>\n",
       "    </tr>\n",
       "    <tr>\n",
       "      <th>6</th>\n",
       "      <td>2015</td>\n",
       "    </tr>\n",
       "  </tbody>\n",
       "</table>\n",
       "</div>"
      ],
      "text/plain": [
       "   YEAR\n",
       "0  2009\n",
       "1  2010\n",
       "2  2011\n",
       "3  2012\n",
       "4  2013\n",
       "5  2014\n",
       "6  2015"
      ]
     },
     "execution_count": 38,
     "metadata": {},
     "output_type": "execute_result"
    }
   ],
   "source": [
    "%%time\n",
    "%%sql \n",
    "SELECT UNIQUE(YEAR) AS YEAR\n",
    "  FROM \"ONTIME\".\"ONTIME\" ORDER BY YEAR"
   ]
  },
  {
   "cell_type": "code",
   "execution_count": 39,
   "metadata": {
    "id": "7697c0eae73c42c785be84cac4d5ce70"
   },
   "outputs": [],
   "source": [
    "%%capture result\n",
    "%%time\n",
    "%%sql \n",
    "SELECT AC.\"TAIL_NUMBER\", AC.\"MANUFACTURER\", AC.\"MODEL\", OT.\"UNIQUECARRIER\", OT.\"AIRLINEID\", OT.\"CARRIER\", OT.\"TAILNUM\", OT.\"FLIGHTNUM\", OT.\"ORIGINAIRPORTID\", OT.\"ORIGINAIRPORTSEQID\", OT.\"ORIGINCITYNAME\", OT.\"ORIGINSTATE\", OT.\"DESTAIRPORTID\", OT.\"DESTCITYNAME\", OT.\"DESTSTATE\", OT.\"DEPTIME\", OT.\"DEPDELAY\", OT.\"TAXIOUT\", OT.\"WHEELSOFF\", OT.\"WHEELSON\", OT.\"TAXIIN\", OT.\"ARRTIME\", OT.\"ARRDELAY\", OT.\"ARRDELAYMINUTES\", OT.\"CANCELLED\", OT.\"AIRTIME\", OT.\"DISTANCE\"\n",
    "  FROM \"ONTIME\".\"ONTIME\" OT, \"ONTIME\".\"AIRCRAFT\" AC \n",
    "  WHERE AC.\"TAIL_NUMBER\" = OT.TAILNUM\n",
    "  AND ORIGINSTATE = 'NJ'\n",
    "  AND DESTSTATE = 'CA'\n",
    "  AND AC.MANUFACTURER = 'Boeing' \n",
    "  AND AC.MODEL LIKE 'B737%'\n",
    "  AND OT.TAXIOUT > 30\n",
    "  AND OT.DISTANCE > 2000\n",
    "  AND OT.DEPDELAY > 200\n",
    "  ORDER BY OT.ARRDELAY DESC\n",
    "  FETCH FIRST 5 ROWS ONLY"
   ]
  },
  {
   "cell_type": "code",
   "execution_count": 40,
   "metadata": {
    "id": "aeff42f968ec4a13a86b5c51dd66bc33"
   },
   "outputs": [
    {
     "name": "stdout",
     "output_type": "stream",
     "text": [
      "CPU times: user 6.71 ms, sys: 993 us, total: 7.7 ms\n",
      "Wall time: 154 ms\n",
      "\n",
      "CPU times: user 6.71 ms, sys: 993 us, total: 7.7 ms\n",
      "Wall time: 154 ms\n",
      "\n",
      "Time: 0.154 s\n",
      "Total Time: 0.154 s\n"
     ]
    }
   ],
   "source": [
    "print(result)\n",
    "sqldb2wtimer = Timer()\n",
    "sqldb2wtimer.timeTotal()"
   ]
  },
  {
   "cell_type": "code",
   "execution_count": 41,
   "metadata": {
    "id": "322ae26222f2446cba274f515f4b74bb"
   },
   "outputs": [
    {
     "name": "stdout",
     "output_type": "stream",
     "text": [
      "DV No Cache Query 2009-2015: 83 s\n",
      "DV Full Cache Query 2009-2015: 62 s\n",
      "DV 737 Cache Query 2009-2015: 10.5 s\n",
      "DV 737 NJ to CA Cache Query 2009-2015: 4.84 s\n",
      "Db2 Warehouse Query 2009-2015: 0.154 s\n"
     ]
    }
   ],
   "source": [
    "dvnocache = sqldvnocachetimer.getTotalTime()/1000\n",
    "dvfullcache = sqldvbigcachetimer.getTotalTime()/1000\n",
    "dv737cache = sqldvfocusedcachetimer.getTotalTime()/1000\n",
    "dv737njcacache = sqldvsmallcachetimer.getTotalTime()/1000\n",
    "db2w = sqldb2wtimer.getTotalTime()/1000\n",
    "print(\"DV No Cache Query 2009-2015: \" + str(dvnocache) + \" s\")\n",
    "print(\"DV Full Cache Query 2009-2015: \" + str(dvfullcache) + \" s\")\n",
    "print(\"DV 737 Cache Query 2009-2015: \" + str(dv737cache) + \" s\")\n",
    "print(\"DV 737 NJ to CA Cache Query 2009-2015: \" + str(dv737njcacache) + \" s\")\n",
    "print(\"Db2 Warehouse Query 2009-2015: \" + str(db2w) + \" s\")"
   ]
  },
  {
   "cell_type": "code",
   "execution_count": 42,
   "metadata": {
    "id": "ebe694c7dea24de28402ced2b30ed27b"
   },
   "outputs": [
    {
     "data": {
      "text/plain": [
       "<Figure size 432x288 with 0 Axes>"
      ]
     },
     "metadata": {},
     "output_type": "display_data"
    },
    {
     "data": {
      "image/png": "[encoded data removed]",
      "text/plain": [
       "<Figure size 1440x432 with 1 Axes>"
      ]
     },
     "metadata": {
      "needs_background": "light"
     },
     "output_type": "display_data"
    }
   ],
   "source": [
    "import matplotlib.pyplot as plt\n",
    "fig = plt.figure()\n",
    "fig = plt.figure(figsize=(20, 6))\n",
    "ax = fig.add_axes([0,0,1,1])\n",
    "runs = ['Live DV No Cache','Fully Cached Dataset','Targetted 737 Cache DV','Highly Focused 737 NJ to CA Cache','Db2 Warehouse']\n",
    "runtime = [dvnocache, dvfullcache, dv737cache, dv737njcacache, db2w]\n",
    "ax.bar(runs, runtime)\n",
    "plt.ylabel(\"Time in Seconds (Lower is better)\", fontsize=16)\n",
    "plt.xlabel(\"Performance Run\", fontsize=16)\n",
    "plt.show()"
   ]
  },
  {
   "cell_type": "code",
   "execution_count": 43,
   "metadata": {
    "id": "6632fe19c21b436a8344e2282b9528b5"
   },
   "outputs": [
    {
     "name": "stdout",
     "output_type": "stream",
     "text": [
      "Aircraft:13101.0\n",
      "Number of Domestic Flights in the US\n",
      "Years 2009 to 2010: 12752436.0\n",
      "Years 2011 to 2015: 30190408.0\n",
      "Years 2009 to 2015: 42942844.0\n",
      "Only 737 from 2009 to 2015: 4172450.0\n",
      "Only 737 from NJ to CA: 37621.0\n"
     ]
    }
   ],
   "source": [
    "print('Aircraft:' + str(aircraft))\n",
    "print('Number of Domestic Flights in the US')\n",
    "print('Years 2009 to 2010: ' + str(ontime0910))\n",
    "print('Years 2011 to 2015: ' + str(ontime1115))\n",
    "print('Years 2009 to 2015: ' + str(ontimefull))\n",
    "print('Only 737 from 2009 to 2015: ' + str(ontime737))\n",
    "print('Only 737 from NJ to CA: ' + str(ontimenjca737))"
   ]
  },
  {
   "cell_type": "code",
   "execution_count": 44,
   "metadata": {
    "id": "118b7832d25c4d35af0587229fefb644"
   },
   "outputs": [
    {
     "data": {
      "text/plain": [
       "<Figure size 432x288 with 0 Axes>"
      ]
     },
     "metadata": {},
     "output_type": "display_data"
    },
    {
     "data": {
      "image/png": "[encoded data removed]",
      "text/plain": [
       "<Figure size 1440x432 with 1 Axes>"
      ]
     },
     "metadata": {
      "needs_background": "light"
     },
     "output_type": "display_data"
    }
   ],
   "source": [
    "import matplotlib.pyplot as plt\n",
    "fig = plt.figure()\n",
    "fig = plt.figure(figsize=(20, 6))\n",
    "ax = fig.add_axes([0,0,1,1])\n",
    "runs = ['Years 2009 to 2010','Years 2011 to 2015','Full Dataset','737 Dataset','737 NJ to CA Dataset']\n",
    "runtime = [ontime0910, ontime1115, ontimefull, ontime737, ontimenjca737]\n",
    "ax.bar(runs, runtime)\n",
    "plt.ylabel(\"Dataset Size in Millions of Rows\", fontsize=16)\n",
    "plt.xlabel(\"US Domestic Flights\", fontsize=16)\n",
    "plt.show()"
   ]
  },
  {
   "cell_type": "markdown",
   "metadata": {
    "id": "a836c37846aa418c9d3bd5797a3eb2f9"
   },
   "source": [
    "## Refreshing a Cache Through a RESTful Service Call"
   ]
  },
  {
   "cell_type": "code",
   "execution_count": null,
   "metadata": {
    "id": "e9fd29ab376f44d7953ac3fabaea06d6"
   },
   "outputs": [],
   "source": [
    "databaseAPI.refreshCache('DV20211115221309388288')\n",
    "df = databaseAPI.getCaches(\"Refreshing\")\n",
    "display(df[['id', 'name','state','size', 'cardinality','last_refresh_timestamp']])"
   ]
  },
  {
   "cell_type": "code",
   "execution_count": null,
   "metadata": {
    "id": "7ba8d455a0144ca38d3c4f5de4b0a88b"
   },
   "outputs": [],
   "source": [
    "df = databaseAPI.getCaches(\"Available\")\n",
    "display(df[['id', 'name','state','size', 'cardinality','last_refresh_timestamp']])"
   ]
  },
  {
   "cell_type": "markdown",
   "metadata": {
    "id": "10018a33253e48a7bb6cca671380b91b"
   },
   "source": [
    "## Get Cache Details"
   ]
  },
  {
   "cell_type": "code",
   "execution_count": null,
   "metadata": {
    "id": "a5b7be0ea1a04e02b2aa6fe07a7903ad"
   },
   "outputs": [],
   "source": [
    "json = databaseAPI.getCacheDetails('DV20211115221309388288')\n",
    "print(json)"
   ]
  },
  {
   "cell_type": "code",
   "execution_count": null,
   "metadata": {
    "id": "2567b6950b3d40b3be14ed58050e372e"
   },
   "outputs": [],
   "source": [
    "print(json['state'])"
   ]
  },
  {
   "cell_type": "code",
   "execution_count": null,
   "metadata": {
    "id": "09814bf7a8674d74b1ffd53cec5f59f5"
   },
   "outputs": [],
   "source": [
    "display(pd.DataFrame(json_normalize(json))[['name','state']])"
   ]
  },
  {
   "cell_type": "code",
   "execution_count": null,
   "metadata": {
    "id": "26615ec0227a4d5697e583c7ffbbd5dd"
   },
   "outputs": [],
   "source": [
    "pd.set_option('display.max_rows', 20)\n",
    "display(pd.DataFrame(json_normalize(json)).T)"
   ]
  },
  {
   "cell_type": "code",
   "execution_count": null,
   "metadata": {
    "id": "c05a05b8d68740419af79e4fee8c6fbb"
   },
   "outputs": [],
   "source": []
  }
 ],
 "metadata": {
  "kernelspec": {
   "display_name": "Python 3.8",
   "language": "python",
   "name": "python3"
  },
  "language_info": {
   "codemirror_mode": {
    "name": "ipython",
    "version": 3
   },
   "file_extension": ".py",
   "mimetype": "text/x-python",
   "name": "python",
   "nbconvert_exporter": "python",
   "pygments_lexer": "ipython3",
   "version": "3.8.11"
  }
 },
 "nbformat": 4,
 "nbformat_minor": 1
}
