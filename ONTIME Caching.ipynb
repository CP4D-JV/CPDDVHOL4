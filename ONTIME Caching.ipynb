{
 "cells": [
  {
   "cell_type": "markdown",
   "metadata": {
    "id": "155ee66dbdc44eacaa09a927d1e9ef23"
   },
   "source": [
    "<img align=\"left\" src=\"https://github.com/Db2-DTE-POC/CPDDVHOL4/blob/main/media/Assets&ArchHeader.jpeg?raw=true\">"
   ]
  },
  {
   "cell_type": "code",
   "execution_count": null,
   "metadata": {
    "id": "cd505f1f813c42e8b7443e1886cb9689"
   },
   "outputs": [],
   "source": [
    "!wget -O CPDDVRestClassV402.ipynb https://raw.githubusercontent.com/Db2-DTE-POC/CPDDVLAB/master/CPDDVRestClassV402.ipynb\n",
    "%run CPDDVRestClassV402.ipynb"
   ]
  },
  {
   "cell_type": "code",
   "execution_count": null,
   "metadata": {
    "id": "88eaa71d1cf848af89758daa0cfb5ab8"
   },
   "outputs": [],
   "source": [
    "# Set the service URL to connect from inside the ICPD Cluster\n",
    "Console  = 'https://cpd-cpd-instance.apps.demo.ibmdte.net:31192'\n",
    "\n",
    "# Connect to the Db2 Data Management Console service\n",
    "user     = 'admin'\n",
    "password = 'CP4DDataFabric'\n",
    "\n",
    "# Set up the required connection\n",
    "databaseAPI = Db2(Console)\n",
    "api = '/v1'\n",
    "databaseAPI.authenticate(api, user, password)\n",
    "database = Console"
   ]
  },
  {
   "cell_type": "code",
   "execution_count": null,
   "metadata": {
    "id": "0333fcc9f277451b8847c735bbc4a90a"
   },
   "outputs": [],
   "source": [
    "### Display Virtualized Tables and Views \n",
    "display(databaseAPI.getVirtualizedTablesDF())\n",
    "display(databaseAPI.getVirtualizedViewsDF())"
   ]
  },
  {
   "cell_type": "code",
   "execution_count": null,
   "metadata": {
    "id": "22243e8126fa489c8d7578eef1597fcd"
   },
   "outputs": [],
   "source": [
    "df = databaseAPI.getCaches('Enabled')\n",
    "display(df[['id', 'name','state','size', 'cardinality','last_refresh_timestamp']])"
   ]
  },
  {
   "cell_type": "code",
   "execution_count": null,
   "metadata": {
    "id": "510289868c874039b211905de1af3f5f"
   },
   "outputs": [],
   "source": [
    "df = databaseAPI.getCaches('Disabled')\n",
    "display(df[['id', 'name','state','size', 'cardinality','last_refresh_timestamp']])"
   ]
  },
  {
   "cell_type": "code",
   "execution_count": null,
   "metadata": {
    "id": "dfa24c442aee4c3a9fc738fb49143fa5"
   },
   "outputs": [],
   "source": [
    "# Enable ONTIME1115\n",
    "databaseAPI.enableCache('DV20211110144113849337')"
   ]
  },
  {
   "cell_type": "code",
   "execution_count": null,
   "metadata": {
    "id": "eae16e86ea114f358a0b3dabbde08681"
   },
   "outputs": [],
   "source": [
    "# Enable ONTIME0910\n",
    "databaseAPI.enableCache('DV20211110144049703423')"
   ]
  },
  {
   "cell_type": "code",
   "execution_count": null,
   "metadata": {
    "id": "f3ae06140cf348988bc95aea1105f025"
   },
   "outputs": [],
   "source": [
    "# Enable AIRCRAFT\n",
    "databaseAPI.enableCache('DV20211115221309388288')"
   ]
  },
  {
   "cell_type": "code",
   "execution_count": null,
   "metadata": {
    "id": "6d92cfeb98d943de8eeaf39bd93fff9e"
   },
   "outputs": [],
   "source": [
    "# Enable BOEING737\n",
    "databaseAPI.enableCache('DV20211110165634403313')"
   ]
  },
  {
   "cell_type": "code",
   "execution_count": null,
   "metadata": {
    "id": "409839952b594b23996947fc36397fec"
   },
   "outputs": [],
   "source": [
    "# Enable ONTIME737NJCA\n",
    "databaseAPI.enableCache('DV20211115151427714635')"
   ]
  },
  {
   "cell_type": "code",
   "execution_count": null,
   "metadata": {
    "id": "a8727491a745408e8d2377f04d8ed2f9"
   },
   "outputs": [],
   "source": [
    "!wget -O db2.ipynb https://raw.githubusercontent.com/Db2-DTE-POC/Db2-Openshift-11.5.4/master/db2.ipynb\n",
    "%run db2.ipynb\n",
    "print('db2.ipynb loaded')"
   ]
  },
  {
   "cell_type": "code",
   "execution_count": null,
   "metadata": {
    "id": "fe5be419170b4d6c8b295f5ca2e05800"
   },
   "outputs": [],
   "source": [
    "# Connect to the Data Virtualization Database from inside of IBM Cloud Pak for Data\n",
    "database = 'bigsql'\n",
    "user = 'admin'\n",
    "password = 'CP4DDataFabric'\n",
    "host = 'cpd-cpd-instance.apps.demo.ibmdte.net'\n",
    "port = '31193'\n",
    "\n",
    "%sql CONNECT TO {database} USER {user} USING {password} HOST {host} PORT {port}"
   ]
  },
  {
   "cell_type": "code",
   "execution_count": null,
   "metadata": {
    "id": "78418d87b59349e9895aa9a1c3d1c667"
   },
   "outputs": [],
   "source": [
    "ontime0910count = %sql SELECT COUNT(*) FROM ONTIME.ONTIME0910;"
   ]
  },
  {
   "cell_type": "code",
   "execution_count": null,
   "metadata": {
    "id": "ec93bd513a27437d8413893ebdf3ebfd"
   },
   "outputs": [],
   "source": [
    "ontime1115count = %sql SELECT COUNT(*) FROM ONTIME.ONTIME1115;"
   ]
  },
  {
   "cell_type": "code",
   "execution_count": null,
   "metadata": {
    "id": "d62251bf365d4523a44b79f37a7c7d90"
   },
   "outputs": [],
   "source": [
    "ontime737count = %sql SELECT COUNT(*) FROM ONTIME.BOEING737;"
   ]
  },
  {
   "cell_type": "code",
   "execution_count": null,
   "metadata": {
    "id": "dda7f3844afe4fd2b1a4326ee8975b8b"
   },
   "outputs": [],
   "source": [
    "ontimenjca737count = %sql SELECT COUNT(*) FROM ONTIME.ONTIME737NJCA;"
   ]
  },
  {
   "cell_type": "code",
   "execution_count": null,
   "metadata": {
    "id": "d3862e7a158f4af788e16aed98e9bf3c"
   },
   "outputs": [],
   "source": [
    "aircraftcount = %sql SELECT COUNT(*) FROM ONTIME.AIRCRAFT;"
   ]
  },
  {
   "cell_type": "code",
   "execution_count": null,
   "metadata": {
    "id": "23268a156ac041d7924cf392ebd69b52"
   },
   "outputs": [],
   "source": [
    "ontime0910 = ontime0910count['1'][0]\n",
    "ontime1115 = ontime1115count['1'][0]\n",
    "ontimefull = ontime0910 + ontime1115\n",
    "ontime737 = ontime737count['1'][0]\n",
    "ontimenjca737 = ontimenjca737count['1'][0]\n",
    "aircraft = aircraftcount['1'][0]"
   ]
  },
  {
   "cell_type": "code",
   "execution_count": null,
   "metadata": {
    "id": "e7b0a70d8fb74afb916bb67c75d09cb2"
   },
   "outputs": [],
   "source": [
    "print('Aircraft:' + str(aircraft))\n",
    "print('Number of Domestic Flights in the US')\n",
    "print('Years 2009 to 2010: ' + str(ontime0910))\n",
    "print('Years 2011 to 2015: ' + str(ontime1115))\n",
    "print('Years 2009 to 2015: ' + str(ontimefull))\n",
    "print('Only 737 from 2009 to 2015: ' + str(ontime737))\n",
    "print('Only 737 from NJ to CA: ' + str(ontimenjca737))"
   ]
  },
  {
   "cell_type": "code",
   "execution_count": null,
   "metadata": {
    "id": "c2301d9b85d64cdb8ebe753c0d7a53cf"
   },
   "outputs": [],
   "source": [
    "# Disable ONTIME0910\n",
    "databaseAPI.disableCache('DV20211110144113849337')"
   ]
  },
  {
   "cell_type": "code",
   "execution_count": null,
   "metadata": {
    "id": "f7e3fd6bea87405489fee6d854e2c1aa"
   },
   "outputs": [],
   "source": [
    "# Disable ONTIME1115\n",
    "databaseAPI.disableCache('DV20211110144049703423')"
   ]
  },
  {
   "cell_type": "code",
   "execution_count": null,
   "metadata": {
    "id": "f367e6e9b2e546089ad4138dd0a3416a"
   },
   "outputs": [],
   "source": [
    "# Disable BOEING737\n",
    "databaseAPI.disableCache('DV20211110165634403313')"
   ]
  },
  {
   "cell_type": "code",
   "execution_count": null,
   "metadata": {
    "id": "c5e1efc7c6c9484388deb0d9c81c95d8"
   },
   "outputs": [],
   "source": [
    "# Disable ONTIME737NJCA\n",
    "databaseAPI.disableCache('DV20211115151427714635')"
   ]
  },
  {
   "cell_type": "code",
   "execution_count": null,
   "metadata": {
    "id": "a13ac26bdf394c468fef3c70d07734c0"
   },
   "outputs": [],
   "source": [
    "# Disable AIRCRAFT\n",
    "databaseAPI.disableCache('DV20211115221309388288')"
   ]
  },
  {
   "cell_type": "code",
   "execution_count": null,
   "metadata": {
    "id": "c769f9eaf894442e8e38ebb741f5cbc9"
   },
   "outputs": [],
   "source": [
    "df = databaseAPI.getCaches('Enabled')\n",
    "display(df[['id', 'name','state','size', 'cardinality','last_refresh_timestamp']])"
   ]
  },
  {
   "cell_type": "code",
   "execution_count": null,
   "metadata": {
    "id": "a5393cf625614d138eb6e32fe21553ef"
   },
   "outputs": [],
   "source": [
    "%%sql \n",
    "SELECT * FROM \"ONTIME\".\"ONTIME\" OT, \"ONTIME\".\"AIRCRAFT\" AC \n",
    "  WHERE AC.\"TAIL_NUMBER\" = OT.TAILNUM\n",
    "  AND ORIGINSTATE = 'NJ'\n",
    "  AND DESTSTATE = 'CA'\n",
    "  AND MANUFACTURER = 'Boeing' \n",
    "  AND AC.MODEL LIKE 'B737%'\n",
    "  AND OT.TAXIOUT > 30\n",
    "  AND OT.DISTANCE > 2000\n",
    "  AND OT.DEPDELAY > 200\n",
    "  ORDER BY OT.ARRDELAY DESC\n",
    "  FETCH FIRST 5 ROWS ONLY"
   ]
  },
  {
   "cell_type": "code",
   "execution_count": null,
   "metadata": {
    "id": "0426171f745d4dbbbd8d1ffd79ef96f3"
   },
   "outputs": [],
   "source": [
    "%%capture result\n",
    "%%time\n",
    "%%sql \n",
    "SELECT * FROM \"ONTIME\".\"ONTIME\" OT, \"ONTIME\".\"AIRCRAFT\" AC \n",
    "  WHERE AC.\"TAIL_NUMBER\" = OT.TAILNUM\n",
    "  AND ORIGINSTATE = 'NJ'\n",
    "  AND DESTSTATE = 'CA'\n",
    "  AND MANUFACTURER = 'Boeing' \n",
    "  AND AC.MODEL LIKE 'B737%'\n",
    "  AND OT.TAXIOUT > 30\n",
    "  AND OT.DISTANCE > 2000\n",
    "  AND OT.DEPDELAY > 200\n",
    "  ORDER BY OT.ARRDELAY DESC\n",
    "  FETCH FIRST 5 ROWS ONLY"
   ]
  },
  {
   "cell_type": "code",
   "execution_count": null,
   "metadata": {
    "id": "1588204b75aa41208a26e255b63d2072",
    "scrolled": true
   },
   "outputs": [],
   "source": [
    "print(result)\n",
    "sqldvnocachetimer = Timer()\n",
    "sqldvnocachetimer.timeTotal()"
   ]
  },
  {
   "cell_type": "code",
   "execution_count": null,
   "metadata": {
    "id": "4f960147eb6542e19da89246f1bc0d34"
   },
   "outputs": [],
   "source": [
    "# Enable ONTIME1115\n",
    "databaseAPI.enableCache('DV20211110144113849337')"
   ]
  },
  {
   "cell_type": "code",
   "execution_count": null,
   "metadata": {
    "id": "50e6c077ab484123aa1c1edf3363fc00"
   },
   "outputs": [],
   "source": [
    "# Enable ONTIME0910\n",
    "databaseAPI.enableCache('DV20211110144049703423')"
   ]
  },
  {
   "cell_type": "code",
   "execution_count": null,
   "metadata": {
    "id": "d645633c92ea44bc80079c1f98c9bcb0"
   },
   "outputs": [],
   "source": [
    "# Enable AIRCRAFT\n",
    "databaseAPI.enableCache('DV20211115221309388288')"
   ]
  },
  {
   "cell_type": "code",
   "execution_count": null,
   "metadata": {
    "id": "e89328163ab54564972508d206b44567"
   },
   "outputs": [],
   "source": [
    "df = databaseAPI.getCaches('Enabled')\n",
    "display(df[['id', 'name','state','size', 'cardinality','last_refresh_timestamp']])"
   ]
  },
  {
   "cell_type": "code",
   "execution_count": null,
   "metadata": {
    "id": "f5725c54c2c14a71a1d3443c6a9d2d76"
   },
   "outputs": [],
   "source": [
    "%%capture result\n",
    "%%time\n",
    "%%sql \n",
    "SELECT * FROM \"ONTIME\".\"ONTIME\" OT, \"ONTIME\".\"AIRCRAFT\" AC \n",
    "  WHERE AC.\"TAIL_NUMBER\" = OT.TAILNUM\n",
    "  AND ORIGINSTATE = 'NJ'\n",
    "  AND DESTSTATE = 'CA'\n",
    "  AND MANUFACTURER = 'Boeing' \n",
    "  AND AC.MODEL LIKE 'B737%'\n",
    "  AND OT.TAXIOUT > 30\n",
    "  AND OT.DISTANCE > 2000\n",
    "  AND OT.DEPDELAY > 200\n",
    "  ORDER BY OT.ARRDELAY DESC\n",
    "  FETCH FIRST 5 ROWS ONLY"
   ]
  },
  {
   "cell_type": "code",
   "execution_count": null,
   "metadata": {
    "id": "2a591dc2d2574e0787e45d2a3f612d37",
    "scrolled": true
   },
   "outputs": [],
   "source": [
    "print(result)\n",
    "sqldvbigcachetimer = Timer()\n",
    "sqldvbigcachetimer.timeTotal()"
   ]
  },
  {
   "cell_type": "code",
   "execution_count": null,
   "metadata": {
    "id": "157e48687ca9426b84c18d209c0decee"
   },
   "outputs": [],
   "source": [
    "# Enable BOEING737\n",
    "databaseAPI.enableCache('DV20211110165634403313')"
   ]
  },
  {
   "cell_type": "code",
   "execution_count": null,
   "metadata": {
    "id": "441426d516724d0a8f4c24db05c85581"
   },
   "outputs": [],
   "source": [
    "# Enable ONTIME737NJCA\n",
    "databaseAPI.enableCache('DV20211115151427714635')"
   ]
  },
  {
   "cell_type": "code",
   "execution_count": null,
   "metadata": {
    "id": "1f3a072485f1495ca643c79afabce548"
   },
   "outputs": [],
   "source": [
    "%%capture result\n",
    "%%time\n",
    "%%sql \n",
    "SELECT * FROM \"ONTIME\".\"BOEING737\" OT, \"ONTIME\".\"AIRCRAFT\" AC \n",
    "  WHERE ORIGINSTATE = 'NJ'\n",
    "  AND DESTSTATE = 'CA'\n",
    "  AND TAXIOUT > 30\n",
    "  AND DISTANCE > 2000\n",
    "  AND DEPDELAY > 200\n",
    "  ORDER BY OT.ARRDELAY DESC\n",
    "  FETCH FIRST 5 ROWS ONLY"
   ]
  },
  {
   "cell_type": "code",
   "execution_count": null,
   "metadata": {
    "id": "f9237941a8aa489a8e9f1522d2e8b83d"
   },
   "outputs": [],
   "source": [
    "sqldvfocusedcachetimer = Timer()\n",
    "sqldvfocusedcachetimer.timeTotal()"
   ]
  },
  {
   "cell_type": "code",
   "execution_count": null,
   "metadata": {
    "id": "d71e502221d145e09e53b9482ca2882b"
   },
   "outputs": [],
   "source": [
    "%%capture result\n",
    "%%time\n",
    "%%sql \n",
    "SELECT * FROM ONTIME.ONTIME737NJCA WHERE \n",
    "  TAXIOUT > 30\n",
    "  AND DISTANCE > 2000\n",
    "  AND DEPDELAY > 200\n",
    "  ORDER BY ARRDELAY DESC\n",
    "  FETCH FIRST 5 ROWS ONLY"
   ]
  },
  {
   "cell_type": "code",
   "execution_count": null,
   "metadata": {
    "id": "66d0598ecd9f4377ae18e216452e52f6"
   },
   "outputs": [],
   "source": [
    "sqldvsmallcachetimer = Timer()\n",
    "sqldvsmallcachetimer.timeTotal()"
   ]
  },
  {
   "cell_type": "code",
   "execution_count": null,
   "metadata": {
    "id": "5a44ef7f674a4893852f64b7daad5663"
   },
   "outputs": [],
   "source": [
    "df = databaseAPI.getCaches('Enabled')\n",
    "display(df[['id', 'name','size', 'cardinality','last_refresh_timestamp']])"
   ]
  },
  {
   "cell_type": "code",
   "execution_count": null,
   "metadata": {
    "id": "85eceb160fe848b4958e173e72959a55"
   },
   "outputs": [],
   "source": [
    "# Connect to the Db2 Warehouse Database from inside of IBM Cloud Pak for Data\n",
    "database = 'ONTIME'\n",
    "user = 'admin'\n",
    "password = 'CP4DDataFabric'\n",
    "host = 'cpd-cpd-instance.apps.demo.ibmdte.net'\n",
    "port = '31175'\n",
    "\n",
    "%sql CONNECT TO {database} USER {user} USING {password} HOST {host} PORT {port}"
   ]
  },
  {
   "cell_type": "code",
   "execution_count": null,
   "metadata": {
    "id": "e99806f922cc4d7bb93e3c5bdf509d4d"
   },
   "outputs": [],
   "source": [
    "%%time\n",
    "%%sql \n",
    "SELECT AC.\"TAIL_NUMBER\", AC.\"MANUFACTURER\", AC.\"MODEL\", OT.\"UNIQUECARRIER\", OT.\"AIRLINEID\", OT.\"CARRIER\", OT.\"TAILNUM\", OT.\"FLIGHTNUM\", OT.\"ORIGINAIRPORTID\", OT.\"ORIGINAIRPORTSEQID\", OT.\"ORIGINCITYNAME\", OT.\"ORIGINSTATE\", OT.\"DESTAIRPORTID\", OT.\"DESTCITYNAME\", OT.\"DESTSTATE\", OT.\"DEPTIME\", OT.\"DEPDELAY\", OT.\"TAXIOUT\", OT.\"WHEELSOFF\", OT.\"WHEELSON\", OT.\"TAXIIN\", OT.\"ARRTIME\", OT.\"ARRDELAY\", OT.\"ARRDELAYMINUTES\", OT.\"CANCELLED\", OT.\"AIRTIME\", OT.\"DISTANCE\"\n",
    "  FROM \"ONTIME\".\"ONTIME\" OT, \"ONTIME\".\"AIRCRAFT\" AC \n",
    "  WHERE AC.\"TAIL_NUMBER\" = OT.TAILNUM\n",
    "  AND ORIGINSTATE = 'NJ'\n",
    "  AND DESTSTATE = 'CA'\n",
    "  AND AC.MANUFACTURER = 'Boeing' \n",
    "  AND AC.MODEL LIKE 'B737%'\n",
    "  AND OT.TAXIOUT > 30\n",
    "  AND OT.DISTANCE > 1800\n",
    "  AND OT.DEPDELAY > 200\n",
    "  ORDER BY OT.ARRDELAY DESC\n",
    "  FETCH FIRST 5 ROWS ONLY"
   ]
  },
  {
   "cell_type": "code",
   "execution_count": null,
   "metadata": {
    "id": "7cb66bfdaef748c3b7792c6d10b50f74"
   },
   "outputs": [],
   "source": [
    "%%time\n",
    "%%sql \n",
    "SELECT COUNT(*)\n",
    "  FROM \"ONTIME\".\"ONTIME\" "
   ]
  },
  {
   "cell_type": "code",
   "execution_count": null,
   "metadata": {
    "id": "e53841e5901c401787eb75e0bcc8ab63"
   },
   "outputs": [],
   "source": [
    "%%time\n",
    "%%sql \n",
    "SELECT UNIQUE(YEAR) AS YEAR\n",
    "  FROM \"ONTIME\".\"ONTIME\" ORDER BY YEAR"
   ]
  },
  {
   "cell_type": "code",
   "execution_count": null,
   "metadata": {
    "id": "7697c0eae73c42c785be84cac4d5ce70"
   },
   "outputs": [],
   "source": [
    "%%capture result\n",
    "%%time\n",
    "%%sql \n",
    "SELECT AC.\"TAIL_NUMBER\", AC.\"MANUFACTURER\", AC.\"MODEL\", OT.\"UNIQUECARRIER\", OT.\"AIRLINEID\", OT.\"CARRIER\", OT.\"TAILNUM\", OT.\"FLIGHTNUM\", OT.\"ORIGINAIRPORTID\", OT.\"ORIGINAIRPORTSEQID\", OT.\"ORIGINCITYNAME\", OT.\"ORIGINSTATE\", OT.\"DESTAIRPORTID\", OT.\"DESTCITYNAME\", OT.\"DESTSTATE\", OT.\"DEPTIME\", OT.\"DEPDELAY\", OT.\"TAXIOUT\", OT.\"WHEELSOFF\", OT.\"WHEELSON\", OT.\"TAXIIN\", OT.\"ARRTIME\", OT.\"ARRDELAY\", OT.\"ARRDELAYMINUTES\", OT.\"CANCELLED\", OT.\"AIRTIME\", OT.\"DISTANCE\"\n",
    "  FROM \"ONTIME\".\"ONTIME\" OT, \"ONTIME\".\"AIRCRAFT\" AC \n",
    "  WHERE AC.\"TAIL_NUMBER\" = OT.TAILNUM\n",
    "  AND ORIGINSTATE = 'NJ'\n",
    "  AND DESTSTATE = 'CA'\n",
    "  AND AC.MANUFACTURER = 'Boeing' \n",
    "  AND AC.MODEL LIKE 'B737%'\n",
    "  AND OT.TAXIOUT > 30\n",
    "  AND OT.DISTANCE > 2000\n",
    "  AND OT.DEPDELAY > 200\n",
    "  ORDER BY OT.ARRDELAY DESC\n",
    "  FETCH FIRST 5 ROWS ONLY"
   ]
  },
  {
   "cell_type": "code",
   "execution_count": null,
   "metadata": {
    "id": "aeff42f968ec4a13a86b5c51dd66bc33"
   },
   "outputs": [],
   "source": [
    "print(result)\n",
    "sqldb2wtimer = Timer()\n",
    "sqldb2wtimer.timeTotal()"
   ]
  },
  {
   "cell_type": "code",
   "execution_count": null,
   "metadata": {
    "id": "322ae26222f2446cba274f515f4b74bb"
   },
   "outputs": [],
   "source": [
    "dvnocache = sqldvnocachetimer.getTotalTime()/1000\n",
    "dvfullcache = sqldvbigcachetimer.getTotalTime()/1000\n",
    "dv737cache = sqldvfocusedcachetimer.getTotalTime()/1000\n",
    "dv737njcacache = sqldvsmallcachetimer.getTotalTime()/1000\n",
    "db2w = sqldb2wtimer.getTotalTime()/1000\n",
    "print(\"DV No Cache Query 2009-2015: \" + str(dvnocache) + \" s\")\n",
    "print(\"DV Full Cache Query 2009-2015: \" + str(dvfullcache) + \" s\")\n",
    "print(\"DV 737 Cache Query 2009-2015: \" + str(dv737cache) + \" s\")\n",
    "print(\"DV 737 NJ to CA Cache Query 2009-2015: \" + str(dv737njcacache) + \" s\")\n",
    "print(\"Db2 Warehouse Query 2009-2015: \" + str(db2w) + \" s\")"
   ]
  },
  {
   "cell_type": "code",
   "execution_count": null,
   "metadata": {
    "id": "ebe694c7dea24de28402ced2b30ed27b"
   },
   "outputs": [],
   "source": [
    "import matplotlib.pyplot as plt\n",
    "fig = plt.figure()\n",
    "fig = plt.figure(figsize=(20, 6))\n",
    "ax = fig.add_axes([0,0,1,1])\n",
    "runs = ['Live DV No Cache','Fully Cached Dataset','Targetted 737 Cache DV','Highly Focused 737 NJ to CA Cache','Db2 Warehouse']\n",
    "runtime = [dvnocache, dvfullcache, dv737cache, dv737njcacache, db2w]\n",
    "ax.bar(runs, runtime)\n",
    "plt.ylabel(\"Time in Seconds (Lower is better)\", fontsize=16)\n",
    "plt.xlabel(\"Performance Run\", fontsize=16)\n",
    "plt.show()"
   ]
  },
  {
   "cell_type": "code",
   "execution_count": null,
   "metadata": {
    "id": "6632fe19c21b436a8344e2282b9528b5"
   },
   "outputs": [],
   "source": [
    "print('Aircraft:' + str(aircraft))\n",
    "print('Number of Domestic Flights in the US')\n",
    "print('Years 2009 to 2010: ' + str(ontime0910))\n",
    "print('Years 2011 to 2015: ' + str(ontime1115))\n",
    "print('Years 2009 to 2015: ' + str(ontimefull))\n",
    "print('Only 737 from 2009 to 2015: ' + str(ontime737))\n",
    "print('Only 737 from NJ to CA: ' + str(ontimenjca737))"
   ]
  },
  {
   "cell_type": "code",
   "execution_count": null,
   "metadata": {
    "id": "118b7832d25c4d35af0587229fefb644"
   },
   "outputs": [],
   "source": [
    "import matplotlib.pyplot as plt\n",
    "fig = plt.figure()\n",
    "fig = plt.figure(figsize=(20, 6))\n",
    "ax = fig.add_axes([0,0,1,1])\n",
    "runs = ['Years 2009 to 2010','Years 2011 to 2015','Full Dataset','737 Dataset','737 NJ to CA Dataset']\n",
    "runtime = [ontime0910, ontime1115, ontimefull, ontime737, ontimenjca737]\n",
    "ax.bar(runs, runtime)\n",
    "plt.ylabel(\"Dataset Size in Millions of Rows\", fontsize=16)\n",
    "plt.xlabel(\"US Domestic Flights\", fontsize=16)\n",
    "plt.show()"
   ]
  },
  {
   "cell_type": "markdown",
   "metadata": {
    "id": "a836c37846aa418c9d3bd5797a3eb2f9"
   },
   "source": [
    "## Refreshing a Cache Through a RESTful Service Call"
   ]
  },
  {
   "cell_type": "code",
   "execution_count": null,
   "metadata": {
    "id": "e9fd29ab376f44d7953ac3fabaea06d6"
   },
   "outputs": [],
   "source": [
    "databaseAPI.refreshCache('DV20211115221309388288')\n",
    "df = databaseAPI.getCaches(\"Refreshing\")\n",
    "display(df[['id', 'name','state','size', 'cardinality','last_refresh_timestamp']])"
   ]
  },
  {
   "cell_type": "code",
   "execution_count": null,
   "metadata": {
    "id": "7ba8d455a0144ca38d3c4f5de4b0a88b"
   },
   "outputs": [],
   "source": [
    "df = databaseAPI.getCaches(\"Available\")\n",
    "display(df[['id', 'name','state','size', 'cardinality','last_refresh_timestamp']])"
   ]
  },
  {
   "cell_type": "markdown",
   "metadata": {
    "id": "10018a33253e48a7bb6cca671380b91b"
   },
   "source": [
    "## Get Cache Details"
   ]
  },
  {
   "cell_type": "code",
   "execution_count": null,
   "metadata": {
    "id": "a5b7be0ea1a04e02b2aa6fe07a7903ad"
   },
   "outputs": [],
   "source": [
    "json = databaseAPI.getCacheDetails('DV20211115221309388288')\n",
    "print(json)"
   ]
  },
  {
   "cell_type": "code",
   "execution_count": null,
   "metadata": {
    "id": "2567b6950b3d40b3be14ed58050e372e"
   },
   "outputs": [],
   "source": [
    "print(json['state'])"
   ]
  },
  {
   "cell_type": "code",
   "execution_count": null,
   "metadata": {
    "id": "09814bf7a8674d74b1ffd53cec5f59f5"
   },
   "outputs": [],
   "source": [
    "display(pd.DataFrame(json_normalize(json))[['name','state']])"
   ]
  },
  {
   "cell_type": "code",
   "execution_count": null,
   "metadata": {
    "id": "26615ec0227a4d5697e583c7ffbbd5dd"
   },
   "outputs": [],
   "source": [
    "pd.set_option('display.max_rows', 20)\n",
    "display(pd.DataFrame(json_normalize(json)).T)"
   ]
  },
  {
   "cell_type": "code",
   "execution_count": null,
   "metadata": {
    "id": "c05a05b8d68740419af79e4fee8c6fbb"
   },
   "outputs": [],
   "source": []
  }
 ],
 "metadata": {
  "kernelspec": {
   "display_name": "Python 3.8",
   "language": "python",
   "name": "python3"
  },
  "language_info": {
   "codemirror_mode": {
    "name": "ipython",
    "version": 3
   },
   "file_extension": ".py",
   "mimetype": "text/x-python",
   "name": "python",
   "nbconvert_exporter": "python",
   "pygments_lexer": "ipython3",
   "version": "3.8.11"
  }
 },
 "nbformat": 4,
 "nbformat_minor": 1
}
