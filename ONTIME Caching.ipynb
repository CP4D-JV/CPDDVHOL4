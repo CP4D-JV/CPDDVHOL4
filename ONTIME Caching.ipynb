{
 "cells": [
  {
   "cell_type": "markdown",
   "metadata": {
    "id": "155ee66dbdc44eacaa09a927d1e9ef23"
   },
   "source": [
    "<img align=\"left\" src=\"https://github.com/Db2-DTE-POC/CPDDVHOL4/blob/main/media/Assets&ArchHeader.jpeg?raw=true\">"
   ]
  },
  {
   "cell_type": "markdown",
   "metadata": {
    "id": "015fe516500643bd954b0e245b6c69d6"
   },
   "source": [
    "# IBM Cloud Pak for Data Version 4.0.2 - Data Virtualization Performance Hands-on Lab\n",
    "\n",
    "## Introduction\n",
    "Welcome to the IBM Cloud Pak for Data Multi-Cloud Virtualization Caching Hands-on Lab. \n",
    "\n",
    "In this lab you analyze the performance of Data Virtualization using a variety of caching techniques.\n",
    "\n",
    "This hands-on lab uses live databases, were data is “virtually” available through the IBM Cloud Pak for Data Virtualization Service. It is an advanced Data Virtualization topic and uses the administrator userid, which is required to manage cached data. "
   ]
  },
  {
   "cell_type": "markdown",
   "metadata": {
    "id": "49de84e77fde4c00adcccabb73a6a89c"
   },
   "source": [
    "### Where to find this sample online\n",
    "You can find a copy of this notebook on GITHUB at https://github.com/Db2-DTE-POC/CPDDVHOL4."
   ]
  },
  {
   "cell_type": "markdown",
   "metadata": {
    "id": "861d48ef5942432884daabf25dc6c09c"
   },
   "source": [
    "## The Data and the Business Problem\n",
    "This hands-on lab analyzes details records of detailed flight time data for all the domestic flights in the United States from 2009 to 2015. The total number of flight time data is almost 43 millions rows of data. There are additional dimension tables to support this large fact table. The table used to supplement the ONTIME fact table is the AIRCRAFT dimension table that includes details on each aircraft with entries in the ONTIME table. \n",
    "\n",
    "From the almost 43 million flights, the lab analyzes flights between New Jersy and California for the Boeing 737. "
   ]
  },
  {
   "cell_type": "markdown",
   "metadata": {
    "id": "76a740a270eb4e88a42f14556abef7db"
   },
   "source": [
    "## In this lab you learn how to:\n",
    "\n",
    "* Navigate to the Cloud Pak for Data Data Virtualization Cache Management user interface\n",
    "* Use the Cloud Pak for Data RESTful API to control the existing ONTIME database caches\n",
    "* Explore Views created to capture and \"reduce\" the working dataset of ONTIME fligth records\n",
    "* Understand how caches were created based on those views\n",
    "* Compare performance between with and without caches\n",
    "* Compare performance using complete and targetted caches\n",
    "* Use the RESTful API to expore and refresh caches"
   ]
  },
  {
   "cell_type": "markdown",
   "metadata": {
    "id": "f1962e50c4114be1bd80e4f2cab42f31"
   },
   "source": [
    "## Getting Started"
   ]
  },
  {
   "cell_type": "markdown",
   "metadata": {
    "id": "0b5e82bf6bc9464794afe755525d0d9f"
   },
   "source": [
    "## Using Jupyter notebooks\n",
    "You are now officially using a Jupyter notebook! If this is your first time using a Jupyter notebook you might want to go through the Db2 Data Management Console Hands on Lab at www.ibm.biz/DMCDemosPOT. It includes an introduction to using Jupyter notebooks with the Db2 family. The introduction shows you some of the basics of using a notebook, including how to create the cells, run code, and save files for future use. \n",
    "\n",
    "Jupyter notebooks are based on IPython which started in development in the 2006/7 timeframe. The existing Python interpreter was limited in functionality and work was started to create a richer development environment. By 2011 the development efforts resulted in IPython being released (http://blog.fperez.org/2012/01/ipython-notebook-historical.html).\n",
    "\n",
    "Jupyter notebooks were a spinoff (2014) from the original IPython project. IPython continues to be the kernel that Jupyter runs on, but the notebooks are now a project on their own.\n",
    "\n",
    "Jupyter notebooks run in a browser and communicate to the backend IPython server which renders this content. These notebooks are used extensively by data scientists and anyone wanting to document, plot, and execute their code in an interactive environment. The beauty of Jupyter notebooks is that you document what you do as you go along."
   ]
  },
  {
   "cell_type": "markdown",
   "metadata": {
    "id": "53b61a6072d74c42a10b3d3adedec900"
   },
   "source": [
    "## Connecting to IBM Cloud Pak for Data\n",
    "For this lab you use the admin userid.\n",
    "* ID: admin\n",
    "* PASSWORD: CP4DDataFabric\n",
    "\n",
    "If you have this notebook open, you should have already signed in using the admin userid. \n",
    "1. To check your userid, click the icon at the very top right of the webpage. It will look something like this:\n",
    "\n",
    "    <img src=\"https://github.com/Db2-DTE-POC/CPDDVHOL4/blob/main/media/11.06.10 EngineerUserIcon.png?raw=true\">\n",
    "\n",
    "2. Click **Profile and settings**\n",
    "3. Click **Permissions** and review the user permissions for this user\n"
   ]
  },
  {
   "cell_type": "markdown",
   "metadata": {
    "id": "91b1afe1e5254b4f8128d31b2ba2570a"
   },
   "source": [
    "### Exploring the ONTIME dataset\n",
    "Let's start by looking at the the ONTIME dataset that has already been virtualized. \n",
    "\n",
    "You should now have this Hands-on Lab notebook on the left side of your screen and the Cloud Pak for Data Console on the right side of your screen. In the Cloud Pak for Data Console:\n",
    "\n",
    "1. Click the three bar (hamburger) menu at the top left of the console\n",
    "2. Click on the Data menu item if is not already expanded\n",
    "3. Right click **Data Virtualization** and select **Open in New Window**\n",
    "4. Arrange your windows so that notebook is on one side of your screen and the Cloud Pak Data Virtualization Console is on the other side. This makes it easier to follow the instructions without having to jump back and forth between the notebook and the console.\n",
    "\n",
    "    <img src=\"https://github.com/Db2-DTE-POC/CPDDVHOL4/blob/main/media/Caching%20HOL/SidebySide.png?raw=true\">\n",
    "    \n",
    "5. If you don't see the page above, click the **Data Virtualization** menu in the Cloud Pak for Data Console and select **Data Sources**.\n",
    "4. Click **Constellation View**. A spider diagram of the connected data sources opens. \n",
    "\n",
    "    <img src=\"https://github.com/Db2-DTE-POC/CPDDVHOL4/blob/main/media/ConstellationView.png?raw=true\">\n",
    "\n",
    "    This displays the Data Source Graph with numerous active data sources. The ONTIME dataset is sourced from:\n",
    "    * 5 Db2 Databases hosted on premises and accessed throught a remote connector. Each database contains one year of ONTIME flight data. \n",
    "    * Db2 Warehouse Database on Cloud Pak for Data\n",
    "    * Netezza Performance Server on the Public Cloud\n",
    "    * EDB Postgres Database on Premises\n",
    "    * Virtualized CSV files on Premises\n",
    "\n",
    "There five ONTIME Db2 Databases have been combined (\"folded\") into a single virtual table called ONTIME.ONTIME1115. It includes flight records for the years 2011 to 2015. One year from each database. \n",
    "\n",
    "<img src=\"https://github.com/Db2-DTE-POC/CPDDVHOL4/blob/main/media/Caching%20HOL/RemoteConnector.png?raw=true\">\n",
    "\n",
    "The Db2 Warehouse on Cloud Pak for Data includes all the years of flight records from 2009 to 2015. However the view ONTIME.ONTIME0910 retrieves only the years 2009 and 2010 from the single warehouse database. Notice the predicate that limits the results to the years 2009 and 2010.\n",
    "\n",
    "<img src=\"https://github.com/Db2-DTE-POC/CPDDVHOL4/blob/main/media/Caching%20HOL/ONTIME0910VIEW.png?raw=true\">\n",
    "\n",
    "The ONTIME.ONTIME view combines the data from the ONTIME.ONTIME1115 and the ONTIME.ONTIME0910 views. \n",
    "\n",
    "<img src=\"https://github.com/Db2-DTE-POC/CPDDVHOL4/blob/main/media/Caching%20HOL/ONTIMEONTIMEVIEW.png?raw=true\">\n",
    "\n",
    "It is a union between the rows from ONTIME1115 and ONTIME0910. "
   ]
  },
  {
   "cell_type": "markdown",
   "metadata": {
    "id": "297f011b59d44713bf96c6c6ae27d61d"
   },
   "source": [
    "### What is Caching\n",
    "Data Virtualization can make tables on remote data sources look, act and feel like data in a local table. The Data Virtualization engine acts as a single database that contains data from remote tables on remote data source. However, the data is not stored in the Data Virtualization Database. When you submit a query, it is analyzed by the Data Virtualization optimizer. The statement is rewritten and decomposed into parts or branches and data is retreived from each remote data source as required. Each time you run a query, you receive the latest data from the remote data servers. \n",
    "\n",
    "If your remote data servers are responsive, this may perform very fast, even when you are joining data from different sources together in the data virtualizaton engine. Data Virtualization will minimize the volume of data that needs to be retrieved from each remote source to optimize performance. It pushes down predicates, for example WHERE AIRCRAFT='737' from the original query to the remote data server.\n",
    "\n",
    "If you have to retrieve large data sets from the remote servers, caching can dramatically improve performanmce and reduce the load on the remote data servers. \n",
    "\n",
    "When you create a cache by defining a query against the data virtualiztion server. The results of that query (the rows returned) are stored in a fast local storage system. The next time you run that query, the data virtualization engine uses the locally cached data and avoids fetching data from the remote data servers. The rows that are returned are accurate to the time that the cache was created. You can refresh the data in the cache whenever you need to or set a refresh interval and it is automnatically refreshed.\n",
    "\n",
    "The magic of caching is that a statement doesn't have to be exactly like your cache definition for the cache to be used. The data virtualizaiton optimizer looks for caches that contain the required data and uses them when possible.\n",
    "\n",
    "This hands-on lab explores the difference between no using a cache, using a cache and using caches focuses on targetted data sets to optimize performance and minimize cache size and refresh requirements.\n",
    "\n",
    "You can learn more about Data Virtualization caching at: https://www.ibm.com/docs/en/cloud-paks/cp-data/4.0?topic=data-managing-caches-queries"
   ]
  },
  {
   "cell_type": "markdown",
   "metadata": {
    "id": "a232c46edb7b41cf82544ddfbcd36671"
   },
   "source": [
    "# Exploring the Data Virtualization User Interface\n",
    "1. Select Cache management from the Data Virtualization drop down menu.\n",
    "The Cache management page is only available to Data Virtualizaton admninistrators. It contain:\n",
    "* A summary of the local storage used and available\n",
    "* I histogram showing the effectiveness of your existing caches\n",
    "* A list of the currently active data caches, including:\n",
    "    * The name of the cache\n",
    "    * The size of the cache\n",
    "    * The number of rows in the cache, also know as its cardinality\n",
    "    * When the cache was last used and how many times it has been used\n",
    "\n",
    "<img src=\"https://github.com/Db2-DTE-POC/CPDDVHOL4/blob/main/media/Caching%20HOL/CacheManagement.png?raw=true\">\n",
    "\n",
    "To see a list of the actions available on each cache, click the elipsis menu to the right side of a cache in the list of currently available caches. \n",
    "\n",
    "<img src=\"https://github.com/Db2-DTE-POC/CPDDVHOL4/blob/main/media/Caching%20HOL/CacheMenu.png?raw=true\">\n",
    "\n",
    "To see the query that defines a cache select **View cache details**. In this example the cache was defined by selecting all the columns from a view, ONTIME.ONTIME1115 that is defined on a set of virtualized tables.\n",
    "\n",
    "<img src=\"https://github.com/Db2-DTE-POC/CPDDVHOL4/blob/main/media/Caching%20HOL/CacheDetail.png?raw=true\">\n",
    "\n",
    "You can also see a list of the queries that ran on the system. Click the **Queries** tab in the upper-left of the page. Then click the carrot symbol at the left side of a single query to see the full query statement.\n",
    "\n",
    "<img src=\"https://github.com/Db2-DTE-POC/CPDDVHOL4/blob/main/media/Caching%20HOL/Queries.png?raw=true\">\n",
    "\n",
    "In this case the query has run with and without a cache. Performance with the cache is faster than without. To see more details, click **View Details** in the lower right.\n",
    "\n",
    "<img src=\"https://github.com/Db2-DTE-POC/CPDDVHOL4/blob/main/media/Caching%20HOL/FullQuery.png?raw=true\">\n",
    "\n",
    "This includes a history of query execution times. You may have to adjust the timeframe to see previous executions. \n",
    "\n",
    "<img src=\"https://github.com/Db2-DTE-POC/CPDDVHOL4/blob/main/media/Caching%20HOL/QueryDetail.png?raw=true\">"
   ]
  },
  {
   "cell_type": "markdown",
   "metadata": {
    "id": "92b90b40996d47cd83f61fc265d4e248"
   },
   "source": [
    "# Running Scripted Performance Benchmarks with and Without Caching"
   ]
  },
  {
   "cell_type": "markdown",
   "metadata": {
    "id": "90c48f541c62402288703e50e9a2e917"
   },
   "source": [
    "The IBM Cloud Pak for Data Console is only one way you can interact with the Virtualization service. IBM Cloud Pak for Data is built on a set of microservices that communicate with each other and the Console user interface using RESTful APIs. You can use these services to automate anything you can do throught the user interface.\n",
    "\n",
    "This Jupyter Notebook contains examples of how to use the Open APIs to retrieve information from the virtualization service, how to run SQL statements directly against the service through REST and how to provide authoritization to objects. This provides a way write your own script to automate the setup and configuration of the virtualization service. "
   ]
  },
  {
   "cell_type": "markdown",
   "metadata": {
    "id": "d7a9af66de23434ca3c0a61c26b63002"
   },
   "source": [
    "### Load the REST API Class\n",
    "The next part of the lab relies on a set of base classes to help you interact with the RESTful Services API for IBM Cloud Pak for Data Virtualization. You can access this library on GITHUB. The commands below download the library and run them as part of this notebook.\n",
    "<pre>\n",
    "&#37;run CPDDVRestClassV402.ipynb\n",
    "</pre>\n",
    "The cell below loads the RESTful Service Classes and methods directly from GITHUB. Note that it will take a few seconds for the extension to load, so you should generally wait until the \"Db2 Extensions Loaded\" message is displayed in your notebook. You can click on the following like to browse the RESTful Services class file: https://github.com/Db2-DTE-POC/CPDDVHOL4/blob/main/RESTfulEndpointServiceClass402.ipynb. You are free to download and reuse this sample for your own applications.\n",
    "\n",
    "1. Click the cell below\n",
    "2. Click **Run**"
   ]
  },
  {
   "cell_type": "code",
   "execution_count": 1,
   "metadata": {
    "id": "d370df8bafc74e1591f427f32fcf1944"
   },
   "outputs": [
    {
     "name": "stdout",
     "output_type": "stream",
     "text": [
      "--2021-12-10 18:40:07--  https://raw.githubusercontent.com/Db2-DTE-POC/CPDDVHOL4/main/CPDDVRestAPIClass402.ipynb\n",
      "Resolving raw.githubusercontent.com (raw.githubusercontent.com)... 185.199.110.133, 185.199.109.133, 185.199.111.133, ...\n",
      "Connecting to raw.githubusercontent.com (raw.githubusercontent.com)|185.199.110.133|:443... connected.\n",
      "HTTP request sent, awaiting response... 200 OK\n",
      "Length: 15024 (15K) [text/plain]\n",
      "Saving to: ‘CPDDVRestClassV402.ipynb’\n",
      "\n",
      "CPDDVRestClassV402. 100%[===================>]  14.67K  --.-KB/s    in 0s      \n",
      "\n",
      "2021-12-10 18:40:07 (46.0 MB/s) - ‘CPDDVRestClassV402.ipynb’ saved [15024/15024]\n",
      "\n"
     ]
    }
   ],
   "source": [
    "!wget -O CPDDVRestClassV402.ipynb https://raw.githubusercontent.com/Db2-DTE-POC/CPDDVHOL4/main/CPDDVRestAPIClass402.ipynb\n",
    "%run CPDDVRestClassV402.ipynb"
   ]
  },
  {
   "cell_type": "markdown",
   "metadata": {
    "id": "9f20eb9daabf4912a9441eb5cac9a770"
   },
   "source": [
    "### Connect to the DV RESTful Service\n",
    "To connect to the Data Virtualization service you need to provide the URL, the service name (v1) and profile the console user name and password. This is the samne as logging into the Cloud Pak for Data console but through a Python notebook instead of the user interface on your browser. Run the next cell. You should see that a connection token is successfully retrieved. "
   ]
  },
  {
   "cell_type": "code",
   "execution_count": 2,
   "metadata": {
    "id": "88eaa71d1cf848af89758daa0cfb5ab8"
   },
   "outputs": [
    {
     "name": "stdout",
     "output_type": "stream",
     "text": [
      "Token Retrieved\n"
     ]
    }
   ],
   "source": [
    "# Set the service URL to connect from inside the ICPD Cluster\n",
    "Console  = 'https://cpd-cpd-instance.apps.demo.ibmdte.net:31192'\n",
    "\n",
    "# Connect to the Db2 Data Management Console service\n",
    "user     = 'admin'\n",
    "password = 'CP4DDataFabric'\n",
    "\n",
    "# Set up the required connection\n",
    "databaseAPI = DVRESTAPI(Console)\n",
    "api = '/v1'\n",
    "databaseAPI.authenticate(api, user, password)\n",
    "database = Console"
   ]
  },
  {
   "cell_type": "markdown",
   "metadata": {
    "id": "1f78e351cd124e948746d0eb87bedc06"
   },
   "source": [
    "### Virtualized Tables and Views\n",
    "This next call retrieves all the virtualized tables and views available to the userid that you use to connect to the service. In this example the whole call is included in the DVRESTAPI class library and returned as a complete Dataframe ready for display or to be used for analysis or administration."
   ]
  },
  {
   "cell_type": "code",
   "execution_count": 3,
   "metadata": {
    "id": "0333fcc9f277451b8847c735bbc4a90a"
   },
   "outputs": [
    {
     "data": {
      "text/html": [
       "<div>\n",
       "<style scoped>\n",
       "    .dataframe tbody tr th:only-of-type {\n",
       "        vertical-align: middle;\n",
       "    }\n",
       "\n",
       "    .dataframe tbody tr th {\n",
       "        vertical-align: top;\n",
       "    }\n",
       "\n",
       "    .dataframe thead th {\n",
       "        text-align: right;\n",
       "    }\n",
       "</style>\n",
       "<table border=\"1\" class=\"dataframe\">\n",
       "  <thead>\n",
       "    <tr style=\"text-align: right;\">\n",
       "      <th></th>\n",
       "      <th>create_time</th>\n",
       "      <th>data_source_table_name</th>\n",
       "      <th>grantable</th>\n",
       "      <th>owner</th>\n",
       "      <th>stats_time</th>\n",
       "      <th>table_name</th>\n",
       "      <th>table_schema</th>\n",
       "    </tr>\n",
       "  </thead>\n",
       "  <tbody>\n",
       "    <tr>\n",
       "      <th>0</th>\n",
       "      <td>1635947935938</td>\n",
       "      <td>customer</td>\n",
       "      <td>Y</td>\n",
       "      <td>ADMIN</td>\n",
       "      <td>None</td>\n",
       "      <td>CUSTOMER</td>\n",
       "      <td>MYSQL</td>\n",
       "    </tr>\n",
       "    <tr>\n",
       "      <th>1</th>\n",
       "      <td>1635948002678</td>\n",
       "      <td>stock_transactions</td>\n",
       "      <td>Y</td>\n",
       "      <td>ADMIN</td>\n",
       "      <td>None</td>\n",
       "      <td>STOCK_TRANSACTIONS</td>\n",
       "      <td>MYSQL</td>\n",
       "    </tr>\n",
       "    <tr>\n",
       "      <th>2</th>\n",
       "      <td>1635961450415</td>\n",
       "      <td>ACCOUNTS</td>\n",
       "      <td>Y</td>\n",
       "      <td>ADMIN</td>\n",
       "      <td>None</td>\n",
       "      <td>ACCOUNTS</td>\n",
       "      <td>DB2OLTPONCPD</td>\n",
       "    </tr>\n",
       "    <tr>\n",
       "      <th>3</th>\n",
       "      <td>1635961519040</td>\n",
       "      <td>STOCK_HISTORY</td>\n",
       "      <td>Y</td>\n",
       "      <td>ADMIN</td>\n",
       "      <td>None</td>\n",
       "      <td>STOCK_HISTORY</td>\n",
       "      <td>DB2OLTPONCPD</td>\n",
       "    </tr>\n",
       "    <tr>\n",
       "      <th>4</th>\n",
       "      <td>1635962072432</td>\n",
       "      <td>ACCOUNTS</td>\n",
       "      <td>Y</td>\n",
       "      <td>ADMIN</td>\n",
       "      <td>None</td>\n",
       "      <td>ACCOUNTS</td>\n",
       "      <td>NETEZZA</td>\n",
       "    </tr>\n",
       "    <tr>\n",
       "      <th>...</th>\n",
       "      <td>...</td>\n",
       "      <td>...</td>\n",
       "      <td>...</td>\n",
       "      <td>...</td>\n",
       "      <td>...</td>\n",
       "      <td>...</td>\n",
       "      <td>...</td>\n",
       "    </tr>\n",
       "    <tr>\n",
       "      <th>80</th>\n",
       "      <td>1638287232418</td>\n",
       "      <td>stock_symbols</td>\n",
       "      <td>Y</td>\n",
       "      <td>ADMIN</td>\n",
       "      <td>None</td>\n",
       "      <td>STOCK_SYMBOLS</td>\n",
       "      <td>MYSQLCONNECTOR</td>\n",
       "    </tr>\n",
       "    <tr>\n",
       "      <th>81</th>\n",
       "      <td>1635947665469</td>\n",
       "      <td>ACCOUNTS</td>\n",
       "      <td>Y</td>\n",
       "      <td>ADMIN</td>\n",
       "      <td>None</td>\n",
       "      <td>ACCOUNTS</td>\n",
       "      <td>DB2ONPREMISES</td>\n",
       "    </tr>\n",
       "    <tr>\n",
       "      <th>82</th>\n",
       "      <td>1635947543778</td>\n",
       "      <td>STOCK_HISTORY</td>\n",
       "      <td>Y</td>\n",
       "      <td>ADMIN</td>\n",
       "      <td>None</td>\n",
       "      <td>STOCK_HISTORY</td>\n",
       "      <td>DB2ONPREMISES</td>\n",
       "    </tr>\n",
       "    <tr>\n",
       "      <th>83</th>\n",
       "      <td>1637853809267</td>\n",
       "      <td>VTF_XLSX_PORTFOLIO_3C26E41795427368_0</td>\n",
       "      <td>Y</td>\n",
       "      <td>ADMIN</td>\n",
       "      <td>None</td>\n",
       "      <td>PORTFOLIO</td>\n",
       "      <td>XLSX</td>\n",
       "    </tr>\n",
       "    <tr>\n",
       "      <th>84</th>\n",
       "      <td>1635947665180</td>\n",
       "      <td>STOCK_TRANSACTIONS</td>\n",
       "      <td>Y</td>\n",
       "      <td>ADMIN</td>\n",
       "      <td>None</td>\n",
       "      <td>STOCK_TRANSACTIONS</td>\n",
       "      <td>DB2ONPREMISES</td>\n",
       "    </tr>\n",
       "  </tbody>\n",
       "</table>\n",
       "<p>85 rows × 7 columns</p>\n",
       "</div>"
      ],
      "text/plain": [
       "      create_time                 data_source_table_name grantable  owner  \\\n",
       "0   1635947935938                               customer         Y  ADMIN   \n",
       "1   1635948002678                     stock_transactions         Y  ADMIN   \n",
       "2   1635961450415                               ACCOUNTS         Y  ADMIN   \n",
       "3   1635961519040                          STOCK_HISTORY         Y  ADMIN   \n",
       "4   1635962072432                               ACCOUNTS         Y  ADMIN   \n",
       "..            ...                                    ...       ...    ...   \n",
       "80  1638287232418                          stock_symbols         Y  ADMIN   \n",
       "81  1635947665469                               ACCOUNTS         Y  ADMIN   \n",
       "82  1635947543778                          STOCK_HISTORY         Y  ADMIN   \n",
       "83  1637853809267  VTF_XLSX_PORTFOLIO_3C26E41795427368_0         Y  ADMIN   \n",
       "84  1635947665180                     STOCK_TRANSACTIONS         Y  ADMIN   \n",
       "\n",
       "   stats_time          table_name    table_schema  \n",
       "0        None            CUSTOMER           MYSQL  \n",
       "1        None  STOCK_TRANSACTIONS           MYSQL  \n",
       "2        None            ACCOUNTS    DB2OLTPONCPD  \n",
       "3        None       STOCK_HISTORY    DB2OLTPONCPD  \n",
       "4        None            ACCOUNTS         NETEZZA  \n",
       "..        ...                 ...             ...  \n",
       "80       None       STOCK_SYMBOLS  MYSQLCONNECTOR  \n",
       "81       None            ACCOUNTS   DB2ONPREMISES  \n",
       "82       None       STOCK_HISTORY   DB2ONPREMISES  \n",
       "83       None           PORTFOLIO            XLSX  \n",
       "84       None  STOCK_TRANSACTIONS   DB2ONPREMISES  \n",
       "\n",
       "[85 rows x 7 columns]"
      ]
     },
     "metadata": {},
     "output_type": "display_data"
    },
    {
     "data": {
      "text/html": [
       "<div>\n",
       "<style scoped>\n",
       "    .dataframe tbody tr th:only-of-type {\n",
       "        vertical-align: middle;\n",
       "    }\n",
       "\n",
       "    .dataframe tbody tr th {\n",
       "        vertical-align: top;\n",
       "    }\n",
       "\n",
       "    .dataframe thead th {\n",
       "        text-align: right;\n",
       "    }\n",
       "</style>\n",
       "<table border=\"1\" class=\"dataframe\">\n",
       "  <thead>\n",
       "    <tr style=\"text-align: right;\">\n",
       "      <th></th>\n",
       "      <th>create_time</th>\n",
       "      <th>grantable</th>\n",
       "      <th>owner</th>\n",
       "      <th>viewname</th>\n",
       "      <th>viewschema</th>\n",
       "    </tr>\n",
       "  </thead>\n",
       "  <tbody>\n",
       "    <tr>\n",
       "      <th>0</th>\n",
       "      <td>1637594958041</td>\n",
       "      <td>Y</td>\n",
       "      <td>ADMIN</td>\n",
       "      <td>CUSTOMER</td>\n",
       "      <td>MONGO</td>\n",
       "    </tr>\n",
       "    <tr>\n",
       "      <th>1</th>\n",
       "      <td>1636562977952</td>\n",
       "      <td>Y</td>\n",
       "      <td>ADMIN</td>\n",
       "      <td>AIRCRAFT</td>\n",
       "      <td>ONTIME</td>\n",
       "    </tr>\n",
       "    <tr>\n",
       "      <th>2</th>\n",
       "      <td>1636563269752</td>\n",
       "      <td>Y</td>\n",
       "      <td>ADMIN</td>\n",
       "      <td>BOEING737</td>\n",
       "      <td>ONTIME</td>\n",
       "    </tr>\n",
       "    <tr>\n",
       "      <th>3</th>\n",
       "      <td>1636497353224</td>\n",
       "      <td>Y</td>\n",
       "      <td>ADMIN</td>\n",
       "      <td>ONTIME</td>\n",
       "      <td>ONTIME</td>\n",
       "    </tr>\n",
       "    <tr>\n",
       "      <th>4</th>\n",
       "      <td>1636497308454</td>\n",
       "      <td>Y</td>\n",
       "      <td>ADMIN</td>\n",
       "      <td>ONTIME0910</td>\n",
       "      <td>ONTIME</td>\n",
       "    </tr>\n",
       "    <tr>\n",
       "      <th>5</th>\n",
       "      <td>1636989196845</td>\n",
       "      <td>Y</td>\n",
       "      <td>ADMIN</td>\n",
       "      <td>ONTIME737NJCA</td>\n",
       "      <td>ONTIME</td>\n",
       "    </tr>\n",
       "    <tr>\n",
       "      <th>6</th>\n",
       "      <td>1636379241450</td>\n",
       "      <td>Y</td>\n",
       "      <td>ADMIN</td>\n",
       "      <td>DB2LOOK_INFO_V</td>\n",
       "      <td>SYSTOOLS</td>\n",
       "    </tr>\n",
       "    <tr>\n",
       "      <th>7</th>\n",
       "      <td>1637961605059</td>\n",
       "      <td>Y</td>\n",
       "      <td>ADMIN</td>\n",
       "      <td>ACCOUNTS</td>\n",
       "      <td>TRADING</td>\n",
       "    </tr>\n",
       "    <tr>\n",
       "      <th>8</th>\n",
       "      <td>1637961604312</td>\n",
       "      <td>Y</td>\n",
       "      <td>ADMIN</td>\n",
       "      <td>CUSTOMER</td>\n",
       "      <td>TRADING</td>\n",
       "    </tr>\n",
       "    <tr>\n",
       "      <th>9</th>\n",
       "      <td>1637595119999</td>\n",
       "      <td>Y</td>\n",
       "      <td>ADMIN</td>\n",
       "      <td>OHIO</td>\n",
       "      <td>TRADING</td>\n",
       "    </tr>\n",
       "    <tr>\n",
       "      <th>10</th>\n",
       "      <td>1637961604464</td>\n",
       "      <td>Y</td>\n",
       "      <td>ADMIN</td>\n",
       "      <td>PORTFOLIO</td>\n",
       "      <td>TRADING</td>\n",
       "    </tr>\n",
       "    <tr>\n",
       "      <th>11</th>\n",
       "      <td>1637961604772</td>\n",
       "      <td>Y</td>\n",
       "      <td>ADMIN</td>\n",
       "      <td>STOCK_HISTORY</td>\n",
       "      <td>TRADING</td>\n",
       "    </tr>\n",
       "    <tr>\n",
       "      <th>12</th>\n",
       "      <td>1637961604616</td>\n",
       "      <td>Y</td>\n",
       "      <td>ADMIN</td>\n",
       "      <td>STOCK_SYMBOLS</td>\n",
       "      <td>TRADING</td>\n",
       "    </tr>\n",
       "    <tr>\n",
       "      <th>13</th>\n",
       "      <td>1637961604913</td>\n",
       "      <td>Y</td>\n",
       "      <td>ADMIN</td>\n",
       "      <td>STOCK_TRANSACTIONS</td>\n",
       "      <td>TRADING</td>\n",
       "    </tr>\n",
       "  </tbody>\n",
       "</table>\n",
       "</div>"
      ],
      "text/plain": [
       "      create_time grantable  owner            viewname viewschema\n",
       "0   1637594958041         Y  ADMIN            CUSTOMER      MONGO\n",
       "1   1636562977952         Y  ADMIN            AIRCRAFT     ONTIME\n",
       "2   1636563269752         Y  ADMIN           BOEING737     ONTIME\n",
       "3   1636497353224         Y  ADMIN              ONTIME     ONTIME\n",
       "4   1636497308454         Y  ADMIN          ONTIME0910     ONTIME\n",
       "5   1636989196845         Y  ADMIN       ONTIME737NJCA     ONTIME\n",
       "6   1636379241450         Y  ADMIN      DB2LOOK_INFO_V   SYSTOOLS\n",
       "7   1637961605059         Y  ADMIN            ACCOUNTS    TRADING\n",
       "8   1637961604312         Y  ADMIN            CUSTOMER    TRADING\n",
       "9   1637595119999         Y  ADMIN                OHIO    TRADING\n",
       "10  1637961604464         Y  ADMIN           PORTFOLIO    TRADING\n",
       "11  1637961604772         Y  ADMIN       STOCK_HISTORY    TRADING\n",
       "12  1637961604616         Y  ADMIN       STOCK_SYMBOLS    TRADING\n",
       "13  1637961604913         Y  ADMIN  STOCK_TRANSACTIONS    TRADING"
      ]
     },
     "metadata": {},
     "output_type": "display_data"
    }
   ],
   "source": [
    "### Display Virtualized Tables and Views \n",
    "display(databaseAPI.getVirtualizedTablesDF())\n",
    "display(databaseAPI.getVirtualizedViewsDF())"
   ]
  },
  {
   "cell_type": "markdown",
   "metadata": {
    "id": "8f8fd4fcfdc2496d91850471e6d2dba5"
   },
   "source": [
    "### Get a list of the Data Virtualization Caches\n",
    "A single call to the DVRESTAPI class returns all the information available about all the caches. "
   ]
  },
  {
   "cell_type": "code",
   "execution_count": 4,
   "metadata": {
    "id": "3bb8887652124c0587ecd30456e460fa"
   },
   "outputs": [
    {
     "data": {
      "text/html": [
       "<div>\n",
       "<style scoped>\n",
       "    .dataframe tbody tr th:only-of-type {\n",
       "        vertical-align: middle;\n",
       "    }\n",
       "\n",
       "    .dataframe tbody tr th {\n",
       "        vertical-align: top;\n",
       "    }\n",
       "\n",
       "    .dataframe thead th {\n",
       "        text-align: right;\n",
       "    }\n",
       "</style>\n",
       "<table border=\"1\" class=\"dataframe\">\n",
       "  <thead>\n",
       "    <tr style=\"text-align: right;\">\n",
       "      <th></th>\n",
       "      <th>name</th>\n",
       "      <th>id</th>\n",
       "      <th>query</th>\n",
       "      <th>owner_id</th>\n",
       "      <th>type</th>\n",
       "      <th>created_timestamp</th>\n",
       "      <th>last_modified_timestamp</th>\n",
       "      <th>last_refresh_timestamp</th>\n",
       "      <th>last_used_timestamp</th>\n",
       "      <th>state</th>\n",
       "      <th>size</th>\n",
       "      <th>cardinality</th>\n",
       "      <th>time_taken_for_refresh</th>\n",
       "      <th>refresh_count</th>\n",
       "      <th>hit_count</th>\n",
       "      <th>refresh_schedule</th>\n",
       "      <th>refresh_schedule_desc</th>\n",
       "      <th>status_msg</th>\n",
       "    </tr>\n",
       "  </thead>\n",
       "  <tbody>\n",
       "    <tr>\n",
       "      <th>0</th>\n",
       "      <td>ONTIME0915</td>\n",
       "      <td>DV202111161222469697</td>\n",
       "      <td>SELECT * FROM ONTIME.ONTIME</td>\n",
       "      <td>ADMIN</td>\n",
       "      <td>U</td>\n",
       "      <td>2021-11-16 12:22:46.969151</td>\n",
       "      <td>2021-11-16 15:54:05.80047</td>\n",
       "      <td>2021-11-16 12:59:22.006647</td>\n",
       "      <td>2021-11-16 15:50:31.796</td>\n",
       "      <td>Disabled</td>\n",
       "      <td>1309298</td>\n",
       "      <td>30238851</td>\n",
       "      <td>0</td>\n",
       "      <td>0</td>\n",
       "      <td>3</td>\n",
       "      <td></td>\n",
       "      <td></td>\n",
       "      <td></td>\n",
       "    </tr>\n",
       "    <tr>\n",
       "      <th>1</th>\n",
       "      <td>BOEING737</td>\n",
       "      <td>DV20211110165634403313</td>\n",
       "      <td>SELECT * FROM ONTIME.BOEING737</td>\n",
       "      <td>ADMIN</td>\n",
       "      <td>U</td>\n",
       "      <td>2021-11-10 16:56:34.402815</td>\n",
       "      <td>2021-12-08 17:45:39.870153</td>\n",
       "      <td>2021-11-10 18:30:21.411623</td>\n",
       "      <td>2021-12-08 17:45:50.084</td>\n",
       "      <td>Enabled</td>\n",
       "      <td>56967</td>\n",
       "      <td>4172450</td>\n",
       "      <td>0</td>\n",
       "      <td>0</td>\n",
       "      <td>17</td>\n",
       "      <td></td>\n",
       "      <td></td>\n",
       "      <td></td>\n",
       "    </tr>\n",
       "    <tr>\n",
       "      <th>2</th>\n",
       "      <td>ONTIME737NJCA</td>\n",
       "      <td>DV20211115151427714635</td>\n",
       "      <td>SELECT * FROM ONTIME.ONTIME737NJCA</td>\n",
       "      <td>ADMIN</td>\n",
       "      <td>U</td>\n",
       "      <td>2021-11-15 15:14:27.714001</td>\n",
       "      <td>2021-12-08 17:45:51.024221</td>\n",
       "      <td>2021-11-15 15:33:30.254003</td>\n",
       "      <td>2021-12-08 17:45:57.751</td>\n",
       "      <td>Enabled</td>\n",
       "      <td>554</td>\n",
       "      <td>37621</td>\n",
       "      <td>0</td>\n",
       "      <td>0</td>\n",
       "      <td>25</td>\n",
       "      <td></td>\n",
       "      <td></td>\n",
       "      <td></td>\n",
       "    </tr>\n",
       "    <tr>\n",
       "      <th>6</th>\n",
       "      <td>ONTIME0910</td>\n",
       "      <td>DV20211110144113849337</td>\n",
       "      <td>SELECT * FROM ONTIME.ONTIME0910</td>\n",
       "      <td>ADMIN</td>\n",
       "      <td>U</td>\n",
       "      <td>2021-11-10 14:41:13.848923</td>\n",
       "      <td>2021-12-08 17:44:42.796817</td>\n",
       "      <td>2021-11-10 16:32:41.327378</td>\n",
       "      <td>2021-12-08 17:45:38.845</td>\n",
       "      <td>Enabled</td>\n",
       "      <td>591398</td>\n",
       "      <td>12752436</td>\n",
       "      <td>0</td>\n",
       "      <td>0</td>\n",
       "      <td>27</td>\n",
       "      <td></td>\n",
       "      <td></td>\n",
       "      <td></td>\n",
       "    </tr>\n",
       "    <tr>\n",
       "      <th>7</th>\n",
       "      <td>AIRCRAFT</td>\n",
       "      <td>DV20211115221309388288</td>\n",
       "      <td>SELECT * FROM ONTIME.AIRCRAFT</td>\n",
       "      <td>ADMIN</td>\n",
       "      <td>U</td>\n",
       "      <td>2021-11-15 22:13:09.387651</td>\n",
       "      <td>2021-12-08 17:46:21.233331</td>\n",
       "      <td>2021-12-08 17:46:21.219491</td>\n",
       "      <td>2021-12-08 17:45:50.084</td>\n",
       "      <td>Enabled</td>\n",
       "      <td>106</td>\n",
       "      <td>13101</td>\n",
       "      <td>13021</td>\n",
       "      <td>2</td>\n",
       "      <td>46</td>\n",
       "      <td></td>\n",
       "      <td></td>\n",
       "      <td></td>\n",
       "    </tr>\n",
       "    <tr>\n",
       "      <th>10</th>\n",
       "      <td>ONTIME1115</td>\n",
       "      <td>DV20211110144049703423</td>\n",
       "      <td>SELECT * FROM ONTIME.ONTIME1115</td>\n",
       "      <td>ADMIN</td>\n",
       "      <td>U</td>\n",
       "      <td>2021-11-10 14:40:49.702724</td>\n",
       "      <td>2021-12-08 17:44:44.173509</td>\n",
       "      <td>2021-11-10 15:01:13.967413</td>\n",
       "      <td>2021-12-08 17:45:38.845</td>\n",
       "      <td>Enabled</td>\n",
       "      <td>1399806</td>\n",
       "      <td>30190408</td>\n",
       "      <td>0</td>\n",
       "      <td>0</td>\n",
       "      <td>47</td>\n",
       "      <td></td>\n",
       "      <td></td>\n",
       "      <td></td>\n",
       "    </tr>\n",
       "  </tbody>\n",
       "</table>\n",
       "</div>"
      ],
      "text/plain": [
       "             name                      id                               query  \\\n",
       "0      ONTIME0915    DV202111161222469697         SELECT * FROM ONTIME.ONTIME   \n",
       "1       BOEING737  DV20211110165634403313      SELECT * FROM ONTIME.BOEING737   \n",
       "2   ONTIME737NJCA  DV20211115151427714635  SELECT * FROM ONTIME.ONTIME737NJCA   \n",
       "6      ONTIME0910  DV20211110144113849337     SELECT * FROM ONTIME.ONTIME0910   \n",
       "7        AIRCRAFT  DV20211115221309388288       SELECT * FROM ONTIME.AIRCRAFT   \n",
       "10     ONTIME1115  DV20211110144049703423     SELECT * FROM ONTIME.ONTIME1115   \n",
       "\n",
       "   owner_id type           created_timestamp     last_modified_timestamp  \\\n",
       "0     ADMIN    U  2021-11-16 12:22:46.969151   2021-11-16 15:54:05.80047   \n",
       "1     ADMIN    U  2021-11-10 16:56:34.402815  2021-12-08 17:45:39.870153   \n",
       "2     ADMIN    U  2021-11-15 15:14:27.714001  2021-12-08 17:45:51.024221   \n",
       "6     ADMIN    U  2021-11-10 14:41:13.848923  2021-12-08 17:44:42.796817   \n",
       "7     ADMIN    U  2021-11-15 22:13:09.387651  2021-12-08 17:46:21.233331   \n",
       "10    ADMIN    U  2021-11-10 14:40:49.702724  2021-12-08 17:44:44.173509   \n",
       "\n",
       "        last_refresh_timestamp      last_used_timestamp     state     size  \\\n",
       "0   2021-11-16 12:59:22.006647  2021-11-16 15:50:31.796  Disabled  1309298   \n",
       "1   2021-11-10 18:30:21.411623  2021-12-08 17:45:50.084   Enabled    56967   \n",
       "2   2021-11-15 15:33:30.254003  2021-12-08 17:45:57.751   Enabled      554   \n",
       "6   2021-11-10 16:32:41.327378  2021-12-08 17:45:38.845   Enabled   591398   \n",
       "7   2021-12-08 17:46:21.219491  2021-12-08 17:45:50.084   Enabled      106   \n",
       "10  2021-11-10 15:01:13.967413  2021-12-08 17:45:38.845   Enabled  1399806   \n",
       "\n",
       "    cardinality  time_taken_for_refresh  refresh_count  hit_count  \\\n",
       "0      30238851                       0              0          3   \n",
       "1       4172450                       0              0         17   \n",
       "2         37621                       0              0         25   \n",
       "6      12752436                       0              0         27   \n",
       "7         13101                   13021              2         46   \n",
       "10     30190408                       0              0         47   \n",
       "\n",
       "   refresh_schedule refresh_schedule_desc status_msg  \n",
       "0                                                     \n",
       "1                                                     \n",
       "2                                                     \n",
       "6                                                     \n",
       "7                                                     \n",
       "10                                                    "
      ]
     },
     "metadata": {},
     "output_type": "display_data"
    }
   ],
   "source": [
    "display(databaseAPI.getCaches())"
   ]
  },
  {
   "cell_type": "markdown",
   "metadata": {
    "id": "addf5832f919457d8faac0ccac7c00cc"
   },
   "source": [
    "The **getCaches** routine can show just the enabled or disabled caches using a single parameter. You can also easily choose just the columns you want to see by defining the columns using the dataframe returned by the call."
   ]
  },
  {
   "cell_type": "code",
   "execution_count": 5,
   "metadata": {
    "id": "22243e8126fa489c8d7578eef1597fcd"
   },
   "outputs": [
    {
     "data": {
      "text/html": [
       "<div>\n",
       "<style scoped>\n",
       "    .dataframe tbody tr th:only-of-type {\n",
       "        vertical-align: middle;\n",
       "    }\n",
       "\n",
       "    .dataframe tbody tr th {\n",
       "        vertical-align: top;\n",
       "    }\n",
       "\n",
       "    .dataframe thead th {\n",
       "        text-align: right;\n",
       "    }\n",
       "</style>\n",
       "<table border=\"1\" class=\"dataframe\">\n",
       "  <thead>\n",
       "    <tr style=\"text-align: right;\">\n",
       "      <th></th>\n",
       "      <th>id</th>\n",
       "      <th>name</th>\n",
       "      <th>state</th>\n",
       "      <th>size</th>\n",
       "      <th>cardinality</th>\n",
       "      <th>last_refresh_timestamp</th>\n",
       "    </tr>\n",
       "  </thead>\n",
       "  <tbody>\n",
       "    <tr>\n",
       "      <th>1</th>\n",
       "      <td>DV20211110165634403313</td>\n",
       "      <td>BOEING737</td>\n",
       "      <td>Enabled</td>\n",
       "      <td>56967</td>\n",
       "      <td>4172450</td>\n",
       "      <td>2021-11-10 18:30:21.411623</td>\n",
       "    </tr>\n",
       "    <tr>\n",
       "      <th>2</th>\n",
       "      <td>DV20211115151427714635</td>\n",
       "      <td>ONTIME737NJCA</td>\n",
       "      <td>Enabled</td>\n",
       "      <td>554</td>\n",
       "      <td>37621</td>\n",
       "      <td>2021-11-15 15:33:30.254003</td>\n",
       "    </tr>\n",
       "    <tr>\n",
       "      <th>6</th>\n",
       "      <td>DV20211110144113849337</td>\n",
       "      <td>ONTIME0910</td>\n",
       "      <td>Enabled</td>\n",
       "      <td>591398</td>\n",
       "      <td>12752436</td>\n",
       "      <td>2021-11-10 16:32:41.327378</td>\n",
       "    </tr>\n",
       "    <tr>\n",
       "      <th>7</th>\n",
       "      <td>DV20211115221309388288</td>\n",
       "      <td>AIRCRAFT</td>\n",
       "      <td>Enabled</td>\n",
       "      <td>106</td>\n",
       "      <td>13101</td>\n",
       "      <td>2021-12-08 17:46:21.219491</td>\n",
       "    </tr>\n",
       "    <tr>\n",
       "      <th>10</th>\n",
       "      <td>DV20211110144049703423</td>\n",
       "      <td>ONTIME1115</td>\n",
       "      <td>Enabled</td>\n",
       "      <td>1399806</td>\n",
       "      <td>30190408</td>\n",
       "      <td>2021-11-10 15:01:13.967413</td>\n",
       "    </tr>\n",
       "  </tbody>\n",
       "</table>\n",
       "</div>"
      ],
      "text/plain": [
       "                        id           name    state     size  cardinality  \\\n",
       "1   DV20211110165634403313      BOEING737  Enabled    56967      4172450   \n",
       "2   DV20211115151427714635  ONTIME737NJCA  Enabled      554        37621   \n",
       "6   DV20211110144113849337     ONTIME0910  Enabled   591398     12752436   \n",
       "7   DV20211115221309388288       AIRCRAFT  Enabled      106        13101   \n",
       "10  DV20211110144049703423     ONTIME1115  Enabled  1399806     30190408   \n",
       "\n",
       "        last_refresh_timestamp  \n",
       "1   2021-11-10 18:30:21.411623  \n",
       "2   2021-11-15 15:33:30.254003  \n",
       "6   2021-11-10 16:32:41.327378  \n",
       "7   2021-12-08 17:46:21.219491  \n",
       "10  2021-11-10 15:01:13.967413  "
      ]
     },
     "metadata": {},
     "output_type": "display_data"
    }
   ],
   "source": [
    "df = databaseAPI.getCaches('Enabled')\n",
    "display(df[['id', 'name','state','size', 'cardinality','last_refresh_timestamp']])"
   ]
  },
  {
   "cell_type": "code",
   "execution_count": 6,
   "metadata": {
    "id": "510289868c874039b211905de1af3f5f"
   },
   "outputs": [
    {
     "data": {
      "text/html": [
       "<div>\n",
       "<style scoped>\n",
       "    .dataframe tbody tr th:only-of-type {\n",
       "        vertical-align: middle;\n",
       "    }\n",
       "\n",
       "    .dataframe tbody tr th {\n",
       "        vertical-align: top;\n",
       "    }\n",
       "\n",
       "    .dataframe thead th {\n",
       "        text-align: right;\n",
       "    }\n",
       "</style>\n",
       "<table border=\"1\" class=\"dataframe\">\n",
       "  <thead>\n",
       "    <tr style=\"text-align: right;\">\n",
       "      <th></th>\n",
       "      <th>id</th>\n",
       "      <th>name</th>\n",
       "      <th>state</th>\n",
       "      <th>size</th>\n",
       "      <th>cardinality</th>\n",
       "      <th>last_refresh_timestamp</th>\n",
       "    </tr>\n",
       "  </thead>\n",
       "  <tbody>\n",
       "    <tr>\n",
       "      <th>0</th>\n",
       "      <td>DV202111161222469697</td>\n",
       "      <td>ONTIME0915</td>\n",
       "      <td>Disabled</td>\n",
       "      <td>1309298</td>\n",
       "      <td>30238851</td>\n",
       "      <td>2021-11-16 12:59:22.006647</td>\n",
       "    </tr>\n",
       "  </tbody>\n",
       "</table>\n",
       "</div>"
      ],
      "text/plain": [
       "                     id        name     state     size  cardinality  \\\n",
       "0  DV202111161222469697  ONTIME0915  Disabled  1309298     30238851   \n",
       "\n",
       "       last_refresh_timestamp  \n",
       "0  2021-11-16 12:59:22.006647  "
      ]
     },
     "metadata": {},
     "output_type": "display_data"
    }
   ],
   "source": [
    "df = databaseAPI.getCaches('Disabled')\n",
    "display(df[['id', 'name','state','size', 'cardinality','last_refresh_timestamp']])"
   ]
  },
  {
   "cell_type": "markdown",
   "metadata": {
    "id": "3c7bd32c6b0c425d8214a55503581379"
   },
   "source": [
    "### Running the Ontime Query without a Cache\n",
    "Now that you have retrieved the list of enabled and disabled caches, lets run a set of queries to retrieve the number of rows in each cache, its cardinality. You can see this through the Cache management interface, but we want to collect the size of each cache to create a graph to compare them. Before we run the queries, let's make sure that all the caches are enabled."
   ]
  },
  {
   "cell_type": "code",
   "execution_count": 7,
   "metadata": {
    "id": "dfa24c442aee4c3a9fc738fb49143fa5"
   },
   "outputs": [
    {
     "name": "stdout",
     "output_type": "stream",
     "text": [
      "409\n",
      "The requested operation cannot be performed currently : Cannot Enable right now\n"
     ]
    }
   ],
   "source": [
    "# Enable ONTIME1115\n",
    "databaseAPI.enableCache('DV20211110144113849337')"
   ]
  },
  {
   "cell_type": "code",
   "execution_count": 8,
   "metadata": {
    "id": "eae16e86ea114f358a0b3dabbde08681"
   },
   "outputs": [
    {
     "name": "stdout",
     "output_type": "stream",
     "text": [
      "409\n",
      "The requested operation cannot be performed currently : Cannot Enable right now\n"
     ]
    }
   ],
   "source": [
    "# Enable ONTIME0910\n",
    "databaseAPI.enableCache('DV20211110144049703423')"
   ]
  },
  {
   "cell_type": "code",
   "execution_count": 9,
   "metadata": {
    "id": "f3ae06140cf348988bc95aea1105f025"
   },
   "outputs": [
    {
     "name": "stdout",
     "output_type": "stream",
     "text": [
      "409\n",
      "The requested operation cannot be performed currently : Cannot Enable right now\n"
     ]
    }
   ],
   "source": [
    "# Enable AIRCRAFT\n",
    "databaseAPI.enableCache('DV20211115221309388288')"
   ]
  },
  {
   "cell_type": "code",
   "execution_count": 10,
   "metadata": {
    "id": "6d92cfeb98d943de8eeaf39bd93fff9e"
   },
   "outputs": [
    {
     "name": "stdout",
     "output_type": "stream",
     "text": [
      "409\n",
      "The requested operation cannot be performed currently : Cannot Enable right now\n"
     ]
    }
   ],
   "source": [
    "# Enable BOEING737\n",
    "databaseAPI.enableCache('DV20211110165634403313')"
   ]
  },
  {
   "cell_type": "code",
   "execution_count": 11,
   "metadata": {
    "id": "409839952b594b23996947fc36397fec"
   },
   "outputs": [
    {
     "name": "stdout",
     "output_type": "stream",
     "text": [
      "409\n",
      "The requested operation cannot be performed currently : Cannot Enable right now\n"
     ]
    }
   ],
   "source": [
    "# Enable ONTIME737NJCA\n",
    "databaseAPI.enableCache('DV20211115151427714635')"
   ]
  },
  {
   "cell_type": "markdown",
   "metadata": {
    "id": "74da227473714d7198953e7122e3927c"
   },
   "source": [
    "### Running Statements against the Data Virtualization server\n",
    "Before we can run queries against Data Virtualization we need to connect to it through the JDBC port. Data Virtualization supports the full SQL and JDBC drivers as Db2. So we can use the Db2 Python Magic library available from GITHUB."
   ]
  },
  {
   "cell_type": "code",
   "execution_count": 12,
   "metadata": {
    "id": "a8727491a745408e8d2377f04d8ed2f9"
   },
   "outputs": [
    {
     "name": "stdout",
     "output_type": "stream",
     "text": [
      "--2021-12-10 18:40:11--  https://raw.githubusercontent.com/Db2-DTE-POC/Db2-Openshift-11.5.4/master/db2.ipynb\n",
      "Resolving raw.githubusercontent.com (raw.githubusercontent.com)... 185.199.110.133, 185.199.109.133, 185.199.111.133, ...\n",
      "Connecting to raw.githubusercontent.com (raw.githubusercontent.com)|185.199.110.133|:443... connected.\n",
      "HTTP request sent, awaiting response... 200 OK\n",
      "Length: 168432 (164K) [text/plain]\n",
      "Saving to: ‘db2.ipynb’\n",
      "\n",
      "db2.ipynb           100%[===================>] 164.48K  --.-KB/s    in 0.005s  \n",
      "\n",
      "2021-12-10 18:40:11 (34.1 MB/s) - ‘db2.ipynb’ saved [168432/168432]\n",
      "\n",
      "Db2 Extensions Loaded.\n",
      "db2.ipynb loaded\n"
     ]
    }
   ],
   "source": [
    "!wget -O db2.ipynb https://raw.githubusercontent.com/Db2-DTE-POC/Db2-Openshift-11.5.4/master/db2.ipynb\n",
    "%run db2.ipynb\n",
    "print('db2.ipynb loaded')"
   ]
  },
  {
   "cell_type": "markdown",
   "metadata": {
    "id": "6a71335151314063bb6e17712ecc8ac1"
   },
   "source": [
    "Connect to the Data Virtualization data server using the admin userid and password."
   ]
  },
  {
   "cell_type": "code",
   "execution_count": 13,
   "metadata": {
    "id": "fe5be419170b4d6c8b295f5ca2e05800"
   },
   "outputs": [
    {
     "name": "stdout",
     "output_type": "stream",
     "text": [
      "Connection successful.\n"
     ]
    }
   ],
   "source": [
    "# Connect to the Data Virtualization Database\n",
    "database = 'bigsql'\n",
    "user = 'admin'\n",
    "password = 'CP4DDataFabric'\n",
    "host = 'cpd-cpd-instance.apps.demo.ibmdte.net'\n",
    "port = '31193'\n",
    "\n",
    "%sql CONNECT TO {database} USER {user} USING {password} HOST {host} PORT {port}"
   ]
  },
  {
   "cell_type": "markdown",
   "metadata": {
    "id": "767481064b02466b825a6a342b7ba4cd"
   },
   "source": [
    "Run the next six cells to collect the number of rows in each of the following views. Since the cache that was created for each view is enabled, this returns the number of rows in each cache. "
   ]
  },
  {
   "cell_type": "code",
   "execution_count": 14,
   "metadata": {
    "id": "78418d87b59349e9895aa9a1c3d1c667"
   },
   "outputs": [],
   "source": [
    "ontime0910count = %sql SELECT COUNT(*) FROM ONTIME.ONTIME0910;"
   ]
  },
  {
   "cell_type": "code",
   "execution_count": 15,
   "metadata": {
    "id": "ec93bd513a27437d8413893ebdf3ebfd"
   },
   "outputs": [],
   "source": [
    "ontime1115count = %sql SELECT COUNT(*) FROM ONTIME.ONTIME1115;"
   ]
  },
  {
   "cell_type": "code",
   "execution_count": 16,
   "metadata": {
    "id": "d62251bf365d4523a44b79f37a7c7d90"
   },
   "outputs": [],
   "source": [
    "ontime737count = %sql SELECT COUNT(*) FROM ONTIME.BOEING737;"
   ]
  },
  {
   "cell_type": "code",
   "execution_count": 17,
   "metadata": {
    "id": "dda7f3844afe4fd2b1a4326ee8975b8b"
   },
   "outputs": [],
   "source": [
    "ontimenjca737count = %sql SELECT COUNT(*) FROM ONTIME.ONTIME737NJCA;"
   ]
  },
  {
   "cell_type": "code",
   "execution_count": 18,
   "metadata": {
    "id": "d3862e7a158f4af788e16aed98e9bf3c"
   },
   "outputs": [],
   "source": [
    "aircraftcount = %sql SELECT COUNT(*) FROM ONTIME.AIRCRAFT;"
   ]
  },
  {
   "cell_type": "markdown",
   "metadata": {
    "id": "6cec4a0d154d41f584c4deb369593efa"
   },
   "source": [
    "Run the next cells to extract the first value from the DataFrame with the results of each query."
   ]
  },
  {
   "cell_type": "code",
   "execution_count": 19,
   "metadata": {
    "id": "23268a156ac041d7924cf392ebd69b52"
   },
   "outputs": [],
   "source": [
    "ontime0910 = ontime0910count['1'][0]\n",
    "ontime1115 = ontime1115count['1'][0]\n",
    "ontimefull = ontime0910 + ontime1115\n",
    "ontime737 = ontime737count['1'][0]\n",
    "ontimenjca737 = ontimenjca737count['1'][0]\n",
    "aircraft = aircraftcount['1'][0]"
   ]
  },
  {
   "cell_type": "markdown",
   "metadata": {
    "id": "71b2821c91e54aafaf20826208cfd7ef"
   },
   "source": [
    "Run the next cell to see the number of rows in each view."
   ]
  },
  {
   "cell_type": "code",
   "execution_count": 20,
   "metadata": {
    "id": "e7b0a70d8fb74afb916bb67c75d09cb2"
   },
   "outputs": [
    {
     "name": "stdout",
     "output_type": "stream",
     "text": [
      "Aircraft:13101.0\n",
      "Number of Domestic Flights in the US\n",
      "Years 2009 to 2010: 12752436.0\n",
      "Years 2011 to 2015: 30190408.0\n",
      "Years 2009 to 2015: 42942844.0\n",
      "Only 737 from 2009 to 2015: 4172450.0\n",
      "Only 737 from NJ to CA: 37621.0\n"
     ]
    }
   ],
   "source": [
    "print('Aircraft:' + str(aircraft))\n",
    "print('Number of Domestic Flights in the US')\n",
    "print('Years 2009 to 2010: ' + str(ontime0910))\n",
    "print('Years 2011 to 2015: ' + str(ontime1115))\n",
    "print('Years 2009 to 2015: ' + str(ontimefull))\n",
    "print('Only 737 from 2009 to 2015: ' + str(ontime737))\n",
    "print('Only 737 from NJ to CA: ' + str(ontimenjca737))"
   ]
  },
  {
   "cell_type": "markdown",
   "metadata": {
    "id": "0f564ca5b8ed449eb18244b620103ecd"
   },
   "source": [
    "### Running without any Caches\n",
    "For the first performance runs without any caches. This is the performance baseline that caches are compared against. Run the next five cells to disable all of the caches. "
   ]
  },
  {
   "cell_type": "code",
   "execution_count": 21,
   "metadata": {
    "id": "c2301d9b85d64cdb8ebe753c0d7a53cf"
   },
   "outputs": [
    {
     "name": "stdout",
     "output_type": "stream",
     "text": [
      "Cache: DV20211110144113849337 disabled.\n"
     ]
    }
   ],
   "source": [
    "# Disable ONTIME0910\n",
    "databaseAPI.disableCache('DV20211110144113849337')"
   ]
  },
  {
   "cell_type": "code",
   "execution_count": 22,
   "metadata": {
    "id": "f7e3fd6bea87405489fee6d854e2c1aa"
   },
   "outputs": [
    {
     "name": "stdout",
     "output_type": "stream",
     "text": [
      "Cache: DV20211110144049703423 disabled.\n"
     ]
    }
   ],
   "source": [
    "# Disable ONTIME1115\n",
    "databaseAPI.disableCache('DV20211110144049703423')"
   ]
  },
  {
   "cell_type": "code",
   "execution_count": 23,
   "metadata": {
    "id": "f367e6e9b2e546089ad4138dd0a3416a"
   },
   "outputs": [
    {
     "name": "stdout",
     "output_type": "stream",
     "text": [
      "Cache: DV20211110165634403313 disabled.\n"
     ]
    }
   ],
   "source": [
    "# Disable BOEING737\n",
    "databaseAPI.disableCache('DV20211110165634403313')"
   ]
  },
  {
   "cell_type": "code",
   "execution_count": 24,
   "metadata": {
    "id": "c5e1efc7c6c9484388deb0d9c81c95d8"
   },
   "outputs": [
    {
     "name": "stdout",
     "output_type": "stream",
     "text": [
      "Cache: DV20211115151427714635 disabled.\n"
     ]
    }
   ],
   "source": [
    "# Disable ONTIME737NJCA\n",
    "databaseAPI.disableCache('DV20211115151427714635')"
   ]
  },
  {
   "cell_type": "code",
   "execution_count": 25,
   "metadata": {
    "id": "a13ac26bdf394c468fef3c70d07734c0"
   },
   "outputs": [
    {
     "name": "stdout",
     "output_type": "stream",
     "text": [
      "Cache: DV20211115221309388288 disabled.\n"
     ]
    }
   ],
   "source": [
    "# Disable AIRCRAFT\n",
    "databaseAPI.disableCache('DV20211115221309388288')"
   ]
  },
  {
   "cell_type": "markdown",
   "metadata": {
    "id": "e820362f5782493c895dd4698415f620"
   },
   "source": [
    "Run the next cell to confirm that all the caches are disabed"
   ]
  },
  {
   "cell_type": "code",
   "execution_count": 26,
   "metadata": {
    "id": "c769f9eaf894442e8e38ebb741f5cbc9"
   },
   "outputs": [
    {
     "data": {
      "text/html": [
       "<div>\n",
       "<style scoped>\n",
       "    .dataframe tbody tr th:only-of-type {\n",
       "        vertical-align: middle;\n",
       "    }\n",
       "\n",
       "    .dataframe tbody tr th {\n",
       "        vertical-align: top;\n",
       "    }\n",
       "\n",
       "    .dataframe thead th {\n",
       "        text-align: right;\n",
       "    }\n",
       "</style>\n",
       "<table border=\"1\" class=\"dataframe\">\n",
       "  <thead>\n",
       "    <tr style=\"text-align: right;\">\n",
       "      <th></th>\n",
       "      <th>id</th>\n",
       "      <th>name</th>\n",
       "      <th>state</th>\n",
       "      <th>size</th>\n",
       "      <th>cardinality</th>\n",
       "      <th>last_refresh_timestamp</th>\n",
       "    </tr>\n",
       "  </thead>\n",
       "  <tbody>\n",
       "  </tbody>\n",
       "</table>\n",
       "</div>"
      ],
      "text/plain": [
       "Empty DataFrame\n",
       "Columns: [id, name, state, size, cardinality, last_refresh_timestamp]\n",
       "Index: []"
      ]
     },
     "metadata": {},
     "output_type": "display_data"
    }
   ],
   "source": [
    "df = databaseAPI.getCaches('Enabled')\n",
    "display(df[['id', 'name','state','size', 'cardinality','last_refresh_timestamp']])"
   ]
  },
  {
   "cell_type": "markdown",
   "metadata": {
    "id": "c7eb7ed308da43308602ef8a1f786693"
   },
   "source": [
    "Now you can run the ontime analysis query. \n",
    "\n",
    "**Run the next three cells.** \n",
    "\n",
    "The first cell runs the query and returns the first five rows of the result set. The second cell, reruns the query. The second time run results of the time to run the query is captured using the %time and %capture magic Python tags. The third cell collects the results of the second cell for later.\n",
    "\n",
    "The statement below joins the ONTIME table and the AIRCRAFT table on the Tail Number of each aircraft. It then searches through the almost 44 million flight records to find only the flights for 737 aircraft that flew from New Jersy to California with a Taxi out time of greater than 30 minutes, a total flight distance of over 2000 miles and a departure delay of over 200 minutes. It then orders the results by the highest arrival delay time first. \n",
    "\n",
    "These queries typically take about 1 minute and 20 seconds to run each. So while you are waiting for them to complete skip ahead to the next second and lets see how the data virtualization engine is going to retrieve the results."
   ]
  },
  {
   "cell_type": "code",
   "execution_count": 27,
   "metadata": {
    "id": "a5393cf625614d138eb6e32fe21553ef"
   },
   "outputs": [
    {
     "data": {
      "text/html": [
       "<div>\n",
       "<style scoped>\n",
       "    .dataframe tbody tr th:only-of-type {\n",
       "        vertical-align: middle;\n",
       "    }\n",
       "\n",
       "    .dataframe tbody tr th {\n",
       "        vertical-align: top;\n",
       "    }\n",
       "\n",
       "    .dataframe thead th {\n",
       "        text-align: right;\n",
       "    }\n",
       "</style>\n",
       "<table border=\"1\" class=\"dataframe\">\n",
       "  <thead>\n",
       "    <tr style=\"text-align: right;\">\n",
       "      <th></th>\n",
       "      <th>DAYKEY</th>\n",
       "      <th>YEAR</th>\n",
       "      <th>QUARTERKEY</th>\n",
       "      <th>QUARTER</th>\n",
       "      <th>MONTHKEY</th>\n",
       "      <th>MONTH</th>\n",
       "      <th>DAYOFMONTH</th>\n",
       "      <th>DAYOFWEEK</th>\n",
       "      <th>FLIGHTDATE</th>\n",
       "      <th>UNIQUECARRIER</th>\n",
       "      <th>AIRLINEID</th>\n",
       "      <th>CARRIER</th>\n",
       "      <th>TAILNUM</th>\n",
       "      <th>FLIGHTNUM</th>\n",
       "      <th>ORIGINAIRPORTID</th>\n",
       "      <th>ORIGINAIRPORTSEQID</th>\n",
       "      <th>ORIGINCITYMARKETID</th>\n",
       "      <th>ORIGIN</th>\n",
       "      <th>ORIGINCITYNAME</th>\n",
       "      <th>ORIGINSTATE</th>\n",
       "      <th>ORIGINSTATEFIPS</th>\n",
       "      <th>ORIGINSTATENAME</th>\n",
       "      <th>ORIGINWAC</th>\n",
       "      <th>DESTAIRPORTID</th>\n",
       "      <th>DESTAIRPORTSEQID</th>\n",
       "      <th>DESTCITYMARKETID</th>\n",
       "      <th>DEST</th>\n",
       "      <th>DESTCITYNAME</th>\n",
       "      <th>DESTSTATE</th>\n",
       "      <th>DESTSTATEFIPS</th>\n",
       "      <th>DESTSTATENAME</th>\n",
       "      <th>DESTWAC</th>\n",
       "      <th>CRSDEPTIME</th>\n",
       "      <th>DEPTIME</th>\n",
       "      <th>DEPDELAY</th>\n",
       "      <th>DEPDELAYMINUTES</th>\n",
       "      <th>DEPDEL15</th>\n",
       "      <th>DEPARTUREDELAYGROUPS</th>\n",
       "      <th>DEPTIMEBLK</th>\n",
       "      <th>TAXIOUT</th>\n",
       "      <th>WHEELSOFF</th>\n",
       "      <th>WHEELSON</th>\n",
       "      <th>TAXIIN</th>\n",
       "      <th>CRSARRTIME</th>\n",
       "      <th>ARRTIME</th>\n",
       "      <th>ARRDELAY</th>\n",
       "      <th>ARRDELAYMINUTES</th>\n",
       "      <th>ARRDEL15</th>\n",
       "      <th>ARRIVALDELAYGROUPS</th>\n",
       "      <th>ARRTIMEBLK</th>\n",
       "      <th>CANCELLED</th>\n",
       "      <th>CANCELLATIONCODE</th>\n",
       "      <th>DIVERTED</th>\n",
       "      <th>CRSELAPSEDTIME</th>\n",
       "      <th>ACTUALELAPSEDTIME</th>\n",
       "      <th>AIRTIME</th>\n",
       "      <th>FLIGHTS</th>\n",
       "      <th>DISTANCE</th>\n",
       "      <th>DISTANCEGROUP</th>\n",
       "      <th>CARRIERDELAY</th>\n",
       "      <th>WEATHERDELAY</th>\n",
       "      <th>NASDELAY</th>\n",
       "      <th>SECURITYDELAY</th>\n",
       "      <th>LATEAIRCRAFTDELAY</th>\n",
       "      <th>FIRSTDEPTIME</th>\n",
       "      <th>TOTALADDGTIME</th>\n",
       "      <th>LONGESTADDGTIME</th>\n",
       "      <th>DIVAIRPORTLANDINGS</th>\n",
       "      <th>DIVREACHEDDEST</th>\n",
       "      <th>DIVACTUALELAPSEDTIME</th>\n",
       "      <th>DIVARRDELAY</th>\n",
       "      <th>DIVDISTANCE</th>\n",
       "      <th>DIV1AIRPORT</th>\n",
       "      <th>DIV1AIRPORTID</th>\n",
       "      <th>DIV1AIRPORTSEQID</th>\n",
       "      <th>DIV1WHEELSON</th>\n",
       "      <th>DIV1TOTALGTIME</th>\n",
       "      <th>DIV1LONGESTGTIME</th>\n",
       "      <th>DIV1WHEELSOFF</th>\n",
       "      <th>DIV1TAILNUM</th>\n",
       "      <th>DIV2AIRPORT</th>\n",
       "      <th>DIV2AIRPORTID</th>\n",
       "      <th>DIV2AIRPORTSEQID</th>\n",
       "      <th>DIV2WHEELSON</th>\n",
       "      <th>DIV2TOTALGTIME</th>\n",
       "      <th>DIV2LONGESTGTIME</th>\n",
       "      <th>DIV2WHEELSOFF</th>\n",
       "      <th>DIV2TAILNUM</th>\n",
       "      <th>DIV3AIRPORT</th>\n",
       "      <th>DIV3AIRPORTID</th>\n",
       "      <th>DIV3AIRPORTSEQID</th>\n",
       "      <th>DIV3WHEELSON</th>\n",
       "      <th>DIV3TOTALGTIME</th>\n",
       "      <th>DIV3LONGESTGTIME</th>\n",
       "      <th>DIV3WHEELSOFF</th>\n",
       "      <th>DIV3TAILNUM</th>\n",
       "      <th>DIV4AIRPORT</th>\n",
       "      <th>DIV4AIRPORTID</th>\n",
       "      <th>DIV4AIRPORTSEQID</th>\n",
       "      <th>DIV4WHEELSON</th>\n",
       "      <th>DIV4TOTALGTIME</th>\n",
       "      <th>DIV4LONGESTGTIME</th>\n",
       "      <th>DIV4WHEELSOFF</th>\n",
       "      <th>DIV4TAILNUM</th>\n",
       "      <th>DIV5AIRPORT</th>\n",
       "      <th>DIV5AIRPORTID</th>\n",
       "      <th>DIV5AIRPORTSEQID</th>\n",
       "      <th>DIV5WHEELSON</th>\n",
       "      <th>DIV5TOTALGTIME</th>\n",
       "      <th>DIV5LONGESTGTIME</th>\n",
       "      <th>DIV5WHEELSOFF</th>\n",
       "      <th>DIV5TAILNUM</th>\n",
       "      <th>UNKNOWNCOL110</th>\n",
       "      <th>NUMROWS</th>\n",
       "      <th>TAIL_NUMBER</th>\n",
       "      <th>MANUFACTURER</th>\n",
       "      <th>MODEL</th>\n",
       "    </tr>\n",
       "  </thead>\n",
       "  <tbody>\n",
       "    <tr>\n",
       "      <th>0</th>\n",
       "      <td>20091101</td>\n",
       "      <td>2009</td>\n",
       "      <td>200904</td>\n",
       "      <td>4</td>\n",
       "      <td>200911</td>\n",
       "      <td>11</td>\n",
       "      <td>1</td>\n",
       "      <td>7</td>\n",
       "      <td>2009-11-01</td>\n",
       "      <td>CO</td>\n",
       "      <td>19704</td>\n",
       "      <td>CO</td>\n",
       "      <td>N78506</td>\n",
       "      <td>787</td>\n",
       "      <td>11618</td>\n",
       "      <td>1161801</td>\n",
       "      <td>31703</td>\n",
       "      <td>EWR</td>\n",
       "      <td>Newark, NJ</td>\n",
       "      <td>NJ</td>\n",
       "      <td>34</td>\n",
       "      <td>New Jersey</td>\n",
       "      <td>21</td>\n",
       "      <td>14908</td>\n",
       "      <td>1490802</td>\n",
       "      <td>32575</td>\n",
       "      <td>SNA</td>\n",
       "      <td>Santa Ana, CA</td>\n",
       "      <td>CA</td>\n",
       "      <td>6</td>\n",
       "      <td>California</td>\n",
       "      <td>91</td>\n",
       "      <td>1730</td>\n",
       "      <td>2219</td>\n",
       "      <td>289</td>\n",
       "      <td>289</td>\n",
       "      <td>1</td>\n",
       "      <td>12</td>\n",
       "      <td>1700-1759</td>\n",
       "      <td>31</td>\n",
       "      <td>2250</td>\n",
       "      <td>NaN</td>\n",
       "      <td>NaN</td>\n",
       "      <td>2057</td>\n",
       "      <td>NaN</td>\n",
       "      <td>NaN</td>\n",
       "      <td>NaN</td>\n",
       "      <td>NaN</td>\n",
       "      <td>NaN</td>\n",
       "      <td>2000-2059</td>\n",
       "      <td>0</td>\n",
       "      <td>None</td>\n",
       "      <td>1</td>\n",
       "      <td>387</td>\n",
       "      <td>NaN</td>\n",
       "      <td>NaN</td>\n",
       "      <td>1</td>\n",
       "      <td>2433</td>\n",
       "      <td>10</td>\n",
       "      <td>NaN</td>\n",
       "      <td>NaN</td>\n",
       "      <td>NaN</td>\n",
       "      <td>NaN</td>\n",
       "      <td>NaN</td>\n",
       "      <td>None</td>\n",
       "      <td>None</td>\n",
       "      <td>None</td>\n",
       "      <td>1</td>\n",
       "      <td>0.0</td>\n",
       "      <td>None</td>\n",
       "      <td>None</td>\n",
       "      <td>36.0</td>\n",
       "      <td>LAX</td>\n",
       "      <td>12892.0</td>\n",
       "      <td>1289201.0</td>\n",
       "      <td>117.0</td>\n",
       "      <td>5.0</td>\n",
       "      <td>5.0</td>\n",
       "      <td>None</td>\n",
       "      <td>None</td>\n",
       "      <td>None</td>\n",
       "      <td>None</td>\n",
       "      <td>None</td>\n",
       "      <td>None</td>\n",
       "      <td>None</td>\n",
       "      <td>None</td>\n",
       "      <td>None</td>\n",
       "      <td>None</td>\n",
       "      <td>None</td>\n",
       "      <td>None</td>\n",
       "      <td>None</td>\n",
       "      <td>None</td>\n",
       "      <td>None</td>\n",
       "      <td>None</td>\n",
       "      <td>None</td>\n",
       "      <td>None</td>\n",
       "      <td>None</td>\n",
       "      <td>None</td>\n",
       "      <td>None</td>\n",
       "      <td>None</td>\n",
       "      <td>None</td>\n",
       "      <td>None</td>\n",
       "      <td>None</td>\n",
       "      <td>None</td>\n",
       "      <td>None</td>\n",
       "      <td>None</td>\n",
       "      <td>None</td>\n",
       "      <td>None</td>\n",
       "      <td>None</td>\n",
       "      <td>None</td>\n",
       "      <td>None</td>\n",
       "      <td>None</td>\n",
       "      <td>None</td>\n",
       "      <td>1</td>\n",
       "      <td>N78506</td>\n",
       "      <td>Boeing</td>\n",
       "      <td>B737-800PAX</td>\n",
       "    </tr>\n",
       "    <tr>\n",
       "      <th>1</th>\n",
       "      <td>20120809</td>\n",
       "      <td>2012</td>\n",
       "      <td>201203</td>\n",
       "      <td>3</td>\n",
       "      <td>201208</td>\n",
       "      <td>8</td>\n",
       "      <td>9</td>\n",
       "      <td>4</td>\n",
       "      <td>2012-08-09</td>\n",
       "      <td>UA</td>\n",
       "      <td>19977</td>\n",
       "      <td>UA</td>\n",
       "      <td>N16217</td>\n",
       "      <td>1083</td>\n",
       "      <td>11618</td>\n",
       "      <td>1161802</td>\n",
       "      <td>31703</td>\n",
       "      <td>EWR</td>\n",
       "      <td>Newark, NJ</td>\n",
       "      <td>NJ</td>\n",
       "      <td>34</td>\n",
       "      <td>New Jersey</td>\n",
       "      <td>21</td>\n",
       "      <td>14908</td>\n",
       "      <td>1490803</td>\n",
       "      <td>32575</td>\n",
       "      <td>SNA</td>\n",
       "      <td>Santa Ana, CA</td>\n",
       "      <td>CA</td>\n",
       "      <td>6</td>\n",
       "      <td>California</td>\n",
       "      <td>91</td>\n",
       "      <td>1823</td>\n",
       "      <td>2215</td>\n",
       "      <td>232</td>\n",
       "      <td>232</td>\n",
       "      <td>1</td>\n",
       "      <td>12</td>\n",
       "      <td>1800-1859</td>\n",
       "      <td>55</td>\n",
       "      <td>2310</td>\n",
       "      <td>NaN</td>\n",
       "      <td>NaN</td>\n",
       "      <td>2133</td>\n",
       "      <td>NaN</td>\n",
       "      <td>NaN</td>\n",
       "      <td>NaN</td>\n",
       "      <td>NaN</td>\n",
       "      <td>NaN</td>\n",
       "      <td>2100-2159</td>\n",
       "      <td>0</td>\n",
       "      <td>None</td>\n",
       "      <td>1</td>\n",
       "      <td>370</td>\n",
       "      <td>NaN</td>\n",
       "      <td>NaN</td>\n",
       "      <td>1</td>\n",
       "      <td>2434</td>\n",
       "      <td>10</td>\n",
       "      <td>NaN</td>\n",
       "      <td>NaN</td>\n",
       "      <td>NaN</td>\n",
       "      <td>NaN</td>\n",
       "      <td>NaN</td>\n",
       "      <td>None</td>\n",
       "      <td>None</td>\n",
       "      <td>None</td>\n",
       "      <td>1</td>\n",
       "      <td>0.0</td>\n",
       "      <td>None</td>\n",
       "      <td>None</td>\n",
       "      <td>36.0</td>\n",
       "      <td>LAX</td>\n",
       "      <td>12892.0</td>\n",
       "      <td>1289203.0</td>\n",
       "      <td>123.0</td>\n",
       "      <td>8.0</td>\n",
       "      <td>8.0</td>\n",
       "      <td>None</td>\n",
       "      <td>None</td>\n",
       "      <td>None</td>\n",
       "      <td>None</td>\n",
       "      <td>None</td>\n",
       "      <td>None</td>\n",
       "      <td>None</td>\n",
       "      <td>None</td>\n",
       "      <td>None</td>\n",
       "      <td>None</td>\n",
       "      <td>None</td>\n",
       "      <td>None</td>\n",
       "      <td>None</td>\n",
       "      <td>None</td>\n",
       "      <td>None</td>\n",
       "      <td>None</td>\n",
       "      <td>None</td>\n",
       "      <td>None</td>\n",
       "      <td>None</td>\n",
       "      <td>None</td>\n",
       "      <td>None</td>\n",
       "      <td>None</td>\n",
       "      <td>None</td>\n",
       "      <td>None</td>\n",
       "      <td>None</td>\n",
       "      <td>None</td>\n",
       "      <td>None</td>\n",
       "      <td>None</td>\n",
       "      <td>None</td>\n",
       "      <td>None</td>\n",
       "      <td>None</td>\n",
       "      <td>None</td>\n",
       "      <td>None</td>\n",
       "      <td>None</td>\n",
       "      <td>None</td>\n",
       "      <td>1</td>\n",
       "      <td>N16217</td>\n",
       "      <td>Boeing</td>\n",
       "      <td>B737-800PAX</td>\n",
       "    </tr>\n",
       "    <tr>\n",
       "      <th>2</th>\n",
       "      <td>20150531</td>\n",
       "      <td>2015</td>\n",
       "      <td>201502</td>\n",
       "      <td>2</td>\n",
       "      <td>201505</td>\n",
       "      <td>5</td>\n",
       "      <td>31</td>\n",
       "      <td>7</td>\n",
       "      <td>2015-05-31</td>\n",
       "      <td>UA</td>\n",
       "      <td>19977</td>\n",
       "      <td>UA</td>\n",
       "      <td>N37470</td>\n",
       "      <td>1670</td>\n",
       "      <td>11618</td>\n",
       "      <td>1161802</td>\n",
       "      <td>31703</td>\n",
       "      <td>EWR</td>\n",
       "      <td>Newark, NJ</td>\n",
       "      <td>NJ</td>\n",
       "      <td>34</td>\n",
       "      <td>New Jersey</td>\n",
       "      <td>21</td>\n",
       "      <td>14771</td>\n",
       "      <td>1477102</td>\n",
       "      <td>32457</td>\n",
       "      <td>SFO</td>\n",
       "      <td>San Francisco, CA</td>\n",
       "      <td>CA</td>\n",
       "      <td>6</td>\n",
       "      <td>California</td>\n",
       "      <td>91</td>\n",
       "      <td>1500</td>\n",
       "      <td>2019</td>\n",
       "      <td>319</td>\n",
       "      <td>319</td>\n",
       "      <td>1</td>\n",
       "      <td>12</td>\n",
       "      <td>1500-1559</td>\n",
       "      <td>77</td>\n",
       "      <td>2136</td>\n",
       "      <td>34.0</td>\n",
       "      <td>6.0</td>\n",
       "      <td>1815</td>\n",
       "      <td>40.0</td>\n",
       "      <td>385.0</td>\n",
       "      <td>385.0</td>\n",
       "      <td>1.0</td>\n",
       "      <td>12.0</td>\n",
       "      <td>1800-1859</td>\n",
       "      <td>0</td>\n",
       "      <td>None</td>\n",
       "      <td>0</td>\n",
       "      <td>375</td>\n",
       "      <td>441.0</td>\n",
       "      <td>358.0</td>\n",
       "      <td>1</td>\n",
       "      <td>2565</td>\n",
       "      <td>11</td>\n",
       "      <td>0.0</td>\n",
       "      <td>314.0</td>\n",
       "      <td>66.0</td>\n",
       "      <td>0.0</td>\n",
       "      <td>5.0</td>\n",
       "      <td>None</td>\n",
       "      <td>None</td>\n",
       "      <td>None</td>\n",
       "      <td>0</td>\n",
       "      <td>NaN</td>\n",
       "      <td>None</td>\n",
       "      <td>None</td>\n",
       "      <td>NaN</td>\n",
       "      <td></td>\n",
       "      <td>NaN</td>\n",
       "      <td>NaN</td>\n",
       "      <td>NaN</td>\n",
       "      <td>NaN</td>\n",
       "      <td>NaN</td>\n",
       "      <td>None</td>\n",
       "      <td></td>\n",
       "      <td></td>\n",
       "      <td>None</td>\n",
       "      <td>None</td>\n",
       "      <td>None</td>\n",
       "      <td>None</td>\n",
       "      <td>None</td>\n",
       "      <td>None</td>\n",
       "      <td></td>\n",
       "      <td></td>\n",
       "      <td>None</td>\n",
       "      <td>None</td>\n",
       "      <td>None</td>\n",
       "      <td>None</td>\n",
       "      <td>None</td>\n",
       "      <td>None</td>\n",
       "      <td></td>\n",
       "      <td></td>\n",
       "      <td>None</td>\n",
       "      <td>None</td>\n",
       "      <td>None</td>\n",
       "      <td>None</td>\n",
       "      <td>None</td>\n",
       "      <td>None</td>\n",
       "      <td></td>\n",
       "      <td></td>\n",
       "      <td>None</td>\n",
       "      <td>None</td>\n",
       "      <td>None</td>\n",
       "      <td>None</td>\n",
       "      <td>None</td>\n",
       "      <td>None</td>\n",
       "      <td></td>\n",
       "      <td>None</td>\n",
       "      <td>1</td>\n",
       "      <td>N37470</td>\n",
       "      <td>Boeing</td>\n",
       "      <td>B737-900ERPAX</td>\n",
       "    </tr>\n",
       "    <tr>\n",
       "      <th>3</th>\n",
       "      <td>20120810</td>\n",
       "      <td>2012</td>\n",
       "      <td>201203</td>\n",
       "      <td>3</td>\n",
       "      <td>201208</td>\n",
       "      <td>8</td>\n",
       "      <td>10</td>\n",
       "      <td>5</td>\n",
       "      <td>2012-08-10</td>\n",
       "      <td>UA</td>\n",
       "      <td>19977</td>\n",
       "      <td>UA</td>\n",
       "      <td>N73291</td>\n",
       "      <td>17</td>\n",
       "      <td>11618</td>\n",
       "      <td>1161802</td>\n",
       "      <td>31703</td>\n",
       "      <td>EWR</td>\n",
       "      <td>Newark, NJ</td>\n",
       "      <td>NJ</td>\n",
       "      <td>34</td>\n",
       "      <td>New Jersey</td>\n",
       "      <td>21</td>\n",
       "      <td>12892</td>\n",
       "      <td>1289203</td>\n",
       "      <td>32575</td>\n",
       "      <td>LAX</td>\n",
       "      <td>Los Angeles, CA</td>\n",
       "      <td>CA</td>\n",
       "      <td>6</td>\n",
       "      <td>California</td>\n",
       "      <td>91</td>\n",
       "      <td>1300</td>\n",
       "      <td>1847</td>\n",
       "      <td>347</td>\n",
       "      <td>347</td>\n",
       "      <td>1</td>\n",
       "      <td>12</td>\n",
       "      <td>1300-1359</td>\n",
       "      <td>39</td>\n",
       "      <td>1926</td>\n",
       "      <td>2141.0</td>\n",
       "      <td>31.0</td>\n",
       "      <td>1552</td>\n",
       "      <td>2212.0</td>\n",
       "      <td>380.0</td>\n",
       "      <td>380.0</td>\n",
       "      <td>1.0</td>\n",
       "      <td>12.0</td>\n",
       "      <td>1500-1559</td>\n",
       "      <td>0</td>\n",
       "      <td>None</td>\n",
       "      <td>0</td>\n",
       "      <td>352</td>\n",
       "      <td>385.0</td>\n",
       "      <td>315.0</td>\n",
       "      <td>1</td>\n",
       "      <td>2454</td>\n",
       "      <td>10</td>\n",
       "      <td>347.0</td>\n",
       "      <td>0.0</td>\n",
       "      <td>33.0</td>\n",
       "      <td>0.0</td>\n",
       "      <td>0.0</td>\n",
       "      <td>None</td>\n",
       "      <td>None</td>\n",
       "      <td>None</td>\n",
       "      <td>0</td>\n",
       "      <td>NaN</td>\n",
       "      <td>None</td>\n",
       "      <td>None</td>\n",
       "      <td>NaN</td>\n",
       "      <td>None</td>\n",
       "      <td>NaN</td>\n",
       "      <td>NaN</td>\n",
       "      <td>NaN</td>\n",
       "      <td>NaN</td>\n",
       "      <td>NaN</td>\n",
       "      <td>None</td>\n",
       "      <td>None</td>\n",
       "      <td>None</td>\n",
       "      <td>None</td>\n",
       "      <td>None</td>\n",
       "      <td>None</td>\n",
       "      <td>None</td>\n",
       "      <td>None</td>\n",
       "      <td>None</td>\n",
       "      <td>None</td>\n",
       "      <td>None</td>\n",
       "      <td>None</td>\n",
       "      <td>None</td>\n",
       "      <td>None</td>\n",
       "      <td>None</td>\n",
       "      <td>None</td>\n",
       "      <td>None</td>\n",
       "      <td>None</td>\n",
       "      <td>None</td>\n",
       "      <td>None</td>\n",
       "      <td>None</td>\n",
       "      <td>None</td>\n",
       "      <td>None</td>\n",
       "      <td>None</td>\n",
       "      <td>None</td>\n",
       "      <td>None</td>\n",
       "      <td>None</td>\n",
       "      <td>None</td>\n",
       "      <td>None</td>\n",
       "      <td>None</td>\n",
       "      <td>None</td>\n",
       "      <td>None</td>\n",
       "      <td>None</td>\n",
       "      <td>None</td>\n",
       "      <td>None</td>\n",
       "      <td>1</td>\n",
       "      <td>N73291</td>\n",
       "      <td>Boeing</td>\n",
       "      <td>B737-800PAX</td>\n",
       "    </tr>\n",
       "    <tr>\n",
       "      <th>4</th>\n",
       "      <td>20150615</td>\n",
       "      <td>2015</td>\n",
       "      <td>201502</td>\n",
       "      <td>2</td>\n",
       "      <td>201506</td>\n",
       "      <td>6</td>\n",
       "      <td>15</td>\n",
       "      <td>1</td>\n",
       "      <td>2015-06-15</td>\n",
       "      <td>UA</td>\n",
       "      <td>19977</td>\n",
       "      <td>UA</td>\n",
       "      <td>N78524</td>\n",
       "      <td>1289</td>\n",
       "      <td>11618</td>\n",
       "      <td>1161802</td>\n",
       "      <td>31703</td>\n",
       "      <td>EWR</td>\n",
       "      <td>Newark, NJ</td>\n",
       "      <td>NJ</td>\n",
       "      <td>34</td>\n",
       "      <td>New Jersey</td>\n",
       "      <td>21</td>\n",
       "      <td>12892</td>\n",
       "      <td>1289203</td>\n",
       "      <td>32575</td>\n",
       "      <td>LAX</td>\n",
       "      <td>Los Angeles, CA</td>\n",
       "      <td>CA</td>\n",
       "      <td>6</td>\n",
       "      <td>California</td>\n",
       "      <td>91</td>\n",
       "      <td>1610</td>\n",
       "      <td>2158</td>\n",
       "      <td>348</td>\n",
       "      <td>348</td>\n",
       "      <td>1</td>\n",
       "      <td>12</td>\n",
       "      <td>1600-1659</td>\n",
       "      <td>32</td>\n",
       "      <td>2230</td>\n",
       "      <td>52.0</td>\n",
       "      <td>30.0</td>\n",
       "      <td>1908</td>\n",
       "      <td>122.0</td>\n",
       "      <td>374.0</td>\n",
       "      <td>374.0</td>\n",
       "      <td>1.0</td>\n",
       "      <td>12.0</td>\n",
       "      <td>1900-1959</td>\n",
       "      <td>0</td>\n",
       "      <td>None</td>\n",
       "      <td>0</td>\n",
       "      <td>358</td>\n",
       "      <td>384.0</td>\n",
       "      <td>322.0</td>\n",
       "      <td>1</td>\n",
       "      <td>2454</td>\n",
       "      <td>10</td>\n",
       "      <td>0.0</td>\n",
       "      <td>12.0</td>\n",
       "      <td>26.0</td>\n",
       "      <td>0.0</td>\n",
       "      <td>336.0</td>\n",
       "      <td>None</td>\n",
       "      <td>None</td>\n",
       "      <td>None</td>\n",
       "      <td>0</td>\n",
       "      <td>NaN</td>\n",
       "      <td>None</td>\n",
       "      <td>None</td>\n",
       "      <td>NaN</td>\n",
       "      <td></td>\n",
       "      <td>NaN</td>\n",
       "      <td>NaN</td>\n",
       "      <td>NaN</td>\n",
       "      <td>NaN</td>\n",
       "      <td>NaN</td>\n",
       "      <td>None</td>\n",
       "      <td></td>\n",
       "      <td></td>\n",
       "      <td>None</td>\n",
       "      <td>None</td>\n",
       "      <td>None</td>\n",
       "      <td>None</td>\n",
       "      <td>None</td>\n",
       "      <td>None</td>\n",
       "      <td></td>\n",
       "      <td></td>\n",
       "      <td>None</td>\n",
       "      <td>None</td>\n",
       "      <td>None</td>\n",
       "      <td>None</td>\n",
       "      <td>None</td>\n",
       "      <td>None</td>\n",
       "      <td></td>\n",
       "      <td></td>\n",
       "      <td>None</td>\n",
       "      <td>None</td>\n",
       "      <td>None</td>\n",
       "      <td>None</td>\n",
       "      <td>None</td>\n",
       "      <td>None</td>\n",
       "      <td></td>\n",
       "      <td></td>\n",
       "      <td>None</td>\n",
       "      <td>None</td>\n",
       "      <td>None</td>\n",
       "      <td>None</td>\n",
       "      <td>None</td>\n",
       "      <td>None</td>\n",
       "      <td></td>\n",
       "      <td>None</td>\n",
       "      <td>1</td>\n",
       "      <td>N78524</td>\n",
       "      <td>Boeing</td>\n",
       "      <td>B737-800PAX</td>\n",
       "    </tr>\n",
       "  </tbody>\n",
       "</table>\n",
       "</div>"
      ],
      "text/plain": [
       "     DAYKEY  YEAR  QUARTERKEY  QUARTER  MONTHKEY  MONTH  DAYOFMONTH  \\\n",
       "0  20091101  2009      200904        4    200911     11           1   \n",
       "1  20120809  2012      201203        3    201208      8           9   \n",
       "2  20150531  2015      201502        2    201505      5          31   \n",
       "3  20120810  2012      201203        3    201208      8          10   \n",
       "4  20150615  2015      201502        2    201506      6          15   \n",
       "\n",
       "   DAYOFWEEK FLIGHTDATE UNIQUECARRIER  AIRLINEID CARRIER TAILNUM  FLIGHTNUM  \\\n",
       "0          7 2009-11-01            CO      19704      CO  N78506        787   \n",
       "1          4 2012-08-09            UA      19977      UA  N16217       1083   \n",
       "2          7 2015-05-31            UA      19977      UA  N37470       1670   \n",
       "3          5 2012-08-10            UA      19977      UA  N73291         17   \n",
       "4          1 2015-06-15            UA      19977      UA  N78524       1289   \n",
       "\n",
       "   ORIGINAIRPORTID  ORIGINAIRPORTSEQID  ORIGINCITYMARKETID ORIGIN  \\\n",
       "0            11618             1161801               31703    EWR   \n",
       "1            11618             1161802               31703    EWR   \n",
       "2            11618             1161802               31703    EWR   \n",
       "3            11618             1161802               31703    EWR   \n",
       "4            11618             1161802               31703    EWR   \n",
       "\n",
       "  ORIGINCITYNAME ORIGINSTATE  ORIGINSTATEFIPS ORIGINSTATENAME  ORIGINWAC  \\\n",
       "0     Newark, NJ          NJ               34      New Jersey         21   \n",
       "1     Newark, NJ          NJ               34      New Jersey         21   \n",
       "2     Newark, NJ          NJ               34      New Jersey         21   \n",
       "3     Newark, NJ          NJ               34      New Jersey         21   \n",
       "4     Newark, NJ          NJ               34      New Jersey         21   \n",
       "\n",
       "   DESTAIRPORTID  DESTAIRPORTSEQID  DESTCITYMARKETID DEST  \\\n",
       "0          14908           1490802             32575  SNA   \n",
       "1          14908           1490803             32575  SNA   \n",
       "2          14771           1477102             32457  SFO   \n",
       "3          12892           1289203             32575  LAX   \n",
       "4          12892           1289203             32575  LAX   \n",
       "\n",
       "                       DESTCITYNAME DESTSTATE  DESTSTATEFIPS DESTSTATENAME  \\\n",
       "0  Santa Ana, CA                           CA              6    California   \n",
       "1  Santa Ana, CA                           CA              6    California   \n",
       "2  San Francisco, CA                       CA              6    California   \n",
       "3  Los Angeles, CA                         CA              6    California   \n",
       "4  Los Angeles, CA                         CA              6    California   \n",
       "\n",
       "   DESTWAC  CRSDEPTIME  DEPTIME  DEPDELAY  DEPDELAYMINUTES  DEPDEL15  \\\n",
       "0       91        1730     2219       289              289         1   \n",
       "1       91        1823     2215       232              232         1   \n",
       "2       91        1500     2019       319              319         1   \n",
       "3       91        1300     1847       347              347         1   \n",
       "4       91        1610     2158       348              348         1   \n",
       "\n",
       "   DEPARTUREDELAYGROUPS DEPTIMEBLK  TAXIOUT  WHEELSOFF  WHEELSON  TAXIIN  \\\n",
       "0                    12  1700-1759       31       2250       NaN     NaN   \n",
       "1                    12  1800-1859       55       2310       NaN     NaN   \n",
       "2                    12  1500-1559       77       2136      34.0     6.0   \n",
       "3                    12  1300-1359       39       1926    2141.0    31.0   \n",
       "4                    12  1600-1659       32       2230      52.0    30.0   \n",
       "\n",
       "   CRSARRTIME  ARRTIME  ARRDELAY  ARRDELAYMINUTES  ARRDEL15  \\\n",
       "0        2057      NaN       NaN              NaN       NaN   \n",
       "1        2133      NaN       NaN              NaN       NaN   \n",
       "2        1815     40.0     385.0            385.0       1.0   \n",
       "3        1552   2212.0     380.0            380.0       1.0   \n",
       "4        1908    122.0     374.0            374.0       1.0   \n",
       "\n",
       "   ARRIVALDELAYGROUPS ARRTIMEBLK  CANCELLED CANCELLATIONCODE  DIVERTED  \\\n",
       "0                 NaN  2000-2059          0             None         1   \n",
       "1                 NaN  2100-2159          0             None         1   \n",
       "2                12.0  1800-1859          0             None         0   \n",
       "3                12.0  1500-1559          0             None         0   \n",
       "4                12.0  1900-1959          0             None         0   \n",
       "\n",
       "   CRSELAPSEDTIME  ACTUALELAPSEDTIME  AIRTIME  FLIGHTS  DISTANCE  \\\n",
       "0             387                NaN      NaN        1      2433   \n",
       "1             370                NaN      NaN        1      2434   \n",
       "2             375              441.0    358.0        1      2565   \n",
       "3             352              385.0    315.0        1      2454   \n",
       "4             358              384.0    322.0        1      2454   \n",
       "\n",
       "   DISTANCEGROUP  CARRIERDELAY  WEATHERDELAY  NASDELAY  SECURITYDELAY  \\\n",
       "0             10           NaN           NaN       NaN            NaN   \n",
       "1             10           NaN           NaN       NaN            NaN   \n",
       "2             11           0.0         314.0      66.0            0.0   \n",
       "3             10         347.0           0.0      33.0            0.0   \n",
       "4             10           0.0          12.0      26.0            0.0   \n",
       "\n",
       "   LATEAIRCRAFTDELAY FIRSTDEPTIME TOTALADDGTIME LONGESTADDGTIME  \\\n",
       "0                NaN         None          None            None   \n",
       "1                NaN         None          None            None   \n",
       "2                5.0         None          None            None   \n",
       "3                0.0         None          None            None   \n",
       "4              336.0         None          None            None   \n",
       "\n",
       "   DIVAIRPORTLANDINGS  DIVREACHEDDEST DIVACTUALELAPSEDTIME DIVARRDELAY  \\\n",
       "0                   1             0.0                 None        None   \n",
       "1                   1             0.0                 None        None   \n",
       "2                   0             NaN                 None        None   \n",
       "3                   0             NaN                 None        None   \n",
       "4                   0             NaN                 None        None   \n",
       "\n",
       "   DIVDISTANCE DIV1AIRPORT  DIV1AIRPORTID  DIV1AIRPORTSEQID  DIV1WHEELSON  \\\n",
       "0         36.0         LAX        12892.0         1289201.0         117.0   \n",
       "1         36.0         LAX        12892.0         1289203.0         123.0   \n",
       "2          NaN                        NaN               NaN           NaN   \n",
       "3          NaN        None            NaN               NaN           NaN   \n",
       "4          NaN                        NaN               NaN           NaN   \n",
       "\n",
       "   DIV1TOTALGTIME  DIV1LONGESTGTIME DIV1WHEELSOFF DIV1TAILNUM DIV2AIRPORT  \\\n",
       "0             5.0               5.0          None        None        None   \n",
       "1             8.0               8.0          None        None        None   \n",
       "2             NaN               NaN          None                           \n",
       "3             NaN               NaN          None        None        None   \n",
       "4             NaN               NaN          None                           \n",
       "\n",
       "  DIV2AIRPORTID DIV2AIRPORTSEQID DIV2WHEELSON DIV2TOTALGTIME DIV2LONGESTGTIME  \\\n",
       "0          None             None         None           None             None   \n",
       "1          None             None         None           None             None   \n",
       "2          None             None         None           None             None   \n",
       "3          None             None         None           None             None   \n",
       "4          None             None         None           None             None   \n",
       "\n",
       "  DIV2WHEELSOFF DIV2TAILNUM DIV3AIRPORT DIV3AIRPORTID DIV3AIRPORTSEQID  \\\n",
       "0          None        None        None          None             None   \n",
       "1          None        None        None          None             None   \n",
       "2          None                                  None             None   \n",
       "3          None        None        None          None             None   \n",
       "4          None                                  None             None   \n",
       "\n",
       "  DIV3WHEELSON DIV3TOTALGTIME DIV3LONGESTGTIME DIV3WHEELSOFF DIV3TAILNUM  \\\n",
       "0         None           None             None          None        None   \n",
       "1         None           None             None          None        None   \n",
       "2         None           None             None          None               \n",
       "3         None           None             None          None        None   \n",
       "4         None           None             None          None               \n",
       "\n",
       "  DIV4AIRPORT DIV4AIRPORTID DIV4AIRPORTSEQID DIV4WHEELSON DIV4TOTALGTIME  \\\n",
       "0        None          None             None         None           None   \n",
       "1        None          None             None         None           None   \n",
       "2                      None             None         None           None   \n",
       "3        None          None             None         None           None   \n",
       "4                      None             None         None           None   \n",
       "\n",
       "  DIV4LONGESTGTIME DIV4WHEELSOFF DIV4TAILNUM DIV5AIRPORT DIV5AIRPORTID  \\\n",
       "0             None          None        None        None          None   \n",
       "1             None          None        None        None          None   \n",
       "2             None          None                                  None   \n",
       "3             None          None        None        None          None   \n",
       "4             None          None                                  None   \n",
       "\n",
       "  DIV5AIRPORTSEQID DIV5WHEELSON DIV5TOTALGTIME DIV5LONGESTGTIME DIV5WHEELSOFF  \\\n",
       "0             None         None           None             None          None   \n",
       "1             None         None           None             None          None   \n",
       "2             None         None           None             None          None   \n",
       "3             None         None           None             None          None   \n",
       "4             None         None           None             None          None   \n",
       "\n",
       "  DIV5TAILNUM UNKNOWNCOL110  NUMROWS TAIL_NUMBER MANUFACTURER          MODEL  \n",
       "0        None          None        1      N78506       Boeing    B737-800PAX  \n",
       "1        None          None        1      N16217       Boeing    B737-800PAX  \n",
       "2                      None        1      N37470       Boeing  B737-900ERPAX  \n",
       "3        None          None        1      N73291       Boeing    B737-800PAX  \n",
       "4                      None        1      N78524       Boeing    B737-800PAX  "
      ]
     },
     "execution_count": 27,
     "metadata": {},
     "output_type": "execute_result"
    }
   ],
   "source": [
    "%%sql \n",
    "SELECT * FROM \"ONTIME\".\"ONTIME\" OT, \"ONTIME\".\"AIRCRAFT\" AC \n",
    "  WHERE AC.\"TAIL_NUMBER\" = OT.TAILNUM\n",
    "  AND ORIGINSTATE = 'NJ'\n",
    "  AND DESTSTATE = 'CA'\n",
    "  AND MANUFACTURER = 'Boeing' \n",
    "  AND AC.MODEL LIKE 'B737%'\n",
    "  AND OT.TAXIOUT > 30\n",
    "  AND OT.DISTANCE > 2000\n",
    "  AND OT.DEPDELAY > 200\n",
    "  ORDER BY OT.ARRDELAY DESC\n",
    "  FETCH FIRST 5 ROWS ONLY"
   ]
  },
  {
   "cell_type": "code",
   "execution_count": 28,
   "metadata": {
    "id": "0426171f745d4dbbbd8d1ffd79ef96f3"
   },
   "outputs": [],
   "source": [
    "%%capture result\n",
    "%%time\n",
    "%%sql \n",
    "SELECT * FROM \"ONTIME\".\"ONTIME\" OT, \"ONTIME\".\"AIRCRAFT\" AC \n",
    "  WHERE AC.\"TAIL_NUMBER\" = OT.TAILNUM\n",
    "  AND ORIGINSTATE = 'NJ'\n",
    "  AND DESTSTATE = 'CA'\n",
    "  AND MANUFACTURER = 'Boeing' \n",
    "  AND AC.MODEL LIKE 'B737%'\n",
    "  AND OT.TAXIOUT > 30\n",
    "  AND OT.DISTANCE > 2000\n",
    "  AND OT.DEPDELAY > 200\n",
    "  ORDER BY OT.ARRDELAY DESC\n",
    "  FETCH FIRST 5 ROWS ONLY"
   ]
  },
  {
   "cell_type": "markdown",
   "metadata": {
    "id": "b984afa21ff7472d88bc089b2b26710e"
   },
   "source": [
    "The next cell, prints the results of the previous run and captures the time in the sqldnocachetimer object. Later this value will ber compared to other test runs. "
   ]
  },
  {
   "cell_type": "code",
   "execution_count": 29,
   "metadata": {
    "id": "1588204b75aa41208a26e255b63d2072",
    "scrolled": true
   },
   "outputs": [
    {
     "name": "stdout",
     "output_type": "stream",
     "text": [
      "CPU times: user 16.3 ms, sys: 1.38 ms, total: 17.7 ms\n",
      "Wall time: 1min 23s\n",
      "\n",
      "Time: 83 s\n",
      "Total Time: 83 s\n"
     ]
    }
   ],
   "source": [
    "sqldvnocachetimer = Timer()\n",
    "sqldvnocachetimer.timeTotal()"
   ]
  },
  {
   "cell_type": "markdown",
   "metadata": {
    "id": "3b8a7a8cd6824bfebdb43b95dc2103b7"
   },
   "source": [
    "### Using Visual Explain to see your query runs\n",
    "The Data Virtualization SQL Editor includes a very useful tool called Visual Explain that lets you see exactly how the Data Virtualization engine retrieves your results. Let's open the SQL editor and load a script that contains a set of queries we that we can analyze.\n",
    "1. Using the Cloud Pak for Data user interface, select **Run SQL** from the Data Virtualization Drop down menu.\n",
    "2. Click **AddNewScript**\n",
    "\n",
    "<img src=\"https://github.com/Db2-DTE-POC/CPDDVHOL4/blob/main/media/Caching%20HOL/AddNewScript.png?raw=true\">\n",
    "\n",
    "3. Enter **Caching** in the script search field\n",
    "4. click the carrot symbol to the left of the **ONTIME Caching** script to see the whole script\n",
    "5. Click the folder with a plus sign icon to the right of the script. The opens in the SQL Editor.\n",
    "\n",
    "<img src=\"https://github.com/Db2-DTE-POC/CPDDVHOL4/blob/main/media/Caching%20HOL/AddNewScriptSelectONTIME.png?raw=true\">\n",
    "\n",
    "6. We just want to analyze the ONTIME.ONTIME script, which is the second from the top. Select the script.\n",
    "\n",
    "<img src=\"https://github.com/Db2-DTE-POC/CPDDVHOL4/blob/main/media/Caching%20HOL/EditorSelectONTIMEONTIME.png?raw=true\">\n",
    "\n",
    "7. Click the Visual Explain icon\n",
    "\n",
    "<img src=\"https://github.com/Db2-DTE-POC/CPDDVHOL4/blob/main/media/Caching%20HOL/ExplainTheStatement.png?raw=true\">\n",
    "\n",
    "8. After an analysis of the statement, a visual description of how the result set is retrieved appears:\n",
    "\n",
    "<img src=\"https://github.com/Db2-DTE-POC/CPDDVHOL4/blob/main/media/Caching%20HOL/VEONTIMENoCache.png?raw=true\">\n",
    "\n",
    "9. Each step of the processing occurs in parallel from the bottom of the graph to the top. Double click on any tile to see additional details of that step. \n",
    "\n",
    "20. Click the tile at the bottom of the graph, second from the right. This part of the graph shows details of how data is retrieved from the ONTIME 2011 to 2015 set of databases. The Data Virtualization optimizer rewrites the query and writes new statements for each data source. Predicates are included to reduce the data set retrieved from the remote data source. In this case only flights from New Jersey to California are include and only flight that fight the required flight time profile. \n",
    "\n",
    "The statement is sent to the remote connector that joins the ONTIME11 to ONTIME15 databases and returns the results from all the databases located with the remote connector as a single result. These results are combined in a UNION with the rows from the Db2 Warehouse database. Click on the different tiles to explore the details of how the data is retrieved and eventually joined together with the AIRCRAFT table. \n",
    "\n",
    "<img src=\"https://github.com/Db2-DTE-POC/CPDDVHOL4/blob/main/media/Caching%20HOL/VEONTIMEUnionDetail.png?raw=true\">\n",
    "\n",
    "21. Click **BACK** to return to the SQL Editor page."
   ]
  },
  {
   "cell_type": "markdown",
   "metadata": {
    "id": "6c55ef02299c4023b00bc4aed3fc6a74"
   },
   "source": [
    "### Caching all the Data from the Remote Data Sources\n",
    "In the next part of the hands-on lab, you use caches that have already been created. The ONTIME1115 view includes about 30 million rows of data and the ONTIME0910 contains another almost 13 millon rows. All the rows from these view are included in the caches created from those views. The AIRCRAFT cache contains a copy of all 13 thousand aircraft flying from 2009 to 2015.\n",
    "\n",
    "You can look up the definition of a cache by selecting the Cache Details in the Caching management page:\n",
    "\n",
    "<img src=\"https://github.com/Db2-DTE-POC/CPDDVHOL4/blob/main/media/Caching%20HOL/CacheDetail.png?raw=true\">\n",
    "\n",
    "Run the next three four celles to enable the ONTIME1115, the ONTIME0910 and the AIRCRAFT cache."
   ]
  },
  {
   "cell_type": "code",
   "execution_count": 30,
   "metadata": {
    "id": "4f960147eb6542e19da89246f1bc0d34"
   },
   "outputs": [
    {
     "name": "stdout",
     "output_type": "stream",
     "text": [
      "Cache: DV20211110144113849337 enabled.\n"
     ]
    }
   ],
   "source": [
    "# Enable ONTIME1115\n",
    "databaseAPI.enableCache('DV20211110144113849337')"
   ]
  },
  {
   "cell_type": "code",
   "execution_count": 31,
   "metadata": {
    "id": "50e6c077ab484123aa1c1edf3363fc00"
   },
   "outputs": [
    {
     "name": "stdout",
     "output_type": "stream",
     "text": [
      "Cache: DV20211110144049703423 enabled.\n"
     ]
    }
   ],
   "source": [
    "# Enable ONTIME0910\n",
    "databaseAPI.enableCache('DV20211110144049703423')"
   ]
  },
  {
   "cell_type": "code",
   "execution_count": 32,
   "metadata": {
    "id": "d645633c92ea44bc80079c1f98c9bcb0"
   },
   "outputs": [
    {
     "name": "stdout",
     "output_type": "stream",
     "text": [
      "Cache: DV20211115221309388288 enabled.\n"
     ]
    }
   ],
   "source": [
    "# Enable AIRCRAFT\n",
    "databaseAPI.enableCache('DV20211115221309388288')"
   ]
  },
  {
   "cell_type": "code",
   "execution_count": 33,
   "metadata": {
    "id": "e89328163ab54564972508d206b44567"
   },
   "outputs": [
    {
     "data": {
      "text/html": [
       "<div>\n",
       "<style scoped>\n",
       "    .dataframe tbody tr th:only-of-type {\n",
       "        vertical-align: middle;\n",
       "    }\n",
       "\n",
       "    .dataframe tbody tr th {\n",
       "        vertical-align: top;\n",
       "    }\n",
       "\n",
       "    .dataframe thead th {\n",
       "        text-align: right;\n",
       "    }\n",
       "</style>\n",
       "<table border=\"1\" class=\"dataframe\">\n",
       "  <thead>\n",
       "    <tr style=\"text-align: right;\">\n",
       "      <th></th>\n",
       "      <th>id</th>\n",
       "      <th>name</th>\n",
       "      <th>state</th>\n",
       "      <th>size</th>\n",
       "      <th>cardinality</th>\n",
       "      <th>last_refresh_timestamp</th>\n",
       "    </tr>\n",
       "  </thead>\n",
       "  <tbody>\n",
       "  </tbody>\n",
       "</table>\n",
       "</div>"
      ],
      "text/plain": [
       "Empty DataFrame\n",
       "Columns: [id, name, state, size, cardinality, last_refresh_timestamp]\n",
       "Index: []"
      ]
     },
     "metadata": {},
     "output_type": "display_data"
    }
   ],
   "source": [
    "df = databaseAPI.getCaches('Enabled')\n",
    "display(df[['id', 'name','state','size', 'cardinality','last_refresh_timestamp']])"
   ]
  },
  {
   "cell_type": "markdown",
   "metadata": {
    "id": "c082dcf35a92485e87d5a641707cb9ff"
   },
   "source": [
    "Now run the next two cells to rerun the orignal query using the enabled caches. \n",
    "\n",
    "While the query runs, return to the SQL Editor to re-analyze the statement now that the caches are available. Follow the steps in the next descriptive cell."
   ]
  },
  {
   "cell_type": "code",
   "execution_count": 34,
   "metadata": {
    "id": "f5725c54c2c14a71a1d3443c6a9d2d76"
   },
   "outputs": [],
   "source": [
    "%%capture result\n",
    "%%time\n",
    "%%sql \n",
    "SELECT * FROM \"ONTIME\".\"ONTIME\" OT, \"ONTIME\".\"AIRCRAFT\" AC \n",
    "  WHERE AC.\"TAIL_NUMBER\" = OT.TAILNUM\n",
    "  AND ORIGINSTATE = 'NJ'\n",
    "  AND DESTSTATE = 'CA'\n",
    "  AND MANUFACTURER = 'Boeing' \n",
    "  AND AC.MODEL LIKE 'B737%'\n",
    "  AND OT.TAXIOUT > 30\n",
    "  AND OT.DISTANCE > 2000\n",
    "  AND OT.DEPDELAY > 200\n",
    "  ORDER BY OT.ARRDELAY DESC\n",
    "  FETCH FIRST 5 ROWS ONLY"
   ]
  },
  {
   "cell_type": "code",
   "execution_count": 35,
   "metadata": {
    "id": "2a591dc2d2574e0787e45d2a3f612d37",
    "scrolled": true
   },
   "outputs": [
    {
     "name": "stdout",
     "output_type": "stream",
     "text": [
      "CPU times: user 17.3 ms, sys: 177 us, total: 17.5 ms\n",
      "Wall time: 45.1 s\n",
      "\n",
      "CPU times: user 17.3 ms, sys: 177 us, total: 17.5 ms\n",
      "Wall time: 45.1 s\n",
      "\n",
      "Time: 45.1 s\n",
      "Total Time: 45.1 s\n"
     ]
    }
   ],
   "source": [
    "print(result)\n",
    "sqldvbigcachetimer = Timer()\n",
    "sqldvbigcachetimer.timeTotal()"
   ]
  },
  {
   "cell_type": "markdown",
   "metadata": {
    "id": "0c5c553a891142438b16322a414798a7"
   },
   "source": [
    "1. Make sure that the same statement is highlighted\n",
    "2. Click the Visual Explain Icon.\n",
    "3. After the statement is analyzed, a graph of the new plan appears\n",
    "\n",
    "<img src=\"https://github.com/Db2-DTE-POC/CPDDVHOL4/blob/main/media/Caching%20HOL/VEFullCache.png?raw=true\">\n",
    "\n",
    "This time the data is retrieved from the local caches. Notice that the Data Virtualization optimzer chose to use each of the caches you just enabled to provide results for each branch. Double click on one of the cache tiles to see the details of each cache including the number of rows in that cache. \n",
    "\n",
    "Go back and check that your query ran in the cells above and check out the new runtime. "
   ]
  },
  {
   "cell_type": "markdown",
   "metadata": {
    "id": "e808ccd357884c188eb21a280589d91a"
   },
   "source": [
    "### Caching a Subset of the Full Dataset\n",
    "If you know that you can focus on a subset of the data in your original dataset, you don't have to cache all the data in the full dataset. In this example we are only interested in analyzing the flight time performance of 737 aircraft. The first step is to create a view of just the subset of data. \n",
    "\n",
    "The ONTIME737 view selects only the records from the orignal ONTIME table (almost 44 million rows) for 737 aircraft. Notice the predicate in the view that limits the results of the view to only 737s.  \n",
    "\n",
    "<img src=\"https://github.com/Db2-DTE-POC/CPDDVHOL4/blob/main/media/Caching%20HOL/ONTIME737VIEW.png?raw=true\">\n",
    "\n",
    "If you remember from when we counted the number of rows in each view the BOEING737 view will return a little over 4 million rows. Or about 10% of the full dataset.\n",
    "\n",
    "We can now run a query that returns exactly the same results as the original query but using the BOEING737 view instead of the ONTIME view. In this case we don't need to include the predicates that limit results to only flights from New Jersey to California and selects the requied flight time values. \n",
    "\n",
    "<img src=\"https://github.com/Db2-DTE-POC/CPDDVHOL4/blob/main/media/Caching%20HOL/Query737.png?raw=true\">\n",
    "\n",
    "You can change any of the predicates of this query and use the BOEING737 view in other queries and join it to other data. "
   ]
  },
  {
   "cell_type": "markdown",
   "metadata": {
    "id": "6e9bc2b25377498887cca49f01dd1983"
   },
   "source": [
    "Now let's enable the BOEING737 cache to improve the performance of this view by using locally cached data. This cache was populated before the lab, so only have to enable it, you don't have to refresh it."
   ]
  },
  {
   "cell_type": "code",
   "execution_count": 36,
   "metadata": {
    "id": "157e48687ca9426b84c18d209c0decee"
   },
   "outputs": [
    {
     "name": "stdout",
     "output_type": "stream",
     "text": [
      "Cache: DV20211110165634403313 enabled.\n"
     ]
    }
   ],
   "source": [
    "# Enable BOEING737\n",
    "databaseAPI.enableCache('DV20211110165634403313')"
   ]
  },
  {
   "cell_type": "markdown",
   "metadata": {
    "id": "88ea9a5dad964723b47a337b51c07ccf"
   },
   "source": [
    "Run the next two cells to re-run the query using the BOEING737 view with the corresponding smaller cache. While those cells run, return to the SQL Editor, find the query above and run Visual Explain to see the results of the analysis. Check below the next two cells for an example of the results. "
   ]
  },
  {
   "cell_type": "code",
   "execution_count": 37,
   "metadata": {
    "id": "1f3a072485f1495ca643c79afabce548"
   },
   "outputs": [],
   "source": [
    "%%capture result\n",
    "%%time\n",
    "%%sql \n",
    "SELECT * FROM \"ONTIME\".\"BOEING737\" OT, \"ONTIME\".\"AIRCRAFT\" AC \n",
    "  WHERE ORIGINSTATE = 'NJ'\n",
    "  AND DESTSTATE = 'CA'\n",
    "  AND TAXIOUT > 30\n",
    "  AND DISTANCE > 2000\n",
    "  AND DEPDELAY > 200\n",
    "  ORDER BY OT.ARRDELAY DESC\n",
    "  FETCH FIRST 5 ROWS ONLY"
   ]
  },
  {
   "cell_type": "code",
   "execution_count": 38,
   "metadata": {
    "id": "f9237941a8aa489a8e9f1522d2e8b83d"
   },
   "outputs": [
    {
     "name": "stdout",
     "output_type": "stream",
     "text": [
      "CPU times: user 5.52 ms, sys: 85 us, total: 5.6 ms\n",
      "Wall time: 7.75 s\n",
      "\n",
      "Time: 7.75 s\n",
      "Total Time: 7.75 s\n"
     ]
    }
   ],
   "source": [
    "sqldvfocusedcachetimer = Timer()\n",
    "sqldvfocusedcachetimer.timeTotal()"
   ]
  },
  {
   "cell_type": "markdown",
   "metadata": {
    "id": "978d76ca86634ab38609876c97601d91"
   },
   "source": [
    "This time everything is retrieve from a single cache that contains only 737 flight records. Notice that the query still included a join with the AIRCRAFT table, so the data from the AIRCARFT cache is also retrieved. This means that each record in the view includes the columns from the AIRCRAFT table with each row of flight record data. There are still a little over 4 million rows but each row includes some additional columns of detail. While this create duplication there is only a single result that includes all the required information. \n",
    "\n",
    "<img src=\"https://github.com/Db2-DTE-POC/CPDDVHOL4/blob/main/media/Caching%20HOL/VEONTIME737.png?raw=true\">\n",
    "\n",
    "When you are done reviewing the visual explain analysis check back that your query has finished. The new runtime is significantly faster than the orignal without caching or the full cache results. "
   ]
  },
  {
   "cell_type": "markdown",
   "metadata": {
    "id": "0ffd9ccd1076404898122eaa7644767e"
   },
   "source": [
    "Let's try on more view that reduces the dataset even further. This one selects only 737 fight records from New Jersy to California. \n",
    "\n",
    "<img src=\"https://github.com/Db2-DTE-POC/CPDDVHOL4/blob/main/media/Caching%20HOL/ONTIMENJCA737VIEW.png?raw=true\">\n",
    "\n",
    "The resulting query only needs to specifiy the flight time details required. Notice that this query leaves out the AIRCRAFT table join and the columns from that table. \n",
    "\n",
    "<img src=\"https://github.com/Db2-DTE-POC/CPDDVHOL4/blob/main/media/Caching%20HOL/QueryNJCA737.png?raw=true\">\n",
    "\n",
    "Before we run this new query, let's enable the corresponding cache for this view. "
   ]
  },
  {
   "cell_type": "code",
   "execution_count": 39,
   "metadata": {
    "id": "fadca6adadf4412085d73f8b3120a380"
   },
   "outputs": [
    {
     "name": "stdout",
     "output_type": "stream",
     "text": [
      "Cache: DV20211115151427714635 enabled.\n"
     ]
    }
   ],
   "source": [
    "# Enable ONTIME737NJCA\n",
    "databaseAPI.enableCache('DV20211115151427714635')"
   ]
  },
  {
   "cell_type": "markdown",
   "metadata": {
    "id": "a409099193904d0e879fd22ba6149fb4"
   },
   "source": [
    "Run the next two cells to re-run the query using the ONTIME737NJCA view with the corresponding cache. While those cells run, return to the SQL Editor, find the query above and run Visual Explain to see the results of the analysis. Check below the next two cells for an example of the results. "
   ]
  },
  {
   "cell_type": "code",
   "execution_count": 40,
   "metadata": {
    "id": "d71e502221d145e09e53b9482ca2882b"
   },
   "outputs": [],
   "source": [
    "%%capture result\n",
    "%%time\n",
    "%%sql \n",
    "SELECT * FROM ONTIME.ONTIME737NJCA WHERE \n",
    "  TAXIOUT > 30\n",
    "  AND DISTANCE > 2000\n",
    "  AND DEPDELAY > 200\n",
    "  ORDER BY ARRDELAY DESC\n",
    "  FETCH FIRST 5 ROWS ONLY"
   ]
  },
  {
   "cell_type": "code",
   "execution_count": 41,
   "metadata": {
    "id": "66d0598ecd9f4377ae18e216452e52f6"
   },
   "outputs": [
    {
     "name": "stdout",
     "output_type": "stream",
     "text": [
      "CPU times: user 6.36 ms, sys: 105 us, total: 6.46 ms\n",
      "Wall time: 4.39 s\n",
      "\n",
      "Time: 4.39 s\n",
      "Total Time: 4.39 s\n"
     ]
    }
   ],
   "source": [
    "sqldvsmallcachetimer = Timer()\n",
    "sqldvsmallcachetimer.timeTotal()"
   ]
  },
  {
   "cell_type": "markdown",
   "metadata": {
    "id": "0b26dc6233a64e088fce8a518bbffc44"
   },
   "source": [
    "Notice that this Visual Explain analysis only required data from a single cache. "
   ]
  },
  {
   "cell_type": "markdown",
   "metadata": {
    "id": "0493eab14e854eb88d15964da51d6fb1"
   },
   "source": [
    "\n",
    "\n",
    "<img src=\"https://github.com/Db2-DTE-POC/CPDDVHOL4/blob/main/media/Caching%20HOL/VEONTIMENJCA737.png?raw=true\">"
   ]
  },
  {
   "cell_type": "markdown",
   "metadata": {
    "id": "66316bc4b249467380039a35a90bb559"
   },
   "source": [
    "### Comparing Performance with Db2 Warehouse\n",
    "Now that you can see how you can improve performance using complete or selective caching, lets take a look at one other option available on Cloud Pak for Data. \n",
    "\n",
    "Data Virtualizaton can provide great performance whether pulling data from live sources or using caches to accelerate performance and reduce load on source database.\n",
    "\n",
    "However if you need even faster performance you can choose to load the same data into Db2 Warehouse using the native data loader in Db2 Warehouse, Data Refinery to move data from the original source or Data Virtualization or use Data Stage for full function ETL processing.\n",
    "\n",
    "Db2 Warehouse is built on an industry leading columnar data storage system that can return query results much faster than other methods. \n",
    "\n",
    "A Db2 Warehouse instance is installed in this demonstration environment and the full 2009 to 2015 data has been loaded into a single columnar storage table. The AIRCRAFT table is also loaded into the Db2 Warehouse Database. \n",
    "\n",
    "For this next step, run the next cell to connect to the Db2 Warehouse database in Cloud Pak for Data. This uses the same library you used to connect to the Data Virtualization engine. "
   ]
  },
  {
   "cell_type": "code",
   "execution_count": 42,
   "metadata": {
    "id": "85eceb160fe848b4958e173e72959a55"
   },
   "outputs": [
    {
     "name": "stdout",
     "output_type": "stream",
     "text": [
      "Connection successful.\n"
     ]
    }
   ],
   "source": [
    "# Connect to the Db2 Warehouse Database from inside of IBM Cloud Pak for Data\n",
    "database = 'ONTIME'\n",
    "user = 'admin'\n",
    "password = 'CP4DDataFabric'\n",
    "host = 'cpd-cpd-instance.apps.demo.ibmdte.net'\n",
    "port = '31175'\n",
    "\n",
    "%sql CONNECT TO {database} USER {user} USING {password} HOST {host} PORT {port}"
   ]
  },
  {
   "cell_type": "markdown",
   "metadata": {
    "id": "0a0439e3db8741dc8b7756ac6c37560b"
   },
   "source": [
    "Next run the following cell. It runs exactly the same query against the same dataset that we used for Data Virtualization. The results should be exactly the same, just faster. "
   ]
  },
  {
   "cell_type": "code",
   "execution_count": 43,
   "metadata": {
    "id": "e99806f922cc4d7bb93e3c5bdf509d4d"
   },
   "outputs": [
    {
     "name": "stdout",
     "output_type": "stream",
     "text": [
      "CPU times: user 7.21 ms, sys: 858 µs, total: 8.07 ms\n",
      "Wall time: 135 ms\n"
     ]
    },
    {
     "data": {
      "text/html": [
       "<div>\n",
       "<style scoped>\n",
       "    .dataframe tbody tr th:only-of-type {\n",
       "        vertical-align: middle;\n",
       "    }\n",
       "\n",
       "    .dataframe tbody tr th {\n",
       "        vertical-align: top;\n",
       "    }\n",
       "\n",
       "    .dataframe thead th {\n",
       "        text-align: right;\n",
       "    }\n",
       "</style>\n",
       "<table border=\"1\" class=\"dataframe\">\n",
       "  <thead>\n",
       "    <tr style=\"text-align: right;\">\n",
       "      <th></th>\n",
       "      <th>TAIL_NUMBER</th>\n",
       "      <th>MANUFACTURER</th>\n",
       "      <th>MODEL</th>\n",
       "      <th>UNIQUECARRIER</th>\n",
       "      <th>AIRLINEID</th>\n",
       "      <th>CARRIER</th>\n",
       "      <th>TAILNUM</th>\n",
       "      <th>FLIGHTNUM</th>\n",
       "      <th>ORIGINAIRPORTID</th>\n",
       "      <th>ORIGINAIRPORTSEQID</th>\n",
       "      <th>ORIGINCITYNAME</th>\n",
       "      <th>ORIGINSTATE</th>\n",
       "      <th>DESTAIRPORTID</th>\n",
       "      <th>DESTCITYNAME</th>\n",
       "      <th>DESTSTATE</th>\n",
       "      <th>DEPTIME</th>\n",
       "      <th>DEPDELAY</th>\n",
       "      <th>TAXIOUT</th>\n",
       "      <th>WHEELSOFF</th>\n",
       "      <th>WHEELSON</th>\n",
       "      <th>TAXIIN</th>\n",
       "      <th>ARRTIME</th>\n",
       "      <th>ARRDELAY</th>\n",
       "      <th>ARRDELAYMINUTES</th>\n",
       "      <th>CANCELLED</th>\n",
       "      <th>AIRTIME</th>\n",
       "      <th>DISTANCE</th>\n",
       "    </tr>\n",
       "  </thead>\n",
       "  <tbody>\n",
       "    <tr>\n",
       "      <th>0</th>\n",
       "      <td>N78506</td>\n",
       "      <td>Boeing</td>\n",
       "      <td>B737-800PAX</td>\n",
       "      <td>CO</td>\n",
       "      <td>19704</td>\n",
       "      <td>CO</td>\n",
       "      <td>N78506</td>\n",
       "      <td>787</td>\n",
       "      <td>11618</td>\n",
       "      <td>1161801</td>\n",
       "      <td>Newark, NJ</td>\n",
       "      <td>NJ</td>\n",
       "      <td>14908</td>\n",
       "      <td>Santa Ana, CA</td>\n",
       "      <td>CA</td>\n",
       "      <td>2219</td>\n",
       "      <td>289</td>\n",
       "      <td>31</td>\n",
       "      <td>2250</td>\n",
       "      <td>NaN</td>\n",
       "      <td>NaN</td>\n",
       "      <td>NaN</td>\n",
       "      <td>NaN</td>\n",
       "      <td>NaN</td>\n",
       "      <td>0</td>\n",
       "      <td>NaN</td>\n",
       "      <td>2433</td>\n",
       "    </tr>\n",
       "    <tr>\n",
       "      <th>1</th>\n",
       "      <td>N16217</td>\n",
       "      <td>Boeing</td>\n",
       "      <td>B737-800PAX</td>\n",
       "      <td>UA</td>\n",
       "      <td>19977</td>\n",
       "      <td>UA</td>\n",
       "      <td>N16217</td>\n",
       "      <td>1083</td>\n",
       "      <td>11618</td>\n",
       "      <td>1161802</td>\n",
       "      <td>Newark, NJ</td>\n",
       "      <td>NJ</td>\n",
       "      <td>14908</td>\n",
       "      <td>Santa Ana, CA</td>\n",
       "      <td>CA</td>\n",
       "      <td>2215</td>\n",
       "      <td>232</td>\n",
       "      <td>55</td>\n",
       "      <td>2310</td>\n",
       "      <td>NaN</td>\n",
       "      <td>NaN</td>\n",
       "      <td>NaN</td>\n",
       "      <td>NaN</td>\n",
       "      <td>NaN</td>\n",
       "      <td>0</td>\n",
       "      <td>NaN</td>\n",
       "      <td>2434</td>\n",
       "    </tr>\n",
       "    <tr>\n",
       "      <th>2</th>\n",
       "      <td>N37470</td>\n",
       "      <td>Boeing</td>\n",
       "      <td>B737-900ERPAX</td>\n",
       "      <td>UA</td>\n",
       "      <td>19977</td>\n",
       "      <td>UA</td>\n",
       "      <td>N37470</td>\n",
       "      <td>1670</td>\n",
       "      <td>11618</td>\n",
       "      <td>1161802</td>\n",
       "      <td>Newark, NJ</td>\n",
       "      <td>NJ</td>\n",
       "      <td>14771</td>\n",
       "      <td>San Francisco, CA</td>\n",
       "      <td>CA</td>\n",
       "      <td>2019</td>\n",
       "      <td>319</td>\n",
       "      <td>77</td>\n",
       "      <td>2136</td>\n",
       "      <td>34.0</td>\n",
       "      <td>6.0</td>\n",
       "      <td>40.0</td>\n",
       "      <td>385.0</td>\n",
       "      <td>385.0</td>\n",
       "      <td>0</td>\n",
       "      <td>358.0</td>\n",
       "      <td>2565</td>\n",
       "    </tr>\n",
       "    <tr>\n",
       "      <th>3</th>\n",
       "      <td>N73291</td>\n",
       "      <td>Boeing</td>\n",
       "      <td>B737-800PAX</td>\n",
       "      <td>UA</td>\n",
       "      <td>19977</td>\n",
       "      <td>UA</td>\n",
       "      <td>N73291</td>\n",
       "      <td>17</td>\n",
       "      <td>11618</td>\n",
       "      <td>1161802</td>\n",
       "      <td>Newark, NJ</td>\n",
       "      <td>NJ</td>\n",
       "      <td>12892</td>\n",
       "      <td>Los Angeles, CA</td>\n",
       "      <td>CA</td>\n",
       "      <td>1847</td>\n",
       "      <td>347</td>\n",
       "      <td>39</td>\n",
       "      <td>1926</td>\n",
       "      <td>2141.0</td>\n",
       "      <td>31.0</td>\n",
       "      <td>2212.0</td>\n",
       "      <td>380.0</td>\n",
       "      <td>380.0</td>\n",
       "      <td>0</td>\n",
       "      <td>315.0</td>\n",
       "      <td>2454</td>\n",
       "    </tr>\n",
       "    <tr>\n",
       "      <th>4</th>\n",
       "      <td>N78524</td>\n",
       "      <td>Boeing</td>\n",
       "      <td>B737-800PAX</td>\n",
       "      <td>UA</td>\n",
       "      <td>19977</td>\n",
       "      <td>UA</td>\n",
       "      <td>N78524</td>\n",
       "      <td>1289</td>\n",
       "      <td>11618</td>\n",
       "      <td>1161802</td>\n",
       "      <td>Newark, NJ</td>\n",
       "      <td>NJ</td>\n",
       "      <td>12892</td>\n",
       "      <td>Los Angeles, CA</td>\n",
       "      <td>CA</td>\n",
       "      <td>2158</td>\n",
       "      <td>348</td>\n",
       "      <td>32</td>\n",
       "      <td>2230</td>\n",
       "      <td>52.0</td>\n",
       "      <td>30.0</td>\n",
       "      <td>122.0</td>\n",
       "      <td>374.0</td>\n",
       "      <td>374.0</td>\n",
       "      <td>0</td>\n",
       "      <td>322.0</td>\n",
       "      <td>2454</td>\n",
       "    </tr>\n",
       "  </tbody>\n",
       "</table>\n",
       "</div>"
      ],
      "text/plain": [
       "  TAIL_NUMBER MANUFACTURER          MODEL UNIQUECARRIER  AIRLINEID CARRIER  \\\n",
       "0      N78506       Boeing    B737-800PAX            CO      19704      CO   \n",
       "1      N16217       Boeing    B737-800PAX            UA      19977      UA   \n",
       "2      N37470       Boeing  B737-900ERPAX            UA      19977      UA   \n",
       "3      N73291       Boeing    B737-800PAX            UA      19977      UA   \n",
       "4      N78524       Boeing    B737-800PAX            UA      19977      UA   \n",
       "\n",
       "  TAILNUM  FLIGHTNUM  ORIGINAIRPORTID  ORIGINAIRPORTSEQID ORIGINCITYNAME  \\\n",
       "0  N78506        787            11618             1161801     Newark, NJ   \n",
       "1  N16217       1083            11618             1161802     Newark, NJ   \n",
       "2  N37470       1670            11618             1161802     Newark, NJ   \n",
       "3  N73291         17            11618             1161802     Newark, NJ   \n",
       "4  N78524       1289            11618             1161802     Newark, NJ   \n",
       "\n",
       "  ORIGINSTATE  DESTAIRPORTID                      DESTCITYNAME DESTSTATE  \\\n",
       "0          NJ          14908  Santa Ana, CA                           CA   \n",
       "1          NJ          14908  Santa Ana, CA                           CA   \n",
       "2          NJ          14771  San Francisco, CA                       CA   \n",
       "3          NJ          12892  Los Angeles, CA                         CA   \n",
       "4          NJ          12892  Los Angeles, CA                         CA   \n",
       "\n",
       "   DEPTIME  DEPDELAY  TAXIOUT  WHEELSOFF  WHEELSON  TAXIIN  ARRTIME  ARRDELAY  \\\n",
       "0     2219       289       31       2250       NaN     NaN      NaN       NaN   \n",
       "1     2215       232       55       2310       NaN     NaN      NaN       NaN   \n",
       "2     2019       319       77       2136      34.0     6.0     40.0     385.0   \n",
       "3     1847       347       39       1926    2141.0    31.0   2212.0     380.0   \n",
       "4     2158       348       32       2230      52.0    30.0    122.0     374.0   \n",
       "\n",
       "   ARRDELAYMINUTES  CANCELLED  AIRTIME  DISTANCE  \n",
       "0              NaN          0      NaN      2433  \n",
       "1              NaN          0      NaN      2434  \n",
       "2            385.0          0    358.0      2565  \n",
       "3            380.0          0    315.0      2454  \n",
       "4            374.0          0    322.0      2454  "
      ]
     },
     "execution_count": 43,
     "metadata": {},
     "output_type": "execute_result"
    }
   ],
   "source": [
    "%%time\n",
    "%%sql \n",
    "SELECT AC.\"TAIL_NUMBER\", AC.\"MANUFACTURER\", AC.\"MODEL\", OT.\"UNIQUECARRIER\", OT.\"AIRLINEID\", OT.\"CARRIER\", OT.\"TAILNUM\", OT.\"FLIGHTNUM\", OT.\"ORIGINAIRPORTID\", OT.\"ORIGINAIRPORTSEQID\", OT.\"ORIGINCITYNAME\", OT.\"ORIGINSTATE\", OT.\"DESTAIRPORTID\", OT.\"DESTCITYNAME\", OT.\"DESTSTATE\", OT.\"DEPTIME\", OT.\"DEPDELAY\", OT.\"TAXIOUT\", OT.\"WHEELSOFF\", OT.\"WHEELSON\", OT.\"TAXIIN\", OT.\"ARRTIME\", OT.\"ARRDELAY\", OT.\"ARRDELAYMINUTES\", OT.\"CANCELLED\", OT.\"AIRTIME\", OT.\"DISTANCE\"\n",
    "  FROM \"ONTIME\".\"ONTIME\" OT, \"ONTIME\".\"AIRCRAFT\" AC \n",
    "  WHERE AC.\"TAIL_NUMBER\" = OT.TAILNUM\n",
    "  AND ORIGINSTATE = 'NJ'\n",
    "  AND DESTSTATE = 'CA'\n",
    "  AND AC.MANUFACTURER = 'Boeing' \n",
    "  AND AC.MODEL LIKE 'B737%'\n",
    "  AND OT.TAXIOUT > 30\n",
    "  AND OT.DISTANCE > 1800\n",
    "  AND OT.DEPDELAY > 200\n",
    "  ORDER BY OT.ARRDELAY DESC\n",
    "  FETCH FIRST 5 ROWS ONLY"
   ]
  },
  {
   "cell_type": "markdown",
   "metadata": {
    "id": "5b389d91ccd845c4a8a80352021d32cc"
   },
   "source": [
    "Let's confirm the number of rows in the ONTIME table in the Db2 Warehoue database. There should be over 40 million."
   ]
  },
  {
   "cell_type": "code",
   "execution_count": 44,
   "metadata": {
    "id": "7cb66bfdaef748c3b7792c6d10b50f74"
   },
   "outputs": [
    {
     "name": "stdout",
     "output_type": "stream",
     "text": [
      "CPU times: user 2.78 ms, sys: 0 ns, total: 2.78 ms\n",
      "Wall time: 24.5 ms\n"
     ]
    },
    {
     "data": {
      "text/html": [
       "<div>\n",
       "<style scoped>\n",
       "    .dataframe tbody tr th:only-of-type {\n",
       "        vertical-align: middle;\n",
       "    }\n",
       "\n",
       "    .dataframe tbody tr th {\n",
       "        vertical-align: top;\n",
       "    }\n",
       "\n",
       "    .dataframe thead th {\n",
       "        text-align: right;\n",
       "    }\n",
       "</style>\n",
       "<table border=\"1\" class=\"dataframe\">\n",
       "  <thead>\n",
       "    <tr style=\"text-align: right;\">\n",
       "      <th></th>\n",
       "      <th>1</th>\n",
       "    </tr>\n",
       "  </thead>\n",
       "  <tbody>\n",
       "    <tr>\n",
       "      <th>0</th>\n",
       "      <td>42942844.0</td>\n",
       "    </tr>\n",
       "  </tbody>\n",
       "</table>\n",
       "</div>"
      ],
      "text/plain": [
       "            1\n",
       "0  42942844.0"
      ]
     },
     "execution_count": 44,
     "metadata": {},
     "output_type": "execute_result"
    }
   ],
   "source": [
    "%%time\n",
    "%%sql \n",
    "SELECT COUNT(*)\n",
    "  FROM \"ONTIME\".\"ONTIME\" "
   ]
  },
  {
   "cell_type": "markdown",
   "metadata": {
    "id": "b6895c6578b94423bface304648694e8"
   },
   "source": [
    "We can also check the number of years of data"
   ]
  },
  {
   "cell_type": "code",
   "execution_count": 45,
   "metadata": {
    "id": "e53841e5901c401787eb75e0bcc8ab63"
   },
   "outputs": [
    {
     "name": "stdout",
     "output_type": "stream",
     "text": [
      "CPU times: user 2.15 ms, sys: 1.02 ms, total: 3.18 ms\n",
      "Wall time: 363 ms\n"
     ]
    },
    {
     "data": {
      "text/html": [
       "<div>\n",
       "<style scoped>\n",
       "    .dataframe tbody tr th:only-of-type {\n",
       "        vertical-align: middle;\n",
       "    }\n",
       "\n",
       "    .dataframe tbody tr th {\n",
       "        vertical-align: top;\n",
       "    }\n",
       "\n",
       "    .dataframe thead th {\n",
       "        text-align: right;\n",
       "    }\n",
       "</style>\n",
       "<table border=\"1\" class=\"dataframe\">\n",
       "  <thead>\n",
       "    <tr style=\"text-align: right;\">\n",
       "      <th></th>\n",
       "      <th>YEAR</th>\n",
       "    </tr>\n",
       "  </thead>\n",
       "  <tbody>\n",
       "    <tr>\n",
       "      <th>0</th>\n",
       "      <td>2009</td>\n",
       "    </tr>\n",
       "    <tr>\n",
       "      <th>1</th>\n",
       "      <td>2010</td>\n",
       "    </tr>\n",
       "    <tr>\n",
       "      <th>2</th>\n",
       "      <td>2011</td>\n",
       "    </tr>\n",
       "    <tr>\n",
       "      <th>3</th>\n",
       "      <td>2012</td>\n",
       "    </tr>\n",
       "    <tr>\n",
       "      <th>4</th>\n",
       "      <td>2013</td>\n",
       "    </tr>\n",
       "    <tr>\n",
       "      <th>5</th>\n",
       "      <td>2014</td>\n",
       "    </tr>\n",
       "    <tr>\n",
       "      <th>6</th>\n",
       "      <td>2015</td>\n",
       "    </tr>\n",
       "  </tbody>\n",
       "</table>\n",
       "</div>"
      ],
      "text/plain": [
       "   YEAR\n",
       "0  2009\n",
       "1  2010\n",
       "2  2011\n",
       "3  2012\n",
       "4  2013\n",
       "5  2014\n",
       "6  2015"
      ]
     },
     "execution_count": 45,
     "metadata": {},
     "output_type": "execute_result"
    }
   ],
   "source": [
    "%%time\n",
    "%%sql \n",
    "SELECT UNIQUE(YEAR) AS YEAR\n",
    "  FROM \"ONTIME\".\"ONTIME\" ORDER BY YEAR"
   ]
  },
  {
   "cell_type": "markdown",
   "metadata": {
    "id": "b412fae6ffcf41979e8203868259c47a"
   },
   "source": [
    "Now, let's run the query again, but this time instead of displaying the results of the query, we will capture the elapsed time. This runs a bit faster than the first run, since Db2 learns about the data from the first run, buffers some of the data, and automatically improves performance. Run the next two cells. "
   ]
  },
  {
   "cell_type": "code",
   "execution_count": 46,
   "metadata": {
    "id": "7697c0eae73c42c785be84cac4d5ce70"
   },
   "outputs": [],
   "source": [
    "%%capture result\n",
    "%%time\n",
    "%%sql \n",
    "SELECT AC.\"TAIL_NUMBER\", AC.\"MANUFACTURER\", AC.\"MODEL\", OT.\"UNIQUECARRIER\", OT.\"AIRLINEID\", OT.\"CARRIER\", OT.\"TAILNUM\", OT.\"FLIGHTNUM\", OT.\"ORIGINAIRPORTID\", OT.\"ORIGINAIRPORTSEQID\", OT.\"ORIGINCITYNAME\", OT.\"ORIGINSTATE\", OT.\"DESTAIRPORTID\", OT.\"DESTCITYNAME\", OT.\"DESTSTATE\", OT.\"DEPTIME\", OT.\"DEPDELAY\", OT.\"TAXIOUT\", OT.\"WHEELSOFF\", OT.\"WHEELSON\", OT.\"TAXIIN\", OT.\"ARRTIME\", OT.\"ARRDELAY\", OT.\"ARRDELAYMINUTES\", OT.\"CANCELLED\", OT.\"AIRTIME\", OT.\"DISTANCE\"\n",
    "  FROM \"ONTIME\".\"ONTIME\" OT, \"ONTIME\".\"AIRCRAFT\" AC \n",
    "  WHERE AC.\"TAIL_NUMBER\" = OT.TAILNUM\n",
    "  AND ORIGINSTATE = 'NJ'\n",
    "  AND DESTSTATE = 'CA'\n",
    "  AND AC.MANUFACTURER = 'Boeing' \n",
    "  AND AC.MODEL LIKE 'B737%'\n",
    "  AND OT.TAXIOUT > 30\n",
    "  AND OT.DISTANCE > 2000\n",
    "  AND OT.DEPDELAY > 200\n",
    "  ORDER BY OT.ARRDELAY DESC\n",
    "  FETCH FIRST 5 ROWS ONLY"
   ]
  },
  {
   "cell_type": "code",
   "execution_count": 47,
   "metadata": {
    "id": "aeff42f968ec4a13a86b5c51dd66bc33"
   },
   "outputs": [
    {
     "name": "stdout",
     "output_type": "stream",
     "text": [
      "CPU times: user 8 ms, sys: 1 ms, total: 9 ms\n",
      "Wall time: 100 ms\n",
      "\n",
      "CPU times: user 8 ms, sys: 1 ms, total: 9 ms\n",
      "Wall time: 100 ms\n",
      "\n",
      "Time: 0.1 s\n",
      "Total Time: 0.1 s\n"
     ]
    }
   ],
   "source": [
    "print(result)\n",
    "sqldb2wtimer = Timer()\n",
    "sqldb2wtimer.timeTotal()"
   ]
  },
  {
   "cell_type": "markdown",
   "metadata": {
    "id": "b44d03eef9b74deda83657ffd29b5e4d"
   },
   "source": [
    "Now that each performance run is complete we can compare performance. Run the next cell to display results from each run.  "
   ]
  },
  {
   "cell_type": "code",
   "execution_count": 48,
   "metadata": {
    "id": "322ae26222f2446cba274f515f4b74bb"
   },
   "outputs": [
    {
     "name": "stdout",
     "output_type": "stream",
     "text": [
      "DV No Cache Query 2009-2015: 83 s\n",
      "DV Full Cache Query 2009-2015: 45.1 s\n",
      "DV 737 Cache Query 2009-2015: 7.75 s\n",
      "DV 737 NJ to CA Cache Query 2009-2015: 4.39 s\n",
      "Db2 Warehouse Query 2009-2015: 0.1 s\n"
     ]
    }
   ],
   "source": [
    "dvnocache = sqldvnocachetimer.getTotalTime()/1000\n",
    "dvfullcache = sqldvbigcachetimer.getTotalTime()/1000\n",
    "dv737cache = sqldvfocusedcachetimer.getTotalTime()/1000\n",
    "dv737njcacache = sqldvsmallcachetimer.getTotalTime()/1000\n",
    "db2w = sqldb2wtimer.getTotalTime()/1000\n",
    "print(\"DV No Cache Query 2009-2015: \" + str(dvnocache) + \" s\")\n",
    "print(\"DV Full Cache Query 2009-2015: \" + str(dvfullcache) + \" s\")\n",
    "print(\"DV 737 Cache Query 2009-2015: \" + str(dv737cache) + \" s\")\n",
    "print(\"DV 737 NJ to CA Cache Query 2009-2015: \" + str(dv737njcacache) + \" s\")\n",
    "print(\"Db2 Warehouse Query 2009-2015: \" + str(db2w) + \" s\")"
   ]
  },
  {
   "cell_type": "markdown",
   "metadata": {
    "id": "f3841a7b981b4a17844023b0dbc107d9"
   },
   "source": [
    "Notice the improvement from the original run without caching, to the runs with a full dataset cache and more focused caches. Notice the dramatic performance improvement when using Db2 Warehouse. \n",
    "\n",
    "Run the next cell to plot the results."
   ]
  },
  {
   "cell_type": "code",
   "execution_count": 49,
   "metadata": {
    "id": "ebe694c7dea24de28402ced2b30ed27b"
   },
   "outputs": [
    {
     "data": {
      "text/plain": [
       "<Figure size 432x288 with 0 Axes>"
      ]
     },
     "metadata": {},
     "output_type": "display_data"
    },
    {
     "data": {
      "image/png": "[encoded data removed]",
      "text/plain": [
       "<Figure size 1440x432 with 1 Axes>"
      ]
     },
     "metadata": {
      "needs_background": "light"
     },
     "output_type": "display_data"
    }
   ],
   "source": [
    "import matplotlib.pyplot as plt\n",
    "fig = plt.figure()\n",
    "fig = plt.figure(figsize=(20, 6))\n",
    "ax = fig.add_axes([0,0,1,1])\n",
    "runs = ['Live DV No Cache','Fully Cached Dataset','Targetted 737 Cache DV','Highly Focused 737 NJ to CA Cache','Db2 Warehouse']\n",
    "runtime = [dvnocache, dvfullcache, dv737cache, dv737njcacache, db2w]\n",
    "ax.bar(runs, runtime)\n",
    "plt.ylabel(\"Time in Seconds (Lower is better)\", fontsize=16)\n",
    "plt.xlabel(\"Performance Run\", fontsize=16)\n",
    "plt.show()"
   ]
  },
  {
   "cell_type": "markdown",
   "metadata": {
    "id": "268e0a8592b44bd4b9d1bc0b70fd3f5d"
   },
   "source": [
    "As a reminder, lets also look at the sizes of each of the different data sources. Run the next two cells to see how much less data we need to process when using the targetted caches. Also remember that Db2 Warehouse was able to achieve its results on the full dataset. But it requires the upfront cost of loading all the date into the Warehouse. "
   ]
  },
  {
   "cell_type": "code",
   "execution_count": 50,
   "metadata": {
    "id": "6632fe19c21b436a8344e2282b9528b5"
   },
   "outputs": [
    {
     "name": "stdout",
     "output_type": "stream",
     "text": [
      "Aircraft:13101.0\n",
      "Number of Domestic Flights in the US\n",
      "Years 2009 to 2010: 12752436.0\n",
      "Years 2011 to 2015: 30190408.0\n",
      "Years 2009 to 2015: 42942844.0\n",
      "Only 737 from 2009 to 2015: 4172450.0\n",
      "Only 737 from NJ to CA: 37621.0\n"
     ]
    }
   ],
   "source": [
    "print('Aircraft:' + str(aircraft))\n",
    "print('Number of Domestic Flights in the US')\n",
    "print('Years 2009 to 2010: ' + str(ontime0910))\n",
    "print('Years 2011 to 2015: ' + str(ontime1115))\n",
    "print('Years 2009 to 2015: ' + str(ontimefull))\n",
    "print('Only 737 from 2009 to 2015: ' + str(ontime737))\n",
    "print('Only 737 from NJ to CA: ' + str(ontimenjca737))"
   ]
  },
  {
   "cell_type": "code",
   "execution_count": 51,
   "metadata": {
    "id": "118b7832d25c4d35af0587229fefb644"
   },
   "outputs": [
    {
     "data": {
      "text/plain": [
       "<Figure size 432x288 with 0 Axes>"
      ]
     },
     "metadata": {},
     "output_type": "display_data"
    },
    {
     "data": {
      "image/png": "[encoded data removed]",
      "text/plain": [
       "<Figure size 1440x432 with 1 Axes>"
      ]
     },
     "metadata": {
      "needs_background": "light"
     },
     "output_type": "display_data"
    }
   ],
   "source": [
    "import matplotlib.pyplot as plt\n",
    "fig = plt.figure()\n",
    "fig = plt.figure(figsize=(20, 6))\n",
    "ax = fig.add_axes([0,0,1,1])\n",
    "runs = ['Years 2009 to 2010','Years 2011 to 2015','Full Dataset','737 Dataset','737 NJ to CA Dataset']\n",
    "runtime = [ontime0910, ontime1115, ontimefull, ontime737, ontimenjca737]\n",
    "ax.bar(runs, runtime)\n",
    "plt.ylabel(\"Dataset Size in Tens of Millions of Rows\", fontsize=16)\n",
    "plt.xlabel(\"US Domestic Flights\", fontsize=16)\n",
    "plt.show()"
   ]
  },
  {
   "cell_type": "markdown",
   "metadata": {
    "id": "a836c37846aa418c9d3bd5797a3eb2f9"
   },
   "source": [
    "## Refreshing a Cache Through a RESTful Service Call\n",
    "As you have seen throught this lab, everything you can do through the Caching management interface you can also do through REST service call from Python. There are a couple of other operations available throught REST that we can review. Run the next to cells to see how to refresh the data in a cache on demand. "
   ]
  },
  {
   "cell_type": "code",
   "execution_count": 52,
   "metadata": {
    "id": "e9fd29ab376f44d7953ac3fabaea06d6"
   },
   "outputs": [
    {
     "name": "stdout",
     "output_type": "stream",
     "text": [
      "Cache: DV20211115221309388288 being refreshed. Check cache status.\n"
     ]
    },
    {
     "data": {
      "text/html": [
       "<div>\n",
       "<style scoped>\n",
       "    .dataframe tbody tr th:only-of-type {\n",
       "        vertical-align: middle;\n",
       "    }\n",
       "\n",
       "    .dataframe tbody tr th {\n",
       "        vertical-align: top;\n",
       "    }\n",
       "\n",
       "    .dataframe thead th {\n",
       "        text-align: right;\n",
       "    }\n",
       "</style>\n",
       "<table border=\"1\" class=\"dataframe\">\n",
       "  <thead>\n",
       "    <tr style=\"text-align: right;\">\n",
       "      <th></th>\n",
       "      <th>id</th>\n",
       "      <th>name</th>\n",
       "      <th>state</th>\n",
       "      <th>size</th>\n",
       "      <th>cardinality</th>\n",
       "      <th>last_refresh_timestamp</th>\n",
       "    </tr>\n",
       "  </thead>\n",
       "  <tbody>\n",
       "    <tr>\n",
       "      <th>7</th>\n",
       "      <td>DV20211115221309388288</td>\n",
       "      <td>AIRCRAFT</td>\n",
       "      <td>Refreshing</td>\n",
       "      <td>106</td>\n",
       "      <td>13101</td>\n",
       "      <td>2021-12-08 17:46:21.219491</td>\n",
       "    </tr>\n",
       "  </tbody>\n",
       "</table>\n",
       "</div>"
      ],
      "text/plain": [
       "                       id      name       state  size  cardinality  \\\n",
       "7  DV20211115221309388288  AIRCRAFT  Refreshing   106        13101   \n",
       "\n",
       "       last_refresh_timestamp  \n",
       "7  2021-12-08 17:46:21.219491  "
      ]
     },
     "metadata": {},
     "output_type": "display_data"
    }
   ],
   "source": [
    "databaseAPI.refreshCache('DV20211115221309388288')\n",
    "df = databaseAPI.getCaches(\"Refreshing\")\n",
    "display(df[['id', 'name','state','size', 'cardinality','last_refresh_timestamp']])"
   ]
  },
  {
   "cell_type": "code",
   "execution_count": 53,
   "metadata": {
    "id": "7ba8d455a0144ca38d3c4f5de4b0a88b"
   },
   "outputs": [
    {
     "data": {
      "text/html": [
       "<div>\n",
       "<style scoped>\n",
       "    .dataframe tbody tr th:only-of-type {\n",
       "        vertical-align: middle;\n",
       "    }\n",
       "\n",
       "    .dataframe tbody tr th {\n",
       "        vertical-align: top;\n",
       "    }\n",
       "\n",
       "    .dataframe thead th {\n",
       "        text-align: right;\n",
       "    }\n",
       "</style>\n",
       "<table border=\"1\" class=\"dataframe\">\n",
       "  <thead>\n",
       "    <tr style=\"text-align: right;\">\n",
       "      <th></th>\n",
       "      <th>id</th>\n",
       "      <th>name</th>\n",
       "      <th>state</th>\n",
       "      <th>size</th>\n",
       "      <th>cardinality</th>\n",
       "      <th>last_refresh_timestamp</th>\n",
       "    </tr>\n",
       "  </thead>\n",
       "  <tbody>\n",
       "    <tr>\n",
       "      <th>0</th>\n",
       "      <td>DV202111161222469697</td>\n",
       "      <td>ONTIME0915</td>\n",
       "      <td>Disabled</td>\n",
       "      <td>1309298</td>\n",
       "      <td>30238851</td>\n",
       "      <td>2021-11-16 12:59:22.006647</td>\n",
       "    </tr>\n",
       "    <tr>\n",
       "      <th>1</th>\n",
       "      <td>DV20211110165634403313</td>\n",
       "      <td>BOEING737</td>\n",
       "      <td>Enabled</td>\n",
       "      <td>56967</td>\n",
       "      <td>4172450</td>\n",
       "      <td>2021-11-10 18:30:21.411623</td>\n",
       "    </tr>\n",
       "    <tr>\n",
       "      <th>2</th>\n",
       "      <td>DV20211115151427714635</td>\n",
       "      <td>ONTIME737NJCA</td>\n",
       "      <td>Enabled</td>\n",
       "      <td>554</td>\n",
       "      <td>37621</td>\n",
       "      <td>2021-11-15 15:33:30.254003</td>\n",
       "    </tr>\n",
       "    <tr>\n",
       "      <th>6</th>\n",
       "      <td>DV20211110144113849337</td>\n",
       "      <td>ONTIME0910</td>\n",
       "      <td>Enabled</td>\n",
       "      <td>591398</td>\n",
       "      <td>12752436</td>\n",
       "      <td>2021-11-10 16:32:41.327378</td>\n",
       "    </tr>\n",
       "    <tr>\n",
       "      <th>7</th>\n",
       "      <td>DV20211115221309388288</td>\n",
       "      <td>AIRCRAFT</td>\n",
       "      <td>Refreshing</td>\n",
       "      <td>106</td>\n",
       "      <td>13101</td>\n",
       "      <td>2021-12-08 17:46:21.219491</td>\n",
       "    </tr>\n",
       "    <tr>\n",
       "      <th>10</th>\n",
       "      <td>DV20211110144049703423</td>\n",
       "      <td>ONTIME1115</td>\n",
       "      <td>Enabled</td>\n",
       "      <td>1399806</td>\n",
       "      <td>30190408</td>\n",
       "      <td>2021-11-10 15:01:13.967413</td>\n",
       "    </tr>\n",
       "  </tbody>\n",
       "</table>\n",
       "</div>"
      ],
      "text/plain": [
       "                        id           name       state     size  cardinality  \\\n",
       "0     DV202111161222469697     ONTIME0915    Disabled  1309298     30238851   \n",
       "1   DV20211110165634403313      BOEING737     Enabled    56967      4172450   \n",
       "2   DV20211115151427714635  ONTIME737NJCA     Enabled      554        37621   \n",
       "6   DV20211110144113849337     ONTIME0910     Enabled   591398     12752436   \n",
       "7   DV20211115221309388288       AIRCRAFT  Refreshing      106        13101   \n",
       "10  DV20211110144049703423     ONTIME1115     Enabled  1399806     30190408   \n",
       "\n",
       "        last_refresh_timestamp  \n",
       "0   2021-11-16 12:59:22.006647  \n",
       "1   2021-11-10 18:30:21.411623  \n",
       "2   2021-11-15 15:33:30.254003  \n",
       "6   2021-11-10 16:32:41.327378  \n",
       "7   2021-12-08 17:46:21.219491  \n",
       "10  2021-11-10 15:01:13.967413  "
      ]
     },
     "metadata": {},
     "output_type": "display_data"
    }
   ],
   "source": [
    "df = databaseAPI.getCaches(\"Available\")\n",
    "display(df[['id', 'name','state','size', 'cardinality','last_refresh_timestamp']])"
   ]
  },
  {
   "cell_type": "markdown",
   "metadata": {
    "id": "10018a33253e48a7bb6cca671380b91b"
   },
   "source": [
    "## Get Cache Details\n",
    "You can also retrieve details of each cache into a DataFrame, then format the results in almost anyway. "
   ]
  },
  {
   "cell_type": "code",
   "execution_count": 54,
   "metadata": {
    "id": "a5b7be0ea1a04e02b2aa6fe07a7903ad"
   },
   "outputs": [
    {
     "name": "stdout",
     "output_type": "stream",
     "text": [
      "{'name': 'AIRCRAFT', 'id': 'DV20211115221309388288', 'query': 'SELECT * FROM ONTIME.AIRCRAFT', 'owner_id': 'ADMIN', 'type': 'U', 'created_timestamp': '2021-11-15 22:13:09.387651', 'last_modified_timestamp': '2021-12-10 18:44:43.992172', 'last_refresh_timestamp': '2021-12-08 17:46:21.219491', 'last_used_timestamp': '2021-12-08 17:45:50.084', 'state': 'Refreshing', 'size': 106, 'cardinality': 13101, 'time_taken_for_refresh': 13021, 'refresh_count': 2, 'hit_count': 46, 'refresh_schedule': '', 'refresh_schedule_desc': '', 'status_msg': ''}\n"
     ]
    }
   ],
   "source": [
    "json = databaseAPI.getCacheDetails('DV20211115221309388288')\n",
    "print(json)"
   ]
  },
  {
   "cell_type": "code",
   "execution_count": 55,
   "metadata": {
    "id": "2567b6950b3d40b3be14ed58050e372e"
   },
   "outputs": [
    {
     "name": "stdout",
     "output_type": "stream",
     "text": [
      "Refreshing\n"
     ]
    }
   ],
   "source": [
    "print(json['state'])"
   ]
  },
  {
   "cell_type": "code",
   "execution_count": 56,
   "metadata": {
    "id": "09814bf7a8674d74b1ffd53cec5f59f5"
   },
   "outputs": [
    {
     "data": {
      "text/html": [
       "<div>\n",
       "<style scoped>\n",
       "    .dataframe tbody tr th:only-of-type {\n",
       "        vertical-align: middle;\n",
       "    }\n",
       "\n",
       "    .dataframe tbody tr th {\n",
       "        vertical-align: top;\n",
       "    }\n",
       "\n",
       "    .dataframe thead th {\n",
       "        text-align: right;\n",
       "    }\n",
       "</style>\n",
       "<table border=\"1\" class=\"dataframe\">\n",
       "  <thead>\n",
       "    <tr style=\"text-align: right;\">\n",
       "      <th></th>\n",
       "      <th>name</th>\n",
       "      <th>state</th>\n",
       "    </tr>\n",
       "  </thead>\n",
       "  <tbody>\n",
       "    <tr>\n",
       "      <th>0</th>\n",
       "      <td>AIRCRAFT</td>\n",
       "      <td>Refreshing</td>\n",
       "    </tr>\n",
       "  </tbody>\n",
       "</table>\n",
       "</div>"
      ],
      "text/plain": [
       "       name       state\n",
       "0  AIRCRAFT  Refreshing"
      ]
     },
     "metadata": {},
     "output_type": "display_data"
    }
   ],
   "source": [
    "display(pd.DataFrame(json_normalize(json))[['name','state']])"
   ]
  },
  {
   "cell_type": "markdown",
   "metadata": {
    "id": "6633cd2f5e184803842de76d9a51deea"
   },
   "source": [
    "In this last example you can see the details of a single cache formatted in a single two column table instead of a long row by transposing the DataFrame. "
   ]
  },
  {
   "cell_type": "code",
   "execution_count": 57,
   "metadata": {
    "id": "26615ec0227a4d5697e583c7ffbbd5dd"
   },
   "outputs": [
    {
     "data": {
      "text/html": [
       "<div>\n",
       "<style scoped>\n",
       "    .dataframe tbody tr th:only-of-type {\n",
       "        vertical-align: middle;\n",
       "    }\n",
       "\n",
       "    .dataframe tbody tr th {\n",
       "        vertical-align: top;\n",
       "    }\n",
       "\n",
       "    .dataframe thead th {\n",
       "        text-align: right;\n",
       "    }\n",
       "</style>\n",
       "<table border=\"1\" class=\"dataframe\">\n",
       "  <thead>\n",
       "    <tr style=\"text-align: right;\">\n",
       "      <th></th>\n",
       "      <th>0</th>\n",
       "    </tr>\n",
       "  </thead>\n",
       "  <tbody>\n",
       "    <tr>\n",
       "      <th>name</th>\n",
       "      <td>AIRCRAFT</td>\n",
       "    </tr>\n",
       "    <tr>\n",
       "      <th>id</th>\n",
       "      <td>DV20211115221309388288</td>\n",
       "    </tr>\n",
       "    <tr>\n",
       "      <th>query</th>\n",
       "      <td>SELECT * FROM ONTIME.AIRCRAFT</td>\n",
       "    </tr>\n",
       "    <tr>\n",
       "      <th>owner_id</th>\n",
       "      <td>ADMIN</td>\n",
       "    </tr>\n",
       "    <tr>\n",
       "      <th>type</th>\n",
       "      <td>U</td>\n",
       "    </tr>\n",
       "    <tr>\n",
       "      <th>created_timestamp</th>\n",
       "      <td>2021-11-15 22:13:09.387651</td>\n",
       "    </tr>\n",
       "    <tr>\n",
       "      <th>last_modified_timestamp</th>\n",
       "      <td>2021-12-10 18:44:43.992172</td>\n",
       "    </tr>\n",
       "    <tr>\n",
       "      <th>last_refresh_timestamp</th>\n",
       "      <td>2021-12-08 17:46:21.219491</td>\n",
       "    </tr>\n",
       "    <tr>\n",
       "      <th>last_used_timestamp</th>\n",
       "      <td>2021-12-08 17:45:50.084</td>\n",
       "    </tr>\n",
       "    <tr>\n",
       "      <th>state</th>\n",
       "      <td>Refreshing</td>\n",
       "    </tr>\n",
       "    <tr>\n",
       "      <th>size</th>\n",
       "      <td>106</td>\n",
       "    </tr>\n",
       "    <tr>\n",
       "      <th>cardinality</th>\n",
       "      <td>13101</td>\n",
       "    </tr>\n",
       "    <tr>\n",
       "      <th>time_taken_for_refresh</th>\n",
       "      <td>13021</td>\n",
       "    </tr>\n",
       "    <tr>\n",
       "      <th>refresh_count</th>\n",
       "      <td>2</td>\n",
       "    </tr>\n",
       "    <tr>\n",
       "      <th>hit_count</th>\n",
       "      <td>46</td>\n",
       "    </tr>\n",
       "    <tr>\n",
       "      <th>refresh_schedule</th>\n",
       "      <td></td>\n",
       "    </tr>\n",
       "    <tr>\n",
       "      <th>refresh_schedule_desc</th>\n",
       "      <td></td>\n",
       "    </tr>\n",
       "    <tr>\n",
       "      <th>status_msg</th>\n",
       "      <td></td>\n",
       "    </tr>\n",
       "  </tbody>\n",
       "</table>\n",
       "</div>"
      ],
      "text/plain": [
       "                                                     0\n",
       "name                                          AIRCRAFT\n",
       "id                              DV20211115221309388288\n",
       "query                    SELECT * FROM ONTIME.AIRCRAFT\n",
       "owner_id                                         ADMIN\n",
       "type                                                 U\n",
       "created_timestamp           2021-11-15 22:13:09.387651\n",
       "last_modified_timestamp     2021-12-10 18:44:43.992172\n",
       "last_refresh_timestamp      2021-12-08 17:46:21.219491\n",
       "last_used_timestamp            2021-12-08 17:45:50.084\n",
       "state                                       Refreshing\n",
       "size                                               106\n",
       "cardinality                                      13101\n",
       "time_taken_for_refresh                           13021\n",
       "refresh_count                                        2\n",
       "hit_count                                           46\n",
       "refresh_schedule                                      \n",
       "refresh_schedule_desc                                 \n",
       "status_msg                                            "
      ]
     },
     "metadata": {},
     "output_type": "display_data"
    }
   ],
   "source": [
    "pd.set_option('display.max_rows', 20)\n",
    "display(pd.DataFrame(json_normalize(json)).T)"
   ]
  },
  {
   "cell_type": "markdown",
   "metadata": {
    "id": "c05a05b8d68740419af79e4fee8c6fbb"
   },
   "source": [
    "### Next Steps\n",
    "Go back and experiment with the caches and SQL statements. Change the SQL statements to see how the caches are reused for a variety of queries even if they are different from the queries that we first name. There are additional tables in the ONTIME dataset included in the virtualized data. Try creating new statement that join data with those additonal tables. Try creating your own caches. \n",
    "\n",
    "You may have also noticed the Spark SQL notebook in the AIRLINE Ontime project. Try out this notebook if you want to compare Data Virtualization and Db2 Warehouse performance with Spark SQL running in Waston Studio on Cloud Pak for Data.  "
   ]
  },
  {
   "cell_type": "markdown",
   "metadata": {
    "id": "99296ed739ac438e8be4f858fb982795"
   },
   "source": [
    "**Credits: IBM 2021, Peter Kohlmann [kohlmann@ca.ibm.com]**"
   ]
  },
  {
   "cell_type": "code",
   "execution_count": null,
   "metadata": {
    "id": "38707212116e42828a7f469d5cc155e2"
   },
   "outputs": [],
   "source": []
  }
 ],
 "metadata": {
  "kernelspec": {
   "display_name": "Python 3.8",
   "language": "python",
   "name": "python3"
  },
  "language_info": {
   "codemirror_mode": {
    "name": "ipython",
    "version": 3
   },
   "file_extension": ".py",
   "mimetype": "text/x-python",
   "name": "python",
   "nbconvert_exporter": "python",
   "pygments_lexer": "ipython3",
   "version": "3.8.11"
  }
 },
 "nbformat": 4,
 "nbformat_minor": 1
}
