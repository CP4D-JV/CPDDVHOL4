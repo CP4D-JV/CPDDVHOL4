{
 "cells": [
  {
   "cell_type": "markdown",
   "metadata": {
    "id": "155ee66dbdc44eacaa09a927d1e9ef23"
   },
   "source": [
    "<img align=\"left\" src=\"https://github.com/Db2-DTE-POC/CPDDVHOL4/blob/main/media/Assets&ArchHeader.jpeg?raw=true\">"
   ]
  },
  {
   "cell_type": "markdown",
   "metadata": {
    "id": "015fe516500643bd954b0e245b6c69d6"
   },
   "source": [
    "# IBM Cloud Pak for Data Version 4.0.2 - Data Virtualization Performance Hands-on Lab\n",
    "\n",
    "## Introduction\n",
    "Welcome to the IBM Cloud Pak for Data Multi-Cloud Virtualization Caching Hands-on Lab. \n",
    "\n",
    "In this lab you analyze the performance of Data Virtualization using a variety of caching techniques.\n",
    "\n",
    "This hands-on lab uses live databases, were data is “virtually” available through the IBM Cloud Pak for Data Virtualization Service. It is an advanced Data Virtualization topic and uses the administrator userid, which is required to manage cached data. "
   ]
  },
  {
   "cell_type": "markdown",
   "metadata": {
    "id": "49de84e77fde4c00adcccabb73a6a89c"
   },
   "source": [
    "### Where to find this sample online\n",
    "You can find a copy of this notebook on GITHUB at https://github.com/Db2-DTE-POC/CPDDVHOL4."
   ]
  },
  {
   "cell_type": "markdown",
   "metadata": {
    "id": "861d48ef5942432884daabf25dc6c09c"
   },
   "source": [
    "## The Data and the Business Problem\n",
    "This hands-on lab analyzes details records of detailed flight time data for all the domestic flights in the United States from 2009 to 2015. The total number of flight time data is almost 43 millions rows of data. There are additional dimension tables to support this large fact table. The table used to supplement the ONTIME fact table is the AIRCRAFT dimension table that includes details on each aircraft with entries in the ONTIME table. \n",
    "\n",
    "From the almost 43 million flights, the lab analyzes flights between New Jersy and California for the Boeing 737. "
   ]
  },
  {
   "cell_type": "markdown",
   "metadata": {
    "id": "76a740a270eb4e88a42f14556abef7db"
   },
   "source": [
    "## In this lab you learn how to:\n",
    "\n",
    "* Navigate to the Cloud Pak for Data Data Virtualization Cache Management user interface\n",
    "* Use the Cloud Pak for Data RESTful API to control the existing ONTIME database caches\n",
    "* Explore Views created to capture and \"reduce\" the working dataset of ONTIME fligth records\n",
    "* Understand how caches were created based on those views\n",
    "* Compare performance between with and without caches\n",
    "* Compare performance using complete and targetted caches\n",
    "* Use the RESTful API to expore and refresh caches"
   ]
  },
  {
   "cell_type": "markdown",
   "metadata": {
    "id": "f1962e50c4114be1bd80e4f2cab42f31"
   },
   "source": [
    "## Getting Started"
   ]
  },
  {
   "cell_type": "markdown",
   "metadata": {
    "id": "0b5e82bf6bc9464794afe755525d0d9f"
   },
   "source": [
    "## Using Jupyter notebooks\n",
    "You are now officially using a Jupyter notebook! If this is your first time using a Jupyter notebook you might want to go through the Db2 Data Management Console Hands on Lab at www.ibm.biz/DMCDemosPOT. It includes an introduction to using Jupyter notebooks with the Db2 family. The introduction shows you some of the basics of using a notebook, including how to create the cells, run code, and save files for future use. \n",
    "\n",
    "Jupyter notebooks are based on IPython which started in development in the 2006/7 timeframe. The existing Python interpreter was limited in functionality and work was started to create a richer development environment. By 2011 the development efforts resulted in IPython being released (http://blog.fperez.org/2012/01/ipython-notebook-historical.html).\n",
    "\n",
    "Jupyter notebooks were a spinoff (2014) from the original IPython project. IPython continues to be the kernel that Jupyter runs on, but the notebooks are now a project on their own.\n",
    "\n",
    "Jupyter notebooks run in a browser and communicate to the backend IPython server which renders this content. These notebooks are used extensively by data scientists and anyone wanting to document, plot, and execute their code in an interactive environment. The beauty of Jupyter notebooks is that you document what you do as you go along."
   ]
  },
  {
   "cell_type": "markdown",
   "metadata": {
    "id": "53b61a6072d74c42a10b3d3adedec900"
   },
   "source": [
    "## Connecting to IBM Cloud Pak for Data\n",
    "For this lab you use the admin userid.\n",
    "* **Engineer:**\n",
    "    * ID: admin\n",
    "    * PASSWORD: CP4DDataFabric\n",
    "\n",
    "If you have this notebook open, you should have already signed in using the admin userid. \n",
    "1. To check your userid, click the icon at the very top right of the webpage. It will look something like this:\n",
    "\n",
    "    <img src=\"https://github.com/Db2-DTE-POC/CPDDVHOL4/blob/main/media/11.06.10 EngineerUserIcon.png?raw=true\">\n",
    "\n",
    "2. Click **Profile and settings**\n",
    "3. Click **Permissions** and review the user permissions for this user\n"
   ]
  },
  {
   "cell_type": "markdown",
   "metadata": {
    "id": "91b1afe1e5254b4f8128d31b2ba2570a"
   },
   "source": [
    "### Exploring the ONTIME dataset\n",
    "Let's start by looking at the the ONTIME dataset that has already been virtualized. \n",
    "\n",
    "You should now have this Hands-on Lab notebook on the left side of your screen and the Cloud Pak for Data Console on the right side of your screen. In the Cloud Pak for Data Console:\n",
    "\n",
    "1. Click the three bar (hamburger) menu at the top left of the console\n",
    "2. Click on the Data menu item if is not already expanded\n",
    "3. Right click **Data Virtualization** and select **Open in New Window**\n",
    "4. Arrange your windows so that notebook is on one side of your screen and the Cloud Pak Data Virtualization Console is on the other side. This makes it easier to follow the instructions without having to jump back and forth between the notebook and the console.\n",
    "\n",
    "    <img src=\"https://github.com/Db2-DTE-POC/CPDDVHOL4/blob/main/media/Caching%20HOL/SidebySide.png?raw=true\">\n",
    "    \n",
    "5. If you don't see the page above, click the **Data Virtualization** menu in the Cloud Pak for Data Console and select **Data Sources**.\n",
    "4. Click **Constellation View**. A spider diagram of the connected data sources opens. \n",
    "\n",
    "    <img src=\"https://github.com/Db2-DTE-POC/CPDDVHOL4/blob/main/media/ConstellationView.png?raw=true\">\n",
    "\n",
    "    This displays the Data Source Graph with numerous active data sources. The ONTIME dataset is sourced from:\n",
    "    * 5 Db2 Databases hosted on premises and accessed throught a remote connector. Each database contains one year of ONTIME flight data. \n",
    "    * Db2 Warehouse Database on Cloud Pak for Data\n",
    "    * Netezza Performance Server on the Public Cloud\n",
    "    * EDB Postgres Database on Premises\n",
    "    * Virtualized CSV files on Premises\n",
    "\n",
    "There five ONTIME Db2 Databases have been combined (\"folded\") into a single virtual table called ONTIME.ONTIME1115. It includes flight records for the years 2011 to 2015. One year from each database. \n",
    "\n",
    "<img src=\"https://github.com/Db2-DTE-POC/CPDDVHOL4/blob/main/media/Caching%20HOL/RemoteConnector.png?raw=true\">\n",
    "\n",
    "The Db2 Warehouse on Cloud Pak for Data includes all the years of flight records from 2009 to 2015. However the view ONTIME.ONTIME0910 retrieves only the years 2009 and 2010 from the single warehouse database. Notice the predicate that limits the results to the years 2009 and 2010.\n",
    "\n",
    "<img src=\"https://github.com/Db2-DTE-POC/CPDDVHOL4/blob/main/media/Caching%20HOL/ONTIME0910VIEW.png?raw=true\">\n",
    "\n",
    "The ONTIME.ONTIME view combines the data from the ONTIME.ONTIME1115 and the ONTIME.ONTIME0910 views. \n",
    "\n",
    "<img src=\"https://github.com/Db2-DTE-POC/CPDDVHOL4/blob/main/media/Caching%20HOL/ONTIMEONTIMEVIEW.png?raw=true\">\n",
    "\n",
    "It is a union between the rows from ONTIME1115 and ONTIME0910. "
   ]
  },
  {
   "cell_type": "markdown",
   "metadata": {
    "id": "297f011b59d44713bf96c6c6ae27d61d"
   },
   "source": [
    "### What is Caching\n",
    "Data Virtualization can make tables on remote data sources look, act and feel like data in a local table. The Data Virtualization engine acts as a single database that contains data from remote tables on remote data source. However, the data is not stored in the Data Virtualization Database. When you submit a query, it is analyzed by the Data Virtualization optimizer. The statement is rewritten and decomposed into parts or branches and data is retreived from each remote data source as required. Each time you run a query, you receive the latest data from the remote data servers. \n",
    "\n",
    "If your remote data servers are responsive, this may perform very fast, even when you are joining data from different sources together in the data virtualizaton engine. Data Virtualization will minimize the volume of data that needs to be retrieved from each remote source to optimize performance. It pushes down predicates, for example WHERE AIRCRAFT='737' from the original query to the remote data server.\n",
    "\n",
    "If you have to retrieve large data sets from the remote servers, caching can dramatically improve performanmce and reduce the load on the remote data servers. \n",
    "\n",
    "When you create a cache by defining a query against the data virtualiztion server. The results of that query (the rows returned) are stored in a fast local storage system. The next time you run that query, the data virtualization engine uses the locally cached data and avoids fetching data from the remote data servers. The rows that are returned are accurate to the time that the cache was created. You can refresh the data in the cache whenever you need to or set a refresh interval and it is automnatically refreshed.\n",
    "\n",
    "The magic of caching is that a statement doesn't have to be exactly like your cache definition for the cache to be used. The data virtualizaiton optimizer looks for caches that contain the required data and uses them when possible.\n",
    "\n",
    "This hands-on lab explores the difference between no using a cache, using a cache and using caches focuses on targetted data sets to optimize performance and minimize cache size and refresh requirements.\n",
    "\n",
    "You can learn more about Data Virtualization caching at: https://www.ibm.com/docs/en/cloud-paks/cp-data/4.0?topic=data-managing-caches-queries"
   ]
  },
  {
   "cell_type": "markdown",
   "metadata": {
    "id": "a232c46edb7b41cf82544ddfbcd36671"
   },
   "source": [
    "# Exploring the Data Virtualization User Interface\n",
    "1. Select Cache management from the Data Virtualization drop down menu.\n",
    "The Cache management page is only available to Data Virtualizaton admninistrators. It contain:\n",
    "* A summary of the local storage used and available\n",
    "* I histogram showing the effectiveness of your existing caches\n",
    "* A list of the currently active data caches, including:\n",
    "    * The name of the cache\n",
    "    * The size of the cache\n",
    "    * The number of rows in the cache, also know as its cardinality\n",
    "    * When the cache was last used and how many times it has been used\n",
    "\n",
    "<img src=\"https://github.com/Db2-DTE-POC/CPDDVHOL4/blob/main/media/Caching%20HOL/CacheManagement.png?raw=true\">\n",
    "\n",
    "To see a list of the actions available on each cache, click the elipsis menu to the right side of a cache in the list of currently available caches. \n",
    "\n",
    "<img src=\"https://github.com/Db2-DTE-POC/CPDDVHOL4/blob/main/media/Caching%20HOL/CacheMenu.png?raw=true\">\n",
    "\n",
    "To see the query that defines a cache select **View cache details**. In this example the cache was defined by selecting all the columns from a view, ONTIME.ONTIME1115 that is defined on a set of virtualized tables.\n",
    "\n",
    "<img src=\"https://github.com/Db2-DTE-POC/CPDDVHOL4/blob/main/media/Caching%20HOL/CacheDetail.png?raw=true\">\n",
    "\n",
    "You can also see a list of the queries that ran on the system. Click the **Queries** tab in the upper-left of the page. Then click the carrot symbol at the left side of a single query to see the full query statement.\n",
    "\n",
    "<img src=\"https://github.com/Db2-DTE-POC/CPDDVHOL4/blob/main/media/Caching%20HOL/Queries.png?raw=true\">\n",
    "\n",
    "In this case the query has run with and without a cache. Performance with the cache is faster than without. To see more details, click **View Details** in the lower right.\n",
    "\n",
    "<img src=\"https://github.com/Db2-DTE-POC/CPDDVHOL4/blob/main/media/Caching%20HOL/FullQuery.png?raw=true\">\n",
    "\n",
    "This includes a history of query execution times. You may have to adjust the timeframe to see previous executions. \n",
    "\n",
    "<img src=\"https://github.com/Db2-DTE-POC/CPDDVHOL4/blob/main/media/Caching%20HOL/QueryDetail.png?raw=true\">"
   ]
  },
  {
   "cell_type": "markdown",
   "metadata": {
    "id": "92b90b40996d47cd83f61fc265d4e248"
   },
   "source": [
    "# Running Scripted Performance Benchmarks with and Without Caching"
   ]
  },
  {
   "cell_type": "markdown",
   "metadata": {
    "id": "90c48f541c62402288703e50e9a2e917"
   },
   "source": [
    "The IBM Cloud Pak for Data Console is only one way you can interact with the Virtualization service. IBM Cloud Pak for Data is built on a set of microservices that communicate with each other and the Console user interface using RESTful APIs. You can use these services to automate anything you can do throught the user interface.\n",
    "\n",
    "This Jupyter Notebook contains examples of how to use the Open APIs to retrieve information from the virtualization service, how to run SQL statements directly against the service through REST and how to provide authoritization to objects. This provides a way write your own script to automate the setup and configuration of the virtualization service. "
   ]
  },
  {
   "cell_type": "markdown",
   "metadata": {
    "id": "d7a9af66de23434ca3c0a61c26b63002"
   },
   "source": [
    "### Load the REST API Class\n",
    "The next part of the lab relies on a set of base classes to help you interact with the RESTful Services API for IBM Cloud Pak for Data Virtualization. You can access this library on GITHUB. The commands below download the library and run them as part of this notebook.\n",
    "<pre>\n",
    "&#37;run CPDDVRestClassV402.ipynb\n",
    "</pre>\n",
    "The cell below loads the RESTful Service Classes and methods directly from GITHUB. Note that it will take a few seconds for the extension to load, so you should generally wait until the \"Db2 Extensions Loaded\" message is displayed in your notebook. You can click on the following like to browse the RESTful Services class file: https://github.com/Db2-DTE-POC/CPDDVHOL4/blob/main/RESTfulEndpointServiceClass402.ipynb. You are free to download and reuse this sample for your own applications.\n",
    "\n",
    "1. Click the cell below\n",
    "2. Click **Run**"
   ]
  },
  {
   "cell_type": "code",
   "execution_count": null,
   "metadata": {
    "id": "d370df8bafc74e1591f427f32fcf1944"
   },
   "outputs": [],
   "source": [
    "!wget -O CPDDVRestClassV402.ipynb https://raw.githubusercontent.com/Db2-DTE-POC/CPDDVHOL4/main/CPDDVRestAPIClass402.ipynb\n",
    "%run CPDDVRestClassV402.ipynb"
   ]
  },
  {
   "cell_type": "markdown",
   "metadata": {
    "id": "9f20eb9daabf4912a9441eb5cac9a770"
   },
   "source": [
    "### Connect to the DV RESTful Service\n",
    "To connect to the Data Virtualization service you need to provide the URL, the service name (v1) and profile the console user name and password. This is the samne as logging into the Cloud Pak for Data console but through a Python notebook instead of the user interface on your browser. Run the next cell. You should see that a connection token is successfully retrieved. "
   ]
  },
  {
   "cell_type": "code",
   "execution_count": null,
   "metadata": {
    "id": "88eaa71d1cf848af89758daa0cfb5ab8"
   },
   "outputs": [],
   "source": [
    "# Set the service URL to connect from inside the ICPD Cluster\n",
    "Console  = 'https://cpd-cpd-instance.apps.demo.ibmdte.net:31192'\n",
    "\n",
    "# Connect to the Db2 Data Management Console service\n",
    "user     = 'admin'\n",
    "password = 'CP4DDataFabric'\n",
    "\n",
    "# Set up the required connection\n",
    "databaseAPI = DVRESTAPI(Console)\n",
    "api = '/v1'\n",
    "databaseAPI.authenticate(api, user, password)\n",
    "database = Console"
   ]
  },
  {
   "cell_type": "markdown",
   "metadata": {
    "id": "1f78e351cd124e948746d0eb87bedc06"
   },
   "source": [
    "### Virtualized Tables and Views\n",
    "This next call retrieves all the virtualized tables and views available to the userid that you use to connect to the service. In this example the whole call is included in the DVRESTAPI class library and returned as a complete Dataframe ready for display or to be used for analysis or administration."
   ]
  },
  {
   "cell_type": "code",
   "execution_count": null,
   "metadata": {
    "id": "0333fcc9f277451b8847c735bbc4a90a"
   },
   "outputs": [],
   "source": [
    "### Display Virtualized Tables and Views \n",
    "display(databaseAPI.getVirtualizedTablesDF())\n",
    "display(databaseAPI.getVirtualizedViewsDF())"
   ]
  },
  {
   "cell_type": "markdown",
   "metadata": {
    "id": "8f8fd4fcfdc2496d91850471e6d2dba5"
   },
   "source": [
    "### Get a list of the Data Virtualization Caches\n",
    "A single call to the DVRESTAPI class returns all the information available about all the caches. "
   ]
  },
  {
   "cell_type": "code",
   "execution_count": null,
   "metadata": {
    "id": "3bb8887652124c0587ecd30456e460fa"
   },
   "outputs": [],
   "source": [
    "display(databaseAPI.getCaches())"
   ]
  },
  {
   "cell_type": "markdown",
   "metadata": {
    "id": "addf5832f919457d8faac0ccac7c00cc"
   },
   "source": [
    "The **getCaches** routine can show just the enabled or disabled caches using a single parameter. You can also easily choose just the columns you want to see by defining the columns using the dataframe returned by the call."
   ]
  },
  {
   "cell_type": "code",
   "execution_count": null,
   "metadata": {
    "id": "22243e8126fa489c8d7578eef1597fcd"
   },
   "outputs": [],
   "source": [
    "df = databaseAPI.getCaches('Enabled')\n",
    "display(df[['id', 'name','state','size', 'cardinality','last_refresh_timestamp']])"
   ]
  },
  {
   "cell_type": "code",
   "execution_count": null,
   "metadata": {
    "id": "510289868c874039b211905de1af3f5f"
   },
   "outputs": [],
   "source": [
    "df = databaseAPI.getCaches('Disabled')\n",
    "display(df[['id', 'name','state','size', 'cardinality','last_refresh_timestamp']])"
   ]
  },
  {
   "cell_type": "markdown",
   "metadata": {
    "id": "3c7bd32c6b0c425d8214a55503581379"
   },
   "source": [
    "### Running the Ontime Query without a Cache\n",
    "Now that you have retrieved the list of enabled and disabled caches, lets run a set of queries to retrieve the number of rows in each cache, its cardinality. You can see this through the Cache management interface, but we want to collect the size of each cache to create a graph to compare them. Before we run the queries, let's make sure that all the caches are enabled."
   ]
  },
  {
   "cell_type": "code",
   "execution_count": null,
   "metadata": {
    "id": "dfa24c442aee4c3a9fc738fb49143fa5"
   },
   "outputs": [],
   "source": [
    "# Enable ONTIME1115\n",
    "databaseAPI.enableCache('DV20211110144113849337')"
   ]
  },
  {
   "cell_type": "code",
   "execution_count": null,
   "metadata": {
    "id": "eae16e86ea114f358a0b3dabbde08681"
   },
   "outputs": [],
   "source": [
    "# Enable ONTIME0910\n",
    "databaseAPI.enableCache('DV20211110144049703423')"
   ]
  },
  {
   "cell_type": "code",
   "execution_count": null,
   "metadata": {
    "id": "f3ae06140cf348988bc95aea1105f025"
   },
   "outputs": [],
   "source": [
    "# Enable AIRCRAFT\n",
    "databaseAPI.enableCache('DV20211115221309388288')"
   ]
  },
  {
   "cell_type": "code",
   "execution_count": null,
   "metadata": {
    "id": "6d92cfeb98d943de8eeaf39bd93fff9e"
   },
   "outputs": [],
   "source": [
    "# Enable BOEING737\n",
    "databaseAPI.enableCache('DV20211110165634403313')"
   ]
  },
  {
   "cell_type": "code",
   "execution_count": null,
   "metadata": {
    "id": "409839952b594b23996947fc36397fec"
   },
   "outputs": [],
   "source": [
    "# Enable ONTIME737NJCA\n",
    "databaseAPI.enableCache('DV20211115151427714635')"
   ]
  },
  {
   "cell_type": "markdown",
   "metadata": {
    "id": "74da227473714d7198953e7122e3927c"
   },
   "source": [
    "### Running Statements against the Data Virtualization server\n",
    "Before we can run queries against Data Virtualization we need to connect to it through the JDBC port. Data Virtualization supports the full SQL and JDBC drivers as Db2. So we can use the Db2 Python Magic library available from GITHUB."
   ]
  },
  {
   "cell_type": "code",
   "execution_count": null,
   "metadata": {
    "id": "a8727491a745408e8d2377f04d8ed2f9"
   },
   "outputs": [],
   "source": [
    "!wget -O db2.ipynb https://raw.githubusercontent.com/Db2-DTE-POC/Db2-Openshift-11.5.4/master/db2.ipynb\n",
    "%run db2.ipynb\n",
    "print('db2.ipynb loaded')"
   ]
  },
  {
   "cell_type": "markdown",
   "metadata": {
    "id": "6a71335151314063bb6e17712ecc8ac1"
   },
   "source": [
    "Connect to the Data Virtualization data server using the admin userid and password."
   ]
  },
  {
   "cell_type": "code",
   "execution_count": null,
   "metadata": {
    "id": "fe5be419170b4d6c8b295f5ca2e05800"
   },
   "outputs": [],
   "source": [
    "# Connect to the Data Virtualization Database\n",
    "database = 'bigsql'\n",
    "user = 'admin'\n",
    "password = 'CP4DDataFabric'\n",
    "host = 'cpd-cpd-instance.apps.demo.ibmdte.net'\n",
    "port = '31193'\n",
    "\n",
    "%sql CONNECT TO {database} USER {user} USING {password} HOST {host} PORT {port}"
   ]
  },
  {
   "cell_type": "markdown",
   "metadata": {
    "id": "767481064b02466b825a6a342b7ba4cd"
   },
   "source": [
    "Run the next six cells to collect the number of rows in each of the following views. Since the cache that was created for each view is enabled, this returns the number of rows in each cache. "
   ]
  },
  {
   "cell_type": "code",
   "execution_count": null,
   "metadata": {
    "id": "78418d87b59349e9895aa9a1c3d1c667"
   },
   "outputs": [],
   "source": [
    "ontime0910count = %sql SELECT COUNT(*) FROM ONTIME.ONTIME0910;"
   ]
  },
  {
   "cell_type": "code",
   "execution_count": null,
   "metadata": {
    "id": "ec93bd513a27437d8413893ebdf3ebfd"
   },
   "outputs": [],
   "source": [
    "ontime1115count = %sql SELECT COUNT(*) FROM ONTIME.ONTIME1115;"
   ]
  },
  {
   "cell_type": "code",
   "execution_count": null,
   "metadata": {
    "id": "d62251bf365d4523a44b79f37a7c7d90"
   },
   "outputs": [],
   "source": [
    "ontime737count = %sql SELECT COUNT(*) FROM ONTIME.BOEING737;"
   ]
  },
  {
   "cell_type": "code",
   "execution_count": null,
   "metadata": {
    "id": "dda7f3844afe4fd2b1a4326ee8975b8b"
   },
   "outputs": [],
   "source": [
    "ontimenjca737count = %sql SELECT COUNT(*) FROM ONTIME.ONTIME737NJCA;"
   ]
  },
  {
   "cell_type": "code",
   "execution_count": null,
   "metadata": {
    "id": "d3862e7a158f4af788e16aed98e9bf3c"
   },
   "outputs": [],
   "source": [
    "aircraftcount = %sql SELECT COUNT(*) FROM ONTIME.AIRCRAFT;"
   ]
  },
  {
   "cell_type": "markdown",
   "metadata": {
    "id": "6cec4a0d154d41f584c4deb369593efa"
   },
   "source": [
    "Run the next cells to extract the first value from the DataFrame with the results of each query."
   ]
  },
  {
   "cell_type": "code",
   "execution_count": null,
   "metadata": {
    "id": "23268a156ac041d7924cf392ebd69b52"
   },
   "outputs": [],
   "source": [
    "ontime0910 = ontime0910count['1'][0]\n",
    "ontime1115 = ontime1115count['1'][0]\n",
    "ontimefull = ontime0910 + ontime1115\n",
    "ontime737 = ontime737count['1'][0]\n",
    "ontimenjca737 = ontimenjca737count['1'][0]\n",
    "aircraft = aircraftcount['1'][0]"
   ]
  },
  {
   "cell_type": "markdown",
   "metadata": {
    "id": "71b2821c91e54aafaf20826208cfd7ef"
   },
   "source": [
    "Run the next cell to see the number of rows in each view."
   ]
  },
  {
   "cell_type": "code",
   "execution_count": null,
   "metadata": {
    "id": "e7b0a70d8fb74afb916bb67c75d09cb2"
   },
   "outputs": [],
   "source": [
    "print('Aircraft:' + str(aircraft))\n",
    "print('Number of Domestic Flights in the US')\n",
    "print('Years 2009 to 2010: ' + str(ontime0910))\n",
    "print('Years 2011 to 2015: ' + str(ontime1115))\n",
    "print('Years 2009 to 2015: ' + str(ontimefull))\n",
    "print('Only 737 from 2009 to 2015: ' + str(ontime737))\n",
    "print('Only 737 from NJ to CA: ' + str(ontimenjca737))"
   ]
  },
  {
   "cell_type": "markdown",
   "metadata": {
    "id": "0f564ca5b8ed449eb18244b620103ecd"
   },
   "source": [
    "### Running without any Caches\n",
    "For the first performance runs without any caches. This is the performance baseline that caches are compared against. Run the next five cells to disable all of the caches. "
   ]
  },
  {
   "cell_type": "code",
   "execution_count": null,
   "metadata": {
    "id": "c2301d9b85d64cdb8ebe753c0d7a53cf"
   },
   "outputs": [],
   "source": [
    "# Disable ONTIME0910\n",
    "databaseAPI.disableCache('DV20211110144113849337')"
   ]
  },
  {
   "cell_type": "code",
   "execution_count": null,
   "metadata": {
    "id": "f7e3fd6bea87405489fee6d854e2c1aa"
   },
   "outputs": [],
   "source": [
    "# Disable ONTIME1115\n",
    "databaseAPI.disableCache('DV20211110144049703423')"
   ]
  },
  {
   "cell_type": "code",
   "execution_count": null,
   "metadata": {
    "id": "f367e6e9b2e546089ad4138dd0a3416a"
   },
   "outputs": [],
   "source": [
    "# Disable BOEING737\n",
    "databaseAPI.disableCache('DV20211110165634403313')"
   ]
  },
  {
   "cell_type": "code",
   "execution_count": null,
   "metadata": {
    "id": "c5e1efc7c6c9484388deb0d9c81c95d8"
   },
   "outputs": [],
   "source": [
    "# Disable ONTIME737NJCA\n",
    "databaseAPI.disableCache('DV20211115151427714635')"
   ]
  },
  {
   "cell_type": "code",
   "execution_count": null,
   "metadata": {
    "id": "a13ac26bdf394c468fef3c70d07734c0"
   },
   "outputs": [],
   "source": [
    "# Disable AIRCRAFT\n",
    "databaseAPI.disableCache('DV20211115221309388288')"
   ]
  },
  {
   "cell_type": "markdown",
   "metadata": {
    "id": "e820362f5782493c895dd4698415f620"
   },
   "source": [
    "Run the next cell to confirm that all the caches are disabed"
   ]
  },
  {
   "cell_type": "code",
   "execution_count": null,
   "metadata": {
    "id": "c769f9eaf894442e8e38ebb741f5cbc9"
   },
   "outputs": [],
   "source": [
    "df = databaseAPI.getCaches('Enabled')\n",
    "display(df[['id', 'name','state','size', 'cardinality','last_refresh_timestamp']])"
   ]
  },
  {
   "cell_type": "markdown",
   "metadata": {
    "id": "c7eb7ed308da43308602ef8a1f786693"
   },
   "source": [
    "Now you can run the ontime analysis query. \n",
    "\n",
    "**Run the next three cells.** \n",
    "\n",
    "The first cell runs the query and returns the first five rows of the result set. The second cell, reruns the query. The second time run results of the time to run the query is captured using the %time and %capture magic Python tags. The third cell collects the results of the second cell for later.\n",
    "\n",
    "The statement below joins the ONTIME table and the AIRCRAFT table on the Tail Number of each aircraft. It then searches through the almost 44 million flight records to find only the flights for 737 aircraft that flew from New Jersy to California with a Taxi out time of greater than 30 minutes, a total flight distance of over 2000 miles and a departure delay of over 200 minutes. It then orders the results by the highest arrival delay time first. \n",
    "\n",
    "These queries typically take about 1 minute and 20 seconds to run each. So while you are waiting for them to complete skip ahead to the next second and lets see how the data virtualization engine is going to retrieve the results."
   ]
  },
  {
   "cell_type": "code",
   "execution_count": null,
   "metadata": {
    "id": "a5393cf625614d138eb6e32fe21553ef"
   },
   "outputs": [],
   "source": [
    "%%sql \n",
    "SELECT * FROM \"ONTIME\".\"ONTIME\" OT, \"ONTIME\".\"AIRCRAFT\" AC \n",
    "  WHERE AC.\"TAIL_NUMBER\" = OT.TAILNUM\n",
    "  AND ORIGINSTATE = 'NJ'\n",
    "  AND DESTSTATE = 'CA'\n",
    "  AND MANUFACTURER = 'Boeing' \n",
    "  AND AC.MODEL LIKE 'B737%'\n",
    "  AND OT.TAXIOUT > 30\n",
    "  AND OT.DISTANCE > 2000\n",
    "  AND OT.DEPDELAY > 200\n",
    "  ORDER BY OT.ARRDELAY DESC\n",
    "  FETCH FIRST 5 ROWS ONLY"
   ]
  },
  {
   "cell_type": "code",
   "execution_count": null,
   "metadata": {
    "id": "0426171f745d4dbbbd8d1ffd79ef96f3"
   },
   "outputs": [],
   "source": [
    "%%capture result\n",
    "%%time\n",
    "%%sql \n",
    "SELECT * FROM \"ONTIME\".\"ONTIME\" OT, \"ONTIME\".\"AIRCRAFT\" AC \n",
    "  WHERE AC.\"TAIL_NUMBER\" = OT.TAILNUM\n",
    "  AND ORIGINSTATE = 'NJ'\n",
    "  AND DESTSTATE = 'CA'\n",
    "  AND MANUFACTURER = 'Boeing' \n",
    "  AND AC.MODEL LIKE 'B737%'\n",
    "  AND OT.TAXIOUT > 30\n",
    "  AND OT.DISTANCE > 2000\n",
    "  AND OT.DEPDELAY > 200\n",
    "  ORDER BY OT.ARRDELAY DESC\n",
    "  FETCH FIRST 5 ROWS ONLY"
   ]
  },
  {
   "cell_type": "markdown",
   "metadata": {
    "id": "b984afa21ff7472d88bc089b2b26710e"
   },
   "source": [
    "The next cell, prints the results of the previous run and captures the time in the sqldnocachetimer object. Later this value will ber compared to other test runs. "
   ]
  },
  {
   "cell_type": "code",
   "execution_count": null,
   "metadata": {
    "id": "1588204b75aa41208a26e255b63d2072",
    "scrolled": true
   },
   "outputs": [],
   "source": [
    "sqldvnocachetimer = Timer()\n",
    "sqldvnocachetimer.timeTotal()"
   ]
  },
  {
   "cell_type": "markdown",
   "metadata": {
    "id": "3b8a7a8cd6824bfebdb43b95dc2103b7"
   },
   "source": [
    "### Using Visual Explain to see your query runs\n",
    "The Data Virtualization SQL Editor includes a very useful tool called Visual Explain that lets you see exactly how the Data Virtualization engine retrieves your results. Let's open the SQL editor and load a script that contains a set of queries we that we can analyze.\n",
    "1. Using the Cloud Pak for Data user interface, select **Run SQL** from the Data Virtualization Drop down menu.\n",
    "2. Click **AddNewScript**\n",
    "\n",
    "<img src=\"https://github.com/Db2-DTE-POC/CPDDVHOL4/blob/main/media/Caching%20HOL/AddNewScript.png?raw=true\">\n",
    "\n",
    "3. Enter **Caching** in the script search field\n",
    "4. click the carrot symbol to the left of the **ONTIME Caching** script to see the whole script\n",
    "5. Click the folder with a plus sign icon to the right of the script. The opens in the SQL Editor.\n",
    "\n",
    "<img src=\"https://github.com/Db2-DTE-POC/CPDDVHOL4/blob/main/media/Caching%20HOL/AddNewScriptSelectONTIME.png?raw=true\">\n",
    "\n",
    "6. We just want to analyze the ONTIME.ONTIME script, which is the second from the top. Select the script.\n",
    "\n",
    "<img src=\"https://github.com/Db2-DTE-POC/CPDDVHOL4/blob/main/media/Caching%20HOL/EditorSelectONTIMEONTIME.png?raw=true\">\n",
    "\n",
    "7. Click the Visual Explain icon\n",
    "\n",
    "<img src=\"https://github.com/Db2-DTE-POC/CPDDVHOL4/blob/main/media/Caching%20HOL/ExplainTheStatement.png?raw=true\">\n",
    "\n",
    "8. After an analysis of the statement, a visual description of how the result set is retrieved appears:\n",
    "\n",
    "<img src=\"https://github.com/Db2-DTE-POC/CPDDVHOL4/blob/main/media/Caching%20HOL/VEONTIMENoCache.png?raw=true\">\n",
    "\n",
    "9. Each step of the processing occurs in parallel from the bottom of the graph to the top. Double click on any tile to see additional details of that step. \n",
    "\n",
    "20. Click the tile at the bottom of the graph, second from the right. This part of the graph shows details of how data is retrieved from the ONTIME 2011 to 2015 set of databases. The Data Virtualization optimizer rewrites the query and writes new statements for each data source. Predicates are included to reduce the data set retrieved from the remote data source. In this case only flights from New Jersey to California are include and only flight that fight the required flight time profile. \n",
    "\n",
    "The statement is sent to the remote connector that joins the ONTIME11 to ONTIME15 databases and returns the results from all the databases located with the remote connector as a single result. These results are combined in a UNION with the rows from the Db2 Warehouse database. Click on the different tiles to explore the details of how the data is retrieved and eventually joined together with the AIRCRAFT table. \n",
    "\n",
    "<img src=\"https://github.com/Db2-DTE-POC/CPDDVHOL4/blob/main/media/Caching%20HOL/VEONTIMEUnionDetail.png?raw=true\">\n",
    "\n",
    "21. Click **BACK** to return to the SQL Editor page."
   ]
  },
  {
   "cell_type": "markdown",
   "metadata": {
    "id": "6c55ef02299c4023b00bc4aed3fc6a74"
   },
   "source": [
    "### Caching all the Data from the Remote Data Sources\n",
    "In the next part of the hands-on lab, you use caches that have already been created. The ONTIME1115 view includes about 30 million rows of data and the ONTIME0910 contains another almost 13 millon rows. All the rows from these view are included in the caches created from those views. The AIRCRAFT cache contains a copy of all 13 thousand aircraft flying from 2009 to 2015.\n",
    "\n",
    "You can look up the definition of a cache by selecting the Cache Details in the Caching management page:\n",
    "\n",
    "<img src=\"https://github.com/Db2-DTE-POC/CPDDVHOL4/blob/main/media/Caching%20HOL/CacheDetail.png?raw=true\">\n",
    "\n",
    "Run the next three four celles to enable the ONTIME1115, the ONTIME0910 and the AIRCRAFT cache."
   ]
  },
  {
   "cell_type": "code",
   "execution_count": null,
   "metadata": {
    "id": "4f960147eb6542e19da89246f1bc0d34"
   },
   "outputs": [],
   "source": [
    "# Enable ONTIME1115\n",
    "databaseAPI.enableCache('DV20211110144113849337')"
   ]
  },
  {
   "cell_type": "code",
   "execution_count": null,
   "metadata": {
    "id": "50e6c077ab484123aa1c1edf3363fc00"
   },
   "outputs": [],
   "source": [
    "# Enable ONTIME0910\n",
    "databaseAPI.enableCache('DV20211110144049703423')"
   ]
  },
  {
   "cell_type": "code",
   "execution_count": null,
   "metadata": {
    "id": "d645633c92ea44bc80079c1f98c9bcb0"
   },
   "outputs": [],
   "source": [
    "# Enable AIRCRAFT\n",
    "databaseAPI.enableCache('DV20211115221309388288')"
   ]
  },
  {
   "cell_type": "code",
   "execution_count": null,
   "metadata": {
    "id": "e89328163ab54564972508d206b44567"
   },
   "outputs": [],
   "source": [
    "df = databaseAPI.getCaches('Enabled')\n",
    "display(df[['id', 'name','state','size', 'cardinality','last_refresh_timestamp']])"
   ]
  },
  {
   "cell_type": "markdown",
   "metadata": {
    "id": "c082dcf35a92485e87d5a641707cb9ff"
   },
   "source": [
    "Now run the next two cells to rerun the orignal query using the enabled caches. \n",
    "\n",
    "While the query runs, return to the SQL Editor to re-analyze the statement now that the caches are available. Follow the steps in the next descriptive cell."
   ]
  },
  {
   "cell_type": "code",
   "execution_count": null,
   "metadata": {
    "id": "f5725c54c2c14a71a1d3443c6a9d2d76"
   },
   "outputs": [],
   "source": [
    "%%capture result\n",
    "%%time\n",
    "%%sql \n",
    "SELECT * FROM \"ONTIME\".\"ONTIME\" OT, \"ONTIME\".\"AIRCRAFT\" AC \n",
    "  WHERE AC.\"TAIL_NUMBER\" = OT.TAILNUM\n",
    "  AND ORIGINSTATE = 'NJ'\n",
    "  AND DESTSTATE = 'CA'\n",
    "  AND MANUFACTURER = 'Boeing' \n",
    "  AND AC.MODEL LIKE 'B737%'\n",
    "  AND OT.TAXIOUT > 30\n",
    "  AND OT.DISTANCE > 2000\n",
    "  AND OT.DEPDELAY > 200\n",
    "  ORDER BY OT.ARRDELAY DESC\n",
    "  FETCH FIRST 5 ROWS ONLY"
   ]
  },
  {
   "cell_type": "code",
   "execution_count": null,
   "metadata": {
    "id": "2a591dc2d2574e0787e45d2a3f612d37",
    "scrolled": true
   },
   "outputs": [],
   "source": [
    "print(result)\n",
    "sqldvbigcachetimer = Timer()\n",
    "sqldvbigcachetimer.timeTotal()"
   ]
  },
  {
   "cell_type": "markdown",
   "metadata": {
    "id": "0c5c553a891142438b16322a414798a7"
   },
   "source": [
    "1. Make sure that the same statement is highlighted\n",
    "2. Click the Visual Explain Icon.\n",
    "3. After the statement is analyzed, a graph of the new plan appears\n",
    "\n",
    "<img src=\"https://github.com/Db2-DTE-POC/CPDDVHOL4/blob/main/media/Caching%20HOL/VEFullCache.png?raw=true\">\n",
    "\n",
    "This time the data is retrieved from the local caches. Notice that the Data Virtualization optimzer chose to use each of the caches you just enabled to provide results for each branch. Double click on one of the cache tiles to see the details of each cache including the number of rows in that cache. \n",
    "\n",
    "Go back and check that your query ran in the cells above and check out the new runtime. "
   ]
  },
  {
   "cell_type": "markdown",
   "metadata": {
    "id": "e808ccd357884c188eb21a280589d91a"
   },
   "source": [
    "### Caching a Subset of the Full Dataset\n",
    "If you know that you can focus on a subset of the data in your original dataset, you don't have to cache all the data in the full dataset. In this example we are only interested in analyzing the flight time performance of 737 aircraft. The first step is to create a view of just the subset of data. \n",
    "\n",
    "The ONTIME737 view selects only the records from the orignal ONTIME table (almost 44 million rows) for 737 aircraft. Notice the predicate in the view that limits the results of the view to only 737s.  \n",
    "\n",
    "<img src=\"https://github.com/Db2-DTE-POC/CPDDVHOL4/blob/main/media/Caching%20HOL/ONTIME737VIEW.png?raw=true\">\n",
    "\n",
    "If you remember from when we counted the number of rows in each view the BOEING737 view will return a little over 4 million rows. Or about 10% of the full dataset.\n",
    "\n",
    "We can now run a query that returns exactly the same results as the original query but using the BOEING737 view instead of the ONTIME view. In this case we don't need to include the predicates that limit results to only flights from New Jersey to California and selects the requied flight time values. \n",
    "\n",
    "<img src=\"https://github.com/Db2-DTE-POC/CPDDVHOL4/blob/main/media/Caching%20HOL/Query737.png?raw=true\">\n",
    "\n",
    "You can change any of the predicates of this query and use the BOEING737 view in other queries and join it to other data. "
   ]
  },
  {
   "cell_type": "markdown",
   "metadata": {
    "id": "6e9bc2b25377498887cca49f01dd1983"
   },
   "source": [
    "Now let's enable the BOEING737 cache to improve the performance of this view by using locally cached data. This cache was populated before the lab, so only have to enable it, you don't have to refresh it."
   ]
  },
  {
   "cell_type": "code",
   "execution_count": null,
   "metadata": {
    "id": "157e48687ca9426b84c18d209c0decee"
   },
   "outputs": [],
   "source": [
    "# Enable BOEING737\n",
    "databaseAPI.enableCache('DV20211110165634403313')"
   ]
  },
  {
   "cell_type": "markdown",
   "metadata": {
    "id": "88ea9a5dad964723b47a337b51c07ccf"
   },
   "source": [
    "Run the next two cells to re-run the query using the BOEING737 view with the corresponding smaller cache. While those cells run, return to the SQL Editor, find the query above and run Visual Explain to see the results of the analysis. Check below the next two cells for an example of the results. "
   ]
  },
  {
   "cell_type": "code",
   "execution_count": null,
   "metadata": {
    "id": "1f3a072485f1495ca643c79afabce548"
   },
   "outputs": [],
   "source": [
    "%%capture result\n",
    "%%time\n",
    "%%sql \n",
    "SELECT * FROM \"ONTIME\".\"BOEING737\" OT, \"ONTIME\".\"AIRCRAFT\" AC \n",
    "  WHERE ORIGINSTATE = 'NJ'\n",
    "  AND DESTSTATE = 'CA'\n",
    "  AND TAXIOUT > 30\n",
    "  AND DISTANCE > 2000\n",
    "  AND DEPDELAY > 200\n",
    "  ORDER BY OT.ARRDELAY DESC\n",
    "  FETCH FIRST 5 ROWS ONLY"
   ]
  },
  {
   "cell_type": "code",
   "execution_count": null,
   "metadata": {
    "id": "f9237941a8aa489a8e9f1522d2e8b83d"
   },
   "outputs": [],
   "source": [
    "sqldvfocusedcachetimer = Timer()\n",
    "sqldvfocusedcachetimer.timeTotal()"
   ]
  },
  {
   "cell_type": "markdown",
   "metadata": {
    "id": "978d76ca86634ab38609876c97601d91"
   },
   "source": [
    "This time everything is retrieve from a single cache that contains only 737 flight records. Notice that the query still included a join with the AIRCRAFT table, so the data from the AIRCARFT cache is also retrieved. This means that each record in the view includes the columns from the AIRCRAFT table with each row of flight record data. There are still a little over 4 million rows but each row includes some additional columns of detail. While this create duplication there is only a single result that includes all the required information. \n",
    "\n",
    "<img src=\"https://github.com/Db2-DTE-POC/CPDDVHOL4/blob/main/media/Caching%20HOL/VEONTIME737.png?raw=true\">\n",
    "\n",
    "When you are done reviewing the visual explain analysis check back that your query has finished. The new runtime is significantly faster than the orignal without caching or the full cache results. "
   ]
  },
  {
   "cell_type": "markdown",
   "metadata": {
    "id": "0ffd9ccd1076404898122eaa7644767e"
   },
   "source": [
    "Let's try on more view that reduces the dataset even further. This one selects only 737 fight records from New Jersy to California. \n",
    "\n",
    "<img src=\"https://github.com/Db2-DTE-POC/CPDDVHOL4/blob/main/media/Caching%20HOL/ONTIMENJCA737VIEW.png?raw=true\">\n",
    "\n",
    "The resulting query only needs to specifiy the flight time details required. Notice that this query leaves out the AIRCRAFT table join and the columns from that table. \n",
    "\n",
    "<img src=\"https://github.com/Db2-DTE-POC/CPDDVHOL4/blob/main/media/Caching%20HOL/QueryNJCA737.png?raw=true\">\n",
    "\n",
    "Before we run this new query, let's enable the corresponding cache for this view. "
   ]
  },
  {
   "cell_type": "code",
   "execution_count": null,
   "metadata": {
    "id": "fadca6adadf4412085d73f8b3120a380"
   },
   "outputs": [],
   "source": [
    "# Enable ONTIME737NJCA\n",
    "databaseAPI.enableCache('DV20211115151427714635')"
   ]
  },
  {
   "cell_type": "markdown",
   "metadata": {
    "id": "a409099193904d0e879fd22ba6149fb4"
   },
   "source": [
    "Run the next two cells to re-run the query using the ONTIME737NJCA view with the corresponding cache. While those cells run, return to the SQL Editor, find the query above and run Visual Explain to see the results of the analysis. Check below the next two cells for an example of the results. "
   ]
  },
  {
   "cell_type": "code",
   "execution_count": null,
   "metadata": {
    "id": "d71e502221d145e09e53b9482ca2882b"
   },
   "outputs": [],
   "source": [
    "%%capture result\n",
    "%%time\n",
    "%%sql \n",
    "SELECT * FROM ONTIME.ONTIME737NJCA WHERE \n",
    "  TAXIOUT > 30\n",
    "  AND DISTANCE > 2000\n",
    "  AND DEPDELAY > 200\n",
    "  ORDER BY ARRDELAY DESC\n",
    "  FETCH FIRST 5 ROWS ONLY"
   ]
  },
  {
   "cell_type": "code",
   "execution_count": null,
   "metadata": {
    "id": "66d0598ecd9f4377ae18e216452e52f6"
   },
   "outputs": [],
   "source": [
    "sqldvsmallcachetimer = Timer()\n",
    "sqldvsmallcachetimer.timeTotal()"
   ]
  },
  {
   "cell_type": "markdown",
   "metadata": {
    "id": "0b26dc6233a64e088fce8a518bbffc44"
   },
   "source": [
    "Notice that this Visual Explain analysis only required data from a single cache. "
   ]
  },
  {
   "cell_type": "markdown",
   "metadata": {
    "id": "0493eab14e854eb88d15964da51d6fb1"
   },
   "source": [
    "\n",
    "\n",
    "<img src=\"https://github.com/Db2-DTE-POC/CPDDVHOL4/blob/main/media/Caching%20HOL/VEONTIMENJCA737.png?raw=true\">"
   ]
  },
  {
   "cell_type": "markdown",
   "metadata": {
    "id": "66316bc4b249467380039a35a90bb559"
   },
   "source": [
    "### Comparing Performance with Db2 Warehouse\n",
    "Now that you can see how you can improve performance using complete or selective caching, lets take a look at one other option available on Cloud Pak for Data. \n",
    "\n",
    "Data Virtualizaton can provide great performance whether pulling data from live sources or using caches to accelerate performance and reduce load on source database.\n",
    "\n",
    "However if you need even faster performance you can choose to load the same data into Db2 Warehouse using the native data loader in Db2 Warehouse, Data Refinery to move data from the original source or Data Virtualization or use Data Stage for full function ETL processing.\n",
    "\n",
    "Db2 Warehouse is built on an industry leading columnar data storage system that can return query results much faster than other methods. \n",
    "\n",
    "A Db2 Warehouse instance is installed in this demonstration environment and the full 2009 to 2015 data has been loaded into a single columnar storage table. The AIRCRAFT table is also loaded into the Db2 Warehouse Database. \n",
    "\n",
    "For this next step, run the next cell to connect to the Db2 Warehouse database in Cloud Pak for Data. This uses the same library you used to connect to the Data Virtualization engine. "
   ]
  },
  {
   "cell_type": "code",
   "execution_count": null,
   "metadata": {
    "id": "85eceb160fe848b4958e173e72959a55"
   },
   "outputs": [],
   "source": [
    "# Connect to the Db2 Warehouse Database from inside of IBM Cloud Pak for Data\n",
    "database = 'ONTIME'\n",
    "user = 'admin'\n",
    "password = 'CP4DDataFabric'\n",
    "host = 'cpd-cpd-instance.apps.demo.ibmdte.net'\n",
    "port = '31175'\n",
    "\n",
    "%sql CONNECT TO {database} USER {user} USING {password} HOST {host} PORT {port}"
   ]
  },
  {
   "cell_type": "markdown",
   "metadata": {
    "id": "0a0439e3db8741dc8b7756ac6c37560b"
   },
   "source": [
    "Next run the following cell. It runs exactly the same query against the same dataset that we used for Data Virtualization. The results should be exactly the same, just faster. "
   ]
  },
  {
   "cell_type": "code",
   "execution_count": null,
   "metadata": {
    "id": "e99806f922cc4d7bb93e3c5bdf509d4d"
   },
   "outputs": [],
   "source": [
    "%%time\n",
    "%%sql \n",
    "SELECT AC.\"TAIL_NUMBER\", AC.\"MANUFACTURER\", AC.\"MODEL\", OT.\"UNIQUECARRIER\", OT.\"AIRLINEID\", OT.\"CARRIER\", OT.\"TAILNUM\", OT.\"FLIGHTNUM\", OT.\"ORIGINAIRPORTID\", OT.\"ORIGINAIRPORTSEQID\", OT.\"ORIGINCITYNAME\", OT.\"ORIGINSTATE\", OT.\"DESTAIRPORTID\", OT.\"DESTCITYNAME\", OT.\"DESTSTATE\", OT.\"DEPTIME\", OT.\"DEPDELAY\", OT.\"TAXIOUT\", OT.\"WHEELSOFF\", OT.\"WHEELSON\", OT.\"TAXIIN\", OT.\"ARRTIME\", OT.\"ARRDELAY\", OT.\"ARRDELAYMINUTES\", OT.\"CANCELLED\", OT.\"AIRTIME\", OT.\"DISTANCE\"\n",
    "  FROM \"ONTIME\".\"ONTIME\" OT, \"ONTIME\".\"AIRCRAFT\" AC \n",
    "  WHERE AC.\"TAIL_NUMBER\" = OT.TAILNUM\n",
    "  AND ORIGINSTATE = 'NJ'\n",
    "  AND DESTSTATE = 'CA'\n",
    "  AND AC.MANUFACTURER = 'Boeing' \n",
    "  AND AC.MODEL LIKE 'B737%'\n",
    "  AND OT.TAXIOUT > 30\n",
    "  AND OT.DISTANCE > 1800\n",
    "  AND OT.DEPDELAY > 200\n",
    "  ORDER BY OT.ARRDELAY DESC\n",
    "  FETCH FIRST 5 ROWS ONLY"
   ]
  },
  {
   "cell_type": "markdown",
   "metadata": {
    "id": "5b389d91ccd845c4a8a80352021d32cc"
   },
   "source": [
    "Let's confirm the number of rows in the ONTIME table in the Db2 Warehoue database. There should be over 40 million."
   ]
  },
  {
   "cell_type": "code",
   "execution_count": null,
   "metadata": {
    "id": "7cb66bfdaef748c3b7792c6d10b50f74"
   },
   "outputs": [],
   "source": [
    "%%time\n",
    "%%sql \n",
    "SELECT COUNT(*)\n",
    "  FROM \"ONTIME\".\"ONTIME\" "
   ]
  },
  {
   "cell_type": "markdown",
   "metadata": {
    "id": "b6895c6578b94423bface304648694e8"
   },
   "source": [
    "We can also check the number of years of data"
   ]
  },
  {
   "cell_type": "code",
   "execution_count": null,
   "metadata": {
    "id": "e53841e5901c401787eb75e0bcc8ab63"
   },
   "outputs": [],
   "source": [
    "%%time\n",
    "%%sql \n",
    "SELECT UNIQUE(YEAR) AS YEAR\n",
    "  FROM \"ONTIME\".\"ONTIME\" ORDER BY YEAR"
   ]
  },
  {
   "cell_type": "markdown",
   "metadata": {
    "id": "b412fae6ffcf41979e8203868259c47a"
   },
   "source": [
    "Now, let's run the query again, but this time instead of displaying the results of the query, we will capture the elapsed time. This runs a bit faster than the first run, since Db2 learns about the data from the first run, buffers some of the data, and automatically improves performance. Run the next two cells. "
   ]
  },
  {
   "cell_type": "code",
   "execution_count": null,
   "metadata": {
    "id": "7697c0eae73c42c785be84cac4d5ce70"
   },
   "outputs": [],
   "source": [
    "%%capture result\n",
    "%%time\n",
    "%%sql \n",
    "SELECT AC.\"TAIL_NUMBER\", AC.\"MANUFACTURER\", AC.\"MODEL\", OT.\"UNIQUECARRIER\", OT.\"AIRLINEID\", OT.\"CARRIER\", OT.\"TAILNUM\", OT.\"FLIGHTNUM\", OT.\"ORIGINAIRPORTID\", OT.\"ORIGINAIRPORTSEQID\", OT.\"ORIGINCITYNAME\", OT.\"ORIGINSTATE\", OT.\"DESTAIRPORTID\", OT.\"DESTCITYNAME\", OT.\"DESTSTATE\", OT.\"DEPTIME\", OT.\"DEPDELAY\", OT.\"TAXIOUT\", OT.\"WHEELSOFF\", OT.\"WHEELSON\", OT.\"TAXIIN\", OT.\"ARRTIME\", OT.\"ARRDELAY\", OT.\"ARRDELAYMINUTES\", OT.\"CANCELLED\", OT.\"AIRTIME\", OT.\"DISTANCE\"\n",
    "  FROM \"ONTIME\".\"ONTIME\" OT, \"ONTIME\".\"AIRCRAFT\" AC \n",
    "  WHERE AC.\"TAIL_NUMBER\" = OT.TAILNUM\n",
    "  AND ORIGINSTATE = 'NJ'\n",
    "  AND DESTSTATE = 'CA'\n",
    "  AND AC.MANUFACTURER = 'Boeing' \n",
    "  AND AC.MODEL LIKE 'B737%'\n",
    "  AND OT.TAXIOUT > 30\n",
    "  AND OT.DISTANCE > 2000\n",
    "  AND OT.DEPDELAY > 200\n",
    "  ORDER BY OT.ARRDELAY DESC\n",
    "  FETCH FIRST 5 ROWS ONLY"
   ]
  },
  {
   "cell_type": "code",
   "execution_count": null,
   "metadata": {
    "id": "aeff42f968ec4a13a86b5c51dd66bc33"
   },
   "outputs": [],
   "source": [
    "print(result)\n",
    "sqldb2wtimer = Timer()\n",
    "sqldb2wtimer.timeTotal()"
   ]
  },
  {
   "cell_type": "markdown",
   "metadata": {
    "id": "b44d03eef9b74deda83657ffd29b5e4d"
   },
   "source": [
    "Now that each performance run is complete we can compare performance. Run the next cell to display results from each run.  "
   ]
  },
  {
   "cell_type": "code",
   "execution_count": null,
   "metadata": {
    "id": "322ae26222f2446cba274f515f4b74bb"
   },
   "outputs": [],
   "source": [
    "dvnocache = sqldvnocachetimer.getTotalTime()/1000\n",
    "dvfullcache = sqldvbigcachetimer.getTotalTime()/1000\n",
    "dv737cache = sqldvfocusedcachetimer.getTotalTime()/1000\n",
    "dv737njcacache = sqldvsmallcachetimer.getTotalTime()/1000\n",
    "db2w = sqldb2wtimer.getTotalTime()/1000\n",
    "print(\"DV No Cache Query 2009-2015: \" + str(dvnocache) + \" s\")\n",
    "print(\"DV Full Cache Query 2009-2015: \" + str(dvfullcache) + \" s\")\n",
    "print(\"DV 737 Cache Query 2009-2015: \" + str(dv737cache) + \" s\")\n",
    "print(\"DV 737 NJ to CA Cache Query 2009-2015: \" + str(dv737njcacache) + \" s\")\n",
    "print(\"Db2 Warehouse Query 2009-2015: \" + str(db2w) + \" s\")"
   ]
  },
  {
   "cell_type": "markdown",
   "metadata": {
    "id": "f3841a7b981b4a17844023b0dbc107d9"
   },
   "source": [
    "Notice the improvement from the original run without caching, to the runs with a full dataset cache and more focused caches. Notice the dramatic performance improvement when using Db2 Warehouse. \n",
    "\n",
    "Run the next cell to plot the results."
   ]
  },
  {
   "cell_type": "code",
   "execution_count": null,
   "metadata": {
    "id": "ebe694c7dea24de28402ced2b30ed27b"
   },
   "outputs": [],
   "source": [
    "import matplotlib.pyplot as plt\n",
    "fig = plt.figure()\n",
    "fig = plt.figure(figsize=(20, 6))\n",
    "ax = fig.add_axes([0,0,1,1])\n",
    "runs = ['Live DV No Cache','Fully Cached Dataset','Targetted 737 Cache DV','Highly Focused 737 NJ to CA Cache','Db2 Warehouse']\n",
    "runtime = [dvnocache, dvfullcache, dv737cache, dv737njcacache, db2w]\n",
    "ax.bar(runs, runtime)\n",
    "plt.ylabel(\"Time in Seconds (Lower is better)\", fontsize=16)\n",
    "plt.xlabel(\"Performance Run\", fontsize=16)\n",
    "plt.show()"
   ]
  },
  {
   "cell_type": "markdown",
   "metadata": {
    "id": "268e0a8592b44bd4b9d1bc0b70fd3f5d"
   },
   "source": [
    "As a reminder, lets also look at the sizes of each of the different data sources. Run the next two cells to see how much less data we need to process when using the targetted caches. Also remember that Db2 Warehouse was able to achieve its results on the full dataset. But it requires the upfront cost of loading all the date into the Warehouse. "
   ]
  },
  {
   "cell_type": "code",
   "execution_count": null,
   "metadata": {
    "id": "6632fe19c21b436a8344e2282b9528b5"
   },
   "outputs": [],
   "source": [
    "print('Aircraft:' + str(aircraft))\n",
    "print('Number of Domestic Flights in the US')\n",
    "print('Years 2009 to 2010: ' + str(ontime0910))\n",
    "print('Years 2011 to 2015: ' + str(ontime1115))\n",
    "print('Years 2009 to 2015: ' + str(ontimefull))\n",
    "print('Only 737 from 2009 to 2015: ' + str(ontime737))\n",
    "print('Only 737 from NJ to CA: ' + str(ontimenjca737))"
   ]
  },
  {
   "cell_type": "code",
   "execution_count": null,
   "metadata": {
    "id": "118b7832d25c4d35af0587229fefb644"
   },
   "outputs": [],
   "source": [
    "import matplotlib.pyplot as plt\n",
    "fig = plt.figure()\n",
    "fig = plt.figure(figsize=(20, 6))\n",
    "ax = fig.add_axes([0,0,1,1])\n",
    "runs = ['Years 2009 to 2010','Years 2011 to 2015','Full Dataset','737 Dataset','737 NJ to CA Dataset']\n",
    "runtime = [ontime0910, ontime1115, ontimefull, ontime737, ontimenjca737]\n",
    "ax.bar(runs, runtime)\n",
    "plt.ylabel(\"Dataset Size in Millions of Rows\", fontsize=16)\n",
    "plt.xlabel(\"US Domestic Flights\", fontsize=16)\n",
    "plt.show()"
   ]
  },
  {
   "cell_type": "markdown",
   "metadata": {
    "id": "a836c37846aa418c9d3bd5797a3eb2f9"
   },
   "source": [
    "## Refreshing a Cache Through a RESTful Service Call\n",
    "As you have seen throught this lab, everything you can do through the Caching management interface you can also do through REST service call from Python. There are a couple of other operations available throught REST that we can review. Run the next to cells to see how to refresh the data in a cache on demand. "
   ]
  },
  {
   "cell_type": "code",
   "execution_count": null,
   "metadata": {
    "id": "e9fd29ab376f44d7953ac3fabaea06d6"
   },
   "outputs": [],
   "source": [
    "databaseAPI.refreshCache('DV20211115221309388288')\n",
    "df = databaseAPI.getCaches(\"Refreshing\")\n",
    "display(df[['id', 'name','state','size', 'cardinality','last_refresh_timestamp']])"
   ]
  },
  {
   "cell_type": "code",
   "execution_count": null,
   "metadata": {
    "id": "7ba8d455a0144ca38d3c4f5de4b0a88b"
   },
   "outputs": [],
   "source": [
    "df = databaseAPI.getCaches(\"Available\")\n",
    "display(df[['id', 'name','state','size', 'cardinality','last_refresh_timestamp']])"
   ]
  },
  {
   "cell_type": "markdown",
   "metadata": {
    "id": "10018a33253e48a7bb6cca671380b91b"
   },
   "source": [
    "## Get Cache Details\n",
    "You can also retrieve details of each cache into a DataFrame, then format the results in almost anyway. "
   ]
  },
  {
   "cell_type": "code",
   "execution_count": null,
   "metadata": {
    "id": "a5b7be0ea1a04e02b2aa6fe07a7903ad"
   },
   "outputs": [],
   "source": [
    "json = databaseAPI.getCacheDetails('DV20211115221309388288')\n",
    "print(json)"
   ]
  },
  {
   "cell_type": "code",
   "execution_count": null,
   "metadata": {
    "id": "2567b6950b3d40b3be14ed58050e372e"
   },
   "outputs": [],
   "source": [
    "print(json['state'])"
   ]
  },
  {
   "cell_type": "code",
   "execution_count": null,
   "metadata": {
    "id": "09814bf7a8674d74b1ffd53cec5f59f5"
   },
   "outputs": [],
   "source": [
    "display(pd.DataFrame(json_normalize(json))[['name','state']])"
   ]
  },
  {
   "cell_type": "markdown",
   "metadata": {
    "id": "6633cd2f5e184803842de76d9a51deea"
   },
   "source": [
    "In this last example you can see the details of a single cache formatted in a single two column table instead of a long row by transposing the DataFrame. "
   ]
  },
  {
   "cell_type": "code",
   "execution_count": null,
   "metadata": {
    "id": "26615ec0227a4d5697e583c7ffbbd5dd"
   },
   "outputs": [],
   "source": [
    "pd.set_option('display.max_rows', 20)\n",
    "display(pd.DataFrame(json_normalize(json)).T)"
   ]
  },
  {
   "cell_type": "markdown",
   "metadata": {
    "id": "c05a05b8d68740419af79e4fee8c6fbb"
   },
   "source": [
    "### Next Steps\n",
    "Go back and experiment with the caches and SQL statements. Change the SQL statements to see how the caches are reused for a variety of queries even if they are different from the queries that we first name. There are additional tables in the ONTIME dataset included in the virtualized data. Try creating new statement that join data with those additonal tables. Try creating your own caches. \n",
    "\n",
    "You may have also noticed the Spark SQL notebook in the AIRLINE Ontime project. Try out this notebook if you want to compare Data Virtualization and Db2 Warehouse performance with Spark SQL running in Waston Studio on Cloud Pak for Data.  "
   ]
  },
  {
   "cell_type": "markdown",
   "metadata": {
    "id": "99296ed739ac438e8be4f858fb982795"
   },
   "source": [
    "**Credits: IBM 2021, Peter Kohlmann [kohlmann@ca.ibm.com]**"
   ]
  }
 ],
 "metadata": {
  "kernelspec": {
   "display_name": "Python 3.8",
   "language": "python",
   "name": "python3"
  },
  "language_info": {
   "codemirror_mode": {
    "name": "ipython",
    "version": 3
   },
   "file_extension": ".py",
   "mimetype": "text/x-python",
   "name": "python",
   "nbconvert_exporter": "python",
   "pygments_lexer": "ipython3",
   "version": "3.8.11"
  }
 },
 "nbformat": 4,
 "nbformat_minor": 1
}
