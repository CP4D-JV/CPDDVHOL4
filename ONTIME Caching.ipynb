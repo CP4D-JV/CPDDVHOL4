{
 "cells": [
  {
   "cell_type": "markdown",
   "metadata": {
    "id": "155ee66dbdc44eacaa09a927d1e9ef23"
   },
   "source": [
    "<img align=\"left\" src=\"https://github.com/Db2-DTE-POC/CPDDVHOL4/blob/main/media/Assets&ArchHeader.jpeg?raw=true\">"
   ]
  },
  {
   "cell_type": "markdown",
   "metadata": {
    "id": "015fe516500643bd954b0e245b6c69d6"
   },
   "source": [
    "# Introduction\n",
    "Welcome to the IBM Cloud Pak for Data Multi-Cloud Virtualization Caching Hands-on Lab. \n",
    "\n",
    "In this lab you analyze the performance of Data Virtualization using a variety of caching techniques.\n",
    "\n",
    "This hands-on lab uses live databases, were data is “virtually” available through the IBM Cloud Pak for Data Virtualization Service. It is an advanced Data Virtualization topic and uses the administrator userid, which is required to manage cached data. "
   ]
  },
  {
   "cell_type": "markdown",
   "metadata": {
    "id": "49de84e77fde4c00adcccabb73a6a89c"
   },
   "source": [
    "### Where to find this sample online\n",
    "You can find a copy of this notebook on GITHUB at https://github.com/Db2-DTE-POC/CPDDVHOL4."
   ]
  },
  {
   "cell_type": "markdown",
   "metadata": {
    "id": "861d48ef5942432884daabf25dc6c09c"
   },
   "source": [
    "## The Data and the Business Problem\n",
    "This hands-on lab analyzes details records of detailed flight time data for all the domestic flights in the United States from 2009 to 2015. The total number of flight time data is almost 43 millions rows of data. There are additional dimension tables to support this large fact table. The table used to supplement the ONTIME fact table is the AIRCRAFT dimension table that includes details on each aircraft with entries in the ONTIME table. \n",
    "\n",
    "From the almost 43 million flights, the lab analyzes flights between New Jersy and California for the Boeing 737. "
   ]
  },
  {
   "cell_type": "markdown",
   "metadata": {
    "id": "76a740a270eb4e88a42f14556abef7db"
   },
   "source": [
    "## In this lab you learn how to:\n",
    "\n",
    "* Navigate to the Cloud Pak for Data Data Virtualization Cache Management user interface\n",
    "* Use the Cloud Pak for Data RESTful API to control the existing ONTIME database caches\n",
    "* Explore Views created to capture and \"reduce\" the working dataset of ONTIME fligth records\n",
    "* Understand how caches were created based on those views\n",
    "* Compare performance between with and without caches\n",
    "* Compare performance using complete and targetted caches\n",
    "* Use the RESTful API to expore and refresh caches"
   ]
  },
  {
   "cell_type": "markdown",
   "metadata": {
    "id": "f1962e50c4114be1bd80e4f2cab42f31"
   },
   "source": [
    "## Getting Started"
   ]
  },
  {
   "cell_type": "markdown",
   "metadata": {
    "id": "0b5e82bf6bc9464794afe755525d0d9f"
   },
   "source": [
    "## Using Jupyter notebooks\n",
    "You are now officially using a Jupyter notebook! If this is your first time using a Jupyter notebook you might want to go through the Db2 Data Management Console Hands on Lab at www.ibm.biz/DMCDemosPOT. It includes an introduction to using Jupyter notebooks with the Db2 family. The introduction shows you some of the basics of using a notebook, including how to create the cells, run code, and save files for future use. \n",
    "\n",
    "Jupyter notebooks are based on IPython which started in development in the 2006/7 timeframe. The existing Python interpreter was limited in functionality and work was started to create a richer development environment. By 2011 the development efforts resulted in IPython being released (http://blog.fperez.org/2012/01/ipython-notebook-historical.html).\n",
    "\n",
    "Jupyter notebooks were a spinoff (2014) from the original IPython project. IPython continues to be the kernel that Jupyter runs on, but the notebooks are now a project on their own.\n",
    "\n",
    "Jupyter notebooks run in a browser and communicate to the backend IPython server which renders this content. These notebooks are used extensively by data scientists and anyone wanting to document, plot, and execute their code in an interactive environment. The beauty of Jupyter notebooks is that you document what you do as you go along."
   ]
  },
  {
   "cell_type": "markdown",
   "metadata": {
    "id": "53b61a6072d74c42a10b3d3adedec900"
   },
   "source": [
    "## Connecting to IBM Cloud Pak for Data\n",
    "For this lab you use the admin userid.\n",
    "* **Engineer:**\n",
    "    * ID: admin\n",
    "    * PASSWORD: CP4DDataFabric\n",
    "\n",
    "If you have this notebook open, you should have already signed in using the admin userid. \n",
    "1. To check your userid, click the icon at the very top right of the webpage. It will look something like this:\n",
    "\n",
    "    <img src=\"https://github.com/Db2-DTE-POC/CPDDVHOL4/blob/main/media/11.06.10 EngineerUserIcon.png?raw=true\">\n",
    "\n",
    "2. Click **Profile and settings**\n",
    "3. Click **Permissions** and review the user permissions for this user\n"
   ]
  },
  {
   "cell_type": "markdown",
   "metadata": {
    "id": "91b1afe1e5254b4f8128d31b2ba2570a"
   },
   "source": [
    "### Exploring the ONTIME dataset\n",
    "Let's start by looking at the the ONTIME dataset that has already been virtualized. \n",
    "\n",
    "You should now have this Hands-on Lab notebook on the left side of your screen and the Cloud Pak for Data Console on the right side of your screen. In the Cloud Pak for Data Console:\n",
    "\n",
    "1. Click the three bar (hamburger) menu at the top left of the console\n",
    "2. Click on the Data menu item if is not already expanded\n",
    "3. Right click **Data Virtualization** and select **Open in New Window**\n",
    "4. Arrange your windows so that notebook is on one side of your screen and the Cloud Pak Data Virtualization Console is on the other side. This makes it easier to follow the instructions without having to jump back and forth between the notebook and the console.\n",
    "    <img src=\"https://github.com/Db2-DTE-POC/CPDDVHOL4/blob/main/media/Caching%20HOL/SidebySide.png?raw=true\">\n",
    "5. If you don't see the page above, click the **Data Virtualization** menu in the Cloud Pak for Data Console and select **Data Sources**.\n",
    "4. Click **Constellation View**. A spider diagram of the connected data sources opens. \n",
    "    <img src=\"https://github.com/Db2-DTE-POC/CPDDVHOL4/blob/main/media/ConstellationView.png?raw=true\">\n",
    "\n",
    "    This displays the Data Source Graph with numerous active data sources. The ONTIME dataset is sourced from:\n",
    "    * 5 Db2 Databases hosted on premises and accessed throught a remote connector. Each database contains one year of ONTIME flight data. \n",
    "    * Db2 Warehouse Database on Cloud Pak for Data\n",
    "    * Netezza Performance Server on the Public Cloud\n",
    "    * EDB Postgres Database on Premises\n",
    "    * Virtualized CSV files on Premises\n",
    "\n",
    "There five ONTIME Db2 Databases have been combined (\"folded\") into a single virtual table called ONTIME.ONTIME1115. It includes flight records for the years 2011 to 2015. One year from each database. The Db2 Warehouse on Cloud Pak for Data includes all the years of flight records from 2009 to 2015. However the view ONTIME.ONTIME0910 retrieve only the years 2009 and 2010 from the single warehouse database. The ONTIME.ONTIME view combined the data from the ONTIME.ONTIME1115 and the ONTIME.ONTIME0910 views. "
   ]
  },
  {
   "cell_type": "markdown",
   "metadata": {
    "id": "a232c46edb7b41cf82544ddfbcd36671"
   },
   "source": [
    "# Exploring the Data Virtualization User Interface"
   ]
  },
  {
   "cell_type": "markdown",
   "metadata": {
    "id": "665cec377674450b8b81e3d261336aba"
   },
   "source": [
    "<img src=\"https://github.com/Db2-DTE-POC/CPDDVHOL4/blob/main/media/Caching%20HOL/CacheManagement.png?raw=true\">\n",
    "<img src=\"https://github.com/Db2-DTE-POC/CPDDVHOL4/blob/main/media/Caching%20HOL/CacheMenu.png?raw=true\">\n",
    "<img src=\"https://github.com/Db2-DTE-POC/CPDDVHOL4/blob/main/media/Caching%20HOL/CacheDetail.png?raw=true\">\n",
    "<img src=\"https://github.com/Db2-DTE-POC/CPDDVHOL4/blob/main/media/Caching%20HOL/Queries.png?raw=true\">\n",
    "<img src=\"https://github.com/Db2-DTE-POC/CPDDVHOL4/blob/main/media/Caching%20HOL/FullQuery.png?raw=true\">\n",
    "<img src=\"https://github.com/Db2-DTE-POC/CPDDVHOL4/blob/main/media/Caching%20HOL/QueryDetail.png?raw=true\">\n"
   ]
  },
  {
   "cell_type": "markdown",
   "metadata": {
    "id": "92b90b40996d47cd83f61fc265d4e248"
   },
   "source": [
    "# Running Scripted Performance Benchmarks with and Without Caching"
   ]
  },
  {
   "cell_type": "markdown",
   "metadata": {
    "id": "90c48f541c62402288703e50e9a2e917"
   },
   "source": [
    "The IBM Cloud Pak for Data Console is only one way you can interact with the Virtualization service. IBM Cloud Pak for Data is built on a set of microservices that communicate with each other and the Console user interface using RESTful APIs. You can use these services to automate anything you can do throught the user interface.\n",
    "\n",
    "This Jupyter Notebook contains examples of how to use the Open APIs to retrieve information from the virtualization service, how to run SQL statements directly against the service through REST and how to provide authoritization to objects. This provides a way write your own script to automate the setup and configuration of the virtualization service. "
   ]
  },
  {
   "cell_type": "markdown",
   "metadata": {
    "id": "d7a9af66de23434ca3c0a61c26b63002"
   },
   "source": [
    "### Load the REST API Class\n",
    "The next part of the lab relies on a set of base classes to help you interact with the RESTful Services API for IBM Cloud Pak for Data Virtualization. You can access this library on GITHUB. The commands below download the library and run them as part of this notebook.\n",
    "<pre>\n",
    "&#37;run CPDDVRestClassV402.ipynb\n",
    "</pre>\n",
    "The cell below loads the RESTful Service Classes and methods directly from GITHUB. Note that it will take a few seconds for the extension to load, so you should generally wait until the \"Db2 Extensions Loaded\" message is displayed in your notebook. You can click on the following like to browse the RESTful Services class file: https://github.com/Db2-DTE-POC/CPDDVHOL4/blob/main/RESTfulEndpointServiceClass402.ipynb. You are free to download and reuse this sample for your own applications.\n",
    "\n",
    "1. Click the cell below\n",
    "2. Click **Run**"
   ]
  },
  {
   "cell_type": "code",
   "execution_count": 11,
   "metadata": {
    "id": "d370df8bafc74e1591f427f32fcf1944"
   },
   "outputs": [
    {
     "name": "stdout",
     "output_type": "stream",
     "text": [
      "--2021-12-06 22:00:56--  https://raw.githubusercontent.com/Db2-DTE-POC/CPDDVHOL4/main/CPDDVRestAPIClass402.ipynb\n",
      "Resolving raw.githubusercontent.com (raw.githubusercontent.com)... 185.199.110.133, 185.199.111.133, 185.199.109.133, ...\n",
      "Connecting to raw.githubusercontent.com (raw.githubusercontent.com)|185.199.110.133|:443... connected.\n",
      "HTTP request sent, awaiting response... 200 OK\n",
      "Length: 15024 (15K) [text/plain]\n",
      "Saving to: ‘CPDDVRestClassV402.ipynb’\n",
      "\n",
      "CPDDVRestClassV402. 100%[===================>]  14.67K  --.-KB/s    in 0s      \n",
      "\n",
      "2021-12-06 22:00:57 (56.2 MB/s) - ‘CPDDVRestClassV402.ipynb’ saved [15024/15024]\n",
      "\n"
     ]
    }
   ],
   "source": [
    "!wget -O CPDDVRestClassV402.ipynb https://raw.githubusercontent.com/Db2-DTE-POC/CPDDVHOL4/main/CPDDVRestAPIClass402.ipynb\n",
    "%run CPDDVRestClassV402.ipynb"
   ]
  },
  {
   "cell_type": "markdown",
   "metadata": {
    "id": "9f20eb9daabf4912a9441eb5cac9a770"
   },
   "source": [
    "### Connect to the DV RESTful Service\n",
    "To connect to the Data Virtualization service you need to provide the URL, the service name (v1) and profile the console user name and password."
   ]
  },
  {
   "cell_type": "code",
   "execution_count": 16,
   "metadata": {
    "id": "88eaa71d1cf848af89758daa0cfb5ab8"
   },
   "outputs": [
    {
     "name": "stdout",
     "output_type": "stream",
     "text": [
      "Token Retrieved\n"
     ]
    }
   ],
   "source": [
    "# Set the service URL to connect from inside the ICPD Cluster\n",
    "Console  = 'https://cpd-cpd-instance.apps.demo.ibmdte.net:31192'\n",
    "\n",
    "# Connect to the Db2 Data Management Console service\n",
    "user     = 'admin'\n",
    "password = 'CP4DDataFabric'\n",
    "\n",
    "# Set up the required connection\n",
    "databaseAPI = DVRESTAPI(Console)\n",
    "api = '/v1'\n",
    "databaseAPI.authenticate(api, user, password)\n",
    "database = Console"
   ]
  },
  {
   "cell_type": "markdown",
   "metadata": {
    "id": "1f78e351cd124e948746d0eb87bedc06"
   },
   "source": [
    "### Virtualized Tables and Views\n",
    "This next call retrieves all the virtualized tables and views available to the userid that you use to connect to the service. In this example the whole call is included in the DVRESTAPI class library and returned as a complete Dataframe ready for display or to be used for analysis or administration."
   ]
  },
  {
   "cell_type": "code",
   "execution_count": 17,
   "metadata": {
    "id": "0333fcc9f277451b8847c735bbc4a90a"
   },
   "outputs": [
    {
     "data": {
      "text/html": [
       "<div>\n",
       "<style scoped>\n",
       "    .dataframe tbody tr th:only-of-type {\n",
       "        vertical-align: middle;\n",
       "    }\n",
       "\n",
       "    .dataframe tbody tr th {\n",
       "        vertical-align: top;\n",
       "    }\n",
       "\n",
       "    .dataframe thead th {\n",
       "        text-align: right;\n",
       "    }\n",
       "</style>\n",
       "<table border=\"1\" class=\"dataframe\">\n",
       "  <thead>\n",
       "    <tr style=\"text-align: right;\">\n",
       "      <th></th>\n",
       "      <th>create_time</th>\n",
       "      <th>data_source_table_name</th>\n",
       "      <th>grantable</th>\n",
       "      <th>owner</th>\n",
       "      <th>stats_time</th>\n",
       "      <th>table_name</th>\n",
       "      <th>table_schema</th>\n",
       "    </tr>\n",
       "  </thead>\n",
       "  <tbody>\n",
       "    <tr>\n",
       "      <th>0</th>\n",
       "      <td>1635947542985</td>\n",
       "      <td>CUSTOMER</td>\n",
       "      <td>Y</td>\n",
       "      <td>ADMIN</td>\n",
       "      <td>None</td>\n",
       "      <td>CUSTOMER</td>\n",
       "      <td>DB2ONPREMISES</td>\n",
       "    </tr>\n",
       "    <tr>\n",
       "      <th>1</th>\n",
       "      <td>1635961450415</td>\n",
       "      <td>ACCOUNTS</td>\n",
       "      <td>Y</td>\n",
       "      <td>ADMIN</td>\n",
       "      <td>None</td>\n",
       "      <td>ACCOUNTS</td>\n",
       "      <td>DB2OLTPONCPD</td>\n",
       "    </tr>\n",
       "    <tr>\n",
       "      <th>2</th>\n",
       "      <td>1635948060514</td>\n",
       "      <td>stock_symbols</td>\n",
       "      <td>Y</td>\n",
       "      <td>ADMIN</td>\n",
       "      <td>None</td>\n",
       "      <td>STOCK_SYMBOLS</td>\n",
       "      <td>MYSQL</td>\n",
       "    </tr>\n",
       "    <tr>\n",
       "      <th>3</th>\n",
       "      <td>1635947935938</td>\n",
       "      <td>customer</td>\n",
       "      <td>Y</td>\n",
       "      <td>ADMIN</td>\n",
       "      <td>None</td>\n",
       "      <td>CUSTOMER</td>\n",
       "      <td>MYSQL</td>\n",
       "    </tr>\n",
       "    <tr>\n",
       "      <th>4</th>\n",
       "      <td>1635947665180</td>\n",
       "      <td>STOCK_TRANSACTIONS</td>\n",
       "      <td>Y</td>\n",
       "      <td>ADMIN</td>\n",
       "      <td>None</td>\n",
       "      <td>STOCK_TRANSACTIONS</td>\n",
       "      <td>DB2ONPREMISES</td>\n",
       "    </tr>\n",
       "    <tr>\n",
       "      <th>...</th>\n",
       "      <td>...</td>\n",
       "      <td>...</td>\n",
       "      <td>...</td>\n",
       "      <td>...</td>\n",
       "      <td>...</td>\n",
       "      <td>...</td>\n",
       "      <td>...</td>\n",
       "    </tr>\n",
       "    <tr>\n",
       "      <th>80</th>\n",
       "      <td>1636385134011</td>\n",
       "      <td>DEMOGRAPHICS</td>\n",
       "      <td>Y</td>\n",
       "      <td>ADMIN</td>\n",
       "      <td>None</td>\n",
       "      <td>Demographics</td>\n",
       "      <td>DB2CHURN</td>\n",
       "    </tr>\n",
       "    <tr>\n",
       "      <th>81</th>\n",
       "      <td>1636496026378</td>\n",
       "      <td>ONTIME</td>\n",
       "      <td>Y</td>\n",
       "      <td>ADMIN</td>\n",
       "      <td>None</td>\n",
       "      <td>ONTIME</td>\n",
       "      <td>DB2WONCPD</td>\n",
       "    </tr>\n",
       "    <tr>\n",
       "      <th>82</th>\n",
       "      <td>1636496026471</td>\n",
       "      <td>AIRLINE_ID</td>\n",
       "      <td>Y</td>\n",
       "      <td>ADMIN</td>\n",
       "      <td>None</td>\n",
       "      <td>AIRLINE_ID</td>\n",
       "      <td>DB2WONCPD</td>\n",
       "    </tr>\n",
       "    <tr>\n",
       "      <th>83</th>\n",
       "      <td>1636496027236</td>\n",
       "      <td>CANCELLATION</td>\n",
       "      <td>Y</td>\n",
       "      <td>ADMIN</td>\n",
       "      <td>None</td>\n",
       "      <td>CANCELLATION</td>\n",
       "      <td>DB2WONCPD</td>\n",
       "    </tr>\n",
       "    <tr>\n",
       "      <th>84</th>\n",
       "      <td>1636496652650</td>\n",
       "      <td>ONTIME</td>\n",
       "      <td>Y</td>\n",
       "      <td>ADMIN</td>\n",
       "      <td>None</td>\n",
       "      <td>ONTIME1115</td>\n",
       "      <td>ONTIME</td>\n",
       "    </tr>\n",
       "  </tbody>\n",
       "</table>\n",
       "<p>85 rows × 7 columns</p>\n",
       "</div>"
      ],
      "text/plain": [
       "      create_time data_source_table_name grantable  owner stats_time  \\\n",
       "0   1635947542985               CUSTOMER         Y  ADMIN       None   \n",
       "1   1635961450415               ACCOUNTS         Y  ADMIN       None   \n",
       "2   1635948060514          stock_symbols         Y  ADMIN       None   \n",
       "3   1635947935938               customer         Y  ADMIN       None   \n",
       "4   1635947665180     STOCK_TRANSACTIONS         Y  ADMIN       None   \n",
       "..            ...                    ...       ...    ...        ...   \n",
       "80  1636385134011           DEMOGRAPHICS         Y  ADMIN       None   \n",
       "81  1636496026378                 ONTIME         Y  ADMIN       None   \n",
       "82  1636496026471             AIRLINE_ID         Y  ADMIN       None   \n",
       "83  1636496027236           CANCELLATION         Y  ADMIN       None   \n",
       "84  1636496652650                 ONTIME         Y  ADMIN       None   \n",
       "\n",
       "            table_name   table_schema  \n",
       "0             CUSTOMER  DB2ONPREMISES  \n",
       "1             ACCOUNTS   DB2OLTPONCPD  \n",
       "2        STOCK_SYMBOLS          MYSQL  \n",
       "3             CUSTOMER          MYSQL  \n",
       "4   STOCK_TRANSACTIONS  DB2ONPREMISES  \n",
       "..                 ...            ...  \n",
       "80        Demographics       DB2CHURN  \n",
       "81              ONTIME      DB2WONCPD  \n",
       "82          AIRLINE_ID      DB2WONCPD  \n",
       "83        CANCELLATION      DB2WONCPD  \n",
       "84          ONTIME1115         ONTIME  \n",
       "\n",
       "[85 rows x 7 columns]"
      ]
     },
     "metadata": {},
     "output_type": "display_data"
    },
    {
     "data": {
      "text/html": [
       "<div>\n",
       "<style scoped>\n",
       "    .dataframe tbody tr th:only-of-type {\n",
       "        vertical-align: middle;\n",
       "    }\n",
       "\n",
       "    .dataframe tbody tr th {\n",
       "        vertical-align: top;\n",
       "    }\n",
       "\n",
       "    .dataframe thead th {\n",
       "        text-align: right;\n",
       "    }\n",
       "</style>\n",
       "<table border=\"1\" class=\"dataframe\">\n",
       "  <thead>\n",
       "    <tr style=\"text-align: right;\">\n",
       "      <th></th>\n",
       "      <th>create_time</th>\n",
       "      <th>grantable</th>\n",
       "      <th>owner</th>\n",
       "      <th>viewname</th>\n",
       "      <th>viewschema</th>\n",
       "    </tr>\n",
       "  </thead>\n",
       "  <tbody>\n",
       "    <tr>\n",
       "      <th>0</th>\n",
       "      <td>1637594958041</td>\n",
       "      <td>Y</td>\n",
       "      <td>ADMIN</td>\n",
       "      <td>CUSTOMER</td>\n",
       "      <td>MONGO</td>\n",
       "    </tr>\n",
       "    <tr>\n",
       "      <th>1</th>\n",
       "      <td>1636562977952</td>\n",
       "      <td>Y</td>\n",
       "      <td>ADMIN</td>\n",
       "      <td>AIRCRAFT</td>\n",
       "      <td>ONTIME</td>\n",
       "    </tr>\n",
       "    <tr>\n",
       "      <th>2</th>\n",
       "      <td>1636563269752</td>\n",
       "      <td>Y</td>\n",
       "      <td>ADMIN</td>\n",
       "      <td>BOEING737</td>\n",
       "      <td>ONTIME</td>\n",
       "    </tr>\n",
       "    <tr>\n",
       "      <th>3</th>\n",
       "      <td>1636497353224</td>\n",
       "      <td>Y</td>\n",
       "      <td>ADMIN</td>\n",
       "      <td>ONTIME</td>\n",
       "      <td>ONTIME</td>\n",
       "    </tr>\n",
       "    <tr>\n",
       "      <th>4</th>\n",
       "      <td>1636497308454</td>\n",
       "      <td>Y</td>\n",
       "      <td>ADMIN</td>\n",
       "      <td>ONTIME0910</td>\n",
       "      <td>ONTIME</td>\n",
       "    </tr>\n",
       "    <tr>\n",
       "      <th>5</th>\n",
       "      <td>1636989196845</td>\n",
       "      <td>Y</td>\n",
       "      <td>ADMIN</td>\n",
       "      <td>ONTIME737NJCA</td>\n",
       "      <td>ONTIME</td>\n",
       "    </tr>\n",
       "    <tr>\n",
       "      <th>6</th>\n",
       "      <td>1636379241450</td>\n",
       "      <td>Y</td>\n",
       "      <td>ADMIN</td>\n",
       "      <td>DB2LOOK_INFO_V</td>\n",
       "      <td>SYSTOOLS</td>\n",
       "    </tr>\n",
       "    <tr>\n",
       "      <th>7</th>\n",
       "      <td>1637961605059</td>\n",
       "      <td>Y</td>\n",
       "      <td>ADMIN</td>\n",
       "      <td>ACCOUNTS</td>\n",
       "      <td>TRADING</td>\n",
       "    </tr>\n",
       "    <tr>\n",
       "      <th>8</th>\n",
       "      <td>1637961604312</td>\n",
       "      <td>Y</td>\n",
       "      <td>ADMIN</td>\n",
       "      <td>CUSTOMER</td>\n",
       "      <td>TRADING</td>\n",
       "    </tr>\n",
       "    <tr>\n",
       "      <th>9</th>\n",
       "      <td>1637961604464</td>\n",
       "      <td>Y</td>\n",
       "      <td>ADMIN</td>\n",
       "      <td>PORTFOLIO</td>\n",
       "      <td>TRADING</td>\n",
       "    </tr>\n",
       "    <tr>\n",
       "      <th>10</th>\n",
       "      <td>1637961604772</td>\n",
       "      <td>Y</td>\n",
       "      <td>ADMIN</td>\n",
       "      <td>STOCK_HISTORY</td>\n",
       "      <td>TRADING</td>\n",
       "    </tr>\n",
       "    <tr>\n",
       "      <th>11</th>\n",
       "      <td>1637961604616</td>\n",
       "      <td>Y</td>\n",
       "      <td>ADMIN</td>\n",
       "      <td>STOCK_SYMBOLS</td>\n",
       "      <td>TRADING</td>\n",
       "    </tr>\n",
       "    <tr>\n",
       "      <th>12</th>\n",
       "      <td>1637961604913</td>\n",
       "      <td>Y</td>\n",
       "      <td>ADMIN</td>\n",
       "      <td>STOCK_TRANSACTIONS</td>\n",
       "      <td>TRADING</td>\n",
       "    </tr>\n",
       "  </tbody>\n",
       "</table>\n",
       "</div>"
      ],
      "text/plain": [
       "      create_time grantable  owner            viewname viewschema\n",
       "0   1637594958041         Y  ADMIN            CUSTOMER      MONGO\n",
       "1   1636562977952         Y  ADMIN            AIRCRAFT     ONTIME\n",
       "2   1636563269752         Y  ADMIN           BOEING737     ONTIME\n",
       "3   1636497353224         Y  ADMIN              ONTIME     ONTIME\n",
       "4   1636497308454         Y  ADMIN          ONTIME0910     ONTIME\n",
       "5   1636989196845         Y  ADMIN       ONTIME737NJCA     ONTIME\n",
       "6   1636379241450         Y  ADMIN      DB2LOOK_INFO_V   SYSTOOLS\n",
       "7   1637961605059         Y  ADMIN            ACCOUNTS    TRADING\n",
       "8   1637961604312         Y  ADMIN            CUSTOMER    TRADING\n",
       "9   1637961604464         Y  ADMIN           PORTFOLIO    TRADING\n",
       "10  1637961604772         Y  ADMIN       STOCK_HISTORY    TRADING\n",
       "11  1637961604616         Y  ADMIN       STOCK_SYMBOLS    TRADING\n",
       "12  1637961604913         Y  ADMIN  STOCK_TRANSACTIONS    TRADING"
      ]
     },
     "metadata": {},
     "output_type": "display_data"
    }
   ],
   "source": [
    "### Display Virtualized Tables and Views \n",
    "display(databaseAPI.getVirtualizedTablesDF())\n",
    "display(databaseAPI.getVirtualizedViewsDF())"
   ]
  },
  {
   "cell_type": "markdown",
   "metadata": {
    "id": "8f8fd4fcfdc2496d91850471e6d2dba5"
   },
   "source": [
    "### Get a list of the Data Virtualization Caches\n",
    "A single call to the DVRESTAPI class returns all the information available about all the caches. "
   ]
  },
  {
   "cell_type": "code",
   "execution_count": 18,
   "metadata": {
    "id": "3bb8887652124c0587ecd30456e460fa"
   },
   "outputs": [
    {
     "data": {
      "text/html": [
       "<div>\n",
       "<style scoped>\n",
       "    .dataframe tbody tr th:only-of-type {\n",
       "        vertical-align: middle;\n",
       "    }\n",
       "\n",
       "    .dataframe tbody tr th {\n",
       "        vertical-align: top;\n",
       "    }\n",
       "\n",
       "    .dataframe thead th {\n",
       "        text-align: right;\n",
       "    }\n",
       "</style>\n",
       "<table border=\"1\" class=\"dataframe\">\n",
       "  <thead>\n",
       "    <tr style=\"text-align: right;\">\n",
       "      <th></th>\n",
       "      <th>name</th>\n",
       "      <th>id</th>\n",
       "      <th>query</th>\n",
       "      <th>owner_id</th>\n",
       "      <th>type</th>\n",
       "      <th>created_timestamp</th>\n",
       "      <th>last_modified_timestamp</th>\n",
       "      <th>last_refresh_timestamp</th>\n",
       "      <th>last_used_timestamp</th>\n",
       "      <th>state</th>\n",
       "      <th>size</th>\n",
       "      <th>cardinality</th>\n",
       "      <th>time_taken_for_refresh</th>\n",
       "      <th>refresh_count</th>\n",
       "      <th>hit_count</th>\n",
       "      <th>refresh_schedule</th>\n",
       "      <th>refresh_schedule_desc</th>\n",
       "      <th>status_msg</th>\n",
       "    </tr>\n",
       "  </thead>\n",
       "  <tbody>\n",
       "    <tr>\n",
       "      <th>0</th>\n",
       "      <td>ONTIME0915</td>\n",
       "      <td>DV202111161222469697</td>\n",
       "      <td>SELECT * FROM ONTIME.ONTIME</td>\n",
       "      <td>ADMIN</td>\n",
       "      <td>U</td>\n",
       "      <td>2021-11-16 12:22:46.969151</td>\n",
       "      <td>2021-11-16 15:54:05.80047</td>\n",
       "      <td>2021-11-16 12:59:22.006647</td>\n",
       "      <td>2021-11-16 15:50:31.796</td>\n",
       "      <td>Disabled</td>\n",
       "      <td>1309298</td>\n",
       "      <td>30238851</td>\n",
       "      <td>0</td>\n",
       "      <td>0</td>\n",
       "      <td>3</td>\n",
       "      <td></td>\n",
       "      <td></td>\n",
       "      <td></td>\n",
       "    </tr>\n",
       "    <tr>\n",
       "      <th>1</th>\n",
       "      <td>BOEING737</td>\n",
       "      <td>DV20211110165634403313</td>\n",
       "      <td>SELECT * FROM ONTIME.BOEING737</td>\n",
       "      <td>ADMIN</td>\n",
       "      <td>U</td>\n",
       "      <td>2021-11-10 16:56:34.402815</td>\n",
       "      <td>2021-12-03 16:57:55.977122</td>\n",
       "      <td>2021-11-10 18:30:21.411623</td>\n",
       "      <td>2021-12-03 16:58:05.092</td>\n",
       "      <td>Enabled</td>\n",
       "      <td>56967</td>\n",
       "      <td>4172450</td>\n",
       "      <td>0</td>\n",
       "      <td>0</td>\n",
       "      <td>16</td>\n",
       "      <td></td>\n",
       "      <td></td>\n",
       "      <td>The current transaction has been rolled back b...</td>\n",
       "    </tr>\n",
       "    <tr>\n",
       "      <th>2</th>\n",
       "      <td>ONTIME737NJCA</td>\n",
       "      <td>DV20211115151427714635</td>\n",
       "      <td>SELECT * FROM ONTIME.ONTIME737NJCA</td>\n",
       "      <td>ADMIN</td>\n",
       "      <td>U</td>\n",
       "      <td>2021-11-15 15:14:27.714001</td>\n",
       "      <td>2021-12-03 16:57:55.969392</td>\n",
       "      <td>2021-11-15 15:33:30.254003</td>\n",
       "      <td>2021-12-03 16:58:10.365</td>\n",
       "      <td>Enabled</td>\n",
       "      <td>554</td>\n",
       "      <td>37621</td>\n",
       "      <td>0</td>\n",
       "      <td>0</td>\n",
       "      <td>24</td>\n",
       "      <td></td>\n",
       "      <td></td>\n",
       "      <td>The current transaction has been rolled back b...</td>\n",
       "    </tr>\n",
       "    <tr>\n",
       "      <th>6</th>\n",
       "      <td>ONTIME0910</td>\n",
       "      <td>DV20211110144113849337</td>\n",
       "      <td>SELECT * FROM ONTIME.ONTIME0910</td>\n",
       "      <td>ADMIN</td>\n",
       "      <td>U</td>\n",
       "      <td>2021-11-10 14:41:13.848923</td>\n",
       "      <td>2021-12-03 16:57:04.432383</td>\n",
       "      <td>2021-11-10 16:32:41.327378</td>\n",
       "      <td>2021-12-03 16:57:54.857</td>\n",
       "      <td>Enabled</td>\n",
       "      <td>591398</td>\n",
       "      <td>12752436</td>\n",
       "      <td>0</td>\n",
       "      <td>0</td>\n",
       "      <td>26</td>\n",
       "      <td></td>\n",
       "      <td></td>\n",
       "      <td>The current transaction has been rolled back b...</td>\n",
       "    </tr>\n",
       "    <tr>\n",
       "      <th>7</th>\n",
       "      <td>AIRCRAFT</td>\n",
       "      <td>DV20211115221309388288</td>\n",
       "      <td>SELECT * FROM ONTIME.AIRCRAFT</td>\n",
       "      <td>ADMIN</td>\n",
       "      <td>U</td>\n",
       "      <td>2021-11-15 22:13:09.387651</td>\n",
       "      <td>2021-12-03 16:57:04.426489</td>\n",
       "      <td>2021-12-03 16:36:36.670765</td>\n",
       "      <td>2021-12-03 16:58:05.092</td>\n",
       "      <td>Enabled</td>\n",
       "      <td>106</td>\n",
       "      <td>13101</td>\n",
       "      <td>17913</td>\n",
       "      <td>1</td>\n",
       "      <td>44</td>\n",
       "      <td></td>\n",
       "      <td></td>\n",
       "      <td></td>\n",
       "    </tr>\n",
       "    <tr>\n",
       "      <th>10</th>\n",
       "      <td>ONTIME1115</td>\n",
       "      <td>DV20211110144049703423</td>\n",
       "      <td>SELECT * FROM ONTIME.ONTIME1115</td>\n",
       "      <td>ADMIN</td>\n",
       "      <td>U</td>\n",
       "      <td>2021-11-10 14:40:49.702724</td>\n",
       "      <td>2021-12-03 16:57:04.807222</td>\n",
       "      <td>2021-11-10 15:01:13.967413</td>\n",
       "      <td>2021-12-03 16:57:54.857</td>\n",
       "      <td>Enabled</td>\n",
       "      <td>1399806</td>\n",
       "      <td>30190408</td>\n",
       "      <td>0</td>\n",
       "      <td>0</td>\n",
       "      <td>46</td>\n",
       "      <td></td>\n",
       "      <td></td>\n",
       "      <td>The current transaction has been rolled back b...</td>\n",
       "    </tr>\n",
       "  </tbody>\n",
       "</table>\n",
       "</div>"
      ],
      "text/plain": [
       "             name                      id                               query  \\\n",
       "0      ONTIME0915    DV202111161222469697         SELECT * FROM ONTIME.ONTIME   \n",
       "1       BOEING737  DV20211110165634403313      SELECT * FROM ONTIME.BOEING737   \n",
       "2   ONTIME737NJCA  DV20211115151427714635  SELECT * FROM ONTIME.ONTIME737NJCA   \n",
       "6      ONTIME0910  DV20211110144113849337     SELECT * FROM ONTIME.ONTIME0910   \n",
       "7        AIRCRAFT  DV20211115221309388288       SELECT * FROM ONTIME.AIRCRAFT   \n",
       "10     ONTIME1115  DV20211110144049703423     SELECT * FROM ONTIME.ONTIME1115   \n",
       "\n",
       "   owner_id type           created_timestamp     last_modified_timestamp  \\\n",
       "0     ADMIN    U  2021-11-16 12:22:46.969151   2021-11-16 15:54:05.80047   \n",
       "1     ADMIN    U  2021-11-10 16:56:34.402815  2021-12-03 16:57:55.977122   \n",
       "2     ADMIN    U  2021-11-15 15:14:27.714001  2021-12-03 16:57:55.969392   \n",
       "6     ADMIN    U  2021-11-10 14:41:13.848923  2021-12-03 16:57:04.432383   \n",
       "7     ADMIN    U  2021-11-15 22:13:09.387651  2021-12-03 16:57:04.426489   \n",
       "10    ADMIN    U  2021-11-10 14:40:49.702724  2021-12-03 16:57:04.807222   \n",
       "\n",
       "        last_refresh_timestamp      last_used_timestamp     state     size  \\\n",
       "0   2021-11-16 12:59:22.006647  2021-11-16 15:50:31.796  Disabled  1309298   \n",
       "1   2021-11-10 18:30:21.411623  2021-12-03 16:58:05.092   Enabled    56967   \n",
       "2   2021-11-15 15:33:30.254003  2021-12-03 16:58:10.365   Enabled      554   \n",
       "6   2021-11-10 16:32:41.327378  2021-12-03 16:57:54.857   Enabled   591398   \n",
       "7   2021-12-03 16:36:36.670765  2021-12-03 16:58:05.092   Enabled      106   \n",
       "10  2021-11-10 15:01:13.967413  2021-12-03 16:57:54.857   Enabled  1399806   \n",
       "\n",
       "    cardinality  time_taken_for_refresh  refresh_count  hit_count  \\\n",
       "0      30238851                       0              0          3   \n",
       "1       4172450                       0              0         16   \n",
       "2         37621                       0              0         24   \n",
       "6      12752436                       0              0         26   \n",
       "7         13101                   17913              1         44   \n",
       "10     30190408                       0              0         46   \n",
       "\n",
       "   refresh_schedule refresh_schedule_desc  \\\n",
       "0                                           \n",
       "1                                           \n",
       "2                                           \n",
       "6                                           \n",
       "7                                           \n",
       "10                                          \n",
       "\n",
       "                                           status_msg  \n",
       "0                                                      \n",
       "1   The current transaction has been rolled back b...  \n",
       "2   The current transaction has been rolled back b...  \n",
       "6   The current transaction has been rolled back b...  \n",
       "7                                                      \n",
       "10  The current transaction has been rolled back b...  "
      ]
     },
     "metadata": {},
     "output_type": "display_data"
    }
   ],
   "source": [
    "display(databaseAPI.getCaches())"
   ]
  },
  {
   "cell_type": "markdown",
   "metadata": {
    "id": "addf5832f919457d8faac0ccac7c00cc"
   },
   "source": [
    "The **getCaches** routine can show just the enabled or disabled caches using a single parameter. You can also easily choose just the columns you want to see by defining the columns using the dataframe returned by the call."
   ]
  },
  {
   "cell_type": "code",
   "execution_count": 19,
   "metadata": {
    "id": "22243e8126fa489c8d7578eef1597fcd"
   },
   "outputs": [
    {
     "data": {
      "text/html": [
       "<div>\n",
       "<style scoped>\n",
       "    .dataframe tbody tr th:only-of-type {\n",
       "        vertical-align: middle;\n",
       "    }\n",
       "\n",
       "    .dataframe tbody tr th {\n",
       "        vertical-align: top;\n",
       "    }\n",
       "\n",
       "    .dataframe thead th {\n",
       "        text-align: right;\n",
       "    }\n",
       "</style>\n",
       "<table border=\"1\" class=\"dataframe\">\n",
       "  <thead>\n",
       "    <tr style=\"text-align: right;\">\n",
       "      <th></th>\n",
       "      <th>id</th>\n",
       "      <th>name</th>\n",
       "      <th>state</th>\n",
       "      <th>size</th>\n",
       "      <th>cardinality</th>\n",
       "      <th>last_refresh_timestamp</th>\n",
       "    </tr>\n",
       "  </thead>\n",
       "  <tbody>\n",
       "    <tr>\n",
       "      <th>1</th>\n",
       "      <td>DV20211110165634403313</td>\n",
       "      <td>BOEING737</td>\n",
       "      <td>Enabled</td>\n",
       "      <td>56967</td>\n",
       "      <td>4172450</td>\n",
       "      <td>2021-11-10 18:30:21.411623</td>\n",
       "    </tr>\n",
       "    <tr>\n",
       "      <th>2</th>\n",
       "      <td>DV20211115151427714635</td>\n",
       "      <td>ONTIME737NJCA</td>\n",
       "      <td>Enabled</td>\n",
       "      <td>554</td>\n",
       "      <td>37621</td>\n",
       "      <td>2021-11-15 15:33:30.254003</td>\n",
       "    </tr>\n",
       "    <tr>\n",
       "      <th>6</th>\n",
       "      <td>DV20211110144113849337</td>\n",
       "      <td>ONTIME0910</td>\n",
       "      <td>Enabled</td>\n",
       "      <td>591398</td>\n",
       "      <td>12752436</td>\n",
       "      <td>2021-11-10 16:32:41.327378</td>\n",
       "    </tr>\n",
       "    <tr>\n",
       "      <th>7</th>\n",
       "      <td>DV20211115221309388288</td>\n",
       "      <td>AIRCRAFT</td>\n",
       "      <td>Enabled</td>\n",
       "      <td>106</td>\n",
       "      <td>13101</td>\n",
       "      <td>2021-12-03 16:36:36.670765</td>\n",
       "    </tr>\n",
       "    <tr>\n",
       "      <th>10</th>\n",
       "      <td>DV20211110144049703423</td>\n",
       "      <td>ONTIME1115</td>\n",
       "      <td>Enabled</td>\n",
       "      <td>1399806</td>\n",
       "      <td>30190408</td>\n",
       "      <td>2021-11-10 15:01:13.967413</td>\n",
       "    </tr>\n",
       "  </tbody>\n",
       "</table>\n",
       "</div>"
      ],
      "text/plain": [
       "                        id           name    state     size  cardinality  \\\n",
       "1   DV20211110165634403313      BOEING737  Enabled    56967      4172450   \n",
       "2   DV20211115151427714635  ONTIME737NJCA  Enabled      554        37621   \n",
       "6   DV20211110144113849337     ONTIME0910  Enabled   591398     12752436   \n",
       "7   DV20211115221309388288       AIRCRAFT  Enabled      106        13101   \n",
       "10  DV20211110144049703423     ONTIME1115  Enabled  1399806     30190408   \n",
       "\n",
       "        last_refresh_timestamp  \n",
       "1   2021-11-10 18:30:21.411623  \n",
       "2   2021-11-15 15:33:30.254003  \n",
       "6   2021-11-10 16:32:41.327378  \n",
       "7   2021-12-03 16:36:36.670765  \n",
       "10  2021-11-10 15:01:13.967413  "
      ]
     },
     "metadata": {},
     "output_type": "display_data"
    }
   ],
   "source": [
    "df = databaseAPI.getCaches('Enabled')\n",
    "display(df[['id', 'name','state','size', 'cardinality','last_refresh_timestamp']])"
   ]
  },
  {
   "cell_type": "code",
   "execution_count": 20,
   "metadata": {
    "id": "510289868c874039b211905de1af3f5f"
   },
   "outputs": [
    {
     "data": {
      "text/html": [
       "<div>\n",
       "<style scoped>\n",
       "    .dataframe tbody tr th:only-of-type {\n",
       "        vertical-align: middle;\n",
       "    }\n",
       "\n",
       "    .dataframe tbody tr th {\n",
       "        vertical-align: top;\n",
       "    }\n",
       "\n",
       "    .dataframe thead th {\n",
       "        text-align: right;\n",
       "    }\n",
       "</style>\n",
       "<table border=\"1\" class=\"dataframe\">\n",
       "  <thead>\n",
       "    <tr style=\"text-align: right;\">\n",
       "      <th></th>\n",
       "      <th>id</th>\n",
       "      <th>name</th>\n",
       "      <th>state</th>\n",
       "      <th>size</th>\n",
       "      <th>cardinality</th>\n",
       "      <th>last_refresh_timestamp</th>\n",
       "    </tr>\n",
       "  </thead>\n",
       "  <tbody>\n",
       "    <tr>\n",
       "      <th>0</th>\n",
       "      <td>DV202111161222469697</td>\n",
       "      <td>ONTIME0915</td>\n",
       "      <td>Disabled</td>\n",
       "      <td>1309298</td>\n",
       "      <td>30238851</td>\n",
       "      <td>2021-11-16 12:59:22.006647</td>\n",
       "    </tr>\n",
       "  </tbody>\n",
       "</table>\n",
       "</div>"
      ],
      "text/plain": [
       "                     id        name     state     size  cardinality  \\\n",
       "0  DV202111161222469697  ONTIME0915  Disabled  1309298     30238851   \n",
       "\n",
       "       last_refresh_timestamp  \n",
       "0  2021-11-16 12:59:22.006647  "
      ]
     },
     "metadata": {},
     "output_type": "display_data"
    }
   ],
   "source": [
    "df = databaseAPI.getCaches('Disabled')\n",
    "display(df[['id', 'name','state','size', 'cardinality','last_refresh_timestamp']])"
   ]
  },
  {
   "cell_type": "code",
   "execution_count": null,
   "metadata": {
    "id": "dfa24c442aee4c3a9fc738fb49143fa5"
   },
   "outputs": [],
   "source": [
    "# Enable ONTIME1115\n",
    "databaseAPI.enableCache('DV20211110144113849337')"
   ]
  },
  {
   "cell_type": "code",
   "execution_count": null,
   "metadata": {
    "id": "eae16e86ea114f358a0b3dabbde08681"
   },
   "outputs": [],
   "source": [
    "# Enable ONTIME0910\n",
    "databaseAPI.enableCache('DV20211110144049703423')"
   ]
  },
  {
   "cell_type": "code",
   "execution_count": null,
   "metadata": {
    "id": "f3ae06140cf348988bc95aea1105f025"
   },
   "outputs": [],
   "source": [
    "# Enable AIRCRAFT\n",
    "databaseAPI.enableCache('DV20211115221309388288')"
   ]
  },
  {
   "cell_type": "code",
   "execution_count": null,
   "metadata": {
    "id": "6d92cfeb98d943de8eeaf39bd93fff9e"
   },
   "outputs": [],
   "source": [
    "# Enable BOEING737\n",
    "databaseAPI.enableCache('DV20211110165634403313')"
   ]
  },
  {
   "cell_type": "code",
   "execution_count": null,
   "metadata": {
    "id": "409839952b594b23996947fc36397fec"
   },
   "outputs": [],
   "source": [
    "# Enable ONTIME737NJCA\n",
    "databaseAPI.enableCache('DV20211115151427714635')"
   ]
  },
  {
   "cell_type": "code",
   "execution_count": null,
   "metadata": {
    "id": "a8727491a745408e8d2377f04d8ed2f9"
   },
   "outputs": [],
   "source": [
    "!wget -O db2.ipynb https://raw.githubusercontent.com/Db2-DTE-POC/Db2-Openshift-11.5.4/master/db2.ipynb\n",
    "%run db2.ipynb\n",
    "print('db2.ipynb loaded')"
   ]
  },
  {
   "cell_type": "code",
   "execution_count": null,
   "metadata": {
    "id": "fe5be419170b4d6c8b295f5ca2e05800"
   },
   "outputs": [],
   "source": [
    "# Connect to the Data Virtualization Database\n",
    "database = 'bigsql'\n",
    "user = 'admin'\n",
    "password = 'CP4DDataFabric'\n",
    "host = 'cpd-cpd-instance.apps.demo.ibmdte.net'\n",
    "port = '31193'\n",
    "\n",
    "%sql CONNECT TO {database} USER {user} USING {password} HOST {host} PORT {port}"
   ]
  },
  {
   "cell_type": "code",
   "execution_count": null,
   "metadata": {
    "id": "78418d87b59349e9895aa9a1c3d1c667"
   },
   "outputs": [],
   "source": [
    "ontime0910count = %sql SELECT COUNT(*) FROM ONTIME.ONTIME0910;"
   ]
  },
  {
   "cell_type": "code",
   "execution_count": null,
   "metadata": {
    "id": "ec93bd513a27437d8413893ebdf3ebfd"
   },
   "outputs": [],
   "source": [
    "ontime1115count = %sql SELECT COUNT(*) FROM ONTIME.ONTIME1115;"
   ]
  },
  {
   "cell_type": "code",
   "execution_count": null,
   "metadata": {
    "id": "d62251bf365d4523a44b79f37a7c7d90"
   },
   "outputs": [],
   "source": [
    "ontime737count = %sql SELECT COUNT(*) FROM ONTIME.BOEING737;"
   ]
  },
  {
   "cell_type": "code",
   "execution_count": null,
   "metadata": {
    "id": "dda7f3844afe4fd2b1a4326ee8975b8b"
   },
   "outputs": [],
   "source": [
    "ontimenjca737count = %sql SELECT COUNT(*) FROM ONTIME.ONTIME737NJCA;"
   ]
  },
  {
   "cell_type": "code",
   "execution_count": null,
   "metadata": {
    "id": "d3862e7a158f4af788e16aed98e9bf3c"
   },
   "outputs": [],
   "source": [
    "aircraftcount = %sql SELECT COUNT(*) FROM ONTIME.AIRCRAFT;"
   ]
  },
  {
   "cell_type": "code",
   "execution_count": null,
   "metadata": {
    "id": "23268a156ac041d7924cf392ebd69b52"
   },
   "outputs": [],
   "source": [
    "ontime0910 = ontime0910count['1'][0]\n",
    "ontime1115 = ontime1115count['1'][0]\n",
    "ontimefull = ontime0910 + ontime1115\n",
    "ontime737 = ontime737count['1'][0]\n",
    "ontimenjca737 = ontimenjca737count['1'][0]\n",
    "aircraft = aircraftcount['1'][0]"
   ]
  },
  {
   "cell_type": "code",
   "execution_count": null,
   "metadata": {
    "id": "e7b0a70d8fb74afb916bb67c75d09cb2"
   },
   "outputs": [],
   "source": [
    "print('Aircraft:' + str(aircraft))\n",
    "print('Number of Domestic Flights in the US')\n",
    "print('Years 2009 to 2010: ' + str(ontime0910))\n",
    "print('Years 2011 to 2015: ' + str(ontime1115))\n",
    "print('Years 2009 to 2015: ' + str(ontimefull))\n",
    "print('Only 737 from 2009 to 2015: ' + str(ontime737))\n",
    "print('Only 737 from NJ to CA: ' + str(ontimenjca737))"
   ]
  },
  {
   "cell_type": "code",
   "execution_count": null,
   "metadata": {
    "id": "c2301d9b85d64cdb8ebe753c0d7a53cf"
   },
   "outputs": [],
   "source": [
    "# Disable ONTIME0910\n",
    "databaseAPI.disableCache('DV20211110144113849337')"
   ]
  },
  {
   "cell_type": "code",
   "execution_count": null,
   "metadata": {
    "id": "f7e3fd6bea87405489fee6d854e2c1aa"
   },
   "outputs": [],
   "source": [
    "# Disable ONTIME1115\n",
    "databaseAPI.disableCache('DV20211110144049703423')"
   ]
  },
  {
   "cell_type": "code",
   "execution_count": null,
   "metadata": {
    "id": "f367e6e9b2e546089ad4138dd0a3416a"
   },
   "outputs": [],
   "source": [
    "# Disable BOEING737\n",
    "databaseAPI.disableCache('DV20211110165634403313')"
   ]
  },
  {
   "cell_type": "code",
   "execution_count": null,
   "metadata": {
    "id": "c5e1efc7c6c9484388deb0d9c81c95d8"
   },
   "outputs": [],
   "source": [
    "# Disable ONTIME737NJCA\n",
    "databaseAPI.disableCache('DV20211115151427714635')"
   ]
  },
  {
   "cell_type": "code",
   "execution_count": null,
   "metadata": {
    "id": "a13ac26bdf394c468fef3c70d07734c0"
   },
   "outputs": [],
   "source": [
    "# Disable AIRCRAFT\n",
    "databaseAPI.disableCache('DV20211115221309388288')"
   ]
  },
  {
   "cell_type": "code",
   "execution_count": null,
   "metadata": {
    "id": "c769f9eaf894442e8e38ebb741f5cbc9"
   },
   "outputs": [],
   "source": [
    "df = databaseAPI.getCaches('Enabled')\n",
    "display(df[['id', 'name','state','size', 'cardinality','last_refresh_timestamp']])"
   ]
  },
  {
   "cell_type": "code",
   "execution_count": null,
   "metadata": {
    "id": "a5393cf625614d138eb6e32fe21553ef"
   },
   "outputs": [],
   "source": [
    "%%sql \n",
    "SELECT * FROM \"ONTIME\".\"ONTIME\" OT, \"ONTIME\".\"AIRCRAFT\" AC \n",
    "  WHERE AC.\"TAIL_NUMBER\" = OT.TAILNUM\n",
    "  AND ORIGINSTATE = 'NJ'\n",
    "  AND DESTSTATE = 'CA'\n",
    "  AND MANUFACTURER = 'Boeing' \n",
    "  AND AC.MODEL LIKE 'B737%'\n",
    "  AND OT.TAXIOUT > 30\n",
    "  AND OT.DISTANCE > 2000\n",
    "  AND OT.DEPDELAY > 200\n",
    "  ORDER BY OT.ARRDELAY DESC\n",
    "  FETCH FIRST 5 ROWS ONLY"
   ]
  },
  {
   "cell_type": "code",
   "execution_count": null,
   "metadata": {
    "id": "0426171f745d4dbbbd8d1ffd79ef96f3"
   },
   "outputs": [],
   "source": [
    "%%capture result\n",
    "%%time\n",
    "%%sql \n",
    "SELECT * FROM \"ONTIME\".\"ONTIME\" OT, \"ONTIME\".\"AIRCRAFT\" AC \n",
    "  WHERE AC.\"TAIL_NUMBER\" = OT.TAILNUM\n",
    "  AND ORIGINSTATE = 'NJ'\n",
    "  AND DESTSTATE = 'CA'\n",
    "  AND MANUFACTURER = 'Boeing' \n",
    "  AND AC.MODEL LIKE 'B737%'\n",
    "  AND OT.TAXIOUT > 30\n",
    "  AND OT.DISTANCE > 2000\n",
    "  AND OT.DEPDELAY > 200\n",
    "  ORDER BY OT.ARRDELAY DESC\n",
    "  FETCH FIRST 5 ROWS ONLY"
   ]
  },
  {
   "cell_type": "code",
   "execution_count": null,
   "metadata": {
    "id": "1588204b75aa41208a26e255b63d2072",
    "scrolled": true
   },
   "outputs": [],
   "source": [
    "print(result)\n",
    "sqldvnocachetimer = Timer()\n",
    "sqldvnocachetimer.timeTotal()"
   ]
  },
  {
   "cell_type": "code",
   "execution_count": null,
   "metadata": {
    "id": "4f960147eb6542e19da89246f1bc0d34"
   },
   "outputs": [],
   "source": [
    "# Enable ONTIME1115\n",
    "databaseAPI.enableCache('DV20211110144113849337')"
   ]
  },
  {
   "cell_type": "code",
   "execution_count": null,
   "metadata": {
    "id": "50e6c077ab484123aa1c1edf3363fc00"
   },
   "outputs": [],
   "source": [
    "# Enable ONTIME0910\n",
    "databaseAPI.enableCache('DV20211110144049703423')"
   ]
  },
  {
   "cell_type": "code",
   "execution_count": null,
   "metadata": {
    "id": "d645633c92ea44bc80079c1f98c9bcb0"
   },
   "outputs": [],
   "source": [
    "# Enable AIRCRAFT\n",
    "databaseAPI.enableCache('DV20211115221309388288')"
   ]
  },
  {
   "cell_type": "code",
   "execution_count": null,
   "metadata": {
    "id": "e89328163ab54564972508d206b44567"
   },
   "outputs": [],
   "source": [
    "df = databaseAPI.getCaches('Enabled')\n",
    "display(df[['id', 'name','state','size', 'cardinality','last_refresh_timestamp']])"
   ]
  },
  {
   "cell_type": "code",
   "execution_count": null,
   "metadata": {
    "id": "f5725c54c2c14a71a1d3443c6a9d2d76"
   },
   "outputs": [],
   "source": [
    "%%capture result\n",
    "%%time\n",
    "%%sql \n",
    "SELECT * FROM \"ONTIME\".\"ONTIME\" OT, \"ONTIME\".\"AIRCRAFT\" AC \n",
    "  WHERE AC.\"TAIL_NUMBER\" = OT.TAILNUM\n",
    "  AND ORIGINSTATE = 'NJ'\n",
    "  AND DESTSTATE = 'CA'\n",
    "  AND MANUFACTURER = 'Boeing' \n",
    "  AND AC.MODEL LIKE 'B737%'\n",
    "  AND OT.TAXIOUT > 30\n",
    "  AND OT.DISTANCE > 2000\n",
    "  AND OT.DEPDELAY > 200\n",
    "  ORDER BY OT.ARRDELAY DESC\n",
    "  FETCH FIRST 5 ROWS ONLY"
   ]
  },
  {
   "cell_type": "code",
   "execution_count": null,
   "metadata": {
    "id": "2a591dc2d2574e0787e45d2a3f612d37",
    "scrolled": true
   },
   "outputs": [],
   "source": [
    "print(result)\n",
    "sqldvbigcachetimer = Timer()\n",
    "sqldvbigcachetimer.timeTotal()"
   ]
  },
  {
   "cell_type": "code",
   "execution_count": null,
   "metadata": {
    "id": "157e48687ca9426b84c18d209c0decee"
   },
   "outputs": [],
   "source": [
    "# Enable BOEING737\n",
    "databaseAPI.enableCache('DV20211110165634403313')"
   ]
  },
  {
   "cell_type": "code",
   "execution_count": null,
   "metadata": {
    "id": "441426d516724d0a8f4c24db05c85581"
   },
   "outputs": [],
   "source": [
    "# Enable ONTIME737NJCA\n",
    "databaseAPI.enableCache('DV20211115151427714635')"
   ]
  },
  {
   "cell_type": "code",
   "execution_count": null,
   "metadata": {
    "id": "1f3a072485f1495ca643c79afabce548"
   },
   "outputs": [],
   "source": [
    "%%capture result\n",
    "%%time\n",
    "%%sql \n",
    "SELECT * FROM \"ONTIME\".\"BOEING737\" OT, \"ONTIME\".\"AIRCRAFT\" AC \n",
    "  WHERE ORIGINSTATE = 'NJ'\n",
    "  AND DESTSTATE = 'CA'\n",
    "  AND TAXIOUT > 30\n",
    "  AND DISTANCE > 2000\n",
    "  AND DEPDELAY > 200\n",
    "  ORDER BY OT.ARRDELAY DESC\n",
    "  FETCH FIRST 5 ROWS ONLY"
   ]
  },
  {
   "cell_type": "code",
   "execution_count": null,
   "metadata": {
    "id": "f9237941a8aa489a8e9f1522d2e8b83d"
   },
   "outputs": [],
   "source": [
    "sqldvfocusedcachetimer = Timer()\n",
    "sqldvfocusedcachetimer.timeTotal()"
   ]
  },
  {
   "cell_type": "code",
   "execution_count": null,
   "metadata": {
    "id": "d71e502221d145e09e53b9482ca2882b"
   },
   "outputs": [],
   "source": [
    "%%capture result\n",
    "%%time\n",
    "%%sql \n",
    "SELECT * FROM ONTIME.ONTIME737NJCA WHERE \n",
    "  TAXIOUT > 30\n",
    "  AND DISTANCE > 2000\n",
    "  AND DEPDELAY > 200\n",
    "  ORDER BY ARRDELAY DESC\n",
    "  FETCH FIRST 5 ROWS ONLY"
   ]
  },
  {
   "cell_type": "code",
   "execution_count": null,
   "metadata": {
    "id": "66d0598ecd9f4377ae18e216452e52f6"
   },
   "outputs": [],
   "source": [
    "sqldvsmallcachetimer = Timer()\n",
    "sqldvsmallcachetimer.timeTotal()"
   ]
  },
  {
   "cell_type": "code",
   "execution_count": null,
   "metadata": {
    "id": "5a44ef7f674a4893852f64b7daad5663"
   },
   "outputs": [],
   "source": [
    "df = databaseAPI.getCaches('Enabled')\n",
    "display(df[['id', 'name','size', 'cardinality','last_refresh_timestamp']])"
   ]
  },
  {
   "cell_type": "code",
   "execution_count": null,
   "metadata": {
    "id": "85eceb160fe848b4958e173e72959a55"
   },
   "outputs": [],
   "source": [
    "# Connect to the Db2 Warehouse Database from inside of IBM Cloud Pak for Data\n",
    "database = 'ONTIME'\n",
    "user = 'admin'\n",
    "password = 'CP4DDataFabric'\n",
    "host = 'cpd-cpd-instance.apps.demo.ibmdte.net'\n",
    "port = '31175'\n",
    "\n",
    "%sql CONNECT TO {database} USER {user} USING {password} HOST {host} PORT {port}"
   ]
  },
  {
   "cell_type": "code",
   "execution_count": null,
   "metadata": {
    "id": "e99806f922cc4d7bb93e3c5bdf509d4d"
   },
   "outputs": [],
   "source": [
    "%%time\n",
    "%%sql \n",
    "SELECT AC.\"TAIL_NUMBER\", AC.\"MANUFACTURER\", AC.\"MODEL\", OT.\"UNIQUECARRIER\", OT.\"AIRLINEID\", OT.\"CARRIER\", OT.\"TAILNUM\", OT.\"FLIGHTNUM\", OT.\"ORIGINAIRPORTID\", OT.\"ORIGINAIRPORTSEQID\", OT.\"ORIGINCITYNAME\", OT.\"ORIGINSTATE\", OT.\"DESTAIRPORTID\", OT.\"DESTCITYNAME\", OT.\"DESTSTATE\", OT.\"DEPTIME\", OT.\"DEPDELAY\", OT.\"TAXIOUT\", OT.\"WHEELSOFF\", OT.\"WHEELSON\", OT.\"TAXIIN\", OT.\"ARRTIME\", OT.\"ARRDELAY\", OT.\"ARRDELAYMINUTES\", OT.\"CANCELLED\", OT.\"AIRTIME\", OT.\"DISTANCE\"\n",
    "  FROM \"ONTIME\".\"ONTIME\" OT, \"ONTIME\".\"AIRCRAFT\" AC \n",
    "  WHERE AC.\"TAIL_NUMBER\" = OT.TAILNUM\n",
    "  AND ORIGINSTATE = 'NJ'\n",
    "  AND DESTSTATE = 'CA'\n",
    "  AND AC.MANUFACTURER = 'Boeing' \n",
    "  AND AC.MODEL LIKE 'B737%'\n",
    "  AND OT.TAXIOUT > 30\n",
    "  AND OT.DISTANCE > 1800\n",
    "  AND OT.DEPDELAY > 200\n",
    "  ORDER BY OT.ARRDELAY DESC\n",
    "  FETCH FIRST 5 ROWS ONLY"
   ]
  },
  {
   "cell_type": "code",
   "execution_count": null,
   "metadata": {
    "id": "7cb66bfdaef748c3b7792c6d10b50f74"
   },
   "outputs": [],
   "source": [
    "%%time\n",
    "%%sql \n",
    "SELECT COUNT(*)\n",
    "  FROM \"ONTIME\".\"ONTIME\" "
   ]
  },
  {
   "cell_type": "code",
   "execution_count": null,
   "metadata": {
    "id": "e53841e5901c401787eb75e0bcc8ab63"
   },
   "outputs": [],
   "source": [
    "%%time\n",
    "%%sql \n",
    "SELECT UNIQUE(YEAR) AS YEAR\n",
    "  FROM \"ONTIME\".\"ONTIME\" ORDER BY YEAR"
   ]
  },
  {
   "cell_type": "code",
   "execution_count": null,
   "metadata": {
    "id": "7697c0eae73c42c785be84cac4d5ce70"
   },
   "outputs": [],
   "source": [
    "%%capture result\n",
    "%%time\n",
    "%%sql \n",
    "SELECT AC.\"TAIL_NUMBER\", AC.\"MANUFACTURER\", AC.\"MODEL\", OT.\"UNIQUECARRIER\", OT.\"AIRLINEID\", OT.\"CARRIER\", OT.\"TAILNUM\", OT.\"FLIGHTNUM\", OT.\"ORIGINAIRPORTID\", OT.\"ORIGINAIRPORTSEQID\", OT.\"ORIGINCITYNAME\", OT.\"ORIGINSTATE\", OT.\"DESTAIRPORTID\", OT.\"DESTCITYNAME\", OT.\"DESTSTATE\", OT.\"DEPTIME\", OT.\"DEPDELAY\", OT.\"TAXIOUT\", OT.\"WHEELSOFF\", OT.\"WHEELSON\", OT.\"TAXIIN\", OT.\"ARRTIME\", OT.\"ARRDELAY\", OT.\"ARRDELAYMINUTES\", OT.\"CANCELLED\", OT.\"AIRTIME\", OT.\"DISTANCE\"\n",
    "  FROM \"ONTIME\".\"ONTIME\" OT, \"ONTIME\".\"AIRCRAFT\" AC \n",
    "  WHERE AC.\"TAIL_NUMBER\" = OT.TAILNUM\n",
    "  AND ORIGINSTATE = 'NJ'\n",
    "  AND DESTSTATE = 'CA'\n",
    "  AND AC.MANUFACTURER = 'Boeing' \n",
    "  AND AC.MODEL LIKE 'B737%'\n",
    "  AND OT.TAXIOUT > 30\n",
    "  AND OT.DISTANCE > 2000\n",
    "  AND OT.DEPDELAY > 200\n",
    "  ORDER BY OT.ARRDELAY DESC\n",
    "  FETCH FIRST 5 ROWS ONLY"
   ]
  },
  {
   "cell_type": "code",
   "execution_count": null,
   "metadata": {
    "id": "aeff42f968ec4a13a86b5c51dd66bc33"
   },
   "outputs": [],
   "source": [
    "print(result)\n",
    "sqldb2wtimer = Timer()\n",
    "sqldb2wtimer.timeTotal()"
   ]
  },
  {
   "cell_type": "code",
   "execution_count": null,
   "metadata": {
    "id": "322ae26222f2446cba274f515f4b74bb"
   },
   "outputs": [],
   "source": [
    "dvnocache = sqldvnocachetimer.getTotalTime()/1000\n",
    "dvfullcache = sqldvbigcachetimer.getTotalTime()/1000\n",
    "dv737cache = sqldvfocusedcachetimer.getTotalTime()/1000\n",
    "dv737njcacache = sqldvsmallcachetimer.getTotalTime()/1000\n",
    "db2w = sqldb2wtimer.getTotalTime()/1000\n",
    "print(\"DV No Cache Query 2009-2015: \" + str(dvnocache) + \" s\")\n",
    "print(\"DV Full Cache Query 2009-2015: \" + str(dvfullcache) + \" s\")\n",
    "print(\"DV 737 Cache Query 2009-2015: \" + str(dv737cache) + \" s\")\n",
    "print(\"DV 737 NJ to CA Cache Query 2009-2015: \" + str(dv737njcacache) + \" s\")\n",
    "print(\"Db2 Warehouse Query 2009-2015: \" + str(db2w) + \" s\")"
   ]
  },
  {
   "cell_type": "code",
   "execution_count": null,
   "metadata": {
    "id": "ebe694c7dea24de28402ced2b30ed27b"
   },
   "outputs": [],
   "source": [
    "import matplotlib.pyplot as plt\n",
    "fig = plt.figure()\n",
    "fig = plt.figure(figsize=(20, 6))\n",
    "ax = fig.add_axes([0,0,1,1])\n",
    "runs = ['Live DV No Cache','Fully Cached Dataset','Targetted 737 Cache DV','Highly Focused 737 NJ to CA Cache','Db2 Warehouse']\n",
    "runtime = [dvnocache, dvfullcache, dv737cache, dv737njcacache, db2w]\n",
    "ax.bar(runs, runtime)\n",
    "plt.ylabel(\"Time in Seconds (Lower is better)\", fontsize=16)\n",
    "plt.xlabel(\"Performance Run\", fontsize=16)\n",
    "plt.show()"
   ]
  },
  {
   "cell_type": "code",
   "execution_count": null,
   "metadata": {
    "id": "6632fe19c21b436a8344e2282b9528b5"
   },
   "outputs": [],
   "source": [
    "print('Aircraft:' + str(aircraft))\n",
    "print('Number of Domestic Flights in the US')\n",
    "print('Years 2009 to 2010: ' + str(ontime0910))\n",
    "print('Years 2011 to 2015: ' + str(ontime1115))\n",
    "print('Years 2009 to 2015: ' + str(ontimefull))\n",
    "print('Only 737 from 2009 to 2015: ' + str(ontime737))\n",
    "print('Only 737 from NJ to CA: ' + str(ontimenjca737))"
   ]
  },
  {
   "cell_type": "code",
   "execution_count": null,
   "metadata": {
    "id": "118b7832d25c4d35af0587229fefb644"
   },
   "outputs": [],
   "source": [
    "import matplotlib.pyplot as plt\n",
    "fig = plt.figure()\n",
    "fig = plt.figure(figsize=(20, 6))\n",
    "ax = fig.add_axes([0,0,1,1])\n",
    "runs = ['Years 2009 to 2010','Years 2011 to 2015','Full Dataset','737 Dataset','737 NJ to CA Dataset']\n",
    "runtime = [ontime0910, ontime1115, ontimefull, ontime737, ontimenjca737]\n",
    "ax.bar(runs, runtime)\n",
    "plt.ylabel(\"Dataset Size in Millions of Rows\", fontsize=16)\n",
    "plt.xlabel(\"US Domestic Flights\", fontsize=16)\n",
    "plt.show()"
   ]
  },
  {
   "cell_type": "markdown",
   "metadata": {
    "id": "a836c37846aa418c9d3bd5797a3eb2f9"
   },
   "source": [
    "## Refreshing a Cache Through a RESTful Service Call"
   ]
  },
  {
   "cell_type": "code",
   "execution_count": null,
   "metadata": {
    "id": "e9fd29ab376f44d7953ac3fabaea06d6"
   },
   "outputs": [],
   "source": [
    "databaseAPI.refreshCache('DV20211115221309388288')\n",
    "df = databaseAPI.getCaches(\"Refreshing\")\n",
    "display(df[['id', 'name','state','size', 'cardinality','last_refresh_timestamp']])"
   ]
  },
  {
   "cell_type": "code",
   "execution_count": null,
   "metadata": {
    "id": "7ba8d455a0144ca38d3c4f5de4b0a88b"
   },
   "outputs": [],
   "source": [
    "df = databaseAPI.getCaches(\"Available\")\n",
    "display(df[['id', 'name','state','size', 'cardinality','last_refresh_timestamp']])"
   ]
  },
  {
   "cell_type": "markdown",
   "metadata": {
    "id": "10018a33253e48a7bb6cca671380b91b"
   },
   "source": [
    "## Get Cache Details"
   ]
  },
  {
   "cell_type": "code",
   "execution_count": null,
   "metadata": {
    "id": "a5b7be0ea1a04e02b2aa6fe07a7903ad"
   },
   "outputs": [],
   "source": [
    "json = databaseAPI.getCacheDetails('DV20211115221309388288')\n",
    "print(json)"
   ]
  },
  {
   "cell_type": "code",
   "execution_count": null,
   "metadata": {
    "id": "2567b6950b3d40b3be14ed58050e372e"
   },
   "outputs": [],
   "source": [
    "print(json['state'])"
   ]
  },
  {
   "cell_type": "code",
   "execution_count": null,
   "metadata": {
    "id": "09814bf7a8674d74b1ffd53cec5f59f5"
   },
   "outputs": [],
   "source": [
    "display(pd.DataFrame(json_normalize(json))[['name','state']])"
   ]
  },
  {
   "cell_type": "code",
   "execution_count": null,
   "metadata": {
    "id": "26615ec0227a4d5697e583c7ffbbd5dd"
   },
   "outputs": [],
   "source": [
    "pd.set_option('display.max_rows', 20)\n",
    "display(pd.DataFrame(json_normalize(json)).T)"
   ]
  },
  {
   "cell_type": "code",
   "execution_count": null,
   "metadata": {
    "id": "c05a05b8d68740419af79e4fee8c6fbb"
   },
   "outputs": [],
   "source": []
  }
 ],
 "metadata": {
  "kernelspec": {
   "display_name": "Python 3.8",
   "language": "python",
   "name": "python3"
  },
  "language_info": {
   "codemirror_mode": {
    "name": "ipython",
    "version": 3
   },
   "file_extension": ".py",
   "mimetype": "text/x-python",
   "name": "python",
   "nbconvert_exporter": "python",
   "pygments_lexer": "ipython3",
   "version": "3.8.11"
  }
 },
 "nbformat": 4,
 "nbformat_minor": 1
}
