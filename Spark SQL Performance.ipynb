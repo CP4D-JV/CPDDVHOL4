{
 "cells": [
  {
   "cell_type": "markdown",
   "metadata": {
    "id": "2089d178d4a44af2ab2a2a09a4554ffd"
   },
   "source": [
    "<img align=\"left\" src=\"https://github.com/Db2-DTE-POC/CPDDVHOL4/blob/main/media/Assets&ArchHeader.jpeg?raw=true\">"
   ]
  },
  {
   "cell_type": "code",
   "execution_count": null,
   "metadata": {
    "id": "52f7e001c5d44821af6db5367efaf2da"
   },
   "outputs": [],
   "source": [
    "!wget -O CPDDVRestClassV402.ipynb https://raw.githubusercontent.com/Db2-DTE-POC/CPDDVLAB/master/CPDDVRestClassV402.ipynb\n",
    "%run CPDDVRestClassV402.ipynb"
   ]
  },
  {
   "cell_type": "code",
   "execution_count": null,
   "metadata": {
    "id": "f93a7f0160e14638946316a0c4237b0c"
   },
   "outputs": [],
   "source": [
    "from pyspark.sql import SQLContext"
   ]
  },
  {
   "cell_type": "code",
   "execution_count": null,
   "metadata": {
    "id": "a6542916a18f418dbb5989f76e25d8d8"
   },
   "outputs": [],
   "source": [
    "sc"
   ]
  },
  {
   "cell_type": "code",
   "execution_count": null,
   "metadata": {
    "id": "171a7ddfd5614daa822c2904016be84a"
   },
   "outputs": [],
   "source": [
    "def loadCSV(file):\n",
    "    return SQLContext(sc).read.csv(file, header='true', inferSchema = 'true')"
   ]
  },
  {
   "cell_type": "code",
   "execution_count": null,
   "metadata": {
    "id": "a3b960dfe38444028d12b1a3ff4bfcbd"
   },
   "outputs": [],
   "source": [
    "sparkloadtimer = Timer()"
   ]
  },
  {
   "cell_type": "code",
   "execution_count": null,
   "metadata": {
    "id": "420bb4c70fd34aafbc3296e89a8aec0d"
   },
   "outputs": [],
   "source": [
    "%%capture result\n",
    "%%time \n",
    "df_data_aircraft = loadCSV('/project_data/data_asset/aircraft.csv')"
   ]
  },
  {
   "cell_type": "code",
   "execution_count": null,
   "metadata": {
    "id": "15dc67bc8a4f4fdb8a48069acc695ff3"
   },
   "outputs": [],
   "source": [
    "sparkloadtimer.timeTotal()"
   ]
  },
  {
   "cell_type": "code",
   "execution_count": null,
   "metadata": {
    "id": "cbebe2802f7c4f5b87f913b2106033a8"
   },
   "outputs": [],
   "source": [
    "%%capture result\n",
    "%%time \n",
    "df_data_ontime_11 = loadCSV('/project_data/data_asset/ONTIME2011.csv')"
   ]
  },
  {
   "cell_type": "code",
   "execution_count": null,
   "metadata": {
    "id": "f25119c9832346e7b38c58460829d6cd",
    "scrolled": true
   },
   "outputs": [],
   "source": [
    "sparkloadtimer.timeTotal()"
   ]
  },
  {
   "cell_type": "code",
   "execution_count": null,
   "metadata": {
    "id": "ba428d4c8a8341af98e0752a6dd2b6af"
   },
   "outputs": [],
   "source": [
    "%%capture result\n",
    "%%time \n",
    "df_data_ontime_12 = loadCSV('/project_data/data_asset/ONTIME2012.csv')"
   ]
  },
  {
   "cell_type": "code",
   "execution_count": null,
   "metadata": {
    "id": "230b2a1911784b4da552318e28fc9a80"
   },
   "outputs": [],
   "source": [
    "sparkloadtimer.timeTotal()"
   ]
  },
  {
   "cell_type": "code",
   "execution_count": null,
   "metadata": {
    "id": "164a0e849ee34b9e99afd8d4e3aac885"
   },
   "outputs": [],
   "source": [
    "%%capture result\n",
    "%%time \n",
    "df_data_ontime_13 = loadCSV('/project_data/data_asset/ONTIME2013.csv')"
   ]
  },
  {
   "cell_type": "code",
   "execution_count": null,
   "metadata": {
    "id": "0311ad1630f245ff8fa3aa011ced5253"
   },
   "outputs": [],
   "source": [
    "sparkloadtimer.timeTotal()"
   ]
  },
  {
   "cell_type": "code",
   "execution_count": null,
   "metadata": {
    "id": "43e2f7bd5ef9414f8d3f8723680b5052"
   },
   "outputs": [],
   "source": [
    "%%capture result\n",
    "%%time \n",
    "df_data_ontime_14 = loadCSV('/project_data/data_asset/ONTIME2014.csv')"
   ]
  },
  {
   "cell_type": "code",
   "execution_count": null,
   "metadata": {
    "id": "29e3ea5e87784b8a9a21faa770143379"
   },
   "outputs": [],
   "source": [
    "sparkloadtimer.timeTotal()"
   ]
  },
  {
   "cell_type": "code",
   "execution_count": null,
   "metadata": {
    "id": "1368e5d521c1498fb713ff5246c7edaf"
   },
   "outputs": [],
   "source": [
    "%%capture result\n",
    "%%time \n",
    "df_data_ontime_15 = loadCSV('/project_data/data_asset/ONTIME2015.csv')"
   ]
  },
  {
   "cell_type": "code",
   "execution_count": null,
   "metadata": {
    "id": "8df240af20034e7087d3b3d258d6f4f3"
   },
   "outputs": [],
   "source": [
    "sparkloadtimer.timeTotal()"
   ]
  },
  {
   "cell_type": "code",
   "execution_count": null,
   "metadata": {
    "id": "9629dd3dc91f45678f042e1eca92937f"
   },
   "outputs": [],
   "source": [
    "times = sparkloadtimer.getList()\n",
    "for t in times:\n",
    "    print(t)"
   ]
  },
  {
   "cell_type": "code",
   "execution_count": null,
   "metadata": {
    "id": "7261bd74e9ab41b886a32e88a47e9d7c"
   },
   "outputs": [],
   "source": [
    "df_data_aircraft.show(5)\n",
    "df_data_aircraft.printSchema()"
   ]
  },
  {
   "cell_type": "code",
   "execution_count": null,
   "metadata": {
    "id": "feb56b494ca2418b904d920159c4de91"
   },
   "outputs": [],
   "source": [
    "from functools import reduce  # For Python 3.x\n",
    "from pyspark.sql import DataFrame\n",
    "\n",
    "def unionAll(*dfs):\n",
    "    return reduce(DataFrame.unionAll, dfs)\n",
    "\n",
    "df_data_ontime = unionAll(df_data_ontime_11, df_data_ontime_12, df_data_ontime_13, df_data_ontime_14, df_data_ontime_15)"
   ]
  },
  {
   "cell_type": "code",
   "execution_count": null,
   "metadata": {
    "id": "461ab64aad614f5d8686a3121b3d4edf"
   },
   "outputs": [],
   "source": [
    "%%time\n",
    "df_data_ontime.printSchema()"
   ]
  },
  {
   "cell_type": "code",
   "execution_count": null,
   "metadata": {
    "id": "5f2957f1cb6549e58a288b006b05b922"
   },
   "outputs": [],
   "source": [
    "%%time\n",
    "df_data_aircraft.count()"
   ]
  },
  {
   "cell_type": "code",
   "execution_count": null,
   "metadata": {
    "id": "4a8c86136e8d495eae3faeaa32fc5921"
   },
   "outputs": [],
   "source": [
    "df_data_aircraft.printSchema()"
   ]
  },
  {
   "cell_type": "code",
   "execution_count": null,
   "metadata": {
    "id": "66447bd962314bce9f1f16a6b442736d"
   },
   "outputs": [],
   "source": [
    "%%time\n",
    "df_data_ontime.count()"
   ]
  },
  {
   "cell_type": "code",
   "execution_count": null,
   "metadata": {
    "id": "feff78bbf3c54dfe9b682227dec416b1"
   },
   "outputs": [],
   "source": [
    "%%time\n",
    "df_data_ontime.createGlobalTempView(\"ontime\")"
   ]
  },
  {
   "cell_type": "code",
   "execution_count": null,
   "metadata": {
    "id": "17d1983f48354f6f87a6d57bf150e9b2"
   },
   "outputs": [],
   "source": [
    "%%time\n",
    "df_data_aircraft.createGlobalTempView(\"aircraft\")"
   ]
  },
  {
   "cell_type": "code",
   "execution_count": null,
   "metadata": {
    "id": "cef23f50dfad4e19b23771bf0fcc0fa7"
   },
   "outputs": [],
   "source": [
    "%%capture result\n",
    "%%time\n",
    "sql = \\\n",
    "\"\"\"\n",
    "SELECT TAILNUMBER, MANUFACTURER, MODEL, FLIGHTDATE, UNIQUECARRIER, FLIGHTNUM, ORIGINCITYNAME, DESTCITYNAME, DEPDELAY, ARRDELAY\n",
    "  FROM global_temp.ontime OT, global_temp.aircraft AC \n",
    "  WHERE AC.TAILNUMBER = OT.TAILNUM\n",
    "  AND AC.MANUFACTURER = 'Boeing' \n",
    "  AND AC.MODEL LIKE 'B737%'\n",
    "  AND OT.ORIGINSTATE = 'NJ'\n",
    "  AND OT.DESTSTATE = 'CA'\n",
    "  AND OT.TAXIOUT > 30\n",
    "  AND OT.DISTANCE > 2000\n",
    "  AND OT.DEPDELAY > 180\n",
    "  ORDER BY ARRDELAY\n",
    "\"\"\"\n",
    "spark.sql(sql).show()"
   ]
  },
  {
   "cell_type": "code",
   "execution_count": null,
   "metadata": {
    "id": "a0a4f7d157af446bbbbdc1c65c51c794"
   },
   "outputs": [],
   "source": [
    "sqlsparktimer = Timer()\n",
    "sqlsparktimer.timeTotal()"
   ]
  },
  {
   "cell_type": "code",
   "execution_count": null,
   "metadata": {
    "id": "0bf42d4ada2541e59c0c28783243cfa9"
   },
   "outputs": [],
   "source": [
    "sparkload = sparkloadtimer.getTotalTime()/1000\n",
    "sparksql = sqlsparktimer.getTotalTime()/1000\n",
    "print(\"Time to Load Data into Spark: \" + str(sparkload) + \" s\")\n",
    "print(\"Time to run SQL: \" + str(sparksql) + \" s\")\n",
    "print(\"Total Time: \" + str(sparkload + sparksql) + \" s\")"
   ]
  },
  {
   "cell_type": "code",
   "execution_count": null,
   "metadata": {
    "id": "d71b664114754eaf8f14eb53adde37ea"
   },
   "outputs": [],
   "source": [
    "import matplotlib.pyplot as plt\n",
    "fig = plt.figure()\n",
    "fig = plt.figure(figsize=(20, 6))\n",
    "ax = fig.add_axes([0,0,1,1])\n",
    "runs = ['Time to Load Data','Time to run SQL','Total Time']\n",
    "runtime = [sparkload, sparksql, sparkload+sparksql]\n",
    "ax.bar(runs, runtime)\n",
    "plt.ylabel(\"Time in Seconds (Lower is better)\", fontsize=16)\n",
    "plt.xlabel(\"Performance Run\", fontsize=16)\n",
    "plt.show()"
   ]
  }
 ],
 "metadata": {
  "kernelspec": {
   "display_name": "Python 3.8 with Spark",
   "language": "python3",
   "name": "python38"
  },
  "language_info": {
   "codemirror_mode": {
    "name": "ipython",
    "version": 3
   },
   "file_extension": ".py",
   "mimetype": "text/x-python",
   "name": "python",
   "nbconvert_exporter": "python",
   "pygments_lexer": "ipython3",
   "version": "3.8.10"
  }
 },
 "nbformat": 4,
 "nbformat_minor": 1
}
