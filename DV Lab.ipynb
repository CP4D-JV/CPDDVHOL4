{
 "cells": [
  {
   "cell_type": "markdown",
   "metadata": {
    "id": "99bd8be1-babf-478f-a618-8077411b9430"
   },
   "source": [
    "<img align=\"left\" src=\"https://github.com/Db2-DTE-POC/CPDDVHOL4/blob/main/media/Assets&ArchHeader.jpeg?raw=true\">"
   ]
  },
  {
   "cell_type": "markdown",
   "metadata": {
    "id": "2517b27f-652a-48a4-8329-1850baa5d575"
   },
   "source": [
    "# IBM Cloud Pak for Data Version 4.0.2 - Multi-Cloud Virtualization Hands-on Lab"
   ]
  },
  {
   "cell_type": "markdown",
   "metadata": {
    "id": "b9488e5e-815a-47a0-b278-cd203645fc20"
   },
   "source": [
    "## Introduction\n",
    "Welcome to the IBM Cloud Pak for Data Multi-Cloud Virtualization Hands on Lab. \n",
    "\n",
    "In this lab you analyze data from multiple data sources, from across multiple Clouds, without copying data into a warehouse.\n",
    "\n",
    "This hands-on lab uses live databases, were data is “virtually” available through the IBM Cloud Pak for Data Virtualization Service. This makes it easy to analyze data from across your multi-cloud enterprise using tools like, Jupyter Notebooks, Watson Studio or your favorite reporting tool like Cognos.  "
   ]
  },
  {
   "cell_type": "markdown",
   "metadata": {
    "id": "be5b0f97-e4d9-4eeb-be7d-be752b22f1c2"
   },
   "source": [
    "### Where to find this sample online\n",
    "You can find a copy of this notebook on GITHUB at https://github.com/Db2-DTE-POC/CPDDVLAB."
   ]
  },
  {
   "cell_type": "markdown",
   "metadata": {
    "id": "bafbbeee-501f-49c2-acb6-f637c9f82313"
   },
   "source": [
    "### The business problem and the landscape\n",
    "The Acme Company needs timely analysis of stock trading data from multiple source systems. \n",
    "\n",
    "Their data science and development teams needs access to:\n",
    "* Customer data\n",
    "* Account data\n",
    "* Trading data\n",
    "* Stock history and Symbol data\n",
    "\n",
    "The data sources are running on premises and on the cloud. In this example many of the databases are also running on OpenShift but they could be managed, virtual or bare-metal cloud installations. IBM Cloud Pak for Data doesn't care. Enterprise DB (Postgres) is also running in the Cloud. Mongo and Informix are running on premises. \n",
    "\n",
    "To simplify access for Data Scientists and Developers the Acme team wants to make all their data look like it is coming from a single database. They also want to combine data to create simple to use tables.\n",
    "\n",
    "In the past, Acme built a dedicated data warehouse, and then created ETL (Export, Transform and Load) job to move data from each data source into the warehouse were it could be combined. Now they can just virtualize your data without moving it."
   ]
  },
  {
   "cell_type": "markdown",
   "metadata": {
    "id": "bbb799a1-7076-425e-a93e-5a715b32ddae"
   },
   "source": [
    "### In this lab you learn how to:\n",
    "\n",
    "* Sign into IBM Cloud Pak for Data using your own Data Engineer userid\n",
    "* Connect to different data sources, on premises and across a multi-vendor Cloud\n",
    "* Make remote data from across your multi-vendor enterprise look and act like local tables in a single database\n",
    "* Make combining complex data and queries simple even for basic users\n",
    "* Capture complex SQL in easy to consume VIEWs that act just like simple tables\n",
    "* Ensure that users can securely access even complex data across multiple sources \n",
    "* Use roles and priviledges to ensure that only the right user may see the right data\n",
    "* Make development easy by connecting to your virtualized data using Analytic tools and Application from outside of IBM Cloud Pak for Data. "
   ]
  },
  {
   "cell_type": "markdown",
   "metadata": {
    "id": "957a2882-231a-4847-8d7c-78868692c71d"
   },
   "source": [
    "## Getting Started"
   ]
  },
  {
   "cell_type": "markdown",
   "metadata": {
    "id": "7f827827-d741-4144-ac5f-1c8f1cdffcc8"
   },
   "source": [
    "### Using Jupyter notebooks\n",
    "You are now officially using a Jupyter notebook! If this is your first time using a Jupyter notebook you might want to go through the Db2 Data Management Console Hands on Lab at www.ibm.biz/DMCDemosPOT. It includes an introduction to using Jupyter notebooks with the Db2 family. The introduction shows you some of the basics of using a notebook, including how to create the cells, run code, and save files for future use. \n",
    "\n",
    "Jupyter notebooks are based on IPython which started in development in the 2006/7 timeframe. The existing Python interpreter was limited in functionality and work was started to create a richer development environment. By 2011 the development efforts resulted in IPython being released (http://blog.fperez.org/2012/01/ipython-notebook-historical.html).\n",
    "\n",
    "Jupyter notebooks were a spinoff (2014) from the original IPython project. IPython continues to be the kernel that Jupyter runs on, but the notebooks are now a project on their own.\n",
    "\n",
    "Jupyter notebooks run in a browser and communicate to the backend IPython server which renders this content. These notebooks are used extensively by data scientists and anyone wanting to document, plot, and execute their code in an interactive environment. The beauty of Jupyter notebooks is that you document what you do as you go along."
   ]
  },
  {
   "cell_type": "markdown",
   "metadata": {
    "id": "40593b27-5566-4d25-b0ff-16ef7ec7c092"
   },
   "source": [
    "### Connecting to IBM Cloud Pak for Data\n",
    "For this lab you will be assigned a Data Engineer userid. Check with the lab coordinator which userid and passwords you should use.\n",
    "* **Engineer:**\n",
    "    * ID: DATAENGINEERx\n",
    "    * PASSWORD: tsdvlab\n",
    "\n",
    "If you have this notebook open, you should have already signed in as your assigned DATAENGINEER userid. \n",
    "1. To check your userid, click the icon at the very top right of the webpage. It will look something like this:\n",
    "\n",
    "    <img src=\"https://github.com/Db2-DTE-POC/CPDDVHOL4/blob/main/media/11.06.10 EngineerUserIcon.png?raw=true\">\n",
    "\n",
    "2. Click **Profile and settings**\n",
    "3. Click **Permissions** and review the user permissions for this user\n",
    "\n",
    "As a Data Engineer you can:\n",
    "* Add and modify Data sources. Each source is a connection to a single database, either inside or outside of IBM Cloud Pak for Data.\n",
    "* Virtualize data. This makes tables in other data sources look and act like tables that are local to the Data Virtualization database\n",
    "* Work with the data you have virtualized.\n",
    "* Write SQL to access and join data that you have virtualized\n",
    "* See detailed information on how to connect external analytic tools and applications to your virtualized data\n",
    "\n",
    "    <img src=\"https://github.com/Db2-DTE-POC/CPDDVHOL4/blob/main/media/DataVirtualizationMainMenu.png?raw=true\">\n",
    "\n",
    "As a User you can only:\n",
    "* Work with data that has been virtualized for you\n",
    "* Write SQL to work with that data\n",
    "* See detailed connection information\n",
    "\n",
    "As an Administrator (only available to the course instructor) you can also:\n",
    "* Manage IBM Cloud Pak for Data User Access and Roles\n",
    "* Create and Manage Data Caches to accelerate performance\n",
    "* Change key service setttings"
   ]
  },
  {
   "cell_type": "markdown",
   "metadata": {
    "id": "dc6dc212-2f7e-4277-950d-db94393a9251"
   },
   "source": [
    "## Basic Data Virtualization"
   ]
  },
  {
   "cell_type": "markdown",
   "metadata": {
    "id": "ca17878a-2f46-49ef-b197-62f50af0fd12"
   },
   "source": [
    "### Exploring Data Source Connections\n",
    "Let's start by looking at the the Data Source Connections that are already available. \n",
    "\n",
    "You should now have this Hands-on Lab notebook on the left side of your screen and the Cloud Pak for Data Console on the right side of your screen. In the Cloud Pak for Data Console:\n",
    "\n",
    "1. Click the three bar (hamburger) menu at the top left of the console\n",
    "2. Click on the Data menu item if is not already expanded\n",
    "3. Right click **Data Virtualization** and select **Open in New Window**\n",
    "4. Arrange your windows so that notebook is on one side of your screen and the Cloud Pak Data Virtualization Console is on the other side. This makes it easier to follow the instructions without having to jump back and forth between the notebook and the console.\n",
    "    <img src=\"https://github.com/Db2-DTE-POC/CPDDVHOL4/blob/main/media/DesktopArrangment.png?raw=true\">\n",
    "5. If you don't see the page above, click the **Data Virtualization** menu in the Cloud Pak for Data Console and select **Data Sources**.\n",
    "4. Click **Constellation View**. A spider diagram of the connected data sources opens. \n",
    "    <img src=\"https://github.com/Db2-DTE-POC/CPDDVHOL4/blob/main/media/ConstellationView.png?raw=true\">\n",
    "\n",
    "    This displays the Data Source Graph with 8 active data sources:\n",
    "    * 4 Db2 Family Databases hosted on premises, on Cloud Pak for Data and on OpenShift on AWS\n",
    "    * 1 Remote connector\n",
    "    * 1 MongoDB Enterprise data server running as a Cloud Pak for Data service and on Premises\n",
    "    * 1 Enterprise DB Postgres data server running on premises and on Cloud Pak for Data\n",
    "    * 1 Netezza Performance Server (using the Pure Data for Analyics connection) running on the Cloud\n",
    "    * 1 MySQL data server running on premises\n",
    "    * 1 Informix Database running on premises \n",
    "\n",
    "**You are not going to add a new data source**. However, you can go through the steps so you can see how to add additional data sources.\n",
    "1. Click the plus sign beside **Add new data source** at the upper-right of the console screen\n",
    "2. Select **Select existing connection** from the menu\n",
    "You can see a history of other data source connection information that was used before. This history is maintained to make reconnecting to data sources easier and faster.\n",
    "3. Click **Data sources** at the top of the page to return to the Data Sources page.\n",
    "in the area below the title and above the list of existing connections.\n",
    "4. Click **Add data source** and **Create new connection**\n",
    "5. Scroll through all the **available data sources** to see the available connection types\n",
    "\n",
    "<img src=\"https://github.com/Db2-DTE-POC/CPDDVHOL4/blob/main/media/ListOfAvailableTypes.png?raw=true\">\n",
    "\n",
    "6. Select a data source from the list to see the information required to connect to a new data source. \n",
    "At a minumum you typically need the host URL and port address, database name, userid and password. You can also connect using an SSL certificate that can be dragged and dropped directly into the console interface. \n",
    "8. Click **Cancel** again to return to the list of currently connected data sources"
   ]
  },
  {
   "cell_type": "markdown",
   "metadata": {
    "id": "b4a433fa-c26b-4c46-8574-7cb3bb04b4ba"
   },
   "source": [
    "### Exploring the available data\n",
    "Now that you understand how to connect to data sources you can start virtualizing data. Much of the work has already been done for you. IBM Cloud Pak for Data searches through the available data sources and compiles a single large inventory of all the tables and data available to virtualize in IBM Cloud Pak for Data. \n",
    "\n",
    "1. Click the Data Virtualization menu and select **Virtualize** under **Virtualization**\n",
    "\n",
    "    <img src=\"https://github.com/Db2-DTE-POC/CPDDVHOL4/blob/main/media/DataVirtualizationMainMenu.png?raw=true\">\n",
    "    \n",
    "2. Check the total number of available tables at the top of the list. There should be hundreds available.\n",
    "\n",
    "    <img src=\"https://github.com/Db2-DTE-POC/CPDDVHOL4/blob/main/media/Screen Shot 2020-07-16 at 3.24.37 PM.png?raw=true\">\n",
    "\n",
    "3. Enter \"STOCK\" into the search field and hit **Enter**. Any tables with the string\n",
    "**STOCK** in the table name, the table schema or with a colunn name that includes **STOCK** appears in the search results. \n",
    "\n",
    "<img src=\"https://github.com/Db2-DTE-POC/CPDDVHOL4/blob/main/media/Screen Shot 2021-01-26 at 10.54.45 AM.png?raw=true\">\n",
    "\n",
    "4. Hover your mouse pointer to the far right side to the search results table. An **preview** icon will appear on each row as you move your mouse. \n",
    "5. Click the **preview** icon beside one table. This displays a preview of the data in the selected table.\n",
    "\n",
    "    <img src=\"https://github.com/Db2-DTE-POC/CPDDVHOL4/blob/main/media/EyeIcon.png?raw=true\">\n",
    "\n",
    "6. Click **X** at the top right of the dialog box to return to the search results."
   ]
  },
  {
   "cell_type": "markdown",
   "metadata": {
    "id": "e6cc9625-7630-4238-bb12-6624236d0e7d"
   },
   "source": [
    "### Creating New Tables on a Source Database\n",
    "So that each user in this lab can have their own data to virtualize you will create your own table in a remote database.\n",
    "\n",
    "In this part of the lab you will use this Jupyter notebook and Python code to connect to a source database, create a simple table and populate it with data. \n",
    "\n",
    "IBM Cloud Pak for Data will automatically detect the change in the source database and make the new table available for virtualization.\n",
    "\n",
    "In this example, you connect to the Db2 database running in IBM Cloud Pak for Data but the database can be anywhere. All you need is the connection information and authorized credentials. \n",
    "\n",
    "   <img src=\"https://github.com/Db2-DTE-POC/CPDDVHOL4/blob/main/media/Db2CPDDatabase.png?raw=true\">"
   ]
  },
  {
   "cell_type": "markdown",
   "metadata": {
    "id": "768bf7f4-eb2f-494a-badd-79a8629e19f4"
   },
   "source": [
    "The first step is to connect to one of our remote data sources directly as if we were part of the team builing a new business application. Since each lab user will create their own table in their own schema the first thing you need to do is update and run the cell below with your engineer name. \n",
    "1. In this Juypyter notebook, click on the cell below \n",
    "2. **Update the lab number** in the cell below to your assigned user and lab number\n",
    "3. Click **Run** from the Jupyter notebook menu above"
   ]
  },
  {
   "cell_type": "code",
   "execution_count": 1,
   "metadata": {
    "id": "8c926ff7-806f-4a28-a860-97a33cb8add6"
   },
   "outputs": [
    {
     "name": "stdout",
     "output_type": "stream",
     "text": [
      "variable engineer set to = DATAENGINEER1\n"
     ]
    }
   ],
   "source": [
    "# Setting your userID\n",
    "labnumber = 1\n",
    "engineer = 'DATAENGINEER' + str(labnumber)\n",
    "print('variable engineer set to = ' + str(engineer))"
   ]
  },
  {
   "cell_type": "markdown",
   "metadata": {
    "id": "bf38b959-3056-42f2-9952-162996d4e4d0"
   },
   "source": [
    "The next part of the lab relies on a Jupyter notebook extension, commonly refer to as a \"magic\" command, to connect to a Db2 database. To use the commands you load load the extension by running another notebook call db2 that contains all the required code \n",
    "<pre>\n",
    "&#37;run db2.ipynb\n",
    "</pre>\n",
    "The cell below loads the Db2 extension directly from GITHUB. Note that it will take a few seconds for the extension to load, so you should generally wait until the \"Db2 Extensions Loaded\" message is displayed in your notebook. \n",
    "1. Click the cell below\n",
    "2. Click **Run**. When the cell is finished running, In[*] will change to In[2]"
   ]
  },
  {
   "cell_type": "code",
   "execution_count": 2,
   "metadata": {
    "id": "f5f185a4-558c-4b67-af88-c2a828445ace"
   },
   "outputs": [
    {
     "name": "stdout",
     "output_type": "stream",
     "text": [
      "--2021-12-03 16:27:40--  https://raw.githubusercontent.com/Db2-DTE-POC/Db2-Openshift-11.5.4/master/db2.ipynb\n",
      "Resolving raw.githubusercontent.com (raw.githubusercontent.com)... 185.199.111.133, 185.199.108.133, 185.199.110.133, ...\n",
      "Connecting to raw.githubusercontent.com (raw.githubusercontent.com)|185.199.111.133|:443... connected.\n",
      "HTTP request sent, awaiting response... 200 OK\n",
      "Length: 168432 (164K) [text/plain]\n",
      "Saving to: ‘db2.ipynb’\n",
      "\n",
      "db2.ipynb           100%[===================>] 164.48K  --.-KB/s    in 0.01s   \n",
      "\n",
      "2021-12-03 16:27:40 (16.6 MB/s) - ‘db2.ipynb’ saved [168432/168432]\n",
      "\n",
      "Db2 Extensions Loaded.\n",
      "db2.ipynb loaded\n"
     ]
    }
   ],
   "source": [
    "!wget -O db2.ipynb https://raw.githubusercontent.com/Db2-DTE-POC/Db2-Openshift-11.5.4/master/db2.ipynb\n",
    "%run db2.ipynb\n",
    "print('db2.ipynb loaded')"
   ]
  },
  {
   "cell_type": "markdown",
   "metadata": {
    "id": "ce970019-1b47-45b6-bf1f-3da2c4d5b016"
   },
   "source": [
    "#### Connecting to Db2\n",
    "\n",
    "Before any SQL commands can be issued, a connection needs to be made to the Db2 database that you will be using. \n",
    "\n",
    "The Db2 magic command tracks whether or not a connection has occured in the past and saves this information between notebooks and sessions. When you start up a notebook and issue a command, the program will reconnect to the database using your credentials from the last session. In the event that you have not connected before, the system will prompt you for all the information it needs to connect. This information includes:\n",
    "\n",
    "- Database name\n",
    "- Hostname\n",
    "- PORT \n",
    "- Userid\n",
    "- Password"
   ]
  },
  {
   "cell_type": "markdown",
   "metadata": {
    "id": "f67b0176-6d3b-4e18-ac15-207875bcd78f"
   },
   "source": [
    "#### Connecting to Db2"
   ]
  },
  {
   "cell_type": "code",
   "execution_count": 3,
   "metadata": {
    "id": "47d5c4fa-7a27-403c-a866-ec09da9ab18e"
   },
   "outputs": [
    {
     "name": "stdout",
     "output_type": "stream",
     "text": [
      "Connection successful.\n"
     ]
    }
   ],
   "source": [
    "# Connect to the Db2 STOCKS database on IBM Cloud Pak for Data\n",
    "database = 'STOCKS'\n",
    "user = engineer\n",
    "password = 'tsdvlab'\n",
    "host = 'cpd-cpd-instance.apps.demo.ibmdte.net'\n",
    "port = '32443'\n",
    "\n",
    "%sql CONNECT TO {database} USER {user} USING {password} HOST {host} PORT {port}"
   ]
  },
  {
   "cell_type": "markdown",
   "metadata": {
    "id": "814c68f9-08f4-43a5-b14f-e40bb2101c5c"
   },
   "source": [
    "To check that the connection is working. Run the following cell. It lists the tables in the database in the **DVDEMO** schema. Only the first 5 tables are listed."
   ]
  },
  {
   "cell_type": "code",
   "execution_count": 4,
   "metadata": {
    "id": "8543e376-fc9e-41dc-807f-a63119b4d9e5"
   },
   "outputs": [
    {
     "data": {
      "text/html": [
       "<div>\n",
       "<style scoped>\n",
       "    .dataframe tbody tr th:only-of-type {\n",
       "        vertical-align: middle;\n",
       "    }\n",
       "\n",
       "    .dataframe tbody tr th {\n",
       "        vertical-align: top;\n",
       "    }\n",
       "\n",
       "    .dataframe thead th {\n",
       "        text-align: right;\n",
       "    }\n",
       "</style>\n",
       "<table border=\"1\" class=\"dataframe\">\n",
       "  <thead>\n",
       "    <tr style=\"text-align: right;\">\n",
       "      <th></th>\n",
       "      <th>TABNAME</th>\n",
       "      <th>TABSCHEMA</th>\n",
       "      <th>OWNER</th>\n",
       "    </tr>\n",
       "  </thead>\n",
       "  <tbody>\n",
       "    <tr>\n",
       "      <th>0</th>\n",
       "      <td>ACCOUNTS</td>\n",
       "      <td>STOCKS</td>\n",
       "      <td>ADMIN</td>\n",
       "    </tr>\n",
       "    <tr>\n",
       "      <th>1</th>\n",
       "      <td>CUSTOMER</td>\n",
       "      <td>STOCKS</td>\n",
       "      <td>ADMIN</td>\n",
       "    </tr>\n",
       "    <tr>\n",
       "      <th>2</th>\n",
       "      <td>PORTFOLIO</td>\n",
       "      <td>STOCKS</td>\n",
       "      <td>ADMIN</td>\n",
       "    </tr>\n",
       "    <tr>\n",
       "      <th>3</th>\n",
       "      <td>STOCK_HISTORY</td>\n",
       "      <td>STOCKS</td>\n",
       "      <td>ADMIN</td>\n",
       "    </tr>\n",
       "    <tr>\n",
       "      <th>4</th>\n",
       "      <td>STOCK_SYMBOLS</td>\n",
       "      <td>STOCKS</td>\n",
       "      <td>ADMIN</td>\n",
       "    </tr>\n",
       "    <tr>\n",
       "      <th>5</th>\n",
       "      <td>STOCK_TRANSACTIONS</td>\n",
       "      <td>STOCKS</td>\n",
       "      <td>ADMIN</td>\n",
       "    </tr>\n",
       "  </tbody>\n",
       "</table>\n",
       "</div>"
      ],
      "text/plain": [
       "              TABNAME TABSCHEMA     OWNER\n",
       "0            ACCOUNTS  STOCKS    ADMIN   \n",
       "1            CUSTOMER  STOCKS    ADMIN   \n",
       "2           PORTFOLIO  STOCKS    ADMIN   \n",
       "3       STOCK_HISTORY  STOCKS    ADMIN   \n",
       "4       STOCK_SYMBOLS  STOCKS    ADMIN   \n",
       "5  STOCK_TRANSACTIONS  STOCKS    ADMIN   "
      ]
     },
     "execution_count": 4,
     "metadata": {},
     "output_type": "execute_result"
    }
   ],
   "source": [
    "%sql select TABNAME, TABSCHEMA, OWNER from syscat.tables where TABSCHEMA = 'STOCKS'"
   ]
  },
  {
   "cell_type": "markdown",
   "metadata": {
    "id": "bd94b9cf-f5d6-45b1-8497-344e44f6878a"
   },
   "source": [
    "Now that you can successfully connect to the database, you are going to create two tables with the same name and column across two different schemas. In following steps of the lab you are going to virtualize these tables in IBM Cloud Paks for Data and fold them together into a single table. \n",
    "\n",
    "The next cell sets the default schema to your engineer name followed by 'A'. Notice how you can set a python variable and substitute it into the SQL Statement in the cell. The **-e** option echos the command. \n",
    "\n",
    "Run the next cell."
   ]
  },
  {
   "cell_type": "code",
   "execution_count": null,
   "metadata": {
    "id": "475691ce-be35-49de-a3e0-c3c397fe94c1"
   },
   "outputs": [],
   "source": [
    "schema_name = engineer+'A'\n",
    "table_name = 'DISCOVER'\n",
    "\n",
    "print(\"\")\n",
    "print(\"Lab #: \"+str(labnumber))\n",
    "print(\"Schema name: \" + str(schema_name))\n",
    "print(\"Table name: \" + str(table_name))\n",
    "\n",
    "%sql -e SET CURRENT SCHEMA {schema_name}"
   ]
  },
  {
   "cell_type": "markdown",
   "metadata": {
    "id": "e32ed550-7490-4a07-a57f-afc577672226"
   },
   "source": [
    "Run next cell to create a table with a single INTEGER column containing values from 1 to 10. The **-q** flag in the %sql command supresses any warning message if the table already exists."
   ]
  },
  {
   "cell_type": "code",
   "execution_count": null,
   "metadata": {
    "id": "10670022-09df-4fcf-8cff-ae7fe10590a2"
   },
   "outputs": [],
   "source": [
    "sqlin = f'''\n",
    "DROP TABLE {table_name}; \n",
    "CREATE TABLE {table_name} (A INT); \n",
    "INSERT INTO {table_name} VALUES 1,2,3,4,5,6,7,8,9,10; \n",
    "SELECT * FROM {table_name}; \n",
    "'''\n",
    "\n",
    "%sql -q {sqlin}"
   ]
  },
  {
   "cell_type": "markdown",
   "metadata": {
    "id": "4a71e3a7-f85b-44eb-bc85-f740c3f84ea0"
   },
   "source": [
    "Run the next two cells to create the same table in a schema ending in **B**. It is populated with values from 11 to 20."
   ]
  },
  {
   "cell_type": "code",
   "execution_count": null,
   "metadata": {
    "id": "fe369144-b2fe-4417-8ece-ca898b5106c8"
   },
   "outputs": [],
   "source": [
    "schema_name = engineer+'B'\n",
    "table_name = 'DISCOVER'\n",
    "\n",
    "print(\"\")\n",
    "print(\"Lab #: \"+str(labnumber))\n",
    "print(\"Schema name: \" + str(schema_name))\n",
    "print(\"Table name: \" + str(table_name))\n",
    "\n",
    "%sql -e SET CURRENT SCHEMA {schema_name}"
   ]
  },
  {
   "cell_type": "code",
   "execution_count": null,
   "metadata": {
    "id": "efae00b3-edb9-4de5-b01c-85fdb1fe5bf9"
   },
   "outputs": [],
   "source": [
    "sqlin = f'''\n",
    "DROP TABLE {table_name}; \n",
    "CREATE TABLE {table_name} (A INT); \n",
    "INSERT INTO {table_name} VALUES 11,12,13,14,15,16,17,18,19,20; \n",
    "SELECT * FROM {table_name}; \n",
    "'''\n",
    "%sql -q {sqlin}"
   ]
  },
  {
   "cell_type": "markdown",
   "metadata": {
    "id": "a5c86b66-d410-4934-9888-43bd7de97e26"
   },
   "source": [
    "Run the next cell to see all the tables in the database you just created. "
   ]
  },
  {
   "cell_type": "code",
   "execution_count": null,
   "metadata": {
    "id": "179831c5-cb4e-423e-a311-4524ff348a4c"
   },
   "outputs": [],
   "source": [
    "%sql SELECT TABSCHEMA, TABNAME FROM SYSCAT.TABLES WHERE TABSCHEMA LIKE '{engineer}%'"
   ]
  },
  {
   "cell_type": "markdown",
   "metadata": {
    "id": "a3a5acd1-b4e6-44be-9f2a-af91043d0b70"
   },
   "source": [
    "Run the next cell to see all the tables in the database that are like **DISCOVER**. You may see tables created by other people running the lab. "
   ]
  },
  {
   "cell_type": "code",
   "execution_count": null,
   "metadata": {
    "id": "87ae9030-7b0d-4305-8325-2f8b703794b5"
   },
   "outputs": [],
   "source": [
    "%sql SELECT TABSCHEMA, TABNAME FROM SYSCAT.TABLES WHERE TABNAME LIKE 'DISCOVER%'"
   ]
  },
  {
   "cell_type": "markdown",
   "metadata": {
    "id": "5c4a895f-717a-405c-8f8c-5634332479d8"
   },
   "source": [
    "### Virtualizing your new Tables\n",
    "Now that you have created two new tables you can virtualize that data and make it look like a single table in your database.\n",
    "1. Return to the IBM Cloud Pak for Data Console\n",
    "2. Click **Virtualize** in the Data Virtualization menu if you are not still in the Virtualize page\n",
    "3. Click the refresh icon to update the list of available tables. Data Virtualization caches the last search to avoid a long search through all your data source unless you need it.\n",
    "    <img src=\"https://github.com/Db2-DTE-POC/CPDDVHOL4/blob/main/media/RefreshIcon.png?raw=true\">\n",
    "3. Enter your current userid, for example DATAENGINEER1, in the search bar. (The search automatically looks for partial as well as full matches.) \n",
    "\n",
    "    <img src=\"https://github.com/Db2-DTE-POC/CPDDVHOL4/blob/main/media/Virtualize1.png?raw=true\">\n",
    "\n",
    "6. Select the two tables you just created by clicking the **check box** beside each table. Make sure you only select those for your LABDATAENGINEER schema. (Your table names will include the number of your lab participant number.)\n",
    "\n",
    "    <img src=\"https://github.com/Db2-DTE-POC/CPDDVHOL4/blob/main/media/Virtualize2.png?raw=true\">\n",
    "\n",
    "7. Click **Add to Cart**. Notice that the number of items in your cart is now **2**.\n",
    "\n",
    "    <img src=\"https://github.com/Db2-DTE-POC/CPDDVHOL4/blob/main/media/Screen Shot 2020-07-16 at 3.29.37 PM.png?raw=true\">\n",
    "\n",
    "8. Click **View Cart**\n",
    "\n",
    "    <img src=\"https://github.com/Db2-DTE-POC/CPDDVHOL4/blob/main/media/Screen Shot 2020-07-16 at 3.29.43 PM.png?raw=true\">\n",
    "\n",
    "    <img src=\"https://github.com/Db2-DTE-POC/CPDDVHOL4/blob/main/media/Virtualize3.png?raw=true\">\n",
    "    \n",
    "9. Change the name of your two tables from DISCOVER to **DISCOVERA** and **DISCOVERB**. These are the new names that you will be able to use to find your tables in the Data Virtualization database. Don't change the Schema name. It is unique to your current userid. \n",
    "\n",
    "  <img src=\"https://github.com/Db2-DTE-POC/CPDDVHOL4/blob/main/media/Virtualize4.png?raw=true\">\n",
    "\n",
    "10. Click **Back** upper right of the page. We are going to add one more thing to your cart.\n",
    "\n",
    "    <img src=\"https://github.com/Db2-DTE-POC/CPDDVHOL4/blob/main/media/Screen Shot 2020-07-16 at 3.31.25 PM.png?raw=true\">\n",
    "\n",
    "11. Click the gear icon at the upper-right of the page. \n",
    "\n",
    "    <img src=\"https://github.com/Db2-DTE-POC/CPDDVHOL4/blob/main/media/Screen Shot 2020-07-16 at 3.31.44 PM.png?raw=true\">\n",
    "    \n",
    "12. Check the box beside **Group tables with identical names**. Notice how all the tables called **DISCOVER** have been grouped together into a single entry.\n",
    "    \n",
    "    <img src=\"https://github.com/Db2-DTE-POC/CPDDVHOL4/blob/main/media/Screen Shot 2020-07-16 at 3.31.55 PM.png?raw=true\">    \n",
    "\n",
    "13. Select the row were all your DISCOVER tables have been grouped together\n",
    "14. Click **Add to cart**. \n",
    "15. Click **View cart**\n",
    "\n",
    "    <img src=\"https://github.com/Db2-DTE-POC/CPDDVHOL4/blob/main/media/Screen Shot 2020-07-16 at 3.33.09 PM.png?raw=true\">\n",
    "    \n",
    "    You should now see three items in your cart.\n",
    "16. Change the name of the new combined table to **DISCOVERFOLD**\n",
    "\n",
    "    <img src=\"https://github.com/Db2-DTE-POC/CPDDVHOL4/blob/main/media/Virtualize5.png?raw=true\">\n",
    "\n",
    "17. Hover over the elipsis icon at the right side of the list for the **DISCOVER** table\n",
    "\n",
    "    <img src=\"https://github.com/Db2-DTE-POC/CPDDVHOL4/blob/main/media/Screen Shot 2020-07-16 at 3.33.46 PM.png?raw=true\">\n",
    "\n",
    "18. Select **Edit grouped tables**\n",
    "\n",
    "    <img src=\"https://github.com/Db2-DTE-POC/CPDDVHOL4/blob/main/media/Screen Shot 2020-07-16 at 3.34.02 PM.png?raw=true\">\n",
    "\n",
    "19. Deselect all the tables except for those in one of the schemas you created. You should now have two tables selected. \n",
    "20. Click **Apply**\n",
    "21. Select **My Virtualized Data**. \n",
    "22. Click **Virtualize**. You see that three new virtual tables have been created. \n",
    "\n",
    "    <img src=\"https://github.com/Db2-DTE-POC/CPDDVHOL4/blob/main/media/Screen Shot 2020-07-16 at 3.34.39 PM.png?raw=true\">\n",
    "    \n",
    "    The Virtual tables created dialog box opens.\n",
    "\n",
    "    <img src=\"https://github.com/Db2-DTE-POC/CPDDVHOL4/blob/main/media/Virtualize6.png?raw=true\">\n",
    "     \n",
    "23. Click **View my virtualized data**. You return to the My virtualized data page."
   ]
  },
  {
   "cell_type": "markdown",
   "metadata": {
    "id": "3971592c-d5ef-408d-a46a-3a699328bd02"
   },
   "source": [
    "### Working with your new tables\n",
    "1. Enter DISCOVER\n",
    "\n",
    "    <img src=\"https://github.com/Db2-DTE-POC/CPDDVHOL4/blob/main/media/Screen Shot 2020-07-16 at 3.35.31 PM.png?raw=true\">\n",
    "    \n",
    "You should see the three virtual tables you just created. Notice that you do not see tables that other users have created. By default, Data Engineers only see virtualized tables they have virtualized or virtual tables where they have been given access by other users. \n",
    "2. Click the elipsis (...) beside your **DISCOVERFOLD** table and select **Preview** to confirm that it contains 20 rows.\n",
    "3. Click **SQL Editor** from the Data Virtualization menu\n",
    "\n",
    "<img src=\"https://github.com/Db2-DTE-POC/CPDDVHOL4/blob/main/media/DataVirtualizationMainMenu.png?raw=true\">\n",
    "\n",
    "3. Click **Add new script +** \n",
    "4. Click **Create New** to create a new blank SQL Script\n",
    "\n",
    "    <img src=\"https://github.com/Db2-DTE-POC/CPDDVHOL4/blob/main/media/Screen Shot 2020-07-16 at 3.54.39 PM.png?raw=true\">\n",
    "\n",
    "4. Enter **SELECT * FROM DISCOVERFOLD ORDER BY A;** into the SQL Editor\n",
    "\n",
    "    <img src=\"https://github.com/Db2-DTE-POC/CPDDVHOL4/blob/main/media/Screen Shot 2020-07-16 at 3.38.06 PM.png?raw=true\">\n",
    "\n",
    "5. Click **Run All** at the bottom left of the SQL Editor window. \n",
    "\n",
    "    <img src=\"https://github.com/Db2-DTE-POC/CPDDVHOL4/blob/main/media/Screen Shot 2020-07-16 at 3.36.45 PM.png?raw=true\">\n",
    "    \n",
    "6. Review the 20 rows returned in the result. Click **More** to see all the rows. The rows from both tables are combined into this new table.\n",
    "\n",
    "    <img src=\"https://github.com/Db2-DTE-POC/CPDDVHOL4/blob/main/media/Screen Shot 2020-07-16 at 3.38.02 PM.png?raw=true\">\n",
    "\n",
    "Notice that you didn't have to specify the schema for your new virtual tables. The SQL Editor automatically uses the schema associated with your userid that was used when you created your new tables. \n",
    "\n",
    "Now you can:\n",
    "* Create connection to a remote data source \n",
    "* Make a new or existing table in that remote data source look and act like a local table \n",
    "* Fold data from different tables in the same data source or access data sources by folding it together into a single virtual table"
   ]
  },
  {
   "cell_type": "markdown",
   "metadata": {
    "id": "d847b08c-104f-4882-935a-0cbf34a3ec3e"
   },
   "source": [
    "## Gaining Insight from Virtualized Data"
   ]
  },
  {
   "cell_type": "markdown",
   "metadata": {
    "id": "43e39107-4cf2-42c9-b469-0a42bfd3edda"
   },
   "source": [
    "Now that you understand the basics of Data Virtualization you can explore how easy it is to gain insight across multiple data sources without moving data. \n",
    "\n",
    "In the next set of steps you connect to virtualized data from this notebook using your DATAENGINEER userid. You can use the same techniques to connect to virtualized data from applications and analytic tools from outside of IBM Cloud Pak for Data. \n",
    "\n",
    "Connecting to all your virtualized data is just like connecting to a single database. All the complexity of a dozens of tables across multiple databases on different on premises and cloud providers is now as simple as connecting to a single database and querying a table. \n",
    "\n",
    "We are going to connect to the IBM Cloud Pak for Data Virtualization database in exactly the same way we connected to a Db2 database earlier in this lab. However we need to change the detailed connection information in the next notebook cell.\n",
    "\n",
    "Something new for Cloud Pak for Data Version 3.5: The user id and password that you use to log into the Cloud Pak for Data console are the same one that you use to log into the data virtualization service through an application. This greatly simplifies user management. "
   ]
  },
  {
   "cell_type": "markdown",
   "metadata": {
    "id": "7a21f500-7602-462e-bcb8-9d82a6b47b1f"
   },
   "source": [
    "#### Connecting to Data Virtualization SQL Engine\n",
    "Run the cell below. Your DATAENGINEER username is automatically used. "
   ]
  },
  {
   "cell_type": "code",
   "execution_count": 5,
   "metadata": {
    "id": "36496e94-8a6d-4073-8104-91c7ca22b623"
   },
   "outputs": [
    {
     "name": "stdout",
     "output_type": "stream",
     "text": [
      "Connection successful.\n"
     ]
    }
   ],
   "source": [
    "# Connect to the IBM Cloud Pak for Data Virtualization Database from inside CPD\n",
    "database = 'bigsql'\n",
    "user = engineer\n",
    "password = 'tsdvlab'\n",
    "host = 'cpd-cpd-instance.apps.demo.ibmdte.net'\n",
    "port = '31193'\n",
    "\n",
    "%sql CONNECT TO {database} USER {user} USING {password} HOST {host} PORT {port}"
   ]
  },
  {
   "cell_type": "markdown",
   "metadata": {
    "id": "b7b5bff22d4b4aa88830e13538f38bb1"
   },
   "source": [
    "Now that you are connected to the Data Virtualization engine you can query the virtualized tables using all the power in the Db2 SQL query engine. \n",
    "\n",
    "There are five tables that are available in each of the data sources. The examples below use a variety of data sources. For simplicity the schema of each data source represents where the data comes from. For example the NETEZZA.STOCK_SYMBOLS table is a virtual table that retrieves it data from a NETEZZA database. For your own projects you can choose any schema. There is no requirement to choose a schema that represents the source. "
   ]
  },
  {
   "cell_type": "markdown",
   "metadata": {
    "id": "7e78fbd03adf4b058a9d6ff3c3e0ea52"
   },
   "source": [
    "The first table is a list of customer accounts with the current total number of stock trading transactions and the current account balance."
   ]
  },
  {
   "cell_type": "code",
   "execution_count": 6,
   "metadata": {
    "id": "2625f169aee846e899917c44f0fcc3dc"
   },
   "outputs": [
    {
     "data": {
      "text/html": [
       "<div>\n",
       "<style scoped>\n",
       "    .dataframe tbody tr th:only-of-type {\n",
       "        vertical-align: middle;\n",
       "    }\n",
       "\n",
       "    .dataframe tbody tr th {\n",
       "        vertical-align: top;\n",
       "    }\n",
       "\n",
       "    .dataframe thead th {\n",
       "        text-align: right;\n",
       "    }\n",
       "</style>\n",
       "<table border=\"1\" class=\"dataframe\">\n",
       "  <thead>\n",
       "    <tr style=\"text-align: right;\">\n",
       "      <th></th>\n",
       "      <th>COMPANY</th>\n",
       "      <th>SYMBOL</th>\n",
       "    </tr>\n",
       "  </thead>\n",
       "  <tbody>\n",
       "    <tr>\n",
       "      <th>0</th>\n",
       "      <td>Apple Inc.</td>\n",
       "      <td>AAPL</td>\n",
       "    </tr>\n",
       "    <tr>\n",
       "      <th>1</th>\n",
       "      <td>American Express Company</td>\n",
       "      <td>AXP</td>\n",
       "    </tr>\n",
       "    <tr>\n",
       "      <th>2</th>\n",
       "      <td>The Boeing Company</td>\n",
       "      <td>BA</td>\n",
       "    </tr>\n",
       "    <tr>\n",
       "      <th>3</th>\n",
       "      <td>Caterpillar Inc.</td>\n",
       "      <td>CAT</td>\n",
       "    </tr>\n",
       "    <tr>\n",
       "      <th>4</th>\n",
       "      <td>Cisco Systems Inc.</td>\n",
       "      <td>CSCO</td>\n",
       "    </tr>\n",
       "  </tbody>\n",
       "</table>\n",
       "</div>"
      ],
      "text/plain": [
       "                    COMPANY SYMBOL\n",
       "0                Apple Inc.   AAPL\n",
       "1  American Express Company    AXP\n",
       "2        The Boeing Company     BA\n",
       "3          Caterpillar Inc.    CAT\n",
       "4        Cisco Systems Inc.   CSCO"
      ]
     },
     "execution_count": 6,
     "metadata": {},
     "output_type": "execute_result"
    }
   ],
   "source": [
    "%sql -a select * from NETEZZA.STOCK_SYMBOLS ORDER BY SYMBOL FETCH FIRST 5 ROWS ONLY"
   ]
  },
  {
   "cell_type": "markdown",
   "metadata": {
    "id": "be25578215be470eabdb256ae6e56607"
   },
   "source": [
    "The same table is also available from a different source. In this case the STOCK_SYMBOLS table from a virtualized XLSX file is available as XLSX.STOCK_SYMBOLS."
   ]
  },
  {
   "cell_type": "code",
   "execution_count": 7,
   "metadata": {
    "id": "ecb42360447b4ec78c8928a01ab0d288"
   },
   "outputs": [
    {
     "data": {
      "text/html": [
       "<div>\n",
       "<style scoped>\n",
       "    .dataframe tbody tr th:only-of-type {\n",
       "        vertical-align: middle;\n",
       "    }\n",
       "\n",
       "    .dataframe tbody tr th {\n",
       "        vertical-align: top;\n",
       "    }\n",
       "\n",
       "    .dataframe thead th {\n",
       "        text-align: right;\n",
       "    }\n",
       "</style>\n",
       "<table border=\"1\" class=\"dataframe\">\n",
       "  <thead>\n",
       "    <tr style=\"text-align: right;\">\n",
       "      <th></th>\n",
       "      <th>SYMBOL</th>\n",
       "      <th>COMPANY</th>\n",
       "    </tr>\n",
       "  </thead>\n",
       "  <tbody>\n",
       "    <tr>\n",
       "      <th>0</th>\n",
       "      <td>AAPL</td>\n",
       "      <td>Apple Inc.</td>\n",
       "    </tr>\n",
       "    <tr>\n",
       "      <th>1</th>\n",
       "      <td>AXP</td>\n",
       "      <td>American Express Company</td>\n",
       "    </tr>\n",
       "    <tr>\n",
       "      <th>2</th>\n",
       "      <td>BA</td>\n",
       "      <td>The Boeing Company</td>\n",
       "    </tr>\n",
       "    <tr>\n",
       "      <th>3</th>\n",
       "      <td>CAT</td>\n",
       "      <td>Caterpillar Inc.</td>\n",
       "    </tr>\n",
       "    <tr>\n",
       "      <th>4</th>\n",
       "      <td>CSCO</td>\n",
       "      <td>Cisco Systems</td>\n",
       "    </tr>\n",
       "  </tbody>\n",
       "</table>\n",
       "</div>"
      ],
      "text/plain": [
       "  SYMBOL                   COMPANY\n",
       "0   AAPL                Apple Inc.\n",
       "1    AXP  American Express Company\n",
       "2     BA        The Boeing Company\n",
       "3    CAT          Caterpillar Inc.\n",
       "4   CSCO             Cisco Systems"
      ]
     },
     "execution_count": 7,
     "metadata": {},
     "output_type": "execute_result"
    }
   ],
   "source": [
    "%sql -a select * from XLSX.STOCK_SYMBOLS ORDER BY SYMBOL FETCH FIRST 5 ROWS ONLY"
   ]
  },
  {
   "cell_type": "markdown",
   "metadata": {
    "id": "9de2c837e13a4b9a86680ebc8e62744e"
   },
   "source": [
    "To keep things simple, the virtualized data sources used in these examples have been encapsulated in views each using the TRADING schema. For example, the SQL below was used to map each virtualized table to a view. So you can create SQL to query the tables using the TRADING schema for each table. Later you can drop and recreate a view using a different source and keep the SQL you will run using the TRADING schema. \n",
    "\n",
    "    CREATE VIEW TRADING.CUSTOMER AS SELECT * FROM DB2OLTPONCPD.CUSTOMER;\n",
    "    CREATE VIEW TRADING.PORTFOLIO AS SELECT * FROM XLSX.PORTFOLIO;\n",
    "    CREATE VIEW TRADING.STOCK_SYMBOLS AS SELECT COMPANY, SYMBOL FROM NETEZZA.STOCK_SYMBOLS;\n",
    "    CREATE VIEW TRADING.STOCK_HISTORY AS SELECT * FROM EDBSTOCKSONPREMISES.STOCK_HISTORY;\n",
    "    CREATE VIEW TRADING.STOCK_TRANSACTIONS AS SELECT * FROM DB2AWS.STOCK_TRANSACTIONS;\n",
    "    CREATE VIEW TRADING.ACCOUNTS AS SELECT * FROM MYSQL.ACCOUNTS;\n"
   ]
  },
  {
   "cell_type": "markdown",
   "metadata": {
    "id": "7defc701dea64f358eeb03e2fde3837b"
   },
   "source": [
    "Now, let's explore some of the queries that we can run to gain insight from these tables. Have a look at the structure of each of the five tables. The represent trading information for a set of customers for a stock brokerage firm. "
   ]
  },
  {
   "cell_type": "code",
   "execution_count": null,
   "metadata": {
    "id": "95f9ed14414a426c82577e92be1e1d4b"
   },
   "outputs": [],
   "source": [
    "%sql -a select * from TRADING.CUSTOMER FETCH FIRST 5 ROWS ONLY"
   ]
  },
  {
   "cell_type": "code",
   "execution_count": null,
   "metadata": {
    "id": "2fadd292c1a840dab2c7ed8da509e86d"
   },
   "outputs": [],
   "source": [
    "%sql -a select * from TRADING.PORTFOLIO FETCH FIRST 5 ROWS ONLY"
   ]
  },
  {
   "cell_type": "code",
   "execution_count": null,
   "metadata": {
    "id": "41cec17bd2e9413e9778f2f728731a62"
   },
   "outputs": [],
   "source": [
    "%sql -a select * from TRADING.STOCK_SYMBOLS FETCH FIRST 5 ROWS ONLY"
   ]
  },
  {
   "cell_type": "code",
   "execution_count": null,
   "metadata": {
    "id": "87a1b626d53243bda8aaee349371a8c3"
   },
   "outputs": [],
   "source": [
    "%sql -a select * from TRADING.STOCK_HISTORY FETCH FIRST 5 ROWS ONLY"
   ]
  },
  {
   "cell_type": "code",
   "execution_count": null,
   "metadata": {
    "id": "40ab05c6bdad425ea3d851a706fa6474"
   },
   "outputs": [],
   "source": [
    "%sql -a select * from TRADING.STOCK_TRANSACTIONS FETCH FIRST 5 ROWS ONLY"
   ]
  },
  {
   "cell_type": "code",
   "execution_count": null,
   "metadata": {
    "id": "2bb6bdd9-6856-4336-ba67-3f015ed53107"
   },
   "outputs": [],
   "source": [
    "%sql -a select * from TRADING.ACCOUNTS FETCH FIRST 10 ROWS ONLY"
   ]
  },
  {
   "cell_type": "markdown",
   "metadata": {
    "id": "02f9df80-36f6-40a6-9798-5b5689a22839"
   },
   "source": [
    "### Building Insight from the Virtualized Tables\n",
    "Once you have tables virtualized you can use all the power of SQL and the Db2 SQL Engine to build complex and rich queries of your data no mater where it was originally located.\n",
    "#### Get Price of a Stock over the Year\n",
    "Set the Stock Symbol in the line below and run the cell. This information is folded together with data coming from two identical tables, one on Db2 database and on on and Informix database. Run the next two cells. Then pick a new stock symbol from the list above, enter it into the cell below and run both cells again.\n",
    "\n",
    "**Source Cloud Pak for Data - Db2 Warehouse**"
   ]
  },
  {
   "cell_type": "code",
   "execution_count": null,
   "metadata": {
    "id": "20c833e5-2f9b-4fd1-bc46-d9a4ed725b65"
   },
   "outputs": [],
   "source": [
    "stock = 'AXP'\n",
    "print('variable stock set to = ' + str(stock))"
   ]
  },
  {
   "cell_type": "code",
   "execution_count": null,
   "metadata": {
    "id": "ca884c4d-39a1-4fde-8849-a90873a1a34f"
   },
   "outputs": [],
   "source": [
    "%%sql -pl\n",
    "SELECT WEEK(TX_DATE) AS WEEK, OPEN FROM TRADING.STOCK_HISTORY\n",
    "WHERE SYMBOL = :stock AND TX_DATE != '2017-12-01'\n",
    "ORDER BY WEEK(TX_DATE) ASC"
   ]
  },
  {
   "cell_type": "markdown",
   "metadata": {
    "id": "f86739d9-5c33-43a2-a44b-53732da4c4e8"
   },
   "source": [
    "#### Trend of Three Stocks\n",
    "This chart shows three stock prices over the course of a year. It uses the same folded stock history information."
   ]
  },
  {
   "cell_type": "code",
   "execution_count": null,
   "metadata": {
    "id": "d25ae779-2897-488c-8ef6-a48481a0ecd2"
   },
   "outputs": [],
   "source": [
    "stocks = ['INTC','MSFT','AAPL']"
   ]
  },
  {
   "cell_type": "code",
   "execution_count": null,
   "metadata": {
    "id": "0184c0b8-ef98-4dc7-8347-8cb352b49a62"
   },
   "outputs": [],
   "source": [
    "%%sql -pl\n",
    "SELECT SYMBOL, WEEK(TX_DATE), OPEN FROM TRADING.STOCK_HISTORY\n",
    "WHERE SYMBOL IN (:stocks) AND TX_DATE != '2017-12-01'\n",
    "ORDER BY WEEK(TX_DATE) ASC"
   ]
  },
  {
   "cell_type": "markdown",
   "metadata": {
    "id": "d8cfe7b6-11e9-4c3e-a3c7-8302bf3119ce"
   },
   "source": [
    "#### 30 Day Moving Average of a Stock\n",
    "Enter the Stock Symbol below to see the 30 day moving average of a single stock."
   ]
  },
  {
   "cell_type": "code",
   "execution_count": null,
   "metadata": {
    "id": "2c6f7c5c-1541-42d9-9180-9582cfb1e682"
   },
   "outputs": [],
   "source": [
    "stock = 'AAPL'"
   ]
  },
  {
   "cell_type": "code",
   "execution_count": null,
   "metadata": {
    "id": "efa8dcd2-275c-43d2-8b25-b72475408276"
   },
   "outputs": [],
   "source": [
    "sqlin = \\\n",
    "\"\"\"\n",
    "SELECT WEEK(TX_DATE) AS WEEK, OPEN, \n",
    "     AVG(OPEN) OVER (\n",
    "       ORDER BY TX_DATE\n",
    "     ROWS BETWEEN 15 PRECEDING AND 15 FOLLOWING) AS MOVING_AVG\n",
    "  FROM TRADING.STOCK_HISTORY\n",
    "     WHERE SYMBOL = :stock\n",
    "  ORDER BY WEEK(TX_DATE)\n",
    "\"\"\"\n",
    "df = %sql {sqlin}\n",
    "txdate= df['WEEK']\n",
    "sales = df['OPEN']\n",
    "avg = df['MOVING_AVG']\n",
    "\n",
    "plt.xlabel(\"Day\", fontsize=12);\n",
    "plt.ylabel(\"Opening Price\", fontsize=12);\n",
    "plt.suptitle(\"Opening Price and Moving Average of \" + stock, fontsize=20);\n",
    "plt.plot(txdate, sales, 'r');\n",
    "plt.plot(txdate, avg, 'b');\n",
    "plt.show();"
   ]
  },
  {
   "cell_type": "markdown",
   "metadata": {
    "id": "b5c75afe-d4af-492b-804c-b5fe0318b3b7"
   },
   "source": [
    "#### Trading volume of INTC versus MSFT and AAPL in first week of November\n",
    "Enter three stock symbols below."
   ]
  },
  {
   "cell_type": "code",
   "execution_count": null,
   "metadata": {
    "id": "a042c801-f88c-4d9f-8865-449208dd6d0a"
   },
   "outputs": [],
   "source": [
    "stocks = ['INTC','MSFT','AAPL']"
   ]
  },
  {
   "cell_type": "code",
   "execution_count": null,
   "metadata": {
    "id": "cedb5123-f6b0-4bc3-ae7f-882a1ce7e0a3"
   },
   "outputs": [],
   "source": [
    "%%sql -pb\n",
    "SELECT SYMBOL, DAY(TX_DATE), VOLUME/1000000 FROM TRADING.STOCK_HISTORY\n",
    "WHERE SYMBOL IN (:stocks) AND WEEK(TX_DATE) =  45\n",
    "ORDER BY DAY(TX_DATE) ASC"
   ]
  },
  {
   "cell_type": "markdown",
   "metadata": {
    "id": "8ee32b6d-f7df-4823-8e70-2caf01ff0f94"
   },
   "source": [
    "#### Show Stocks that Represent at least 3% of the Total Purchases during Week 45"
   ]
  },
  {
   "cell_type": "code",
   "execution_count": null,
   "metadata": {
    "id": "7fada678-59df-4a97-8789-e72d4aa76bf8"
   },
   "outputs": [],
   "source": [
    "%%sql -pie\n",
    "WITH WEEK45(SYMBOL, PURCHASES) AS (\n",
    "  SELECT SYMBOL, SUM(VOLUME * CLOSE) FROM TRADING.STOCK_HISTORY\n",
    "    WHERE WEEK(TX_DATE) =  45 AND SYMBOL <> 'DJIA'\n",
    "  GROUP BY SYMBOL\n",
    "),\n",
    "ALL45(TOTAL) AS (\n",
    "  SELECT SUM(PURCHASES) * .03 FROM WEEK45\n",
    ")\n",
    "SELECT SYMBOL, PURCHASES FROM WEEK45, ALL45\n",
    "WHERE PURCHASES > TOTAL\n",
    "ORDER BY SYMBOL, PURCHASES"
   ]
  },
  {
   "cell_type": "markdown",
   "metadata": {
    "id": "00e21b91-8d9e-4aa5-bb96-89210b657736"
   },
   "source": [
    "### Stock Transaction Table\n",
    "#### Show Transactions by Customer\n",
    "\n",
    "**Source EDB Postgres on Cloud Pak for Data**"
   ]
  },
  {
   "cell_type": "code",
   "execution_count": null,
   "metadata": {
    "id": "00f614e6736c43b38578e401da984287"
   },
   "outputs": [],
   "source": [
    "%sql -a select * from TRADING.STOCK_TRANSACTIONS WHERE CUSTID ='101804' FETCH FIRST 5 ROWS ONLY"
   ]
  },
  {
   "cell_type": "markdown",
   "metadata": {
    "id": "021ef4b7-4494-40cb-9bb2-997820ade117"
   },
   "source": [
    "#### Bought/Sold Amounts of Top 5 stocks "
   ]
  },
  {
   "cell_type": "code",
   "execution_count": null,
   "metadata": {
    "id": "49558fcb-b19a-48f0-8b06-dfe73425d2b2"
   },
   "outputs": [],
   "source": [
    "%%sql -a\n",
    "WITH BOUGHT(SYMBOL, AMOUNT) AS\n",
    "  (\n",
    "  SELECT SYMBOL, SUM(QUANTITY) FROM TRADING.STOCK_TRANSACTIONS\n",
    "  WHERE QUANTITY > 0\n",
    "  GROUP BY SYMBOL\n",
    "  ),\n",
    "SOLD(SYMBOL, AMOUNT) AS\n",
    "  (\n",
    "  SELECT SYMBOL, -SUM(QUANTITY) FROM TRADING.STOCK_TRANSACTIONS\n",
    "  WHERE QUANTITY < 0\n",
    "  GROUP BY SYMBOL\n",
    "  )\n",
    "SELECT B.SYMBOL, B.AMOUNT AS BOUGHT, S.AMOUNT AS SOLD\n",
    "FROM BOUGHT B, SOLD S\n",
    "WHERE B.SYMBOL = S.SYMBOL\n",
    "ORDER BY B.AMOUNT DESC\n",
    "FETCH FIRST 5 ROWS ONLY"
   ]
  },
  {
   "cell_type": "markdown",
   "metadata": {
    "id": "c441f9e6-3ed3-4a3d-b262-4d2610724030"
   },
   "source": [
    "### Customer Accounts\n",
    "#### Show Top 5 Customer Balance\n",
    "These next two examples use data from an Informix database\n",
    "\n",
    "**Source - Informix on Premises**"
   ]
  },
  {
   "cell_type": "code",
   "execution_count": null,
   "metadata": {
    "id": "b0935077-2bf9-4fd7-b241-e70ece0be987"
   },
   "outputs": [],
   "source": [
    "%%sql -a\n",
    "SELECT CUSTID, BALANCE FROM TRADING.ACCOUNTS\n",
    "ORDER BY BALANCE DESC\n",
    "FETCH FIRST 5 ROWS ONLY"
   ]
  },
  {
   "cell_type": "markdown",
   "metadata": {
    "id": "44b57c79-45c5-408d-958b-1b1fc9a9600c"
   },
   "source": [
    "#### Show Bottom 5 Customer Balance\n",
    "**AWS - Db2, Azure - Postgres, Azure - Db2**"
   ]
  },
  {
   "cell_type": "code",
   "execution_count": null,
   "metadata": {
    "id": "da6426c9-9dc0-4f18-aed1-2e5938831e9a"
   },
   "outputs": [],
   "source": [
    "%%sql -a\n",
    "SELECT CUSTID, BALANCE FROM TRADING.ACCOUNTS\n",
    "ORDER BY BALANCE ASC\n",
    "FETCH FIRST 5 ROWS ONLY"
   ]
  },
  {
   "cell_type": "markdown",
   "metadata": {
    "id": "045e094c-dc78-4550-b7da-622b2cb234bd"
   },
   "source": [
    "### Selecting Customer Information from MongoDB\n",
    "The MongoDB database (running on premises) has customer information in a document format. In order to materialize the document data as relational tables, a total of four virtual tables are generated by the Data Virtualization engine. The following query shows the tables that are generated for the Customer document collection and how to join them into a single relational table."
   ]
  },
  {
   "cell_type": "code",
   "execution_count": 8,
   "metadata": {
    "id": "de44d576-da63-4629-afce-2e07e3fe6cf6"
   },
   "outputs": [
    {
     "data": {
      "text/html": [
       "<div>\n",
       "<style scoped>\n",
       "    .dataframe tbody tr th:only-of-type {\n",
       "        vertical-align: middle;\n",
       "    }\n",
       "\n",
       "    .dataframe tbody tr th {\n",
       "        vertical-align: top;\n",
       "    }\n",
       "\n",
       "    .dataframe thead th {\n",
       "        text-align: right;\n",
       "    }\n",
       "</style>\n",
       "<table border=\"1\" class=\"dataframe\">\n",
       "  <thead>\n",
       "    <tr style=\"text-align: right;\">\n",
       "      <th></th>\n",
       "      <th>TABSCHEMA</th>\n",
       "      <th>TABNAME</th>\n",
       "      <th>COLCOUNT</th>\n",
       "    </tr>\n",
       "  </thead>\n",
       "  <tbody>\n",
       "    <tr>\n",
       "      <th>0</th>\n",
       "      <td>MONGOONCPD</td>\n",
       "      <td>CUSTOMER_PAYMENT</td>\n",
       "      <td>3</td>\n",
       "    </tr>\n",
       "    <tr>\n",
       "      <th>1</th>\n",
       "      <td>MONGOONCPD</td>\n",
       "      <td>CUSTOMER</td>\n",
       "      <td>2</td>\n",
       "    </tr>\n",
       "    <tr>\n",
       "      <th>2</th>\n",
       "      <td>MONGOONCPD</td>\n",
       "      <td>CUSTOMER_CONTACT</td>\n",
       "      <td>7</td>\n",
       "    </tr>\n",
       "    <tr>\n",
       "      <th>3</th>\n",
       "      <td>MONGOONCPD</td>\n",
       "      <td>CUSTOMER_IDENTITY</td>\n",
       "      <td>4</td>\n",
       "    </tr>\n",
       "  </tbody>\n",
       "</table>\n",
       "</div>"
      ],
      "text/plain": [
       "    TABSCHEMA            TABNAME  COLCOUNT\n",
       "0  MONGOONCPD   CUSTOMER_PAYMENT         3\n",
       "1  MONGOONCPD           CUSTOMER         2\n",
       "2  MONGOONCPD   CUSTOMER_CONTACT         7\n",
       "3  MONGOONCPD  CUSTOMER_IDENTITY         4"
      ]
     },
     "execution_count": 8,
     "metadata": {},
     "output_type": "execute_result"
    }
   ],
   "source": [
    "%sql -a select TABSCHEMA, TABNAME, COLCOUNT from syscat.tables where TABSCHEMA = 'MONGOONCPD' and TABNAME like 'CUSTOMER%'"
   ]
  },
  {
   "cell_type": "markdown",
   "metadata": {
    "id": "00100aa0-cc89-422e-9167-eae9a6574281"
   },
   "source": [
    "The tables are all connected through the CUSTOMERID field, which is based on the generated _id of the main CUSTOMER colllection. In order to reassemble these tables into a document, we must join them using this unique identifier. An example of the contents of the CUSTOMER_CONTACT table is shown below."
   ]
  },
  {
   "cell_type": "code",
   "execution_count": 9,
   "metadata": {
    "id": "38e57e56-c5bd-4d59-bee2-0f9586fd8da9"
   },
   "outputs": [
    {
     "data": {
      "text/html": [
       "<div>\n",
       "<style scoped>\n",
       "    .dataframe tbody tr th:only-of-type {\n",
       "        vertical-align: middle;\n",
       "    }\n",
       "\n",
       "    .dataframe tbody tr th {\n",
       "        vertical-align: top;\n",
       "    }\n",
       "\n",
       "    .dataframe thead th {\n",
       "        text-align: right;\n",
       "    }\n",
       "</style>\n",
       "<table border=\"1\" class=\"dataframe\">\n",
       "  <thead>\n",
       "    <tr style=\"text-align: right;\">\n",
       "      <th></th>\n",
       "      <th>CUSTOMER_ID</th>\n",
       "      <th>CITY</th>\n",
       "      <th>ZIPCODE</th>\n",
       "      <th>EMAIL</th>\n",
       "      <th>PHONE</th>\n",
       "      <th>STREET</th>\n",
       "      <th>STATE</th>\n",
       "    </tr>\n",
       "  </thead>\n",
       "  <tbody>\n",
       "    <tr>\n",
       "      <th>0</th>\n",
       "      <td>619BB982F8E51AC4BB9E72DD</td>\n",
       "      <td>Somerset</td>\n",
       "      <td>15501</td>\n",
       "      <td>Eugene.Brock@snailmail.com</td>\n",
       "      <td>531-341-0361</td>\n",
       "      <td>Washington Avenue</td>\n",
       "      <td>PA</td>\n",
       "    </tr>\n",
       "    <tr>\n",
       "      <th>1</th>\n",
       "      <td>619BB982F8E51AC4BB9E72DE</td>\n",
       "      <td>Greenville</td>\n",
       "      <td>29601</td>\n",
       "      <td>Su.Chandler@nada.com</td>\n",
       "      <td>859-223-3389</td>\n",
       "      <td>Elizabeth Street</td>\n",
       "      <td>SC</td>\n",
       "    </tr>\n",
       "    <tr>\n",
       "      <th>2</th>\n",
       "      <td>619BB982F8E51AC4BB9E72DF</td>\n",
       "      <td>Helena</td>\n",
       "      <td>59601</td>\n",
       "      <td>Et.Merrill@nada.com</td>\n",
       "      <td>767-335-9433</td>\n",
       "      <td>Buckingham Drive</td>\n",
       "      <td>MT</td>\n",
       "    </tr>\n",
       "    <tr>\n",
       "      <th>3</th>\n",
       "      <td>619BB982F8E51AC4BB9E72E0</td>\n",
       "      <td>Twin Falls</td>\n",
       "      <td>83301</td>\n",
       "      <td>Na.Wells@snailmail.com</td>\n",
       "      <td>388-588-8354</td>\n",
       "      <td>Prospect Street</td>\n",
       "      <td>ID</td>\n",
       "    </tr>\n",
       "    <tr>\n",
       "      <th>4</th>\n",
       "      <td>619BB982F8E51AC4BB9E72E1</td>\n",
       "      <td>Little Rock</td>\n",
       "      <td>72201</td>\n",
       "      <td>Jam.Lambert@yetii.com</td>\n",
       "      <td>872-384-9838</td>\n",
       "      <td>Elm Street</td>\n",
       "      <td>AR</td>\n",
       "    </tr>\n",
       "  </tbody>\n",
       "</table>\n",
       "</div>"
      ],
      "text/plain": [
       "                CUSTOMER_ID         CITY ZIPCODE                       EMAIL  \\\n",
       "0  619BB982F8E51AC4BB9E72DD     Somerset   15501  Eugene.Brock@snailmail.com   \n",
       "1  619BB982F8E51AC4BB9E72DE   Greenville   29601        Su.Chandler@nada.com   \n",
       "2  619BB982F8E51AC4BB9E72DF       Helena   59601         Et.Merrill@nada.com   \n",
       "3  619BB982F8E51AC4BB9E72E0   Twin Falls   83301      Na.Wells@snailmail.com   \n",
       "4  619BB982F8E51AC4BB9E72E1  Little Rock   72201       Jam.Lambert@yetii.com   \n",
       "\n",
       "          PHONE             STREET STATE  \n",
       "0  531-341-0361  Washington Avenue    PA  \n",
       "1  859-223-3389   Elizabeth Street    SC  \n",
       "2  767-335-9433   Buckingham Drive    MT  \n",
       "3  388-588-8354    Prospect Street    ID  \n",
       "4  872-384-9838         Elm Street    AR  "
      ]
     },
     "execution_count": 9,
     "metadata": {},
     "output_type": "execute_result"
    }
   ],
   "source": [
    "%sql -a SELECT * FROM MONGOONCPD.CUSTOMER_CONTACT FETCH FIRST 5 ROWS ONLY"
   ]
  },
  {
   "cell_type": "markdown",
   "metadata": {
    "id": "4acc7f9b-cd8f-460e-8dd2-26de34904f14"
   },
   "source": [
    "A full document record is shown in the following SQL statement which joins all of the tables together."
   ]
  },
  {
   "cell_type": "code",
   "execution_count": 10,
   "metadata": {
    "id": "b6f5dabd-7202-44f3-9563-39eaef4aee79"
   },
   "outputs": [
    {
     "data": {
      "text/html": [
       "<div>\n",
       "<style scoped>\n",
       "    .dataframe tbody tr th:only-of-type {\n",
       "        vertical-align: middle;\n",
       "    }\n",
       "\n",
       "    .dataframe tbody tr th {\n",
       "        vertical-align: top;\n",
       "    }\n",
       "\n",
       "    .dataframe thead th {\n",
       "        text-align: right;\n",
       "    }\n",
       "</style>\n",
       "<table border=\"1\" class=\"dataframe\">\n",
       "  <thead>\n",
       "    <tr style=\"text-align: right;\">\n",
       "      <th></th>\n",
       "      <th>CUSTID</th>\n",
       "      <th>FIRSTNAME</th>\n",
       "      <th>LASTNAME</th>\n",
       "      <th>BIRTHDATE</th>\n",
       "      <th>CITY</th>\n",
       "      <th>ZIPCODE</th>\n",
       "      <th>EMAIL</th>\n",
       "      <th>PHONE</th>\n",
       "      <th>STREET</th>\n",
       "      <th>STATE</th>\n",
       "      <th>CARD_TYPE</th>\n",
       "      <th>CARD_NO</th>\n",
       "    </tr>\n",
       "  </thead>\n",
       "  <tbody>\n",
       "    <tr>\n",
       "      <th>0</th>\n",
       "      <td>100000</td>\n",
       "      <td>Eugene</td>\n",
       "      <td>Brock</td>\n",
       "      <td>1960-10-13</td>\n",
       "      <td>Somerset</td>\n",
       "      <td>15501</td>\n",
       "      <td>Eugene.Brock@snailmail.com</td>\n",
       "      <td>531-341-0361</td>\n",
       "      <td>Washington Avenue</td>\n",
       "      <td>PA</td>\n",
       "      <td>DYNY</td>\n",
       "      <td>XXXXXXXXXX</td>\n",
       "    </tr>\n",
       "    <tr>\n",
       "      <th>1</th>\n",
       "      <td>100001</td>\n",
       "      <td>Susan</td>\n",
       "      <td>Chandler</td>\n",
       "      <td>1971-02-12</td>\n",
       "      <td>Greenville</td>\n",
       "      <td>29601</td>\n",
       "      <td>Su.Chandler@nada.com</td>\n",
       "      <td>859-223-3389</td>\n",
       "      <td>Elizabeth Street</td>\n",
       "      <td>SC</td>\n",
       "      <td>MCCD</td>\n",
       "      <td>XXXXXXXXXX</td>\n",
       "    </tr>\n",
       "    <tr>\n",
       "      <th>2</th>\n",
       "      <td>100002</td>\n",
       "      <td>Ethan</td>\n",
       "      <td>Merrill</td>\n",
       "      <td>1988-08-02</td>\n",
       "      <td>Helena</td>\n",
       "      <td>59601</td>\n",
       "      <td>Et.Merrill@nada.com</td>\n",
       "      <td>767-335-9433</td>\n",
       "      <td>Buckingham Drive</td>\n",
       "      <td>MT</td>\n",
       "      <td>VASA</td>\n",
       "      <td>XXXXXXXXXX</td>\n",
       "    </tr>\n",
       "  </tbody>\n",
       "</table>\n",
       "</div>"
      ],
      "text/plain": [
       "   CUSTID FIRSTNAME  LASTNAME   BIRTHDATE        CITY ZIPCODE  \\\n",
       "0  100000    Eugene     Brock  1960-10-13    Somerset   15501   \n",
       "1  100001     Susan  Chandler  1971-02-12  Greenville   29601   \n",
       "2  100002     Ethan   Merrill  1988-08-02      Helena   59601   \n",
       "\n",
       "                        EMAIL         PHONE             STREET STATE  \\\n",
       "0  Eugene.Brock@snailmail.com  531-341-0361  Washington Avenue    PA   \n",
       "1        Su.Chandler@nada.com  859-223-3389   Elizabeth Street    SC   \n",
       "2         Et.Merrill@nada.com  767-335-9433   Buckingham Drive    MT   \n",
       "\n",
       "  CARD_TYPE     CARD_NO  \n",
       "0      DYNY  XXXXXXXXXX  \n",
       "1      MCCD  XXXXXXXXXX  \n",
       "2      VASA  XXXXXXXXXX  "
      ]
     },
     "execution_count": 10,
     "metadata": {},
     "output_type": "execute_result"
    }
   ],
   "source": [
    "%%sql -a\n",
    "SELECT C.CUSTOMERID AS CUSTID, \n",
    "       CI.FIRSTNAME, CI.LASTNAME, CI.BIRTHDATE,\n",
    "       CC.CITY, CC.ZIPCODE, CC.EMAIL, CC.PHONE, CC.STREET, CC.STATE,\n",
    "       CP.CARD_TYPE, CP.CARD_NO\n",
    "FROM MONGOONCPD.CUSTOMER C, MONGOONCPD.CUSTOMER_CONTACT CC, \n",
    "     MONGOONCPD.CUSTOMER_IDENTITY CI, MONGOONCPD.CUSTOMER_PAYMENT CP\n",
    "WHERE  CC.CUSTOMER_ID = C.\"_ID\" AND\n",
    "       CI.CUSTOMER_ID = C.\"_ID\" AND\n",
    "       CP.CUSTOMER_ID = C.\"_ID\"\n",
    "FETCH FIRST 3 ROWS ONLY"
   ]
  },
  {
   "cell_type": "markdown",
   "metadata": {
    "id": "c2192437-a155-4514-aa66-2ec6e3821a0b"
   },
   "source": [
    "### Joining Virtualized Data\n",
    "In this final example we use data from four different data sources to answer a complex business question. \"What are the names of the customers in Ohio, who bought the most during the highest trading day of the year (based on the Dow Jones Industrial Index)?\" \n",
    "\n",
    "**Data Sources: Db2 Warehouse, Infomrix, MongoDB, Enterprise Postgres**"
   ]
  },
  {
   "cell_type": "code",
   "execution_count": null,
   "metadata": {
    "id": "6aa432f4-03da-4a55-9502-288c2e6adb85"
   },
   "outputs": [],
   "source": [
    "%%sql -a\n",
    "WITH MAX_VOLUME(AMOUNT) AS (\n",
    "  SELECT MAX(VOLUME) FROM TRADING.STOCK_HISTORY\n",
    "    WHERE SYMBOL = 'DJIA'\n",
    "),\n",
    "HIGHDATE(TX_DATE) AS (\n",
    "  SELECT TX_DATE FROM TRADING.STOCK_HISTORY, MAX_VOLUME M\n",
    "    WHERE SYMBOL = 'DJIA' AND VOLUME = M.AMOUNT\n",
    "),\n",
    "CUSTOMERS_IN_OHIO(CUSTID, LASTNAME) AS (\n",
    "  SELECT C.CUSTOMERID, CI.LASTNAME\n",
    "    FROM  MONGOONCPD.CUSTOMER C, \n",
    "          MONGOONCPD.CUSTOMER_CONTACT CC,\n",
    "          MONGOONCPD.CUSTOMER_IDENTITY CI\n",
    "    WHERE CC.CUSTOMER_ID = C.\"_ID\" AND\n",
    "          CI.CUSTOMER_ID = C.\"_ID\" AND\n",
    "          CC.STATE = 'OH'\n",
    "),\n",
    "TOTAL_BUY(CUSTID,TOTAL) AS (\n",
    "  SELECT C.CUSTID, SUM(SH.QUANTITY * SH.PRICE) \n",
    "    FROM CUSTOMERS_IN_OHIO C, TRADING.STOCK_TRANSACTIONS SH, HIGHDATE HD\n",
    "  WHERE SH.CUSTID = C.CUSTID AND\n",
    "        SH.TX_DATE = HD.TX_DATE AND \n",
    "        SH.QUANTITY > 0 \n",
    "  GROUP BY C.CUSTID\n",
    ")\n",
    "SELECT C.LASTNAME, T.TOTAL \n",
    "  FROM CUSTOMERS_IN_OHIO C, TOTAL_BUY T\n",
    "WHERE C.CUSTID = T.CUSTID\n",
    "ORDER BY TOTAL DESC\n",
    "FETCH FIRST 5 ROWS ONLY"
   ]
  },
  {
   "cell_type": "markdown",
   "metadata": {
    "id": "bb83524c-020d-4945-9a73-00c6ed1e17c3"
   },
   "source": [
    "### Seeing where your Virtualized Data is coming from\n",
    "You may eventually work with a complex Data Virtualization schema with dozens or hundres of data sources. As an administrator or a Data Scientist you may need to understand where data is coming from. \n",
    "\n",
    "Fortunately, the Data Virtualization engine is based on Db2. It includes the same catalog of information as does a Db2 database with some additional features. If you want to work backwards and understand where each of your virtualized tables comes from. The list of virtualized tables is included in the **SYSCAT.NICKNAMES** catalog table. \n",
    "\n",
    "Run the following SQL to see all the virtual tables in your Data Virtualization system. We exclude the **DVSYS** schema since it contains system created virtual tables (nicknames), not user created virtual tables. "
   ]
  },
  {
   "cell_type": "code",
   "execution_count": null,
   "metadata": {
    "id": "16738aff-a3a7-4372-8bc0-d269b77abaeb"
   },
   "outputs": [],
   "source": [
    "%%sql -a\n",
    "SELECT TABSCHEMA, TABNAME\n",
    "  FROM SYSCAT.NICKNAMES\n",
    "    WHERE TABSCHEMA != 'DVSYS'\n",
    "    ORDER BY TABSCHEMA, TABNAME"
   ]
  },
  {
   "cell_type": "markdown",
   "metadata": {
    "id": "1624ed1bf4b54d0593195b5fa89aa640"
   },
   "source": [
    "If you want to see exactly where a virtualized table comes from you can substitute the the schema and virtual table name in the following SQL procedure. For example the next cell retrieves the location of the NETEZZA.STOCK_SYMBOLS table. You can see the source schema name the source table name as well as the connection information."
   ]
  },
  {
   "cell_type": "code",
   "execution_count": null,
   "metadata": {
    "id": "13141fa98bea43c39fa29a561f7d0410"
   },
   "outputs": [],
   "source": [
    "%%sql -a \n",
    "select * from table(dvsys.GET_VT_SOURCES('NETEZZA', 'STOCK_SYMBOLS'))"
   ]
  },
  {
   "cell_type": "markdown",
   "metadata": {
    "id": "6451ed9851894f0f818b68cf5ea60487"
   },
   "source": [
    "You can also find the same information in the Cloud Pak for Data user interface. Look for the **Metadata** option in the interface."
   ]
  },
  {
   "cell_type": "markdown",
   "metadata": {
    "id": "97f90eb64a48425f8f7a268948b9701f"
   },
   "source": [
    "To see the source of all your virtual tables we just need to join the query and the procedure call."
   ]
  },
  {
   "cell_type": "code",
   "execution_count": null,
   "metadata": {
    "id": "7e48a389dd01418594203c422f3adf75"
   },
   "outputs": [],
   "source": [
    "%%sql -a\n",
    "SELECT N.TABSCHEMA AS TABSCHEMA, N.TABNAME AS TABNAME, S.SRCTABNAME AS SRCTABNAME, S.SRCSCHEMA AS SRCSCHEMA, S.SRCTYPE AS TYPE, S.DRIVER AS DRIVER, S.URL AS URL, S.USER AS USER, S.HOSTNAME AS HOSTNAME, S.PORT AS PORT, S.DBNAME AS DBNAME\n",
    "  FROM SYSCAT.NICKNAMES N, TABLE(\n",
    "  DVSYS.GET_VT_SOURCES(N.TABSCHEMA, N.TABNAME)) S\n",
    "  WHERE N.TABSCHEMA != 'DVSYS'"
   ]
  },
  {
   "cell_type": "markdown",
   "metadata": {
    "id": "68881735-b27d-47f7-9a86-cf5869decd5d"
   },
   "source": [
    "As part of this lab, a view had already been created in the DV engine that encapsulates the query above. It is the **ADMIN.REMOTETABLESOURCE** view. Run the following SQL to see how it works. Notice that you can use it just like any table and qualify the results with a where or order by clause. In this example we are listing all the virtual tables that come from a Netezza source server.\n",
    "\n",
    "Access has been granted to all users to this view. But you can choose to limit who can use it by granting or revoking permissions to it."
   ]
  },
  {
   "cell_type": "code",
   "execution_count": null,
   "metadata": {
    "id": "e20ffc633a5445a7af8c853b736245f8"
   },
   "outputs": [],
   "source": [
    "%%sql -a \n",
    "SELECT TABSCHEMA, TABNAME \n",
    "    FROM ADMIN.REMOTETABLESOURCE \n",
    "    WHERE TYPE = 'Netezza'\n",
    "    ORDER BY 'TABSCHEMA', 'TABNAME'"
   ]
  },
  {
   "cell_type": "markdown",
   "metadata": {
    "id": "d1edbbf86065441f8ebba99d3d6b7802"
   },
   "source": [
    "You can also find the which tables a view is dependent on by querying the SYSCAT.TABDEP table. Run the example below. There is a line in the result set for each table that a view is dependent on. For example in the results below, the TRADING.ACCOUNTS view is dependent on on virtual table: INFORMIX.ACCOUNTS. The OHIO query is much more complex and is dependent on a number of views and tables. For example it uses the TRADING.STOCK_HISTORY view which in turn pulls data from the DB2WAREHOUSE.STOCK_HISTORY table. Because of this both dependencies are listed."
   ]
  },
  {
   "cell_type": "code",
   "execution_count": null,
   "metadata": {
    "id": "1154d34209c2438bb86e2d2ab81a55c4"
   },
   "outputs": [],
   "source": [
    "%%sql -a\n",
    "select tabschema,\n",
    "       tabname,\n",
    "       bschema as dependent_schema,\n",
    "       bname as dependent_name\n",
    "from syscat.tabdep\n",
    "where dtype = 'V'\n",
    "      and tabschema not like 'SYS%'\n",
    "      and tabschema = 'TRADING'\n",
    "order by tabschema, tabname, dependent_schema, dependent_name;"
   ]
  },
  {
   "cell_type": "markdown",
   "metadata": {
    "id": "ae620c83-2dee-4c71-ba34-13c81c0a828b"
   },
   "source": [
    "## Advanced Data Virtualization \n",
    "Now that you have seen how powerful and easy it is to gain insight from your existing virtualized data, you can learn more about how to do advanced data virtualization. You will learn how to join different remote tables together to create a new virtual table and how to capture complex SQL into VIEWs.\n",
    "\n",
    "\n",
    "### Joining Tables Together\n",
    "The virtualized tables below come from different data sources on different systems. We can combine them into a single virtual table. \n",
    "\n",
    "1. Select **My virtualized data** from the Data Virtualization menu\n",
    "2. Enter **TRADING** in the find field\n",
    "\n",
    "  <img src=\"https://github.com/Db2-DTE-POC/CPDDVHOL4/blob/main/media/TradingTables.png?raw=true\">\n",
    "  \n",
    "3. Select the **STOCK_TRANSACTIONS** table\n",
    "4. Select the **STOCK_SYMBOLS** table\n",
    "\n",
    "  <img src=\"https://github.com/Db2-DTE-POC/CPDDVHOL4/blob/main/media/TradingTablesSelected.png?raw=true\">\n",
    "  \n",
    "5. Click **Join**\n",
    "6. In table STOCK_SYMBOLS: deselect **SYMBOL**\n",
    "7. In table STOCK_TRANSACTIONS: deselect **TX_NO** \n",
    "8. Click **STOCK_TRANSACTION.SYMBOL** and drag to **STOCK_SYMBOLS.SYMBOL**\n",
    "\n",
    "  <img src=\"https://github.com/Db2-DTE-POC/CPDDVHOL4/blob/main/media/Screen Shot 2020-07-16 at 3.46.50 PM.png?raw=true\">\n",
    " \n",
    "9. Click **Next**\n",
    "\n",
    "  <img src=\"https://github.com/Db2-DTE-POC/CPDDVHOL4/blob/main/media/Screen Shot 2020-07-16 at 3.47.46 PM.png?raw=true\">\n",
    "  \n",
    "10. Check that you can now see both the stock symbol and the full company name. You can also change column names in this page.\n",
    "  \n",
    "  <img src=\"https://github.com/Db2-DTE-POC/CPDDVHOL4/blob/main/media/Screen Shot 2020-07-16 at 3.48.46 PM.png?raw=true\">\n",
    "\n",
    "11. Click **Next**\n",
    "\n",
    "12. Enter **TRANSACTIONS_FULLNAME** into the **Enter view name** field.\n",
    "13. Don't change the default schema. This corresponds to your DATAENGINEER user id. \n",
    "14. Select **My virtualized data** \n",
    "\n",
    "  <img src=\"https://github.com/Db2-DTE-POC/CPDDVHOL4/blob/main/media/Screen Shot 2020-07-16 at 3.52.03 PM.png?raw=true\">\n",
    "  \n",
    "15. Click **CREATE VIEW**. You see the successful Join View window.\n",
    "\n",
    "  <img src=\"https://github.com/Db2-DTE-POC/CPDDVHOL4/blob/main/media/SuccessfulJoin.png?raw=true\"> \n",
    "  \n",
    "16. Click **View my virtualized data**\n",
    "17. Click the elipsis menu beside **TRANSACTIONS_FULLNAME**\n",
    "18. Click **Preview**. You can confirm that your new join is working.\n",
    "18. Click **Back**\n",
    "19. Click **View meta data** from the **TRANSACTIONS_FULLNAME** elipsis menu.\n",
    "    <img src=\"https://github.com/Db2-DTE-POC/CPDDVHOL4/blob/main/media/Screen Shot 2020-07-16 at 3.53.20 PM.png?raw=true\"> \n",
    "\n",
    "20. Click **Creation SQL**. You can review the statement used to create the view that joins the two tables together.   \n",
    "21. Click the **X** at the upper-right of the View screen.\n",
    "22. Click **Back**\n",
    "\n",
    "You can now join virtualize tables together to combine them into new virtualized tables. Now that you know how to perform simple table joins you can learn how to combine multiple data sources and virtual tables using the powerful SQL query engine that is part of the IBM Cloud Pak for Data - Virtualization."
   ]
  },
  {
   "cell_type": "markdown",
   "metadata": {
    "id": "75407de6-a62e-41c1-87c4-d8a6825ab99c"
   },
   "source": [
    "### Using the SQL Editor to Answer Complex Business Questions\n",
    "The IBM Cloud Pak for Data Virtualization Administrator has set up more complex data from multiple source for the next steps. The administrator has also given you access to this virtualized data. You may have noticed this in previous steps. \n",
    "1. Select **My virtualized data** from the Data Virtualiztion menu. All of these virtualized tables look and act like normal Db2 tables. \n",
    "2. Click **Preview** for any of the tables to see what they contain.\n",
    "3. Select **Run SQL** from the Data Virtualization menu.\n",
    "4. Click **Add new script**\n",
    "\n",
    "  <img src=\"https://github.com/Db2-DTE-POC/CPDDVHOL4/blob/main/media/Screen Shot 2020-07-16 at 3.54.26 PM.png?raw=true\">\n",
    "  \n",
    "5. Click **Open a script to edit**\n",
    "8. Search for **OHIO Query**\n",
    "9. Select and expand the **OHIO QUERY**\n",
    "\n",
    "  <img src=\"https://github.com/Db2-DTE-POC/CPDDVHOL4/blob/main/media/Screen Shot 2020-07-16 at 4.59.25 PM.png?raw=true\">\n",
    "\n",
    "10. Click the **Open a script to edit** icon to open the script in the SQL Editor. \n",
    "11. Click **Run All**\n",
    "\n",
    "  <img src=\"https://github.com/Db2-DTE-POC/CPDDVHOL4/blob/main/media/Screen Shot 2020-07-16 at 4.59.50 PM.png?raw=true\">\n",
    "\n",
    "This script is a complex SQL join query that uses data from many of the virtual data sources you explored in the first steps of this lab. While the SQL looks complex the author of the query did not have be aware that the data was coming from multiple sources. Everything used in this query looks like it comes from a single database, not eight different data sources across eight different systems on premises or in the Cloud. "
   ]
  },
  {
   "cell_type": "markdown",
   "metadata": {
    "id": "6ed6e027-556c-4aa7-b0d3-c72e2b525826"
   },
   "source": [
    "### Making Complex SQL Simple to Consume\n",
    "You can easily make this complex query easy for a user to consume. Instead of sharing this query with other users, you can wrap the query into a view that looks and acts like a simple table. \n",
    "1. Enter **CREATE VIEW MYOHIOQUERY AS** in the SQL Editor at the first line below the comment and before the **WITH** clause\n",
    "\n",
    "  <img src=\"https://github.com/Db2-DTE-POC/CPDDVHOL4/blob/main/media/Screen Shot 2020-07-16 at 5.00.24 PM.png?raw=true\">\n",
    "\n",
    "2. Click **Run all**\n",
    "3. Click **Add a new script**\n",
    "5. Click **Choose script source**\n",
    "6. Click **Create new**\n",
    "7. Enter **SELECT * FROM MYOHIOQUERY;**\n",
    "8. Click **Run all**\n",
    "9. Add another line in your script: **SELECT LASTNAME FROM MYOHIOQUERY WHERE TOTAL > 1000;**\n",
    "10. Click **Run all**\n",
    "\n",
    "Now you have a very simple virtualized table that is pulling data from eight different data sources, combining the data together to resolve a complex business problem. In the next step you will share your new virtualized data with a user."
   ]
  },
  {
   "cell_type": "markdown",
   "metadata": {
    "id": "872c1a85-c6e0-4e93-bb23-077af9565fb3"
   },
   "source": [
    "### Sharing Virtualized Tables\n",
    "1. Select **Virtualization->My virtualized data** from the Data Virtualization Menu.\n",
    "2. Click the elipsis (...) menu to the right of the **MYOHIOQUERY** virtualized table\n",
    "\n",
    "  <img src=\"https://github.com/Db2-DTE-POC/CPDDVHOL4/blob/main/media/OHIOSearch.png?raw=true\">\n",
    "  \n",
    "3. Select **Manage Access** from the elipsis menu\n",
    "\n",
    "  <img src=\"https://github.com/Db2-DTE-POC/CPDDVHOL4/blob/main/media/Screen Shot 2020-07-17 at 1.45.18 PM.png?raw=true\">\n",
    " \n",
    "3. Click **Grant access**\n",
    "\n",
    "  <img src=\"https://raw.githubusercontent.com/Db2-DTE-POC/CPDDVLAB/master/media/GrantAccess.png?raw=true\">\n",
    " \n",
    "3. Click **Grant access**\n",
    "4. Search for **User**. \n",
    "\n",
    "  <img src=\"https://github.com/Db2-DTE-POC/CPDDVHOL4/blob/main/media/GrantSearch.png?raw=true\">\n",
    "\n",
    "4. Check the box beside **Lab User** and click **Add users**\n",
    "    <img src=\"https://github.com/Db2-DTE-POC/CPDDVHOL4/blob/main/media/GrantSelectUser.png?raw=true\">\n",
    "  \n",
    "5. Click **Add**\n",
    "\n",
    "You should now see that the **Lab User** id has view-only access to the new virtualized table. \n",
    "\n",
    "  <img src=\"https://github.com/Db2-DTE-POC/CPDDVHOL4/blob/main/media/GrantUserAdded.png?raw=true\">\n",
    "\n",
    "Next switch to the **Lab User** id to check that you can see the data you have just granted access for.\n",
    "\n",
    "9. Click the user icon at the very top right of the console\n",
    "10. Click **Log out**\n",
    "11. Sign in using the **labuser** id with password **tsdvlab**\n",
    "12. Click the three bar menu at the top left of the IBM Cloud Pak for Data console\n",
    "13. Select **Data Virtualization->My virtualized Data**\n",
    "\n",
    "You should see the **MYOHIOQUERY** with the schema from your engineer userid in the list of virtualized data.\n",
    "\n",
    "14. Make a note of the schema of the MYOHIOQUERY in your list of virtualized tables. It starts with **DATAENGINEER** which corresponds to your username.\n",
    "15. Select the **SQL Editor** from the Data virtualization menu\n",
    "16. Click **Create new** to open a new SQL Editor window\n",
    "17. Enter **SELECT * FROM DATAENGINEERx.MYOHIOQUERY** where x is the user number of your engineer user. The view created by your engineer user was created in their default schema. \n",
    "18. Click **Run all**\n",
    "19. Add the following to your query: ** WHERE TOTAL > 3000 ORDER BY TOTAL**\n",
    "20. Click **</>** to format the query so it is easiler to read\n",
    "21. Click **Run all**\n",
    "\n",
    "You can see how you have just make a very complex data set extremely easy to consume by a data user. They don't have to know how to connect to multiple data sources or how to combine the data using complex SQL. You can hide that complexity while ensuring only the right user has access to the right data. \n",
    "\n",
    "In the next steps you will learn how to access virtualized data from outside of IBM Cloud Pak for Data."
   ]
  },
  {
   "cell_type": "markdown",
   "metadata": {
    "id": "d7ccd1ad-33d0-44a0-bead-34ec602671fa"
   },
   "source": [
    "### Allowing User to Access Virtualized Data with Analytic Tools\n",
    "In the next set of steps you connect to virtualized data from this notebook using the **LABUSER** userid. \n",
    "\n",
    "Just like you connected to IBM Cloud Pak for Data Virtualized Data using your DATAENGINEER user id you can connect using the LABUSER id. The cell below is prefilled since everyone will use the same LABUSER id."
   ]
  },
  {
   "cell_type": "markdown",
   "metadata": {
    "id": "877f0c8d-48f0-42b1-9a9a-ee7ec2b39f8a"
   },
   "source": [
    "#### Connecting a USER to Data Virtualization SQL Engine"
   ]
  },
  {
   "cell_type": "code",
   "execution_count": null,
   "metadata": {
    "id": "afb87583-a8cd-4ac2-8e33-0a115c3382b6"
   },
   "outputs": [],
   "source": [
    "# Connect to the IBM Cloud Pak for Data Virtualization Database from inside CPD\n",
    "database = 'bigsql'\n",
    "user = 'labuser'\n",
    "password = 'tsdvlab'\n",
    "host = 'cpd-cpd-instance.apps.demo.ibmdte.net'\n",
    "port = '31193'\n",
    "%sql CONNECT TO {database} USER {user} USING {password} HOST {host} PORT {port}"
   ]
  },
  {
   "cell_type": "markdown",
   "metadata": {
    "id": "fe0c6acf-200f-4e24-9ab4-1bc5144738f5"
   },
   "source": [
    "Now you can try out the view that was created by the DATAENGINEER userid. \n",
    "\n",
    "Substitute the **x** for the schema used by your ***DATAENGINEERx*** user in the next two cells before you run them."
   ]
  },
  {
   "cell_type": "code",
   "execution_count": null,
   "metadata": {
    "id": "bfb8e9cb-25e7-4ec2-a1b0-80a47c491d31"
   },
   "outputs": [],
   "source": [
    "%sql SELECT * FROM DATAENGINEERx.MYOHIOQUERY WHERE TOTAL > 3000 ORDER BY TOTAL;"
   ]
  },
  {
   "cell_type": "markdown",
   "metadata": {
    "id": "3c8958f5-5c28-4011-981a-694cac362722"
   },
   "source": [
    "Only DATAENGINEER virtualized tables that have been authorized for the LABUSER to see are available. Try running the next cell. You should receive an error that the current user does not have the required authorization or privlege to perform the operation."
   ]
  },
  {
   "cell_type": "code",
   "execution_count": null,
   "metadata": {
    "id": "d3e55ef5-3e86-4167-a91b-49fd99e8b103"
   },
   "outputs": [],
   "source": [
    "%sql SELECT * FROM DATAENGINEERx.DISCOVERFOLD;"
   ]
  },
  {
   "cell_type": "markdown",
   "metadata": {
    "id": "079557bc-4785-4ac5-a388-38193610a1b2"
   },
   "source": [
    "### Next Steps:\n",
    "Before you start the next section you should log out from the shared lab userid and log back in using your DATAENGINEER id:\n",
    "1. Click the user icon at the very top right of the console\n",
    "2. Click **Log out**\n",
    "3. Sign in using your DATAENGINEERx user id\n",
    "4. Click the three bar menu at the top left of the IBM Cloud Pak for Data console\n",
    "5. Select **Data Virtualization**\n",
    "\n",
    "Now you can use IBM Cloud Pak for Data to make even complex data and queries from different data sources, on premises and across a multi-vendor Cloud look like simple tables in a single database. You are ready for some more advanced labs. \n",
    "\n",
    "1. Learn how to classify and protect your virtualized data using Watson Knowledge Catalog\n",
    "2. Use Open RESTful Services to connect to the IBM Cloud Pak for Data Virtualization \n",
    "    * Everything you can do in the IBM Cloud Pak for Data User Interface is accessible through Open RESTful APIs\n",
    "    * Learn how to automate and script your managment of Data Virtualization using RESTful API\n",
    "    * Learn how to accelerate appliation development by accessing virtaulied data through RESTful APIs"
   ]
  },
  {
   "cell_type": "markdown",
   "metadata": {
    "id": "7fc51219-0326-4644-967e-c3c81bccc8f8"
   },
   "source": [
    "## Protecting Virtualized Data using Watson Knowledge Catalog"
   ]
  },
  {
   "cell_type": "markdown",
   "metadata": {
    "id": "57e01129-412b-4a05-b07f-46126f170ef8"
   },
   "source": [
    "IBM Watson Knowledge Catalog (included with IBM Cloud Pak for Data) powers intelligent, self-service discovery of data, models and more, activating them for artificial intelligence, machine learning and deep learning. Access, curate, categorize and share data, knowledge assets and their relationships, wherever they reside.\n",
    "\n",
    "You can use a Data Governance data protection rule to mask virtual data. When queried, masked columns return disguised data.\n",
    "\n",
    "Data masking applies to the result sets of the queries only. The original data in tables and columns remains untouched. Masking does not apply to query predicates. You can use data masking to avoid exposing sensitive data. However, data masking does not stop Data Virtualization user from connecting to the service and running queries against that data. Users can join and group data, generate the reports, perform analytics and collect insights by using the raw data, while masking the result set only.\n",
    "\n",
    "More information is available at: https://www.ibm.com/support/producthub/icpdata/docs/content/SSQNUZ_current/cpd/svc/dv/masking.html"
   ]
  },
  {
   "cell_type": "markdown",
   "metadata": {
    "id": "28bf7762e1fd409688eeb7d50e6c5b19"
   },
   "source": [
    "### Protecting the Credit Card Numbers in the Virtual Customer Data Tables\n",
    "In this example you explore how to protect data through Data Virtualization and Watson Catalog. The CUSTOMER tables included in this lab environment include a column containing confidential customer credit card data. The lab environment is setup with rules that classify credit card numbers are confidential. While the user who created the virtual table or view can see all the data, other users only see redacted data in the credit card number column."
   ]
  },
  {
   "cell_type": "markdown",
   "metadata": {
    "id": "89d8582e-ab8f-4c95-8f87-17f987a97501"
   },
   "source": [
    "### Enable Policy Enforcement of Virtualized Data\n",
    "Before you can establish rules to protect virtualized data, the Cloud Pak for Data Administrator must enable policy enforcement and data visibility restricitions in the Data Virtualization Settings. As a Data Engineer user you do not have access to Data Virtualization settings. You need Cloud Pak for Data Administrative authority. To make the changes on your own cluster: Select **Service Settings** from the Data Virtualization menu and select the **Goverance** tab. You can then ensure that **Goverance policies** and **Publish to catalog** are both set to **Enforced**.\n",
    "\n",
    "<img src=\"https://github.com/Db2-DTE-POC/CPDDVHOL4/blob/main/media/Screen Shot 2020-10-05 at 11.50.37 AM.png?raw=true\">"
   ]
  },
  {
   "cell_type": "markdown",
   "metadata": {
    "id": "a0990678-4b0d-4010-a2ad-7267a41f9f5d"
   },
   "source": [
    "### Request to Publish Virtualized Tables to Watson Knowledge Catalog\n",
    "To protect virtualized data you need to add the virtualized table to the Watson Knowledge Catalog. Since we have one rule already in place any of the virtual tables you create were automatically added to the catalog. \n",
    "\n",
    "You may remember seeing the following message when you created your virtual tables:\n",
    "<img src=\"https://github.com/Db2-DTE-POC/CPDDVHOL4/blob/main/media/Virtualize7.png?raw=true\">"
   ]
  },
  {
   "cell_type": "markdown",
   "metadata": {
    "id": "c682b7b3-0297-4aeb-8e5d-113f385eed81"
   },
   "source": [
    "### Approving Publish Request\n",
    "In an environment without any data rules, a user with Data Steward authority needs to approve the request to add the CUSTOMER_PAYMENT table in your DATAENGINEER schema to the catalog. In this lab that happened automatically to ensure that no data escapes the rules. "
   ]
  },
  {
   "cell_type": "markdown",
   "metadata": {
    "id": "7ff53cb6-edbb-4990-8a1f-d2fb9ec15525"
   },
   "source": [
    "### Check and Classify your Virtualized Data\n",
    "Once data has been added to the Watson Knowledge catalog you can review the data and classify it.\n",
    "1. Select **Catalogs** and **All catalogs** from the main Cloud Pak for Data menu\n",
    "2. Click **Default Catalog**\n",
    "3. Enter **CUSTOMER** into the search bar\n",
    "4. Click the **DB2ONCPDOLTP.CUSTOMER** table\n",
    "5. Click the **Profile** tab. Scroll to the right to check the CARD_NO column. If profiling is complete you should see details on all the columns except for CARD_NO.  This includes the distribution of values in each column. Notice that the Credit Card Number column is unavailable because the data in the column is anonymized.\n",
    "<img src=\"https://github.com/Db2-DTE-POC/CPDDVHOL4/blob/main/media/CUSTOMERProfile.png?raw=true\">"
   ]
  },
  {
   "cell_type": "markdown",
   "metadata": {
    "id": "c494208d-d8f7-416f-a4bc-36fdc860d53f"
   },
   "source": [
    "### Review the existing Data Protection Rules\n",
    "Now we can check the rules that are already in place that control how users can access our virtualized data.\n",
    "1. Select **Governace** and **Rules** from the main Cloud Pak for Data menu\n",
    "<img src=\"https://github.com/Db2-DTE-POC/CPDDVHOL4/blob/main/media/Rules.png?raw=true\">\n",
    "2. Click **Mask Credit Card Numbers**\n",
    "<img src=\"https://github.com/Db2-DTE-POC/CPDDVHOL4/blob/main/media/MaskCreditCardNumbers.png?raw=true\">\n",
    "3. Click **Edit**. While, you are not going to nake any changes to the rule, you can review the options.\n",
    "<img src=\"https://github.com/Db2-DTE-POC/CPDDVHOL4/blob/main/media/RuleEdit.png?raw=true\">\n",
    "4. Click **Cancel**\n",
    "\n",
    "You can find out more about Data Protection Rules in the Cloud Pak for Data Knowledge Center: https://www.ibm.com/support/producthub/icpdata/docs/content/SSQNUZ_current/wsj/governance/dmg_rules.html"
   ]
  },
  {
   "cell_type": "markdown",
   "metadata": {
    "id": "16dca2ed-6527-48ce-93a4-e110e9f0571a"
   },
   "source": [
    "### Preview Data in the Cloud Pak for Data Console\n",
    "Once you data has been classified and profiled protection is in place. Following the established protection rule, the credit card number will be redacted (replaced with Xs) everywhere it is accessible through Cloud Pak for Data. As you saw in the last step, it is reacted when you, and other users, interact with it through Watson Knowledge Catalog. \n",
    "\n",
    "It is also redacted if you access the data through the Data Virtualization console. Complete the following steps to see an example:\n",
    "\n",
    "First, switch to the LABUSER id to check that you can see the data you have just granted access for:\n",
    "1. Click the user icon at the very top right of the console\n",
    "2. Click **Log out**\n",
    "3. Sign in using the LABUSER id \n",
    "4. Click the three bar menu at the top left of the IBM Cloud Pak for Data console\n",
    "5. Select **Data Virtualization**\n",
    "\n",
    "Next, preview the data your just protected:\n",
    "1. Select **Data** and **Data virtualization** from the main Cloud Pak for Data menu\n",
    "2. Select **My virtualized data** from the Data virtualization menu\n",
    "3. Enter **CUSTOMER** in the **Find virtual objects** search\n",
    "4. Click the **DB2OLTPONCPD.CUSTOMER** table\n",
    "5. Click the elipsis menu to the right of that row\n",
    "6. Select **Preview**. The CARD_NO column should be redacted with Xs.\n",
    "<img src=\"https://github.com/Db2-DTE-POC/CPDDVHOL4/blob/main/media/MaskedVirtualTable.png?raw=true\">"
   ]
  },
  {
   "cell_type": "markdown",
   "metadata": {
    "id": "820e29c7-a747-46d3-a2b4-c3fc649f96fb"
   },
   "source": [
    "### Test Data Protection\n",
    "Importantly, the Credit Card information is protected when the data is access from an outside application. Let's reconnect to the Data Virtualization Engine as your DATAENGINEER user."
   ]
  },
  {
   "cell_type": "code",
   "execution_count": null,
   "metadata": {
    "id": "33b38c927dce4c3b85eb4782ffcc9d21"
   },
   "outputs": [],
   "source": [
    "# Connect to the IBM Cloud Pak for Data Virtualization Database from inside CPD\n",
    "database = 'bigsql'\n",
    "user = engineer\n",
    "password = 'tsdvlab'\n",
    "host = 'cpd-cpd-instance.apps.demo.ibmdte.net'\n",
    "port = '31193'\n",
    "\n",
    "%sql CONNECT TO {database} USER {user} USING {password} HOST {host} PORT {port}"
   ]
  },
  {
   "cell_type": "markdown",
   "metadata": {
    "id": "8357dc119f2846729ba838754b37dd80"
   },
   "source": [
    "Now we can run a test query"
   ]
  },
  {
   "cell_type": "code",
   "execution_count": null,
   "metadata": {
    "id": "c7d3d371-3ebb-469a-aa7b-6a21f5c8bd0e"
   },
   "outputs": [],
   "source": [
    "%sql SELECT * FROM DB2OLTPONCPD.CUSTOMER FETCH FIRST 10 ROWS ONLY;"
   ]
  },
  {
   "cell_type": "markdown",
   "metadata": {
    "id": "ea8ff1c5a79f4f26892853df8e60b28f"
   },
   "source": [
    "You should see the CARD_NO column results only return Xs. Any application that accesses this data through the Data Virtualization engine will be redacted in the same way. Remember you are still connected through Python as the USER id."
   ]
  },
  {
   "cell_type": "markdown",
   "metadata": {
    "id": "4c09cb78-3674-4f3e-b8d6-597945ec5bb8"
   },
   "source": [
    "## Automating Data Virtualization Setup and Management through REST"
   ]
  },
  {
   "cell_type": "markdown",
   "metadata": {
    "id": "73d2e8f8-7e29-4064-8660-55157d988386"
   },
   "source": [
    "The IBM Cloud Pak for Data Console is only one way you can interact with the Virtualization service. IBM Cloud Pak for Data is built on a set of microservices that communicate with each other and the Console user interface using RESTful APIs. You can use these services to automate anything you can do throught the user interface.\n",
    "\n",
    "This Jupyter Notebook contains examples of how to use the Open APIs to retrieve information from the virtualization service, how to run SQL statements directly against the service through REST and how to provide authoritization to objects. This provides a way write your own script to automate the setup and configuration of the virtualization service. "
   ]
  },
  {
   "cell_type": "markdown",
   "metadata": {
    "hide_input": true,
    "id": "2431cfb8-f955-43fd-b2ff-744dce710666"
   },
   "source": [
    "The next part of the lab relies on a set of base classes to help you interact with the RESTful Services API for IBM Cloud Pak for Data Virtualization. You can access this library on GITHUB. The commands below download the library and run them as part of this notebook.\n",
    "<pre>\n",
    "&#37;run CPDDVRestClass.ipynb\n",
    "</pre>\n",
    "The cell below loads the RESTful Service Classes and methods directly from GITHUB. Note that it will take a few seconds for the extension to load, so you should generally wait until the \"Db2 Extensions Loaded\" message is displayed in your notebook. You can click on the following like to browse the RESTful Services class file: https://github.com/Db2-DTE-POC/CPDDVLAB/blob/master/CPDDVRestClassV35.ipynb. You are free to download and reuse this sample for your own applications.\n",
    "\n",
    "1. Click the cell below\n",
    "2. Click **Run**"
   ]
  },
  {
   "cell_type": "code",
   "execution_count": 13,
   "metadata": {
    "id": "462bf045-b249-446c-b5ed-ff04b8dd097a"
   },
   "outputs": [
    {
     "name": "stdout",
     "output_type": "stream",
     "text": [
      "--2021-12-02 21:01:25--  https://raw.githubusercontent.com/Db2-DTE-POC/CPDDVLAB/master/CPDDVRestClassV402.ipynb\n",
      "Resolving raw.githubusercontent.com (raw.githubusercontent.com)... 185.199.111.133, 185.199.109.133, 185.199.108.133, ...\n",
      "Connecting to raw.githubusercontent.com (raw.githubusercontent.com)|185.199.111.133|:443... connected.\n",
      "HTTP request sent, awaiting response... 200 OK\n",
      "Length: 12964 (13K) [text/plain]\n",
      "Saving to: ‘CPDDVRestClassV402.ipynb’\n",
      "\n",
      "CPDDVRestClassV402. 100%[===================>]  12.66K  --.-KB/s    in 0s      \n",
      "\n",
      "2021-12-02 21:01:25 (45.8 MB/s) - ‘CPDDVRestClassV402.ipynb’ saved [12964/12964]\n",
      "\n"
     ]
    }
   ],
   "source": [
    "!wget -O CPDDVRestClassV402.ipynb https://raw.githubusercontent.com/Db2-DTE-POC/CPDDVLAB/master/CPDDVRestClassV402.ipynb\n",
    "%run CPDDVRestClassV402.ipynb"
   ]
  },
  {
   "cell_type": "markdown",
   "metadata": {
    "id": "7cd34039-b740-4fed-883a-8162c57477ed"
   },
   "source": [
    "### The Db2 Class\n",
    "The CPDDVRestClass.ipynb notebook includes a Python class called Db2 that encapsulates the Rest API calls used to connect to the IBM Cloud Pak for Data Virtualization service. \n",
    "\n",
    "To access the service you need to first authenticate with the service and create a reusable token that we can use for each call to the service. This ensures that we don't have to provide a userID and password each time we run a command. The token makes sure this is secure. \n",
    "\n",
    "Each request is constructed of several parts. First, the URL and the API identify how to connect to the service. Second the REST service request that identifies the request and the options. For example '/metrics/applications/connections/current/list'. And finally some complex requests also include a JSON payload. For example running SQL includes a JSON object that identifies the script, statement delimiters, the maximum number of rows in the results set as well as what do if a statement fails.\n",
    "\n",
    "You can find this class and use it for your own notebooks in GITHUB. Have a look at how the class encapsulated the API calls by clicking on the following link: https://github.com/Db2-DTE-POC/CPDDVLAB/blob/master/CPDDVRestClass.ipynb"
   ]
  },
  {
   "cell_type": "markdown",
   "metadata": {
    "id": "a171703e-115c-411a-9e77-14465de0a15f"
   },
   "source": [
    "### Example Connections\n",
    "To connect to the Data Virtualization service you need to provide the URL, the service name (v1) and profile the console user name and password. \n",
    "\n",
    "1. Substitute your assigned DATAENGINEER userid below along with your password you used to log into IBM Cloud Pak for Data at the beginning of the lab. \n",
    "2. Run the next cell. \n",
    "\n",
    "The cell generates a breaer token that is used in the following steps to authenticate your use of the API. "
   ]
  },
  {
   "cell_type": "markdown",
   "metadata": {
    "id": "beac4bf1-d67c-4f70-a882-ecfca55c0f9d"
   },
   "source": [
    "#### Connecting to Data Virtualization API Service"
   ]
  },
  {
   "cell_type": "code",
   "execution_count": 3,
   "metadata": {
    "id": "51dbb827cc5740a98b214140153ff7a0"
   },
   "outputs": [
    {
     "name": "stdout",
     "output_type": "stream",
     "text": [
      "--2021-12-03 16:28:08--  https://raw.githubusercontent.com/Db2-DTE-POC/CPDDVLAB/master/CPDDVRestClassV402.ipynb\n",
      "Resolving raw.githubusercontent.com (raw.githubusercontent.com)... 185.199.111.133, 185.199.108.133, 185.199.110.133, ...\n",
      "Connecting to raw.githubusercontent.com (raw.githubusercontent.com)|185.199.111.133|:443... connected.\n",
      "HTTP request sent, awaiting response... 200 OK\n",
      "Length: 15020 (15K) [text/plain]\n",
      "Saving to: ‘CPDDVRestClassV402.ipynb’\n",
      "\n",
      "CPDDVRestClassV402. 100%[===================>]  14.67K  --.-KB/s    in 0s      \n",
      "\n",
      "2021-12-03 16:28:09 (52.3 MB/s) - ‘CPDDVRestClassV402.ipynb’ saved [15020/15020]\n",
      "\n"
     ]
    }
   ],
   "source": [
    "!wget -O CPDDVRestClassV402.ipynb https://raw.githubusercontent.com/Db2-DTE-POC/CPDDVLAB/master/CPDDVRestClassV402.ipynb\n",
    "%run CPDDVRestClassV402.ipynb"
   ]
  },
  {
   "cell_type": "code",
   "execution_count": 4,
   "metadata": {
    "id": "3ba1bb3e-5658-4f6a-8f15-8dd8a67ee735"
   },
   "outputs": [
    {
     "name": "stdout",
     "output_type": "stream",
     "text": [
      "Token Retrieved\n"
     ]
    }
   ],
   "source": [
    "# Set the service URL to connect from inside the ICPD Cluster\n",
    "Console  = 'https://cpd-cpd-instance.apps.demo.ibmdte.net:31192'\n",
    "\n",
    "# Connect to the Db2 Data Management Console service\n",
    "user     = engineer\n",
    "password = 'tsdvlab'\n",
    "\n",
    "# Set up the required connection\n",
    "databaseAPI = Db2(Console)\n",
    "api = '/v1'\n",
    "databaseAPI.authenticate(api, user, password)\n",
    "database = Console"
   ]
  },
  {
   "cell_type": "code",
   "execution_count": 38,
   "metadata": {
    "id": "dfdc02649a8448769b5e3c9596b5e854"
   },
   "outputs": [
    {
     "name": "stdout",
     "output_type": "stream",
     "text": [
      "Token Retrieved\n"
     ]
    }
   ],
   "source": [
    "# Set the service URL to connect from inside the ICPD Cluster\n",
    "Console  = 'https://cpd-cpd-instance.apps.demo.ibmdte.net:31192'\n",
    "\n",
    "# Connect to the Db2 Data Management Console service\n",
    "user = 'admin'\n",
    "password = 'CP4DDataFabric'\n",
    "\n",
    "# Set up the required connection\n",
    "databaseAPI = Db2(Console)\n",
    "api = '/v1'\n",
    "databaseAPI.authenticate(api, user, password)\n",
    "database = Console"
   ]
  },
  {
   "cell_type": "markdown",
   "metadata": {
    "id": "19924a84-3deb-4879-a24f-d206e01fbb40"
   },
   "source": [
    "#### Data Sources and Availability\n",
    "The following Python function (getDataSources) runs SQL against the **QPLEXSYS.LISTRDB** catalog table and combines it with a stored procedure call **QPLEXSYS.LISTRDBCDETAILS()** to add the **AVAILABLE** column to the results. The IBM Cloud Pak for Data Virtualization Service checks each data sources every 5 to 10 seconds to ensure that it is still up and available. In the table (DataFrame) in the next cell a **1** in the **AVAILABLE** column indicates that the data source is responding. A **0** indicdates that it is not longer responding. \n",
    "\n",
    "Run the following cell."
   ]
  },
  {
   "cell_type": "code",
   "execution_count": 5,
   "metadata": {
    "id": "1e4b21fe-a85c-464a-97b5-23b27d26f07b"
   },
   "outputs": [
    {
     "data": {
      "text/html": [
       "<div>\n",
       "<style scoped>\n",
       "    .dataframe tbody tr th:only-of-type {\n",
       "        vertical-align: middle;\n",
       "    }\n",
       "\n",
       "    .dataframe tbody tr th {\n",
       "        vertical-align: top;\n",
       "    }\n",
       "\n",
       "    .dataframe thead th {\n",
       "        text-align: right;\n",
       "    }\n",
       "</style>\n",
       "<table border=\"1\" class=\"dataframe\">\n",
       "  <thead>\n",
       "    <tr style=\"text-align: right;\">\n",
       "      <th></th>\n",
       "      <th>srctype</th>\n",
       "      <th>srchostname</th>\n",
       "      <th>srcport</th>\n",
       "      <th>dbname</th>\n",
       "      <th>usr</th>\n",
       "      <th>status</th>\n",
       "    </tr>\n",
       "  </thead>\n",
       "  <tbody>\n",
       "    <tr>\n",
       "      <th>0</th>\n",
       "      <td>PostgreSQL</td>\n",
       "      <td>10.0.0.201</td>\n",
       "      <td>30741</td>\n",
       "      <td>postgres</td>\n",
       "      <td>postgres</td>\n",
       "      <td>INACTIVE</td>\n",
       "    </tr>\n",
       "    <tr>\n",
       "      <th>1</th>\n",
       "      <td>MongoDB</td>\n",
       "      <td>10.0.0.1</td>\n",
       "      <td>27017</td>\n",
       "      <td>mongo_onprem_stocks</td>\n",
       "      <td>admin</td>\n",
       "      <td>INACTIVE</td>\n",
       "    </tr>\n",
       "    <tr>\n",
       "      <th>2</th>\n",
       "      <td>PostgreSQL</td>\n",
       "      <td>10.0.0.2</td>\n",
       "      <td>5444</td>\n",
       "      <td>airline</td>\n",
       "      <td>enterprisedb</td>\n",
       "      <td>INACTIVE</td>\n",
       "    </tr>\n",
       "    <tr>\n",
       "      <th>3</th>\n",
       "      <td>DB2</td>\n",
       "      <td>10.0.0.201</td>\n",
       "      <td>30828</td>\n",
       "      <td>CHURN</td>\n",
       "      <td>admin</td>\n",
       "      <td>INACTIVE</td>\n",
       "    </tr>\n",
       "    <tr>\n",
       "      <th>4</th>\n",
       "      <td>Netezza</td>\n",
       "      <td>169.47.170.51</td>\n",
       "      <td>5480</td>\n",
       "      <td>STOCKS</td>\n",
       "      <td>nzadmin</td>\n",
       "      <td>INACTIVE</td>\n",
       "    </tr>\n",
       "    <tr>\n",
       "      <th>5</th>\n",
       "      <td>DB2</td>\n",
       "      <td>cpd-cpd-instance.apps.demo.ibmdte.net</td>\n",
       "      <td>32443</td>\n",
       "      <td>STOCKS</td>\n",
       "      <td>admin</td>\n",
       "      <td>INACTIVE</td>\n",
       "    </tr>\n",
       "    <tr>\n",
       "      <th>6</th>\n",
       "      <td>DB2</td>\n",
       "      <td>10.0.0.1</td>\n",
       "      <td>50000</td>\n",
       "      <td>STOCKS</td>\n",
       "      <td>db2inst1</td>\n",
       "      <td>INACTIVE</td>\n",
       "    </tr>\n",
       "    <tr>\n",
       "      <th>7</th>\n",
       "      <td>DB2</td>\n",
       "      <td>cpd-cpd-instance.apps.demo.ibmdte.net</td>\n",
       "      <td>31175</td>\n",
       "      <td>ONTIME</td>\n",
       "      <td>admin</td>\n",
       "      <td>INACTIVE</td>\n",
       "    </tr>\n",
       "    <tr>\n",
       "      <th>8</th>\n",
       "      <td>DB2</td>\n",
       "      <td>server7</td>\n",
       "      <td>50000</td>\n",
       "      <td>ONTIME14</td>\n",
       "      <td>db2inst1</td>\n",
       "      <td>INACTIVE</td>\n",
       "    </tr>\n",
       "    <tr>\n",
       "      <th>9</th>\n",
       "      <td>MySQLComm</td>\n",
       "      <td>server7</td>\n",
       "      <td>3306</td>\n",
       "      <td>stocks</td>\n",
       "      <td>CPDDV</td>\n",
       "      <td>INACTIVE</td>\n",
       "    </tr>\n",
       "    <tr>\n",
       "      <th>10</th>\n",
       "      <td>DB2</td>\n",
       "      <td>server7</td>\n",
       "      <td>50000</td>\n",
       "      <td>ONTIME15</td>\n",
       "      <td>db2inst1</td>\n",
       "      <td>INACTIVE</td>\n",
       "    </tr>\n",
       "    <tr>\n",
       "      <th>11</th>\n",
       "      <td>DB2</td>\n",
       "      <td>server7</td>\n",
       "      <td>50000</td>\n",
       "      <td>ONTIME12</td>\n",
       "      <td>db2inst1</td>\n",
       "      <td>INACTIVE</td>\n",
       "    </tr>\n",
       "    <tr>\n",
       "      <th>12</th>\n",
       "      <td>DB2</td>\n",
       "      <td>server7</td>\n",
       "      <td>50000</td>\n",
       "      <td>ONTIME13</td>\n",
       "      <td>db2inst1</td>\n",
       "      <td>INACTIVE</td>\n",
       "    </tr>\n",
       "    <tr>\n",
       "      <th>13</th>\n",
       "      <td>DB2</td>\n",
       "      <td>server7</td>\n",
       "      <td>50000</td>\n",
       "      <td>ONTIME11</td>\n",
       "      <td>db2inst1</td>\n",
       "      <td>INACTIVE</td>\n",
       "    </tr>\n",
       "    <tr>\n",
       "      <th>14</th>\n",
       "      <td>MongoDB</td>\n",
       "      <td>10.0.0.201</td>\n",
       "      <td>30669</td>\n",
       "      <td>STOCKS</td>\n",
       "      <td>admin</td>\n",
       "      <td>INACTIVE</td>\n",
       "    </tr>\n",
       "    <tr>\n",
       "      <th>15</th>\n",
       "      <td>DB2</td>\n",
       "      <td>35.172.245.247</td>\n",
       "      <td>32403</td>\n",
       "      <td>bludb</td>\n",
       "      <td>db2inst1</td>\n",
       "      <td>INACTIVE</td>\n",
       "    </tr>\n",
       "    <tr>\n",
       "      <th>16</th>\n",
       "      <td>PostgreSQL</td>\n",
       "      <td>10.0.0.2</td>\n",
       "      <td>5444</td>\n",
       "      <td>stocks</td>\n",
       "      <td>enterprisedb</td>\n",
       "      <td>INACTIVE</td>\n",
       "    </tr>\n",
       "    <tr>\n",
       "      <th>17</th>\n",
       "      <td>Snowflake</td>\n",
       "      <td>hm13776.central-us.azure.snowflakecomputing.com</td>\n",
       "      <td>443</td>\n",
       "      <td>CP4D_DATABASE</td>\n",
       "      <td>snowflake4dv</td>\n",
       "      <td>INACTIVE</td>\n",
       "    </tr>\n",
       "    <tr>\n",
       "      <th>18</th>\n",
       "      <td>MySQLComm</td>\n",
       "      <td>10.0.0.1</td>\n",
       "      <td>3306</td>\n",
       "      <td>stocks</td>\n",
       "      <td>CPDDV</td>\n",
       "      <td>INACTIVE</td>\n",
       "    </tr>\n",
       "  </tbody>\n",
       "</table>\n",
       "</div>"
      ],
      "text/plain": [
       "       srctype                                      srchostname srcport  \\\n",
       "0   PostgreSQL                                       10.0.0.201   30741   \n",
       "1      MongoDB                                         10.0.0.1   27017   \n",
       "2   PostgreSQL                                         10.0.0.2    5444   \n",
       "3          DB2                                       10.0.0.201   30828   \n",
       "4      Netezza                                    169.47.170.51    5480   \n",
       "5          DB2            cpd-cpd-instance.apps.demo.ibmdte.net   32443   \n",
       "6          DB2                                         10.0.0.1   50000   \n",
       "7          DB2            cpd-cpd-instance.apps.demo.ibmdte.net   31175   \n",
       "8          DB2                                          server7   50000   \n",
       "9    MySQLComm                                          server7    3306   \n",
       "10         DB2                                          server7   50000   \n",
       "11         DB2                                          server7   50000   \n",
       "12         DB2                                          server7   50000   \n",
       "13         DB2                                          server7   50000   \n",
       "14     MongoDB                                       10.0.0.201   30669   \n",
       "15         DB2                                   35.172.245.247   32403   \n",
       "16  PostgreSQL                                         10.0.0.2    5444   \n",
       "17   Snowflake  hm13776.central-us.azure.snowflakecomputing.com     443   \n",
       "18   MySQLComm                                         10.0.0.1    3306   \n",
       "\n",
       "                 dbname           usr    status  \n",
       "0              postgres      postgres  INACTIVE  \n",
       "1   mongo_onprem_stocks         admin  INACTIVE  \n",
       "2               airline  enterprisedb  INACTIVE  \n",
       "3                 CHURN         admin  INACTIVE  \n",
       "4                STOCKS       nzadmin  INACTIVE  \n",
       "5                STOCKS         admin  INACTIVE  \n",
       "6                STOCKS      db2inst1  INACTIVE  \n",
       "7                ONTIME         admin  INACTIVE  \n",
       "8              ONTIME14      db2inst1  INACTIVE  \n",
       "9                stocks         CPDDV  INACTIVE  \n",
       "10             ONTIME15      db2inst1  INACTIVE  \n",
       "11             ONTIME12      db2inst1  INACTIVE  \n",
       "12             ONTIME13      db2inst1  INACTIVE  \n",
       "13             ONTIME11      db2inst1  INACTIVE  \n",
       "14               STOCKS         admin  INACTIVE  \n",
       "15                bludb      db2inst1  INACTIVE  \n",
       "16               stocks  enterprisedb  INACTIVE  \n",
       "17        CP4D_DATABASE  snowflake4dv  INACTIVE  \n",
       "18               stocks         CPDDV  INACTIVE  "
      ]
     },
     "metadata": {},
     "output_type": "display_data"
    }
   ],
   "source": [
    "# Display the Available Data Sources already configured\n",
    "\n",
    "dataSources = databaseAPI.getDataSources()\n",
    "display(dataSources)"
   ]
  },
  {
   "cell_type": "markdown",
   "metadata": {
    "id": "0e303da6-6ca2-4fea-b9ac-dbc7bb8a3ce9"
   },
   "source": [
    "#### Virtualized Data\n",
    "This call retrieves all of the virtualized data available to the role of Data Engineer. It uses a direct RESTful service call and does not use SQL. The service returns a JSON result set that is converted into a Python Pandas dataframe. Dataframes are very useful in being able to manipulate tables of data in Python. If there is a problem with the call, the error code is displayed."
   ]
  },
  {
   "cell_type": "code",
   "execution_count": 6,
   "metadata": {
    "id": "78453604-a7e6-4d1d-8ac8-16dc5627f041"
   },
   "outputs": [
    {
     "data": {
      "text/html": [
       "<div>\n",
       "<style scoped>\n",
       "    .dataframe tbody tr th:only-of-type {\n",
       "        vertical-align: middle;\n",
       "    }\n",
       "\n",
       "    .dataframe tbody tr th {\n",
       "        vertical-align: top;\n",
       "    }\n",
       "\n",
       "    .dataframe thead th {\n",
       "        text-align: right;\n",
       "    }\n",
       "</style>\n",
       "<table border=\"1\" class=\"dataframe\">\n",
       "  <thead>\n",
       "    <tr style=\"text-align: right;\">\n",
       "      <th></th>\n",
       "      <th>name</th>\n",
       "      <th>schema</th>\n",
       "      <th>type</th>\n",
       "    </tr>\n",
       "  </thead>\n",
       "  <tbody>\n",
       "    <tr>\n",
       "      <th>0</th>\n",
       "      <td>ONTIMESMALL</td>\n",
       "      <td>ADMIN</td>\n",
       "      <td>VIEW</td>\n",
       "    </tr>\n",
       "    <tr>\n",
       "      <th>1</th>\n",
       "      <td>REMOTETABLESOURCE</td>\n",
       "      <td>ADMIN</td>\n",
       "      <td>VIEW</td>\n",
       "    </tr>\n",
       "    <tr>\n",
       "      <th>2</th>\n",
       "      <td>CHURN</td>\n",
       "      <td>CHURN</td>\n",
       "      <td>VIEW</td>\n",
       "    </tr>\n",
       "    <tr>\n",
       "      <th>3</th>\n",
       "      <td>LOCATION_POPULATION</td>\n",
       "      <td>CHURN</td>\n",
       "      <td>VIEW</td>\n",
       "    </tr>\n",
       "    <tr>\n",
       "      <th>4</th>\n",
       "      <td>POPULATION</td>\n",
       "      <td>CHURN</td>\n",
       "      <td>TABLE</td>\n",
       "    </tr>\n",
       "    <tr>\n",
       "      <th>...</th>\n",
       "      <td>...</td>\n",
       "      <td>...</td>\n",
       "      <td>...</td>\n",
       "    </tr>\n",
       "    <tr>\n",
       "      <th>101</th>\n",
       "      <td>CUSTOMER</td>\n",
       "      <td>XLSX</td>\n",
       "      <td>TABLE</td>\n",
       "    </tr>\n",
       "    <tr>\n",
       "      <th>102</th>\n",
       "      <td>PORTFOLIO</td>\n",
       "      <td>XLSX</td>\n",
       "      <td>TABLE</td>\n",
       "    </tr>\n",
       "    <tr>\n",
       "      <th>103</th>\n",
       "      <td>STOCK_HISTORY</td>\n",
       "      <td>XLSX</td>\n",
       "      <td>TABLE</td>\n",
       "    </tr>\n",
       "    <tr>\n",
       "      <th>104</th>\n",
       "      <td>STOCK_SYMBOLS</td>\n",
       "      <td>XLSX</td>\n",
       "      <td>TABLE</td>\n",
       "    </tr>\n",
       "    <tr>\n",
       "      <th>105</th>\n",
       "      <td>STOCK_TRANSACTIONS</td>\n",
       "      <td>XLSX</td>\n",
       "      <td>TABLE</td>\n",
       "    </tr>\n",
       "  </tbody>\n",
       "</table>\n",
       "<p>106 rows × 3 columns</p>\n",
       "</div>"
      ],
      "text/plain": [
       "                    name schema   type\n",
       "0            ONTIMESMALL  ADMIN   VIEW\n",
       "1      REMOTETABLESOURCE  ADMIN   VIEW\n",
       "2                  CHURN  CHURN   VIEW\n",
       "3    LOCATION_POPULATION  CHURN   VIEW\n",
       "4             POPULATION  CHURN  TABLE\n",
       "..                   ...    ...    ...\n",
       "101             CUSTOMER   XLSX  TABLE\n",
       "102            PORTFOLIO   XLSX  TABLE\n",
       "103        STOCK_HISTORY   XLSX  TABLE\n",
       "104        STOCK_SYMBOLS   XLSX  TABLE\n",
       "105   STOCK_TRANSACTIONS   XLSX  TABLE\n",
       "\n",
       "[106 rows x 3 columns]"
      ]
     },
     "metadata": {},
     "output_type": "display_data"
    }
   ],
   "source": [
    "# Display the Virtualized Assets Avalable to Engineers and Users\n",
    "roles = ['DV_ENGINEER']\n",
    "for role in roles:\n",
    "    r = databaseAPI.getRole(role)\n",
    "    if (databaseAPI.getStatusCode(r)==200):\n",
    "        json = databaseAPI.getJSON(r)\n",
    "        df = pd.DataFrame(json_normalize(json['objects']))\n",
    "        display(df)\n",
    "    else:\n",
    "        print(databaseAPI.getStatusCode(r))  "
   ]
  },
  {
   "cell_type": "markdown",
   "metadata": {
    "id": "039f0b94-cd74-4429-89c3-f19047eb1473"
   },
   "source": [
    "#### Virtualized Tables and Views\n",
    "This call retrieves all the virtualized tables and view available to the userid that you use to connect to the service. In this example the whole call is included in the DB2 class library and returned as a complete Dataframe ready for display or to be used for analysis or administration."
   ]
  },
  {
   "cell_type": "code",
   "execution_count": 47,
   "metadata": {
    "id": "d46ec001-07e4-4240-bd00-5e87733e9ff4"
   },
   "outputs": [
    {
     "data": {
      "text/html": [
       "<div>\n",
       "<style scoped>\n",
       "    .dataframe tbody tr th:only-of-type {\n",
       "        vertical-align: middle;\n",
       "    }\n",
       "\n",
       "    .dataframe tbody tr th {\n",
       "        vertical-align: top;\n",
       "    }\n",
       "\n",
       "    .dataframe thead th {\n",
       "        text-align: right;\n",
       "    }\n",
       "</style>\n",
       "<table border=\"1\" class=\"dataframe\">\n",
       "  <thead>\n",
       "    <tr style=\"text-align: right;\">\n",
       "      <th></th>\n",
       "      <th>create_time</th>\n",
       "      <th>data_source_table_name</th>\n",
       "      <th>grantable</th>\n",
       "      <th>owner</th>\n",
       "      <th>stats_time</th>\n",
       "      <th>table_name</th>\n",
       "      <th>table_schema</th>\n",
       "    </tr>\n",
       "  </thead>\n",
       "  <tbody>\n",
       "    <tr>\n",
       "      <th>0</th>\n",
       "      <td>1635963231912</td>\n",
       "      <td>STOCK_TRANSACTIONS</td>\n",
       "      <td>Y</td>\n",
       "      <td>ADMIN</td>\n",
       "      <td>None</td>\n",
       "      <td>STOCK_TRANSACTIONS</td>\n",
       "      <td>MONGOONPREMISES</td>\n",
       "    </tr>\n",
       "    <tr>\n",
       "      <th>1</th>\n",
       "      <td>1636382906217</td>\n",
       "      <td>VTF_CSVCHURN_DEMOGRAPHICS_CFFEC6391993C2FC_0</td>\n",
       "      <td>Y</td>\n",
       "      <td>ADMIN</td>\n",
       "      <td>None</td>\n",
       "      <td>Demographics</td>\n",
       "      <td>CSVCHURN</td>\n",
       "    </tr>\n",
       "    <tr>\n",
       "      <th>2</th>\n",
       "      <td>1636382980427</td>\n",
       "      <td>VTF_CSVCHURN_LOCATION_A327379E775DDDDB_0</td>\n",
       "      <td>Y</td>\n",
       "      <td>ADMIN</td>\n",
       "      <td>None</td>\n",
       "      <td>Location</td>\n",
       "      <td>CSVCHURN</td>\n",
       "    </tr>\n",
       "    <tr>\n",
       "      <th>3</th>\n",
       "      <td>1636496026345</td>\n",
       "      <td>AIRPORT_ID</td>\n",
       "      <td>Y</td>\n",
       "      <td>ADMIN</td>\n",
       "      <td>None</td>\n",
       "      <td>AIRPORT_ID</td>\n",
       "      <td>DB2WONCPD</td>\n",
       "    </tr>\n",
       "    <tr>\n",
       "      <th>4</th>\n",
       "      <td>1635962655815</td>\n",
       "      <td>stock_symbols</td>\n",
       "      <td>Y</td>\n",
       "      <td>ADMIN</td>\n",
       "      <td>None</td>\n",
       "      <td>STOCK_SYMBOLS</td>\n",
       "      <td>EDBSTOCKSONPREMISES</td>\n",
       "    </tr>\n",
       "    <tr>\n",
       "      <th>5</th>\n",
       "      <td>1636496026378</td>\n",
       "      <td>ONTIME</td>\n",
       "      <td>Y</td>\n",
       "      <td>ADMIN</td>\n",
       "      <td>None</td>\n",
       "      <td>ONTIME</td>\n",
       "      <td>DB2WONCPD</td>\n",
       "    </tr>\n",
       "    <tr>\n",
       "      <th>6</th>\n",
       "      <td>1635962730649</td>\n",
       "      <td>customer</td>\n",
       "      <td>Y</td>\n",
       "      <td>ADMIN</td>\n",
       "      <td>None</td>\n",
       "      <td>CUSTOMER</td>\n",
       "      <td>EDBSTOCKSONPREMISES</td>\n",
       "    </tr>\n",
       "    <tr>\n",
       "      <th>7</th>\n",
       "      <td>1636496026471</td>\n",
       "      <td>AIRLINE_ID</td>\n",
       "      <td>Y</td>\n",
       "      <td>ADMIN</td>\n",
       "      <td>None</td>\n",
       "      <td>AIRLINE_ID</td>\n",
       "      <td>DB2WONCPD</td>\n",
       "    </tr>\n",
       "    <tr>\n",
       "      <th>8</th>\n",
       "      <td>1635961519040</td>\n",
       "      <td>STOCK_HISTORY</td>\n",
       "      <td>Y</td>\n",
       "      <td>ADMIN</td>\n",
       "      <td>None</td>\n",
       "      <td>STOCK_HISTORY</td>\n",
       "      <td>DB2OLTPONCPD</td>\n",
       "    </tr>\n",
       "    <tr>\n",
       "      <th>9</th>\n",
       "      <td>1636496027189</td>\n",
       "      <td>AIRCRAFT</td>\n",
       "      <td>Y</td>\n",
       "      <td>ADMIN</td>\n",
       "      <td>None</td>\n",
       "      <td>AIRCRAFT</td>\n",
       "      <td>DB2OLTPONCPD</td>\n",
       "    </tr>\n",
       "    <tr>\n",
       "      <th>10</th>\n",
       "      <td>1635961566939</td>\n",
       "      <td>STOCK_SYMBOLS</td>\n",
       "      <td>Y</td>\n",
       "      <td>ADMIN</td>\n",
       "      <td>None</td>\n",
       "      <td>STOCK_SYMBOLS</td>\n",
       "      <td>DB2OLTPONCPD</td>\n",
       "    </tr>\n",
       "    <tr>\n",
       "      <th>11</th>\n",
       "      <td>1636496027236</td>\n",
       "      <td>CANCELLATION</td>\n",
       "      <td>Y</td>\n",
       "      <td>ADMIN</td>\n",
       "      <td>None</td>\n",
       "      <td>CANCELLATION</td>\n",
       "      <td>DB2WONCPD</td>\n",
       "    </tr>\n",
       "    <tr>\n",
       "      <th>12</th>\n",
       "      <td>1635963232287</td>\n",
       "      <td>CUSTOMER</td>\n",
       "      <td>Y</td>\n",
       "      <td>ADMIN</td>\n",
       "      <td>None</td>\n",
       "      <td>CUSTOMER</td>\n",
       "      <td>MONGOONPREMISES</td>\n",
       "    </tr>\n",
       "    <tr>\n",
       "      <th>13</th>\n",
       "      <td>1635962808947</td>\n",
       "      <td>STOCK_TRANSACTIONS</td>\n",
       "      <td>Y</td>\n",
       "      <td>ADMIN</td>\n",
       "      <td>None</td>\n",
       "      <td>STOCK_TRANSACTIONS</td>\n",
       "      <td>DB2AWS</td>\n",
       "    </tr>\n",
       "    <tr>\n",
       "      <th>14</th>\n",
       "      <td>1635961695734</td>\n",
       "      <td>STOCK_TRANSACTIONS</td>\n",
       "      <td>Y</td>\n",
       "      <td>ADMIN</td>\n",
       "      <td>None</td>\n",
       "      <td>STOCK_TRANSACTIONS</td>\n",
       "      <td>DB2OLTPONCPD</td>\n",
       "    </tr>\n",
       "    <tr>\n",
       "      <th>15</th>\n",
       "      <td>1635963232319</td>\n",
       "      <td>STOCK_HISTORY</td>\n",
       "      <td>Y</td>\n",
       "      <td>ADMIN</td>\n",
       "      <td>None</td>\n",
       "      <td>STOCK_HISTORY</td>\n",
       "      <td>MONGOONPREMISES</td>\n",
       "    </tr>\n",
       "    <tr>\n",
       "      <th>16</th>\n",
       "      <td>1636121093366</td>\n",
       "      <td>VTF_EXCEL_ACCOUNTS_257FB6A2483F3D68_0</td>\n",
       "      <td>Y</td>\n",
       "      <td>ADMIN</td>\n",
       "      <td>None</td>\n",
       "      <td>ACCOUNTS</td>\n",
       "      <td>EXCEL</td>\n",
       "    </tr>\n",
       "    <tr>\n",
       "      <th>17</th>\n",
       "      <td>1636496652650</td>\n",
       "      <td>ONTIME</td>\n",
       "      <td>Y</td>\n",
       "      <td>ADMIN</td>\n",
       "      <td>None</td>\n",
       "      <td>ONTIME1115</td>\n",
       "      <td>ONTIME</td>\n",
       "    </tr>\n",
       "    <tr>\n",
       "      <th>18</th>\n",
       "      <td>1635962072432</td>\n",
       "      <td>ACCOUNTS</td>\n",
       "      <td>Y</td>\n",
       "      <td>ADMIN</td>\n",
       "      <td>None</td>\n",
       "      <td>ACCOUNTS</td>\n",
       "      <td>NETEZZA</td>\n",
       "    </tr>\n",
       "    <tr>\n",
       "      <th>19</th>\n",
       "      <td>1635962072820</td>\n",
       "      <td>STOCK_SYMBOLS</td>\n",
       "      <td>Y</td>\n",
       "      <td>ADMIN</td>\n",
       "      <td>None</td>\n",
       "      <td>STOCK_SYMBOLS</td>\n",
       "      <td>NETEZZA</td>\n",
       "    </tr>\n",
       "    <tr>\n",
       "      <th>20</th>\n",
       "      <td>1635962073159</td>\n",
       "      <td>STOCK_TRANSACTIONS</td>\n",
       "      <td>Y</td>\n",
       "      <td>ADMIN</td>\n",
       "      <td>None</td>\n",
       "      <td>STOCK_TRANSACTIONS</td>\n",
       "      <td>NETEZZA</td>\n",
       "    </tr>\n",
       "    <tr>\n",
       "      <th>21</th>\n",
       "      <td>1635947542985</td>\n",
       "      <td>CUSTOMER</td>\n",
       "      <td>Y</td>\n",
       "      <td>ADMIN</td>\n",
       "      <td>None</td>\n",
       "      <td>CUSTOMER</td>\n",
       "      <td>DB2ONPREMISES</td>\n",
       "    </tr>\n",
       "    <tr>\n",
       "      <th>22</th>\n",
       "      <td>1636384857470</td>\n",
       "      <td>VTF_CSVCHURN_SERVICES_87D47BCDD2A6941D_0</td>\n",
       "      <td>Y</td>\n",
       "      <td>ADMIN</td>\n",
       "      <td>None</td>\n",
       "      <td>Services</td>\n",
       "      <td>CSVCHURN</td>\n",
       "    </tr>\n",
       "    <tr>\n",
       "      <th>23</th>\n",
       "      <td>1635962073272</td>\n",
       "      <td>STOCK_HISTORY</td>\n",
       "      <td>Y</td>\n",
       "      <td>ADMIN</td>\n",
       "      <td>None</td>\n",
       "      <td>STOCK_HISTORY</td>\n",
       "      <td>NETEZZA</td>\n",
       "    </tr>\n",
       "    <tr>\n",
       "      <th>24</th>\n",
       "      <td>1636384920286</td>\n",
       "      <td>VTF_CSVCHURN_STATUS_160B5344D5EA5078_0</td>\n",
       "      <td>Y</td>\n",
       "      <td>ADMIN</td>\n",
       "      <td>None</td>\n",
       "      <td>Status</td>\n",
       "      <td>CSVCHURN</td>\n",
       "    </tr>\n",
       "    <tr>\n",
       "      <th>25</th>\n",
       "      <td>1635947543778</td>\n",
       "      <td>STOCK_HISTORY</td>\n",
       "      <td>Y</td>\n",
       "      <td>ADMIN</td>\n",
       "      <td>None</td>\n",
       "      <td>STOCK_HISTORY</td>\n",
       "      <td>DB2ONPREMISES</td>\n",
       "    </tr>\n",
       "    <tr>\n",
       "      <th>26</th>\n",
       "      <td>1636121093423</td>\n",
       "      <td>VTF_EXCEL_CUSTOMER_DB2E3F06A2BC2934_0</td>\n",
       "      <td>Y</td>\n",
       "      <td>ADMIN</td>\n",
       "      <td>None</td>\n",
       "      <td>CUSTOMER</td>\n",
       "      <td>EXCEL</td>\n",
       "    </tr>\n",
       "    <tr>\n",
       "      <th>27</th>\n",
       "      <td>1635963083516</td>\n",
       "      <td>ACCOUNTS</td>\n",
       "      <td>Y</td>\n",
       "      <td>ADMIN</td>\n",
       "      <td>None</td>\n",
       "      <td>ACCOUNTS</td>\n",
       "      <td>DB2AWS</td>\n",
       "    </tr>\n",
       "    <tr>\n",
       "      <th>28</th>\n",
       "      <td>1636385133343</td>\n",
       "      <td>LOCATION</td>\n",
       "      <td>Y</td>\n",
       "      <td>ADMIN</td>\n",
       "      <td>None</td>\n",
       "      <td>Location</td>\n",
       "      <td>DB2CHURN</td>\n",
       "    </tr>\n",
       "    <tr>\n",
       "      <th>29</th>\n",
       "      <td>1635962338159</td>\n",
       "      <td>stock_transactions</td>\n",
       "      <td>Y</td>\n",
       "      <td>ADMIN</td>\n",
       "      <td>None</td>\n",
       "      <td>STOCK_TRANSACTIONS</td>\n",
       "      <td>EDBSTOCKSONPREMISES</td>\n",
       "    </tr>\n",
       "    <tr>\n",
       "      <th>30</th>\n",
       "      <td>1636385133817</td>\n",
       "      <td>SERVICES</td>\n",
       "      <td>Y</td>\n",
       "      <td>ADMIN</td>\n",
       "      <td>None</td>\n",
       "      <td>Services</td>\n",
       "      <td>DB2CHURN</td>\n",
       "    </tr>\n",
       "    <tr>\n",
       "      <th>31</th>\n",
       "      <td>1635947665180</td>\n",
       "      <td>STOCK_TRANSACTIONS</td>\n",
       "      <td>Y</td>\n",
       "      <td>ADMIN</td>\n",
       "      <td>None</td>\n",
       "      <td>STOCK_TRANSACTIONS</td>\n",
       "      <td>DB2ONPREMISES</td>\n",
       "    </tr>\n",
       "    <tr>\n",
       "      <th>32</th>\n",
       "      <td>1636385134009</td>\n",
       "      <td>STATUS</td>\n",
       "      <td>Y</td>\n",
       "      <td>ADMIN</td>\n",
       "      <td>None</td>\n",
       "      <td>Status</td>\n",
       "      <td>DB2CHURN</td>\n",
       "    </tr>\n",
       "    <tr>\n",
       "      <th>33</th>\n",
       "      <td>1635947665469</td>\n",
       "      <td>ACCOUNTS</td>\n",
       "      <td>Y</td>\n",
       "      <td>ADMIN</td>\n",
       "      <td>None</td>\n",
       "      <td>ACCOUNTS</td>\n",
       "      <td>DB2ONPREMISES</td>\n",
       "    </tr>\n",
       "    <tr>\n",
       "      <th>34</th>\n",
       "      <td>1636385134011</td>\n",
       "      <td>DEMOGRAPHICS</td>\n",
       "      <td>Y</td>\n",
       "      <td>ADMIN</td>\n",
       "      <td>None</td>\n",
       "      <td>Demographics</td>\n",
       "      <td>DB2CHURN</td>\n",
       "    </tr>\n",
       "    <tr>\n",
       "      <th>35</th>\n",
       "      <td>1635961449680</td>\n",
       "      <td>CUSTOMER</td>\n",
       "      <td>Y</td>\n",
       "      <td>ADMIN</td>\n",
       "      <td>None</td>\n",
       "      <td>CUSTOMER</td>\n",
       "      <td>DB2OLTPONCPD</td>\n",
       "    </tr>\n",
       "    <tr>\n",
       "      <th>36</th>\n",
       "      <td>1635947709189</td>\n",
       "      <td>STOCK_SYMBOLS</td>\n",
       "      <td>Y</td>\n",
       "      <td>ADMIN</td>\n",
       "      <td>None</td>\n",
       "      <td>STOCK_SYMBOLS</td>\n",
       "      <td>DB2ONPREMISES</td>\n",
       "    </tr>\n",
       "    <tr>\n",
       "      <th>37</th>\n",
       "      <td>1635962531358</td>\n",
       "      <td>stock_history</td>\n",
       "      <td>Y</td>\n",
       "      <td>ADMIN</td>\n",
       "      <td>None</td>\n",
       "      <td>STOCK_HISTORY</td>\n",
       "      <td>EDBSTOCKSONPREMISES</td>\n",
       "    </tr>\n",
       "    <tr>\n",
       "      <th>38</th>\n",
       "      <td>1635961450415</td>\n",
       "      <td>ACCOUNTS</td>\n",
       "      <td>Y</td>\n",
       "      <td>ADMIN</td>\n",
       "      <td>None</td>\n",
       "      <td>ACCOUNTS</td>\n",
       "      <td>DB2OLTPONCPD</td>\n",
       "    </tr>\n",
       "    <tr>\n",
       "      <th>39</th>\n",
       "      <td>1636385379913</td>\n",
       "      <td>CHURN_LOCATION</td>\n",
       "      <td>Y</td>\n",
       "      <td>ADMIN</td>\n",
       "      <td>None</td>\n",
       "      <td>Location</td>\n",
       "      <td>SNOWFLAKE</td>\n",
       "    </tr>\n",
       "    <tr>\n",
       "      <th>40</th>\n",
       "      <td>1635947935938</td>\n",
       "      <td>customer</td>\n",
       "      <td>Y</td>\n",
       "      <td>ADMIN</td>\n",
       "      <td>None</td>\n",
       "      <td>CUSTOMER</td>\n",
       "      <td>MYSQL</td>\n",
       "    </tr>\n",
       "    <tr>\n",
       "      <th>41</th>\n",
       "      <td>1636385379929</td>\n",
       "      <td>CHURN_DEMOGRAPHICS</td>\n",
       "      <td>Y</td>\n",
       "      <td>ADMIN</td>\n",
       "      <td>None</td>\n",
       "      <td>Demographics</td>\n",
       "      <td>SNOWFLAKE</td>\n",
       "    </tr>\n",
       "    <tr>\n",
       "      <th>42</th>\n",
       "      <td>1635948002678</td>\n",
       "      <td>stock_transactions</td>\n",
       "      <td>Y</td>\n",
       "      <td>ADMIN</td>\n",
       "      <td>None</td>\n",
       "      <td>STOCK_TRANSACTIONS</td>\n",
       "      <td>MYSQL</td>\n",
       "    </tr>\n",
       "    <tr>\n",
       "      <th>43</th>\n",
       "      <td>1636385380257</td>\n",
       "      <td>CHURN_SERVICES</td>\n",
       "      <td>Y</td>\n",
       "      <td>ADMIN</td>\n",
       "      <td>None</td>\n",
       "      <td>Services</td>\n",
       "      <td>SNOWFLAKE</td>\n",
       "    </tr>\n",
       "    <tr>\n",
       "      <th>44</th>\n",
       "      <td>1635962607219</td>\n",
       "      <td>accounts</td>\n",
       "      <td>Y</td>\n",
       "      <td>ADMIN</td>\n",
       "      <td>None</td>\n",
       "      <td>ACCOUNTS</td>\n",
       "      <td>EDBSTOCKSONPREMISES</td>\n",
       "    </tr>\n",
       "    <tr>\n",
       "      <th>45</th>\n",
       "      <td>1635963231254</td>\n",
       "      <td>ACCOUNTS</td>\n",
       "      <td>Y</td>\n",
       "      <td>ADMIN</td>\n",
       "      <td>None</td>\n",
       "      <td>ACCOUNTS</td>\n",
       "      <td>MONGOONPREMISES</td>\n",
       "    </tr>\n",
       "    <tr>\n",
       "      <th>46</th>\n",
       "      <td>1635948060514</td>\n",
       "      <td>stock_symbols</td>\n",
       "      <td>Y</td>\n",
       "      <td>ADMIN</td>\n",
       "      <td>None</td>\n",
       "      <td>STOCK_SYMBOLS</td>\n",
       "      <td>MYSQL</td>\n",
       "    </tr>\n",
       "    <tr>\n",
       "      <th>47</th>\n",
       "      <td>1635948113677</td>\n",
       "      <td>accounts</td>\n",
       "      <td>Y</td>\n",
       "      <td>ADMIN</td>\n",
       "      <td>None</td>\n",
       "      <td>ACCOUNTS</td>\n",
       "      <td>MYSQL</td>\n",
       "    </tr>\n",
       "    <tr>\n",
       "      <th>48</th>\n",
       "      <td>1635948181368</td>\n",
       "      <td>stock_history</td>\n",
       "      <td>Y</td>\n",
       "      <td>ADMIN</td>\n",
       "      <td>None</td>\n",
       "      <td>STOCK_HISTORY</td>\n",
       "      <td>MYSQL</td>\n",
       "    </tr>\n",
       "    <tr>\n",
       "      <th>49</th>\n",
       "      <td>1635963232585</td>\n",
       "      <td>STOCK_SYMBOLS</td>\n",
       "      <td>Y</td>\n",
       "      <td>ADMIN</td>\n",
       "      <td>None</td>\n",
       "      <td>STOCK_SYMBOLS</td>\n",
       "      <td>MONGOONPREMISES</td>\n",
       "    </tr>\n",
       "    <tr>\n",
       "      <th>50</th>\n",
       "      <td>1636559991339</td>\n",
       "      <td>L_AIRLINE_ID</td>\n",
       "      <td>Y</td>\n",
       "      <td>ADMIN</td>\n",
       "      <td>None</td>\n",
       "      <td>AIRLINE_ID</td>\n",
       "      <td>NETEZZA</td>\n",
       "    </tr>\n",
       "    <tr>\n",
       "      <th>51</th>\n",
       "      <td>1636559991350</td>\n",
       "      <td>L_AIRPORT_ID</td>\n",
       "      <td>Y</td>\n",
       "      <td>ADMIN</td>\n",
       "      <td>None</td>\n",
       "      <td>AIRPORT_ID</td>\n",
       "      <td>NETEZZA</td>\n",
       "    </tr>\n",
       "    <tr>\n",
       "      <th>52</th>\n",
       "      <td>1636559991574</td>\n",
       "      <td>L_CANCELLATION</td>\n",
       "      <td>Y</td>\n",
       "      <td>ADMIN</td>\n",
       "      <td>None</td>\n",
       "      <td>CANCELLATION</td>\n",
       "      <td>NETEZZA</td>\n",
       "    </tr>\n",
       "    <tr>\n",
       "      <th>53</th>\n",
       "      <td>1636047405320</td>\n",
       "      <td>VTF_CHURN_STATUS_7DF9B0A960D11B95_0</td>\n",
       "      <td>Y</td>\n",
       "      <td>ADMIN</td>\n",
       "      <td>None</td>\n",
       "      <td>STATUS</td>\n",
       "      <td>CHURN</td>\n",
       "    </tr>\n",
       "    <tr>\n",
       "      <th>54</th>\n",
       "      <td>1636047405400</td>\n",
       "      <td>VTF_CHURN_POPULATION_8C8AD9CF72066F69_0</td>\n",
       "      <td>Y</td>\n",
       "      <td>ADMIN</td>\n",
       "      <td>None</td>\n",
       "      <td>POPULATION</td>\n",
       "      <td>CHURN</td>\n",
       "    </tr>\n",
       "    <tr>\n",
       "      <th>55</th>\n",
       "      <td>1636121093829</td>\n",
       "      <td>VTF_EXCEL_STOCK_HISTORY_7577C28594A03F46_0</td>\n",
       "      <td>Y</td>\n",
       "      <td>ADMIN</td>\n",
       "      <td>None</td>\n",
       "      <td>STOCK_HISTORY</td>\n",
       "      <td>EXCEL</td>\n",
       "    </tr>\n",
       "    <tr>\n",
       "      <th>56</th>\n",
       "      <td>1637768740786</td>\n",
       "      <td>DISCOVER</td>\n",
       "      <td>Y</td>\n",
       "      <td>DATAENGINEER1</td>\n",
       "      <td>None</td>\n",
       "      <td>DISCOVERA</td>\n",
       "      <td>DATAENGINEER1</td>\n",
       "    </tr>\n",
       "    <tr>\n",
       "      <th>57</th>\n",
       "      <td>1636121094735</td>\n",
       "      <td>VTF_EXCEL_STOCK_TRANSACTIONS_2984E588CA3DA492_0</td>\n",
       "      <td>Y</td>\n",
       "      <td>ADMIN</td>\n",
       "      <td>None</td>\n",
       "      <td>STOCK_TRANSACTIONS</td>\n",
       "      <td>EXCEL</td>\n",
       "    </tr>\n",
       "    <tr>\n",
       "      <th>58</th>\n",
       "      <td>1637768740790</td>\n",
       "      <td>DISCOVER</td>\n",
       "      <td>Y</td>\n",
       "      <td>DATAENGINEER1</td>\n",
       "      <td>None</td>\n",
       "      <td>DISCOVERB</td>\n",
       "      <td>DATAENGINEER1</td>\n",
       "    </tr>\n",
       "    <tr>\n",
       "      <th>59</th>\n",
       "      <td>1636121094875</td>\n",
       "      <td>VTF_EXCEL_STOCK_SYMBOLS_F9E308ED12FDF609_0</td>\n",
       "      <td>Y</td>\n",
       "      <td>ADMIN</td>\n",
       "      <td>None</td>\n",
       "      <td>STOCK_SYMBOLS</td>\n",
       "      <td>EXCEL</td>\n",
       "    </tr>\n",
       "    <tr>\n",
       "      <th>60</th>\n",
       "      <td>1637768762918</td>\n",
       "      <td>DISCOVER</td>\n",
       "      <td>Y</td>\n",
       "      <td>DATAENGINEER1</td>\n",
       "      <td>None</td>\n",
       "      <td>DISCOVERFOLD</td>\n",
       "      <td>DATAENGINEER1</td>\n",
       "    </tr>\n",
       "    <tr>\n",
       "      <th>61</th>\n",
       "      <td>1636559990977</td>\n",
       "      <td>AIRCRAFT</td>\n",
       "      <td>Y</td>\n",
       "      <td>ADMIN</td>\n",
       "      <td>None</td>\n",
       "      <td>AIRCRAFT</td>\n",
       "      <td>NETEZZA</td>\n",
       "    </tr>\n",
       "    <tr>\n",
       "      <th>62</th>\n",
       "      <td>1636390640920</td>\n",
       "      <td>POPULATION</td>\n",
       "      <td>Y</td>\n",
       "      <td>ADMIN</td>\n",
       "      <td>None</td>\n",
       "      <td>Population</td>\n",
       "      <td>DB2CHURN</td>\n",
       "    </tr>\n",
       "    <tr>\n",
       "      <th>63</th>\n",
       "      <td>1636390784530</td>\n",
       "      <td>VTF_CSVCHURN_POPULATION_F4166289EE820D60_0</td>\n",
       "      <td>Y</td>\n",
       "      <td>ADMIN</td>\n",
       "      <td>None</td>\n",
       "      <td>Population</td>\n",
       "      <td>CSVCHURN</td>\n",
       "    </tr>\n",
       "    <tr>\n",
       "      <th>64</th>\n",
       "      <td>1636392295945</td>\n",
       "      <td>CHURN_POPULATION</td>\n",
       "      <td>Y</td>\n",
       "      <td>ADMIN</td>\n",
       "      <td>None</td>\n",
       "      <td>Population</td>\n",
       "      <td>SNOWFLAKE</td>\n",
       "    </tr>\n",
       "    <tr>\n",
       "      <th>65</th>\n",
       "      <td>1636392296273</td>\n",
       "      <td>CHURN_STATUS</td>\n",
       "      <td>Y</td>\n",
       "      <td>ADMIN</td>\n",
       "      <td>None</td>\n",
       "      <td>Status</td>\n",
       "      <td>SNOWFLAKE</td>\n",
       "    </tr>\n",
       "    <tr>\n",
       "      <th>66</th>\n",
       "      <td>1637338354250</td>\n",
       "      <td>CUSTOMER_CONTACT</td>\n",
       "      <td>Y</td>\n",
       "      <td>ADMIN</td>\n",
       "      <td>None</td>\n",
       "      <td>CUSTOMER_CONTACT</td>\n",
       "      <td>MONGOONCPD</td>\n",
       "    </tr>\n",
       "    <tr>\n",
       "      <th>67</th>\n",
       "      <td>1637338356522</td>\n",
       "      <td>STOCK_SYMBOLS</td>\n",
       "      <td>Y</td>\n",
       "      <td>ADMIN</td>\n",
       "      <td>None</td>\n",
       "      <td>STOCK_SYMBOLS</td>\n",
       "      <td>MONGOONCPD</td>\n",
       "    </tr>\n",
       "    <tr>\n",
       "      <th>68</th>\n",
       "      <td>1637338356527</td>\n",
       "      <td>STOCK_HISTORY</td>\n",
       "      <td>Y</td>\n",
       "      <td>ADMIN</td>\n",
       "      <td>None</td>\n",
       "      <td>STOCK_HISTORY</td>\n",
       "      <td>MONGOONCPD</td>\n",
       "    </tr>\n",
       "    <tr>\n",
       "      <th>69</th>\n",
       "      <td>1637338356657</td>\n",
       "      <td>CUSTOMER_PAYMENT</td>\n",
       "      <td>Y</td>\n",
       "      <td>ADMIN</td>\n",
       "      <td>None</td>\n",
       "      <td>CUSTOMER_PAYMENT</td>\n",
       "      <td>MONGOONCPD</td>\n",
       "    </tr>\n",
       "    <tr>\n",
       "      <th>70</th>\n",
       "      <td>1637338356966</td>\n",
       "      <td>CUSTOMER_IDENTITY</td>\n",
       "      <td>Y</td>\n",
       "      <td>ADMIN</td>\n",
       "      <td>None</td>\n",
       "      <td>CUSTOMER_IDENTITY</td>\n",
       "      <td>MONGOONCPD</td>\n",
       "    </tr>\n",
       "    <tr>\n",
       "      <th>71</th>\n",
       "      <td>1637338359343</td>\n",
       "      <td>CUSTOMER</td>\n",
       "      <td>Y</td>\n",
       "      <td>ADMIN</td>\n",
       "      <td>None</td>\n",
       "      <td>CUSTOMER</td>\n",
       "      <td>MONGOONCPD</td>\n",
       "    </tr>\n",
       "    <tr>\n",
       "      <th>72</th>\n",
       "      <td>1637338519183</td>\n",
       "      <td>CUSTOMER_CONTACT</td>\n",
       "      <td>Y</td>\n",
       "      <td>ADMIN</td>\n",
       "      <td>None</td>\n",
       "      <td>CUSTOMER_CONTACT</td>\n",
       "      <td>MONGOONPREMISES</td>\n",
       "    </tr>\n",
       "    <tr>\n",
       "      <th>73</th>\n",
       "      <td>1637338519220</td>\n",
       "      <td>CUSTOMER_IDENTITY</td>\n",
       "      <td>Y</td>\n",
       "      <td>ADMIN</td>\n",
       "      <td>None</td>\n",
       "      <td>CUSTOMER_IDENTITY</td>\n",
       "      <td>MONGOONPREMISES</td>\n",
       "    </tr>\n",
       "    <tr>\n",
       "      <th>74</th>\n",
       "      <td>1637338519235</td>\n",
       "      <td>CUSTOMER_PAYMENT</td>\n",
       "      <td>Y</td>\n",
       "      <td>ADMIN</td>\n",
       "      <td>None</td>\n",
       "      <td>CUSTOMER_PAYMENT</td>\n",
       "      <td>MONGOONPREMISES</td>\n",
       "    </tr>\n",
       "    <tr>\n",
       "      <th>75</th>\n",
       "      <td>1637853094172</td>\n",
       "      <td>ACCOUNTS</td>\n",
       "      <td>Y</td>\n",
       "      <td>ADMIN</td>\n",
       "      <td>None</td>\n",
       "      <td>ACCOUNTS</td>\n",
       "      <td>EDBONCPD</td>\n",
       "    </tr>\n",
       "    <tr>\n",
       "      <th>76</th>\n",
       "      <td>1637853095268</td>\n",
       "      <td>CUSTOMER</td>\n",
       "      <td>Y</td>\n",
       "      <td>ADMIN</td>\n",
       "      <td>None</td>\n",
       "      <td>CUSTOMER</td>\n",
       "      <td>EDBONCPD</td>\n",
       "    </tr>\n",
       "    <tr>\n",
       "      <th>77</th>\n",
       "      <td>1637853095327</td>\n",
       "      <td>STOCK_TRANSACTIONS</td>\n",
       "      <td>Y</td>\n",
       "      <td>ADMIN</td>\n",
       "      <td>None</td>\n",
       "      <td>STOCK_TRANSACTIONS</td>\n",
       "      <td>EDBONCPD</td>\n",
       "    </tr>\n",
       "    <tr>\n",
       "      <th>78</th>\n",
       "      <td>1637853096628</td>\n",
       "      <td>STOCK_SYMBOLS</td>\n",
       "      <td>Y</td>\n",
       "      <td>ADMIN</td>\n",
       "      <td>None</td>\n",
       "      <td>STOCK_SYMBOLS</td>\n",
       "      <td>EDBONCPD</td>\n",
       "    </tr>\n",
       "    <tr>\n",
       "      <th>79</th>\n",
       "      <td>1637853096697</td>\n",
       "      <td>STOCK_HISTORY</td>\n",
       "      <td>Y</td>\n",
       "      <td>ADMIN</td>\n",
       "      <td>None</td>\n",
       "      <td>STOCK_HISTORY</td>\n",
       "      <td>EDBONCPD</td>\n",
       "    </tr>\n",
       "    <tr>\n",
       "      <th>80</th>\n",
       "      <td>1637853806259</td>\n",
       "      <td>VTF_XLSX_STOCK_SYMBOLS_E34BECFCF9EE8548_0</td>\n",
       "      <td>Y</td>\n",
       "      <td>ADMIN</td>\n",
       "      <td>None</td>\n",
       "      <td>STOCK_SYMBOLS</td>\n",
       "      <td>XLSX</td>\n",
       "    </tr>\n",
       "    <tr>\n",
       "      <th>81</th>\n",
       "      <td>1637853807128</td>\n",
       "      <td>VTF_XLSX_CUSTOMER_3D1F95F131587D07_0</td>\n",
       "      <td>Y</td>\n",
       "      <td>ADMIN</td>\n",
       "      <td>None</td>\n",
       "      <td>CUSTOMER</td>\n",
       "      <td>XLSX</td>\n",
       "    </tr>\n",
       "    <tr>\n",
       "      <th>82</th>\n",
       "      <td>1637853807318</td>\n",
       "      <td>VTF_XLSX_ACCOUNTS_F34CC0CF6E00E81C_0</td>\n",
       "      <td>Y</td>\n",
       "      <td>ADMIN</td>\n",
       "      <td>None</td>\n",
       "      <td>ACCOUNTS</td>\n",
       "      <td>XLSX</td>\n",
       "    </tr>\n",
       "    <tr>\n",
       "      <th>83</th>\n",
       "      <td>1637853807354</td>\n",
       "      <td>VTF_XLSX_STOCK_TRANSACTIONS_A5B5AB978FDD9C37_0</td>\n",
       "      <td>Y</td>\n",
       "      <td>ADMIN</td>\n",
       "      <td>None</td>\n",
       "      <td>STOCK_TRANSACTIONS</td>\n",
       "      <td>XLSX</td>\n",
       "    </tr>\n",
       "    <tr>\n",
       "      <th>84</th>\n",
       "      <td>1637853807363</td>\n",
       "      <td>VTF_XLSX_STOCK_HISTORY_E90F1192757722E5_0</td>\n",
       "      <td>Y</td>\n",
       "      <td>ADMIN</td>\n",
       "      <td>None</td>\n",
       "      <td>STOCK_HISTORY</td>\n",
       "      <td>XLSX</td>\n",
       "    </tr>\n",
       "    <tr>\n",
       "      <th>85</th>\n",
       "      <td>1637853809267</td>\n",
       "      <td>VTF_XLSX_PORTFOLIO_3C26E41795427368_0</td>\n",
       "      <td>Y</td>\n",
       "      <td>ADMIN</td>\n",
       "      <td>None</td>\n",
       "      <td>PORTFOLIO</td>\n",
       "      <td>XLSX</td>\n",
       "    </tr>\n",
       "    <tr>\n",
       "      <th>86</th>\n",
       "      <td>1637853975304</td>\n",
       "      <td>VTF_ONTIMECSV_AIRCRAFT_D1FAECE832263E5A_0</td>\n",
       "      <td>Y</td>\n",
       "      <td>ADMIN</td>\n",
       "      <td>None</td>\n",
       "      <td>AIRCRAFT</td>\n",
       "      <td>ONTIMECSV</td>\n",
       "    </tr>\n",
       "  </tbody>\n",
       "</table>\n",
       "</div>"
      ],
      "text/plain": [
       "      create_time                           data_source_table_name grantable  \\\n",
       "0   1635963231912                               STOCK_TRANSACTIONS         Y   \n",
       "1   1636382906217     VTF_CSVCHURN_DEMOGRAPHICS_CFFEC6391993C2FC_0         Y   \n",
       "2   1636382980427         VTF_CSVCHURN_LOCATION_A327379E775DDDDB_0         Y   \n",
       "3   1636496026345                                       AIRPORT_ID         Y   \n",
       "4   1635962655815                                    stock_symbols         Y   \n",
       "5   1636496026378                                           ONTIME         Y   \n",
       "6   1635962730649                                         customer         Y   \n",
       "7   1636496026471                                       AIRLINE_ID         Y   \n",
       "8   1635961519040                                    STOCK_HISTORY         Y   \n",
       "9   1636496027189                                         AIRCRAFT         Y   \n",
       "10  1635961566939                                    STOCK_SYMBOLS         Y   \n",
       "11  1636496027236                                     CANCELLATION         Y   \n",
       "12  1635963232287                                         CUSTOMER         Y   \n",
       "13  1635962808947                               STOCK_TRANSACTIONS         Y   \n",
       "14  1635961695734                               STOCK_TRANSACTIONS         Y   \n",
       "15  1635963232319                                    STOCK_HISTORY         Y   \n",
       "16  1636121093366            VTF_EXCEL_ACCOUNTS_257FB6A2483F3D68_0         Y   \n",
       "17  1636496652650                                           ONTIME         Y   \n",
       "18  1635962072432                                         ACCOUNTS         Y   \n",
       "19  1635962072820                                    STOCK_SYMBOLS         Y   \n",
       "20  1635962073159                               STOCK_TRANSACTIONS         Y   \n",
       "21  1635947542985                                         CUSTOMER         Y   \n",
       "22  1636384857470         VTF_CSVCHURN_SERVICES_87D47BCDD2A6941D_0         Y   \n",
       "23  1635962073272                                    STOCK_HISTORY         Y   \n",
       "24  1636384920286           VTF_CSVCHURN_STATUS_160B5344D5EA5078_0         Y   \n",
       "25  1635947543778                                    STOCK_HISTORY         Y   \n",
       "26  1636121093423            VTF_EXCEL_CUSTOMER_DB2E3F06A2BC2934_0         Y   \n",
       "27  1635963083516                                         ACCOUNTS         Y   \n",
       "28  1636385133343                                         LOCATION         Y   \n",
       "29  1635962338159                               stock_transactions         Y   \n",
       "30  1636385133817                                         SERVICES         Y   \n",
       "31  1635947665180                               STOCK_TRANSACTIONS         Y   \n",
       "32  1636385134009                                           STATUS         Y   \n",
       "33  1635947665469                                         ACCOUNTS         Y   \n",
       "34  1636385134011                                     DEMOGRAPHICS         Y   \n",
       "35  1635961449680                                         CUSTOMER         Y   \n",
       "36  1635947709189                                    STOCK_SYMBOLS         Y   \n",
       "37  1635962531358                                    stock_history         Y   \n",
       "38  1635961450415                                         ACCOUNTS         Y   \n",
       "39  1636385379913                                   CHURN_LOCATION         Y   \n",
       "40  1635947935938                                         customer         Y   \n",
       "41  1636385379929                               CHURN_DEMOGRAPHICS         Y   \n",
       "42  1635948002678                               stock_transactions         Y   \n",
       "43  1636385380257                                   CHURN_SERVICES         Y   \n",
       "44  1635962607219                                         accounts         Y   \n",
       "45  1635963231254                                         ACCOUNTS         Y   \n",
       "46  1635948060514                                    stock_symbols         Y   \n",
       "47  1635948113677                                         accounts         Y   \n",
       "48  1635948181368                                    stock_history         Y   \n",
       "49  1635963232585                                    STOCK_SYMBOLS         Y   \n",
       "50  1636559991339                                     L_AIRLINE_ID         Y   \n",
       "51  1636559991350                                     L_AIRPORT_ID         Y   \n",
       "52  1636559991574                                   L_CANCELLATION         Y   \n",
       "53  1636047405320              VTF_CHURN_STATUS_7DF9B0A960D11B95_0         Y   \n",
       "54  1636047405400          VTF_CHURN_POPULATION_8C8AD9CF72066F69_0         Y   \n",
       "55  1636121093829       VTF_EXCEL_STOCK_HISTORY_7577C28594A03F46_0         Y   \n",
       "56  1637768740786                                         DISCOVER         Y   \n",
       "57  1636121094735  VTF_EXCEL_STOCK_TRANSACTIONS_2984E588CA3DA492_0         Y   \n",
       "58  1637768740790                                         DISCOVER         Y   \n",
       "59  1636121094875       VTF_EXCEL_STOCK_SYMBOLS_F9E308ED12FDF609_0         Y   \n",
       "60  1637768762918                                         DISCOVER         Y   \n",
       "61  1636559990977                                         AIRCRAFT         Y   \n",
       "62  1636390640920                                       POPULATION         Y   \n",
       "63  1636390784530       VTF_CSVCHURN_POPULATION_F4166289EE820D60_0         Y   \n",
       "64  1636392295945                                 CHURN_POPULATION         Y   \n",
       "65  1636392296273                                     CHURN_STATUS         Y   \n",
       "66  1637338354250                                 CUSTOMER_CONTACT         Y   \n",
       "67  1637338356522                                    STOCK_SYMBOLS         Y   \n",
       "68  1637338356527                                    STOCK_HISTORY         Y   \n",
       "69  1637338356657                                 CUSTOMER_PAYMENT         Y   \n",
       "70  1637338356966                                CUSTOMER_IDENTITY         Y   \n",
       "71  1637338359343                                         CUSTOMER         Y   \n",
       "72  1637338519183                                 CUSTOMER_CONTACT         Y   \n",
       "73  1637338519220                                CUSTOMER_IDENTITY         Y   \n",
       "74  1637338519235                                 CUSTOMER_PAYMENT         Y   \n",
       "75  1637853094172                                         ACCOUNTS         Y   \n",
       "76  1637853095268                                         CUSTOMER         Y   \n",
       "77  1637853095327                               STOCK_TRANSACTIONS         Y   \n",
       "78  1637853096628                                    STOCK_SYMBOLS         Y   \n",
       "79  1637853096697                                    STOCK_HISTORY         Y   \n",
       "80  1637853806259        VTF_XLSX_STOCK_SYMBOLS_E34BECFCF9EE8548_0         Y   \n",
       "81  1637853807128             VTF_XLSX_CUSTOMER_3D1F95F131587D07_0         Y   \n",
       "82  1637853807318             VTF_XLSX_ACCOUNTS_F34CC0CF6E00E81C_0         Y   \n",
       "83  1637853807354   VTF_XLSX_STOCK_TRANSACTIONS_A5B5AB978FDD9C37_0         Y   \n",
       "84  1637853807363        VTF_XLSX_STOCK_HISTORY_E90F1192757722E5_0         Y   \n",
       "85  1637853809267            VTF_XLSX_PORTFOLIO_3C26E41795427368_0         Y   \n",
       "86  1637853975304        VTF_ONTIMECSV_AIRCRAFT_D1FAECE832263E5A_0         Y   \n",
       "\n",
       "            owner stats_time          table_name         table_schema  \n",
       "0           ADMIN       None  STOCK_TRANSACTIONS      MONGOONPREMISES  \n",
       "1           ADMIN       None        Demographics             CSVCHURN  \n",
       "2           ADMIN       None            Location             CSVCHURN  \n",
       "3           ADMIN       None          AIRPORT_ID            DB2WONCPD  \n",
       "4           ADMIN       None       STOCK_SYMBOLS  EDBSTOCKSONPREMISES  \n",
       "5           ADMIN       None              ONTIME            DB2WONCPD  \n",
       "6           ADMIN       None            CUSTOMER  EDBSTOCKSONPREMISES  \n",
       "7           ADMIN       None          AIRLINE_ID            DB2WONCPD  \n",
       "8           ADMIN       None       STOCK_HISTORY         DB2OLTPONCPD  \n",
       "9           ADMIN       None            AIRCRAFT         DB2OLTPONCPD  \n",
       "10          ADMIN       None       STOCK_SYMBOLS         DB2OLTPONCPD  \n",
       "11          ADMIN       None        CANCELLATION            DB2WONCPD  \n",
       "12          ADMIN       None            CUSTOMER      MONGOONPREMISES  \n",
       "13          ADMIN       None  STOCK_TRANSACTIONS               DB2AWS  \n",
       "14          ADMIN       None  STOCK_TRANSACTIONS         DB2OLTPONCPD  \n",
       "15          ADMIN       None       STOCK_HISTORY      MONGOONPREMISES  \n",
       "16          ADMIN       None            ACCOUNTS                EXCEL  \n",
       "17          ADMIN       None          ONTIME1115               ONTIME  \n",
       "18          ADMIN       None            ACCOUNTS              NETEZZA  \n",
       "19          ADMIN       None       STOCK_SYMBOLS              NETEZZA  \n",
       "20          ADMIN       None  STOCK_TRANSACTIONS              NETEZZA  \n",
       "21          ADMIN       None            CUSTOMER        DB2ONPREMISES  \n",
       "22          ADMIN       None            Services             CSVCHURN  \n",
       "23          ADMIN       None       STOCK_HISTORY              NETEZZA  \n",
       "24          ADMIN       None              Status             CSVCHURN  \n",
       "25          ADMIN       None       STOCK_HISTORY        DB2ONPREMISES  \n",
       "26          ADMIN       None            CUSTOMER                EXCEL  \n",
       "27          ADMIN       None            ACCOUNTS               DB2AWS  \n",
       "28          ADMIN       None            Location             DB2CHURN  \n",
       "29          ADMIN       None  STOCK_TRANSACTIONS  EDBSTOCKSONPREMISES  \n",
       "30          ADMIN       None            Services             DB2CHURN  \n",
       "31          ADMIN       None  STOCK_TRANSACTIONS        DB2ONPREMISES  \n",
       "32          ADMIN       None              Status             DB2CHURN  \n",
       "33          ADMIN       None            ACCOUNTS        DB2ONPREMISES  \n",
       "34          ADMIN       None        Demographics             DB2CHURN  \n",
       "35          ADMIN       None            CUSTOMER         DB2OLTPONCPD  \n",
       "36          ADMIN       None       STOCK_SYMBOLS        DB2ONPREMISES  \n",
       "37          ADMIN       None       STOCK_HISTORY  EDBSTOCKSONPREMISES  \n",
       "38          ADMIN       None            ACCOUNTS         DB2OLTPONCPD  \n",
       "39          ADMIN       None            Location            SNOWFLAKE  \n",
       "40          ADMIN       None            CUSTOMER                MYSQL  \n",
       "41          ADMIN       None        Demographics            SNOWFLAKE  \n",
       "42          ADMIN       None  STOCK_TRANSACTIONS                MYSQL  \n",
       "43          ADMIN       None            Services            SNOWFLAKE  \n",
       "44          ADMIN       None            ACCOUNTS  EDBSTOCKSONPREMISES  \n",
       "45          ADMIN       None            ACCOUNTS      MONGOONPREMISES  \n",
       "46          ADMIN       None       STOCK_SYMBOLS                MYSQL  \n",
       "47          ADMIN       None            ACCOUNTS                MYSQL  \n",
       "48          ADMIN       None       STOCK_HISTORY                MYSQL  \n",
       "49          ADMIN       None       STOCK_SYMBOLS      MONGOONPREMISES  \n",
       "50          ADMIN       None          AIRLINE_ID              NETEZZA  \n",
       "51          ADMIN       None          AIRPORT_ID              NETEZZA  \n",
       "52          ADMIN       None        CANCELLATION              NETEZZA  \n",
       "53          ADMIN       None              STATUS                CHURN  \n",
       "54          ADMIN       None          POPULATION                CHURN  \n",
       "55          ADMIN       None       STOCK_HISTORY                EXCEL  \n",
       "56  DATAENGINEER1       None           DISCOVERA        DATAENGINEER1  \n",
       "57          ADMIN       None  STOCK_TRANSACTIONS                EXCEL  \n",
       "58  DATAENGINEER1       None           DISCOVERB        DATAENGINEER1  \n",
       "59          ADMIN       None       STOCK_SYMBOLS                EXCEL  \n",
       "60  DATAENGINEER1       None        DISCOVERFOLD        DATAENGINEER1  \n",
       "61          ADMIN       None            AIRCRAFT              NETEZZA  \n",
       "62          ADMIN       None          Population             DB2CHURN  \n",
       "63          ADMIN       None          Population             CSVCHURN  \n",
       "64          ADMIN       None          Population            SNOWFLAKE  \n",
       "65          ADMIN       None              Status            SNOWFLAKE  \n",
       "66          ADMIN       None    CUSTOMER_CONTACT           MONGOONCPD  \n",
       "67          ADMIN       None       STOCK_SYMBOLS           MONGOONCPD  \n",
       "68          ADMIN       None       STOCK_HISTORY           MONGOONCPD  \n",
       "69          ADMIN       None    CUSTOMER_PAYMENT           MONGOONCPD  \n",
       "70          ADMIN       None   CUSTOMER_IDENTITY           MONGOONCPD  \n",
       "71          ADMIN       None            CUSTOMER           MONGOONCPD  \n",
       "72          ADMIN       None    CUSTOMER_CONTACT      MONGOONPREMISES  \n",
       "73          ADMIN       None   CUSTOMER_IDENTITY      MONGOONPREMISES  \n",
       "74          ADMIN       None    CUSTOMER_PAYMENT      MONGOONPREMISES  \n",
       "75          ADMIN       None            ACCOUNTS             EDBONCPD  \n",
       "76          ADMIN       None            CUSTOMER             EDBONCPD  \n",
       "77          ADMIN       None  STOCK_TRANSACTIONS             EDBONCPD  \n",
       "78          ADMIN       None       STOCK_SYMBOLS             EDBONCPD  \n",
       "79          ADMIN       None       STOCK_HISTORY             EDBONCPD  \n",
       "80          ADMIN       None       STOCK_SYMBOLS                 XLSX  \n",
       "81          ADMIN       None            CUSTOMER                 XLSX  \n",
       "82          ADMIN       None            ACCOUNTS                 XLSX  \n",
       "83          ADMIN       None  STOCK_TRANSACTIONS                 XLSX  \n",
       "84          ADMIN       None       STOCK_HISTORY                 XLSX  \n",
       "85          ADMIN       None           PORTFOLIO                 XLSX  \n",
       "86          ADMIN       None            AIRCRAFT            ONTIMECSV  "
      ]
     },
     "metadata": {},
     "output_type": "display_data"
    }
   ],
   "source": [
    "### Display Virtualized Tables \n",
    "display(databaseAPI.getVirtualizedTablesDF())"
   ]
  },
  {
   "cell_type": "code",
   "execution_count": 48,
   "metadata": {
    "id": "570664a38ca54de681de1601ff0e9d38"
   },
   "outputs": [
    {
     "data": {
      "text/html": [
       "<div>\n",
       "<style scoped>\n",
       "    .dataframe tbody tr th:only-of-type {\n",
       "        vertical-align: middle;\n",
       "    }\n",
       "\n",
       "    .dataframe tbody tr th {\n",
       "        vertical-align: top;\n",
       "    }\n",
       "\n",
       "    .dataframe thead th {\n",
       "        text-align: right;\n",
       "    }\n",
       "</style>\n",
       "<table border=\"1\" class=\"dataframe\">\n",
       "  <thead>\n",
       "    <tr style=\"text-align: right;\">\n",
       "      <th></th>\n",
       "      <th>create_time</th>\n",
       "      <th>grantable</th>\n",
       "      <th>owner</th>\n",
       "      <th>viewname</th>\n",
       "      <th>viewschema</th>\n",
       "    </tr>\n",
       "  </thead>\n",
       "  <tbody>\n",
       "    <tr>\n",
       "      <th>0</th>\n",
       "      <td>1636988882061</td>\n",
       "      <td>Y</td>\n",
       "      <td>ADMIN</td>\n",
       "      <td>ONTIMESMALL</td>\n",
       "      <td>ADMIN</td>\n",
       "    </tr>\n",
       "    <tr>\n",
       "      <th>1</th>\n",
       "      <td>1637962242075</td>\n",
       "      <td>Y</td>\n",
       "      <td>ADMIN</td>\n",
       "      <td>REMOTETABLESOURCE</td>\n",
       "      <td>ADMIN</td>\n",
       "    </tr>\n",
       "    <tr>\n",
       "      <th>2</th>\n",
       "      <td>1636392768201</td>\n",
       "      <td>Y</td>\n",
       "      <td>ADMIN</td>\n",
       "      <td>CHURN</td>\n",
       "      <td>CHURN</td>\n",
       "    </tr>\n",
       "    <tr>\n",
       "      <th>3</th>\n",
       "      <td>1636391715932</td>\n",
       "      <td>Y</td>\n",
       "      <td>ADMIN</td>\n",
       "      <td>LOCATION_POPULATION</td>\n",
       "      <td>CHURN</td>\n",
       "    </tr>\n",
       "    <tr>\n",
       "      <th>4</th>\n",
       "      <td>1636392562722</td>\n",
       "      <td>Y</td>\n",
       "      <td>ADMIN</td>\n",
       "      <td>SERVICES_STATUS</td>\n",
       "      <td>CHURN</td>\n",
       "    </tr>\n",
       "    <tr>\n",
       "      <th>5</th>\n",
       "      <td>1638318204385</td>\n",
       "      <td>Y</td>\n",
       "      <td>DATAENGINEER1</td>\n",
       "      <td>MYOHIOQUERY</td>\n",
       "      <td>DATAENGINEER1</td>\n",
       "    </tr>\n",
       "    <tr>\n",
       "      <th>6</th>\n",
       "      <td>1638317456873</td>\n",
       "      <td>Y</td>\n",
       "      <td>DATAENGINEER1</td>\n",
       "      <td>TRANSACTIONS_FULLNAME</td>\n",
       "      <td>DATAENGINEER1</td>\n",
       "    </tr>\n",
       "    <tr>\n",
       "      <th>7</th>\n",
       "      <td>1637594958041</td>\n",
       "      <td>Y</td>\n",
       "      <td>ADMIN</td>\n",
       "      <td>CUSTOMER</td>\n",
       "      <td>MONGO</td>\n",
       "    </tr>\n",
       "    <tr>\n",
       "      <th>8</th>\n",
       "      <td>1636562977952</td>\n",
       "      <td>Y</td>\n",
       "      <td>ADMIN</td>\n",
       "      <td>AIRCRAFT</td>\n",
       "      <td>ONTIME</td>\n",
       "    </tr>\n",
       "    <tr>\n",
       "      <th>9</th>\n",
       "      <td>1636563269752</td>\n",
       "      <td>Y</td>\n",
       "      <td>ADMIN</td>\n",
       "      <td>BOEING737</td>\n",
       "      <td>ONTIME</td>\n",
       "    </tr>\n",
       "    <tr>\n",
       "      <th>10</th>\n",
       "      <td>1636497353224</td>\n",
       "      <td>Y</td>\n",
       "      <td>ADMIN</td>\n",
       "      <td>ONTIME</td>\n",
       "      <td>ONTIME</td>\n",
       "    </tr>\n",
       "    <tr>\n",
       "      <th>11</th>\n",
       "      <td>1636497308454</td>\n",
       "      <td>Y</td>\n",
       "      <td>ADMIN</td>\n",
       "      <td>ONTIME0910</td>\n",
       "      <td>ONTIME</td>\n",
       "    </tr>\n",
       "    <tr>\n",
       "      <th>12</th>\n",
       "      <td>1636989196845</td>\n",
       "      <td>Y</td>\n",
       "      <td>ADMIN</td>\n",
       "      <td>ONTIME737NJCA</td>\n",
       "      <td>ONTIME</td>\n",
       "    </tr>\n",
       "    <tr>\n",
       "      <th>13</th>\n",
       "      <td>1636988901484</td>\n",
       "      <td>Y</td>\n",
       "      <td>ADMIN</td>\n",
       "      <td>ONTIMESMALL</td>\n",
       "      <td>ONTIME</td>\n",
       "    </tr>\n",
       "    <tr>\n",
       "      <th>14</th>\n",
       "      <td>1637961605059</td>\n",
       "      <td>Y</td>\n",
       "      <td>ADMIN</td>\n",
       "      <td>ACCOUNTS</td>\n",
       "      <td>TRADING</td>\n",
       "    </tr>\n",
       "    <tr>\n",
       "      <th>15</th>\n",
       "      <td>1637961604312</td>\n",
       "      <td>Y</td>\n",
       "      <td>ADMIN</td>\n",
       "      <td>CUSTOMER</td>\n",
       "      <td>TRADING</td>\n",
       "    </tr>\n",
       "    <tr>\n",
       "      <th>16</th>\n",
       "      <td>1637961604464</td>\n",
       "      <td>Y</td>\n",
       "      <td>ADMIN</td>\n",
       "      <td>PORTFOLIO</td>\n",
       "      <td>TRADING</td>\n",
       "    </tr>\n",
       "    <tr>\n",
       "      <th>17</th>\n",
       "      <td>1637961604772</td>\n",
       "      <td>Y</td>\n",
       "      <td>ADMIN</td>\n",
       "      <td>STOCK_HISTORY</td>\n",
       "      <td>TRADING</td>\n",
       "    </tr>\n",
       "    <tr>\n",
       "      <th>18</th>\n",
       "      <td>1637961604616</td>\n",
       "      <td>Y</td>\n",
       "      <td>ADMIN</td>\n",
       "      <td>STOCK_SYMBOLS</td>\n",
       "      <td>TRADING</td>\n",
       "    </tr>\n",
       "    <tr>\n",
       "      <th>19</th>\n",
       "      <td>1637961604913</td>\n",
       "      <td>Y</td>\n",
       "      <td>ADMIN</td>\n",
       "      <td>STOCK_TRANSACTIONS</td>\n",
       "      <td>TRADING</td>\n",
       "    </tr>\n",
       "  </tbody>\n",
       "</table>\n",
       "</div>"
      ],
      "text/plain": [
       "      create_time grantable          owner               viewname  \\\n",
       "0   1636988882061         Y          ADMIN            ONTIMESMALL   \n",
       "1   1637962242075         Y          ADMIN      REMOTETABLESOURCE   \n",
       "2   1636392768201         Y          ADMIN                  CHURN   \n",
       "3   1636391715932         Y          ADMIN    LOCATION_POPULATION   \n",
       "4   1636392562722         Y          ADMIN        SERVICES_STATUS   \n",
       "5   1638318204385         Y  DATAENGINEER1            MYOHIOQUERY   \n",
       "6   1638317456873         Y  DATAENGINEER1  TRANSACTIONS_FULLNAME   \n",
       "7   1637594958041         Y          ADMIN               CUSTOMER   \n",
       "8   1636562977952         Y          ADMIN               AIRCRAFT   \n",
       "9   1636563269752         Y          ADMIN              BOEING737   \n",
       "10  1636497353224         Y          ADMIN                 ONTIME   \n",
       "11  1636497308454         Y          ADMIN             ONTIME0910   \n",
       "12  1636989196845         Y          ADMIN          ONTIME737NJCA   \n",
       "13  1636988901484         Y          ADMIN            ONTIMESMALL   \n",
       "14  1637961605059         Y          ADMIN               ACCOUNTS   \n",
       "15  1637961604312         Y          ADMIN               CUSTOMER   \n",
       "16  1637961604464         Y          ADMIN              PORTFOLIO   \n",
       "17  1637961604772         Y          ADMIN          STOCK_HISTORY   \n",
       "18  1637961604616         Y          ADMIN          STOCK_SYMBOLS   \n",
       "19  1637961604913         Y          ADMIN     STOCK_TRANSACTIONS   \n",
       "\n",
       "       viewschema  \n",
       "0           ADMIN  \n",
       "1           ADMIN  \n",
       "2           CHURN  \n",
       "3           CHURN  \n",
       "4           CHURN  \n",
       "5   DATAENGINEER1  \n",
       "6   DATAENGINEER1  \n",
       "7           MONGO  \n",
       "8          ONTIME  \n",
       "9          ONTIME  \n",
       "10         ONTIME  \n",
       "11         ONTIME  \n",
       "12         ONTIME  \n",
       "13         ONTIME  \n",
       "14        TRADING  \n",
       "15        TRADING  \n",
       "16        TRADING  \n",
       "17        TRADING  \n",
       "18        TRADING  \n",
       "19        TRADING  "
      ]
     },
     "metadata": {},
     "output_type": "display_data"
    }
   ],
   "source": [
    "### Display Views \n",
    "display(databaseAPI.getVirtualizedViewsDF())"
   ]
  },
  {
   "cell_type": "markdown",
   "metadata": {
    "id": "60891cad-343d-46a2-9228-cbd65b0fb64e"
   },
   "source": [
    "#### Get a list of the IBM Cloud Pak for Data Users\n",
    "This example returns a list of all the users of the IBM Cloud Pak for Data system. It only displays three colunns in the Dataframe, but the list of all the available columns is als printed out. Try changing the code to display other columns."
   ]
  },
  {
   "cell_type": "code",
   "execution_count": 7,
   "metadata": {
    "id": "95689419-b2ee-40b3-adf2-cac9c78cedd7"
   },
   "outputs": [
    {
     "data": {
      "text/html": [
       "<div>\n",
       "<style scoped>\n",
       "    .dataframe tbody tr th:only-of-type {\n",
       "        vertical-align: middle;\n",
       "    }\n",
       "\n",
       "    .dataframe tbody tr th {\n",
       "        vertical-align: top;\n",
       "    }\n",
       "\n",
       "    .dataframe thead th {\n",
       "        text-align: right;\n",
       "    }\n",
       "</style>\n",
       "<table border=\"1\" class=\"dataframe\">\n",
       "  <thead>\n",
       "    <tr style=\"text-align: right;\">\n",
       "      <th></th>\n",
       "      <th>uid</th>\n",
       "      <th>username</th>\n",
       "      <th>displayName</th>\n",
       "      <th>user_roles</th>\n",
       "      <th>role</th>\n",
       "    </tr>\n",
       "  </thead>\n",
       "  <tbody>\n",
       "    <tr>\n",
       "      <th>0</th>\n",
       "      <td>1000330999</td>\n",
       "      <td>admin</td>\n",
       "      <td>admin</td>\n",
       "      <td>[zen_administrator_role, zen_developer_role, w...</td>\n",
       "      <td>Admin</td>\n",
       "    </tr>\n",
       "    <tr>\n",
       "      <th>1</th>\n",
       "      <td>1000331001</td>\n",
       "      <td>scientist</td>\n",
       "      <td>Data Scientist</td>\n",
       "      <td>[wkc_data_scientist_role, zen_data_engineer_ro...</td>\n",
       "      <td>User</td>\n",
       "    </tr>\n",
       "    <tr>\n",
       "      <th>2</th>\n",
       "      <td>1000331002</td>\n",
       "      <td>dataengineer0</td>\n",
       "      <td>DATAENGINEER0</td>\n",
       "      <td>[zen_data_engineer_role]</td>\n",
       "      <td>User</td>\n",
       "    </tr>\n",
       "    <tr>\n",
       "      <th>3</th>\n",
       "      <td>1000331003</td>\n",
       "      <td>dataengineer1</td>\n",
       "      <td>DATAENGINEER1</td>\n",
       "      <td>[zen_data_engineer_role]</td>\n",
       "      <td>User</td>\n",
       "    </tr>\n",
       "    <tr>\n",
       "      <th>4</th>\n",
       "      <td>1000331004</td>\n",
       "      <td>dataengineer2</td>\n",
       "      <td>DATAENGINEER2</td>\n",
       "      <td>[zen_data_engineer_role]</td>\n",
       "      <td>User</td>\n",
       "    </tr>\n",
       "    <tr>\n",
       "      <th>5</th>\n",
       "      <td>1000331005</td>\n",
       "      <td>dataengineer3</td>\n",
       "      <td>DATAENGINEER3</td>\n",
       "      <td>[zen_data_engineer_role]</td>\n",
       "      <td>User</td>\n",
       "    </tr>\n",
       "    <tr>\n",
       "      <th>6</th>\n",
       "      <td>1000331006</td>\n",
       "      <td>dataengineer4</td>\n",
       "      <td>DATAENGINEER4</td>\n",
       "      <td>[zen_data_engineer_role]</td>\n",
       "      <td>User</td>\n",
       "    </tr>\n",
       "    <tr>\n",
       "      <th>7</th>\n",
       "      <td>1000331007</td>\n",
       "      <td>dataengineer5</td>\n",
       "      <td>DATAENGINEER5</td>\n",
       "      <td>[zen_data_engineer_role]</td>\n",
       "      <td>User</td>\n",
       "    </tr>\n",
       "    <tr>\n",
       "      <th>8</th>\n",
       "      <td>1000331008</td>\n",
       "      <td>dataengineer6</td>\n",
       "      <td>DATAENGINEER6</td>\n",
       "      <td>[zen_data_engineer_role]</td>\n",
       "      <td>User</td>\n",
       "    </tr>\n",
       "    <tr>\n",
       "      <th>9</th>\n",
       "      <td>1000331009</td>\n",
       "      <td>dataengineer7</td>\n",
       "      <td>DATAENGINEER7</td>\n",
       "      <td>[zen_data_engineer_role]</td>\n",
       "      <td>User</td>\n",
       "    </tr>\n",
       "    <tr>\n",
       "      <th>10</th>\n",
       "      <td>1000331010</td>\n",
       "      <td>dataengineer8</td>\n",
       "      <td>DATAENGINEER8</td>\n",
       "      <td>[zen_data_engineer_role]</td>\n",
       "      <td>User</td>\n",
       "    </tr>\n",
       "    <tr>\n",
       "      <th>11</th>\n",
       "      <td>1000331011</td>\n",
       "      <td>dataengineer9</td>\n",
       "      <td>DATAENGINEER9</td>\n",
       "      <td>[zen_data_engineer_role]</td>\n",
       "      <td>User</td>\n",
       "    </tr>\n",
       "    <tr>\n",
       "      <th>12</th>\n",
       "      <td>1000331012</td>\n",
       "      <td>dataengineer10</td>\n",
       "      <td>DATAENGINEER10</td>\n",
       "      <td>[zen_data_engineer_role]</td>\n",
       "      <td>User</td>\n",
       "    </tr>\n",
       "    <tr>\n",
       "      <th>13</th>\n",
       "      <td>1000331013</td>\n",
       "      <td>dataengineer11</td>\n",
       "      <td>DATAENGINEER11</td>\n",
       "      <td>[zen_data_engineer_role]</td>\n",
       "      <td>User</td>\n",
       "    </tr>\n",
       "    <tr>\n",
       "      <th>14</th>\n",
       "      <td>1000331014</td>\n",
       "      <td>dataengineer12</td>\n",
       "      <td>DATAENGINEER12</td>\n",
       "      <td>[zen_data_engineer_role]</td>\n",
       "      <td>User</td>\n",
       "    </tr>\n",
       "    <tr>\n",
       "      <th>15</th>\n",
       "      <td>1000331015</td>\n",
       "      <td>dataengineer13</td>\n",
       "      <td>DATAENGINEER13</td>\n",
       "      <td>[zen_data_engineer_role]</td>\n",
       "      <td>User</td>\n",
       "    </tr>\n",
       "    <tr>\n",
       "      <th>16</th>\n",
       "      <td>1000331016</td>\n",
       "      <td>dataengineer14</td>\n",
       "      <td>DATAENGINEER14</td>\n",
       "      <td>[zen_data_engineer_role]</td>\n",
       "      <td>User</td>\n",
       "    </tr>\n",
       "    <tr>\n",
       "      <th>17</th>\n",
       "      <td>1000331017</td>\n",
       "      <td>dataengineer15</td>\n",
       "      <td>DATAENGINEER15</td>\n",
       "      <td>[zen_data_engineer_role]</td>\n",
       "      <td>User</td>\n",
       "    </tr>\n",
       "    <tr>\n",
       "      <th>18</th>\n",
       "      <td>1000331018</td>\n",
       "      <td>dataengineer16</td>\n",
       "      <td>DATAENGINEER16</td>\n",
       "      <td>[zen_data_engineer_role]</td>\n",
       "      <td>User</td>\n",
       "    </tr>\n",
       "    <tr>\n",
       "      <th>19</th>\n",
       "      <td>1000331019</td>\n",
       "      <td>dataengineer17</td>\n",
       "      <td>DATAENGINEER17</td>\n",
       "      <td>[zen_data_engineer_role]</td>\n",
       "      <td>User</td>\n",
       "    </tr>\n",
       "    <tr>\n",
       "      <th>20</th>\n",
       "      <td>1000331020</td>\n",
       "      <td>dataengineer18</td>\n",
       "      <td>DATAENGINEER18</td>\n",
       "      <td>[zen_data_engineer_role]</td>\n",
       "      <td>User</td>\n",
       "    </tr>\n",
       "    <tr>\n",
       "      <th>21</th>\n",
       "      <td>1000331021</td>\n",
       "      <td>dataengineer19</td>\n",
       "      <td>DATAENGINEER19</td>\n",
       "      <td>[zen_data_engineer_role]</td>\n",
       "      <td>User</td>\n",
       "    </tr>\n",
       "    <tr>\n",
       "      <th>22</th>\n",
       "      <td>1000331022</td>\n",
       "      <td>dataengineer20</td>\n",
       "      <td>DATAENGINEER20</td>\n",
       "      <td>[zen_data_engineer_role]</td>\n",
       "      <td>User</td>\n",
       "    </tr>\n",
       "    <tr>\n",
       "      <th>23</th>\n",
       "      <td>1000331023</td>\n",
       "      <td>labuser</td>\n",
       "      <td>Lab User</td>\n",
       "      <td>[wkc_data_scientist_role, zen_user_role]</td>\n",
       "      <td>User</td>\n",
       "    </tr>\n",
       "  </tbody>\n",
       "</table>\n",
       "</div>"
      ],
      "text/plain": [
       "           uid        username     displayName  \\\n",
       "0   1000330999           admin           admin   \n",
       "1   1000331001       scientist  Data Scientist   \n",
       "2   1000331002   dataengineer0   DATAENGINEER0   \n",
       "3   1000331003   dataengineer1   DATAENGINEER1   \n",
       "4   1000331004   dataengineer2   DATAENGINEER2   \n",
       "5   1000331005   dataengineer3   DATAENGINEER3   \n",
       "6   1000331006   dataengineer4   DATAENGINEER4   \n",
       "7   1000331007   dataengineer5   DATAENGINEER5   \n",
       "8   1000331008   dataengineer6   DATAENGINEER6   \n",
       "9   1000331009   dataengineer7   DATAENGINEER7   \n",
       "10  1000331010   dataengineer8   DATAENGINEER8   \n",
       "11  1000331011   dataengineer9   DATAENGINEER9   \n",
       "12  1000331012  dataengineer10  DATAENGINEER10   \n",
       "13  1000331013  dataengineer11  DATAENGINEER11   \n",
       "14  1000331014  dataengineer12  DATAENGINEER12   \n",
       "15  1000331015  dataengineer13  DATAENGINEER13   \n",
       "16  1000331016  dataengineer14  DATAENGINEER14   \n",
       "17  1000331017  dataengineer15  DATAENGINEER15   \n",
       "18  1000331018  dataengineer16  DATAENGINEER16   \n",
       "19  1000331019  dataengineer17  DATAENGINEER17   \n",
       "20  1000331020  dataengineer18  DATAENGINEER18   \n",
       "21  1000331021  dataengineer19  DATAENGINEER19   \n",
       "22  1000331022  dataengineer20  DATAENGINEER20   \n",
       "23  1000331023         labuser        Lab User   \n",
       "\n",
       "                                           user_roles   role  \n",
       "0   [zen_administrator_role, zen_developer_role, w...  Admin  \n",
       "1   [wkc_data_scientist_role, zen_data_engineer_ro...   User  \n",
       "2                            [zen_data_engineer_role]   User  \n",
       "3                            [zen_data_engineer_role]   User  \n",
       "4                            [zen_data_engineer_role]   User  \n",
       "5                            [zen_data_engineer_role]   User  \n",
       "6                            [zen_data_engineer_role]   User  \n",
       "7                            [zen_data_engineer_role]   User  \n",
       "8                            [zen_data_engineer_role]   User  \n",
       "9                            [zen_data_engineer_role]   User  \n",
       "10                           [zen_data_engineer_role]   User  \n",
       "11                           [zen_data_engineer_role]   User  \n",
       "12                           [zen_data_engineer_role]   User  \n",
       "13                           [zen_data_engineer_role]   User  \n",
       "14                           [zen_data_engineer_role]   User  \n",
       "15                           [zen_data_engineer_role]   User  \n",
       "16                           [zen_data_engineer_role]   User  \n",
       "17                           [zen_data_engineer_role]   User  \n",
       "18                           [zen_data_engineer_role]   User  \n",
       "19                           [zen_data_engineer_role]   User  \n",
       "20                           [zen_data_engineer_role]   User  \n",
       "21                           [zen_data_engineer_role]   User  \n",
       "22                           [zen_data_engineer_role]   User  \n",
       "23           [wkc_data_scientist_role, zen_user_role]   User  "
      ]
     },
     "metadata": {},
     "output_type": "display_data"
    }
   ],
   "source": [
    "# Get the list of Cloud Pak for Data Users\n",
    "display(databaseAPI.getUsersDF()[['uid','username','displayName','user_roles','role']])"
   ]
  },
  {
   "cell_type": "markdown",
   "metadata": {
    "id": "f2b2b2c5-a667-4bfd-a380-e6222ea51baa"
   },
   "source": [
    "#### Get the list of enabled Data Virtualization Caches\n",
    "This operation is only available to Cloud Pak for Data and Data Virtualization Administrators. So you will receive an error message. Using the API calls is not a back door past basic security. "
   ]
  },
  {
   "cell_type": "code",
   "execution_count": 8,
   "metadata": {
    "id": "d8a7f6fc32b44f0a805f32a7a56ed767"
   },
   "outputs": [
    {
     "name": "stdout",
     "output_type": "stream",
     "text": [
      "401\n",
      "User is not authorized to perform requested operation : DATAENGINEER1\n"
     ]
    },
    {
     "data": {
      "text/plain": [
       "None"
      ]
     },
     "metadata": {},
     "output_type": "display_data"
    }
   ],
   "source": [
    "#Get the list of active Data Virtualization Caches, only available for adminstrators\n",
    "display(databaseAPI.getCaches())"
   ]
  },
  {
   "cell_type": "markdown",
   "metadata": {
    "id": "a9182fcd-8404-4bea-a6f1-9354e95914ef"
   },
   "source": [
    "### What's next\n",
    "You can download a copy of your completed Jupyter notebook as a reference:\n",
    "1. Click **File** from the Jupyter notebook main menu\n",
    "2. Select **Download as**\n",
    "3. Select **Notebook** if you want to use this notebook in your own Jupyter environment\n",
    "4. Select **HTML** if you want a read only version of the notebook for reference\n",
    "\n",
    "If you are interested in finding out more about using RESTful services to work with Db2, check out this DZone article: https://dzone.com/articles/db2-dte-pocdb2dmc. The article also includes a link to a complete hands-on lab for Db2 and the Db2 Data Management Console. In it you can find out more about using REST and Db2 together. "
   ]
  },
  {
   "cell_type": "markdown",
   "metadata": {
    "id": "1090abff-db1f-4abc-8bd6-7d1023fcc370"
   },
   "source": [
    "#### Credits: IBM 2021, Peter Kohlmann [kohlmann@ca.ibm.com]"
   ]
  },
  {
   "cell_type": "code",
   "execution_count": null,
   "metadata": {
    "id": "acf3c5a67d37402fbaa0cfeea9ead840"
   },
   "outputs": [],
   "source": []
  }
 ],
 "metadata": {
  "kernelspec": {
   "display_name": "Python 3.8",
   "language": "python",
   "name": "python3"
  },
  "language_info": {
   "codemirror_mode": {
    "name": "ipython",
    "version": 3
   },
   "file_extension": ".py",
   "mimetype": "text/x-python",
   "name": "python",
   "nbconvert_exporter": "python",
   "pygments_lexer": "ipython3",
   "version": "3.8.11"
  }
 },
 "nbformat": 4,
 "nbformat_minor": 2
}
