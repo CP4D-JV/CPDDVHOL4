{
 "cells": [
  {
   "cell_type": "code",
   "execution_count": 1,
   "metadata": {
    "id": "f93a7f0160e14638946316a0c4237b0c"
   },
   "outputs": [],
   "source": [
    "from pyspark.sql import SQLContext"
   ]
  },
  {
   "cell_type": "code",
   "execution_count": 2,
   "metadata": {
    "id": "a6542916a18f418dbb5989f76e25d8d8"
   },
   "outputs": [
    {
     "data": {
      "text/html": [
       "\n",
       "        <div>\n",
       "            <p><b>SparkContext</b></p>\n",
       "\n",
       "            <p><a href=\"http://jkg-deployment-70e2c0fd-97ae-442e-b34c-8713304d0d14-6957fd4fzz5:4040\">Spark UI</a></p>\n",
       "\n",
       "            <dl>\n",
       "              <dt>Version</dt>\n",
       "                <dd><code>v3.0.2</code></dd>\n",
       "              <dt>Master</dt>\n",
       "                <dd><code>local[*]</code></dd>\n",
       "              <dt>AppName</dt>\n",
       "                <dd><code>launch_ipykernel.py</code></dd>\n",
       "            </dl>\n",
       "        </div>\n",
       "        "
      ],
      "text/plain": [
       "<SparkContext master=local[*] appName=launch_ipykernel.py>"
      ]
     },
     "execution_count": 2,
     "metadata": {},
     "output_type": "execute_result"
    }
   ],
   "source": [
    "sc"
   ]
  },
  {
   "cell_type": "code",
   "execution_count": 3,
   "metadata": {
    "id": "171a7ddfd5614daa822c2904016be84a"
   },
   "outputs": [],
   "source": [
    "def loadCSV(file):\n",
    "    return SQLContext(sc).read.csv(file, header='true', inferSchema = 'true')"
   ]
  },
  {
   "cell_type": "code",
   "execution_count": 4,
   "metadata": {
    "id": "8b8d7a5ed3734ea6830a811be122626f"
   },
   "outputs": [],
   "source": [
    "from decimal import Decimal\n",
    "class Timer():\n",
    "    def __init__(self):\n",
    "        self.totalTime = 0\n",
    "        self.time = 0\n",
    "        self.list = []\n",
    "        \n",
    "    def wallTime(self, timing):\n",
    "        start = timing.find('Wall time: ') + 11\n",
    "        end = timing.find(' ms', start)\n",
    "        if end == -1:\n",
    "            endsec = timing.find(' s', start)\n",
    "            if endsec == -1:\n",
    "                endmin = timing.find('min', start)\n",
    "                minutes = Decimal(timing[start:endmin])\n",
    "                endsec = timing.find('s', start)\n",
    "                startsec = endmin+4\n",
    "                seconds = Decimal(timing[startsec:endsec])\n",
    "                return (minutes*60+seconds)*1000\n",
    "            else:\n",
    "                return Decimal(timing[start:endsec])*1000\n",
    "        else:\n",
    "            return Decimal(timing[start:end])\n",
    "                \n",
    "    def timeTotal(self):\n",
    "        standardOutput = result.stdout\n",
    "        print(standardOutput)\n",
    "        self.time = self.wallTime(standardOutput)\n",
    "        self.list.append(self.time/1000)\n",
    "        self.totalTime = self.totalTime + self.time\n",
    "        print(\"Time: \" + str(self.time/1000) + \" s\")\n",
    "        print(\"Total Time: \" + str(self.totalTime/1000) + \" s\")\n",
    "        \n",
    "    def getTotalTime(self):\n",
    "        return self.totalTime\n",
    "    \n",
    "    def getLastTime(self):\n",
    "        return self.time  \n",
    "    \n",
    "    def getList(self):\n",
    "        return self.list"
   ]
  },
  {
   "cell_type": "code",
   "execution_count": 5,
   "metadata": {
    "id": "a3b960dfe38444028d12b1a3ff4bfcbd"
   },
   "outputs": [],
   "source": [
    "sparkloadtimer = Timer()"
   ]
  },
  {
   "cell_type": "code",
   "execution_count": 6,
   "metadata": {
    "id": "420bb4c70fd34aafbc3296e89a8aec0d"
   },
   "outputs": [],
   "source": [
    "%%capture result\n",
    "%%time \n",
    "df_data_aircraft = loadCSV('/project_data/data_asset/aircraft.csv')"
   ]
  },
  {
   "cell_type": "code",
   "execution_count": 7,
   "metadata": {
    "id": "15dc67bc8a4f4fdb8a48069acc695ff3"
   },
   "outputs": [
    {
     "name": "stdout",
     "output_type": "stream",
     "text": [
      "CPU times: user 2.95 ms, sys: 1.22 ms, total: 4.18 ms\n",
      "Wall time: 6.2 s\n",
      "\n",
      "Time: 6.2 s\n",
      "Total Time: 6.2 s\n"
     ]
    }
   ],
   "source": [
    "sparkloadtimer.timeTotal()"
   ]
  },
  {
   "cell_type": "code",
   "execution_count": 8,
   "metadata": {
    "id": "cbebe2802f7c4f5b87f913b2106033a8"
   },
   "outputs": [],
   "source": [
    "%%capture result\n",
    "%%time \n",
    "df_data_ontime_11 = loadCSV('/project_data/data_asset/ONTIME2011.csv')"
   ]
  },
  {
   "cell_type": "code",
   "execution_count": 9,
   "metadata": {
    "id": "f25119c9832346e7b38c58460829d6cd",
    "scrolled": true
   },
   "outputs": [
    {
     "name": "stdout",
     "output_type": "stream",
     "text": [
      "CPU times: user 4.53 ms, sys: 2.9 ms, total: 7.43 ms\n",
      "Wall time: 30.4 s\n",
      "\n",
      "Time: 30.4 s\n",
      "Total Time: 36.6 s\n"
     ]
    }
   ],
   "source": [
    "sparkloadtimer.timeTotal()"
   ]
  },
  {
   "cell_type": "code",
   "execution_count": 10,
   "metadata": {
    "id": "ba428d4c8a8341af98e0752a6dd2b6af"
   },
   "outputs": [],
   "source": [
    "%%capture result\n",
    "%%time \n",
    "df_data_ontime_12 = loadCSV('/project_data/data_asset/ONTIME2012.csv')"
   ]
  },
  {
   "cell_type": "code",
   "execution_count": 11,
   "metadata": {
    "id": "230b2a1911784b4da552318e28fc9a80"
   },
   "outputs": [
    {
     "name": "stdout",
     "output_type": "stream",
     "text": [
      "CPU times: user 4.8 ms, sys: 705 us, total: 5.5 ms\n",
      "Wall time: 26.5 s\n",
      "\n",
      "Time: 26.5 s\n",
      "Total Time: 63.1 s\n"
     ]
    }
   ],
   "source": [
    "sparkloadtimer.timeTotal()"
   ]
  },
  {
   "cell_type": "code",
   "execution_count": 12,
   "metadata": {
    "id": "164a0e849ee34b9e99afd8d4e3aac885"
   },
   "outputs": [],
   "source": [
    "%%capture result\n",
    "%%time \n",
    "df_data_ontime_13 = loadCSV('/project_data/data_asset/ONTIME2013.csv')"
   ]
  },
  {
   "cell_type": "code",
   "execution_count": 13,
   "metadata": {
    "id": "0311ad1630f245ff8fa3aa011ced5253"
   },
   "outputs": [
    {
     "name": "stdout",
     "output_type": "stream",
     "text": [
      "CPU times: user 3.83 ms, sys: 2.52 ms, total: 6.36 ms\n",
      "Wall time: 27.8 s\n",
      "\n",
      "Time: 27.8 s\n",
      "Total Time: 90.9 s\n"
     ]
    }
   ],
   "source": [
    "sparkloadtimer.timeTotal()"
   ]
  },
  {
   "cell_type": "code",
   "execution_count": 14,
   "metadata": {
    "id": "43e2f7bd5ef9414f8d3f8723680b5052"
   },
   "outputs": [],
   "source": [
    "%%capture result\n",
    "%%time \n",
    "df_data_ontime_14 = loadCSV('/project_data/data_asset/ONTIME2014.csv')"
   ]
  },
  {
   "cell_type": "code",
   "execution_count": 15,
   "metadata": {
    "id": "29e3ea5e87784b8a9a21faa770143379"
   },
   "outputs": [
    {
     "name": "stdout",
     "output_type": "stream",
     "text": [
      "CPU times: user 2.88 ms, sys: 3.26 ms, total: 6.14 ms\n",
      "Wall time: 26.4 s\n",
      "\n",
      "Time: 26.4 s\n",
      "Total Time: 117.3 s\n"
     ]
    }
   ],
   "source": [
    "sparkloadtimer.timeTotal()"
   ]
  },
  {
   "cell_type": "code",
   "execution_count": 16,
   "metadata": {
    "id": "1368e5d521c1498fb713ff5246c7edaf"
   },
   "outputs": [],
   "source": [
    "%%capture result\n",
    "%%time \n",
    "df_data_ontime_15 = loadCSV('/project_data/data_asset/ONTIME2015.csv')"
   ]
  },
  {
   "cell_type": "code",
   "execution_count": 17,
   "metadata": {
    "id": "8df240af20034e7087d3b3d258d6f4f3"
   },
   "outputs": [
    {
     "name": "stdout",
     "output_type": "stream",
     "text": [
      "CPU times: user 3.59 ms, sys: 1.92 ms, total: 5.5 ms\n",
      "Wall time: 24.1 s\n",
      "\n",
      "Time: 24.1 s\n",
      "Total Time: 141.4 s\n"
     ]
    }
   ],
   "source": [
    "sparkloadtimer.timeTotal()"
   ]
  },
  {
   "cell_type": "code",
   "execution_count": 18,
   "metadata": {
    "id": "9629dd3dc91f45678f042e1eca92937f"
   },
   "outputs": [
    {
     "name": "stdout",
     "output_type": "stream",
     "text": [
      "6.2\n",
      "30.4\n",
      "26.5\n",
      "27.8\n",
      "26.4\n",
      "24.1\n"
     ]
    }
   ],
   "source": [
    "times = sparkloadtimer.getList()\n",
    "for t in times:\n",
    "    print(t)"
   ]
  },
  {
   "cell_type": "code",
   "execution_count": 19,
   "metadata": {
    "id": "7261bd74e9ab41b886a32e88a47e9d7c"
   },
   "outputs": [
    {
     "name": "stdout",
     "output_type": "stream",
     "text": [
      "+----------+------------+-----------+\n",
      "|TAILNUMBER|MANUFACTURER|      MODEL|\n",
      "+----------+------------+-----------+\n",
      "|    N789SW|      Boeing|  B-737-7H4|\n",
      "|    N198UW|      Airbus|   A321-211|\n",
      "|    N681UP|      Boeing|     B747-1|\n",
      "|    N54711|      Boeing|B737-700PAX|\n",
      "|    N390SW|      Boeing|  B-737-3H4|\n",
      "+----------+------------+-----------+\n",
      "only showing top 5 rows\n",
      "\n",
      "root\n",
      " |-- TAILNUMBER: string (nullable = true)\n",
      " |-- MANUFACTURER: string (nullable = true)\n",
      " |-- MODEL: string (nullable = true)\n",
      "\n"
     ]
    }
   ],
   "source": [
    "df_data_aircraft.show(5)\n",
    "df_data_aircraft.printSchema()"
   ]
  },
  {
   "cell_type": "code",
   "execution_count": 20,
   "metadata": {
    "id": "feb56b494ca2418b904d920159c4de91"
   },
   "outputs": [],
   "source": [
    "from functools import reduce  # For Python 3.x\n",
    "from pyspark.sql import DataFrame\n",
    "\n",
    "def unionAll(*dfs):\n",
    "    return reduce(DataFrame.unionAll, dfs)\n",
    "\n",
    "df_data_ontime = unionAll(df_data_ontime_11, df_data_ontime_12, df_data_ontime_13, df_data_ontime_14, df_data_ontime_15)"
   ]
  },
  {
   "cell_type": "code",
   "execution_count": 21,
   "metadata": {
    "id": "461ab64aad614f5d8686a3121b3d4edf"
   },
   "outputs": [
    {
     "name": "stdout",
     "output_type": "stream",
     "text": [
      "root\n",
      " |-- DAYKEY: integer (nullable = true)\n",
      " |-- YEAR: integer (nullable = true)\n",
      " |-- QUARTERKEY: integer (nullable = true)\n",
      " |-- QUARTER: integer (nullable = true)\n",
      " |-- MONTHKEY: integer (nullable = true)\n",
      " |-- MONTH: integer (nullable = true)\n",
      " |-- DAYOFMONTH: integer (nullable = true)\n",
      " |-- DAYOFWEEK: integer (nullable = true)\n",
      " |-- FLIGHTDATE: string (nullable = true)\n",
      " |-- UNIQUECARRIER: string (nullable = true)\n",
      " |-- AIRLINEID: integer (nullable = true)\n",
      " |-- CARRIER: string (nullable = true)\n",
      " |-- TAILNUM: string (nullable = true)\n",
      " |-- FLIGHTNUM: integer (nullable = true)\n",
      " |-- ORIGINAIRPORTID: integer (nullable = true)\n",
      " |-- ORIGINAIRPORTSEQID: integer (nullable = true)\n",
      " |-- ORIGINCITYMARKETID: integer (nullable = true)\n",
      " |-- ORIGIN: string (nullable = true)\n",
      " |-- ORIGINCITYNAME: string (nullable = true)\n",
      " |-- ORIGINSTATE: string (nullable = true)\n",
      " |-- ORIGINSTATEFIPS: integer (nullable = true)\n",
      " |-- ORIGINSTATENAME: string (nullable = true)\n",
      " |-- ORIGINWAC: integer (nullable = true)\n",
      " |-- DESTAIRPORTID: integer (nullable = true)\n",
      " |-- DESTAIRPORTSEQID: integer (nullable = true)\n",
      " |-- DESTCITYMARKETID: integer (nullable = true)\n",
      " |-- DEST: string (nullable = true)\n",
      " |-- DESTCITYNAME: string (nullable = true)\n",
      " |-- DESTSTATE: string (nullable = true)\n",
      " |-- DESTSTATEFIPS: integer (nullable = true)\n",
      " |-- DESTSTATENAME: string (nullable = true)\n",
      " |-- DESTWAC: integer (nullable = true)\n",
      " |-- CRSDEPTIME: integer (nullable = true)\n",
      " |-- DEPTIME: integer (nullable = true)\n",
      " |-- DEPDELAY: integer (nullable = true)\n",
      " |-- DEPDELAYMINUTES: integer (nullable = true)\n",
      " |-- DEPDEL15: integer (nullable = true)\n",
      " |-- DEPARTUREDELAYGROUPS: integer (nullable = true)\n",
      " |-- DEPTIMEBLK: string (nullable = true)\n",
      " |-- TAXIOUT: integer (nullable = true)\n",
      " |-- WHEELSOFF: integer (nullable = true)\n",
      " |-- WHEELSON: integer (nullable = true)\n",
      " |-- TAXIIN: integer (nullable = true)\n",
      " |-- CRSARRTIME: integer (nullable = true)\n",
      " |-- ARRTIME: integer (nullable = true)\n",
      " |-- ARRDELAY: integer (nullable = true)\n",
      " |-- ARRDELAYMINUTES: integer (nullable = true)\n",
      " |-- ARRDEL15: integer (nullable = true)\n",
      " |-- ARRIVALDELAYGROUPS: integer (nullable = true)\n",
      " |-- ARRTIMEBLK: string (nullable = true)\n",
      " |-- CANCELLED: integer (nullable = true)\n",
      " |-- CANCELLATIONCODE: string (nullable = true)\n",
      " |-- DIVERTED: integer (nullable = true)\n",
      " |-- CRSELAPSEDTIME: integer (nullable = true)\n",
      " |-- ACTUALELAPSEDTIME: integer (nullable = true)\n",
      " |-- AIRTIME: integer (nullable = true)\n",
      " |-- FLIGHTS: integer (nullable = true)\n",
      " |-- DISTANCE: integer (nullable = true)\n",
      " |-- DISTANCEGROUP: integer (nullable = true)\n",
      " |-- CARRIERDELAY: integer (nullable = true)\n",
      " |-- WEATHERDELAY: integer (nullable = true)\n",
      " |-- NASDELAY: integer (nullable = true)\n",
      " |-- SECURITYDELAY: integer (nullable = true)\n",
      " |-- LATEAIRCRAFTDELAY: integer (nullable = true)\n",
      " |-- FIRSTDEPTIME: integer (nullable = true)\n",
      " |-- TOTALADDGTIME: integer (nullable = true)\n",
      " |-- LONGESTADDGTIME: integer (nullable = true)\n",
      " |-- DIVAIRPORTLANDINGS: integer (nullable = true)\n",
      " |-- DIVREACHEDDEST: integer (nullable = true)\n",
      " |-- DIVACTUALELAPSEDTIME: integer (nullable = true)\n",
      " |-- DIVARRDELAY: integer (nullable = true)\n",
      " |-- DIVDISTANCE: integer (nullable = true)\n",
      " |-- DIV1AIRPORT: string (nullable = true)\n",
      " |-- DIV1AIRPORTID: integer (nullable = true)\n",
      " |-- DIV1AIRPORTSEQID: integer (nullable = true)\n",
      " |-- DIV1WHEELSON: integer (nullable = true)\n",
      " |-- DIV1TOTALGTIME: integer (nullable = true)\n",
      " |-- DIV1LONGESTGTIME: integer (nullable = true)\n",
      " |-- DIV1WHEELSOFF: integer (nullable = true)\n",
      " |-- DIV1TAILNUM: string (nullable = true)\n",
      " |-- DIV2AIRPORT: string (nullable = true)\n",
      " |-- DIV2AIRPORTID: integer (nullable = true)\n",
      " |-- DIV2AIRPORTSEQID: integer (nullable = true)\n",
      " |-- DIV2WHEELSON: integer (nullable = true)\n",
      " |-- DIV2TOTALGTIME: integer (nullable = true)\n",
      " |-- DIV2LONGESTGTIME: integer (nullable = true)\n",
      " |-- DIV2WHEELSOFF: integer (nullable = true)\n",
      " |-- DIV2TAILNUM: string (nullable = true)\n",
      " |-- DIV3AIRPORT: string (nullable = true)\n",
      " |-- DIV3AIRPORTID: string (nullable = true)\n",
      " |-- DIV3AIRPORTSEQID: string (nullable = true)\n",
      " |-- DIV3WHEELSON: string (nullable = true)\n",
      " |-- DIV3TOTALGTIME: string (nullable = true)\n",
      " |-- DIV3LONGESTGTIME: string (nullable = true)\n",
      " |-- DIV3WHEELSOFF: string (nullable = true)\n",
      " |-- DIV3TAILNUM: string (nullable = true)\n",
      " |-- DIV4AIRPORT: string (nullable = true)\n",
      " |-- DIV4AIRPORTID: string (nullable = true)\n",
      " |-- DIV4AIRPORTSEQID: string (nullable = true)\n",
      " |-- DIV4WHEELSON: string (nullable = true)\n",
      " |-- DIV4TOTALGTIME: string (nullable = true)\n",
      " |-- DIV4LONGESTGTIME: string (nullable = true)\n",
      " |-- DIV4WHEELSOFF: string (nullable = true)\n",
      " |-- DIV4TAILNUM: string (nullable = true)\n",
      " |-- DIV5AIRPORT: string (nullable = true)\n",
      " |-- DIV5AIRPORTID: string (nullable = true)\n",
      " |-- DIV5AIRPORTSEQID: string (nullable = true)\n",
      " |-- DIV5WHEELSON: string (nullable = true)\n",
      " |-- DIV5TOTALGTIME: string (nullable = true)\n",
      " |-- DIV5LONGESTGTIME: string (nullable = true)\n",
      " |-- DIV5WHEELSOFF: string (nullable = true)\n",
      " |-- DIV5TAILNUM: string (nullable = true)\n",
      " |-- UNKNOWNCOL110: string (nullable = true)\n",
      " |-- NUMROWS: integer (nullable = true)\n",
      "\n",
      "CPU times: user 0 ns, sys: 1.5 ms, total: 1.5 ms\n",
      "Wall time: 2.2 ms\n"
     ]
    }
   ],
   "source": [
    "%%time\n",
    "df_data_ontime.printSchema()"
   ]
  },
  {
   "cell_type": "code",
   "execution_count": 22,
   "metadata": {
    "id": "5f2957f1cb6549e58a288b006b05b922"
   },
   "outputs": [
    {
     "name": "stdout",
     "output_type": "stream",
     "text": [
      "CPU times: user 480 µs, sys: 1.14 ms, total: 1.62 ms\n",
      "Wall time: 433 ms\n"
     ]
    },
    {
     "data": {
      "text/plain": [
       "13101"
      ]
     },
     "execution_count": 22,
     "metadata": {},
     "output_type": "execute_result"
    }
   ],
   "source": [
    "%%time\n",
    "df_data_aircraft.count()"
   ]
  },
  {
   "cell_type": "code",
   "execution_count": 23,
   "metadata": {
    "id": "4a8c86136e8d495eae3faeaa32fc5921"
   },
   "outputs": [
    {
     "name": "stdout",
     "output_type": "stream",
     "text": [
      "root\n",
      " |-- TAILNUMBER: string (nullable = true)\n",
      " |-- MANUFACTURER: string (nullable = true)\n",
      " |-- MODEL: string (nullable = true)\n",
      "\n"
     ]
    }
   ],
   "source": [
    "df_data_aircraft.printSchema()"
   ]
  },
  {
   "cell_type": "code",
   "execution_count": 24,
   "metadata": {
    "id": "66447bd962314bce9f1f16a6b442736d"
   },
   "outputs": [
    {
     "name": "stdout",
     "output_type": "stream",
     "text": [
      "CPU times: user 3.6 ms, sys: 148 µs, total: 3.75 ms\n",
      "Wall time: 18.2 s\n"
     ]
    },
    {
     "data": {
      "text/plain": [
       "30190408"
      ]
     },
     "execution_count": 24,
     "metadata": {},
     "output_type": "execute_result"
    }
   ],
   "source": [
    "%%time\n",
    "df_data_ontime.count()"
   ]
  },
  {
   "cell_type": "code",
   "execution_count": 25,
   "metadata": {
    "id": "feff78bbf3c54dfe9b682227dec416b1"
   },
   "outputs": [
    {
     "name": "stdout",
     "output_type": "stream",
     "text": [
      "CPU times: user 1.45 ms, sys: 378 µs, total: 1.82 ms\n",
      "Wall time: 308 ms\n"
     ]
    }
   ],
   "source": [
    "%%time\n",
    "df_data_ontime.createGlobalTempView(\"ontime\")"
   ]
  },
  {
   "cell_type": "code",
   "execution_count": 26,
   "metadata": {
    "id": "17d1983f48354f6f87a6d57bf150e9b2"
   },
   "outputs": [
    {
     "name": "stdout",
     "output_type": "stream",
     "text": [
      "CPU times: user 956 µs, sys: 0 ns, total: 956 µs\n",
      "Wall time: 7.51 ms\n"
     ]
    }
   ],
   "source": [
    "%%time\n",
    "df_data_aircraft.createGlobalTempView(\"aircraft\")"
   ]
  },
  {
   "cell_type": "code",
   "execution_count": 27,
   "metadata": {
    "id": "8f0189c10004479db0a1921b384cc3bb"
   },
   "outputs": [
    {
     "name": "stdout",
     "output_type": "stream",
     "text": [
      "+----------+------------+-------------+--------------------+-------------+---------+--------------+--------------------+--------+--------+\n",
      "|TAILNUMBER|MANUFACTURER|        MODEL|          FLIGHTDATE|UNIQUECARRIER|FLIGHTNUM|ORIGINCITYNAME|        DESTCITYNAME|DEPDELAY|ARRDELAY|\n",
      "+----------+------------+-------------+--------------------+-------------+---------+--------------+--------------------+--------+--------+\n",
      "|    N16217|      Boeing|  B737-800PAX|2012-08-09-00.00....|           UA|     1083|    Newark, NJ|Santa Ana, CA    ...|     232|    null|\n",
      "|    N31412|      Boeing|  B737-900PAX|2014-06-19-00.00....|           UA|     1554|    Newark, NJ|San Francisco, CA...|     181|    null|\n",
      "|    N38454|      Boeing|B737-900ERPAX|2014-07-02-00.00....|           UA|     1047|    Newark, NJ|Los Angeles, CA  ...|     181|     153|\n",
      "|    N39475|      Boeing|B737-900ERPAX|2014-01-03-00.00....|           UA|     1047|    Newark, NJ|San Francisco, CA...|     184|     163|\n",
      "|    N37462|      Boeing|B737-900ERPAX|2015-01-09-00.00....|           UA|     1538|    Newark, NJ|San Francisco, CA...|     181|     168|\n",
      "|    N37274|      Boeing|  B737-800PAX|2014-11-11-00.00....|           UA|     1439|    Newark, NJ|Los Angeles, CA  ...|     182|     178|\n",
      "|    N37293|      Boeing|  B737-800PAX|2012-08-05-00.00....|           UA|     1237|    Newark, NJ|Los Angeles, CA  ...|     182|     183|\n",
      "|    N53441|      Boeing|B737-900ERPAX|2011-08-25-00.00....|           CO|     1699|    Newark, NJ|San Francisco, CA...|     181|     190|\n",
      "|    N12238|      Boeing|  B737-800PAX|2012-08-10-00.00....|           UA|     1199|    Newark, NJ|San Diego, CA    ...|     185|     196|\n",
      "|    N76526|      Boeing|  B737-800PAX|2014-05-27-00.00....|           UA|     1067|    Newark, NJ|San Diego, CA    ...|     220|     196|\n",
      "|    N23721|      Boeing|  B737-700Pax|2011-08-19-00.00....|           CO|     1523|    Newark, NJ|Santa Ana, CA    ...|     181|     201|\n",
      "|    N36280|      Boeing|  B737-800PAX|2011-05-26-00.00....|           CO|     1822|    Newark, NJ|San Francisco, CA...|     186|     202|\n",
      "|    N73275|      Boeing|  B737-800PAX|2015-06-23-00.00....|           UA|     1289|    Newark, NJ|Los Angeles, CA  ...|     187|     203|\n",
      "|    N17229|      Boeing|  B737-800PAX|2015-06-01-00.00....|           UA|     1439|    Newark, NJ|Los Angeles, CA  ...|     217|     205|\n",
      "|    N79279|      Boeing|  B737-800PAX|2013-07-10-00.00....|           UA|     1532|    Newark, NJ|San Francisco, CA...|     200|     206|\n",
      "|    N18223|      Boeing|  B737-800PAX|2013-03-08-00.00....|           UA|     1010|    Newark, NJ|Los Angeles, CA  ...|     192|     207|\n",
      "|    N15710|      Boeing|  B737-700PAX|2012-07-29-00.00....|           UA|     1010|    Newark, NJ|Santa Ana, CA    ...|     220|     208|\n",
      "|    N47414|      Boeing|B737-900ERPAX|2014-07-14-00.00....|           UA|     1242|    Newark, NJ|San Diego, CA    ...|     191|     211|\n",
      "|    N37434|      Boeing|B737-900ERPAX|2015-05-31-00.00....|           UA|     1554|    Newark, NJ|Los Angeles, CA  ...|     197|     217|\n",
      "|    N77510|      Boeing|  B737-800PAX|2013-05-23-00.00....|           UA|     1570|    Newark, NJ|San Francisco, CA...|     214|     223|\n",
      "+----------+------------+-------------+--------------------+-------------+---------+--------------+--------------------+--------+--------+\n",
      "only showing top 20 rows\n",
      "\n",
      "CPU times: user 11.8 ms, sys: 5.07 ms, total: 16.8 ms\n",
      "Wall time: 1min 20s\n"
     ]
    }
   ],
   "source": [
    "%%time\n",
    "sql = \\\n",
    "\"\"\"\n",
    "SELECT TAILNUMBER, MANUFACTURER, MODEL, FLIGHTDATE, UNIQUECARRIER, FLIGHTNUM, ORIGINCITYNAME, DESTCITYNAME, DEPDELAY, ARRDELAY\n",
    "  FROM global_temp.ontime OT, global_temp.aircraft AC \n",
    "  WHERE AC.TAILNUMBER = OT.TAILNUM\n",
    "  AND AC.MANUFACTURER = 'Boeing' \n",
    "  AND AC.MODEL LIKE 'B737%'\n",
    "  AND OT.ORIGINSTATE = 'NJ'\n",
    "  AND OT.DESTSTATE = 'CA'\n",
    "  AND OT.TAXIOUT > 30\n",
    "  AND OT.DISTANCE > 2000\n",
    "  AND OT.DEPDELAY > 180\n",
    "  ORDER BY ARRDELAY\n",
    "\"\"\"\n",
    "spark.sql(sql).show()"
   ]
  },
  {
   "cell_type": "code",
   "execution_count": 28,
   "metadata": {
    "id": "cef23f50dfad4e19b23771bf0fcc0fa7"
   },
   "outputs": [],
   "source": [
    "%%capture result\n",
    "%%time\n",
    "sql = \\\n",
    "\"\"\"\n",
    "SELECT TAILNUMBER, MANUFACTURER, MODEL, FLIGHTDATE, UNIQUECARRIER, FLIGHTNUM, ORIGINCITYNAME, DESTCITYNAME, DEPDELAY, ARRDELAY\n",
    "  FROM global_temp.ontime OT, global_temp.aircraft AC \n",
    "  WHERE AC.TAILNUMBER = OT.TAILNUM\n",
    "  AND AC.MANUFACTURER = 'Boeing' \n",
    "  AND AC.MODEL LIKE 'B737%'\n",
    "  AND OT.ORIGINSTATE = 'NJ'\n",
    "  AND OT.DESTSTATE = 'CA'\n",
    "  AND OT.TAXIOUT > 30\n",
    "  AND OT.DISTANCE > 2000\n",
    "  AND OT.DEPDELAY > 180\n",
    "  ORDER BY ARRDELAY\n",
    "\"\"\"\n",
    "spark.sql(sql).show()"
   ]
  },
  {
   "cell_type": "code",
   "execution_count": 29,
   "metadata": {
    "id": "a0a4f7d157af446bbbbdc1c65c51c794"
   },
   "outputs": [
    {
     "name": "stdout",
     "output_type": "stream",
     "text": [
      "+----------+------------+-------------+--------------------+-------------+---------+--------------+--------------------+--------+--------+\n",
      "|TAILNUMBER|MANUFACTURER|        MODEL|          FLIGHTDATE|UNIQUECARRIER|FLIGHTNUM|ORIGINCITYNAME|        DESTCITYNAME|DEPDELAY|ARRDELAY|\n",
      "+----------+------------+-------------+--------------------+-------------+---------+--------------+--------------------+--------+--------+\n",
      "|    N16217|      Boeing|  B737-800PAX|2012-08-09-00.00....|           UA|     1083|    Newark, NJ|Santa Ana, CA    ...|     232|    null|\n",
      "|    N31412|      Boeing|  B737-900PAX|2014-06-19-00.00....|           UA|     1554|    Newark, NJ|San Francisco, CA...|     181|    null|\n",
      "|    N38454|      Boeing|B737-900ERPAX|2014-07-02-00.00....|           UA|     1047|    Newark, NJ|Los Angeles, CA  ...|     181|     153|\n",
      "|    N39475|      Boeing|B737-900ERPAX|2014-01-03-00.00....|           UA|     1047|    Newark, NJ|San Francisco, CA...|     184|     163|\n",
      "|    N37462|      Boeing|B737-900ERPAX|2015-01-09-00.00....|           UA|     1538|    Newark, NJ|San Francisco, CA...|     181|     168|\n",
      "|    N37274|      Boeing|  B737-800PAX|2014-11-11-00.00....|           UA|     1439|    Newark, NJ|Los Angeles, CA  ...|     182|     178|\n",
      "|    N37293|      Boeing|  B737-800PAX|2012-08-05-00.00....|           UA|     1237|    Newark, NJ|Los Angeles, CA  ...|     182|     183|\n",
      "|    N53441|      Boeing|B737-900ERPAX|2011-08-25-00.00....|           CO|     1699|    Newark, NJ|San Francisco, CA...|     181|     190|\n",
      "|    N12238|      Boeing|  B737-800PAX|2012-08-10-00.00....|           UA|     1199|    Newark, NJ|San Diego, CA    ...|     185|     196|\n",
      "|    N76526|      Boeing|  B737-800PAX|2014-05-27-00.00....|           UA|     1067|    Newark, NJ|San Diego, CA    ...|     220|     196|\n",
      "|    N23721|      Boeing|  B737-700Pax|2011-08-19-00.00....|           CO|     1523|    Newark, NJ|Santa Ana, CA    ...|     181|     201|\n",
      "|    N36280|      Boeing|  B737-800PAX|2011-05-26-00.00....|           CO|     1822|    Newark, NJ|San Francisco, CA...|     186|     202|\n",
      "|    N73275|      Boeing|  B737-800PAX|2015-06-23-00.00....|           UA|     1289|    Newark, NJ|Los Angeles, CA  ...|     187|     203|\n",
      "|    N17229|      Boeing|  B737-800PAX|2015-06-01-00.00....|           UA|     1439|    Newark, NJ|Los Angeles, CA  ...|     217|     205|\n",
      "|    N79279|      Boeing|  B737-800PAX|2013-07-10-00.00....|           UA|     1532|    Newark, NJ|San Francisco, CA...|     200|     206|\n",
      "|    N18223|      Boeing|  B737-800PAX|2013-03-08-00.00....|           UA|     1010|    Newark, NJ|Los Angeles, CA  ...|     192|     207|\n",
      "|    N15710|      Boeing|  B737-700PAX|2012-07-29-00.00....|           UA|     1010|    Newark, NJ|Santa Ana, CA    ...|     220|     208|\n",
      "|    N47414|      Boeing|B737-900ERPAX|2014-07-14-00.00....|           UA|     1242|    Newark, NJ|San Diego, CA    ...|     191|     211|\n",
      "|    N37434|      Boeing|B737-900ERPAX|2015-05-31-00.00....|           UA|     1554|    Newark, NJ|Los Angeles, CA  ...|     197|     217|\n",
      "|    N77510|      Boeing|  B737-800PAX|2013-05-23-00.00....|           UA|     1570|    Newark, NJ|San Francisco, CA...|     214|     223|\n",
      "+----------+------------+-------------+--------------------+-------------+---------+--------------+--------------------+--------+--------+\n",
      "only showing top 20 rows\n",
      "\n",
      "CPU times: user 11.3 ms, sys: 3.17 ms, total: 14.5 ms\n",
      "Wall time: 1min 13s\n",
      "\n",
      "Time: 73 s\n",
      "Total Time: 73 s\n"
     ]
    }
   ],
   "source": [
    "sqlsparktimer = Timer()\n",
    "sqlsparktimer.timeTotal()"
   ]
  },
  {
   "cell_type": "code",
   "execution_count": 30,
   "metadata": {
    "id": "4c43189ad0fd400d86b582832a609362"
   },
   "outputs": [
    {
     "name": "stdout",
     "output_type": "stream",
     "text": [
      "--2021-12-03 16:52:21--  https://raw.githubusercontent.com/Db2-DTE-POC/Db2-Openshift-11.5.4/master/db2.ipynb\n",
      "Resolving raw.githubusercontent.com (raw.githubusercontent.com)... 185.199.110.133, 185.199.109.133, 185.199.111.133, ...\n",
      "Connecting to raw.githubusercontent.com (raw.githubusercontent.com)|185.199.110.133|:443... connected.\n",
      "HTTP request sent, awaiting response... 200 OK\n",
      "Length: 168432 (164K) [text/plain]\n",
      "Saving to: ‘db2.ipynb’\n",
      "\n",
      "db2.ipynb           100%[===================>] 164.48K  --.-KB/s    in 0.01s   \n",
      "\n",
      "2021-12-03 16:52:21 (15.3 MB/s) - ‘db2.ipynb’ saved [168432/168432]\n",
      "\n",
      "Db2 Extensions Loaded.\n",
      "db2.ipynb loaded\n"
     ]
    }
   ],
   "source": [
    "# !wget https://raw.githubusercontent.com/IBM/db2-jupyter/master/db2.ipynb\n",
    "!wget -O db2.ipynb https://raw.githubusercontent.com/Db2-DTE-POC/Db2-Openshift-11.5.4/master/db2.ipynb\n",
    "\n",
    "%run db2.ipynb\n",
    "print('db2.ipynb loaded')"
   ]
  },
  {
   "cell_type": "code",
   "execution_count": 31,
   "metadata": {
    "id": "197f2cab5140465bb66d18c97440ef48"
   },
   "outputs": [
    {
     "name": "stdout",
     "output_type": "stream",
     "text": [
      "Connection successful.\n"
     ]
    }
   ],
   "source": [
    "# Connect to the Data Virtualization Database from inside of IBM Cloud Pak for Data\n",
    "database = 'bigsql'\n",
    "user = 'admin'\n",
    "password = 'CP4DDataFabric'\n",
    "host = '10.0.0.201'\n",
    "port = '31193'\n",
    "\n",
    "%sql CONNECT TO {database} USER {user} USING {password} HOST {host} PORT {port}"
   ]
  },
  {
   "cell_type": "code",
   "execution_count": 32,
   "metadata": {
    "id": "0c95cef4a6b84e248b72e2ba726bd699"
   },
   "outputs": [
    {
     "data": {
      "text/html": [
       "<div>\n",
       "<style scoped>\n",
       "    .dataframe tbody tr th:only-of-type {\n",
       "        vertical-align: middle;\n",
       "    }\n",
       "\n",
       "    .dataframe tbody tr th {\n",
       "        vertical-align: top;\n",
       "    }\n",
       "\n",
       "    .dataframe thead th {\n",
       "        text-align: right;\n",
       "    }\n",
       "</style>\n",
       "<table border=\"1\" class=\"dataframe\">\n",
       "  <thead>\n",
       "    <tr style=\"text-align: right;\">\n",
       "      <th></th>\n",
       "      <th>TABSCHEMA</th>\n",
       "      <th>TABNAME</th>\n",
       "    </tr>\n",
       "  </thead>\n",
       "  <tbody>\n",
       "    <tr>\n",
       "      <th>0</th>\n",
       "      <td>ADMIN</td>\n",
       "      <td>stock_symbols</td>\n",
       "    </tr>\n",
       "    <tr>\n",
       "      <th>1</th>\n",
       "      <td>CHURN</td>\n",
       "      <td>POPULATION</td>\n",
       "    </tr>\n",
       "    <tr>\n",
       "      <th>2</th>\n",
       "      <td>CHURN</td>\n",
       "      <td>STATUS</td>\n",
       "    </tr>\n",
       "    <tr>\n",
       "      <th>3</th>\n",
       "      <td>CSVCHURN</td>\n",
       "      <td>Demographics</td>\n",
       "    </tr>\n",
       "    <tr>\n",
       "      <th>4</th>\n",
       "      <td>CSVCHURN</td>\n",
       "      <td>Location</td>\n",
       "    </tr>\n",
       "    <tr>\n",
       "      <th>...</th>\n",
       "      <td>...</td>\n",
       "      <td>...</td>\n",
       "    </tr>\n",
       "    <tr>\n",
       "      <th>84</th>\n",
       "      <td>XLSX</td>\n",
       "      <td>CUSTOMER</td>\n",
       "    </tr>\n",
       "    <tr>\n",
       "      <th>85</th>\n",
       "      <td>XLSX</td>\n",
       "      <td>PORTFOLIO</td>\n",
       "    </tr>\n",
       "    <tr>\n",
       "      <th>86</th>\n",
       "      <td>XLSX</td>\n",
       "      <td>STOCK_HISTORY</td>\n",
       "    </tr>\n",
       "    <tr>\n",
       "      <th>87</th>\n",
       "      <td>XLSX</td>\n",
       "      <td>STOCK_SYMBOLS</td>\n",
       "    </tr>\n",
       "    <tr>\n",
       "      <th>88</th>\n",
       "      <td>XLSX</td>\n",
       "      <td>STOCK_TRANSACTIONS</td>\n",
       "    </tr>\n",
       "  </tbody>\n",
       "</table>\n",
       "<p>89 rows × 2 columns</p>\n",
       "</div>"
      ],
      "text/plain": [
       "   TABSCHEMA             TABNAME\n",
       "0   ADMIN          stock_symbols\n",
       "1   CHURN             POPULATION\n",
       "2   CHURN                 STATUS\n",
       "3   CSVCHURN        Demographics\n",
       "4   CSVCHURN            Location\n",
       "..       ...                 ...\n",
       "84  XLSX                CUSTOMER\n",
       "85  XLSX               PORTFOLIO\n",
       "86  XLSX           STOCK_HISTORY\n",
       "87  XLSX           STOCK_SYMBOLS\n",
       "88  XLSX      STOCK_TRANSACTIONS\n",
       "\n",
       "[89 rows x 2 columns]"
      ]
     },
     "metadata": {},
     "output_type": "display_data"
    }
   ],
   "source": [
    "nicknames = %sql select TABSCHEMA, TABNAME from syscat.nicknames WHERE OWNER = 'ADMIN' ORDER BY TABSCHEMA, TABNAME\n",
    "display(nicknames)"
   ]
  },
  {
   "cell_type": "code",
   "execution_count": null,
   "metadata": {
    "id": "35be8dcb12d4494483b1aae9bfd7f4ff"
   },
   "outputs": [],
   "source": [
    "%%time\n",
    "%%sql \n",
    "SELECT AC.\"TAIL_NUMBER\", AC.\"MANUFACTURER\", AC.\"MODEL\", OT.\"UNIQUECARRIER\", OT.\"AIRLINEID\", OT.\"CARRIER\", OT.\"TAILNUM\", OT.\"FLIGHTNUM\", OT.\"ORIGINAIRPORTID\", OT.\"ORIGINAIRPORTSEQID\", OT.\"ORIGINCITYNAME\", OT.\"ORIGINSTATE\", OT.\"DESTAIRPORTID\", OT.\"DESTCITYNAME\", OT.\"DESTSTATE\", OT.\"DEPTIME\", OT.\"DEPDELAY\", OT.\"TAXIOUT\", OT.\"WHEELSOFF\", OT.\"WHEELSON\", OT.\"TAXIIN\", OT.\"ARRTIME\", OT.\"ARRDELAY\", OT.\"ARRDELAYMINUTES\", OT.\"CANCELLED\", OT.\"AIRTIME\", OT.\"DISTANCE\"\n",
    "  FROM \"ONTIME\".\"ONTIME\" OT, \"ONTIME\".\"AIRCRAFT\" AC \n",
    "  WHERE AC.\"TAIL_NUMBER\" = OT.TAILNUM\n",
    "  AND ORIGINSTATE = 'NJ'\n",
    "  AND DESTSTATE = 'CA'\n",
    "  AND AC.MANUFACTURER = 'Boeing' \n",
    "  AND AC.MODEL LIKE 'B737%'\n",
    "  AND OT.TAXIOUT > 30\n",
    "  AND OT.DISTANCE > 2000\n",
    "  AND OT.DEPDELAY > 200\n",
    "  ORDER BY OT.ARRDELAY DESC\n",
    "  FETCH FIRST 5 ROWS ONLY"
   ]
  },
  {
   "cell_type": "code",
   "execution_count": null,
   "metadata": {
    "id": "ea9583c28a994c7fa2e75e48642fa4d6"
   },
   "outputs": [],
   "source": [
    "%%capture result\n",
    "%%time\n",
    "%%sql \n",
    "SELECT AC.\"TAIL_NUMBER\", AC.\"MANUFACTURER\", AC.\"MODEL\", OT.\"UNIQUECARRIER\", OT.\"AIRLINEID\", OT.\"CARRIER\", OT.\"TAILNUM\", OT.\"FLIGHTNUM\", OT.\"ORIGINAIRPORTID\", OT.\"ORIGINAIRPORTSEQID\", OT.\"ORIGINCITYNAME\", OT.\"ORIGINSTATE\", OT.\"DESTAIRPORTID\", OT.\"DESTCITYNAME\", OT.\"DESTSTATE\", OT.\"DEPTIME\", OT.\"DEPDELAY\", OT.\"TAXIOUT\", OT.\"WHEELSOFF\", OT.\"WHEELSON\", OT.\"TAXIIN\", OT.\"ARRTIME\", OT.\"ARRDELAY\", OT.\"ARRDELAYMINUTES\", OT.\"CANCELLED\", OT.\"AIRTIME\", OT.\"DISTANCE\"\n",
    "  FROM \"ONTIME\".\"ONTIME\" OT, \"ONTIME\".\"AIRCRAFT\" AC \n",
    "  WHERE AC.\"TAIL_NUMBER\" = OT.TAILNUM\n",
    "  AND ORIGINSTATE = 'NJ'\n",
    "  AND DESTSTATE = 'CA'\n",
    "  AND AC.MANUFACTURER = 'Boeing' \n",
    "  AND AC.MODEL LIKE 'B737%'\n",
    "  AND OT.TAXIOUT > 30\n",
    "  AND OT.DISTANCE > 2000\n",
    "  AND OT.DEPDELAY > 200\n",
    "  ORDER BY OT.ARRDELAY DESC\n",
    "  FETCH FIRST 5 ROWS ONLY"
   ]
  },
  {
   "cell_type": "code",
   "execution_count": null,
   "metadata": {
    "id": "8ff10cd0004f4bde9299b3e8866f02b2"
   },
   "outputs": [],
   "source": [
    "sqldvtimer = Timer()\n",
    "sqldvtimer.timeTotal()"
   ]
  },
  {
   "cell_type": "code",
   "execution_count": 35,
   "metadata": {
    "id": "cd505f1f813c42e8b7443e1886cb9689"
   },
   "outputs": [
    {
     "name": "stdout",
     "output_type": "stream",
     "text": [
      "--2021-12-03 16:53:18--  https://raw.githubusercontent.com/Db2-DTE-POC/CPDDVLAB/master/CPDDVRestClassV35.ipynb\n",
      "Resolving raw.githubusercontent.com (raw.githubusercontent.com)... 185.199.110.133, 185.199.109.133, 185.199.111.133, ...\n",
      "Connecting to raw.githubusercontent.com (raw.githubusercontent.com)|185.199.110.133|:443... connected.\n",
      "HTTP request sent, awaiting response... 200 OK\n",
      "Length: 12385 (12K) [text/plain]\n",
      "Saving to: ‘CPDDVRestClassV35.ipynb’\n",
      "\n",
      "CPDDVRestClassV35.i 100%[===================>]  12.09K  --.-KB/s    in 0s      \n",
      "\n",
      "2021-12-03 16:53:18 (62.8 MB/s) - ‘CPDDVRestClassV35.ipynb’ saved [12385/12385]\n",
      "\n"
     ]
    }
   ],
   "source": [
    "!wget -O CPDDVRestClassV35.ipynb https://raw.githubusercontent.com/Db2-DTE-POC/CPDDVLAB/master/CPDDVRestClassV35.ipynb\n",
    "%run CPDDVRestClassV35.ipynb"
   ]
  },
  {
   "cell_type": "code",
   "execution_count": 36,
   "metadata": {
    "id": "cec2449136ce45b0b744868650de44e6"
   },
   "outputs": [],
   "source": [
    "# Import the class libraries \n",
    "import requests\n",
    "import ssl\n",
    "import json\n",
    "from pprint import pprint\n",
    "from requests import Response\n",
    "import pandas as pd\n",
    "import time\n",
    "from requests.packages.urllib3.exceptions import InsecureRequestWarning\n",
    "requests.packages.urllib3.disable_warnings(InsecureRequestWarning)\n",
    "from IPython.display import IFrame\n",
    "from IPython.display import display, HTML\n",
    "from pandas import json_normalize\n",
    "%matplotlib inline\n",
    "import matplotlib\n",
    "import matplotlib.pyplot as plt"
   ]
  },
  {
   "cell_type": "code",
   "execution_count": 37,
   "metadata": {
    "id": "33efe50ffb2441f3ad5bf348ab6bbfb0"
   },
   "outputs": [],
   "source": [
    "# Run the Db2 Class library\n",
    "# Used to construct and reuse an Autentication Key\n",
    "# Used to construct RESTAPI URLs and JSON payloads\n",
    "class Db2():\n",
    "    \n",
    "    def __init__(self, url, verify = False, proxies=None, ):\n",
    "        self.url = url\n",
    "        self.proxies = proxies\n",
    "        self.verify = verify\n",
    "\n",
    "    def authenticate(self, api, userid, password):\n",
    "        \n",
    "        credentials = {'username':userid, 'password':password}\n",
    "        r = requests.post(self.url+api+'/preauth/signin', verify=self.verify, json=credentials, proxies=self.proxies)\n",
    "        if (r.status_code == 200):\n",
    "            bearerToken = \"Bearer \" + r.cookies[\"ibm-private-cloud-session\"]\n",
    "            print('Token Retrieved')\n",
    "            self.headers = {'Content-Type':\"application/json\", 'Accept':\"application/json\", 'Authorization': bearerToken, 'Cache-Control': \"no-cache\"}\n",
    "        else:\n",
    "            print ('Unable to authenticate, no bearer token obtained')\n",
    "        \n",
    "    def printResponse(self, r, code):\n",
    "        if (r.status_code == code):\n",
    "            pprint(r.json())\n",
    "        else:\n",
    "            print (r.status_code)\n",
    "            print (r.content)\n",
    "    \n",
    "    def getRequest(self, api, json=None):\n",
    "        return requests.get(self.url+api, verify = self.verify, headers=self.headers, proxies = self.proxies, json=json)\n",
    "\n",
    "    def postRequest(self, api, json=None):\n",
    "        return requests.post(self.url+api, verify = self.verify, headers=self.headers, proxies = self.proxies, json=json) \n",
    "    \n",
    "    def deleteRequest(self, api, json=None):\n",
    "        return requests.delete(self.url+api, verify = self.verify, headers=self.headers, proxies = self.proxies, json=json) \n",
    "        \n",
    "    def getStatusCode(self, response):\n",
    "        return (response.status_code)\n",
    "\n",
    "    def getJSON(self, response):\n",
    "        return (response.json())\n",
    "    \n",
    "    def getSchemas(self):\n",
    "        return self.getRequest('/icpd-instanceata-databases/dv/cpd-instance/dbapi/v4/schemas')\n",
    "           \n",
    "    def getSearchViewList(self, searchtext, show_systems=\"false\"):\n",
    "        return self.getRequest('/icpd-instanceata-databases/dv/cpd-instance/dbapi/v4/admin/schemas/obj_type/view?search_name='+searchtext+'&show_systems='+str(show_systems)+'&rows_return=200');\n",
    "    \n",
    "    def getSearchTableList(self, searchtext):\n",
    "        return self.getRequest('/icpd-instanceata-databases/dv/cpd-instance/dbapi/v4/admin/schemas/obj_type/table?search_name='+searchtext+'&show_systems=true&rows_return=100');\n",
    "               \n",
    "    def postSearchObjects(self, obj_type, search_text, rows_return=100, show_systems='false', is_ascend='true'):     \n",
    "        json = {\"search_name\":search_text,\"rows_return\":rows_return,\"show_systems\":show_systems,\"obj_type\":obj_type,\"filters_match\":\"ALL\",\"filters\":[]}       \n",
    "        return self.postRequest('/icpd-instanceata-databases/dv/cpd-instance/dbapi/v4/admin/'+str(obj_type)+'s',json);\n",
    "            \n",
    "    def getTablesInSchema(self, schema):\n",
    "        return self.getRequest('/icpd-instanceata-databases/dv/cpd-instance/dbapi/v4/schemas/'+str(schema)+'/tables'); \n",
    "\n",
    "    def getVirtualizedTables(self):\n",
    "        return self.getRequest('/icp4data-databases/dv/cpd-instance/dvapiserver/v1/mydata/tables')\n",
    "    \n",
    "    def getVirtualizedTablesDF(self):\n",
    "        r = self.getVirtualizedTables()\n",
    "        if (self.getStatusCode(r)==200):\n",
    "            json = self.getJSON(r)\n",
    "            df = pd.DataFrame(json_normalize(json['tables']))\n",
    "            return df\n",
    "        else:\n",
    "            print(self.getStatusCode(r))\n",
    "            \n",
    "    def getVirtualizedViews(self):\n",
    "        return self.getRequest('/icp4data-databases/dv/cpd-instance/dvapiserver/v1/mydata/views')\n",
    "    \n",
    "    def getVirtualizedViewsDF(self):\n",
    "        r = self.getVirtualizedViews()\n",
    "        if (self.getStatusCode(r)==200):\n",
    "            json = self.getJSON(r)\n",
    "            df = pd.DataFrame(json_normalize(json['views']))\n",
    "            return df\n",
    "        else:\n",
    "            print(self.getStatusCode(r))\n",
    "    \n",
    "    def grantPrivledgeToRole(self, objectName, objectSchema, roleToGrant):\n",
    "        json =   {\"objectName\":objectName,\"objectSchema\":objectSchema,\"roleToGrant\":roleToGrant}\n",
    "        return self.postRequest('/icpd-instanceata-databases/dv/cpd-instance/dvapiserver/v1/privileges/roles',json);\n",
    " \n",
    "    def getRole(self, role):\n",
    "        return self.getRequest('/icpd-instanceata-databases/dv/cpd-instance/dvapiserver/v1/privileges/objects/role/'+str(role));\n",
    "    \n",
    "    def foldData(self, sourceName, sourceTableDef, sources ):\n",
    "        json = {\"sourceName\":sourceName,\"sourceTableDef\":sourceTableDef,\"sources\":sources}\n",
    "        return self.postRequest('/icpd-instanceata-databases/dv/cpd-instance/dvapiserver/v1/virtualize/tables', json);\n",
    "\n",
    "    def addUser(self, username, displayName, email, user_roles, password):\n",
    "        json = {\"username\":username,\"displayName\":displayName,\"email\":email,\"user_roles\":user_roles,\"password\":password}\n",
    "        return self.postRequest('/api/v1/usermgmt/v1/user', json);\n",
    "    \n",
    "    def dropUser(self, username):\n",
    "        return self.deleteRequest('/api/v1/usermgmt/v1/user/'+str(username));\n",
    "   \n",
    "    def getUsers(self):\n",
    "        return self.getRequest('/api/v1/usermgmt/v1/usermgmt/users');\n",
    "    \n",
    "    def getUsersDF(self):\n",
    "        r = self.getUsers()\n",
    "        if (self.getStatusCode(r)==200):\n",
    "            json = self.getJSON(r)\n",
    "            df = pd.DataFrame(json_normalize(json))\n",
    "            return df\n",
    "        else:\n",
    "            print(self.getStatusCode(r));\n",
    "    \n",
    "    def addUserToDV(self, display_name, role, usersDF):\n",
    "        userrow = (usersDF.loc[usersDF['displayName'] == display_name])\n",
    "        uid = userrow['uid'].values[0]\n",
    "        username = userrow['username'].values[0]\n",
    "        \n",
    "        json = {\"users\":[{\"uid\":uid,\"username\":username,\"display_name\":display_name,\"role\":role}],\"serviceInstanceID\":\"1635944153872816\"}\n",
    "        return self.postRequest('/zen-data/v2/serviceInstance/users', json);\n",
    "    \n",
    "    def dropUserFromDV(self, display_name, usersDF):\n",
    "        userrow = (usersDF.loc[usersDF['displayName'] == display_name])\n",
    "        uid = userrow['uid'].values[0]\n",
    "        \n",
    "        json = {\"users\":[uid],\"serviceInstanceID\":\"1635944153872816\"}\n",
    "        return self.deleteRequest('/zen-data/v2/serviceInstance/users', json);\n",
    "    \n",
    "    def deleteVirtualizedTable(self, table_schema, table_name, data_source_table_name):\n",
    "        payload = {\"table_schema\":table_schema,\"table_name\":table_name,\"data_source_table_name\":data_source_table_name}\n",
    "        return self.deleteRequest('/icpd-instanceata-databases/dv/cpd-instance/dbapi/v4/federation', payload);\n",
    "    \n",
    "    def deleteView(self, schema, view):\n",
    "        return self.deleteRequest('/icpd-instanceata-databases/dv/cpd-instance/dbapi/v4/federation/views/'+str(schema)+'/'+str(view))\n",
    "\n",
    "    def getDataSourcesAPI(self):\n",
    "        return self.getRequest('/icpd-instanceata-databases/dv/cpd-instance/dvapiserver/v1/datasource_nodes')\n",
    "    \n",
    "    def getDataSources(self):\n",
    "        columns = ['cid','connection_id', 'dbname', 'srchostname', 'srcport','srctype','status','usr','uri']\n",
    "        dfTotal = pd.DataFrame(columns=columns)\n",
    "        r = self.getDataSourcesAPI()\n",
    "        if (self.getStatusCode(r)==200):\n",
    "            json = self.getJSON(r)\n",
    "            df = pd.DataFrame(json_normalize(json))\n",
    "            for index, row in df.iterrows():\n",
    "                if row['agent_class']!='F':\n",
    "                    dfTotal = pd.concat([dfTotal, pd.DataFrame(json_normalize(row['dataSources']))],ignore_index=True)\n",
    "            return(dfTotal[['srctype','srchostname', 'srcport', 'dbname', 'usr', 'status']])\n",
    "        else:\n",
    "            print(getStatusCode(r))    \n",
    "            \n",
    "    def getCaches(self, type='Available'):\n",
    "        # type = 'Enabled', 'Disabled', 'Deleted', 'All'\n",
    "        r = self.getRequest('/icp4data-databases/dv/cpd-instance/dv-caching/api/v1/caches')\n",
    "        json = databaseAPI.getJSON(r)\n",
    "        df = pd.DataFrame(json_normalize(json['caches']))\n",
    "        if (type == 'Available'):\n",
    "            return df[df[\"state\"].isin(['Enabled','Disabled'])]\n",
    "        elif (type == 'Enabled'):\n",
    "            return df[df[\"state\"] == 'Enabled']\n",
    "        elif (type == 'Disabled'):\n",
    "            return df[df[\"state\"] == 'Disabled']\n",
    "        elif (type == 'Deleted'):\n",
    "            return df[df[\"state\"] == 'Deleted']\n",
    "    \n",
    "    def enableCache(self, cache):\n",
    "        return self.postRequest('/icp4data-databases/dv/cpd-instance/dv-caching/api/v1/enable/'+str(cache));\n",
    "        \n",
    "    def disableCache(self, cache):\n",
    "        return self.postRequest('/icp4data-databases/dv/cpd-instance/dv-caching/api/v1/disable/'+str(cache));\n",
    "     \n",
    "    def refreshCache(self, cache):\n",
    "        return self.postRequest('/icp4data-databases/dv/cpd-instance/dv-caching/api/v1/disable/refresh/'+str(cache));    "
   ]
  },
  {
   "cell_type": "code",
   "execution_count": 38,
   "metadata": {
    "id": "88eaa71d1cf848af89758daa0cfb5ab8"
   },
   "outputs": [
    {
     "name": "stdout",
     "output_type": "stream",
     "text": [
      "Token Retrieved\n"
     ]
    }
   ],
   "source": [
    "# Set the service URL to connect from inside the ICPD Cluster\n",
    "Console  = 'https://10.0.0.201:31192'\n",
    "\n",
    "# Connect to the Db2 Data Management Console service\n",
    "user     = 'admin'\n",
    "password = 'CP4DDataFabric'\n",
    "\n",
    "# Set up the required connection\n",
    "databaseAPI = Db2(Console)\n",
    "api = '/v1'\n",
    "databaseAPI.authenticate(api, user, password)\n",
    "database = Console"
   ]
  },
  {
   "cell_type": "code",
   "execution_count": null,
   "metadata": {
    "id": "0333fcc9f277451b8847c735bbc4a90a"
   },
   "outputs": [],
   "source": [
    "### Display Virtualized Tables and Views \n",
    "display(databaseAPI.getVirtualizedTablesDF())\n",
    "display(databaseAPI.getVirtualizedViewsDF())"
   ]
  },
  {
   "cell_type": "code",
   "execution_count": 39,
   "metadata": {
    "id": "22243e8126fa489c8d7578eef1597fcd"
   },
   "outputs": [
    {
     "data": {
      "text/html": [
       "<div>\n",
       "<style scoped>\n",
       "    .dataframe tbody tr th:only-of-type {\n",
       "        vertical-align: middle;\n",
       "    }\n",
       "\n",
       "    .dataframe tbody tr th {\n",
       "        vertical-align: top;\n",
       "    }\n",
       "\n",
       "    .dataframe thead th {\n",
       "        text-align: right;\n",
       "    }\n",
       "</style>\n",
       "<table border=\"1\" class=\"dataframe\">\n",
       "  <thead>\n",
       "    <tr style=\"text-align: right;\">\n",
       "      <th></th>\n",
       "      <th>id</th>\n",
       "      <th>name</th>\n",
       "      <th>state</th>\n",
       "      <th>size</th>\n",
       "      <th>cardinality</th>\n",
       "      <th>last_refresh_timestamp</th>\n",
       "    </tr>\n",
       "  </thead>\n",
       "  <tbody>\n",
       "    <tr>\n",
       "      <th>1</th>\n",
       "      <td>DV20211110165634403313</td>\n",
       "      <td>BOEING737</td>\n",
       "      <td>Enabled</td>\n",
       "      <td>56967</td>\n",
       "      <td>4172450</td>\n",
       "      <td>2021-11-10 18:30:21.411623</td>\n",
       "    </tr>\n",
       "    <tr>\n",
       "      <th>2</th>\n",
       "      <td>DV20211115151427714635</td>\n",
       "      <td>ONTIME737NJCA</td>\n",
       "      <td>Enabled</td>\n",
       "      <td>554</td>\n",
       "      <td>37621</td>\n",
       "      <td>2021-11-15 15:33:30.254003</td>\n",
       "    </tr>\n",
       "    <tr>\n",
       "      <th>6</th>\n",
       "      <td>DV20211110144113849337</td>\n",
       "      <td>ONTIME0910</td>\n",
       "      <td>Enabled</td>\n",
       "      <td>591398</td>\n",
       "      <td>12752436</td>\n",
       "      <td>2021-11-10 16:32:41.327378</td>\n",
       "    </tr>\n",
       "    <tr>\n",
       "      <th>7</th>\n",
       "      <td>DV20211115221309388288</td>\n",
       "      <td>AIRCRAFT</td>\n",
       "      <td>Enabled</td>\n",
       "      <td>106</td>\n",
       "      <td>13101</td>\n",
       "      <td>2021-12-03 16:36:36.670765</td>\n",
       "    </tr>\n",
       "    <tr>\n",
       "      <th>9</th>\n",
       "      <td>DV2021110817343042456</td>\n",
       "      <td>ChurnAll</td>\n",
       "      <td>Enabled</td>\n",
       "      <td>363</td>\n",
       "      <td>7043</td>\n",
       "      <td>2021-11-08 17:34:38.554237</td>\n",
       "    </tr>\n",
       "    <tr>\n",
       "      <th>10</th>\n",
       "      <td>DV20211110144049703423</td>\n",
       "      <td>ONTIME1115</td>\n",
       "      <td>Enabled</td>\n",
       "      <td>1399806</td>\n",
       "      <td>30190408</td>\n",
       "      <td>2021-11-10 15:01:13.967413</td>\n",
       "    </tr>\n",
       "  </tbody>\n",
       "</table>\n",
       "</div>"
      ],
      "text/plain": [
       "                        id           name    state     size  cardinality  \\\n",
       "1   DV20211110165634403313      BOEING737  Enabled    56967      4172450   \n",
       "2   DV20211115151427714635  ONTIME737NJCA  Enabled      554        37621   \n",
       "6   DV20211110144113849337     ONTIME0910  Enabled   591398     12752436   \n",
       "7   DV20211115221309388288       AIRCRAFT  Enabled      106        13101   \n",
       "9    DV2021110817343042456       ChurnAll  Enabled      363         7043   \n",
       "10  DV20211110144049703423     ONTIME1115  Enabled  1399806     30190408   \n",
       "\n",
       "        last_refresh_timestamp  \n",
       "1   2021-11-10 18:30:21.411623  \n",
       "2   2021-11-15 15:33:30.254003  \n",
       "6   2021-11-10 16:32:41.327378  \n",
       "7   2021-12-03 16:36:36.670765  \n",
       "9   2021-11-08 17:34:38.554237  \n",
       "10  2021-11-10 15:01:13.967413  "
      ]
     },
     "metadata": {},
     "output_type": "display_data"
    }
   ],
   "source": [
    "df = databaseAPI.getCaches('Enabled')\n",
    "display(df[['id', 'name','state','size', 'cardinality','last_refresh_timestamp']])"
   ]
  },
  {
   "cell_type": "code",
   "execution_count": 40,
   "metadata": {
    "id": "510289868c874039b211905de1af3f5f"
   },
   "outputs": [
    {
     "data": {
      "text/html": [
       "<div>\n",
       "<style scoped>\n",
       "    .dataframe tbody tr th:only-of-type {\n",
       "        vertical-align: middle;\n",
       "    }\n",
       "\n",
       "    .dataframe tbody tr th {\n",
       "        vertical-align: top;\n",
       "    }\n",
       "\n",
       "    .dataframe thead th {\n",
       "        text-align: right;\n",
       "    }\n",
       "</style>\n",
       "<table border=\"1\" class=\"dataframe\">\n",
       "  <thead>\n",
       "    <tr style=\"text-align: right;\">\n",
       "      <th></th>\n",
       "      <th>id</th>\n",
       "      <th>name</th>\n",
       "      <th>state</th>\n",
       "      <th>size</th>\n",
       "      <th>cardinality</th>\n",
       "      <th>last_refresh_timestamp</th>\n",
       "    </tr>\n",
       "  </thead>\n",
       "  <tbody>\n",
       "    <tr>\n",
       "      <th>0</th>\n",
       "      <td>DV202111161222469697</td>\n",
       "      <td>ONTIME0915</td>\n",
       "      <td>Disabled</td>\n",
       "      <td>1309298</td>\n",
       "      <td>30238851</td>\n",
       "      <td>2021-11-16 12:59:22.006647</td>\n",
       "    </tr>\n",
       "  </tbody>\n",
       "</table>\n",
       "</div>"
      ],
      "text/plain": [
       "                     id        name     state     size  cardinality  \\\n",
       "0  DV202111161222469697  ONTIME0915  Disabled  1309298     30238851   \n",
       "\n",
       "       last_refresh_timestamp  \n",
       "0  2021-11-16 12:59:22.006647  "
      ]
     },
     "metadata": {},
     "output_type": "display_data"
    }
   ],
   "source": [
    "df = databaseAPI.getCaches('Disabled')\n",
    "display(df[['id', 'name','state','size', 'cardinality','last_refresh_timestamp']])"
   ]
  },
  {
   "cell_type": "code",
   "execution_count": 41,
   "metadata": {
    "id": "c2301d9b85d64cdb8ebe753c0d7a53cf"
   },
   "outputs": [
    {
     "data": {
      "text/plain": [
       "<Response [202]>"
      ]
     },
     "execution_count": 41,
     "metadata": {},
     "output_type": "execute_result"
    }
   ],
   "source": [
    "# Disable ONTIME1115\n",
    "databaseAPI.disableCache('DV20211110144113849337')"
   ]
  },
  {
   "cell_type": "code",
   "execution_count": 42,
   "metadata": {
    "id": "f7e3fd6bea87405489fee6d854e2c1aa"
   },
   "outputs": [
    {
     "data": {
      "text/plain": [
       "<Response [202]>"
      ]
     },
     "execution_count": 42,
     "metadata": {},
     "output_type": "execute_result"
    }
   ],
   "source": [
    "# Disable ONTIME0910\n",
    "databaseAPI.disableCache('DV20211110144049703423')"
   ]
  },
  {
   "cell_type": "code",
   "execution_count": 43,
   "metadata": {
    "id": "f367e6e9b2e546089ad4138dd0a3416a"
   },
   "outputs": [
    {
     "data": {
      "text/plain": [
       "<Response [202]>"
      ]
     },
     "execution_count": 43,
     "metadata": {},
     "output_type": "execute_result"
    }
   ],
   "source": [
    "# Disable BOEING737\n",
    "databaseAPI.disableCache('DV20211110165634403313')"
   ]
  },
  {
   "cell_type": "code",
   "execution_count": 44,
   "metadata": {
    "id": "c5e1efc7c6c9484388deb0d9c81c95d8"
   },
   "outputs": [
    {
     "data": {
      "text/plain": [
       "<Response [202]>"
      ]
     },
     "execution_count": 44,
     "metadata": {},
     "output_type": "execute_result"
    }
   ],
   "source": [
    "# Disable ONTIME737NJCA\n",
    "databaseAPI.disableCache('DV20211115151427714635')"
   ]
  },
  {
   "cell_type": "code",
   "execution_count": 45,
   "metadata": {
    "id": "a13ac26bdf394c468fef3c70d07734c0"
   },
   "outputs": [
    {
     "data": {
      "text/plain": [
       "<Response [202]>"
      ]
     },
     "execution_count": 45,
     "metadata": {},
     "output_type": "execute_result"
    }
   ],
   "source": [
    "# Disable AIRCRAFT\n",
    "databaseAPI.disableCache('DV20211115221309388288')"
   ]
  },
  {
   "cell_type": "code",
   "execution_count": null,
   "metadata": {
    "id": "c769f9eaf894442e8e38ebb741f5cbc9"
   },
   "outputs": [],
   "source": [
    "df = databaseAPI.getCaches('Enabled')\n",
    "display(df[['id', 'name','state','size', 'cardinality','last_refresh_timestamp']])"
   ]
  },
  {
   "cell_type": "code",
   "execution_count": 46,
   "metadata": {
    "id": "726bd17e92184f2683343a790201bde2"
   },
   "outputs": [
    {
     "name": "stdout",
     "output_type": "stream",
     "text": [
      "Connection successful.\n"
     ]
    }
   ],
   "source": [
    "# Connect to the Data Virtualization Database from inside of IBM Cloud Pak for Data\n",
    "database = 'bigsql'\n",
    "user = 'admin'\n",
    "password = 'CP4DDataFabric'\n",
    "host = '10.0.0.201'\n",
    "port = '31193'\n",
    "\n",
    "%sql CONNECT TO {database} USER {user} USING {password} HOST {host} PORT {port}"
   ]
  },
  {
   "cell_type": "code",
   "execution_count": 47,
   "metadata": {
    "id": "a5393cf625614d138eb6e32fe21553ef"
   },
   "outputs": [
    {
     "data": {
      "text/html": [
       "<div>\n",
       "<style scoped>\n",
       "    .dataframe tbody tr th:only-of-type {\n",
       "        vertical-align: middle;\n",
       "    }\n",
       "\n",
       "    .dataframe tbody tr th {\n",
       "        vertical-align: top;\n",
       "    }\n",
       "\n",
       "    .dataframe thead th {\n",
       "        text-align: right;\n",
       "    }\n",
       "</style>\n",
       "<table border=\"1\" class=\"dataframe\">\n",
       "  <thead>\n",
       "    <tr style=\"text-align: right;\">\n",
       "      <th></th>\n",
       "      <th>DAYKEY</th>\n",
       "      <th>YEAR</th>\n",
       "      <th>QUARTERKEY</th>\n",
       "      <th>QUARTER</th>\n",
       "      <th>MONTHKEY</th>\n",
       "      <th>MONTH</th>\n",
       "      <th>DAYOFMONTH</th>\n",
       "      <th>DAYOFWEEK</th>\n",
       "      <th>FLIGHTDATE</th>\n",
       "      <th>UNIQUECARRIER</th>\n",
       "      <th>AIRLINEID</th>\n",
       "      <th>CARRIER</th>\n",
       "      <th>TAILNUM</th>\n",
       "      <th>FLIGHTNUM</th>\n",
       "      <th>ORIGINAIRPORTID</th>\n",
       "      <th>ORIGINAIRPORTSEQID</th>\n",
       "      <th>ORIGINCITYMARKETID</th>\n",
       "      <th>ORIGIN</th>\n",
       "      <th>ORIGINCITYNAME</th>\n",
       "      <th>ORIGINSTATE</th>\n",
       "      <th>ORIGINSTATEFIPS</th>\n",
       "      <th>ORIGINSTATENAME</th>\n",
       "      <th>ORIGINWAC</th>\n",
       "      <th>DESTAIRPORTID</th>\n",
       "      <th>DESTAIRPORTSEQID</th>\n",
       "      <th>DESTCITYMARKETID</th>\n",
       "      <th>DEST</th>\n",
       "      <th>DESTCITYNAME</th>\n",
       "      <th>DESTSTATE</th>\n",
       "      <th>DESTSTATEFIPS</th>\n",
       "      <th>DESTSTATENAME</th>\n",
       "      <th>DESTWAC</th>\n",
       "      <th>CRSDEPTIME</th>\n",
       "      <th>DEPTIME</th>\n",
       "      <th>DEPDELAY</th>\n",
       "      <th>DEPDELAYMINUTES</th>\n",
       "      <th>DEPDEL15</th>\n",
       "      <th>DEPARTUREDELAYGROUPS</th>\n",
       "      <th>DEPTIMEBLK</th>\n",
       "      <th>TAXIOUT</th>\n",
       "      <th>WHEELSOFF</th>\n",
       "      <th>WHEELSON</th>\n",
       "      <th>TAXIIN</th>\n",
       "      <th>CRSARRTIME</th>\n",
       "      <th>ARRTIME</th>\n",
       "      <th>ARRDELAY</th>\n",
       "      <th>ARRDELAYMINUTES</th>\n",
       "      <th>ARRDEL15</th>\n",
       "      <th>ARRIVALDELAYGROUPS</th>\n",
       "      <th>ARRTIMEBLK</th>\n",
       "      <th>CANCELLED</th>\n",
       "      <th>CANCELLATIONCODE</th>\n",
       "      <th>DIVERTED</th>\n",
       "      <th>CRSELAPSEDTIME</th>\n",
       "      <th>ACTUALELAPSEDTIME</th>\n",
       "      <th>AIRTIME</th>\n",
       "      <th>FLIGHTS</th>\n",
       "      <th>DISTANCE</th>\n",
       "      <th>DISTANCEGROUP</th>\n",
       "      <th>CARRIERDELAY</th>\n",
       "      <th>WEATHERDELAY</th>\n",
       "      <th>NASDELAY</th>\n",
       "      <th>SECURITYDELAY</th>\n",
       "      <th>LATEAIRCRAFTDELAY</th>\n",
       "      <th>FIRSTDEPTIME</th>\n",
       "      <th>TOTALADDGTIME</th>\n",
       "      <th>LONGESTADDGTIME</th>\n",
       "      <th>DIVAIRPORTLANDINGS</th>\n",
       "      <th>DIVREACHEDDEST</th>\n",
       "      <th>DIVACTUALELAPSEDTIME</th>\n",
       "      <th>DIVARRDELAY</th>\n",
       "      <th>DIVDISTANCE</th>\n",
       "      <th>DIV1AIRPORT</th>\n",
       "      <th>DIV1AIRPORTID</th>\n",
       "      <th>DIV1AIRPORTSEQID</th>\n",
       "      <th>DIV1WHEELSON</th>\n",
       "      <th>DIV1TOTALGTIME</th>\n",
       "      <th>DIV1LONGESTGTIME</th>\n",
       "      <th>DIV1WHEELSOFF</th>\n",
       "      <th>DIV1TAILNUM</th>\n",
       "      <th>DIV2AIRPORT</th>\n",
       "      <th>DIV2AIRPORTID</th>\n",
       "      <th>DIV2AIRPORTSEQID</th>\n",
       "      <th>DIV2WHEELSON</th>\n",
       "      <th>DIV2TOTALGTIME</th>\n",
       "      <th>DIV2LONGESTGTIME</th>\n",
       "      <th>DIV2WHEELSOFF</th>\n",
       "      <th>DIV2TAILNUM</th>\n",
       "      <th>DIV3AIRPORT</th>\n",
       "      <th>DIV3AIRPORTID</th>\n",
       "      <th>DIV3AIRPORTSEQID</th>\n",
       "      <th>DIV3WHEELSON</th>\n",
       "      <th>DIV3TOTALGTIME</th>\n",
       "      <th>DIV3LONGESTGTIME</th>\n",
       "      <th>DIV3WHEELSOFF</th>\n",
       "      <th>DIV3TAILNUM</th>\n",
       "      <th>DIV4AIRPORT</th>\n",
       "      <th>DIV4AIRPORTID</th>\n",
       "      <th>DIV4AIRPORTSEQID</th>\n",
       "      <th>DIV4WHEELSON</th>\n",
       "      <th>DIV4TOTALGTIME</th>\n",
       "      <th>DIV4LONGESTGTIME</th>\n",
       "      <th>DIV4WHEELSOFF</th>\n",
       "      <th>DIV4TAILNUM</th>\n",
       "      <th>DIV5AIRPORT</th>\n",
       "      <th>DIV5AIRPORTID</th>\n",
       "      <th>DIV5AIRPORTSEQID</th>\n",
       "      <th>DIV5WHEELSON</th>\n",
       "      <th>DIV5TOTALGTIME</th>\n",
       "      <th>DIV5LONGESTGTIME</th>\n",
       "      <th>DIV5WHEELSOFF</th>\n",
       "      <th>DIV5TAILNUM</th>\n",
       "      <th>UNKNOWNCOL110</th>\n",
       "      <th>NUMROWS</th>\n",
       "      <th>TAIL_NUMBER</th>\n",
       "      <th>MANUFACTURER</th>\n",
       "      <th>MODEL</th>\n",
       "    </tr>\n",
       "  </thead>\n",
       "  <tbody>\n",
       "    <tr>\n",
       "      <th>0</th>\n",
       "      <td>20091101</td>\n",
       "      <td>2009</td>\n",
       "      <td>200904</td>\n",
       "      <td>4</td>\n",
       "      <td>200911</td>\n",
       "      <td>11</td>\n",
       "      <td>1</td>\n",
       "      <td>7</td>\n",
       "      <td>2009-11-01</td>\n",
       "      <td>CO</td>\n",
       "      <td>19704</td>\n",
       "      <td>CO</td>\n",
       "      <td>N78506</td>\n",
       "      <td>787</td>\n",
       "      <td>11618</td>\n",
       "      <td>1161801</td>\n",
       "      <td>31703</td>\n",
       "      <td>EWR</td>\n",
       "      <td>Newark, NJ</td>\n",
       "      <td>NJ</td>\n",
       "      <td>34</td>\n",
       "      <td>New Jersey</td>\n",
       "      <td>21</td>\n",
       "      <td>14908</td>\n",
       "      <td>1490802</td>\n",
       "      <td>32575</td>\n",
       "      <td>SNA</td>\n",
       "      <td>Santa Ana, CA</td>\n",
       "      <td>CA</td>\n",
       "      <td>6</td>\n",
       "      <td>California</td>\n",
       "      <td>91</td>\n",
       "      <td>1730</td>\n",
       "      <td>2219</td>\n",
       "      <td>289</td>\n",
       "      <td>289</td>\n",
       "      <td>1</td>\n",
       "      <td>12</td>\n",
       "      <td>1700-1759</td>\n",
       "      <td>31</td>\n",
       "      <td>2250</td>\n",
       "      <td>NaN</td>\n",
       "      <td>NaN</td>\n",
       "      <td>2057</td>\n",
       "      <td>NaN</td>\n",
       "      <td>NaN</td>\n",
       "      <td>NaN</td>\n",
       "      <td>NaN</td>\n",
       "      <td>NaN</td>\n",
       "      <td>2000-2059</td>\n",
       "      <td>0</td>\n",
       "      <td>None</td>\n",
       "      <td>1</td>\n",
       "      <td>387</td>\n",
       "      <td>NaN</td>\n",
       "      <td>NaN</td>\n",
       "      <td>1</td>\n",
       "      <td>2433</td>\n",
       "      <td>10</td>\n",
       "      <td>NaN</td>\n",
       "      <td>NaN</td>\n",
       "      <td>NaN</td>\n",
       "      <td>NaN</td>\n",
       "      <td>NaN</td>\n",
       "      <td>None</td>\n",
       "      <td>None</td>\n",
       "      <td>None</td>\n",
       "      <td>1</td>\n",
       "      <td>0.0</td>\n",
       "      <td>None</td>\n",
       "      <td>None</td>\n",
       "      <td>36.0</td>\n",
       "      <td>LAX</td>\n",
       "      <td>12892.0</td>\n",
       "      <td>1289201.0</td>\n",
       "      <td>117.0</td>\n",
       "      <td>5.0</td>\n",
       "      <td>5.0</td>\n",
       "      <td>None</td>\n",
       "      <td>None</td>\n",
       "      <td>None</td>\n",
       "      <td>None</td>\n",
       "      <td>None</td>\n",
       "      <td>None</td>\n",
       "      <td>None</td>\n",
       "      <td>None</td>\n",
       "      <td>None</td>\n",
       "      <td>None</td>\n",
       "      <td>None</td>\n",
       "      <td>None</td>\n",
       "      <td>None</td>\n",
       "      <td>None</td>\n",
       "      <td>None</td>\n",
       "      <td>None</td>\n",
       "      <td>None</td>\n",
       "      <td>None</td>\n",
       "      <td>None</td>\n",
       "      <td>None</td>\n",
       "      <td>None</td>\n",
       "      <td>None</td>\n",
       "      <td>None</td>\n",
       "      <td>None</td>\n",
       "      <td>None</td>\n",
       "      <td>None</td>\n",
       "      <td>None</td>\n",
       "      <td>None</td>\n",
       "      <td>None</td>\n",
       "      <td>None</td>\n",
       "      <td>None</td>\n",
       "      <td>None</td>\n",
       "      <td>None</td>\n",
       "      <td>None</td>\n",
       "      <td>None</td>\n",
       "      <td>1</td>\n",
       "      <td>N78506</td>\n",
       "      <td>Boeing</td>\n",
       "      <td>B737-800PAX</td>\n",
       "    </tr>\n",
       "    <tr>\n",
       "      <th>1</th>\n",
       "      <td>20120809</td>\n",
       "      <td>2012</td>\n",
       "      <td>201203</td>\n",
       "      <td>3</td>\n",
       "      <td>201208</td>\n",
       "      <td>8</td>\n",
       "      <td>9</td>\n",
       "      <td>4</td>\n",
       "      <td>2012-08-09</td>\n",
       "      <td>UA</td>\n",
       "      <td>19977</td>\n",
       "      <td>UA</td>\n",
       "      <td>N16217</td>\n",
       "      <td>1083</td>\n",
       "      <td>11618</td>\n",
       "      <td>1161802</td>\n",
       "      <td>31703</td>\n",
       "      <td>EWR</td>\n",
       "      <td>Newark, NJ</td>\n",
       "      <td>NJ</td>\n",
       "      <td>34</td>\n",
       "      <td>New Jersey</td>\n",
       "      <td>21</td>\n",
       "      <td>14908</td>\n",
       "      <td>1490803</td>\n",
       "      <td>32575</td>\n",
       "      <td>SNA</td>\n",
       "      <td>Santa Ana, CA</td>\n",
       "      <td>CA</td>\n",
       "      <td>6</td>\n",
       "      <td>California</td>\n",
       "      <td>91</td>\n",
       "      <td>1823</td>\n",
       "      <td>2215</td>\n",
       "      <td>232</td>\n",
       "      <td>232</td>\n",
       "      <td>1</td>\n",
       "      <td>12</td>\n",
       "      <td>1800-1859</td>\n",
       "      <td>55</td>\n",
       "      <td>2310</td>\n",
       "      <td>NaN</td>\n",
       "      <td>NaN</td>\n",
       "      <td>2133</td>\n",
       "      <td>NaN</td>\n",
       "      <td>NaN</td>\n",
       "      <td>NaN</td>\n",
       "      <td>NaN</td>\n",
       "      <td>NaN</td>\n",
       "      <td>2100-2159</td>\n",
       "      <td>0</td>\n",
       "      <td>None</td>\n",
       "      <td>1</td>\n",
       "      <td>370</td>\n",
       "      <td>NaN</td>\n",
       "      <td>NaN</td>\n",
       "      <td>1</td>\n",
       "      <td>2434</td>\n",
       "      <td>10</td>\n",
       "      <td>NaN</td>\n",
       "      <td>NaN</td>\n",
       "      <td>NaN</td>\n",
       "      <td>NaN</td>\n",
       "      <td>NaN</td>\n",
       "      <td>None</td>\n",
       "      <td>None</td>\n",
       "      <td>None</td>\n",
       "      <td>1</td>\n",
       "      <td>0.0</td>\n",
       "      <td>None</td>\n",
       "      <td>None</td>\n",
       "      <td>36.0</td>\n",
       "      <td>LAX</td>\n",
       "      <td>12892.0</td>\n",
       "      <td>1289203.0</td>\n",
       "      <td>123.0</td>\n",
       "      <td>8.0</td>\n",
       "      <td>8.0</td>\n",
       "      <td>None</td>\n",
       "      <td>None</td>\n",
       "      <td>None</td>\n",
       "      <td>None</td>\n",
       "      <td>None</td>\n",
       "      <td>None</td>\n",
       "      <td>None</td>\n",
       "      <td>None</td>\n",
       "      <td>None</td>\n",
       "      <td>None</td>\n",
       "      <td>None</td>\n",
       "      <td>None</td>\n",
       "      <td>None</td>\n",
       "      <td>None</td>\n",
       "      <td>None</td>\n",
       "      <td>None</td>\n",
       "      <td>None</td>\n",
       "      <td>None</td>\n",
       "      <td>None</td>\n",
       "      <td>None</td>\n",
       "      <td>None</td>\n",
       "      <td>None</td>\n",
       "      <td>None</td>\n",
       "      <td>None</td>\n",
       "      <td>None</td>\n",
       "      <td>None</td>\n",
       "      <td>None</td>\n",
       "      <td>None</td>\n",
       "      <td>None</td>\n",
       "      <td>None</td>\n",
       "      <td>None</td>\n",
       "      <td>None</td>\n",
       "      <td>None</td>\n",
       "      <td>None</td>\n",
       "      <td>None</td>\n",
       "      <td>1</td>\n",
       "      <td>N16217</td>\n",
       "      <td>Boeing</td>\n",
       "      <td>B737-800PAX</td>\n",
       "    </tr>\n",
       "    <tr>\n",
       "      <th>2</th>\n",
       "      <td>20150531</td>\n",
       "      <td>2015</td>\n",
       "      <td>201502</td>\n",
       "      <td>2</td>\n",
       "      <td>201505</td>\n",
       "      <td>5</td>\n",
       "      <td>31</td>\n",
       "      <td>7</td>\n",
       "      <td>2015-05-31</td>\n",
       "      <td>UA</td>\n",
       "      <td>19977</td>\n",
       "      <td>UA</td>\n",
       "      <td>N37470</td>\n",
       "      <td>1670</td>\n",
       "      <td>11618</td>\n",
       "      <td>1161802</td>\n",
       "      <td>31703</td>\n",
       "      <td>EWR</td>\n",
       "      <td>Newark, NJ</td>\n",
       "      <td>NJ</td>\n",
       "      <td>34</td>\n",
       "      <td>New Jersey</td>\n",
       "      <td>21</td>\n",
       "      <td>14771</td>\n",
       "      <td>1477102</td>\n",
       "      <td>32457</td>\n",
       "      <td>SFO</td>\n",
       "      <td>San Francisco, CA</td>\n",
       "      <td>CA</td>\n",
       "      <td>6</td>\n",
       "      <td>California</td>\n",
       "      <td>91</td>\n",
       "      <td>1500</td>\n",
       "      <td>2019</td>\n",
       "      <td>319</td>\n",
       "      <td>319</td>\n",
       "      <td>1</td>\n",
       "      <td>12</td>\n",
       "      <td>1500-1559</td>\n",
       "      <td>77</td>\n",
       "      <td>2136</td>\n",
       "      <td>34.0</td>\n",
       "      <td>6.0</td>\n",
       "      <td>1815</td>\n",
       "      <td>40.0</td>\n",
       "      <td>385.0</td>\n",
       "      <td>385.0</td>\n",
       "      <td>1.0</td>\n",
       "      <td>12.0</td>\n",
       "      <td>1800-1859</td>\n",
       "      <td>0</td>\n",
       "      <td>None</td>\n",
       "      <td>0</td>\n",
       "      <td>375</td>\n",
       "      <td>441.0</td>\n",
       "      <td>358.0</td>\n",
       "      <td>1</td>\n",
       "      <td>2565</td>\n",
       "      <td>11</td>\n",
       "      <td>0.0</td>\n",
       "      <td>314.0</td>\n",
       "      <td>66.0</td>\n",
       "      <td>0.0</td>\n",
       "      <td>5.0</td>\n",
       "      <td>None</td>\n",
       "      <td>None</td>\n",
       "      <td>None</td>\n",
       "      <td>0</td>\n",
       "      <td>NaN</td>\n",
       "      <td>None</td>\n",
       "      <td>None</td>\n",
       "      <td>NaN</td>\n",
       "      <td></td>\n",
       "      <td>NaN</td>\n",
       "      <td>NaN</td>\n",
       "      <td>NaN</td>\n",
       "      <td>NaN</td>\n",
       "      <td>NaN</td>\n",
       "      <td>None</td>\n",
       "      <td></td>\n",
       "      <td></td>\n",
       "      <td>None</td>\n",
       "      <td>None</td>\n",
       "      <td>None</td>\n",
       "      <td>None</td>\n",
       "      <td>None</td>\n",
       "      <td>None</td>\n",
       "      <td></td>\n",
       "      <td></td>\n",
       "      <td>None</td>\n",
       "      <td>None</td>\n",
       "      <td>None</td>\n",
       "      <td>None</td>\n",
       "      <td>None</td>\n",
       "      <td>None</td>\n",
       "      <td></td>\n",
       "      <td></td>\n",
       "      <td>None</td>\n",
       "      <td>None</td>\n",
       "      <td>None</td>\n",
       "      <td>None</td>\n",
       "      <td>None</td>\n",
       "      <td>None</td>\n",
       "      <td></td>\n",
       "      <td></td>\n",
       "      <td>None</td>\n",
       "      <td>None</td>\n",
       "      <td>None</td>\n",
       "      <td>None</td>\n",
       "      <td>None</td>\n",
       "      <td>None</td>\n",
       "      <td></td>\n",
       "      <td>None</td>\n",
       "      <td>1</td>\n",
       "      <td>N37470</td>\n",
       "      <td>Boeing</td>\n",
       "      <td>B737-900ERPAX</td>\n",
       "    </tr>\n",
       "    <tr>\n",
       "      <th>3</th>\n",
       "      <td>20120810</td>\n",
       "      <td>2012</td>\n",
       "      <td>201203</td>\n",
       "      <td>3</td>\n",
       "      <td>201208</td>\n",
       "      <td>8</td>\n",
       "      <td>10</td>\n",
       "      <td>5</td>\n",
       "      <td>2012-08-10</td>\n",
       "      <td>UA</td>\n",
       "      <td>19977</td>\n",
       "      <td>UA</td>\n",
       "      <td>N73291</td>\n",
       "      <td>17</td>\n",
       "      <td>11618</td>\n",
       "      <td>1161802</td>\n",
       "      <td>31703</td>\n",
       "      <td>EWR</td>\n",
       "      <td>Newark, NJ</td>\n",
       "      <td>NJ</td>\n",
       "      <td>34</td>\n",
       "      <td>New Jersey</td>\n",
       "      <td>21</td>\n",
       "      <td>12892</td>\n",
       "      <td>1289203</td>\n",
       "      <td>32575</td>\n",
       "      <td>LAX</td>\n",
       "      <td>Los Angeles, CA</td>\n",
       "      <td>CA</td>\n",
       "      <td>6</td>\n",
       "      <td>California</td>\n",
       "      <td>91</td>\n",
       "      <td>1300</td>\n",
       "      <td>1847</td>\n",
       "      <td>347</td>\n",
       "      <td>347</td>\n",
       "      <td>1</td>\n",
       "      <td>12</td>\n",
       "      <td>1300-1359</td>\n",
       "      <td>39</td>\n",
       "      <td>1926</td>\n",
       "      <td>2141.0</td>\n",
       "      <td>31.0</td>\n",
       "      <td>1552</td>\n",
       "      <td>2212.0</td>\n",
       "      <td>380.0</td>\n",
       "      <td>380.0</td>\n",
       "      <td>1.0</td>\n",
       "      <td>12.0</td>\n",
       "      <td>1500-1559</td>\n",
       "      <td>0</td>\n",
       "      <td>None</td>\n",
       "      <td>0</td>\n",
       "      <td>352</td>\n",
       "      <td>385.0</td>\n",
       "      <td>315.0</td>\n",
       "      <td>1</td>\n",
       "      <td>2454</td>\n",
       "      <td>10</td>\n",
       "      <td>347.0</td>\n",
       "      <td>0.0</td>\n",
       "      <td>33.0</td>\n",
       "      <td>0.0</td>\n",
       "      <td>0.0</td>\n",
       "      <td>None</td>\n",
       "      <td>None</td>\n",
       "      <td>None</td>\n",
       "      <td>0</td>\n",
       "      <td>NaN</td>\n",
       "      <td>None</td>\n",
       "      <td>None</td>\n",
       "      <td>NaN</td>\n",
       "      <td>None</td>\n",
       "      <td>NaN</td>\n",
       "      <td>NaN</td>\n",
       "      <td>NaN</td>\n",
       "      <td>NaN</td>\n",
       "      <td>NaN</td>\n",
       "      <td>None</td>\n",
       "      <td>None</td>\n",
       "      <td>None</td>\n",
       "      <td>None</td>\n",
       "      <td>None</td>\n",
       "      <td>None</td>\n",
       "      <td>None</td>\n",
       "      <td>None</td>\n",
       "      <td>None</td>\n",
       "      <td>None</td>\n",
       "      <td>None</td>\n",
       "      <td>None</td>\n",
       "      <td>None</td>\n",
       "      <td>None</td>\n",
       "      <td>None</td>\n",
       "      <td>None</td>\n",
       "      <td>None</td>\n",
       "      <td>None</td>\n",
       "      <td>None</td>\n",
       "      <td>None</td>\n",
       "      <td>None</td>\n",
       "      <td>None</td>\n",
       "      <td>None</td>\n",
       "      <td>None</td>\n",
       "      <td>None</td>\n",
       "      <td>None</td>\n",
       "      <td>None</td>\n",
       "      <td>None</td>\n",
       "      <td>None</td>\n",
       "      <td>None</td>\n",
       "      <td>None</td>\n",
       "      <td>None</td>\n",
       "      <td>None</td>\n",
       "      <td>None</td>\n",
       "      <td>None</td>\n",
       "      <td>1</td>\n",
       "      <td>N73291</td>\n",
       "      <td>Boeing</td>\n",
       "      <td>B737-800PAX</td>\n",
       "    </tr>\n",
       "    <tr>\n",
       "      <th>4</th>\n",
       "      <td>20150615</td>\n",
       "      <td>2015</td>\n",
       "      <td>201502</td>\n",
       "      <td>2</td>\n",
       "      <td>201506</td>\n",
       "      <td>6</td>\n",
       "      <td>15</td>\n",
       "      <td>1</td>\n",
       "      <td>2015-06-15</td>\n",
       "      <td>UA</td>\n",
       "      <td>19977</td>\n",
       "      <td>UA</td>\n",
       "      <td>N78524</td>\n",
       "      <td>1289</td>\n",
       "      <td>11618</td>\n",
       "      <td>1161802</td>\n",
       "      <td>31703</td>\n",
       "      <td>EWR</td>\n",
       "      <td>Newark, NJ</td>\n",
       "      <td>NJ</td>\n",
       "      <td>34</td>\n",
       "      <td>New Jersey</td>\n",
       "      <td>21</td>\n",
       "      <td>12892</td>\n",
       "      <td>1289203</td>\n",
       "      <td>32575</td>\n",
       "      <td>LAX</td>\n",
       "      <td>Los Angeles, CA</td>\n",
       "      <td>CA</td>\n",
       "      <td>6</td>\n",
       "      <td>California</td>\n",
       "      <td>91</td>\n",
       "      <td>1610</td>\n",
       "      <td>2158</td>\n",
       "      <td>348</td>\n",
       "      <td>348</td>\n",
       "      <td>1</td>\n",
       "      <td>12</td>\n",
       "      <td>1600-1659</td>\n",
       "      <td>32</td>\n",
       "      <td>2230</td>\n",
       "      <td>52.0</td>\n",
       "      <td>30.0</td>\n",
       "      <td>1908</td>\n",
       "      <td>122.0</td>\n",
       "      <td>374.0</td>\n",
       "      <td>374.0</td>\n",
       "      <td>1.0</td>\n",
       "      <td>12.0</td>\n",
       "      <td>1900-1959</td>\n",
       "      <td>0</td>\n",
       "      <td>None</td>\n",
       "      <td>0</td>\n",
       "      <td>358</td>\n",
       "      <td>384.0</td>\n",
       "      <td>322.0</td>\n",
       "      <td>1</td>\n",
       "      <td>2454</td>\n",
       "      <td>10</td>\n",
       "      <td>0.0</td>\n",
       "      <td>12.0</td>\n",
       "      <td>26.0</td>\n",
       "      <td>0.0</td>\n",
       "      <td>336.0</td>\n",
       "      <td>None</td>\n",
       "      <td>None</td>\n",
       "      <td>None</td>\n",
       "      <td>0</td>\n",
       "      <td>NaN</td>\n",
       "      <td>None</td>\n",
       "      <td>None</td>\n",
       "      <td>NaN</td>\n",
       "      <td></td>\n",
       "      <td>NaN</td>\n",
       "      <td>NaN</td>\n",
       "      <td>NaN</td>\n",
       "      <td>NaN</td>\n",
       "      <td>NaN</td>\n",
       "      <td>None</td>\n",
       "      <td></td>\n",
       "      <td></td>\n",
       "      <td>None</td>\n",
       "      <td>None</td>\n",
       "      <td>None</td>\n",
       "      <td>None</td>\n",
       "      <td>None</td>\n",
       "      <td>None</td>\n",
       "      <td></td>\n",
       "      <td></td>\n",
       "      <td>None</td>\n",
       "      <td>None</td>\n",
       "      <td>None</td>\n",
       "      <td>None</td>\n",
       "      <td>None</td>\n",
       "      <td>None</td>\n",
       "      <td></td>\n",
       "      <td></td>\n",
       "      <td>None</td>\n",
       "      <td>None</td>\n",
       "      <td>None</td>\n",
       "      <td>None</td>\n",
       "      <td>None</td>\n",
       "      <td>None</td>\n",
       "      <td></td>\n",
       "      <td></td>\n",
       "      <td>None</td>\n",
       "      <td>None</td>\n",
       "      <td>None</td>\n",
       "      <td>None</td>\n",
       "      <td>None</td>\n",
       "      <td>None</td>\n",
       "      <td></td>\n",
       "      <td>None</td>\n",
       "      <td>1</td>\n",
       "      <td>N78524</td>\n",
       "      <td>Boeing</td>\n",
       "      <td>B737-800PAX</td>\n",
       "    </tr>\n",
       "  </tbody>\n",
       "</table>\n",
       "</div>"
      ],
      "text/plain": [
       "     DAYKEY  YEAR  QUARTERKEY  QUARTER  MONTHKEY  MONTH  DAYOFMONTH  \\\n",
       "0  20091101  2009      200904        4    200911     11           1   \n",
       "1  20120809  2012      201203        3    201208      8           9   \n",
       "2  20150531  2015      201502        2    201505      5          31   \n",
       "3  20120810  2012      201203        3    201208      8          10   \n",
       "4  20150615  2015      201502        2    201506      6          15   \n",
       "\n",
       "   DAYOFWEEK FLIGHTDATE UNIQUECARRIER  AIRLINEID CARRIER TAILNUM  FLIGHTNUM  \\\n",
       "0          7 2009-11-01            CO      19704      CO  N78506        787   \n",
       "1          4 2012-08-09            UA      19977      UA  N16217       1083   \n",
       "2          7 2015-05-31            UA      19977      UA  N37470       1670   \n",
       "3          5 2012-08-10            UA      19977      UA  N73291         17   \n",
       "4          1 2015-06-15            UA      19977      UA  N78524       1289   \n",
       "\n",
       "   ORIGINAIRPORTID  ORIGINAIRPORTSEQID  ORIGINCITYMARKETID ORIGIN  \\\n",
       "0            11618             1161801               31703    EWR   \n",
       "1            11618             1161802               31703    EWR   \n",
       "2            11618             1161802               31703    EWR   \n",
       "3            11618             1161802               31703    EWR   \n",
       "4            11618             1161802               31703    EWR   \n",
       "\n",
       "  ORIGINCITYNAME ORIGINSTATE  ORIGINSTATEFIPS ORIGINSTATENAME  ORIGINWAC  \\\n",
       "0     Newark, NJ          NJ               34      New Jersey         21   \n",
       "1     Newark, NJ          NJ               34      New Jersey         21   \n",
       "2     Newark, NJ          NJ               34      New Jersey         21   \n",
       "3     Newark, NJ          NJ               34      New Jersey         21   \n",
       "4     Newark, NJ          NJ               34      New Jersey         21   \n",
       "\n",
       "   DESTAIRPORTID  DESTAIRPORTSEQID  DESTCITYMARKETID DEST  \\\n",
       "0          14908           1490802             32575  SNA   \n",
       "1          14908           1490803             32575  SNA   \n",
       "2          14771           1477102             32457  SFO   \n",
       "3          12892           1289203             32575  LAX   \n",
       "4          12892           1289203             32575  LAX   \n",
       "\n",
       "                       DESTCITYNAME DESTSTATE  DESTSTATEFIPS DESTSTATENAME  \\\n",
       "0  Santa Ana, CA                           CA              6    California   \n",
       "1  Santa Ana, CA                           CA              6    California   \n",
       "2  San Francisco, CA                       CA              6    California   \n",
       "3  Los Angeles, CA                         CA              6    California   \n",
       "4  Los Angeles, CA                         CA              6    California   \n",
       "\n",
       "   DESTWAC  CRSDEPTIME  DEPTIME  DEPDELAY  DEPDELAYMINUTES  DEPDEL15  \\\n",
       "0       91        1730     2219       289              289         1   \n",
       "1       91        1823     2215       232              232         1   \n",
       "2       91        1500     2019       319              319         1   \n",
       "3       91        1300     1847       347              347         1   \n",
       "4       91        1610     2158       348              348         1   \n",
       "\n",
       "   DEPARTUREDELAYGROUPS DEPTIMEBLK  TAXIOUT  WHEELSOFF  WHEELSON  TAXIIN  \\\n",
       "0                    12  1700-1759       31       2250       NaN     NaN   \n",
       "1                    12  1800-1859       55       2310       NaN     NaN   \n",
       "2                    12  1500-1559       77       2136      34.0     6.0   \n",
       "3                    12  1300-1359       39       1926    2141.0    31.0   \n",
       "4                    12  1600-1659       32       2230      52.0    30.0   \n",
       "\n",
       "   CRSARRTIME  ARRTIME  ARRDELAY  ARRDELAYMINUTES  ARRDEL15  \\\n",
       "0        2057      NaN       NaN              NaN       NaN   \n",
       "1        2133      NaN       NaN              NaN       NaN   \n",
       "2        1815     40.0     385.0            385.0       1.0   \n",
       "3        1552   2212.0     380.0            380.0       1.0   \n",
       "4        1908    122.0     374.0            374.0       1.0   \n",
       "\n",
       "   ARRIVALDELAYGROUPS ARRTIMEBLK  CANCELLED CANCELLATIONCODE  DIVERTED  \\\n",
       "0                 NaN  2000-2059          0             None         1   \n",
       "1                 NaN  2100-2159          0             None         1   \n",
       "2                12.0  1800-1859          0             None         0   \n",
       "3                12.0  1500-1559          0             None         0   \n",
       "4                12.0  1900-1959          0             None         0   \n",
       "\n",
       "   CRSELAPSEDTIME  ACTUALELAPSEDTIME  AIRTIME  FLIGHTS  DISTANCE  \\\n",
       "0             387                NaN      NaN        1      2433   \n",
       "1             370                NaN      NaN        1      2434   \n",
       "2             375              441.0    358.0        1      2565   \n",
       "3             352              385.0    315.0        1      2454   \n",
       "4             358              384.0    322.0        1      2454   \n",
       "\n",
       "   DISTANCEGROUP  CARRIERDELAY  WEATHERDELAY  NASDELAY  SECURITYDELAY  \\\n",
       "0             10           NaN           NaN       NaN            NaN   \n",
       "1             10           NaN           NaN       NaN            NaN   \n",
       "2             11           0.0         314.0      66.0            0.0   \n",
       "3             10         347.0           0.0      33.0            0.0   \n",
       "4             10           0.0          12.0      26.0            0.0   \n",
       "\n",
       "   LATEAIRCRAFTDELAY FIRSTDEPTIME TOTALADDGTIME LONGESTADDGTIME  \\\n",
       "0                NaN         None          None            None   \n",
       "1                NaN         None          None            None   \n",
       "2                5.0         None          None            None   \n",
       "3                0.0         None          None            None   \n",
       "4              336.0         None          None            None   \n",
       "\n",
       "   DIVAIRPORTLANDINGS  DIVREACHEDDEST DIVACTUALELAPSEDTIME DIVARRDELAY  \\\n",
       "0                   1             0.0                 None        None   \n",
       "1                   1             0.0                 None        None   \n",
       "2                   0             NaN                 None        None   \n",
       "3                   0             NaN                 None        None   \n",
       "4                   0             NaN                 None        None   \n",
       "\n",
       "   DIVDISTANCE DIV1AIRPORT  DIV1AIRPORTID  DIV1AIRPORTSEQID  DIV1WHEELSON  \\\n",
       "0         36.0         LAX        12892.0         1289201.0         117.0   \n",
       "1         36.0         LAX        12892.0         1289203.0         123.0   \n",
       "2          NaN                        NaN               NaN           NaN   \n",
       "3          NaN        None            NaN               NaN           NaN   \n",
       "4          NaN                        NaN               NaN           NaN   \n",
       "\n",
       "   DIV1TOTALGTIME  DIV1LONGESTGTIME DIV1WHEELSOFF DIV1TAILNUM DIV2AIRPORT  \\\n",
       "0             5.0               5.0          None        None        None   \n",
       "1             8.0               8.0          None        None        None   \n",
       "2             NaN               NaN          None                           \n",
       "3             NaN               NaN          None        None        None   \n",
       "4             NaN               NaN          None                           \n",
       "\n",
       "  DIV2AIRPORTID DIV2AIRPORTSEQID DIV2WHEELSON DIV2TOTALGTIME DIV2LONGESTGTIME  \\\n",
       "0          None             None         None           None             None   \n",
       "1          None             None         None           None             None   \n",
       "2          None             None         None           None             None   \n",
       "3          None             None         None           None             None   \n",
       "4          None             None         None           None             None   \n",
       "\n",
       "  DIV2WHEELSOFF DIV2TAILNUM DIV3AIRPORT DIV3AIRPORTID DIV3AIRPORTSEQID  \\\n",
       "0          None        None        None          None             None   \n",
       "1          None        None        None          None             None   \n",
       "2          None                                  None             None   \n",
       "3          None        None        None          None             None   \n",
       "4          None                                  None             None   \n",
       "\n",
       "  DIV3WHEELSON DIV3TOTALGTIME DIV3LONGESTGTIME DIV3WHEELSOFF DIV3TAILNUM  \\\n",
       "0         None           None             None          None        None   \n",
       "1         None           None             None          None        None   \n",
       "2         None           None             None          None               \n",
       "3         None           None             None          None        None   \n",
       "4         None           None             None          None               \n",
       "\n",
       "  DIV4AIRPORT DIV4AIRPORTID DIV4AIRPORTSEQID DIV4WHEELSON DIV4TOTALGTIME  \\\n",
       "0        None          None             None         None           None   \n",
       "1        None          None             None         None           None   \n",
       "2                      None             None         None           None   \n",
       "3        None          None             None         None           None   \n",
       "4                      None             None         None           None   \n",
       "\n",
       "  DIV4LONGESTGTIME DIV4WHEELSOFF DIV4TAILNUM DIV5AIRPORT DIV5AIRPORTID  \\\n",
       "0             None          None        None        None          None   \n",
       "1             None          None        None        None          None   \n",
       "2             None          None                                  None   \n",
       "3             None          None        None        None          None   \n",
       "4             None          None                                  None   \n",
       "\n",
       "  DIV5AIRPORTSEQID DIV5WHEELSON DIV5TOTALGTIME DIV5LONGESTGTIME DIV5WHEELSOFF  \\\n",
       "0             None         None           None             None          None   \n",
       "1             None         None           None             None          None   \n",
       "2             None         None           None             None          None   \n",
       "3             None         None           None             None          None   \n",
       "4             None         None           None             None          None   \n",
       "\n",
       "  DIV5TAILNUM UNKNOWNCOL110  NUMROWS TAIL_NUMBER MANUFACTURER          MODEL  \n",
       "0        None          None        1      N78506       Boeing    B737-800PAX  \n",
       "1        None          None        1      N16217       Boeing    B737-800PAX  \n",
       "2                      None        1      N37470       Boeing  B737-900ERPAX  \n",
       "3        None          None        1      N73291       Boeing    B737-800PAX  \n",
       "4                      None        1      N78524       Boeing    B737-800PAX  "
      ]
     },
     "execution_count": 47,
     "metadata": {},
     "output_type": "execute_result"
    }
   ],
   "source": [
    "%%sql \n",
    "SELECT * FROM \"ONTIME\".\"ONTIME\" OT, \"ONTIME\".\"AIRCRAFT\" AC \n",
    "  WHERE AC.\"TAIL_NUMBER\" = OT.TAILNUM\n",
    "  AND ORIGINSTATE = 'NJ'\n",
    "  AND DESTSTATE = 'CA'\n",
    "  AND MANUFACTURER = 'Boeing' \n",
    "  AND AC.MODEL LIKE 'B737%'\n",
    "  AND OT.TAXIOUT > 30\n",
    "  AND OT.DISTANCE > 2000\n",
    "  AND OT.DEPDELAY > 200\n",
    "  ORDER BY OT.ARRDELAY DESC\n",
    "  FETCH FIRST 5 ROWS ONLY"
   ]
  },
  {
   "cell_type": "code",
   "execution_count": 48,
   "metadata": {
    "id": "0426171f745d4dbbbd8d1ffd79ef96f3"
   },
   "outputs": [],
   "source": [
    "%%capture result\n",
    "%%time\n",
    "%%sql \n",
    "SELECT * FROM \"ONTIME\".\"ONTIME\" OT, \"ONTIME\".\"AIRCRAFT\" AC \n",
    "  WHERE AC.\"TAIL_NUMBER\" = OT.TAILNUM\n",
    "  AND ORIGINSTATE = 'NJ'\n",
    "  AND DESTSTATE = 'CA'\n",
    "  AND MANUFACTURER = 'Boeing' \n",
    "  AND AC.MODEL LIKE 'B737%'\n",
    "  AND OT.TAXIOUT > 30\n",
    "  AND OT.DISTANCE > 2000\n",
    "  AND OT.DEPDELAY > 200\n",
    "  ORDER BY OT.ARRDELAY DESC\n",
    "  FETCH FIRST 5 ROWS ONLY"
   ]
  },
  {
   "cell_type": "code",
   "execution_count": 49,
   "metadata": {
    "id": "1588204b75aa41208a26e255b63d2072",
    "scrolled": true
   },
   "outputs": [
    {
     "name": "stdout",
     "output_type": "stream",
     "text": [
      "CPU times: user 21.6 ms, sys: 4.19 ms, total: 25.8 ms\n",
      "Wall time: 1min 24s\n",
      "\n",
      "CPU times: user 21.6 ms, sys: 4.19 ms, total: 25.8 ms\n",
      "Wall time: 1min 24s\n",
      "\n",
      "Time: 84 s\n",
      "Total Time: 84 s\n"
     ]
    }
   ],
   "source": [
    "print(result)\n",
    "sqldvnocachetimer = Timer()\n",
    "sqldvnocachetimer.timeTotal()"
   ]
  },
  {
   "cell_type": "code",
   "execution_count": 50,
   "metadata": {
    "id": "4f960147eb6542e19da89246f1bc0d34"
   },
   "outputs": [
    {
     "data": {
      "text/plain": [
       "<Response [202]>"
      ]
     },
     "execution_count": 50,
     "metadata": {},
     "output_type": "execute_result"
    }
   ],
   "source": [
    "# Enable ONTIME1115\n",
    "databaseAPI.enableCache('DV20211110144113849337')"
   ]
  },
  {
   "cell_type": "code",
   "execution_count": 51,
   "metadata": {
    "id": "50e6c077ab484123aa1c1edf3363fc00"
   },
   "outputs": [
    {
     "data": {
      "text/plain": [
       "<Response [202]>"
      ]
     },
     "execution_count": 51,
     "metadata": {},
     "output_type": "execute_result"
    }
   ],
   "source": [
    "# Enable ONTIME0910\n",
    "databaseAPI.enableCache('DV20211110144049703423')"
   ]
  },
  {
   "cell_type": "code",
   "execution_count": 52,
   "metadata": {
    "id": "d645633c92ea44bc80079c1f98c9bcb0"
   },
   "outputs": [
    {
     "data": {
      "text/plain": [
       "<Response [202]>"
      ]
     },
     "execution_count": 52,
     "metadata": {},
     "output_type": "execute_result"
    }
   ],
   "source": [
    "# Enable AIRCRAFT\n",
    "databaseAPI.enableCache('DV20211115221309388288')"
   ]
  },
  {
   "cell_type": "code",
   "execution_count": 53,
   "metadata": {
    "id": "e89328163ab54564972508d206b44567"
   },
   "outputs": [
    {
     "data": {
      "text/html": [
       "<div>\n",
       "<style scoped>\n",
       "    .dataframe tbody tr th:only-of-type {\n",
       "        vertical-align: middle;\n",
       "    }\n",
       "\n",
       "    .dataframe tbody tr th {\n",
       "        vertical-align: top;\n",
       "    }\n",
       "\n",
       "    .dataframe thead th {\n",
       "        text-align: right;\n",
       "    }\n",
       "</style>\n",
       "<table border=\"1\" class=\"dataframe\">\n",
       "  <thead>\n",
       "    <tr style=\"text-align: right;\">\n",
       "      <th></th>\n",
       "      <th>id</th>\n",
       "      <th>name</th>\n",
       "      <th>state</th>\n",
       "      <th>size</th>\n",
       "      <th>cardinality</th>\n",
       "      <th>last_refresh_timestamp</th>\n",
       "    </tr>\n",
       "  </thead>\n",
       "  <tbody>\n",
       "    <tr>\n",
       "      <th>9</th>\n",
       "      <td>DV2021110817343042456</td>\n",
       "      <td>ChurnAll</td>\n",
       "      <td>Enabled</td>\n",
       "      <td>363</td>\n",
       "      <td>7043</td>\n",
       "      <td>2021-11-08 17:34:38.554237</td>\n",
       "    </tr>\n",
       "  </tbody>\n",
       "</table>\n",
       "</div>"
      ],
      "text/plain": [
       "                      id      name    state  size  cardinality  \\\n",
       "9  DV2021110817343042456  ChurnAll  Enabled   363         7043   \n",
       "\n",
       "       last_refresh_timestamp  \n",
       "9  2021-11-08 17:34:38.554237  "
      ]
     },
     "metadata": {},
     "output_type": "display_data"
    }
   ],
   "source": [
    "df = databaseAPI.getCaches('Enabled')\n",
    "display(df[['id', 'name','state','size', 'cardinality','last_refresh_timestamp']])"
   ]
  },
  {
   "cell_type": "code",
   "execution_count": 54,
   "metadata": {
    "id": "f5725c54c2c14a71a1d3443c6a9d2d76"
   },
   "outputs": [],
   "source": [
    "%%capture result\n",
    "%%time\n",
    "%%sql \n",
    "SELECT * FROM \"ONTIME\".\"ONTIME\" OT, \"ONTIME\".\"AIRCRAFT\" AC \n",
    "  WHERE AC.\"TAIL_NUMBER\" = OT.TAILNUM\n",
    "  AND ORIGINSTATE = 'NJ'\n",
    "  AND DESTSTATE = 'CA'\n",
    "  AND MANUFACTURER = 'Boeing' \n",
    "  AND AC.MODEL LIKE 'B737%'\n",
    "  AND OT.TAXIOUT > 30\n",
    "  AND OT.DISTANCE > 2000\n",
    "  AND OT.DEPDELAY > 200\n",
    "  ORDER BY OT.ARRDELAY DESC\n",
    "  FETCH FIRST 5 ROWS ONLY"
   ]
  },
  {
   "cell_type": "code",
   "execution_count": 55,
   "metadata": {
    "id": "2a591dc2d2574e0787e45d2a3f612d37",
    "scrolled": true
   },
   "outputs": [
    {
     "name": "stdout",
     "output_type": "stream",
     "text": [
      "CPU times: user 19.5 ms, sys: 2.96 ms, total: 22.5 ms\n",
      "Wall time: 50.8 s\n",
      "\n",
      "CPU times: user 19.5 ms, sys: 2.96 ms, total: 22.5 ms\n",
      "Wall time: 50.8 s\n",
      "\n",
      "Time: 50.8 s\n",
      "Total Time: 50.8 s\n"
     ]
    }
   ],
   "source": [
    "print(result)\n",
    "sqldvbigcachetimer = Timer()\n",
    "sqldvbigcachetimer.timeTotal()"
   ]
  },
  {
   "cell_type": "code",
   "execution_count": 56,
   "metadata": {
    "id": "157e48687ca9426b84c18d209c0decee"
   },
   "outputs": [
    {
     "data": {
      "text/plain": [
       "<Response [202]>"
      ]
     },
     "execution_count": 56,
     "metadata": {},
     "output_type": "execute_result"
    }
   ],
   "source": [
    "# Enable BOEING737\n",
    "databaseAPI.enableCache('DV20211110165634403313')"
   ]
  },
  {
   "cell_type": "code",
   "execution_count": 57,
   "metadata": {
    "id": "441426d516724d0a8f4c24db05c85581"
   },
   "outputs": [
    {
     "data": {
      "text/plain": [
       "<Response [202]>"
      ]
     },
     "execution_count": 57,
     "metadata": {},
     "output_type": "execute_result"
    }
   ],
   "source": [
    "# Enable ONTIME737NJCA\n",
    "databaseAPI.enableCache('DV20211115151427714635')"
   ]
  },
  {
   "cell_type": "code",
   "execution_count": 58,
   "metadata": {
    "id": "1f3a072485f1495ca643c79afabce548"
   },
   "outputs": [],
   "source": [
    "%%capture result\n",
    "%%time\n",
    "%%sql \n",
    "SELECT * FROM \"ONTIME\".\"BOEING737\" OT, \"ONTIME\".\"AIRCRAFT\" AC \n",
    "  WHERE ORIGINSTATE = 'NJ'\n",
    "  AND DESTSTATE = 'CA'\n",
    "  AND TAXIOUT > 30\n",
    "  AND DISTANCE > 2000\n",
    "  AND DEPDELAY > 200\n",
    "  ORDER BY OT.ARRDELAY DESC\n",
    "  FETCH FIRST 5 ROWS ONLY"
   ]
  },
  {
   "cell_type": "code",
   "execution_count": 59,
   "metadata": {
    "id": "f9237941a8aa489a8e9f1522d2e8b83d"
   },
   "outputs": [
    {
     "name": "stdout",
     "output_type": "stream",
     "text": [
      "CPU times: user 4.81 ms, sys: 1.41 ms, total: 6.22 ms\n",
      "Wall time: 9.72 s\n",
      "\n",
      "Time: 9.72 s\n",
      "Total Time: 9.72 s\n"
     ]
    }
   ],
   "source": [
    "sqldvfocusedcachetimer = Timer()\n",
    "sqldvfocusedcachetimer.timeTotal()"
   ]
  },
  {
   "cell_type": "code",
   "execution_count": 60,
   "metadata": {
    "id": "d71e502221d145e09e53b9482ca2882b"
   },
   "outputs": [],
   "source": [
    "%%capture result\n",
    "%%time\n",
    "%%sql \n",
    "SELECT * FROM ONTIME.ONTIME737NJCA WHERE \n",
    "  TAXIOUT > 30\n",
    "  AND DISTANCE > 2000\n",
    "  AND DEPDELAY > 200\n",
    "  ORDER BY ARRDELAY DESC\n",
    "  FETCH FIRST 5 ROWS ONLY"
   ]
  },
  {
   "cell_type": "code",
   "execution_count": 61,
   "metadata": {
    "id": "66d0598ecd9f4377ae18e216452e52f6"
   },
   "outputs": [
    {
     "name": "stdout",
     "output_type": "stream",
     "text": [
      "CPU times: user 5.83 ms, sys: 988 us, total: 6.81 ms\n",
      "Wall time: 5.18 s\n",
      "\n",
      "Time: 5.18 s\n",
      "Total Time: 5.18 s\n"
     ]
    }
   ],
   "source": [
    "sqldvsmallcachetimer = Timer()\n",
    "sqldvsmallcachetimer.timeTotal()"
   ]
  },
  {
   "cell_type": "code",
   "execution_count": 62,
   "metadata": {
    "id": "5a44ef7f674a4893852f64b7daad5663"
   },
   "outputs": [
    {
     "data": {
      "text/html": [
       "<div>\n",
       "<style scoped>\n",
       "    .dataframe tbody tr th:only-of-type {\n",
       "        vertical-align: middle;\n",
       "    }\n",
       "\n",
       "    .dataframe tbody tr th {\n",
       "        vertical-align: top;\n",
       "    }\n",
       "\n",
       "    .dataframe thead th {\n",
       "        text-align: right;\n",
       "    }\n",
       "</style>\n",
       "<table border=\"1\" class=\"dataframe\">\n",
       "  <thead>\n",
       "    <tr style=\"text-align: right;\">\n",
       "      <th></th>\n",
       "      <th>id</th>\n",
       "      <th>name</th>\n",
       "      <th>size</th>\n",
       "      <th>cardinality</th>\n",
       "      <th>last_refresh_timestamp</th>\n",
       "    </tr>\n",
       "  </thead>\n",
       "  <tbody>\n",
       "    <tr>\n",
       "      <th>1</th>\n",
       "      <td>DV20211110165634403313</td>\n",
       "      <td>BOEING737</td>\n",
       "      <td>56967</td>\n",
       "      <td>4172450</td>\n",
       "      <td>2021-11-10 18:30:21.411623</td>\n",
       "    </tr>\n",
       "    <tr>\n",
       "      <th>2</th>\n",
       "      <td>DV20211115151427714635</td>\n",
       "      <td>ONTIME737NJCA</td>\n",
       "      <td>554</td>\n",
       "      <td>37621</td>\n",
       "      <td>2021-11-15 15:33:30.254003</td>\n",
       "    </tr>\n",
       "    <tr>\n",
       "      <th>6</th>\n",
       "      <td>DV20211110144113849337</td>\n",
       "      <td>ONTIME0910</td>\n",
       "      <td>591398</td>\n",
       "      <td>12752436</td>\n",
       "      <td>2021-11-10 16:32:41.327378</td>\n",
       "    </tr>\n",
       "    <tr>\n",
       "      <th>7</th>\n",
       "      <td>DV20211115221309388288</td>\n",
       "      <td>AIRCRAFT</td>\n",
       "      <td>106</td>\n",
       "      <td>13101</td>\n",
       "      <td>2021-12-03 16:36:36.670765</td>\n",
       "    </tr>\n",
       "    <tr>\n",
       "      <th>9</th>\n",
       "      <td>DV2021110817343042456</td>\n",
       "      <td>ChurnAll</td>\n",
       "      <td>363</td>\n",
       "      <td>7043</td>\n",
       "      <td>2021-11-08 17:34:38.554237</td>\n",
       "    </tr>\n",
       "    <tr>\n",
       "      <th>10</th>\n",
       "      <td>DV20211110144049703423</td>\n",
       "      <td>ONTIME1115</td>\n",
       "      <td>1399806</td>\n",
       "      <td>30190408</td>\n",
       "      <td>2021-11-10 15:01:13.967413</td>\n",
       "    </tr>\n",
       "  </tbody>\n",
       "</table>\n",
       "</div>"
      ],
      "text/plain": [
       "                        id           name     size  cardinality  \\\n",
       "1   DV20211110165634403313      BOEING737    56967      4172450   \n",
       "2   DV20211115151427714635  ONTIME737NJCA      554        37621   \n",
       "6   DV20211110144113849337     ONTIME0910   591398     12752436   \n",
       "7   DV20211115221309388288       AIRCRAFT      106        13101   \n",
       "9    DV2021110817343042456       ChurnAll      363         7043   \n",
       "10  DV20211110144049703423     ONTIME1115  1399806     30190408   \n",
       "\n",
       "        last_refresh_timestamp  \n",
       "1   2021-11-10 18:30:21.411623  \n",
       "2   2021-11-15 15:33:30.254003  \n",
       "6   2021-11-10 16:32:41.327378  \n",
       "7   2021-12-03 16:36:36.670765  \n",
       "9   2021-11-08 17:34:38.554237  \n",
       "10  2021-11-10 15:01:13.967413  "
      ]
     },
     "metadata": {},
     "output_type": "display_data"
    }
   ],
   "source": [
    "df = databaseAPI.getCaches('Enabled')\n",
    "display(df[['id', 'name','size', 'cardinality','last_refresh_timestamp']])"
   ]
  },
  {
   "cell_type": "code",
   "execution_count": 63,
   "metadata": {
    "id": "85eceb160fe848b4958e173e72959a55"
   },
   "outputs": [
    {
     "name": "stdout",
     "output_type": "stream",
     "text": [
      "Connection successful.\n"
     ]
    }
   ],
   "source": [
    "# Connect to the Db2 Warehouse Database from inside of IBM Cloud Pak for Data\n",
    "database = 'ONTIME'\n",
    "user = 'admin'\n",
    "password = 'CP4DDataFabric'\n",
    "host = '10.0.0.201'\n",
    "port = '31175'\n",
    "\n",
    "%sql CONNECT TO {database} USER {user} USING {password} HOST {host} PORT {port}"
   ]
  },
  {
   "cell_type": "code",
   "execution_count": 64,
   "metadata": {
    "id": "e99806f922cc4d7bb93e3c5bdf509d4d"
   },
   "outputs": [
    {
     "name": "stdout",
     "output_type": "stream",
     "text": [
      "CPU times: user 5.56 ms, sys: 2.66 ms, total: 8.22 ms\n",
      "Wall time: 156 ms\n"
     ]
    },
    {
     "data": {
      "text/html": [
       "<div>\n",
       "<style scoped>\n",
       "    .dataframe tbody tr th:only-of-type {\n",
       "        vertical-align: middle;\n",
       "    }\n",
       "\n",
       "    .dataframe tbody tr th {\n",
       "        vertical-align: top;\n",
       "    }\n",
       "\n",
       "    .dataframe thead th {\n",
       "        text-align: right;\n",
       "    }\n",
       "</style>\n",
       "<table border=\"1\" class=\"dataframe\">\n",
       "  <thead>\n",
       "    <tr style=\"text-align: right;\">\n",
       "      <th></th>\n",
       "      <th>TAIL_NUMBER</th>\n",
       "      <th>MANUFACTURER</th>\n",
       "      <th>MODEL</th>\n",
       "      <th>UNIQUECARRIER</th>\n",
       "      <th>AIRLINEID</th>\n",
       "      <th>CARRIER</th>\n",
       "      <th>TAILNUM</th>\n",
       "      <th>FLIGHTNUM</th>\n",
       "      <th>ORIGINAIRPORTID</th>\n",
       "      <th>ORIGINAIRPORTSEQID</th>\n",
       "      <th>ORIGINCITYNAME</th>\n",
       "      <th>ORIGINSTATE</th>\n",
       "      <th>DESTAIRPORTID</th>\n",
       "      <th>DESTCITYNAME</th>\n",
       "      <th>DESTSTATE</th>\n",
       "      <th>DEPTIME</th>\n",
       "      <th>DEPDELAY</th>\n",
       "      <th>TAXIOUT</th>\n",
       "      <th>WHEELSOFF</th>\n",
       "      <th>WHEELSON</th>\n",
       "      <th>TAXIIN</th>\n",
       "      <th>ARRTIME</th>\n",
       "      <th>ARRDELAY</th>\n",
       "      <th>ARRDELAYMINUTES</th>\n",
       "      <th>CANCELLED</th>\n",
       "      <th>AIRTIME</th>\n",
       "      <th>DISTANCE</th>\n",
       "    </tr>\n",
       "  </thead>\n",
       "  <tbody>\n",
       "    <tr>\n",
       "      <th>0</th>\n",
       "      <td>N78506</td>\n",
       "      <td>Boeing</td>\n",
       "      <td>B737-800PAX</td>\n",
       "      <td>CO</td>\n",
       "      <td>19704</td>\n",
       "      <td>CO</td>\n",
       "      <td>N78506</td>\n",
       "      <td>787</td>\n",
       "      <td>11618</td>\n",
       "      <td>1161801</td>\n",
       "      <td>Newark, NJ</td>\n",
       "      <td>NJ</td>\n",
       "      <td>14908</td>\n",
       "      <td>Santa Ana, CA</td>\n",
       "      <td>CA</td>\n",
       "      <td>2219</td>\n",
       "      <td>289</td>\n",
       "      <td>31</td>\n",
       "      <td>2250</td>\n",
       "      <td>NaN</td>\n",
       "      <td>NaN</td>\n",
       "      <td>NaN</td>\n",
       "      <td>NaN</td>\n",
       "      <td>NaN</td>\n",
       "      <td>0</td>\n",
       "      <td>NaN</td>\n",
       "      <td>2433</td>\n",
       "    </tr>\n",
       "    <tr>\n",
       "      <th>1</th>\n",
       "      <td>N16217</td>\n",
       "      <td>Boeing</td>\n",
       "      <td>B737-800PAX</td>\n",
       "      <td>UA</td>\n",
       "      <td>19977</td>\n",
       "      <td>UA</td>\n",
       "      <td>N16217</td>\n",
       "      <td>1083</td>\n",
       "      <td>11618</td>\n",
       "      <td>1161802</td>\n",
       "      <td>Newark, NJ</td>\n",
       "      <td>NJ</td>\n",
       "      <td>14908</td>\n",
       "      <td>Santa Ana, CA</td>\n",
       "      <td>CA</td>\n",
       "      <td>2215</td>\n",
       "      <td>232</td>\n",
       "      <td>55</td>\n",
       "      <td>2310</td>\n",
       "      <td>NaN</td>\n",
       "      <td>NaN</td>\n",
       "      <td>NaN</td>\n",
       "      <td>NaN</td>\n",
       "      <td>NaN</td>\n",
       "      <td>0</td>\n",
       "      <td>NaN</td>\n",
       "      <td>2434</td>\n",
       "    </tr>\n",
       "    <tr>\n",
       "      <th>2</th>\n",
       "      <td>N37470</td>\n",
       "      <td>Boeing</td>\n",
       "      <td>B737-900ERPAX</td>\n",
       "      <td>UA</td>\n",
       "      <td>19977</td>\n",
       "      <td>UA</td>\n",
       "      <td>N37470</td>\n",
       "      <td>1670</td>\n",
       "      <td>11618</td>\n",
       "      <td>1161802</td>\n",
       "      <td>Newark, NJ</td>\n",
       "      <td>NJ</td>\n",
       "      <td>14771</td>\n",
       "      <td>San Francisco, CA</td>\n",
       "      <td>CA</td>\n",
       "      <td>2019</td>\n",
       "      <td>319</td>\n",
       "      <td>77</td>\n",
       "      <td>2136</td>\n",
       "      <td>34.0</td>\n",
       "      <td>6.0</td>\n",
       "      <td>40.0</td>\n",
       "      <td>385.0</td>\n",
       "      <td>385.0</td>\n",
       "      <td>0</td>\n",
       "      <td>358.0</td>\n",
       "      <td>2565</td>\n",
       "    </tr>\n",
       "    <tr>\n",
       "      <th>3</th>\n",
       "      <td>N73291</td>\n",
       "      <td>Boeing</td>\n",
       "      <td>B737-800PAX</td>\n",
       "      <td>UA</td>\n",
       "      <td>19977</td>\n",
       "      <td>UA</td>\n",
       "      <td>N73291</td>\n",
       "      <td>17</td>\n",
       "      <td>11618</td>\n",
       "      <td>1161802</td>\n",
       "      <td>Newark, NJ</td>\n",
       "      <td>NJ</td>\n",
       "      <td>12892</td>\n",
       "      <td>Los Angeles, CA</td>\n",
       "      <td>CA</td>\n",
       "      <td>1847</td>\n",
       "      <td>347</td>\n",
       "      <td>39</td>\n",
       "      <td>1926</td>\n",
       "      <td>2141.0</td>\n",
       "      <td>31.0</td>\n",
       "      <td>2212.0</td>\n",
       "      <td>380.0</td>\n",
       "      <td>380.0</td>\n",
       "      <td>0</td>\n",
       "      <td>315.0</td>\n",
       "      <td>2454</td>\n",
       "    </tr>\n",
       "    <tr>\n",
       "      <th>4</th>\n",
       "      <td>N78524</td>\n",
       "      <td>Boeing</td>\n",
       "      <td>B737-800PAX</td>\n",
       "      <td>UA</td>\n",
       "      <td>19977</td>\n",
       "      <td>UA</td>\n",
       "      <td>N78524</td>\n",
       "      <td>1289</td>\n",
       "      <td>11618</td>\n",
       "      <td>1161802</td>\n",
       "      <td>Newark, NJ</td>\n",
       "      <td>NJ</td>\n",
       "      <td>12892</td>\n",
       "      <td>Los Angeles, CA</td>\n",
       "      <td>CA</td>\n",
       "      <td>2158</td>\n",
       "      <td>348</td>\n",
       "      <td>32</td>\n",
       "      <td>2230</td>\n",
       "      <td>52.0</td>\n",
       "      <td>30.0</td>\n",
       "      <td>122.0</td>\n",
       "      <td>374.0</td>\n",
       "      <td>374.0</td>\n",
       "      <td>0</td>\n",
       "      <td>322.0</td>\n",
       "      <td>2454</td>\n",
       "    </tr>\n",
       "  </tbody>\n",
       "</table>\n",
       "</div>"
      ],
      "text/plain": [
       "  TAIL_NUMBER MANUFACTURER          MODEL UNIQUECARRIER  AIRLINEID CARRIER  \\\n",
       "0      N78506       Boeing    B737-800PAX            CO      19704      CO   \n",
       "1      N16217       Boeing    B737-800PAX            UA      19977      UA   \n",
       "2      N37470       Boeing  B737-900ERPAX            UA      19977      UA   \n",
       "3      N73291       Boeing    B737-800PAX            UA      19977      UA   \n",
       "4      N78524       Boeing    B737-800PAX            UA      19977      UA   \n",
       "\n",
       "  TAILNUM  FLIGHTNUM  ORIGINAIRPORTID  ORIGINAIRPORTSEQID ORIGINCITYNAME  \\\n",
       "0  N78506        787            11618             1161801     Newark, NJ   \n",
       "1  N16217       1083            11618             1161802     Newark, NJ   \n",
       "2  N37470       1670            11618             1161802     Newark, NJ   \n",
       "3  N73291         17            11618             1161802     Newark, NJ   \n",
       "4  N78524       1289            11618             1161802     Newark, NJ   \n",
       "\n",
       "  ORIGINSTATE  DESTAIRPORTID                      DESTCITYNAME DESTSTATE  \\\n",
       "0          NJ          14908  Santa Ana, CA                           CA   \n",
       "1          NJ          14908  Santa Ana, CA                           CA   \n",
       "2          NJ          14771  San Francisco, CA                       CA   \n",
       "3          NJ          12892  Los Angeles, CA                         CA   \n",
       "4          NJ          12892  Los Angeles, CA                         CA   \n",
       "\n",
       "   DEPTIME  DEPDELAY  TAXIOUT  WHEELSOFF  WHEELSON  TAXIIN  ARRTIME  ARRDELAY  \\\n",
       "0     2219       289       31       2250       NaN     NaN      NaN       NaN   \n",
       "1     2215       232       55       2310       NaN     NaN      NaN       NaN   \n",
       "2     2019       319       77       2136      34.0     6.0     40.0     385.0   \n",
       "3     1847       347       39       1926    2141.0    31.0   2212.0     380.0   \n",
       "4     2158       348       32       2230      52.0    30.0    122.0     374.0   \n",
       "\n",
       "   ARRDELAYMINUTES  CANCELLED  AIRTIME  DISTANCE  \n",
       "0              NaN          0      NaN      2433  \n",
       "1              NaN          0      NaN      2434  \n",
       "2            385.0          0    358.0      2565  \n",
       "3            380.0          0    315.0      2454  \n",
       "4            374.0          0    322.0      2454  "
      ]
     },
     "execution_count": 64,
     "metadata": {},
     "output_type": "execute_result"
    }
   ],
   "source": [
    "%%time\n",
    "%%sql \n",
    "SELECT AC.\"TAIL_NUMBER\", AC.\"MANUFACTURER\", AC.\"MODEL\", OT.\"UNIQUECARRIER\", OT.\"AIRLINEID\", OT.\"CARRIER\", OT.\"TAILNUM\", OT.\"FLIGHTNUM\", OT.\"ORIGINAIRPORTID\", OT.\"ORIGINAIRPORTSEQID\", OT.\"ORIGINCITYNAME\", OT.\"ORIGINSTATE\", OT.\"DESTAIRPORTID\", OT.\"DESTCITYNAME\", OT.\"DESTSTATE\", OT.\"DEPTIME\", OT.\"DEPDELAY\", OT.\"TAXIOUT\", OT.\"WHEELSOFF\", OT.\"WHEELSON\", OT.\"TAXIIN\", OT.\"ARRTIME\", OT.\"ARRDELAY\", OT.\"ARRDELAYMINUTES\", OT.\"CANCELLED\", OT.\"AIRTIME\", OT.\"DISTANCE\"\n",
    "  FROM \"ONTIME\".\"ONTIME\" OT, \"ONTIME\".\"AIRCRAFT\" AC \n",
    "  WHERE AC.\"TAIL_NUMBER\" = OT.TAILNUM\n",
    "  AND ORIGINSTATE = 'NJ'\n",
    "  AND DESTSTATE = 'CA'\n",
    "  AND AC.MANUFACTURER = 'Boeing' \n",
    "  AND AC.MODEL LIKE 'B737%'\n",
    "  AND OT.TAXIOUT > 30\n",
    "  AND OT.DISTANCE > 1800\n",
    "  AND OT.DEPDELAY > 200\n",
    "  ORDER BY OT.ARRDELAY DESC\n",
    "  FETCH FIRST 5 ROWS ONLY"
   ]
  },
  {
   "cell_type": "code",
   "execution_count": 65,
   "metadata": {
    "id": "7cb66bfdaef748c3b7792c6d10b50f74"
   },
   "outputs": [
    {
     "name": "stdout",
     "output_type": "stream",
     "text": [
      "CPU times: user 601 µs, sys: 2.26 ms, total: 2.86 ms\n",
      "Wall time: 15.6 ms\n"
     ]
    },
    {
     "data": {
      "text/html": [
       "<div>\n",
       "<style scoped>\n",
       "    .dataframe tbody tr th:only-of-type {\n",
       "        vertical-align: middle;\n",
       "    }\n",
       "\n",
       "    .dataframe tbody tr th {\n",
       "        vertical-align: top;\n",
       "    }\n",
       "\n",
       "    .dataframe thead th {\n",
       "        text-align: right;\n",
       "    }\n",
       "</style>\n",
       "<table border=\"1\" class=\"dataframe\">\n",
       "  <thead>\n",
       "    <tr style=\"text-align: right;\">\n",
       "      <th></th>\n",
       "      <th>1</th>\n",
       "    </tr>\n",
       "  </thead>\n",
       "  <tbody>\n",
       "    <tr>\n",
       "      <th>0</th>\n",
       "      <td>42942844.0</td>\n",
       "    </tr>\n",
       "  </tbody>\n",
       "</table>\n",
       "</div>"
      ],
      "text/plain": [
       "            1\n",
       "0  42942844.0"
      ]
     },
     "execution_count": 65,
     "metadata": {},
     "output_type": "execute_result"
    }
   ],
   "source": [
    "%%time\n",
    "%%sql \n",
    "SELECT COUNT(*)\n",
    "  FROM \"ONTIME\".\"ONTIME\" "
   ]
  },
  {
   "cell_type": "code",
   "execution_count": 66,
   "metadata": {
    "id": "e53841e5901c401787eb75e0bcc8ab63"
   },
   "outputs": [
    {
     "name": "stdout",
     "output_type": "stream",
     "text": [
      "CPU times: user 0 ns, sys: 3.55 ms, total: 3.55 ms\n",
      "Wall time: 465 ms\n"
     ]
    },
    {
     "data": {
      "text/html": [
       "<div>\n",
       "<style scoped>\n",
       "    .dataframe tbody tr th:only-of-type {\n",
       "        vertical-align: middle;\n",
       "    }\n",
       "\n",
       "    .dataframe tbody tr th {\n",
       "        vertical-align: top;\n",
       "    }\n",
       "\n",
       "    .dataframe thead th {\n",
       "        text-align: right;\n",
       "    }\n",
       "</style>\n",
       "<table border=\"1\" class=\"dataframe\">\n",
       "  <thead>\n",
       "    <tr style=\"text-align: right;\">\n",
       "      <th></th>\n",
       "      <th>YEAR</th>\n",
       "    </tr>\n",
       "  </thead>\n",
       "  <tbody>\n",
       "    <tr>\n",
       "      <th>0</th>\n",
       "      <td>2013</td>\n",
       "    </tr>\n",
       "    <tr>\n",
       "      <th>1</th>\n",
       "      <td>2011</td>\n",
       "    </tr>\n",
       "    <tr>\n",
       "      <th>2</th>\n",
       "      <td>2014</td>\n",
       "    </tr>\n",
       "    <tr>\n",
       "      <th>3</th>\n",
       "      <td>2010</td>\n",
       "    </tr>\n",
       "    <tr>\n",
       "      <th>4</th>\n",
       "      <td>2015</td>\n",
       "    </tr>\n",
       "    <tr>\n",
       "      <th>5</th>\n",
       "      <td>2012</td>\n",
       "    </tr>\n",
       "    <tr>\n",
       "      <th>6</th>\n",
       "      <td>2009</td>\n",
       "    </tr>\n",
       "  </tbody>\n",
       "</table>\n",
       "</div>"
      ],
      "text/plain": [
       "   YEAR\n",
       "0  2013\n",
       "1  2011\n",
       "2  2014\n",
       "3  2010\n",
       "4  2015\n",
       "5  2012\n",
       "6  2009"
      ]
     },
     "execution_count": 66,
     "metadata": {},
     "output_type": "execute_result"
    }
   ],
   "source": [
    "%%time\n",
    "%%sql \n",
    "SELECT UNIQUE(YEAR)\n",
    "  FROM \"ONTIME\".\"ONTIME\" "
   ]
  },
  {
   "cell_type": "code",
   "execution_count": 67,
   "metadata": {
    "id": "7697c0eae73c42c785be84cac4d5ce70"
   },
   "outputs": [],
   "source": [
    "%%capture result\n",
    "%%time\n",
    "%%sql \n",
    "SELECT AC.\"TAIL_NUMBER\", AC.\"MANUFACTURER\", AC.\"MODEL\", OT.\"UNIQUECARRIER\", OT.\"AIRLINEID\", OT.\"CARRIER\", OT.\"TAILNUM\", OT.\"FLIGHTNUM\", OT.\"ORIGINAIRPORTID\", OT.\"ORIGINAIRPORTSEQID\", OT.\"ORIGINCITYNAME\", OT.\"ORIGINSTATE\", OT.\"DESTAIRPORTID\", OT.\"DESTCITYNAME\", OT.\"DESTSTATE\", OT.\"DEPTIME\", OT.\"DEPDELAY\", OT.\"TAXIOUT\", OT.\"WHEELSOFF\", OT.\"WHEELSON\", OT.\"TAXIIN\", OT.\"ARRTIME\", OT.\"ARRDELAY\", OT.\"ARRDELAYMINUTES\", OT.\"CANCELLED\", OT.\"AIRTIME\", OT.\"DISTANCE\"\n",
    "  FROM \"ONTIME\".\"ONTIME\" OT, \"ONTIME\".\"AIRCRAFT\" AC \n",
    "  WHERE AC.\"TAIL_NUMBER\" = OT.TAILNUM\n",
    "  AND ORIGINSTATE = 'NJ'\n",
    "  AND DESTSTATE = 'CA'\n",
    "  AND AC.MANUFACTURER = 'Boeing' \n",
    "  AND AC.MODEL LIKE 'B737%'\n",
    "  AND OT.TAXIOUT > 30\n",
    "  AND OT.DISTANCE > 2000\n",
    "  AND OT.DEPDELAY > 200\n",
    "  ORDER BY OT.ARRDELAY DESC\n",
    "  FETCH FIRST 5 ROWS ONLY"
   ]
  },
  {
   "cell_type": "code",
   "execution_count": 68,
   "metadata": {
    "id": "aeff42f968ec4a13a86b5c51dd66bc33"
   },
   "outputs": [
    {
     "name": "stdout",
     "output_type": "stream",
     "text": [
      "CPU times: user 5.8 ms, sys: 1.74 ms, total: 7.54 ms\n",
      "Wall time: 104 ms\n",
      "\n",
      "CPU times: user 5.8 ms, sys: 1.74 ms, total: 7.54 ms\n",
      "Wall time: 104 ms\n",
      "\n",
      "Time: 0.104 s\n",
      "Total Time: 0.104 s\n"
     ]
    }
   ],
   "source": [
    "print(result)\n",
    "sqldb2wtimer = Timer()\n",
    "sqldb2wtimer.timeTotal()"
   ]
  },
  {
   "cell_type": "code",
   "execution_count": 69,
   "metadata": {
    "id": "322ae26222f2446cba274f515f4b74bb"
   },
   "outputs": [
    {
     "name": "stdout",
     "output_type": "stream",
     "text": [
      "Spark Load 2011-2015: 141.4 s\n",
      "Spark Query 2011-2015: 73 s\n",
      "DV No Cache Query 2009-2015: 84 s\n",
      "DV Full Cache Query 2009-2015: 50.8 s\n",
      "DV 737 Cache Query 2009-2015: 9.72 s\n",
      "DV 737 NJ to CA Cache Query 2009-2015: 5.18 s\n",
      "Db2 Warehouse Query 2009-2015: 0.104 s\n"
     ]
    }
   ],
   "source": [
    "print(\"Spark Load 2011-2015: \" + str(sparkloadtimer.getTotalTime()/1000) + \" s\")\n",
    "print(\"Spark Query 2011-2015: \" + str(sqlsparktimer.getTotalTime()/1000) + \" s\")\n",
    "print(\"DV No Cache Query 2009-2015: \" + str(sqldvnocachetimer.getTotalTime()/1000) + \" s\")\n",
    "print(\"DV Full Cache Query 2009-2015: \" + str(sqldvbigcachetimer.getTotalTime()/1000) + \" s\")\n",
    "print(\"DV 737 Cache Query 2009-2015: \" + str(sqldvfocusedcachetimer.getTotalTime()/1000) + \" s\")\n",
    "print(\"DV 737 NJ to CA Cache Query 2009-2015: \" + str(sqldvsmallcachetimer.getTotalTime()/1000) + \" s\")\n",
    "print(\"Db2 Warehouse Query 2009-2015: \" + str(sqldb2wtimer.getTotalTime()/1000) + \" s\")"
   ]
  },
  {
   "cell_type": "code",
   "execution_count": 70,
   "metadata": {
    "id": "8192ad9e1a7d450d8612d2a5511f15c1"
   },
   "outputs": [
    {
     "name": "stdout",
     "output_type": "stream",
     "text": [
      "Spark Load: 141.4 s\n",
      "Spark Time: 73 s\n",
      "\n",
      "Live Data:\n",
      "Total Spark Time: 214.4 s\n",
      "Data Virtualization No Cache Time: 84 s\n",
      "DV with Live Data vs Spark: 60.800% improvement\n",
      "\n",
      "Loaded/Cached Data\n",
      "Spark SQL Time: 73 s\n",
      "Data Virtualization Big Cache: 50.8 s\n",
      "DV with Live Data vs Spark: 30.400% improvement\n",
      "\n",
      "Loaded/Cached Data\n",
      "Spark SQL Time: 73 s\n",
      "Data Virtualization 737 Cache: 9.72 s\n",
      "DV with Live Data vs Spark: 86.700% improvement\n",
      "Data Virtualization 737 Cache: 7.5 times faster\n",
      "\n",
      "Loaded/Cached Data\n",
      "Spark SQL Time: 73 s\n",
      "Data Virtualization 737 NJ CA Cache: 5.18 s\n",
      "DV with Live Data vs Spark: 92.900% improvement\n",
      "Data Virtualization 737 NJ CA Cache: 14.1 times faster\n",
      "\n",
      "Db2 Warehouse SQL Time: 0.104 s\n",
      "Db2 Warehouse vs Spark: 99.9500% improvement\n",
      "Db2 Warehouse vs Spark: 2061.5 times faster\n",
      "Db2 Warehouse vs Data Virtualization Cache: 99.800% improvement\n",
      "Db2 Warehouse vs Spark: 488.5 times faster\n"
     ]
    }
   ],
   "source": [
    "print(\"Spark Load: \" + str(sparkloadtimer.getTotalTime()/1000) + \" s\")\n",
    "print(\"Spark Time: \" + str(sqlsparktimer.getTotalTime()/1000) + \" s\")\n",
    "print()\n",
    "sparklive = (sparkloadtimer.getTotalTime()+sqlsparktimer.getTotalTime())\n",
    "sparksql = sqlsparktimer.getTotalTime()\n",
    "dvlive = sqldvnocachetimer.getTotalTime()\n",
    "dvbigcache = sqldvbigcachetimer.getTotalTime()\n",
    "dv737cache = sqldvfocusedcachetimer.getTotalTime()\n",
    "dv737NJCAcache = sqldvsmallcachetimer.getTotalTime()\n",
    "sparkvsdvlive = (sparklive-dvlive)/sparklive\n",
    "sparksqlvsdvbigcache = (sparksql-dvbigcache)/sparksql\n",
    "sparksqlvsdv737cache = (sparksql-dv737cache)/sparksql\n",
    "sparksqlvsdv737cachex = sparksql/dv737cache\n",
    "sparksqlvsdv737NJCAcache = (sparksql-dv737NJCAcache)/sparksql\n",
    "sparksqlvsdv737NJCAcachex = sparksql/dv737NJCAcache\n",
    "db2w = sqldb2wtimer.getTotalTime()\n",
    "sparkvsdb2w = (sparklive - db2w) / sparklive\n",
    "sparkvsdb2wx = sparklive / db2w\n",
    "dvvsdb2w = (dvbigcache - db2w) / dvbigcache\n",
    "dvvsdb2wx = dvbigcache / db2w\n",
    "print(\"Live Data:\")\n",
    "print(\"Total Spark Time: \" + str((sparkloadtimer.getTotalTime()+sqlsparktimer.getTotalTime())/1000) + \" s\")\n",
    "print(\"Data Virtualization No Cache Time: \" + str(sqldvnocachetimer.getTotalTime()/1000) + \" s\")\n",
    "print(\"DV with Live Data vs Spark: \" + str(round(sparkvsdvlive,3)*100) + \"% improvement\")\n",
    "print()\n",
    "print(\"Loaded/Cached Data\")\n",
    "print(\"Spark SQL Time: \" + str(sparksql/1000) + \" s\")\n",
    "print(\"Data Virtualization Big Cache: \" + str(dvbigcache/1000) + \" s\")\n",
    "print(\"DV with Live Data vs Spark: \" + str(round(sparksqlvsdvbigcache,3)*100) + \"% improvement\")\n",
    "print()\n",
    "print(\"Loaded/Cached Data\")\n",
    "print(\"Spark SQL Time: \" + str(sparksql/1000) + \" s\")\n",
    "print(\"Data Virtualization 737 Cache: \" + str(dv737cache/1000) + \" s\")\n",
    "print(\"DV with Live Data vs Spark: \" + str(round(sparksqlvsdv737cache,3)*100) + \"% improvement\")\n",
    "print(\"Data Virtualization 737 Cache: \" + str(round(sparksqlvsdv737cachex,1)) + \" times faster\")\n",
    "print()\n",
    "print(\"Loaded/Cached Data\")\n",
    "print(\"Spark SQL Time: \" + str(sparksql/1000) + \" s\")\n",
    "print(\"Data Virtualization 737 NJ CA Cache: \" + str(dv737NJCAcache/1000) + \" s\")\n",
    "print(\"DV with Live Data vs Spark: \" + str(round(sparksqlvsdv737NJCAcache,3)*100) + \"% improvement\")\n",
    "print(\"Data Virtualization 737 NJ CA Cache: \" + str(round(sparksqlvsdv737NJCAcachex,1)) + \" times faster\")\n",
    "print()\n",
    "print(\"Db2 Warehouse SQL Time: \" + str(sqldb2wtimer.getTotalTime()/1000) + \" s\")\n",
    "print(\"Db2 Warehouse vs Spark: \" + str(round(sparkvsdb2w,4)*100) + \"% improvement\")\n",
    "print(\"Db2 Warehouse vs Spark: \" + str(round(sparkvsdb2wx,1)) + \" times faster\")\n",
    "print(\"Db2 Warehouse vs Data Virtualization Cache: \" + str(round(dvvsdb2w,3)*100) + \"% improvement\")\n",
    "print(\"Db2 Warehouse vs Spark: \" + str(round(dvvsdb2wx,1)) + \" times faster\")"
   ]
  },
  {
   "cell_type": "code",
   "execution_count": 71,
   "metadata": {
    "id": "ebe694c7dea24de28402ced2b30ed27b"
   },
   "outputs": [
    {
     "data": {
      "text/plain": [
       "<Figure size 432x288 with 0 Axes>"
      ]
     },
     "metadata": {},
     "output_type": "display_data"
    },
    {
     "data": {
      "image/png": "[encoded data removed]",
      "text/plain": [
       "<Figure size 1440x432 with 1 Axes>"
      ]
     },
     "metadata": {
      "needs_background": "light"
     },
     "output_type": "display_data"
    }
   ],
   "source": [
    "import matplotlib.pyplot as plt\n",
    "fig = plt.figure()\n",
    "fig = plt.figure(figsize=(20, 6))\n",
    "ax = fig.add_axes([0,0,1,1])\n",
    "runs = ['Spark SQL w Load', 'Live DV No Cache','Spark SQL - Preloaded Data','Large Cache DV','737 Cache DV','737 NJCA Cache DV','Db2 Warehouse']\n",
    "runtime = [sparklive/1000,dvlive/1000,sparksql/1000,dvbigcache/1000,dv737cache/1000,dv737NJCAcache/1000,db2w/1000]\n",
    "ax.bar(runs, runtime)\n",
    "plt.ylabel(\"Time in Seconds (Lower is better)\", fontsize=16)\n",
    "plt.xlabel(\"Performance Run\", fontsize=16)\n",
    "plt.show()"
   ]
  },
  {
   "cell_type": "code",
   "execution_count": null,
   "metadata": {
    "id": "6632fe19c21b436a8344e2282b9528b5"
   },
   "outputs": [],
   "source": []
  },
  {
   "cell_type": "code",
   "execution_count": null,
   "metadata": {
    "id": "e9fd29ab376f44d7953ac3fabaea06d6"
   },
   "outputs": [],
   "source": [
    "%%time\n",
    "databaseAPI.refreshCache('DV20211115151427714635')"
   ]
  }
 ],
 "metadata": {
  "kernelspec": {
   "display_name": "Python 3.8 with Spark",
   "language": "python3",
   "name": "python38"
  },
  "language_info": {
   "codemirror_mode": {
    "name": "ipython",
    "version": 3
   },
   "file_extension": ".py",
   "mimetype": "text/x-python",
   "name": "python",
   "nbconvert_exporter": "python",
   "pygments_lexer": "ipython3",
   "version": "3.8.10"
  }
 },
 "nbformat": 4,
 "nbformat_minor": 1
}
