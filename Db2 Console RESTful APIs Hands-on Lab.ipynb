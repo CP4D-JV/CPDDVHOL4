{
 "cells": [
  {
   "cell_type": "markdown",
   "metadata": {
    "id": "cd203174-e617-4477-8c9d-b87b3bf9cf7f"
   },
   "source": [
    "<img align=\"left\" src=\"https://github.com/Db2-DTE-POC/CPDDVHOL4/blob/main/media/Assets&ArchHeader.jpeg?raw=true\">"
   ]
  },
  {
   "cell_type": "markdown",
   "metadata": {
    "id": "5360b1ff-c668-4519-b2ee-ec69f54139de"
   },
   "source": [
    "# Using the Db2 Console RESTful Service Class"
   ]
  },
  {
   "cell_type": "markdown",
   "metadata": {
    "id": "db2f91b9-ecb7-401f-bf88-37219bad74f6"
   },
   "source": [
    "### Db2 Console Class for Cloud Pak for Data\n",
    "This Jupyter Notebook uses a reusable Python class library that encapsulates come best practices of how to use the Open APIs that are available for Db2 running in Cloud Pak for Data. Everything in the Db2 Console is available through an open RESTful Services API. The full set of APIs are documented as part of the Db2 Data Management Console user interface. "
   ]
  },
  {
   "cell_type": "markdown",
   "metadata": {
    "id": "d13141be-a116-418c-9705-78346fa198e7"
   },
   "source": [
    "### Where to find this sample online\n",
    "You can find a copy of this notebook at https://github.com/Db2-DTE-POC/CPDDVHOL4"
   ]
  },
  {
   "cell_type": "markdown",
   "metadata": {
    "id": "0adfb63a-efc4-4c82-921e-bc6cb4f35614"
   },
   "source": [
    "Let's get started by loading the db2console.ipynb class library notebook, which is also available on GIT. The commands below copy the reusable library from GIT onto the local Cloud Pak for Data filesystem and runs the python file to create the Db2 Console API Class. To check out the reusable code on GIT click the follwing link: https://github.com/Db2-DTE-POC/CPDDVHOL4/blob/main/Db2ConsoleAPIClassforCPD.ipynb"
   ]
  },
  {
   "cell_type": "code",
   "execution_count": 1,
   "metadata": {
    "id": "3e077144-f40c-4703-8a2c-b91bd96473d3"
   },
   "outputs": [
    {
     "name": "stdout",
     "output_type": "stream",
     "text": [
      "--2022-04-19 13:19:45--  https://raw.githubusercontent.com/Db2-DTE-POC/CPDDVHOL4/main/Db2ConsoleAPIClassforCPD.ipynb\n",
      "Resolving raw.githubusercontent.com (raw.githubusercontent.com)... 185.199.110.133, 185.199.111.133, 185.199.108.133, ...\n",
      "Connecting to raw.githubusercontent.com (raw.githubusercontent.com)|185.199.110.133|:443... connected.\n",
      "HTTP request sent, awaiting response... 200 OK\n",
      "Length: 29423 (29K) [text/plain]\n",
      "Saving to: ‘Db2ConsoleAPIClassforCPD.ipynb’\n",
      "\n",
      "Db2ConsoleAPIClassf 100%[===================>]  28.73K  --.-KB/s    in 0.002s  \n",
      "\n",
      "2022-04-19 13:19:45 (17.3 MB/s) - ‘Db2ConsoleAPIClassforCPD.ipynb’ saved [29423/29423]\n",
      "\n",
      "Db2ConsoleAPIClassforCPD.ipynb loaded\n"
     ]
    }
   ],
   "source": [
    "!wget -O Db2ConsoleAPIClassforCPD.ipynb https://raw.githubusercontent.com/Db2-DTE-POC/CPDDVHOL4/main/Db2ConsoleAPIClassforCPD.ipynb\n",
    "%run Db2ConsoleAPIClassforCPD.ipynb\n",
    "print('Db2ConsoleAPIClassforCPD.ipynb loaded')"
   ]
  },
  {
   "cell_type": "markdown",
   "metadata": {
    "id": "deda5484-97f4-4dcf-8f45-f7de2f96c1b2"
   },
   "source": [
    "### Db2 Data Management Console Connection\n",
    "The first step is to create an instance of the Db2Console class (a Python object). The next cell creates an object called **databaseAPI**. The rest of this lab calls functions that are part of that object.\n",
    "\n",
    "The **databaseAPI** object creation requires the URL of the Cloud Pak for Data Console as well as the name of the Data Management Console instance running on Cloud Pak for Data. To authenticate a connection to the console API you also need a valid Cloud Pak for Data userid and password as well as a default database instance to connect to."
   ]
  },
  {
   "cell_type": "code",
   "execution_count": 2,
   "metadata": {
    "id": "eb7de726-8ecd-49ef-8536-b93433166bfb"
   },
   "outputs": [
    {
     "name": "stdout",
     "output_type": "stream",
     "text": [
      "Token Retrieved\n"
     ]
    }
   ],
   "source": [
    "# Set the service URL to connect from inside the ICPD Cluster\n",
    "Console  = 'https://cpd-cpd-instance.apps.demo.ibmdte.net:31192'\n",
    "\n",
    "# Connect to the Db2 Data Management Console service\n",
    "user     = 'admin'\n",
    "password = 'CP4DDataFabric'\n",
    "\n",
    "# Set up the required connection\n",
    "databaseAPI = Db2Console(Console, 'dmc-1635311028943779')\n",
    "api = '/v1'\n",
    "databaseAPI.authenticate(api, user, password, 'db2wh-1635951043918331')\n",
    "database = Console"
   ]
  },
  {
   "cell_type": "markdown",
   "metadata": {
    "id": "9bef8f3c-6d40-4a58-8402-3e7eddebd02b"
   },
   "source": [
    "If the connection was successfully established, the new object contains a reusable token that is used to reconnect to the console API service for each function call. You don't need to ever use the token in your code, but if you want to see what a secure token looks like run the next cell."
   ]
  },
  {
   "cell_type": "code",
   "execution_count": 3,
   "metadata": {
    "id": "8bd1c887-5762-4ad0-b9d5-6c0e2b9aec83"
   },
   "outputs": [
    {
     "data": {
      "text/plain": [
       "'Bearer eyJhbGciOiJSUzI1NiIsInR5cCI6IkpXVCIsImtpZCI6ImwybmMzSlhQUldHVDNCeEdIU2ptb3NKT0NGb01lVGctN3FFOHJwS21fUmMifQ.eyJ1c2VybmFtZSI6ImFkbWluIiwic3ViIjoiYWRtaW4iLCJpc3MiOiJLTk9YU1NPIiwiYXVkIjoiRFNYIiwicm9sZSI6IkFkbWluIiwicGVybWlzc2lvbnMiOlsibWFuYWdlX2NhdGFsb2ciLCJhZG1pbmlzdHJhdG9yIiwiY2FuX3Byb3Zpc2lvbiIsImNyZWF0ZV9wcm9qZWN0IiwiY3JlYXRlX3NwYWNlIiwiYXV0aG9yX2dvdmVybmFuY2VfYXJ0aWZhY3RzIiwibWFuYWdlX2dvdmVybmFuY2Vfd29ya2Zsb3ciLCJ2aWV3X2dvdmVybmFuY2VfYXJ0aWZhY3RzIiwibWFuYWdlX2NhdGVnb3JpZXMiLCJtYW5hZ2VfcXVhbGl0eSIsIm1hbmFnZV9pbmZvcm1hdGlvbl9hc3NldHMiLCJtYW5hZ2VfZGlzY292ZXJ5IiwibWFuYWdlX21ldGFkYXRhX2ltcG9ydCIsImFjY2Vzc19jYXRhbG9nIiwidmlld19xdWFsaXR5IiwiYWNjZXNzX2luZm9ybWF0aW9uX2Fzc2V0cyJdLCJncm91cHMiOlsxMDAwMF0sInVpZCI6IjEwMDAzMzA5OTkiLCJhdXRoZW50aWNhdG9yIjoiZGVmYXVsdCIsImRpc3BsYXlfbmFtZSI6ImFkbWluIiwiY2FuX3JlZnJlc2hfdW50aWwiOjE2NTA0MTc1NTMzMzgsImNzcmZfdG9rZW4iOiI5MzcyZTk1NGEwMzNiZmJkNjU1OTM0NjQ1YmIyNDlmOCIsInNlc3Npb25faWQiOiI3YmYzNDIwYy05M2VkLTRmYmQtYTI1MC05ZDU0MDkyNmU1MTMiLCJpYXQiOjE2NTAzNzQzODksImV4cCI6MTY1MDQxNzU4OX0.K3B3X2IS60rEaizwWAqJBP_PMUp3QdCMmnHsi5GVcEa4KaM4cMmre-Zw_R00EslWgqfx63q9pO5JegRE5xfc35CoX5rzdgc0BsYNmRb3_z4qVBKofIu7St7B-WGt71tlluyOoQxXyXe8vMuc7r8oLGUMySaXiRYRfhUGTSCKjOAO73EwyfKybdxgHO0TMqPAWztXjjVFMcvfmAcmPZ8YylUN9Fp7HgImAhQvWdGgqZfcNMl0EDWIKe_2GKYgCv7dNHliHX2a2TcH9Y7DAltsvy5t6Gy-n-MomY7j6A462u7OWpm6lBrTNkbJffidYgi0dcsbrE75J1Ef4jF1TXe2aw'"
      ]
     },
     "execution_count": 3,
     "metadata": {},
     "output_type": "execute_result"
    }
   ],
   "source": [
    "databaseAPI.getBearerToken()"
   ]
  },
  {
   "cell_type": "markdown",
   "metadata": {
    "id": "6ccb3d7c-10c7-457c-85d0-147e392d2031"
   },
   "source": [
    "### Confirm the connection\n",
    "To confirm that your connection is working you can list the Console connection profiles. Each profile represents a connection to one of the available Db2 Warehouse, Db2 OLTP or Data Virtualization databases in Cloud Pak for Data."
   ]
  },
  {
   "cell_type": "code",
   "execution_count": 4,
   "metadata": {
    "id": "0b1914cc-ec33-45c7-9de7-dc76de0516ec"
   },
   "outputs": [
    {
     "data": {
      "text/html": [
       "<div>\n",
       "<style scoped>\n",
       "    .dataframe tbody tr th:only-of-type {\n",
       "        vertical-align: middle;\n",
       "    }\n",
       "\n",
       "    .dataframe tbody tr th {\n",
       "        vertical-align: top;\n",
       "    }\n",
       "\n",
       "    .dataframe thead th {\n",
       "        text-align: right;\n",
       "    }\n",
       "</style>\n",
       "<table border=\"1\" class=\"dataframe\">\n",
       "  <thead>\n",
       "    <tr style=\"text-align: right;\">\n",
       "      <th></th>\n",
       "      <th>name</th>\n",
       "      <th>databaseVersion</th>\n",
       "      <th>databaseName</th>\n",
       "      <th>timeZone</th>\n",
       "      <th>databaseVersion_VRMF</th>\n",
       "      <th>DB_IDENTITY_HASH</th>\n",
       "      <th>sslConnection</th>\n",
       "      <th>userProfileRole</th>\n",
       "      <th>host</th>\n",
       "      <th>_PROFILE_INIT_</th>\n",
       "      <th>dataServerType</th>\n",
       "      <th>port</th>\n",
       "      <th>dataServerExternalType</th>\n",
       "      <th>unsupport</th>\n",
       "    </tr>\n",
       "  </thead>\n",
       "  <tbody>\n",
       "    <tr>\n",
       "      <th>0</th>\n",
       "      <td>dv-1635944153872816</td>\n",
       "      <td>11.5.0</td>\n",
       "      <td>BIGSQL</td>\n",
       "      <td>0</td>\n",
       "      <td>11.5.6.0</td>\n",
       "      <td>80177198</td>\n",
       "      <td>true</td>\n",
       "      <td>OWNER</td>\n",
       "      <td>c-db2u-dv-db2u-engn-svc</td>\n",
       "      <td>true</td>\n",
       "      <td>DV</td>\n",
       "      <td>50001</td>\n",
       "      <td>DV</td>\n",
       "      <td></td>\n",
       "    </tr>\n",
       "    <tr>\n",
       "      <th>1</th>\n",
       "      <td>db2wh-1635951043918331</td>\n",
       "      <td>11.5.0</td>\n",
       "      <td>ONTIME</td>\n",
       "      <td>0</td>\n",
       "      <td>11.5.6.0</td>\n",
       "      <td>43614300</td>\n",
       "      <td>true</td>\n",
       "      <td>OWNER</td>\n",
       "      <td>c-db2wh-1635951043918331-db2u-engn-svc</td>\n",
       "      <td>true</td>\n",
       "      <td>DB2LUW</td>\n",
       "      <td>50001</td>\n",
       "      <td>DASHDBAN</td>\n",
       "      <td></td>\n",
       "    </tr>\n",
       "    <tr>\n",
       "      <th>2</th>\n",
       "      <td>db2oltp-1635953643145137</td>\n",
       "      <td>11.5.0</td>\n",
       "      <td>STOCKS</td>\n",
       "      <td>0</td>\n",
       "      <td>11.5.6.0</td>\n",
       "      <td>1098512543</td>\n",
       "      <td>true</td>\n",
       "      <td>OWNER</td>\n",
       "      <td>c-db2oltp-1635953643145137-db2u-engn-svc</td>\n",
       "      <td>true</td>\n",
       "      <td>DB2LUW</td>\n",
       "      <td>50001</td>\n",
       "      <td>DASHDBTX</td>\n",
       "      <td></td>\n",
       "    </tr>\n",
       "    <tr>\n",
       "      <th>3</th>\n",
       "      <td>db2oltp-1636379315142134</td>\n",
       "      <td>11.5.0</td>\n",
       "      <td>CHURN</td>\n",
       "      <td>0</td>\n",
       "      <td>11.5.6.0</td>\n",
       "      <td>-588565681</td>\n",
       "      <td>true</td>\n",
       "      <td>OWNER</td>\n",
       "      <td>c-db2oltp-1636379315142134-db2u-engn-svc</td>\n",
       "      <td>true</td>\n",
       "      <td>DB2LUW</td>\n",
       "      <td>50001</td>\n",
       "      <td>DASHDBTX</td>\n",
       "      <td></td>\n",
       "    </tr>\n",
       "  </tbody>\n",
       "</table>\n",
       "</div>"
      ],
      "text/plain": [
       "                       name databaseVersion databaseName timeZone  \\\n",
       "0       dv-1635944153872816          11.5.0       BIGSQL        0   \n",
       "1    db2wh-1635951043918331          11.5.0       ONTIME        0   \n",
       "2  db2oltp-1635953643145137          11.5.0       STOCKS        0   \n",
       "3  db2oltp-1636379315142134          11.5.0        CHURN        0   \n",
       "\n",
       "  databaseVersion_VRMF DB_IDENTITY_HASH sslConnection userProfileRole  \\\n",
       "0             11.5.6.0         80177198          true           OWNER   \n",
       "1             11.5.6.0         43614300          true           OWNER   \n",
       "2             11.5.6.0       1098512543          true           OWNER   \n",
       "3             11.5.6.0       -588565681          true           OWNER   \n",
       "\n",
       "                                       host _PROFILE_INIT_ dataServerType  \\\n",
       "0                   c-db2u-dv-db2u-engn-svc           true             DV   \n",
       "1    c-db2wh-1635951043918331-db2u-engn-svc           true         DB2LUW   \n",
       "2  c-db2oltp-1635953643145137-db2u-engn-svc           true         DB2LUW   \n",
       "3  c-db2oltp-1636379315142134-db2u-engn-svc           true         DB2LUW   \n",
       "\n",
       "    port dataServerExternalType unsupport  \n",
       "0  50001                     DV            \n",
       "1  50001               DASHDBAN            \n",
       "2  50001               DASHDBTX            \n",
       "3  50001               DASHDBTX            "
      ]
     },
     "execution_count": 4,
     "metadata": {},
     "output_type": "execute_result"
    }
   ],
   "source": [
    "databaseAPI.getConnectionProfiles()"
   ]
  },
  {
   "cell_type": "markdown",
   "metadata": {
    "id": "3c305990-bcd8-4e2e-acb6-43607013a938"
   },
   "source": [
    "### Catalog Functions\n",
    "Now that you are connected to a specific database, in this example 'ONTIME', you can call functions that let you access catalog information. You can get a list of the schemas in the Ontime database. The cell below retrieves all the rows in a dataframe and displays the first 5."
   ]
  },
  {
   "cell_type": "code",
   "execution_count": 5,
   "metadata": {
    "id": "e62303d2-b83c-4f7d-903c-5e02a780794e"
   },
   "outputs": [
    {
     "data": {
      "text/html": [
       "<div>\n",
       "<style scoped>\n",
       "    .dataframe tbody tr th:only-of-type {\n",
       "        vertical-align: middle;\n",
       "    }\n",
       "\n",
       "    .dataframe tbody tr th {\n",
       "        vertical-align: top;\n",
       "    }\n",
       "\n",
       "    .dataframe thead th {\n",
       "        text-align: right;\n",
       "    }\n",
       "</style>\n",
       "<table border=\"1\" class=\"dataframe\">\n",
       "  <thead>\n",
       "    <tr style=\"text-align: right;\">\n",
       "      <th></th>\n",
       "      <th>definertype</th>\n",
       "      <th>name</th>\n",
       "    </tr>\n",
       "  </thead>\n",
       "  <tbody>\n",
       "    <tr>\n",
       "      <th>0</th>\n",
       "      <td>S</td>\n",
       "      <td>IBMCONSOLE</td>\n",
       "    </tr>\n",
       "    <tr>\n",
       "      <th>1</th>\n",
       "      <td>S</td>\n",
       "      <td>IBM_RTMON</td>\n",
       "    </tr>\n",
       "    <tr>\n",
       "      <th>2</th>\n",
       "      <td>S</td>\n",
       "      <td>NULLID</td>\n",
       "    </tr>\n",
       "    <tr>\n",
       "      <th>3</th>\n",
       "      <td>U</td>\n",
       "      <td>NULLIDR1</td>\n",
       "    </tr>\n",
       "    <tr>\n",
       "      <th>4</th>\n",
       "      <td>U</td>\n",
       "      <td>NULLIDRA</td>\n",
       "    </tr>\n",
       "  </tbody>\n",
       "</table>\n",
       "</div>"
      ],
      "text/plain": [
       "  definertype        name\n",
       "0           S  IBMCONSOLE\n",
       "1           S   IBM_RTMON\n",
       "2           S      NULLID\n",
       "3           U    NULLIDR1\n",
       "4           U    NULLIDRA"
      ]
     },
     "execution_count": 5,
     "metadata": {},
     "output_type": "execute_result"
    }
   ],
   "source": [
    "databaseAPI.getSchemas().head(5)"
   ]
  },
  {
   "cell_type": "markdown",
   "metadata": {
    "id": "dad7322c-ccf3-42d1-9284-b5978be763e5"
   },
   "source": [
    "#### Search and Count Tables and Views\n",
    "You can also use capabilities that are built into the console. For example you can find out how many tables include the text \"AIRCRAFT\" or seach all the views (both user and catalog views) that include the text \"TABLES\". By default the functions below only search user tables. Adding \"true\" to the function call also searches the system tables. Try running the cell below. Then try changing \"true\" to \"false\" and see the different result."
   ]
  },
  {
   "cell_type": "code",
   "execution_count": null,
   "metadata": {
    "id": "2ba583db-d6da-4f49-8b2d-5d09ad9d574b"
   },
   "outputs": [],
   "source": [
    "display(databaseAPI.getSearchTableList(\"AIRCRAFT\"))\n",
    "display(databaseAPI.getSearchViewList(\"TABLE\", \"true\"))"
   ]
  },
  {
   "cell_type": "markdown",
   "metadata": {
    "id": "d5370758-9b2f-44ca-b8e5-352ac69157da"
   },
   "source": [
    "#### Tables in a Schema\n",
    "The next function all returns the first five tables contained in the \"ONTIME\" schema"
   ]
  },
  {
   "cell_type": "code",
   "execution_count": null,
   "metadata": {
    "id": "12486123-a771-4398-91a3-19e3a4a2a16c",
    "scrolled": true
   },
   "outputs": [],
   "source": [
    "databaseAPI.getTablesInSchema(\"ONTIME\").head(5)"
   ]
  },
  {
   "cell_type": "markdown",
   "metadata": {
    "id": "5c5cc845-daf2-4ea8-8ae3-0a9609f46b83"
   },
   "source": [
    "#### Fuzy object search\n",
    "The next function returns a list of either the tables or views that match search text. You can specify the number of rows in the result set (in this example 5) and specify whether you want to search user object or user and system objects (in this example true means searching both). "
   ]
  },
  {
   "cell_type": "code",
   "execution_count": null,
   "metadata": {
    "id": "be8d7a90-b6cf-4af8-9de0-4c8f710b7b2a"
   },
   "outputs": [],
   "source": [
    "display(databaseAPI.searchObjects('view',\"TABLE\",5,'true'))\n",
    "display(databaseAPI.searchObjects('table',\"AIRLINE\",5,'true'))"
   ]
  },
  {
   "cell_type": "markdown",
   "metadata": {
    "id": "1c2db597-546e-4c16-ac61-a1f957ff1bc3"
   },
   "source": [
    "### Running Scripts and Workloads\n",
    "The Db2Console class can also call the SQL Editor service to run Db2 scripts. This isn't limited to single SQL statments. Scripts that include multiple statements are also supported. \n",
    "\n",
    "To make it easy to run the same script against different databases, the fucntion call requires the connection profile name, the userid and password and the sql script text. The next cell runs three SQL statements. The database connection and authentication is included in the call. \n",
    "\n",
    "It returns a JSON string that include details on each statement, its runtime, column types, the limit of returned rows, the full row count in the result set, and the actual results to the row limit. "
   ]
  },
  {
   "cell_type": "code",
   "execution_count": null,
   "metadata": {
    "id": "a7730f8b-7dfd-4cc9-a2db-4c6c3fc9e414"
   },
   "outputs": [],
   "source": [
    "sql = \\\n",
    "'''\n",
    "SELECT TABSCHEMA, TABNAME, STATUS FROM SYSCAT.TABLES; \n",
    "SELECT VIEWSCHEMA, VIEWNAME, VALID FROM SYSCAT.VIEWS;\n",
    "SELECT TABSCHEMA, TABNAME, COLNAME, TYPENAME, LENGTH FROM SYSCAT.COLUMNS\n",
    "'''\n",
    "user = 'admin'\n",
    "password = 'CP4DDataFabric'\n",
    "profile = 'dv-1635944153872816'\n",
    "\n",
    "display(databaseAPI.runScript(profile, user, password, sql))"
   ]
  },
  {
   "cell_type": "markdown",
   "metadata": {
    "id": "a50ce70e-4cac-43a8-bb15-a89ec64d1512"
   },
   "source": [
    "To make it easier to see the results, the displayResults function parses the JSON into a readable format."
   ]
  },
  {
   "cell_type": "markdown",
   "metadata": {
    "id": "b02ae6209c9a4d888e96ad05b6cd2c44"
   },
   "source": [
    "#### Formatting Results"
   ]
  },
  {
   "cell_type": "code",
   "execution_count": null,
   "metadata": {
    "id": "29ff29a0-195f-4531-8f5b-6f994cbacbe4"
   },
   "outputs": [],
   "source": [
    "databaseAPI.displayResults(databaseAPI.runScript(profile, user, password, sql))"
   ]
  },
  {
   "cell_type": "markdown",
   "metadata": {
    "id": "30215cbd-de55-4f34-940b-cd4c2844de8c"
   },
   "source": [
    "The number of cells returned is limited to 10 by default. You can add an additional parameter to the runScript command to return a much larger result set, which you can then manipulate in Python. The returnRows function converts the JSON result into a dataframe. It requires the json that is returned by runScipt and the index of the SQL result you want to work with."
   ]
  },
  {
   "cell_type": "markdown",
   "metadata": {
    "id": "06a1736b2c21467883209eb5fbe3f32e"
   },
   "source": [
    "#### Returning Results as Dataframes"
   ]
  },
  {
   "cell_type": "code",
   "execution_count": null,
   "metadata": {
    "id": "13e9ea0a-a459-4f85-85a8-1e94502650e9"
   },
   "outputs": [],
   "source": [
    "json = databaseAPI.runScript(profile, user, password, sql, 10000)\n",
    "df = databaseAPI.returnRows(json,0)\n",
    "display(df.head(5))\n",
    "display(df.tail(5))"
   ]
  },
  {
   "cell_type": "code",
   "execution_count": null,
   "metadata": {
    "id": "e57ad5ee-8ae2-458c-8c7e-3646455a744f"
   },
   "outputs": [],
   "source": [
    "df = databaseAPI.returnRows(json,1)\n",
    "display(df.head(5))\n",
    "display(df.tail(5))"
   ]
  },
  {
   "cell_type": "code",
   "execution_count": null,
   "metadata": {
    "id": "cdc32d28-06b6-46d7-a029-77a25b382846"
   },
   "outputs": [],
   "source": [
    "df = databaseAPI.returnRows(json,2)\n",
    "display(df.head(5))\n",
    "display(df.tail(5))"
   ]
  },
  {
   "cell_type": "markdown",
   "metadata": {
    "id": "af397a3a2d964f099a0963265fc5db3f"
   },
   "source": [
    "#### Running Workloads and Measuring Results"
   ]
  },
  {
   "cell_type": "markdown",
   "metadata": {
    "id": "473fde1a-b2db-4668-aa0a-ce7685237a75"
   },
   "source": [
    "One of the most powerful functions built into the Db2Console class is **runWorkload**. It lets you run multiple scripts against multiple databases in a loop. This is particularly useful for demonstrating Db2 monitoring or for measuring the performance of SQL against different databases.\n",
    "\n",
    "In the next example, two scripts are run repeatedly against all the databases currently cataloged by the Db2 Console.\n",
    "\n",
    "The runtimes are collected along the way and returned in a dataframe."
   ]
  },
  {
   "cell_type": "code",
   "execution_count": null,
   "metadata": {
    "id": "796f2d55-5ef6-4d82-a965-3ce74e91f84e"
   },
   "outputs": [],
   "source": [
    "profileList = ['db2oltp-1636379315142134','db2oltp-1635953643145137','db2wh-1635951043918331']\n",
    "sql1 = \\\n",
    "'''\n",
    "SELECT TABSCHEMA, TABNAME, STATUS FROM SYSCAT.TABLES; \n",
    "SELECT VIEWSCHEMA, VIEWNAME, VALID FROM SYSCAT.VIEWS;\n",
    "'''\n",
    "sql2 = \\\n",
    "'''\n",
    "SELECT TABSCHEMA, TABNAME, COLNAME, TYPENAME, LENGTH FROM SYSCAT.COLUMNS\n",
    "'''\n",
    "user = 'admin'\n",
    "password = 'CP4DDataFabric'\n",
    "scriptList = [sql1, sql2]\n",
    "profileReps = 2\n",
    "scriptReps = 2\n",
    "pause = 0.25\n",
    "\n",
    "df = databaseAPI.runWorkload(profileList, scriptList, user, password, profileReps, scriptReps,pause)\n",
    "\n",
    "display(df)"
   ]
  },
  {
   "cell_type": "markdown",
   "metadata": {
    "id": "f7865ab9259b419a8664c8af6f6bdcc8"
   },
   "source": [
    "Now we can use the results in the dataframe to look at the results statistically. First we can see the average runtime for each statement across the databases."
   ]
  },
  {
   "cell_type": "code",
   "execution_count": null,
   "metadata": {
    "id": "ac286b2ea54545308a11bc3e8a164503"
   },
   "outputs": [],
   "source": [
    "print('Mean runtime in ms')\n",
    "pd.set_option('display.max_colwidth', 100)\n",
    "stmtMean = df.groupby(['statement']).mean()\n",
    "print(stmtMean)"
   ]
  },
  {
   "cell_type": "markdown",
   "metadata": {
    "id": "65921d7e7ae24b84a47ff8a91aeef3a1"
   },
   "source": [
    "We can also display the total runtime for each statement across databases."
   ]
  },
  {
   "cell_type": "code",
   "execution_count": null,
   "metadata": {
    "id": "0a47289cb5714f308b935cfbf35857c1"
   },
   "outputs": [],
   "source": [
    "print('Total runtime in ms')\n",
    "pd.set_option('display.max_colwidth', 100)\n",
    "stmtSum = df.groupby(['statement']).sum()\n",
    "print(stmtSum)"
   ]
  },
  {
   "cell_type": "markdown",
   "metadata": {
    "id": "6a6de05fb9464670962f20860d63771c"
   },
   "source": [
    "We can even graph the total run time for all the statements can compare database performance. Since there are more rows in the Db2 Warehouse database tables the statements may take longer to return a result. "
   ]
  },
  {
   "cell_type": "code",
   "execution_count": null,
   "metadata": {
    "id": "1c9314a34b204f839f787be1b87eebef"
   },
   "outputs": [],
   "source": [
    "print('Mean runtime in ms')\n",
    "pd.set_option('display.max_colwidth', 100)\n",
    "profileSum = df.groupby(['profile']).sum()\n",
    "profileSum.plot(kind='bar')\n",
    "plt.show()"
   ]
  },
  {
   "cell_type": "markdown",
   "metadata": {
    "id": "6d3e8ce2970e44f792e0cab8b0c86016"
   },
   "source": [
    "Of course you can also analyze the slowest database by using some simple dataframe functions. The slowest database has the maximum total elapsed runtime. "
   ]
  },
  {
   "cell_type": "code",
   "execution_count": null,
   "metadata": {
    "id": "afc7938c5e9a46b391d7981f2748de83"
   },
   "outputs": [],
   "source": [
    "print('Slowest Database')\n",
    "slowestProfile = profileSum['runtime_ms'].idxmax()\n",
    "print(slowestProfile)"
   ]
  },
  {
   "cell_type": "markdown",
   "metadata": {
    "id": "1b2adf1e6d46484295d2e2ece702a777"
   },
   "source": [
    "#### Additional Options\n",
    "Just like using the SQL Editor you can also specify whether to stop the script if it encounters and error or to continue. You can also specify the seperator character between individual statements. Here is the full function call with defaults and options:\n",
    "\n",
    "    runScript(profile, user, password, sqlText, limit=10, separator=';', stopOnError=False):"
   ]
  },
  {
   "cell_type": "markdown",
   "metadata": {
    "id": "d6a42b34f87049c39992aa83ce950096"
   },
   "source": [
    "#### ADMIN_CMD Commands and Calling Stored Procedures\n",
    "The SQL Editor can also be used to execute stored procedure calls. In this example, the procedure call updates statistics on the STOCKS.CUSTOMER table in the STOCKs OLTP database"
   ]
  },
  {
   "cell_type": "code",
   "execution_count": null,
   "metadata": {
    "id": "f69e9ec9dd9747f79a1ce9b10e503475"
   },
   "outputs": [],
   "source": [
    "sql = \\\n",
    "'''\n",
    "CALL SYSPROC.ADMIN_CMD ('RUNSTATS ON TABLE STOCKS.CUSTOMER ON KEY COLUMNS and INDEXES ALL'); \n",
    "'''\n",
    "user = 'admin'\n",
    "password = 'CP4DDataFabric'\n",
    "profile = 'db2oltp-1635953643145137'\n",
    "\n",
    "display(databaseAPI.runScript(profile, user, password, sql))"
   ]
  },
  {
   "cell_type": "markdown",
   "metadata": {
    "id": "3685889d-8908-4b11-aa62-e82fa2516cea"
   },
   "source": [
    "### Current Metrics Functions\n",
    "Now that you can run a workload to exercise Db2, you can measure what is going on. The following function calls let you see what applications are connected to the \"Ontime\" database, see any statements that are currently in-flight and see the frequently used statements stored in the Db2 package cache.\n",
    "\n",
    "The includeSystem parameter defines whether applications or statements generated by Db2 itself or the Db2 Console are included in the results. Let's include all statements. "
   ]
  },
  {
   "cell_type": "code",
   "execution_count": null,
   "metadata": {
    "id": "7e9dcddb-921f-40f8-8465-eb8de04dfd43"
   },
   "outputs": [],
   "source": [
    "includeSystem = \"true\""
   ]
  },
  {
   "cell_type": "markdown",
   "metadata": {
    "id": "568e3e44c55046dc808e3d8b64bddb8f"
   },
   "source": [
    "The next cells likes the applications that are currently connected to the database"
   ]
  },
  {
   "cell_type": "code",
   "execution_count": null,
   "metadata": {
    "id": "ef9481bd-5dfc-4f80-8d56-8d051bdab14f"
   },
   "outputs": [],
   "source": [
    "databaseAPI.getCurrentApplicationsConnections(includeSystem)"
   ]
  },
  {
   "cell_type": "markdown",
   "metadata": {
    "id": "6b5ba8bf6e8d4cbeb927c8eac76eb35d"
   },
   "source": [
    "This next cell lists any statements currently running"
   ]
  },
  {
   "cell_type": "code",
   "execution_count": null,
   "metadata": {
    "id": "c86b4f19-6cf3-43f0-8426-36cd3a2739f7"
   },
   "outputs": [],
   "source": [
    "databaseAPI.getInflightCurrentList(includeSystem)"
   ]
  },
  {
   "cell_type": "markdown",
   "metadata": {
    "id": "5cbc71b137e447cabd89b1eba8e9c342"
   },
   "source": [
    "Finally this example returns the list of every statement currently in the Db2 Package Cache. This gives a good representation of statements that are frequently used. "
   ]
  },
  {
   "cell_type": "code",
   "execution_count": null,
   "metadata": {
    "id": "77e62f16-95ba-49f0-85e1-c801ee4bfa08"
   },
   "outputs": [],
   "source": [
    "databaseAPI.getCurrentPackageCacheList(includeSystem).head(5)"
   ]
  },
  {
   "cell_type": "markdown",
   "metadata": {
    "id": "8a2f8acb-df7c-4ded-8228-f26c8fc3f75b"
   },
   "source": [
    "### Timeseries Monitoring Functions\n",
    "One of the key capabilities of the Db2 Console is that is collects historical monitoring information as timeseries data. Each of the examples below has a parallel page in the Db2 Console. \n",
    "\n",
    "The next set of functions returns monitoring data based on a start and endtime. \n",
    "\n",
    "The console and Db2 use EPOCH time, which is the number of milli-seconds since January 1st 1970. The cell below sets startTime and endTime. endTime is the current and end time. startTime is set to 12 hours earlier. "
   ]
  },
  {
   "cell_type": "code",
   "execution_count": null,
   "metadata": {
    "id": "1d029a23-e15d-424b-8191-e15daf57a1d1"
   },
   "outputs": [],
   "source": [
    "import time\n",
    "from datetime import date\n",
    "oneHour = 3600000\n",
    "endTime = int(time.time())*1000\n",
    "startTime = endTime-(oneHour*12)"
   ]
  },
  {
   "cell_type": "markdown",
   "metadata": {
    "id": "9883cb1c-e9c6-4c1f-a93e-c1dc13e2815e"
   },
   "source": [
    "#### Time Based Metrics - Summary Functions\n",
    "The following functions return a total summary of the number of user statements that have run over the last 12 hours as well as the average response time in ms over that same period. "
   ]
  },
  {
   "cell_type": "code",
   "execution_count": null,
   "metadata": {
    "id": "b1a1f95e-3e15-47bc-a407-d3cad407111e"
   },
   "outputs": [],
   "source": [
    "databaseAPI.getStatementsCount(startTime, endTime)"
   ]
  },
  {
   "cell_type": "code",
   "execution_count": null,
   "metadata": {
    "id": "670ff02c-fb6d-4dcb-8088-19f05b1a1c23",
    "scrolled": true
   },
   "outputs": [],
   "source": [
    "databaseAPI.getAverageResponseTime(startTime, endTime)"
   ]
  },
  {
   "cell_type": "markdown",
   "metadata": {
    "id": "0a8b03e6-0aab-4bb9-86d9-3b8b7435dcc6"
   },
   "source": [
    "#### Time Based Metrics - Interval Measurement Functions\n",
    "The following functions return a measurement for each monitoring interval over the last 12 hours. The examples below return average response time and total rows read during each monitoring interval. The last 5 intervals are displayed"
   ]
  },
  {
   "cell_type": "code",
   "execution_count": null,
   "metadata": {
    "id": "9984a05b-ea7b-402a-a4b2-8897bff94273",
    "scrolled": true
   },
   "outputs": [],
   "source": [
    "databaseAPI.getResponseTime(startTime, endTime).tail(5)"
   ]
  },
  {
   "cell_type": "code",
   "execution_count": null,
   "metadata": {
    "id": "62ec02f3-e132-4cdc-b60b-9789f485fa5f",
    "scrolled": true
   },
   "outputs": [],
   "source": [
    "databaseAPI.getRowsRead(startTime, endTime).tail(5)"
   ]
  },
  {
   "cell_type": "markdown",
   "metadata": {
    "id": "ba0b15ea-b4b4-4ecc-86f4-d7de58f30d5e"
   },
   "source": [
    "#### Time Based Metrics - Object Functions\n",
    "The following functions return monitoring data over the last 12 hours with a summary row for each object. The latest 5 entries are displayed. This first call returns metrics for tables used in the last 12 hours."
   ]
  },
  {
   "cell_type": "code",
   "execution_count": null,
   "metadata": {
    "id": "d5af5577-28a6-4716-8723-f6c55d8cf69a"
   },
   "outputs": [],
   "source": [
    "databaseAPI.getTablesMetrics(startTime, endTime, includeSystem).tail(5)"
   ]
  },
  {
   "cell_type": "markdown",
   "metadata": {
    "id": "47145afa131f4a3291b956a56bf21531"
   },
   "source": [
    "The next statement returns details of individual statements that ran over the last twelve hours. "
   ]
  },
  {
   "cell_type": "code",
   "execution_count": null,
   "metadata": {
    "id": "ae6900d6-da63-4822-8130-5e3f8f9d772d"
   },
   "outputs": [],
   "source": [
    "databaseAPI.getIndividualStatementExecution(startTime, endTime).tail(5)"
   ]
  },
  {
   "cell_type": "markdown",
   "metadata": {
    "id": "1fc77c8f308c4d759d65d69f8dc0b4c0"
   },
   "source": [
    "Finally this statement returns a history of the statements that were found in the package cache over the last 12 hours. "
   ]
  },
  {
   "cell_type": "code",
   "execution_count": null,
   "metadata": {
    "id": "8386c0b7-4697-425e-9745-4d7cdf9200c4"
   },
   "outputs": [],
   "source": [
    "databaseAPI.getPackageCacheStatement(startTime, endTime, includeSystem).tail(5)"
   ]
  },
  {
   "cell_type": "markdown",
   "metadata": {
    "id": "1a15f4df-45e1-4425-af6d-e64b2280dfc9"
   },
   "source": [
    "## What's Next\n",
    "Try creating your own workload in a seperate notebook that takes longer to run. Check out the ONTIME project for heavier workloads. You can even use the workload example above and increase the number of repetitions. In a seperate notebook, try running the monitoring functions or use the Db2 Console to see how Db2 responds under load.\n",
    "\n",
    "You can also explore the https://github.com/Db2-DTE-POC/CPDDVHOL4/blob/main/Db2ConsoleAPIClassforCPD.ipynb library. There are additional function calls you can explore and experiment with."
   ]
  },
  {
   "cell_type": "markdown",
   "metadata": {
    "id": "1f3e3bf6-d7fb-4aba-88d0-cdd7740b9b3f"
   },
   "source": [
    "#### Credits: IBM 2019-2021, Peter Kohlmann [kohlmann@ca.ibm.com]"
   ]
  }
 ],
 "metadata": {
  "kernelspec": {
   "display_name": "Python 3.9",
   "language": "python",
   "name": "python3"
  },
  "language_info": {
   "codemirror_mode": {
    "name": "ipython",
    "version": 3
   },
   "file_extension": ".py",
   "mimetype": "text/x-python",
   "name": "python",
   "nbconvert_exporter": "python",
   "pygments_lexer": "ipython3",
   "version": "3.9.7"
  }
 },
 "nbformat": 4,
 "nbformat_minor": 2
}
